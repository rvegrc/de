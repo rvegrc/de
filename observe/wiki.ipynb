{
 "cells": [
  {
   "cell_type": "code",
   "execution_count": null,
   "id": "f6c9ddde",
   "metadata": {},
   "outputs": [
    {
     "name": "stdout",
     "output_type": "stream",
     "text": [
      "Connected to PostgreSQL\n",
      "PostgreSQL version: ('PostgreSQL 17.5 (Ubuntu 17.5-1.pgdg22.04+1) on x86_64-pc-linux-gnu, compiled by gcc (Ubuntu 11.4.0-1ubuntu1~22.04) 11.4.0, 64-bit',)\n"
     ]
    }
   ],
   "source": [
    "import pandas as pd\n",
    "import psycopg2\n",
    "\n",
    "from dotenv import load_dotenv\n",
    "import os\n",
    "load_dotenv()\n",
    "\n",
    "\n",
    "WIKI_REPO_PATH = os.getenv('WIKI_REPO_PATH')\n",
    "\n",
    "WIKI_DB_HOST = os.getenv('WIKI_DB_HOST')\n",
    "WIKI_DB_NAME = os.getenv('WIKI_DB_NAME')\n",
    "WIKI_DB_PORT = os.getenv('WIKI_DB_PORT')\n",
    "WIKI_DB_USER = os.getenv('WIKI_DB_USER')\n",
    "WIKI_DB_PASS = os.getenv('WIKI_DB_PASS')\n",
    "\n",
    "\n",
    "# # Connect to PostgreSQL\n",
    "# def open_conn():\n",
    "#     '''Открытие подключения к БД в случае его разрыва'''\n",
    "#     return psycopg2.connect(\n",
    "#         dbname=WIKI_DB_NAME,\n",
    "#         user=WIKI_DB_USER,\n",
    "#         password=WIKI_DB_PASS,\n",
    "#         host=WIKI_DB_HOST,\n",
    "#         port=WIKI_DB_PORT\n",
    "#     )\n",
    "\n",
    "# Connect to PostgreSQL\n",
    "def conn_pg():\n",
    "    try:\n",
    "        conn = psycopg2.connect(\n",
    "            dbname=WIKI_DB_NAME,\n",
    "            user=WIKI_DB_USER,\n",
    "            password=WIKI_DB_PASS,\n",
    "            host=WIKI_DB_HOST,\n",
    "            port=WIKI_DB_PORT\n",
    "        )\n",
    "        print(\"Connected to PostgreSQL\")\n",
    "        cur = conn.cursor()\n",
    "        cur.execute('SELECT version()')\n",
    "        db_version = cur.fetchone()\n",
    "        print(\"PostgreSQL version:\", db_version)\n",
    "        cur.close()\n",
    "        conn.close()\n",
    "    except Exception as e:\n",
    "        print(f\"Error connecting to PostgreSQL: {e}\")\n",
    "        \n",
    "conn_pg()\n",
    "\n",
    "\n",
    "\n",
    "# # Open connection\n",
    "# conn = open_conn()\n"
   ]
  },
  {
   "cell_type": "code",
   "execution_count": null,
   "id": "1bcfe978",
   "metadata": {},
   "outputs": [],
   "source": [
    "conn = conn_pg()\n",
    "\n",
    "cur = conn.cursor()\n",
    "\n",
    "# fetch wiki pages paths\n",
    "cur.execute(\"SELECT path FROM public.pages;\")\n",
    "wiki_page_paths = pd.DataFrame(cur.fetchall(), columns=['wiki_page_path'])\n",
    "\n",
    "# fetch wiki assets paths\n",
    "cur.execute('''\n",
    "    WITH RECURSIVE folder_paths AS (\n",
    "        SELECT \n",
    "            id,\n",
    "            name dir_name,\n",
    "            slug,\n",
    "            \"parentId\",\n",
    "            name::text AS full_path\n",
    "        FROM \"assetFolders\"\n",
    "        WHERE \"parentId\" IS NULL\n",
    "        UNION ALL\n",
    "        SELECT \n",
    "            af.id,\n",
    "            af.name,\n",
    "            af.slug,\n",
    "            af.\"parentId\",\n",
    "            fp.full_path || '/' || af.name AS full_path\n",
    "        FROM \"assetFolders\" af\n",
    "        JOIN folder_paths fp ON af.\"parentId\" = fp.id\n",
    "    )\n",
    "    select\n",
    "        concat(fp.full_path, '/', a.filename) as path\n",
    "    from folder_paths fp\n",
    "    join public.assets a\n",
    "    on a.\"folderId\" = fp.id;\n",
    "''')\n",
    "\n",
    "wiki_asset_paths = pd.DataFrame(cur.fetchall(), columns=['wiki_asset_path'])\n",
    "\n"
   ]
  },
  {
   "cell_type": "code",
   "execution_count": 49,
   "id": "ad39b0c1",
   "metadata": {},
   "outputs": [
    {
     "data": {
      "application/vnd.microsoft.datawrangler.viewer.v0+json": {
       "columns": [
        {
         "name": "index",
         "rawType": "int64",
         "type": "integer"
        },
        {
         "name": "wiki_asset_path",
         "rawType": "object",
         "type": "string"
        }
       ],
       "ref": "c682fe1e-91fd-4467-b56d-3766ea11cd20",
       "rows": [
        [
         "0",
         "assets/silas/comm/0a77a6c15c85f60b517f06e05be7452b.jpg"
        ],
        [
         "1",
         "assets/silas/comm/0e432f756f9725ffaf0801faefd19c74.png"
        ],
        [
         "2",
         "assets/silas/comm/1000036249 1.jpg"
        ],
        [
         "3",
         "assets/silas/comm/1000036249.jpg"
        ],
        [
         "4",
         "assets/silas/comm/12121-3-350x350.jpg"
        ],
        [
         "5",
         "assets/silas/comm/12186c0c64d790375d66fd8f42b484f7.jpg"
        ],
        [
         "6",
         "assets/silas/comm/21bb007a45cf3f518995dabefa221d70.jpg"
        ],
        [
         "7",
         "assets/silas/comm/2657ed0174ae7b0dad8c0512a4f3f44f.png"
        ],
        [
         "8",
         "assets/silas/comm/2cca4da10ddb46141b91690012ef4d21.jpg"
        ],
        [
         "9",
         "assets/silas/comm/3212-1-768x432.jpg"
        ],
        [
         "10",
         "assets/silas/comm/334b7e3f38df9379b09f4e93e4b4b52c.png"
        ],
        [
         "11",
         "assets/silas/comm/4e090667db55cc68261127adffdd03ae.png"
        ],
        [
         "12",
         "assets/silas/comm/5068eb26733b3cc8227903d208671242.jpg"
        ],
        [
         "13",
         "assets/silas/comm/533d4a2a04773c6dfe35505b1d1eabdc.png"
        ],
        [
         "14",
         "assets/silas/comm/5806146c65b6aba1aec5a.jpg"
        ],
        [
         "15",
         "assets/silas/comm/633952645e6a56038ca9c696a9e8bbfb.jpg"
        ],
        [
         "16",
         "assets/silas/comm/6505e729b1292c2fb4a85eeaf3f5431c.jpg"
        ],
        [
         "17",
         "assets/silas/comm/69a719e717d4f29db2a51d5ec98f1e71.png"
        ],
        [
         "18",
         "assets/silas/comm/790c2d4b7328b7e82ec458910f4a6a1b.png"
        ],
        [
         "19",
         "assets/silas/comm/7e70dfbded27723b337bd185afda1de7.png"
        ],
        [
         "20",
         "assets/silas/comm/8bc4cb62e4263683053e27f812ed4e3b.jpg"
        ],
        [
         "21",
         "assets/silas/comm/8f01b17e0ee4e7d704056154a9d44a71.png"
        ],
        [
         "22",
         "assets/silas/comm/9cfe04e49ea294a9943c863f3bddb8c0.png"
        ],
        [
         "23",
         "assets/silas/comm/9f80fb95b5d24aeae1470b54afbd02a1.png"
        ],
        [
         "24",
         "assets/silas/comm/Stanislav_Lem__Summa_tehnologii 1.webp"
        ],
        [
         "25",
         "assets/silas/comm/Stanislav_Lem__Summa_tehnologii.webp"
        ],
        [
         "26",
         "assets/silas/comm/a32d5fbd44403772f3e6153bf5db7f14.png"
        ],
        [
         "27",
         "assets/silas/comm/a8df07b5dc2e930365eb12134215a1dc.png"
        ],
        [
         "28",
         "assets/silas/comm/b1d9434430bd52e667f299ec2135723e.png"
        ],
        [
         "29",
         "assets/silas/comm/b8634a0f23e2255110e72e037b0571a1.png"
        ],
        [
         "30",
         "assets/silas/comm/bcd0c152700556ff55bd00040e1307d8.png"
        ],
        [
         "31",
         "assets/silas/comm/c381cc83ccdfd5d0efadf1ff407bc487.png"
        ],
        [
         "32",
         "assets/silas/comm/c9d22db126083f881dd12d1bdbd836c2.jpg"
        ],
        [
         "33",
         "assets/silas/comm/cb7be6c3444d65faef76ee6dc5d970ec.png"
        ],
        [
         "34",
         "assets/silas/c_2/narodnaya-smehovaya-kultura-v-filosofii-m-m-bahtina.pdf"
        ],
        [
         "35",
         "assets/silas/c_2/Лекция_7_ИТОГ.docx"
        ],
        [
         "36",
         "assets/silas/comm/f543045869b7315d22b6f.jpg"
        ],
        [
         "37",
         "assets/silas/comm/fat-10.jpg"
        ],
        [
         "38",
         "assets/silas/comm/fat-11.jpg"
        ],
        [
         "39",
         "assets/silas/comm/fat-14.jpg"
        ],
        [
         "40",
         "assets/silas/comm/fat-15.jpg"
        ],
        [
         "41",
         "assets/silas/comm/file-20241206113308110.png"
        ],
        [
         "42",
         "assets/silas/comm/file-20241206154701260.png"
        ],
        [
         "43",
         "assets/silas/comm/file-20241206162255917.png"
        ],
        [
         "44",
         "assets/silas/comm/file-20241206162611401.png"
        ],
        [
         "45",
         "assets/silas/comm/file-20250101181055499.png"
        ],
        [
         "46",
         "assets/silas/comm/file-20250101182020372.png"
        ],
        [
         "47",
         "assets/silas/comm/file-20250315144302620.png"
        ],
        [
         "48",
         "assets/silas/comm/file-20250422172359696.png"
        ],
        [
         "49",
         "assets/silas/comm/file-20250424144015472.png"
        ]
       ],
       "shape": {
        "columns": 1,
        "rows": 810
       }
      },
      "text/html": [
       "<div>\n",
       "<style scoped>\n",
       "    .dataframe tbody tr th:only-of-type {\n",
       "        vertical-align: middle;\n",
       "    }\n",
       "\n",
       "    .dataframe tbody tr th {\n",
       "        vertical-align: top;\n",
       "    }\n",
       "\n",
       "    .dataframe thead th {\n",
       "        text-align: right;\n",
       "    }\n",
       "</style>\n",
       "<table border=\"1\" class=\"dataframe\">\n",
       "  <thead>\n",
       "    <tr style=\"text-align: right;\">\n",
       "      <th></th>\n",
       "      <th>wiki_asset_path</th>\n",
       "    </tr>\n",
       "  </thead>\n",
       "  <tbody>\n",
       "    <tr>\n",
       "      <th>0</th>\n",
       "      <td>assets/silas/comm/0a77a6c15c85f60b517f06e05be7...</td>\n",
       "    </tr>\n",
       "    <tr>\n",
       "      <th>1</th>\n",
       "      <td>assets/silas/comm/0e432f756f9725ffaf0801faefd1...</td>\n",
       "    </tr>\n",
       "    <tr>\n",
       "      <th>2</th>\n",
       "      <td>assets/silas/comm/1000036249 1.jpg</td>\n",
       "    </tr>\n",
       "    <tr>\n",
       "      <th>3</th>\n",
       "      <td>assets/silas/comm/1000036249.jpg</td>\n",
       "    </tr>\n",
       "    <tr>\n",
       "      <th>4</th>\n",
       "      <td>assets/silas/comm/12121-3-350x350.jpg</td>\n",
       "    </tr>\n",
       "    <tr>\n",
       "      <th>...</th>\n",
       "      <td>...</td>\n",
       "    </tr>\n",
       "    <tr>\n",
       "      <th>805</th>\n",
       "      <td>.obsidian/app.json</td>\n",
       "    </tr>\n",
       "    <tr>\n",
       "      <th>806</th>\n",
       "      <td>assets/pub/0bd6dd80c5c6e8286e30051dfbd24753.jpg</td>\n",
       "    </tr>\n",
       "    <tr>\n",
       "      <th>807</th>\n",
       "      <td>assets/pub/narodnaya-smehovaya-kultura-v-filos...</td>\n",
       "    </tr>\n",
       "    <tr>\n",
       "      <th>808</th>\n",
       "      <td>assets/silas/comm/cf3d86a23f6202a0d53b4048f1db...</td>\n",
       "    </tr>\n",
       "    <tr>\n",
       "      <th>809</th>\n",
       "      <td>assets/background.jpg</td>\n",
       "    </tr>\n",
       "  </tbody>\n",
       "</table>\n",
       "<p>810 rows × 1 columns</p>\n",
       "</div>"
      ],
      "text/plain": [
       "                                       wiki_asset_path\n",
       "0    assets/silas/comm/0a77a6c15c85f60b517f06e05be7...\n",
       "1    assets/silas/comm/0e432f756f9725ffaf0801faefd1...\n",
       "2                   assets/silas/comm/1000036249 1.jpg\n",
       "3                     assets/silas/comm/1000036249.jpg\n",
       "4                assets/silas/comm/12121-3-350x350.jpg\n",
       "..                                                 ...\n",
       "805                                 .obsidian/app.json\n",
       "806    assets/pub/0bd6dd80c5c6e8286e30051dfbd24753.jpg\n",
       "807  assets/pub/narodnaya-smehovaya-kultura-v-filos...\n",
       "808  assets/silas/comm/cf3d86a23f6202a0d53b4048f1db...\n",
       "809                              assets/background.jpg\n",
       "\n",
       "[810 rows x 1 columns]"
      ]
     },
     "execution_count": 49,
     "metadata": {},
     "output_type": "execute_result"
    }
   ],
   "source": [
    "wiki_asset_paths"
   ]
  },
  {
   "cell_type": "code",
   "execution_count": 52,
   "id": "370f387e",
   "metadata": {},
   "outputs": [],
   "source": [
    "# find all files ending with .md in the wiki repo\n",
    "import os\n",
    "def get_repo_paths(repo_path: str, file_ext: str='.md') -> pd.DataFrame:\n",
    "    \"\"\"Find all pages and assets in the repository path and return their relative paths. \n",
    "    Pages paths will have the file extension removed.\"\"\"\n",
    "    \n",
    "    repo_asset_paths = []\n",
    "    repo_page_paths = []\n",
    "    for root, dirs, files in os.walk(repo_path):\n",
    "        for file_name in files:\n",
    "            if root.endswith('assets'):\n",
    "                # replace \\ with /\n",
    "                file_path = file_path.replace('\\\\', '/')\n",
    "                # replace repo_path with empty string\n",
    "                file_path = file_path.replace(repo_path, '')\n",
    "                # remove leading slash\n",
    "                file_path = file_path.lstrip('/')\n",
    "                repo_asset_paths.append(file_path)\n",
    "            else:\n",
    "                if file_name.endswith(file_ext):\n",
    "                    # remove extension\n",
    "                    file_path = os.path.join(root, file_name)[:-len(file_ext)]\n",
    "                    # replace \\ with /\n",
    "                    file_path = file_path.replace('\\\\', '/')\n",
    "                    # replace repo_path with empty string\n",
    "                    file_path = file_path.replace(repo_path, '')\n",
    "                    # remove leading slash\n",
    "                    file_path = file_path.lstrip('/')\n",
    "                    repo_page_paths.append(file_path)\n",
    "    \n",
    "    repo_asset_paths = pd.DataFrame(repo_asset_paths, columns=['repo_asset_path'])\n",
    "    repo_page_paths = pd.DataFrame(repo_page_paths, columns=['repo_page_path'])\n",
    "\n",
    "    return repo_asset_paths, repo_page_paths"
   ]
  },
  {
   "cell_type": "code",
   "execution_count": 53,
   "id": "e833c8bf",
   "metadata": {},
   "outputs": [],
   "source": [
    "repo_asset_paths, repo_page_paths = get_repo_paths(WIKI_REPO_PATH)"
   ]
  },
  {
   "cell_type": "code",
   "execution_count": 55,
   "id": "0248fccf",
   "metadata": {},
   "outputs": [],
   "source": [
    "def get_missing_page_paths(repo_paths: pd.DataFrame, wiki_paths: pd.DataFrame, source: str) -> pd.DataFrame:\n",
    "    \"\"\"Find paths that are present in one of the dataframes but not in both.\"\"\"\n",
    "    merged_df = pd.merge(repo_paths, wiki_paths, left_on=f'repo_{source}_path', right_on=f'wiki_{source}_path', suffixes=('_repo', '_wiki'), how='outer')\n",
    "    \n",
    "    # list of paths with missing for both repo and wiki\n",
    "    missing_page_paths = merged_df[\n",
    "        (merged_df[f'repo_{source}_path'].isnull()) | (merged_df[f'wiki_{source}_path'].isnull())\n",
    "    ]\n",
    "    \n",
    "    return missing_page_paths"
   ]
  },
  {
   "cell_type": "code",
   "execution_count": 59,
   "id": "e09477c0",
   "metadata": {},
   "outputs": [],
   "source": [
    "page_errors = get_missing_page_paths(repo_page_paths, wiki_page_paths, 'page')\n",
    "asset_errors = get_missing_page_paths(repo_asset_paths, wiki_asset_paths, 'asset')"
   ]
  },
  {
   "cell_type": "code",
   "execution_count": 57,
   "id": "f9d14709",
   "metadata": {},
   "outputs": [
    {
     "data": {
      "application/vnd.microsoft.datawrangler.viewer.v0+json": {
       "columns": [
        {
         "name": "index",
         "rawType": "int64",
         "type": "integer"
        },
        {
         "name": "repo_page_path",
         "rawType": "object",
         "type": "string"
        },
        {
         "name": "wiki_page_path",
         "rawType": "object",
         "type": "unknown"
        }
       ],
       "ref": "57a8d998-519b-4b5e-9929-8f0b2a49bb13",
       "rows": [
        [
         "6",
         "Templates/note",
         null
        ],
        [
         "7",
         "assets/silas/c_2/Семь_тел_человека.excalidraw",
         null
        ],
        [
         "16",
         "Общее/Борьба_за_свободу_в эпоху_постмодерна",
         null
        ],
        [
         "28",
         "Общее/Как_быть_счастливым_в_разных культурах",
         null
        ],
        [
         "97",
         "Общее/Персоны/Аркадий_Гайдар",
         null
        ],
        [
         "111",
         "Общее/Персоны/Евгений_Смотрин",
         null
        ],
        [
         "117",
         "Общее/Персоны/Изабелла_Гуревич",
         null
        ],
        [
         "119",
         "Общее/Персоны/Иммануил_Великовский",
         null
        ],
        [
         "141",
         "Общее/Персоны/Сократ",
         null
        ]
       ],
       "shape": {
        "columns": 2,
        "rows": 9
       }
      },
      "text/html": [
       "<div>\n",
       "<style scoped>\n",
       "    .dataframe tbody tr th:only-of-type {\n",
       "        vertical-align: middle;\n",
       "    }\n",
       "\n",
       "    .dataframe tbody tr th {\n",
       "        vertical-align: top;\n",
       "    }\n",
       "\n",
       "    .dataframe thead th {\n",
       "        text-align: right;\n",
       "    }\n",
       "</style>\n",
       "<table border=\"1\" class=\"dataframe\">\n",
       "  <thead>\n",
       "    <tr style=\"text-align: right;\">\n",
       "      <th></th>\n",
       "      <th>repo_page_path</th>\n",
       "      <th>wiki_page_path</th>\n",
       "    </tr>\n",
       "  </thead>\n",
       "  <tbody>\n",
       "    <tr>\n",
       "      <th>6</th>\n",
       "      <td>Templates/note</td>\n",
       "      <td>NaN</td>\n",
       "    </tr>\n",
       "    <tr>\n",
       "      <th>7</th>\n",
       "      <td>assets/silas/c_2/Семь_тел_человека.excalidraw</td>\n",
       "      <td>NaN</td>\n",
       "    </tr>\n",
       "    <tr>\n",
       "      <th>16</th>\n",
       "      <td>Общее/Борьба_за_свободу_в эпоху_постмодерна</td>\n",
       "      <td>NaN</td>\n",
       "    </tr>\n",
       "    <tr>\n",
       "      <th>28</th>\n",
       "      <td>Общее/Как_быть_счастливым_в_разных культурах</td>\n",
       "      <td>NaN</td>\n",
       "    </tr>\n",
       "    <tr>\n",
       "      <th>97</th>\n",
       "      <td>Общее/Персоны/Аркадий_Гайдар</td>\n",
       "      <td>NaN</td>\n",
       "    </tr>\n",
       "    <tr>\n",
       "      <th>111</th>\n",
       "      <td>Общее/Персоны/Евгений_Смотрин</td>\n",
       "      <td>NaN</td>\n",
       "    </tr>\n",
       "    <tr>\n",
       "      <th>117</th>\n",
       "      <td>Общее/Персоны/Изабелла_Гуревич</td>\n",
       "      <td>NaN</td>\n",
       "    </tr>\n",
       "    <tr>\n",
       "      <th>119</th>\n",
       "      <td>Общее/Персоны/Иммануил_Великовский</td>\n",
       "      <td>NaN</td>\n",
       "    </tr>\n",
       "    <tr>\n",
       "      <th>141</th>\n",
       "      <td>Общее/Персоны/Сократ</td>\n",
       "      <td>NaN</td>\n",
       "    </tr>\n",
       "  </tbody>\n",
       "</table>\n",
       "</div>"
      ],
      "text/plain": [
       "                                    repo_page_path wiki_page_path\n",
       "6                                   Templates/note            NaN\n",
       "7    assets/silas/c_2/Семь_тел_человека.excalidraw            NaN\n",
       "16     Общее/Борьба_за_свободу_в эпоху_постмодерна            NaN\n",
       "28    Общее/Как_быть_счастливым_в_разных культурах            NaN\n",
       "97                    Общее/Персоны/Аркадий_Гайдар            NaN\n",
       "111                  Общее/Персоны/Евгений_Смотрин            NaN\n",
       "117                 Общее/Персоны/Изабелла_Гуревич            NaN\n",
       "119             Общее/Персоны/Иммануил_Великовский            NaN\n",
       "141                           Общее/Персоны/Сократ            NaN"
      ]
     },
     "execution_count": 57,
     "metadata": {},
     "output_type": "execute_result"
    }
   ],
   "source": [
    "page_errors"
   ]
  },
  {
   "cell_type": "code",
   "execution_count": 60,
   "id": "6236bb1e",
   "metadata": {},
   "outputs": [
    {
     "data": {
      "application/vnd.microsoft.datawrangler.viewer.v0+json": {
       "columns": [
        {
         "name": "index",
         "rawType": "int64",
         "type": "integer"
        },
        {
         "name": "repo_asset_path",
         "rawType": "object",
         "type": "unknown"
        },
        {
         "name": "wiki_asset_path",
         "rawType": "object",
         "type": "unknown"
        }
       ],
       "ref": "e7be5f70-608e-4a24-9f17-c18158299611",
       "rows": [
        [
         "0",
         null,
         ".obsidian/app.json"
        ],
        [
         "1",
         null,
         ".obsidian/appearance.json"
        ],
        [
         "2",
         null,
         ".obsidian/community-plugins.json"
        ],
        [
         "3",
         null,
         ".obsidian/core-plugins.json"
        ],
        [
         "4",
         null,
         "assets/background.jpg"
        ],
        [
         "5",
         null,
         "assets/fsd/file-20250226143026964.png"
        ],
        [
         "6",
         null,
         "assets/fsd/file-20250226143037571.png"
        ],
        [
         "7",
         null,
         "assets/fsd/file-20250226143047474.png"
        ],
        [
         "8",
         null,
         "assets/fsd/file-20250226143057667.png"
        ],
        [
         "9",
         null,
         "assets/fsd/file-20250226143111317.png"
        ],
        [
         "10",
         null,
         "assets/fsd/file-20250226143125643.png"
        ],
        [
         "11",
         null,
         "assets/fsd/file-20250226143237899.png"
        ],
        [
         "12",
         null,
         "assets/fsd/file-20250226143351197.png"
        ],
        [
         "13",
         null,
         "assets/fsd/file-20250226143618024.png"
        ],
        [
         "14",
         null,
         "assets/pub/048ff91feb417d2b832bfe38d1487ac5.jpg"
        ],
        [
         "15",
         null,
         "assets/pub/0a77a6c15c85f60b517f06e05be7452b.jpg"
        ],
        [
         "16",
         null,
         "assets/pub/0bd6dd80c5c6e8286e30051dfbd24753.jpg"
        ],
        [
         "17",
         null,
         "assets/pub/0e432f756f9725ffaf0801faefd19c74.png"
        ],
        [
         "18",
         null,
         "assets/pub/1-33.jpeg"
        ],
        [
         "19",
         null,
         "assets/pub/1000036249 1.jpg"
        ],
        [
         "20",
         null,
         "assets/pub/1000036249.jpg"
        ],
        [
         "21",
         null,
         "assets/pub/1012322648-22599057.jpg"
        ],
        [
         "22",
         null,
         "assets/pub/12186c0c64d790375d66fd8f42b484f7.jpg"
        ],
        [
         "23",
         null,
         "assets/pub/1537804785175272115.png"
        ],
        [
         "24",
         null,
         "assets/pub/15378048661832250.png"
        ],
        [
         "25",
         null,
         "assets/pub/1537804893197727852.png"
        ],
        [
         "26",
         null,
         "assets/pub/157b86cb1dcedd04cbf80ec57e6b0af6.png"
        ],
        [
         "27",
         null,
         "assets/pub/21bb007a45cf3f518995dabefa221d70.jpg"
        ],
        [
         "28",
         null,
         "assets/pub/2657ed0174ae7b0dad8c0512a4f3f44f.png"
        ],
        [
         "29",
         null,
         "assets/pub/2cca4da10ddb46141b91690012ef4d21.jpg"
        ],
        [
         "30",
         null,
         "assets/pub/334b7e3f38df9379b09f4e93e4b4b52c.png"
        ],
        [
         "31",
         null,
         "assets/pub/3f1e5eb9bf6bcb979195f1d7b65278fb.png"
        ],
        [
         "32",
         null,
         "assets/pub/447a08a37b6c369249fa93f3b1e816d3.jpg"
        ],
        [
         "33",
         null,
         "assets/pub/4e090667db55cc68261127adffdd03ae.png"
        ],
        [
         "34",
         null,
         "assets/pub/5068eb26733b3cc8227903d208671242.jpg"
        ],
        [
         "35",
         null,
         "assets/pub/533d4a2a04773c6dfe35505b1d1eabdc.png"
        ],
        [
         "36",
         null,
         "assets/pub/5806146c65b6aba1aec5a.jpg"
        ],
        [
         "37",
         null,
         "assets/pub/633952645e6a56038ca9c696a9e8bbfb.jpg"
        ],
        [
         "38",
         null,
         "assets/pub/6505e729b1292c2fb4a85eeaf3f5431c.jpg"
        ],
        [
         "39",
         null,
         "assets/pub/69a719e717d4f29db2a51d5ec98f1e71.png"
        ],
        [
         "40",
         null,
         "assets/pub/790c2d4b7328b7e82ec458910f4a6a1b.png"
        ],
        [
         "41",
         null,
         "assets/pub/7e70dfbded27723b337bd185afda1de7.png"
        ],
        [
         "42",
         null,
         "assets/pub/8bc4cb62e4263683053e27f812ed4e3b.jpg"
        ],
        [
         "43",
         null,
         "assets/pub/8f01b17e0ee4e7d704056154a9d44a71.png"
        ],
        [
         "44",
         null,
         "assets/pub/9cfe04e49ea294a9943c863f3bddb8c0.png"
        ],
        [
         "45",
         null,
         "assets/pub/9f80fb95b5d24aeae1470b54afbd02a1.png"
        ],
        [
         "46",
         null,
         "assets/pub/Stanislav_Lem__Summa_tehnologii 1.webp"
        ],
        [
         "47",
         null,
         "assets/pub/Stanislav_Lem__Summa_tehnologii.webp"
        ],
        [
         "48",
         null,
         "assets/pub/a32d5fbd44403772f3e6153bf5db7f14.png"
        ],
        [
         "49",
         null,
         "assets/pub/a8df07b5dc2e930365eb12134215a1dc.png"
        ]
       ],
       "shape": {
        "columns": 2,
        "rows": 811
       }
      },
      "text/html": [
       "<div>\n",
       "<style scoped>\n",
       "    .dataframe tbody tr th:only-of-type {\n",
       "        vertical-align: middle;\n",
       "    }\n",
       "\n",
       "    .dataframe tbody tr th {\n",
       "        vertical-align: top;\n",
       "    }\n",
       "\n",
       "    .dataframe thead th {\n",
       "        text-align: right;\n",
       "    }\n",
       "</style>\n",
       "<table border=\"1\" class=\"dataframe\">\n",
       "  <thead>\n",
       "    <tr style=\"text-align: right;\">\n",
       "      <th></th>\n",
       "      <th>repo_asset_path</th>\n",
       "      <th>wiki_asset_path</th>\n",
       "    </tr>\n",
       "  </thead>\n",
       "  <tbody>\n",
       "    <tr>\n",
       "      <th>0</th>\n",
       "      <td>NaN</td>\n",
       "      <td>.obsidian/app.json</td>\n",
       "    </tr>\n",
       "    <tr>\n",
       "      <th>1</th>\n",
       "      <td>NaN</td>\n",
       "      <td>.obsidian/appearance.json</td>\n",
       "    </tr>\n",
       "    <tr>\n",
       "      <th>2</th>\n",
       "      <td>NaN</td>\n",
       "      <td>.obsidian/community-plugins.json</td>\n",
       "    </tr>\n",
       "    <tr>\n",
       "      <th>3</th>\n",
       "      <td>NaN</td>\n",
       "      <td>.obsidian/core-plugins.json</td>\n",
       "    </tr>\n",
       "    <tr>\n",
       "      <th>4</th>\n",
       "      <td>NaN</td>\n",
       "      <td>assets/background.jpg</td>\n",
       "    </tr>\n",
       "    <tr>\n",
       "      <th>...</th>\n",
       "      <td>...</td>\n",
       "      <td>...</td>\n",
       "    </tr>\n",
       "    <tr>\n",
       "      <th>806</th>\n",
       "      <td>NaN</td>\n",
       "      <td>cache/ff22d3be46d27342760e9f9f63777cd444c7b847...</td>\n",
       "    </tr>\n",
       "    <tr>\n",
       "      <th>807</th>\n",
       "      <td>NaN</td>\n",
       "      <td>cache/ff73d07ced1b42d7b4e9f99569e0291023730028...</td>\n",
       "    </tr>\n",
       "    <tr>\n",
       "      <th>808</th>\n",
       "      <td>NaN</td>\n",
       "      <td>cache/ffeb16411a47b2912892d31b8b46662c574eda7c...</td>\n",
       "    </tr>\n",
       "    <tr>\n",
       "      <th>809</th>\n",
       "      <td>home</td>\n",
       "      <td>NaN</td>\n",
       "    </tr>\n",
       "    <tr>\n",
       "      <th>810</th>\n",
       "      <td>NaN</td>\n",
       "      <td>secure/git-ssh.pem</td>\n",
       "    </tr>\n",
       "  </tbody>\n",
       "</table>\n",
       "<p>811 rows × 2 columns</p>\n",
       "</div>"
      ],
      "text/plain": [
       "    repo_asset_path                                    wiki_asset_path\n",
       "0               NaN                                 .obsidian/app.json\n",
       "1               NaN                          .obsidian/appearance.json\n",
       "2               NaN                   .obsidian/community-plugins.json\n",
       "3               NaN                        .obsidian/core-plugins.json\n",
       "4               NaN                              assets/background.jpg\n",
       "..              ...                                                ...\n",
       "806             NaN  cache/ff22d3be46d27342760e9f9f63777cd444c7b847...\n",
       "807             NaN  cache/ff73d07ced1b42d7b4e9f99569e0291023730028...\n",
       "808             NaN  cache/ffeb16411a47b2912892d31b8b46662c574eda7c...\n",
       "809            home                                                NaN\n",
       "810             NaN                                 secure/git-ssh.pem\n",
       "\n",
       "[811 rows x 2 columns]"
      ]
     },
     "execution_count": 60,
     "metadata": {},
     "output_type": "execute_result"
    }
   ],
   "source": [
    "asset_errors"
   ]
  }
 ],
 "metadata": {
  "kernelspec": {
   "display_name": "de",
   "language": "python",
   "name": "python3"
  },
  "language_info": {
   "codemirror_mode": {
    "name": "ipython",
    "version": 3
   },
   "file_extension": ".py",
   "mimetype": "text/x-python",
   "name": "python",
   "nbconvert_exporter": "python",
   "pygments_lexer": "ipython3",
   "version": "3.12.11"
  }
 },
 "nbformat": 4,
 "nbformat_minor": 5
}
