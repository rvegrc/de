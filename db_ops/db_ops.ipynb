{
 "cells": [
  {
   "cell_type": "code",
   "execution_count": 1,
   "id": "33d7172d",
   "metadata": {},
   "outputs": [],
   "source": [
    "import psycopg2\n",
    "import clickhouse_connect\n",
    "import pandas as pd\n",
    "import os\n",
    "import sys\n",
    "\n",
    "\n",
    "# Подключение к PostgreSQL\n",
    "def conn_pg():\n",
    "    try:\n",
    "        conn = psycopg2.connect(\n",
    "            host=\"localhost\",\n",
    "            database=\"dbpg\",\n",
    "            user=\"user\",\n",
    "            password=\"password\",\n",
    "            port=5432\n",
    "        )\n",
    "        # print(\"Connected to PostgreSQL\")\n",
    "        # cur = conn.cursor()\n",
    "        # cur.execute(query)\n",
    "        # output = cur.fetchall()\n",
    "        # print(\"PostgreSQL version:\", db_version)\n",
    "        # if output:\n",
    "        #     return\n",
    "        # else:\n",
    "        #     print(\"No output from the query\")\n",
    "        return conn    \n",
    "    except Exception as e:\n",
    "        print(f\"Error connecting to PostgreSQL: {e}\")\n",
    "    \n",
    "def conn_pg_close(conn):\n",
    "    if conn:\n",
    "        cur = conn.cursor()\n",
    "        cur.close()\n",
    "        conn.close()\n",
    "        # print(\"PostgreSQL connection closed\")\n",
    "\n",
    "\n",
    "# Подключение к ClickHouse\n",
    "client = clickhouse_connect.get_client(\n",
    "            host='localhost'\n",
    "            ,username='user'\n",
    "            ,password='password'\n",
    "            ,database='dbch'\n",
    "            ,port=8123\n",
    "            )\n",
    "        # print(\"Connected to ClickHouse\")\n",
    "        # version = client.command('SELECT version()')\n",
    "\n",
    "        # print(\"ClickHouse version:\", version)\n",
    "\n",
    "\n",
    "# import tools\n",
    "# Get the parent directory\n",
    "parent_dir = os.path.abspath(os.path.join(os.getcwd(), \"../..\")) # for subfolder\n",
    "\n",
    "# find tools in parent dir\n",
    "if os.path.isdir(os.path.join(parent_dir, 'tools')):\n",
    "    # Add parent directory to sys.path if found\n",
    "    sys.path.append(parent_dir)\n",
    "    \n",
    "else:\n",
    "    # for run in spark\n",
    "    parent_dir = os.path.abspath(os.path.join(os.getcwd(), \"../airflow/airflow_data\"))\n",
    "    \n",
    "    # Add parent directory to sys.path\n",
    "    sys.path.append(parent_dir)\n",
    "\n",
    "\n",
    "from tools import pd_tools\n",
    "from tools.paths import Paths\n",
    "from tools.db_tools import DbTools\n",
    "\n",
    "\n",
    "# import paths\n",
    "root_path = '..' # for local folder\n",
    "paths = Paths(root_path)\n",
    "data_path = paths.data_path\n",
    "tmp_path = paths.tmp_path\n",
    "prod_data_path = paths.prod_data_path\n",
    "dev_data_path = paths.dev_data_path\n",
    "prod_db = paths.prod_db\n",
    "dev_db = paths.dev_db\n",
    "tmp_db = paths.tmp_db\n",
    "tmp_data_path = paths.tmp_data_path\n",
    "\n",
    "db_tools = DbTools(data_path, tmp_path, client)"
   ]
  },
  {
   "cell_type": "code",
   "execution_count": 2,
   "id": "93a74632",
   "metadata": {},
   "outputs": [
    {
     "name": "stderr",
     "output_type": "stream",
     "text": [
      "C:\\Users\\pmz\\AppData\\Local\\Temp\\ipykernel_19620\\3635358273.py:1: DtypeWarning: Columns (2,12,13,14,17,19,20,32,35,36,37,40,44) have mixed types. Specify dtype option on import or set low_memory=False.\n",
      "  raw_data = pd.read_csv(f'{data_path}/data-9-structure-4.csv')\n"
     ]
    },
    {
     "data": {
      "application/vnd.microsoft.datawrangler.viewer.v0+json": {
       "columns": [
        {
         "name": "index",
         "rawType": "int64",
         "type": "integer"
        },
        {
         "name": "Название фильма",
         "rawType": "object",
         "type": "string"
        },
        {
         "name": "Hаименование на иностранном языке",
         "rawType": "object",
         "type": "unknown"
        },
        {
         "name": "Номер удостоверения",
         "rawType": "object",
         "type": "string"
        },
        {
         "name": "Дата регистрации удостоверения",
         "rawType": "object",
         "type": "string"
        },
        {
         "name": "Дата начала показа фильма",
         "rawType": "object",
         "type": "unknown"
        },
        {
         "name": "Примечание",
         "rawType": "object",
         "type": "unknown"
        },
        {
         "name": "Идентификатор записи реестра",
         "rawType": "int64",
         "type": "integer"
        },
        {
         "name": "Аннотация",
         "rawType": "object",
         "type": "unknown"
        },
        {
         "name": "Вид Фильма",
         "rawType": "object",
         "type": "string"
        },
        {
         "name": "Категория",
         "rawType": "object",
         "type": "string"
        },
        {
         "name": "Язык оригинала",
         "rawType": "float64",
         "type": "float"
        },
        {
         "name": "Формат кадра",
         "rawType": "object",
         "type": "unknown"
        },
        {
         "name": "Количество серий",
         "rawType": "object",
         "type": "unknown"
        },
        {
         "name": "Метраж (для фильмов на кинопленке)",
         "rawType": "object",
         "type": "unknown"
        },
        {
         "name": "Количество частей/рулонов (для фильмов на кинопленке)",
         "rawType": "object",
         "type": "unknown"
        },
        {
         "name": "Цвет",
         "rawType": "object",
         "type": "string"
        },
        {
         "name": "Продолжительность демонстрации, часы",
         "rawType": "float64",
         "type": "float"
        },
        {
         "name": "Продолжительность демонстрации, минуты",
         "rawType": "object",
         "type": "unknown"
        },
        {
         "name": "Формат носителя",
         "rawType": "object",
         "type": "unknown"
        },
        {
         "name": "Объем носителя",
         "rawType": "object",
         "type": "unknown"
        },
        {
         "name": "Единица измерения",
         "rawType": "object",
         "type": "unknown"
        },
        {
         "name": "Студия-производитель",
         "rawType": "object",
         "type": "string"
        },
        {
         "name": "Страна производства",
         "rawType": "object",
         "type": "string"
        },
        {
         "name": "Год производства",
         "rawType": "object",
         "type": "string"
        },
        {
         "name": "Режиссер",
         "rawType": "object",
         "type": "string"
        },
        {
         "name": "Художник",
         "rawType": "object",
         "type": "string"
        },
        {
         "name": "Сценарист",
         "rawType": "object",
         "type": "string"
        },
        {
         "name": "Оператор",
         "rawType": "object",
         "type": "string"
        },
        {
         "name": "Композитор",
         "rawType": "object",
         "type": "string"
        },
        {
         "name": "Продюсер",
         "rawType": "object",
         "type": "string"
        },
        {
         "name": "Права на использование фильма",
         "rawType": "object",
         "type": "string"
        },
        {
         "name": "Категория прав на использование фильма",
         "rawType": "object",
         "type": "string"
        },
        {
         "name": "Срок действия прав на использование фильма",
         "rawType": "object",
         "type": "unknown"
        },
        {
         "name": "Срок действия прав на способ использования фильма",
         "rawType": "object",
         "type": "string"
        },
        {
         "name": "Возрастная категория",
         "rawType": "object",
         "type": "string"
        },
        {
         "name": "Возрастная категория.1",
         "rawType": "object",
         "type": "string"
        },
        {
         "name": "Дубляж (где дублирован)",
         "rawType": "object",
         "type": "unknown"
        },
        {
         "name": "Срок действия прав проката до",
         "rawType": "object",
         "type": "unknown"
        },
        {
         "name": "Код",
         "rawType": "object",
         "type": "string"
        },
        {
         "name": "Права проката переданы",
         "rawType": "object",
         "type": "unknown"
        },
        {
         "name": "Порядковый номер переоформления/продления",
         "rawType": "object",
         "type": "unknown"
        },
        {
         "name": "Должность подписанта",
         "rawType": "object",
         "type": "string"
        },
        {
         "name": "ФИО подписанта",
         "rawType": "object",
         "type": "string"
        },
        {
         "name": "Запись удалена",
         "rawType": "float64",
         "type": "float"
        },
        {
         "name": "Дата удаления записи",
         "rawType": "object",
         "type": "unknown"
        },
        {
         "name": "Не показывать на сайте mkrf.ru",
         "rawType": "float64",
         "type": "float"
        },
        {
         "name": "дата создания объекта",
         "rawType": "object",
         "type": "string"
        },
        {
         "name": "дата обновления объекта",
         "rawType": "object",
         "type": "string"
        }
       ],
       "ref": "d916b0ac-c24f-40f4-a529-55a760178f3d",
       "rows": [
        [
         "0",
         "Рок’89",
         null,
         "211004124",
         "2024-01-30T12:00:00.000Z",
         null,
         null,
         "10003030",
         null,
         " Художественный",
         "Видео",
         null,
         null,
         "1.0",
         null,
         null,
         "Цветной",
         "0.0",
         "17.0",
         "DVD – диск",
         null,
         null,
         "Беликова Надежда Александровна",
         "Россия",
         "2023",
         "Н.Беликова",
         "А.Титорова, В.Титоров",
         "О.Басс, В.Плохов, Ю.Линде",
         "М.Шутов",
         "П.Грачёв, А.Ануфриев, В.Полякова",
         "Н.Беликова",
         "Беликова Надежда Александровна",
         "Прокат фильма на материальном носителе, показ фильма другими техническими способами",
         null,
         "На срок действия авторского права на фильм",
         "«18+» запрещено для детей",
         "18",
         null,
         null,
         "[]",
         null,
         null,
         "Первый заместитель Министра",
         "С.Г. Обрывалин",
         null,
         null,
         null,
         "2024-01-30T15:41:59+03:00",
         "2024-02-05T14:17:27+03:00"
        ],
        [
         "1",
         "Мама будет против",
         null,
         "211004024",
         "2024-01-30T12:00:00.000Z",
         "2024-02-01T12:00:00.000Z",
         null,
         "10003032",
         "Комедия",
         " Художественный",
         "Видео",
         null,
         "16:9",
         "13.0",
         null,
         null,
         "Цветной",
         "5.0",
         "7.0",
         null,
         null,
         null,
         "ООО \"Продюсерская компания \"Уральские Пельмени\"",
         "Россия",
         "2023",
         "А.Румынский",
         "Е.Кравцов",
         "Д.Тарасов, Е.Гордеева",
         "И.Бархварт",
         "А.Захаров, Е.Голотенко",
         "С.Ершов",
         "ООО \"Продюсерская компания \"Уральские Пельмени\"",
         "Показ фильма в кинозале, прокат фильма на материальном носителе, показ фильма другими техническими способами",
         null,
         "На срок действия авторского права на фильм",
         "«16+» для детей старше 16 лет",
         "16",
         null,
         null,
         "[]",
         null,
         null,
         "Первый заместитель Министра",
         "С.Г. Обрывалин",
         null,
         null,
         null,
         "2024-01-30T15:42:13+03:00",
         "2024-02-05T18:23:14+03:00"
        ],
        [
         "2",
         "ДЕВЯТЬ С ПОЛОВИНОЙ НЕДЕЛЬ",
         "9 1/2 WEEKS",
         "221005424",
         "2024-01-30T12:00:00.000Z",
         "2024-02-02T12:00:00.000Z",
         null,
         "10003203",
         null,
         " Художественный",
         "Видео",
         null,
         null,
         "1.0",
         null,
         null,
         "Цветной",
         "1.0",
         "52.0",
         "DVD – диск",
         null,
         null,
         "Джоунсфилм, Галактик Филмс, Трипл Эйджакс",
         "США",
         "1986",
         "Эдриан Лайн",
         "Кен Дэвис",
         "Патришия Луизианна Ноп, Залман Кинг, Сара Кернокан",
         "Питер Бижу",
         "Джек Ницше",
         "Марк Дэймон, Сидни Киммел, Залман Кинг, Энтони Руфус-Исаак",
         "ООО \"АЛЯСКАФИЛЬМ\"",
         "Показ фильма другими техническими способами",
         null,
         "30.11.2026 г.",
         "«18+» запрещено для детей",
         "18",
         null,
         null,
         "[]",
         null,
         null,
         "Первый заместитель Министра",
         "С.Г. Обрывалин",
         null,
         null,
         null,
         "2024-01-30T16:08:51+03:00",
         "2024-02-06T12:12:04+03:00"
        ],
        [
         "3",
         "Как я встретил её маму",
         null,
         "111001324",
         "2024-01-30T12:00:00.000Z",
         null,
         null,
         "10003265",
         null,
         " Художественный",
         "Кино",
         null,
         "1:2,39",
         "1.0",
         null,
         null,
         "Цветной",
         "1.0",
         "29.0",
         "HDD",
         "1,2",
         "Тб",
         "АО \"ТПО \"Киностудия им.М.Горького\"",
         "Россия",
         "2023",
         "Е.Сальников",
         "Е.Лизогубова",
         "Л.Айрапетян",
         "Д.Шебунин",
         "А.Канцыру, О.Шайдуллина",
         "Н.Харыбина",
         "АО \"ТПО \"Киностудия им.М.Горького\"",
         "Показ фильма в кинозале, прокат фильма на материальном носителе, показ фильма другими техническими способами",
         null,
         "На срок действия авторского права на фильм",
         "«12+» для детей старше 12 лет",
         "12",
         null,
         null,
         "[{\"rightsCategoryUse\":{\"code\":\"01\",\"name\":\"Показ фильма в кинозале\"},\"rentalRightsTransferred\":\"ООО \\\"Атмосфера кино\\\"\",\"rentalRightsTransferrPeriod\":\"с 09.05.2024 г. по 08.05.2025 г.\"}]",
         null,
         null,
         "Первый заместитель Министра",
         "С.Г. Обрывалин",
         null,
         null,
         null,
         "2024-01-30T16:20:44+03:00",
         "2024-03-26T14:41:20+03:00"
        ],
        [
         "4",
         "Миссия в Москве",
         "Mo Si Ke xing dong",
         "121002924",
         "2024-01-30T12:00:00.000Z",
         "2024-02-08T12:00:00.000Z",
         null,
         "10003499",
         null,
         " Художественный",
         "Кино",
         null,
         null,
         "1.0",
         null,
         null,
         "Цветной",
         "2.0",
         "2.0",
         "HDD",
         null,
         null,
         "СМС Пикчерс",
         "КНР",
         "2023",
         "Герман Яу",
         "Чжао Хай, Ли Чжоу",
         "Чэнь Дамин",
         "Джо Чань",
         "Мак Чунь-Хун",
         "Мин Бивер Квэй, Максим Аджави",
         "ООО \"СБ ФИЛЬМ\"",
         "Показ фильма в кинозале, прокат фильма на материальном носителе, показ фильма другими техническими способами",
         null,
         "02.09.2028",
         "«18+» запрещено для детей",
         "18",
         null,
         null,
         "[]",
         null,
         null,
         "Первый заместитель Министра",
         "С.Г. Обрывалин",
         null,
         null,
         null,
         "2024-01-30T18:10:00+03:00",
         "2024-01-30T18:10:00+03:00"
        ]
       ],
       "shape": {
        "columns": 48,
        "rows": 5
       }
      },
      "text/html": [
       "<div>\n",
       "<style scoped>\n",
       "    .dataframe tbody tr th:only-of-type {\n",
       "        vertical-align: middle;\n",
       "    }\n",
       "\n",
       "    .dataframe tbody tr th {\n",
       "        vertical-align: top;\n",
       "    }\n",
       "\n",
       "    .dataframe thead th {\n",
       "        text-align: right;\n",
       "    }\n",
       "</style>\n",
       "<table border=\"1\" class=\"dataframe\">\n",
       "  <thead>\n",
       "    <tr style=\"text-align: right;\">\n",
       "      <th></th>\n",
       "      <th>Название фильма</th>\n",
       "      <th>Hаименование на иностранном языке</th>\n",
       "      <th>Номер удостоверения</th>\n",
       "      <th>Дата регистрации удостоверения</th>\n",
       "      <th>Дата начала показа фильма</th>\n",
       "      <th>Примечание</th>\n",
       "      <th>Идентификатор записи реестра</th>\n",
       "      <th>Аннотация</th>\n",
       "      <th>Вид Фильма</th>\n",
       "      <th>Категория</th>\n",
       "      <th>...</th>\n",
       "      <th>Код</th>\n",
       "      <th>Права проката переданы</th>\n",
       "      <th>Порядковый номер переоформления/продления</th>\n",
       "      <th>Должность подписанта</th>\n",
       "      <th>ФИО подписанта</th>\n",
       "      <th>Запись удалена</th>\n",
       "      <th>Дата удаления записи</th>\n",
       "      <th>Не показывать на сайте mkrf.ru</th>\n",
       "      <th>дата создания объекта</th>\n",
       "      <th>дата обновления объекта</th>\n",
       "    </tr>\n",
       "  </thead>\n",
       "  <tbody>\n",
       "    <tr>\n",
       "      <th>0</th>\n",
       "      <td>Рок’89</td>\n",
       "      <td>NaN</td>\n",
       "      <td>211004124</td>\n",
       "      <td>2024-01-30T12:00:00.000Z</td>\n",
       "      <td>NaN</td>\n",
       "      <td>NaN</td>\n",
       "      <td>10003030</td>\n",
       "      <td>NaN</td>\n",
       "      <td>Художественный</td>\n",
       "      <td>Видео</td>\n",
       "      <td>...</td>\n",
       "      <td>[]</td>\n",
       "      <td>NaN</td>\n",
       "      <td>NaN</td>\n",
       "      <td>Первый заместитель Министра</td>\n",
       "      <td>С.Г. Обрывалин</td>\n",
       "      <td>NaN</td>\n",
       "      <td>NaN</td>\n",
       "      <td>NaN</td>\n",
       "      <td>2024-01-30T15:41:59+03:00</td>\n",
       "      <td>2024-02-05T14:17:27+03:00</td>\n",
       "    </tr>\n",
       "    <tr>\n",
       "      <th>1</th>\n",
       "      <td>Мама будет против</td>\n",
       "      <td>NaN</td>\n",
       "      <td>211004024</td>\n",
       "      <td>2024-01-30T12:00:00.000Z</td>\n",
       "      <td>2024-02-01T12:00:00.000Z</td>\n",
       "      <td>NaN</td>\n",
       "      <td>10003032</td>\n",
       "      <td>Комедия</td>\n",
       "      <td>Художественный</td>\n",
       "      <td>Видео</td>\n",
       "      <td>...</td>\n",
       "      <td>[]</td>\n",
       "      <td>NaN</td>\n",
       "      <td>NaN</td>\n",
       "      <td>Первый заместитель Министра</td>\n",
       "      <td>С.Г. Обрывалин</td>\n",
       "      <td>NaN</td>\n",
       "      <td>NaN</td>\n",
       "      <td>NaN</td>\n",
       "      <td>2024-01-30T15:42:13+03:00</td>\n",
       "      <td>2024-02-05T18:23:14+03:00</td>\n",
       "    </tr>\n",
       "    <tr>\n",
       "      <th>2</th>\n",
       "      <td>ДЕВЯТЬ С ПОЛОВИНОЙ НЕДЕЛЬ</td>\n",
       "      <td>9 1/2 WEEKS</td>\n",
       "      <td>221005424</td>\n",
       "      <td>2024-01-30T12:00:00.000Z</td>\n",
       "      <td>2024-02-02T12:00:00.000Z</td>\n",
       "      <td>NaN</td>\n",
       "      <td>10003203</td>\n",
       "      <td>NaN</td>\n",
       "      <td>Художественный</td>\n",
       "      <td>Видео</td>\n",
       "      <td>...</td>\n",
       "      <td>[]</td>\n",
       "      <td>NaN</td>\n",
       "      <td>NaN</td>\n",
       "      <td>Первый заместитель Министра</td>\n",
       "      <td>С.Г. Обрывалин</td>\n",
       "      <td>NaN</td>\n",
       "      <td>NaN</td>\n",
       "      <td>NaN</td>\n",
       "      <td>2024-01-30T16:08:51+03:00</td>\n",
       "      <td>2024-02-06T12:12:04+03:00</td>\n",
       "    </tr>\n",
       "    <tr>\n",
       "      <th>3</th>\n",
       "      <td>Как я встретил её маму</td>\n",
       "      <td>NaN</td>\n",
       "      <td>111001324</td>\n",
       "      <td>2024-01-30T12:00:00.000Z</td>\n",
       "      <td>NaN</td>\n",
       "      <td>NaN</td>\n",
       "      <td>10003265</td>\n",
       "      <td>NaN</td>\n",
       "      <td>Художественный</td>\n",
       "      <td>Кино</td>\n",
       "      <td>...</td>\n",
       "      <td>[{\"rightsCategoryUse\":{\"code\":\"01\",\"name\":\"Пок...</td>\n",
       "      <td>NaN</td>\n",
       "      <td>NaN</td>\n",
       "      <td>Первый заместитель Министра</td>\n",
       "      <td>С.Г. Обрывалин</td>\n",
       "      <td>NaN</td>\n",
       "      <td>NaN</td>\n",
       "      <td>NaN</td>\n",
       "      <td>2024-01-30T16:20:44+03:00</td>\n",
       "      <td>2024-03-26T14:41:20+03:00</td>\n",
       "    </tr>\n",
       "    <tr>\n",
       "      <th>4</th>\n",
       "      <td>Миссия в Москве</td>\n",
       "      <td>Mo Si Ke xing dong</td>\n",
       "      <td>121002924</td>\n",
       "      <td>2024-01-30T12:00:00.000Z</td>\n",
       "      <td>2024-02-08T12:00:00.000Z</td>\n",
       "      <td>NaN</td>\n",
       "      <td>10003499</td>\n",
       "      <td>NaN</td>\n",
       "      <td>Художественный</td>\n",
       "      <td>Кино</td>\n",
       "      <td>...</td>\n",
       "      <td>[]</td>\n",
       "      <td>NaN</td>\n",
       "      <td>NaN</td>\n",
       "      <td>Первый заместитель Министра</td>\n",
       "      <td>С.Г. Обрывалин</td>\n",
       "      <td>NaN</td>\n",
       "      <td>NaN</td>\n",
       "      <td>NaN</td>\n",
       "      <td>2024-01-30T18:10:00+03:00</td>\n",
       "      <td>2024-01-30T18:10:00+03:00</td>\n",
       "    </tr>\n",
       "  </tbody>\n",
       "</table>\n",
       "<p>5 rows × 48 columns</p>\n",
       "</div>"
      ],
      "text/plain": [
       "             Название фильма Hаименование на иностранном языке  \\\n",
       "0                     Рок’89                               NaN   \n",
       "1          Мама будет против                               NaN   \n",
       "2  ДЕВЯТЬ С ПОЛОВИНОЙ НЕДЕЛЬ                       9 1/2 WEEKS   \n",
       "3     Как я встретил её маму                               NaN   \n",
       "4            Миссия в Москве                Mo Si Ke xing dong   \n",
       "\n",
       "  Номер удостоверения Дата регистрации удостоверения  \\\n",
       "0           211004124       2024-01-30T12:00:00.000Z   \n",
       "1           211004024       2024-01-30T12:00:00.000Z   \n",
       "2           221005424       2024-01-30T12:00:00.000Z   \n",
       "3           111001324       2024-01-30T12:00:00.000Z   \n",
       "4           121002924       2024-01-30T12:00:00.000Z   \n",
       "\n",
       "  Дата начала показа фильма Примечание  Идентификатор записи реестра  \\\n",
       "0                       NaN        NaN                      10003030   \n",
       "1  2024-02-01T12:00:00.000Z        NaN                      10003032   \n",
       "2  2024-02-02T12:00:00.000Z        NaN                      10003203   \n",
       "3                       NaN        NaN                      10003265   \n",
       "4  2024-02-08T12:00:00.000Z        NaN                      10003499   \n",
       "\n",
       "  Аннотация       Вид Фильма Категория  ...  \\\n",
       "0       NaN   Художественный     Видео  ...   \n",
       "1   Комедия   Художественный     Видео  ...   \n",
       "2       NaN   Художественный     Видео  ...   \n",
       "3       NaN   Художественный      Кино  ...   \n",
       "4       NaN   Художественный      Кино  ...   \n",
       "\n",
       "                                                 Код Права проката переданы  \\\n",
       "0                                                 []                    NaN   \n",
       "1                                                 []                    NaN   \n",
       "2                                                 []                    NaN   \n",
       "3  [{\"rightsCategoryUse\":{\"code\":\"01\",\"name\":\"Пок...                    NaN   \n",
       "4                                                 []                    NaN   \n",
       "\n",
       "  Порядковый номер переоформления/продления         Должность подписанта  \\\n",
       "0                                       NaN  Первый заместитель Министра   \n",
       "1                                       NaN  Первый заместитель Министра   \n",
       "2                                       NaN  Первый заместитель Министра   \n",
       "3                                       NaN  Первый заместитель Министра   \n",
       "4                                       NaN  Первый заместитель Министра   \n",
       "\n",
       "   ФИО подписанта Запись удалена  Дата удаления записи  \\\n",
       "0  С.Г. Обрывалин            NaN                   NaN   \n",
       "1  С.Г. Обрывалин            NaN                   NaN   \n",
       "2  С.Г. Обрывалин            NaN                   NaN   \n",
       "3  С.Г. Обрывалин            NaN                   NaN   \n",
       "4  С.Г. Обрывалин            NaN                   NaN   \n",
       "\n",
       "  Не показывать на сайте mkrf.ru      дата создания объекта  \\\n",
       "0                            NaN  2024-01-30T15:41:59+03:00   \n",
       "1                            NaN  2024-01-30T15:42:13+03:00   \n",
       "2                            NaN  2024-01-30T16:08:51+03:00   \n",
       "3                            NaN  2024-01-30T16:20:44+03:00   \n",
       "4                            NaN  2024-01-30T18:10:00+03:00   \n",
       "\n",
       "     дата обновления объекта  \n",
       "0  2024-02-05T14:17:27+03:00  \n",
       "1  2024-02-05T18:23:14+03:00  \n",
       "2  2024-02-06T12:12:04+03:00  \n",
       "3  2024-03-26T14:41:20+03:00  \n",
       "4  2024-01-30T18:10:00+03:00  \n",
       "\n",
       "[5 rows x 48 columns]"
      ]
     },
     "execution_count": 2,
     "metadata": {},
     "output_type": "execute_result"
    }
   ],
   "source": [
    "raw_data = pd.read_csv(f'{data_path}/data-9-structure-4.csv')\n",
    "raw_data.head()"
   ]
  },
  {
   "cell_type": "code",
   "execution_count": 3,
   "id": "439b5d96",
   "metadata": {},
   "outputs": [
    {
     "name": "stdout",
     "output_type": "stream",
     "text": [
      "<class 'pandas.core.frame.DataFrame'>\n",
      "RangeIndex: 103848 entries, 0 to 103847\n",
      "Data columns (total 48 columns):\n",
      " #   Column                                                 Non-Null Count   Dtype  \n",
      "---  ------                                                 --------------   -----  \n",
      " 0   Название фильма                                        103848 non-null  object \n",
      " 1   Hаименование на иностранном языке                      51894 non-null   object \n",
      " 2   Номер удостоверения                                    103848 non-null  object \n",
      " 3   Дата регистрации удостоверения                         103846 non-null  object \n",
      " 4   Дата начала показа фильма                              99996 non-null   object \n",
      " 5   Примечание                                             29239 non-null   object \n",
      " 6   Идентификатор записи реестра                           103848 non-null  int64  \n",
      " 7   Аннотация                                              92858 non-null   object \n",
      " 8   Вид Фильма                                             103843 non-null  object \n",
      " 9   Категория                                              103848 non-null  object \n",
      " 10  Язык оригинала                                         4 non-null       float64\n",
      " 11  Формат кадра                                           14242 non-null   object \n",
      " 12  Количество серий                                       46384 non-null   object \n",
      " 13  Метраж (для фильмов на кинопленке)                     12685 non-null   object \n",
      " 14  Количество частей/рулонов (для фильмов на кинопленке)  14282 non-null   object \n",
      " 15  Цвет                                                   103827 non-null  object \n",
      " 16  Продолжительность демонстрации, часы                   87260 non-null   float64\n",
      " 17  Продолжительность демонстрации, минуты                 101325 non-null  object \n",
      " 18  Формат носителя                                        18003 non-null   object \n",
      " 19  Объем носителя                                         8223 non-null    object \n",
      " 20  Единица измерения                                      8139 non-null    object \n",
      " 21  Студия-производитель                                   103679 non-null  object \n",
      " 22  Страна производства                                    103770 non-null  object \n",
      " 23  Год производства                                       103637 non-null  object \n",
      " 24  Режиссер                                               101231 non-null  object \n",
      " 25  Художник                                               41907 non-null   object \n",
      " 26  Сценарист                                              91717 non-null   object \n",
      " 27  Оператор                                               59923 non-null   object \n",
      " 28  Композитор                                             67240 non-null   object \n",
      " 29  Продюсер                                               66909 non-null   object \n",
      " 30  Права на использование фильма                          103835 non-null  object \n",
      " 31  Категория прав на использование фильма                 97691 non-null   object \n",
      " 32  Срок действия прав на использование фильма             15 non-null      object \n",
      " 33  Срок действия прав на способ использования фильма      98205 non-null   object \n",
      " 34  Возрастная категория                                   103847 non-null  object \n",
      " 35  Возрастная категория.1                                 103846 non-null  object \n",
      " 36  Дубляж (где дублирован)                                655 non-null     object \n",
      " 37  Срок действия прав проката до                          71 non-null      object \n",
      " 38  Код                                                    103848 non-null  object \n",
      " 39  Права проката переданы                                 521 non-null     object \n",
      " 40  Порядковый номер переоформления/продления              18 non-null      object \n",
      " 41  Должность подписанта                                   19999 non-null   object \n",
      " 42  ФИО подписанта                                         19998 non-null   object \n",
      " 43  Запись удалена                                         0 non-null       float64\n",
      " 44  Дата удаления записи                                   1 non-null       object \n",
      " 45  Не показывать на сайте mkrf.ru                         0 non-null       float64\n",
      " 46  дата создания объекта                                  103848 non-null  object \n",
      " 47  дата обновления объекта                                103848 non-null  object \n",
      "dtypes: float64(4), int64(1), object(43)\n",
      "memory usage: 38.0+ MB\n",
      "None\n"
     ]
    },
    {
     "data": {
      "text/plain": [
       "'First 5 rows in df \\n'"
      ]
     },
     "metadata": {},
     "output_type": "display_data"
    },
    {
     "data": {
      "application/vnd.microsoft.datawrangler.viewer.v0+json": {
       "columns": [
        {
         "name": "index",
         "rawType": "int64",
         "type": "integer"
        },
        {
         "name": "Название фильма",
         "rawType": "object",
         "type": "string"
        },
        {
         "name": "Hаименование на иностранном языке",
         "rawType": "object",
         "type": "unknown"
        },
        {
         "name": "Номер удостоверения",
         "rawType": "object",
         "type": "string"
        },
        {
         "name": "Дата регистрации удостоверения",
         "rawType": "object",
         "type": "string"
        },
        {
         "name": "Дата начала показа фильма",
         "rawType": "object",
         "type": "unknown"
        },
        {
         "name": "Примечание",
         "rawType": "object",
         "type": "unknown"
        },
        {
         "name": "Идентификатор записи реестра",
         "rawType": "int64",
         "type": "integer"
        },
        {
         "name": "Аннотация",
         "rawType": "object",
         "type": "unknown"
        },
        {
         "name": "Вид Фильма",
         "rawType": "object",
         "type": "string"
        },
        {
         "name": "Категория",
         "rawType": "object",
         "type": "string"
        },
        {
         "name": "Язык оригинала",
         "rawType": "float64",
         "type": "float"
        },
        {
         "name": "Формат кадра",
         "rawType": "object",
         "type": "unknown"
        },
        {
         "name": "Количество серий",
         "rawType": "object",
         "type": "unknown"
        },
        {
         "name": "Метраж (для фильмов на кинопленке)",
         "rawType": "object",
         "type": "unknown"
        },
        {
         "name": "Количество частей/рулонов (для фильмов на кинопленке)",
         "rawType": "object",
         "type": "unknown"
        },
        {
         "name": "Цвет",
         "rawType": "object",
         "type": "string"
        },
        {
         "name": "Продолжительность демонстрации, часы",
         "rawType": "float64",
         "type": "float"
        },
        {
         "name": "Продолжительность демонстрации, минуты",
         "rawType": "object",
         "type": "unknown"
        },
        {
         "name": "Формат носителя",
         "rawType": "object",
         "type": "unknown"
        },
        {
         "name": "Объем носителя",
         "rawType": "object",
         "type": "unknown"
        },
        {
         "name": "Единица измерения",
         "rawType": "object",
         "type": "unknown"
        },
        {
         "name": "Студия-производитель",
         "rawType": "object",
         "type": "string"
        },
        {
         "name": "Страна производства",
         "rawType": "object",
         "type": "string"
        },
        {
         "name": "Год производства",
         "rawType": "object",
         "type": "string"
        },
        {
         "name": "Режиссер",
         "rawType": "object",
         "type": "string"
        },
        {
         "name": "Художник",
         "rawType": "object",
         "type": "string"
        },
        {
         "name": "Сценарист",
         "rawType": "object",
         "type": "string"
        },
        {
         "name": "Оператор",
         "rawType": "object",
         "type": "string"
        },
        {
         "name": "Композитор",
         "rawType": "object",
         "type": "string"
        },
        {
         "name": "Продюсер",
         "rawType": "object",
         "type": "string"
        },
        {
         "name": "Права на использование фильма",
         "rawType": "object",
         "type": "string"
        },
        {
         "name": "Категория прав на использование фильма",
         "rawType": "object",
         "type": "string"
        },
        {
         "name": "Срок действия прав на использование фильма",
         "rawType": "object",
         "type": "unknown"
        },
        {
         "name": "Срок действия прав на способ использования фильма",
         "rawType": "object",
         "type": "string"
        },
        {
         "name": "Возрастная категория",
         "rawType": "object",
         "type": "string"
        },
        {
         "name": "Возрастная категория.1",
         "rawType": "object",
         "type": "string"
        },
        {
         "name": "Дубляж (где дублирован)",
         "rawType": "object",
         "type": "unknown"
        },
        {
         "name": "Срок действия прав проката до",
         "rawType": "object",
         "type": "unknown"
        },
        {
         "name": "Код",
         "rawType": "object",
         "type": "string"
        },
        {
         "name": "Права проката переданы",
         "rawType": "object",
         "type": "unknown"
        },
        {
         "name": "Порядковый номер переоформления/продления",
         "rawType": "object",
         "type": "unknown"
        },
        {
         "name": "Должность подписанта",
         "rawType": "object",
         "type": "string"
        },
        {
         "name": "ФИО подписанта",
         "rawType": "object",
         "type": "string"
        },
        {
         "name": "Запись удалена",
         "rawType": "float64",
         "type": "float"
        },
        {
         "name": "Дата удаления записи",
         "rawType": "object",
         "type": "unknown"
        },
        {
         "name": "Не показывать на сайте mkrf.ru",
         "rawType": "float64",
         "type": "float"
        },
        {
         "name": "дата создания объекта",
         "rawType": "object",
         "type": "string"
        },
        {
         "name": "дата обновления объекта",
         "rawType": "object",
         "type": "string"
        }
       ],
       "ref": "858294cd-c2ef-4d65-b677-b806e6ab7f38",
       "rows": [
        [
         "0",
         "Рок’89",
         null,
         "211004124",
         "2024-01-30T12:00:00.000Z",
         null,
         null,
         "10003030",
         null,
         " Художественный",
         "Видео",
         null,
         null,
         "1.0",
         null,
         null,
         "Цветной",
         "0.0",
         "17.0",
         "DVD – диск",
         null,
         null,
         "Беликова Надежда Александровна",
         "Россия",
         "2023",
         "Н.Беликова",
         "А.Титорова, В.Титоров",
         "О.Басс, В.Плохов, Ю.Линде",
         "М.Шутов",
         "П.Грачёв, А.Ануфриев, В.Полякова",
         "Н.Беликова",
         "Беликова Надежда Александровна",
         "Прокат фильма на материальном носителе, показ фильма другими техническими способами",
         null,
         "На срок действия авторского права на фильм",
         "«18+» запрещено для детей",
         "18",
         null,
         null,
         "[]",
         null,
         null,
         "Первый заместитель Министра",
         "С.Г. Обрывалин",
         null,
         null,
         null,
         "2024-01-30T15:41:59+03:00",
         "2024-02-05T14:17:27+03:00"
        ],
        [
         "1",
         "Мама будет против",
         null,
         "211004024",
         "2024-01-30T12:00:00.000Z",
         "2024-02-01T12:00:00.000Z",
         null,
         "10003032",
         "Комедия",
         " Художественный",
         "Видео",
         null,
         "16:9",
         "13.0",
         null,
         null,
         "Цветной",
         "5.0",
         "7.0",
         null,
         null,
         null,
         "ООО \"Продюсерская компания \"Уральские Пельмени\"",
         "Россия",
         "2023",
         "А.Румынский",
         "Е.Кравцов",
         "Д.Тарасов, Е.Гордеева",
         "И.Бархварт",
         "А.Захаров, Е.Голотенко",
         "С.Ершов",
         "ООО \"Продюсерская компания \"Уральские Пельмени\"",
         "Показ фильма в кинозале, прокат фильма на материальном носителе, показ фильма другими техническими способами",
         null,
         "На срок действия авторского права на фильм",
         "«16+» для детей старше 16 лет",
         "16",
         null,
         null,
         "[]",
         null,
         null,
         "Первый заместитель Министра",
         "С.Г. Обрывалин",
         null,
         null,
         null,
         "2024-01-30T15:42:13+03:00",
         "2024-02-05T18:23:14+03:00"
        ],
        [
         "2",
         "ДЕВЯТЬ С ПОЛОВИНОЙ НЕДЕЛЬ",
         "9 1/2 WEEKS",
         "221005424",
         "2024-01-30T12:00:00.000Z",
         "2024-02-02T12:00:00.000Z",
         null,
         "10003203",
         null,
         " Художественный",
         "Видео",
         null,
         null,
         "1.0",
         null,
         null,
         "Цветной",
         "1.0",
         "52.0",
         "DVD – диск",
         null,
         null,
         "Джоунсфилм, Галактик Филмс, Трипл Эйджакс",
         "США",
         "1986",
         "Эдриан Лайн",
         "Кен Дэвис",
         "Патришия Луизианна Ноп, Залман Кинг, Сара Кернокан",
         "Питер Бижу",
         "Джек Ницше",
         "Марк Дэймон, Сидни Киммел, Залман Кинг, Энтони Руфус-Исаак",
         "ООО \"АЛЯСКАФИЛЬМ\"",
         "Показ фильма другими техническими способами",
         null,
         "30.11.2026 г.",
         "«18+» запрещено для детей",
         "18",
         null,
         null,
         "[]",
         null,
         null,
         "Первый заместитель Министра",
         "С.Г. Обрывалин",
         null,
         null,
         null,
         "2024-01-30T16:08:51+03:00",
         "2024-02-06T12:12:04+03:00"
        ],
        [
         "3",
         "Как я встретил её маму",
         null,
         "111001324",
         "2024-01-30T12:00:00.000Z",
         null,
         null,
         "10003265",
         null,
         " Художественный",
         "Кино",
         null,
         "1:2,39",
         "1.0",
         null,
         null,
         "Цветной",
         "1.0",
         "29.0",
         "HDD",
         "1,2",
         "Тб",
         "АО \"ТПО \"Киностудия им.М.Горького\"",
         "Россия",
         "2023",
         "Е.Сальников",
         "Е.Лизогубова",
         "Л.Айрапетян",
         "Д.Шебунин",
         "А.Канцыру, О.Шайдуллина",
         "Н.Харыбина",
         "АО \"ТПО \"Киностудия им.М.Горького\"",
         "Показ фильма в кинозале, прокат фильма на материальном носителе, показ фильма другими техническими способами",
         null,
         "На срок действия авторского права на фильм",
         "«12+» для детей старше 12 лет",
         "12",
         null,
         null,
         "[{\"rightsCategoryUse\":{\"code\":\"01\",\"name\":\"Показ фильма в кинозале\"},\"rentalRightsTransferred\":\"ООО \\\"Атмосфера кино\\\"\",\"rentalRightsTransferrPeriod\":\"с 09.05.2024 г. по 08.05.2025 г.\"}]",
         null,
         null,
         "Первый заместитель Министра",
         "С.Г. Обрывалин",
         null,
         null,
         null,
         "2024-01-30T16:20:44+03:00",
         "2024-03-26T14:41:20+03:00"
        ],
        [
         "4",
         "Миссия в Москве",
         "Mo Si Ke xing dong",
         "121002924",
         "2024-01-30T12:00:00.000Z",
         "2024-02-08T12:00:00.000Z",
         null,
         "10003499",
         null,
         " Художественный",
         "Кино",
         null,
         null,
         "1.0",
         null,
         null,
         "Цветной",
         "2.0",
         "2.0",
         "HDD",
         null,
         null,
         "СМС Пикчерс",
         "КНР",
         "2023",
         "Герман Яу",
         "Чжао Хай, Ли Чжоу",
         "Чэнь Дамин",
         "Джо Чань",
         "Мак Чунь-Хун",
         "Мин Бивер Квэй, Максим Аджави",
         "ООО \"СБ ФИЛЬМ\"",
         "Показ фильма в кинозале, прокат фильма на материальном носителе, показ фильма другими техническими способами",
         null,
         "02.09.2028",
         "«18+» запрещено для детей",
         "18",
         null,
         null,
         "[]",
         null,
         null,
         "Первый заместитель Министра",
         "С.Г. Обрывалин",
         null,
         null,
         null,
         "2024-01-30T18:10:00+03:00",
         "2024-01-30T18:10:00+03:00"
        ]
       ],
       "shape": {
        "columns": 48,
        "rows": 5
       }
      },
      "text/html": [
       "<div>\n",
       "<style scoped>\n",
       "    .dataframe tbody tr th:only-of-type {\n",
       "        vertical-align: middle;\n",
       "    }\n",
       "\n",
       "    .dataframe tbody tr th {\n",
       "        vertical-align: top;\n",
       "    }\n",
       "\n",
       "    .dataframe thead th {\n",
       "        text-align: right;\n",
       "    }\n",
       "</style>\n",
       "<table border=\"1\" class=\"dataframe\">\n",
       "  <thead>\n",
       "    <tr style=\"text-align: right;\">\n",
       "      <th></th>\n",
       "      <th>Название фильма</th>\n",
       "      <th>Hаименование на иностранном языке</th>\n",
       "      <th>Номер удостоверения</th>\n",
       "      <th>Дата регистрации удостоверения</th>\n",
       "      <th>Дата начала показа фильма</th>\n",
       "      <th>Примечание</th>\n",
       "      <th>Идентификатор записи реестра</th>\n",
       "      <th>Аннотация</th>\n",
       "      <th>Вид Фильма</th>\n",
       "      <th>Категория</th>\n",
       "      <th>...</th>\n",
       "      <th>Код</th>\n",
       "      <th>Права проката переданы</th>\n",
       "      <th>Порядковый номер переоформления/продления</th>\n",
       "      <th>Должность подписанта</th>\n",
       "      <th>ФИО подписанта</th>\n",
       "      <th>Запись удалена</th>\n",
       "      <th>Дата удаления записи</th>\n",
       "      <th>Не показывать на сайте mkrf.ru</th>\n",
       "      <th>дата создания объекта</th>\n",
       "      <th>дата обновления объекта</th>\n",
       "    </tr>\n",
       "  </thead>\n",
       "  <tbody>\n",
       "    <tr>\n",
       "      <th>0</th>\n",
       "      <td>Рок’89</td>\n",
       "      <td>NaN</td>\n",
       "      <td>211004124</td>\n",
       "      <td>2024-01-30T12:00:00.000Z</td>\n",
       "      <td>NaN</td>\n",
       "      <td>NaN</td>\n",
       "      <td>10003030</td>\n",
       "      <td>NaN</td>\n",
       "      <td>Художественный</td>\n",
       "      <td>Видео</td>\n",
       "      <td>...</td>\n",
       "      <td>[]</td>\n",
       "      <td>NaN</td>\n",
       "      <td>NaN</td>\n",
       "      <td>Первый заместитель Министра</td>\n",
       "      <td>С.Г. Обрывалин</td>\n",
       "      <td>NaN</td>\n",
       "      <td>NaN</td>\n",
       "      <td>NaN</td>\n",
       "      <td>2024-01-30T15:41:59+03:00</td>\n",
       "      <td>2024-02-05T14:17:27+03:00</td>\n",
       "    </tr>\n",
       "    <tr>\n",
       "      <th>1</th>\n",
       "      <td>Мама будет против</td>\n",
       "      <td>NaN</td>\n",
       "      <td>211004024</td>\n",
       "      <td>2024-01-30T12:00:00.000Z</td>\n",
       "      <td>2024-02-01T12:00:00.000Z</td>\n",
       "      <td>NaN</td>\n",
       "      <td>10003032</td>\n",
       "      <td>Комедия</td>\n",
       "      <td>Художественный</td>\n",
       "      <td>Видео</td>\n",
       "      <td>...</td>\n",
       "      <td>[]</td>\n",
       "      <td>NaN</td>\n",
       "      <td>NaN</td>\n",
       "      <td>Первый заместитель Министра</td>\n",
       "      <td>С.Г. Обрывалин</td>\n",
       "      <td>NaN</td>\n",
       "      <td>NaN</td>\n",
       "      <td>NaN</td>\n",
       "      <td>2024-01-30T15:42:13+03:00</td>\n",
       "      <td>2024-02-05T18:23:14+03:00</td>\n",
       "    </tr>\n",
       "    <tr>\n",
       "      <th>2</th>\n",
       "      <td>ДЕВЯТЬ С ПОЛОВИНОЙ НЕДЕЛЬ</td>\n",
       "      <td>9 1/2 WEEKS</td>\n",
       "      <td>221005424</td>\n",
       "      <td>2024-01-30T12:00:00.000Z</td>\n",
       "      <td>2024-02-02T12:00:00.000Z</td>\n",
       "      <td>NaN</td>\n",
       "      <td>10003203</td>\n",
       "      <td>NaN</td>\n",
       "      <td>Художественный</td>\n",
       "      <td>Видео</td>\n",
       "      <td>...</td>\n",
       "      <td>[]</td>\n",
       "      <td>NaN</td>\n",
       "      <td>NaN</td>\n",
       "      <td>Первый заместитель Министра</td>\n",
       "      <td>С.Г. Обрывалин</td>\n",
       "      <td>NaN</td>\n",
       "      <td>NaN</td>\n",
       "      <td>NaN</td>\n",
       "      <td>2024-01-30T16:08:51+03:00</td>\n",
       "      <td>2024-02-06T12:12:04+03:00</td>\n",
       "    </tr>\n",
       "    <tr>\n",
       "      <th>3</th>\n",
       "      <td>Как я встретил её маму</td>\n",
       "      <td>NaN</td>\n",
       "      <td>111001324</td>\n",
       "      <td>2024-01-30T12:00:00.000Z</td>\n",
       "      <td>NaN</td>\n",
       "      <td>NaN</td>\n",
       "      <td>10003265</td>\n",
       "      <td>NaN</td>\n",
       "      <td>Художественный</td>\n",
       "      <td>Кино</td>\n",
       "      <td>...</td>\n",
       "      <td>[{\"rightsCategoryUse\":{\"code\":\"01\",\"name\":\"Пок...</td>\n",
       "      <td>NaN</td>\n",
       "      <td>NaN</td>\n",
       "      <td>Первый заместитель Министра</td>\n",
       "      <td>С.Г. Обрывалин</td>\n",
       "      <td>NaN</td>\n",
       "      <td>NaN</td>\n",
       "      <td>NaN</td>\n",
       "      <td>2024-01-30T16:20:44+03:00</td>\n",
       "      <td>2024-03-26T14:41:20+03:00</td>\n",
       "    </tr>\n",
       "    <tr>\n",
       "      <th>4</th>\n",
       "      <td>Миссия в Москве</td>\n",
       "      <td>Mo Si Ke xing dong</td>\n",
       "      <td>121002924</td>\n",
       "      <td>2024-01-30T12:00:00.000Z</td>\n",
       "      <td>2024-02-08T12:00:00.000Z</td>\n",
       "      <td>NaN</td>\n",
       "      <td>10003499</td>\n",
       "      <td>NaN</td>\n",
       "      <td>Художественный</td>\n",
       "      <td>Кино</td>\n",
       "      <td>...</td>\n",
       "      <td>[]</td>\n",
       "      <td>NaN</td>\n",
       "      <td>NaN</td>\n",
       "      <td>Первый заместитель Министра</td>\n",
       "      <td>С.Г. Обрывалин</td>\n",
       "      <td>NaN</td>\n",
       "      <td>NaN</td>\n",
       "      <td>NaN</td>\n",
       "      <td>2024-01-30T18:10:00+03:00</td>\n",
       "      <td>2024-01-30T18:10:00+03:00</td>\n",
       "    </tr>\n",
       "  </tbody>\n",
       "</table>\n",
       "<p>5 rows × 48 columns</p>\n",
       "</div>"
      ],
      "text/plain": [
       "             Название фильма Hаименование на иностранном языке  \\\n",
       "0                     Рок’89                               NaN   \n",
       "1          Мама будет против                               NaN   \n",
       "2  ДЕВЯТЬ С ПОЛОВИНОЙ НЕДЕЛЬ                       9 1/2 WEEKS   \n",
       "3     Как я встретил её маму                               NaN   \n",
       "4            Миссия в Москве                Mo Si Ke xing dong   \n",
       "\n",
       "  Номер удостоверения Дата регистрации удостоверения  \\\n",
       "0           211004124       2024-01-30T12:00:00.000Z   \n",
       "1           211004024       2024-01-30T12:00:00.000Z   \n",
       "2           221005424       2024-01-30T12:00:00.000Z   \n",
       "3           111001324       2024-01-30T12:00:00.000Z   \n",
       "4           121002924       2024-01-30T12:00:00.000Z   \n",
       "\n",
       "  Дата начала показа фильма Примечание  Идентификатор записи реестра  \\\n",
       "0                       NaN        NaN                      10003030   \n",
       "1  2024-02-01T12:00:00.000Z        NaN                      10003032   \n",
       "2  2024-02-02T12:00:00.000Z        NaN                      10003203   \n",
       "3                       NaN        NaN                      10003265   \n",
       "4  2024-02-08T12:00:00.000Z        NaN                      10003499   \n",
       "\n",
       "  Аннотация       Вид Фильма Категория  ...  \\\n",
       "0       NaN   Художественный     Видео  ...   \n",
       "1   Комедия   Художественный     Видео  ...   \n",
       "2       NaN   Художественный     Видео  ...   \n",
       "3       NaN   Художественный      Кино  ...   \n",
       "4       NaN   Художественный      Кино  ...   \n",
       "\n",
       "                                                 Код Права проката переданы  \\\n",
       "0                                                 []                    NaN   \n",
       "1                                                 []                    NaN   \n",
       "2                                                 []                    NaN   \n",
       "3  [{\"rightsCategoryUse\":{\"code\":\"01\",\"name\":\"Пок...                    NaN   \n",
       "4                                                 []                    NaN   \n",
       "\n",
       "  Порядковый номер переоформления/продления         Должность подписанта  \\\n",
       "0                                       NaN  Первый заместитель Министра   \n",
       "1                                       NaN  Первый заместитель Министра   \n",
       "2                                       NaN  Первый заместитель Министра   \n",
       "3                                       NaN  Первый заместитель Министра   \n",
       "4                                       NaN  Первый заместитель Министра   \n",
       "\n",
       "   ФИО подписанта Запись удалена  Дата удаления записи  \\\n",
       "0  С.Г. Обрывалин            NaN                   NaN   \n",
       "1  С.Г. Обрывалин            NaN                   NaN   \n",
       "2  С.Г. Обрывалин            NaN                   NaN   \n",
       "3  С.Г. Обрывалин            NaN                   NaN   \n",
       "4  С.Г. Обрывалин            NaN                   NaN   \n",
       "\n",
       "  Не показывать на сайте mkrf.ru      дата создания объекта  \\\n",
       "0                            NaN  2024-01-30T15:41:59+03:00   \n",
       "1                            NaN  2024-01-30T15:42:13+03:00   \n",
       "2                            NaN  2024-01-30T16:08:51+03:00   \n",
       "3                            NaN  2024-01-30T16:20:44+03:00   \n",
       "4                            NaN  2024-01-30T18:10:00+03:00   \n",
       "\n",
       "     дата обновления объекта  \n",
       "0  2024-02-05T14:17:27+03:00  \n",
       "1  2024-02-05T18:23:14+03:00  \n",
       "2  2024-02-06T12:12:04+03:00  \n",
       "3  2024-03-26T14:41:20+03:00  \n",
       "4  2024-01-30T18:10:00+03:00  \n",
       "\n",
       "[5 rows x 48 columns]"
      ]
     },
     "metadata": {},
     "output_type": "display_data"
    },
    {
     "data": {
      "application/vnd.microsoft.datawrangler.viewer.v0+json": {
       "columns": [
        {
         "name": "index",
         "rawType": "object",
         "type": "string"
        },
        {
         "name": "duplicates_full",
         "rawType": "int64",
         "type": "integer"
        }
       ],
       "ref": "155edc90-6816-4c0e-a7cc-b05ee256ca48",
       "rows": [
        [
         "duplicates_full",
         "15"
        ]
       ],
       "shape": {
        "columns": 1,
        "rows": 1
       }
      },
      "text/html": [
       "<div>\n",
       "<style scoped>\n",
       "    .dataframe tbody tr th:only-of-type {\n",
       "        vertical-align: middle;\n",
       "    }\n",
       "\n",
       "    .dataframe tbody tr th {\n",
       "        vertical-align: top;\n",
       "    }\n",
       "\n",
       "    .dataframe thead th {\n",
       "        text-align: right;\n",
       "    }\n",
       "</style>\n",
       "<table border=\"1\" class=\"dataframe\">\n",
       "  <thead>\n",
       "    <tr style=\"text-align: right;\">\n",
       "      <th></th>\n",
       "      <th>duplicates_full</th>\n",
       "    </tr>\n",
       "  </thead>\n",
       "  <tbody>\n",
       "    <tr>\n",
       "      <th>duplicates_full</th>\n",
       "      <td>15</td>\n",
       "    </tr>\n",
       "  </tbody>\n",
       "</table>\n",
       "</div>"
      ],
      "text/plain": [
       "                 duplicates_full\n",
       "duplicates_full               15"
      ]
     },
     "metadata": {},
     "output_type": "display_data"
    },
    {
     "data": {
      "application/vnd.microsoft.datawrangler.viewer.v0+json": {
       "columns": [
        {
         "name": "index",
         "rawType": "object",
         "type": "string"
        },
        {
         "name": "Название фильма",
         "rawType": "int64",
         "type": "integer"
        },
        {
         "name": "Hаименование на иностранном языке",
         "rawType": "int64",
         "type": "integer"
        },
        {
         "name": "Номер удостоверения",
         "rawType": "int64",
         "type": "integer"
        },
        {
         "name": "Дата регистрации удостоверения",
         "rawType": "int64",
         "type": "integer"
        },
        {
         "name": "Дата начала показа фильма",
         "rawType": "int64",
         "type": "integer"
        },
        {
         "name": "Примечание",
         "rawType": "int64",
         "type": "integer"
        },
        {
         "name": "Идентификатор записи реестра",
         "rawType": "int64",
         "type": "integer"
        },
        {
         "name": "Аннотация",
         "rawType": "int64",
         "type": "integer"
        },
        {
         "name": "Вид Фильма",
         "rawType": "int64",
         "type": "integer"
        },
        {
         "name": "Категория",
         "rawType": "int64",
         "type": "integer"
        },
        {
         "name": "Язык оригинала",
         "rawType": "int64",
         "type": "integer"
        },
        {
         "name": "Формат кадра",
         "rawType": "int64",
         "type": "integer"
        },
        {
         "name": "Количество серий",
         "rawType": "int64",
         "type": "integer"
        },
        {
         "name": "Метраж (для фильмов на кинопленке)",
         "rawType": "int64",
         "type": "integer"
        },
        {
         "name": "Количество частей/рулонов (для фильмов на кинопленке)",
         "rawType": "int64",
         "type": "integer"
        },
        {
         "name": "Цвет",
         "rawType": "int64",
         "type": "integer"
        },
        {
         "name": "Продолжительность демонстрации, часы",
         "rawType": "int64",
         "type": "integer"
        },
        {
         "name": "Продолжительность демонстрации, минуты",
         "rawType": "int64",
         "type": "integer"
        },
        {
         "name": "Формат носителя",
         "rawType": "int64",
         "type": "integer"
        },
        {
         "name": "Объем носителя",
         "rawType": "int64",
         "type": "integer"
        },
        {
         "name": "Единица измерения",
         "rawType": "int64",
         "type": "integer"
        },
        {
         "name": "Студия-производитель",
         "rawType": "int64",
         "type": "integer"
        },
        {
         "name": "Страна производства",
         "rawType": "int64",
         "type": "integer"
        },
        {
         "name": "Год производства",
         "rawType": "int64",
         "type": "integer"
        },
        {
         "name": "Режиссер",
         "rawType": "int64",
         "type": "integer"
        },
        {
         "name": "Художник",
         "rawType": "int64",
         "type": "integer"
        },
        {
         "name": "Сценарист",
         "rawType": "int64",
         "type": "integer"
        },
        {
         "name": "Оператор",
         "rawType": "int64",
         "type": "integer"
        },
        {
         "name": "Композитор",
         "rawType": "int64",
         "type": "integer"
        },
        {
         "name": "Продюсер",
         "rawType": "int64",
         "type": "integer"
        },
        {
         "name": "Права на использование фильма",
         "rawType": "int64",
         "type": "integer"
        },
        {
         "name": "Категория прав на использование фильма",
         "rawType": "int64",
         "type": "integer"
        },
        {
         "name": "Срок действия прав на использование фильма",
         "rawType": "int64",
         "type": "integer"
        },
        {
         "name": "Срок действия прав на способ использования фильма",
         "rawType": "int64",
         "type": "integer"
        },
        {
         "name": "Возрастная категория",
         "rawType": "int64",
         "type": "integer"
        },
        {
         "name": "Возрастная категория.1",
         "rawType": "int64",
         "type": "integer"
        },
        {
         "name": "Дубляж (где дублирован)",
         "rawType": "int64",
         "type": "integer"
        },
        {
         "name": "Срок действия прав проката до",
         "rawType": "int64",
         "type": "integer"
        },
        {
         "name": "Код",
         "rawType": "int64",
         "type": "integer"
        },
        {
         "name": "Права проката переданы",
         "rawType": "int64",
         "type": "integer"
        },
        {
         "name": "Порядковый номер переоформления/продления",
         "rawType": "int64",
         "type": "integer"
        },
        {
         "name": "Должность подписанта",
         "rawType": "int64",
         "type": "integer"
        },
        {
         "name": "ФИО подписанта",
         "rawType": "int64",
         "type": "integer"
        },
        {
         "name": "Запись удалена",
         "rawType": "int64",
         "type": "integer"
        },
        {
         "name": "Дата удаления записи",
         "rawType": "int64",
         "type": "integer"
        },
        {
         "name": "Не показывать на сайте mkrf.ru",
         "rawType": "int64",
         "type": "integer"
        },
        {
         "name": "дата создания объекта",
         "rawType": "int64",
         "type": "integer"
        },
        {
         "name": "дата обновления объекта",
         "rawType": "int64",
         "type": "integer"
        }
       ],
       "ref": "c2f0d1af-4536-46bc-a557-6192802cbe83",
       "rows": [
        [
         "duplicates_by_cols",
         "17600",
         "69561",
         "98",
         "97113",
         "96456",
         "96731",
         "15",
         "50932",
         "103832",
         "103843",
         "103843",
         "103460",
         "103652",
         "99579",
         "103695",
         "103820",
         "103736",
         "103563",
         "103762",
         "102034",
         "103841",
         "63182",
         "100621",
         "102578",
         "64676",
         "85766",
         "54641",
         "81754",
         "80331",
         "72948",
         "91822",
         "103001",
         "103841",
         "92784",
         "103817",
         "103834",
         "103771",
         "103791",
         "102400",
         "103471",
         "103839",
         "103829",
         "103817",
         "103847",
         "103846",
         "103847",
         "84229",
         "80373"
        ]
       ],
       "shape": {
        "columns": 48,
        "rows": 1
       }
      },
      "text/html": [
       "<div>\n",
       "<style scoped>\n",
       "    .dataframe tbody tr th:only-of-type {\n",
       "        vertical-align: middle;\n",
       "    }\n",
       "\n",
       "    .dataframe tbody tr th {\n",
       "        vertical-align: top;\n",
       "    }\n",
       "\n",
       "    .dataframe thead th {\n",
       "        text-align: right;\n",
       "    }\n",
       "</style>\n",
       "<table border=\"1\" class=\"dataframe\">\n",
       "  <thead>\n",
       "    <tr style=\"text-align: right;\">\n",
       "      <th></th>\n",
       "      <th>Название фильма</th>\n",
       "      <th>Hаименование на иностранном языке</th>\n",
       "      <th>Номер удостоверения</th>\n",
       "      <th>Дата регистрации удостоверения</th>\n",
       "      <th>Дата начала показа фильма</th>\n",
       "      <th>Примечание</th>\n",
       "      <th>Идентификатор записи реестра</th>\n",
       "      <th>Аннотация</th>\n",
       "      <th>Вид Фильма</th>\n",
       "      <th>Категория</th>\n",
       "      <th>...</th>\n",
       "      <th>Код</th>\n",
       "      <th>Права проката переданы</th>\n",
       "      <th>Порядковый номер переоформления/продления</th>\n",
       "      <th>Должность подписанта</th>\n",
       "      <th>ФИО подписанта</th>\n",
       "      <th>Запись удалена</th>\n",
       "      <th>Дата удаления записи</th>\n",
       "      <th>Не показывать на сайте mkrf.ru</th>\n",
       "      <th>дата создания объекта</th>\n",
       "      <th>дата обновления объекта</th>\n",
       "    </tr>\n",
       "  </thead>\n",
       "  <tbody>\n",
       "    <tr>\n",
       "      <th>duplicates_by_cols</th>\n",
       "      <td>17600</td>\n",
       "      <td>69561</td>\n",
       "      <td>98</td>\n",
       "      <td>97113</td>\n",
       "      <td>96456</td>\n",
       "      <td>96731</td>\n",
       "      <td>15</td>\n",
       "      <td>50932</td>\n",
       "      <td>103832</td>\n",
       "      <td>103843</td>\n",
       "      <td>...</td>\n",
       "      <td>102400</td>\n",
       "      <td>103471</td>\n",
       "      <td>103839</td>\n",
       "      <td>103829</td>\n",
       "      <td>103817</td>\n",
       "      <td>103847</td>\n",
       "      <td>103846</td>\n",
       "      <td>103847</td>\n",
       "      <td>84229</td>\n",
       "      <td>80373</td>\n",
       "    </tr>\n",
       "  </tbody>\n",
       "</table>\n",
       "<p>1 rows × 48 columns</p>\n",
       "</div>"
      ],
      "text/plain": [
       "                    Название фильма  Hаименование на иностранном языке  \\\n",
       "duplicates_by_cols            17600                              69561   \n",
       "\n",
       "                    Номер удостоверения  Дата регистрации удостоверения  \\\n",
       "duplicates_by_cols                   98                           97113   \n",
       "\n",
       "                    Дата начала показа фильма  Примечание  \\\n",
       "duplicates_by_cols                      96456       96731   \n",
       "\n",
       "                    Идентификатор записи реестра  Аннотация  Вид Фильма  \\\n",
       "duplicates_by_cols                            15      50932      103832   \n",
       "\n",
       "                    Категория  ...     Код  Права проката переданы  \\\n",
       "duplicates_by_cols     103843  ...  102400                  103471   \n",
       "\n",
       "                    Порядковый номер переоформления/продления  \\\n",
       "duplicates_by_cols                                     103839   \n",
       "\n",
       "                    Должность подписанта  ФИО подписанта  Запись удалена  \\\n",
       "duplicates_by_cols                103829          103817          103847   \n",
       "\n",
       "                    Дата удаления записи  Не показывать на сайте mkrf.ru  \\\n",
       "duplicates_by_cols                103846                          103847   \n",
       "\n",
       "                    дата создания объекта  дата обновления объекта  \n",
       "duplicates_by_cols                  84229                    80373  \n",
       "\n",
       "[1 rows x 48 columns]"
      ]
     },
     "metadata": {},
     "output_type": "display_data"
    },
    {
     "data": {
      "application/vnd.microsoft.datawrangler.viewer.v0+json": {
       "columns": [
        {
         "name": "index",
         "rawType": "object",
         "type": "string"
        },
        {
         "name": "Продолжительность демонстрации, часы",
         "rawType": "int64",
         "type": "integer"
        }
       ],
       "ref": "b8d674d4-1da7-44ca-b6fb-cd605317b9ee",
       "rows": [
        [
         "zeroes",
         "12634"
        ]
       ],
       "shape": {
        "columns": 1,
        "rows": 1
       }
      },
      "text/html": [
       "<div>\n",
       "<style scoped>\n",
       "    .dataframe tbody tr th:only-of-type {\n",
       "        vertical-align: middle;\n",
       "    }\n",
       "\n",
       "    .dataframe tbody tr th {\n",
       "        vertical-align: top;\n",
       "    }\n",
       "\n",
       "    .dataframe thead th {\n",
       "        text-align: right;\n",
       "    }\n",
       "</style>\n",
       "<table border=\"1\" class=\"dataframe\">\n",
       "  <thead>\n",
       "    <tr style=\"text-align: right;\">\n",
       "      <th></th>\n",
       "      <th>Продолжительность демонстрации, часы</th>\n",
       "    </tr>\n",
       "  </thead>\n",
       "  <tbody>\n",
       "    <tr>\n",
       "      <th>zeroes</th>\n",
       "      <td>12634</td>\n",
       "    </tr>\n",
       "  </tbody>\n",
       "</table>\n",
       "</div>"
      ],
      "text/plain": [
       "        Продолжительность демонстрации, часы\n",
       "zeroes                                 12634"
      ]
     },
     "metadata": {},
     "output_type": "display_data"
    },
    {
     "data": {
      "application/vnd.microsoft.datawrangler.viewer.v0+json": {
       "columns": [
        {
         "name": "index",
         "rawType": "object",
         "type": "string"
        }
       ],
       "ref": "d9297908-2b8d-4d80-9535-a1eb26d98658",
       "rows": [
        [
         "minus_ones"
        ]
       ],
       "shape": {
        "columns": 0,
        "rows": 1
       }
      },
      "text/html": [
       "<div>\n",
       "<style scoped>\n",
       "    .dataframe tbody tr th:only-of-type {\n",
       "        vertical-align: middle;\n",
       "    }\n",
       "\n",
       "    .dataframe tbody tr th {\n",
       "        vertical-align: top;\n",
       "    }\n",
       "\n",
       "    .dataframe thead th {\n",
       "        text-align: right;\n",
       "    }\n",
       "</style>\n",
       "<table border=\"1\" class=\"dataframe\">\n",
       "  <thead>\n",
       "    <tr style=\"text-align: right;\">\n",
       "      <th></th>\n",
       "    </tr>\n",
       "  </thead>\n",
       "  <tbody>\n",
       "    <tr>\n",
       "      <th>minus_ones</th>\n",
       "    </tr>\n",
       "  </tbody>\n",
       "</table>\n",
       "</div>"
      ],
      "text/plain": [
       "Empty DataFrame\n",
       "Columns: []\n",
       "Index: [minus_ones]"
      ]
     },
     "metadata": {},
     "output_type": "display_data"
    },
    {
     "data": {
      "application/vnd.microsoft.datawrangler.viewer.v0+json": {
       "columns": [
        {
         "name": "index",
         "rawType": "object",
         "type": "string"
        },
        {
         "name": "Hаименование на иностранном языке",
         "rawType": "int64",
         "type": "integer"
        },
        {
         "name": "Дата регистрации удостоверения",
         "rawType": "int64",
         "type": "integer"
        },
        {
         "name": "Дата начала показа фильма",
         "rawType": "int64",
         "type": "integer"
        },
        {
         "name": "Примечание",
         "rawType": "int64",
         "type": "integer"
        },
        {
         "name": "Аннотация",
         "rawType": "int64",
         "type": "integer"
        },
        {
         "name": "Вид Фильма",
         "rawType": "int64",
         "type": "integer"
        },
        {
         "name": "Язык оригинала",
         "rawType": "int64",
         "type": "integer"
        },
        {
         "name": "Формат кадра",
         "rawType": "int64",
         "type": "integer"
        },
        {
         "name": "Количество серий",
         "rawType": "int64",
         "type": "integer"
        },
        {
         "name": "Метраж (для фильмов на кинопленке)",
         "rawType": "int64",
         "type": "integer"
        },
        {
         "name": "Количество частей/рулонов (для фильмов на кинопленке)",
         "rawType": "int64",
         "type": "integer"
        },
        {
         "name": "Цвет",
         "rawType": "int64",
         "type": "integer"
        },
        {
         "name": "Продолжительность демонстрации, часы",
         "rawType": "int64",
         "type": "integer"
        },
        {
         "name": "Продолжительность демонстрации, минуты",
         "rawType": "int64",
         "type": "integer"
        },
        {
         "name": "Формат носителя",
         "rawType": "int64",
         "type": "integer"
        },
        {
         "name": "Объем носителя",
         "rawType": "int64",
         "type": "integer"
        },
        {
         "name": "Единица измерения",
         "rawType": "int64",
         "type": "integer"
        },
        {
         "name": "Студия-производитель",
         "rawType": "int64",
         "type": "integer"
        },
        {
         "name": "Страна производства",
         "rawType": "int64",
         "type": "integer"
        },
        {
         "name": "Год производства",
         "rawType": "int64",
         "type": "integer"
        },
        {
         "name": "Режиссер",
         "rawType": "int64",
         "type": "integer"
        },
        {
         "name": "Художник",
         "rawType": "int64",
         "type": "integer"
        },
        {
         "name": "Сценарист",
         "rawType": "int64",
         "type": "integer"
        },
        {
         "name": "Оператор",
         "rawType": "int64",
         "type": "integer"
        },
        {
         "name": "Композитор",
         "rawType": "int64",
         "type": "integer"
        },
        {
         "name": "Продюсер",
         "rawType": "int64",
         "type": "integer"
        },
        {
         "name": "Права на использование фильма",
         "rawType": "int64",
         "type": "integer"
        },
        {
         "name": "Категория прав на использование фильма",
         "rawType": "int64",
         "type": "integer"
        },
        {
         "name": "Срок действия прав на использование фильма",
         "rawType": "int64",
         "type": "integer"
        },
        {
         "name": "Срок действия прав на способ использования фильма",
         "rawType": "int64",
         "type": "integer"
        },
        {
         "name": "Возрастная категория",
         "rawType": "int64",
         "type": "integer"
        },
        {
         "name": "Возрастная категория.1",
         "rawType": "int64",
         "type": "integer"
        },
        {
         "name": "Дубляж (где дублирован)",
         "rawType": "int64",
         "type": "integer"
        },
        {
         "name": "Срок действия прав проката до",
         "rawType": "int64",
         "type": "integer"
        },
        {
         "name": "Права проката переданы",
         "rawType": "int64",
         "type": "integer"
        },
        {
         "name": "Порядковый номер переоформления/продления",
         "rawType": "int64",
         "type": "integer"
        },
        {
         "name": "Должность подписанта",
         "rawType": "int64",
         "type": "integer"
        },
        {
         "name": "ФИО подписанта",
         "rawType": "int64",
         "type": "integer"
        },
        {
         "name": "Запись удалена",
         "rawType": "int64",
         "type": "integer"
        },
        {
         "name": "Дата удаления записи",
         "rawType": "int64",
         "type": "integer"
        },
        {
         "name": "Не показывать на сайте mkrf.ru",
         "rawType": "int64",
         "type": "integer"
        }
       ],
       "ref": "6ad2768b-abf1-44c9-91d8-2a7475b1dd19",
       "rows": [
        [
         "nulls",
         "51954",
         "2",
         "3852",
         "74609",
         "10990",
         "5",
         "103844",
         "89606",
         "57464",
         "91163",
         "89566",
         "21",
         "16588",
         "2523",
         "85845",
         "95625",
         "95709",
         "169",
         "78",
         "211",
         "2617",
         "61941",
         "12131",
         "43925",
         "36608",
         "36939",
         "13",
         "6157",
         "103833",
         "5643",
         "1",
         "2",
         "103193",
         "103777",
         "103327",
         "103830",
         "83849",
         "83850",
         "103848",
         "103847",
         "103848"
        ]
       ],
       "shape": {
        "columns": 41,
        "rows": 1
       }
      },
      "text/html": [
       "<div>\n",
       "<style scoped>\n",
       "    .dataframe tbody tr th:only-of-type {\n",
       "        vertical-align: middle;\n",
       "    }\n",
       "\n",
       "    .dataframe tbody tr th {\n",
       "        vertical-align: top;\n",
       "    }\n",
       "\n",
       "    .dataframe thead th {\n",
       "        text-align: right;\n",
       "    }\n",
       "</style>\n",
       "<table border=\"1\" class=\"dataframe\">\n",
       "  <thead>\n",
       "    <tr style=\"text-align: right;\">\n",
       "      <th></th>\n",
       "      <th>Hаименование на иностранном языке</th>\n",
       "      <th>Дата регистрации удостоверения</th>\n",
       "      <th>Дата начала показа фильма</th>\n",
       "      <th>Примечание</th>\n",
       "      <th>Аннотация</th>\n",
       "      <th>Вид Фильма</th>\n",
       "      <th>Язык оригинала</th>\n",
       "      <th>Формат кадра</th>\n",
       "      <th>Количество серий</th>\n",
       "      <th>Метраж (для фильмов на кинопленке)</th>\n",
       "      <th>...</th>\n",
       "      <th>Возрастная категория.1</th>\n",
       "      <th>Дубляж (где дублирован)</th>\n",
       "      <th>Срок действия прав проката до</th>\n",
       "      <th>Права проката переданы</th>\n",
       "      <th>Порядковый номер переоформления/продления</th>\n",
       "      <th>Должность подписанта</th>\n",
       "      <th>ФИО подписанта</th>\n",
       "      <th>Запись удалена</th>\n",
       "      <th>Дата удаления записи</th>\n",
       "      <th>Не показывать на сайте mkrf.ru</th>\n",
       "    </tr>\n",
       "  </thead>\n",
       "  <tbody>\n",
       "    <tr>\n",
       "      <th>nulls</th>\n",
       "      <td>51954</td>\n",
       "      <td>2</td>\n",
       "      <td>3852</td>\n",
       "      <td>74609</td>\n",
       "      <td>10990</td>\n",
       "      <td>5</td>\n",
       "      <td>103844</td>\n",
       "      <td>89606</td>\n",
       "      <td>57464</td>\n",
       "      <td>91163</td>\n",
       "      <td>...</td>\n",
       "      <td>2</td>\n",
       "      <td>103193</td>\n",
       "      <td>103777</td>\n",
       "      <td>103327</td>\n",
       "      <td>103830</td>\n",
       "      <td>83849</td>\n",
       "      <td>83850</td>\n",
       "      <td>103848</td>\n",
       "      <td>103847</td>\n",
       "      <td>103848</td>\n",
       "    </tr>\n",
       "  </tbody>\n",
       "</table>\n",
       "<p>1 rows × 41 columns</p>\n",
       "</div>"
      ],
      "text/plain": [
       "       Hаименование на иностранном языке  Дата регистрации удостоверения  \\\n",
       "nulls                              51954                               2   \n",
       "\n",
       "       Дата начала показа фильма  Примечание  Аннотация  Вид Фильма  \\\n",
       "nulls                       3852       74609      10990           5   \n",
       "\n",
       "       Язык оригинала  Формат кадра  Количество серий  \\\n",
       "nulls          103844         89606             57464   \n",
       "\n",
       "       Метраж (для фильмов на кинопленке)  ...  Возрастная категория.1  \\\n",
       "nulls                               91163  ...                       2   \n",
       "\n",
       "       Дубляж (где дублирован)  Срок действия прав проката до  \\\n",
       "nulls                   103193                         103777   \n",
       "\n",
       "       Права проката переданы  Порядковый номер переоформления/продления  \\\n",
       "nulls                  103327                                     103830   \n",
       "\n",
       "       Должность подписанта  ФИО подписанта  Запись удалена  \\\n",
       "nulls                 83849           83850          103848   \n",
       "\n",
       "       Дата удаления записи  Не показывать на сайте mkrf.ru  \n",
       "nulls                103847                          103848  \n",
       "\n",
       "[1 rows x 41 columns]"
      ]
     },
     "metadata": {},
     "output_type": "display_data"
    },
    {
     "data": {
      "application/vnd.microsoft.datawrangler.viewer.v0+json": {
       "columns": [
        {
         "name": "index",
         "rawType": "object",
         "type": "string"
        },
        {
         "name": "Hаименование на иностранном языке",
         "rawType": "int64",
         "type": "integer"
        },
        {
         "name": "Дата регистрации удостоверения",
         "rawType": "int64",
         "type": "integer"
        },
        {
         "name": "Дата начала показа фильма",
         "rawType": "int64",
         "type": "integer"
        },
        {
         "name": "Примечание",
         "rawType": "int64",
         "type": "integer"
        },
        {
         "name": "Аннотация",
         "rawType": "int64",
         "type": "integer"
        },
        {
         "name": "Вид Фильма",
         "rawType": "int64",
         "type": "integer"
        },
        {
         "name": "Язык оригинала",
         "rawType": "int64",
         "type": "integer"
        },
        {
         "name": "Формат кадра",
         "rawType": "int64",
         "type": "integer"
        },
        {
         "name": "Количество серий",
         "rawType": "int64",
         "type": "integer"
        },
        {
         "name": "Метраж (для фильмов на кинопленке)",
         "rawType": "int64",
         "type": "integer"
        },
        {
         "name": "Количество частей/рулонов (для фильмов на кинопленке)",
         "rawType": "int64",
         "type": "integer"
        },
        {
         "name": "Цвет",
         "rawType": "int64",
         "type": "integer"
        },
        {
         "name": "Продолжительность демонстрации, часы",
         "rawType": "int64",
         "type": "integer"
        },
        {
         "name": "Продолжительность демонстрации, минуты",
         "rawType": "int64",
         "type": "integer"
        },
        {
         "name": "Формат носителя",
         "rawType": "int64",
         "type": "integer"
        },
        {
         "name": "Объем носителя",
         "rawType": "int64",
         "type": "integer"
        },
        {
         "name": "Единица измерения",
         "rawType": "int64",
         "type": "integer"
        },
        {
         "name": "Студия-производитель",
         "rawType": "int64",
         "type": "integer"
        },
        {
         "name": "Страна производства",
         "rawType": "int64",
         "type": "integer"
        },
        {
         "name": "Год производства",
         "rawType": "int64",
         "type": "integer"
        },
        {
         "name": "Режиссер",
         "rawType": "int64",
         "type": "integer"
        },
        {
         "name": "Художник",
         "rawType": "int64",
         "type": "integer"
        },
        {
         "name": "Сценарист",
         "rawType": "int64",
         "type": "integer"
        },
        {
         "name": "Оператор",
         "rawType": "int64",
         "type": "integer"
        },
        {
         "name": "Композитор",
         "rawType": "int64",
         "type": "integer"
        },
        {
         "name": "Продюсер",
         "rawType": "int64",
         "type": "integer"
        },
        {
         "name": "Права на использование фильма",
         "rawType": "int64",
         "type": "integer"
        },
        {
         "name": "Категория прав на использование фильма",
         "rawType": "int64",
         "type": "integer"
        },
        {
         "name": "Срок действия прав на использование фильма",
         "rawType": "int64",
         "type": "integer"
        },
        {
         "name": "Срок действия прав на способ использования фильма",
         "rawType": "int64",
         "type": "integer"
        },
        {
         "name": "Возрастная категория",
         "rawType": "int64",
         "type": "integer"
        },
        {
         "name": "Возрастная категория.1",
         "rawType": "int64",
         "type": "integer"
        },
        {
         "name": "Дубляж (где дублирован)",
         "rawType": "int64",
         "type": "integer"
        },
        {
         "name": "Срок действия прав проката до",
         "rawType": "int64",
         "type": "integer"
        },
        {
         "name": "Права проката переданы",
         "rawType": "int64",
         "type": "integer"
        },
        {
         "name": "Порядковый номер переоформления/продления",
         "rawType": "int64",
         "type": "integer"
        },
        {
         "name": "Должность подписанта",
         "rawType": "int64",
         "type": "integer"
        },
        {
         "name": "ФИО подписанта",
         "rawType": "int64",
         "type": "integer"
        },
        {
         "name": "Запись удалена",
         "rawType": "int64",
         "type": "integer"
        },
        {
         "name": "Дата удаления записи",
         "rawType": "int64",
         "type": "integer"
        },
        {
         "name": "Не показывать на сайте mkrf.ru",
         "rawType": "int64",
         "type": "integer"
        }
       ],
       "ref": "97461071-5499-4760-9a27-4518c4936d17",
       "rows": [
        [
         "nans",
         "51954",
         "2",
         "3852",
         "74609",
         "10990",
         "5",
         "103844",
         "89606",
         "57464",
         "91163",
         "89566",
         "21",
         "16588",
         "2523",
         "85845",
         "95625",
         "95709",
         "169",
         "78",
         "211",
         "2617",
         "61941",
         "12131",
         "43925",
         "36608",
         "36939",
         "13",
         "6157",
         "103833",
         "5643",
         "1",
         "2",
         "103193",
         "103777",
         "103327",
         "103830",
         "83849",
         "83850",
         "103848",
         "103847",
         "103848"
        ]
       ],
       "shape": {
        "columns": 41,
        "rows": 1
       }
      },
      "text/html": [
       "<div>\n",
       "<style scoped>\n",
       "    .dataframe tbody tr th:only-of-type {\n",
       "        vertical-align: middle;\n",
       "    }\n",
       "\n",
       "    .dataframe tbody tr th {\n",
       "        vertical-align: top;\n",
       "    }\n",
       "\n",
       "    .dataframe thead th {\n",
       "        text-align: right;\n",
       "    }\n",
       "</style>\n",
       "<table border=\"1\" class=\"dataframe\">\n",
       "  <thead>\n",
       "    <tr style=\"text-align: right;\">\n",
       "      <th></th>\n",
       "      <th>Hаименование на иностранном языке</th>\n",
       "      <th>Дата регистрации удостоверения</th>\n",
       "      <th>Дата начала показа фильма</th>\n",
       "      <th>Примечание</th>\n",
       "      <th>Аннотация</th>\n",
       "      <th>Вид Фильма</th>\n",
       "      <th>Язык оригинала</th>\n",
       "      <th>Формат кадра</th>\n",
       "      <th>Количество серий</th>\n",
       "      <th>Метраж (для фильмов на кинопленке)</th>\n",
       "      <th>...</th>\n",
       "      <th>Возрастная категория.1</th>\n",
       "      <th>Дубляж (где дублирован)</th>\n",
       "      <th>Срок действия прав проката до</th>\n",
       "      <th>Права проката переданы</th>\n",
       "      <th>Порядковый номер переоформления/продления</th>\n",
       "      <th>Должность подписанта</th>\n",
       "      <th>ФИО подписанта</th>\n",
       "      <th>Запись удалена</th>\n",
       "      <th>Дата удаления записи</th>\n",
       "      <th>Не показывать на сайте mkrf.ru</th>\n",
       "    </tr>\n",
       "  </thead>\n",
       "  <tbody>\n",
       "    <tr>\n",
       "      <th>nans</th>\n",
       "      <td>51954</td>\n",
       "      <td>2</td>\n",
       "      <td>3852</td>\n",
       "      <td>74609</td>\n",
       "      <td>10990</td>\n",
       "      <td>5</td>\n",
       "      <td>103844</td>\n",
       "      <td>89606</td>\n",
       "      <td>57464</td>\n",
       "      <td>91163</td>\n",
       "      <td>...</td>\n",
       "      <td>2</td>\n",
       "      <td>103193</td>\n",
       "      <td>103777</td>\n",
       "      <td>103327</td>\n",
       "      <td>103830</td>\n",
       "      <td>83849</td>\n",
       "      <td>83850</td>\n",
       "      <td>103848</td>\n",
       "      <td>103847</td>\n",
       "      <td>103848</td>\n",
       "    </tr>\n",
       "  </tbody>\n",
       "</table>\n",
       "<p>1 rows × 41 columns</p>\n",
       "</div>"
      ],
      "text/plain": [
       "      Hаименование на иностранном языке  Дата регистрации удостоверения  \\\n",
       "nans                              51954                               2   \n",
       "\n",
       "      Дата начала показа фильма  Примечание  Аннотация  Вид Фильма  \\\n",
       "nans                       3852       74609      10990           5   \n",
       "\n",
       "      Язык оригинала  Формат кадра  Количество серий  \\\n",
       "nans          103844         89606             57464   \n",
       "\n",
       "      Метраж (для фильмов на кинопленке)  ...  Возрастная категория.1  \\\n",
       "nans                               91163  ...                       2   \n",
       "\n",
       "      Дубляж (где дублирован)  Срок действия прав проката до  \\\n",
       "nans                   103193                         103777   \n",
       "\n",
       "      Права проката переданы  Порядковый номер переоформления/продления  \\\n",
       "nans                  103327                                     103830   \n",
       "\n",
       "      Должность подписанта  ФИО подписанта  Запись удалена  \\\n",
       "nans                 83849           83850          103848   \n",
       "\n",
       "      Дата удаления записи  Не показывать на сайте mkrf.ru  \n",
       "nans                103847                          103848  \n",
       "\n",
       "[1 rows x 41 columns]"
      ]
     },
     "metadata": {},
     "output_type": "display_data"
    },
    {
     "data": {
      "application/vnd.microsoft.datawrangler.viewer.v0+json": {
       "columns": [
        {
         "name": "index",
         "rawType": "object",
         "type": "string"
        }
       ],
       "ref": "f357786e-4444-47b0-83db-f980902d22d8",
       "rows": [
        [
         "nones"
        ]
       ],
       "shape": {
        "columns": 0,
        "rows": 1
       }
      },
      "text/html": [
       "<div>\n",
       "<style scoped>\n",
       "    .dataframe tbody tr th:only-of-type {\n",
       "        vertical-align: middle;\n",
       "    }\n",
       "\n",
       "    .dataframe tbody tr th {\n",
       "        vertical-align: top;\n",
       "    }\n",
       "\n",
       "    .dataframe thead th {\n",
       "        text-align: right;\n",
       "    }\n",
       "</style>\n",
       "<table border=\"1\" class=\"dataframe\">\n",
       "  <thead>\n",
       "    <tr style=\"text-align: right;\">\n",
       "      <th></th>\n",
       "    </tr>\n",
       "  </thead>\n",
       "  <tbody>\n",
       "    <tr>\n",
       "      <th>nones</th>\n",
       "    </tr>\n",
       "  </tbody>\n",
       "</table>\n",
       "</div>"
      ],
      "text/plain": [
       "Empty DataFrame\n",
       "Columns: []\n",
       "Index: [nones]"
      ]
     },
     "metadata": {},
     "output_type": "display_data"
    },
    {
     "data": {
      "application/vnd.microsoft.datawrangler.viewer.v0+json": {
       "columns": [
        {
         "name": "index",
         "rawType": "object",
         "type": "string"
        }
       ],
       "ref": "ae176694-eee8-4e6e-a5e5-5221dea12c03",
       "rows": [
        [
         "NA placeholder"
        ]
       ],
       "shape": {
        "columns": 0,
        "rows": 1
       }
      },
      "text/html": [
       "<div>\n",
       "<style scoped>\n",
       "    .dataframe tbody tr th:only-of-type {\n",
       "        vertical-align: middle;\n",
       "    }\n",
       "\n",
       "    .dataframe tbody tr th {\n",
       "        vertical-align: top;\n",
       "    }\n",
       "\n",
       "    .dataframe thead th {\n",
       "        text-align: right;\n",
       "    }\n",
       "</style>\n",
       "<table border=\"1\" class=\"dataframe\">\n",
       "  <thead>\n",
       "    <tr style=\"text-align: right;\">\n",
       "      <th></th>\n",
       "    </tr>\n",
       "  </thead>\n",
       "  <tbody>\n",
       "    <tr>\n",
       "      <th>NA placeholder</th>\n",
       "    </tr>\n",
       "  </tbody>\n",
       "</table>\n",
       "</div>"
      ],
      "text/plain": [
       "Empty DataFrame\n",
       "Columns: []\n",
       "Index: [NA placeholder]"
      ]
     },
     "metadata": {},
     "output_type": "display_data"
    },
    {
     "data": {
      "application/vnd.microsoft.datawrangler.viewer.v0+json": {
       "columns": [
        {
         "name": "index",
         "rawType": "object",
         "type": "string"
        }
       ],
       "ref": "435f217c-4ecb-4961-b3d5-16af1d894e61",
       "rows": [
        [
         "null placeholder"
        ]
       ],
       "shape": {
        "columns": 0,
        "rows": 1
       }
      },
      "text/html": [
       "<div>\n",
       "<style scoped>\n",
       "    .dataframe tbody tr th:only-of-type {\n",
       "        vertical-align: middle;\n",
       "    }\n",
       "\n",
       "    .dataframe tbody tr th {\n",
       "        vertical-align: top;\n",
       "    }\n",
       "\n",
       "    .dataframe thead th {\n",
       "        text-align: right;\n",
       "    }\n",
       "</style>\n",
       "<table border=\"1\" class=\"dataframe\">\n",
       "  <thead>\n",
       "    <tr style=\"text-align: right;\">\n",
       "      <th></th>\n",
       "    </tr>\n",
       "  </thead>\n",
       "  <tbody>\n",
       "    <tr>\n",
       "      <th>null placeholder</th>\n",
       "    </tr>\n",
       "  </tbody>\n",
       "</table>\n",
       "</div>"
      ],
      "text/plain": [
       "Empty DataFrame\n",
       "Columns: []\n",
       "Index: [null placeholder]"
      ]
     },
     "metadata": {},
     "output_type": "display_data"
    },
    {
     "data": {
      "application/vnd.microsoft.datawrangler.viewer.v0+json": {
       "columns": [
        {
         "name": "index",
         "rawType": "object",
         "type": "string"
        }
       ],
       "ref": "14493cc7-08a3-4f3b-9e0b-821cfa813b30",
       "rows": [
        [
         "N/A placeholder"
        ]
       ],
       "shape": {
        "columns": 0,
        "rows": 1
       }
      },
      "text/html": [
       "<div>\n",
       "<style scoped>\n",
       "    .dataframe tbody tr th:only-of-type {\n",
       "        vertical-align: middle;\n",
       "    }\n",
       "\n",
       "    .dataframe tbody tr th {\n",
       "        vertical-align: top;\n",
       "    }\n",
       "\n",
       "    .dataframe thead th {\n",
       "        text-align: right;\n",
       "    }\n",
       "</style>\n",
       "<table border=\"1\" class=\"dataframe\">\n",
       "  <thead>\n",
       "    <tr style=\"text-align: right;\">\n",
       "      <th></th>\n",
       "    </tr>\n",
       "  </thead>\n",
       "  <tbody>\n",
       "    <tr>\n",
       "      <th>N/A placeholder</th>\n",
       "    </tr>\n",
       "  </tbody>\n",
       "</table>\n",
       "</div>"
      ],
      "text/plain": [
       "Empty DataFrame\n",
       "Columns: []\n",
       "Index: [N/A placeholder]"
      ]
     },
     "metadata": {},
     "output_type": "display_data"
    }
   ],
   "source": [
    "pd_tools.df_info(raw_data)"
   ]
  },
  {
   "cell_type": "code",
   "execution_count": 13,
   "id": "d974b56f",
   "metadata": {},
   "outputs": [
    {
     "data": {
      "text/plain": [
       "Index(['Название фильма', 'Hаименование на иностранном языке',\n",
       "       'Номер удостоверения', 'Дата регистрации удостоверения',\n",
       "       'Дата начала показа фильма', 'Примечание',\n",
       "       'Идентификатор записи реестра', 'Аннотация', 'Вид Фильма', 'Категория',\n",
       "       'Язык оригинала', 'Формат кадра', 'Количество серий',\n",
       "       'Метраж (для фильмов на кинопленке)',\n",
       "       'Количество частей/рулонов (для фильмов на кинопленке)', 'Цвет',\n",
       "       'Продолжительность демонстрации, часы',\n",
       "       'Продолжительность демонстрации, минуты', 'Формат носителя',\n",
       "       'Объем носителя', 'Единица измерения', 'Студия-производитель',\n",
       "       'Страна производства', 'Год производства', 'Режиссер', 'Художник',\n",
       "       'Сценарист', 'Оператор', 'Композитор', 'Продюсер',\n",
       "       'Права на использование фильма',\n",
       "       'Категория прав на использование фильма',\n",
       "       'Срок действия прав на использование фильма',\n",
       "       'Срок действия прав на способ использования фильма',\n",
       "       'Возрастная категория', 'Возрастная категория.1',\n",
       "       'Дубляж (где дублирован)', 'Срок действия прав проката до', 'Код',\n",
       "       'Права проката переданы', 'Порядковый номер переоформления/продления',\n",
       "       'Должность подписанта', 'ФИО подписанта', 'Запись удалена',\n",
       "       'Дата удаления записи', 'Не показывать на сайте mkrf.ru',\n",
       "       'дата создания объекта', 'дата обновления объекта'],\n",
       "      dtype='object')"
      ]
     },
     "execution_count": 13,
     "metadata": {},
     "output_type": "execute_result"
    }
   ],
   "source": [
    "raw_data.columns"
   ]
  },
  {
   "cell_type": "code",
   "execution_count": 4,
   "id": "befb0dd3",
   "metadata": {},
   "outputs": [
    {
     "data": {
      "application/vnd.microsoft.datawrangler.viewer.v0+json": {
       "columns": [
        {
         "name": "index",
         "rawType": "object",
         "type": "string"
        },
        {
         "name": "duplicated_count",
         "rawType": "int64",
         "type": "integer"
        }
       ],
       "ref": "decac4ff-ab36-499e-ab76-ce20bc8aefc3",
       "rows": [
        [
         "Название фильма",
         "17600"
        ],
        [
         "Hаименование на иностранном языке",
         "69561"
        ],
        [
         "Номер удостоверения",
         "98"
        ],
        [
         "Дата регистрации удостоверения",
         "97113"
        ],
        [
         "Дата начала показа фильма",
         "96456"
        ]
       ],
       "shape": {
        "columns": 1,
        "rows": 5
       }
      },
      "text/html": [
       "<div>\n",
       "<style scoped>\n",
       "    .dataframe tbody tr th:only-of-type {\n",
       "        vertical-align: middle;\n",
       "    }\n",
       "\n",
       "    .dataframe tbody tr th {\n",
       "        vertical-align: top;\n",
       "    }\n",
       "\n",
       "    .dataframe thead th {\n",
       "        text-align: right;\n",
       "    }\n",
       "</style>\n",
       "<table border=\"1\" class=\"dataframe\">\n",
       "  <thead>\n",
       "    <tr style=\"text-align: right;\">\n",
       "      <th></th>\n",
       "      <th>duplicated_count</th>\n",
       "    </tr>\n",
       "  </thead>\n",
       "  <tbody>\n",
       "    <tr>\n",
       "      <th>Название фильма</th>\n",
       "      <td>17600</td>\n",
       "    </tr>\n",
       "    <tr>\n",
       "      <th>Hаименование на иностранном языке</th>\n",
       "      <td>69561</td>\n",
       "    </tr>\n",
       "    <tr>\n",
       "      <th>Номер удостоверения</th>\n",
       "      <td>98</td>\n",
       "    </tr>\n",
       "    <tr>\n",
       "      <th>Дата регистрации удостоверения</th>\n",
       "      <td>97113</td>\n",
       "    </tr>\n",
       "    <tr>\n",
       "      <th>Дата начала показа фильма</th>\n",
       "      <td>96456</td>\n",
       "    </tr>\n",
       "  </tbody>\n",
       "</table>\n",
       "</div>"
      ],
      "text/plain": [
       "                                   duplicated_count\n",
       "Название фильма                               17600\n",
       "Hаименование на иностранном языке             69561\n",
       "Номер удостоверения                              98\n",
       "Дата регистрации удостоверения                97113\n",
       "Дата начала показа фильма                     96456"
      ]
     },
     "execution_count": 4,
     "metadata": {},
     "output_type": "execute_result"
    }
   ],
   "source": [
    "# write duplicated values in columns\n",
    "d_cols = {}\n",
    "\n",
    "for col in raw_data.columns:\n",
    "    dsum = raw_data[col].duplicated().sum()\n",
    "    if dsum > 0:\n",
    "        d_cols[col] = dsum\n",
    "        \n",
    "d_cols = pd.DataFrame.from_dict(d_cols, orient='index', columns=['duplicated_count'])\n",
    "d_cols.head()\n"
   ]
  },
  {
   "cell_type": "code",
   "execution_count": 6,
   "id": "fe39d7a6",
   "metadata": {},
   "outputs": [
    {
     "name": "stdout",
     "output_type": "stream",
     "text": [
      "Table 'employees' created\n",
      "Data inserted into 'employees' table\n"
     ]
    }
   ],
   "source": [
    "# Создание курсора\n",
    "conn = conn_pg()\n",
    "\n",
    "cur = conn.cursor()\n",
    "\n",
    "# Создание таблицы\n",
    "cur.execute('''\n",
    "CREATE TABLE IF NOT EXISTS employees (\n",
    "    id SERIAL PRIMARY KEY,\n",
    "    name VARCHAR(100),\n",
    "    position VARCHAR(100),\n",
    "    salary NUMERIC\n",
    ");\n",
    "''')\n",
    "print(\"Table 'employees' created\")\n",
    "\n",
    "# Вставка данных в таблицу\n",
    "cur.execute('''\n",
    "INSERT INTO employees (name, position, salary)\n",
    "VALUES ('Alice', 'Manager', 70000),\n",
    "        ('Bob', 'Developer', 60000),\n",
    "        ('Charlie', 'Designer', 50000);\n",
    "''')\n",
    "print(\"Data inserted into 'employees' table\")\n",
    "\n",
    "# Сохранение изменений\n",
    "conn.commit()\n"
   ]
  },
  {
   "cell_type": "code",
   "execution_count": 7,
   "id": "a07270d0",
   "metadata": {},
   "outputs": [],
   "source": [
    "# Закрытие курсора и соединения\n",
    "conn_pg_close(conn)"
   ]
  },
  {
   "cell_type": "code",
   "execution_count": 9,
   "id": "53a38892",
   "metadata": {},
   "outputs": [
    {
     "name": "stdout",
     "output_type": "stream",
     "text": [
      "Table 'employees' created in ClickHouse\n"
     ]
    }
   ],
   "source": [
    "try:\n",
    "    # Создание таблицы\n",
    "    client.command('''\n",
    "    CREATE TABLE IF NOT EXISTS dbch.employees (\n",
    "        id UInt32,\n",
    "        name String,\n",
    "        position String,\n",
    "        salary Float32\n",
    "    ) ENGINE = MergeTree()\n",
    "    ORDER BY id;\n",
    "    ''')\n",
    "    print(\"Table 'employees' created in ClickHouse\")\n",
    "\n",
    "except Exception as e:\n",
    "    print(f\"Error connecting to ClickHouse: {e}\")\n"
   ]
  },
  {
   "cell_type": "code",
   "execution_count": 15,
   "id": "87fc3458",
   "metadata": {},
   "outputs": [
    {
     "data": {
      "text/plain": [
       "<clickhouse_connect.driver.query.QueryResult at 0x25cb2336810>"
      ]
     },
     "execution_count": 15,
     "metadata": {},
     "output_type": "execute_result"
    }
   ],
   "source": [
    "client.query('select * from dbch.employees')"
   ]
  },
  {
   "cell_type": "code",
   "execution_count": 16,
   "id": "c587c9de",
   "metadata": {},
   "outputs": [],
   "source": [
    "# # Correct way to insert rows\n",
    "# data = [\n",
    "#     (1, 'Alice', 'Manager', 70000.0),\n",
    "#     (2, 'Bob', 'Developer', 60000.0),\n",
    "#     (3, 'Charlie', 'Designer', 50000.0)\n",
    "# ]\n",
    "\n",
    "# client.insert('dbch.employees', data, column_names=['id', 'name', 'position', 'salary'])"
   ]
  },
  {
   "cell_type": "code",
   "execution_count": null,
   "id": "5d668bfa",
   "metadata": {},
   "outputs": [],
   "source": []
  }
 ],
 "metadata": {
  "kernelspec": {
   "display_name": "de",
   "language": "python",
   "name": "python3"
  },
  "language_info": {
   "codemirror_mode": {
    "name": "ipython",
    "version": 3
   },
   "file_extension": ".py",
   "mimetype": "text/x-python",
   "name": "python",
   "nbconvert_exporter": "python",
   "pygments_lexer": "ipython3",
   "version": "3.12.11"
  }
 },
 "nbformat": 4,
 "nbformat_minor": 5
}
