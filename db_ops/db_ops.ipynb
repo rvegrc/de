{
 "cells": [
  {
   "cell_type": "code",
   "execution_count": 1,
   "id": "33d7172d",
   "metadata": {},
   "outputs": [],
   "source": [
    "import psycopg2\n",
    "import clickhouse_connect\n",
    "import pandas as pd\n",
    "import os\n",
    "import sys\n",
    "import re\n",
    "import numpy as np\n",
    "\n",
    "\n",
    "# Подключение к PostgreSQL\n",
    "def conn_pg():\n",
    "    try:\n",
    "        conn = psycopg2.connect(\n",
    "            host=\"localhost\",\n",
    "            database=\"dbpg\",\n",
    "            user=\"user\",\n",
    "            password=\"password\",\n",
    "            port=5432\n",
    "        )\n",
    "        # print(\"Connected to PostgreSQL\")\n",
    "        # cur = conn.cursor()\n",
    "        # cur.execute(query)\n",
    "        # output = cur.fetchall()\n",
    "        # print(\"PostgreSQL version:\", db_version)\n",
    "        # if output:\n",
    "        #     return\n",
    "        # else:\n",
    "        #     print(\"No output from the query\")\n",
    "        return conn    \n",
    "    except Exception as e:\n",
    "        print(f\"Error connecting to PostgreSQL: {e}\")\n",
    "    \n",
    "def conn_pg_close(conn):\n",
    "    if conn:\n",
    "        cur = conn.cursor()\n",
    "        cur.close()\n",
    "        conn.close()\n",
    "        # print(\"PostgreSQL connection closed\")\n",
    "\n",
    "\n",
    "# Подключение к ClickHouse\n",
    "def conn_ch():\n",
    "    try:\n",
    "        client = clickhouse_connect.get_client(\n",
    "            host='localhost',\n",
    "            username='user',\n",
    "            password='password',\n",
    "            database='dbch',\n",
    "            port=28123\n",
    "        )\n",
    "        # print(\"Connected to ClickHouse\")\n",
    "        # version = client.command('SELECT version()')\n",
    "        # print(\"ClickHouse version:\", version)\n",
    "        return client\n",
    "    except Exception as e:\n",
    "        print(f\"Error connecting to ClickHouse: {e}\")\n",
    "\n",
    "        # print(\"Connected to ClickHouse\")\n",
    "        # version = client.command('SELECT version()')\n",
    "\n",
    "        # print(\"ClickHouse version:\", version)\n",
    "\n",
    "\n",
    "# import tools\n",
    "# Get the parent directory\n",
    "parent_dir = os.path.abspath(os.path.join(os.getcwd(), \"../..\")) # for subfolder\n",
    "\n",
    "# find tools in parent dir\n",
    "if os.path.isdir(os.path.join(parent_dir, 'tools')):\n",
    "    # Add parent directory to sys.path if found\n",
    "    sys.path.append(parent_dir)\n",
    "    \n",
    "else:\n",
    "    # for run in spark\n",
    "    parent_dir = os.path.abspath(os.path.join(os.getcwd(), \"../airflow/airflow_data\"))\n",
    "    \n",
    "    # Add parent directory to sys.path\n",
    "    sys.path.append(parent_dir)\n",
    "\n",
    "\n",
    "from tools import pd_tools\n",
    "from tools.paths import Paths\n",
    "from tools.db_tools import DbTools\n",
    "\n",
    "\n",
    "# import paths\n",
    "root_path = '..' # for local folder\n",
    "paths = Paths(root_path)\n",
    "data_path = paths.data_path\n",
    "tmp_path = paths.tmp_path\n",
    "prod_data_path = paths.prod_data_path\n",
    "dev_data_path = paths.dev_data_path\n",
    "prod_db = paths.prod_db\n",
    "dev_db = paths.dev_db\n",
    "tmp_db = paths.tmp_db\n",
    "tmp_data_path = paths.tmp_data_path\n",
    "\n",
    "# db_tools = DbTools(data_path, tmp_path, client)"
   ]
  },
  {
   "cell_type": "markdown",
   "id": "17d59882",
   "metadata": {},
   "source": [
    "## Load data and analyze it"
   ]
  },
  {
   "cell_type": "code",
   "execution_count": 2,
   "id": "22a4b231",
   "metadata": {},
   "outputs": [],
   "source": [
    "fc_reg_path = f'{data_path}/film_cert_registry'"
   ]
  },
  {
   "cell_type": "code",
   "execution_count": 342,
   "id": "93a74632",
   "metadata": {},
   "outputs": [
    {
     "name": "stderr",
     "output_type": "stream",
     "text": [
      "/home/pmu/projects/tools/pd_tools.py:23: DtypeWarning: Columns (2,13,18,19,20,32,35,37,40,43,44,45) have mixed types. Specify dtype option on import or set low_memory=False.\n",
      "  dict_dfs[name] = pd.read_csv(path + '/' + file)\n",
      "/home/pmu/projects/tools/pd_tools.py:23: DtypeWarning: Columns (2,12,13,14,17,19,20,32,35,36,37,40,44) have mixed types. Specify dtype option on import or set low_memory=False.\n",
      "  dict_dfs[name] = pd.read_csv(path + '/' + file)\n",
      "/home/pmu/projects/tools/pd_tools.py:23: DtypeWarning: Columns (3,5,7,8,11,20,23,28,38,39,40,42,43,44,47,51) have mixed types. Specify dtype option on import or set low_memory=False.\n",
      "  dict_dfs[name] = pd.read_csv(path + '/' + file)\n",
      "/home/pmu/projects/tools/pd_tools.py:23: DtypeWarning: Columns (3,5,7,8,11,20,23,28,43,44) have mixed types. Specify dtype option on import or set low_memory=False.\n",
      "  dict_dfs[name] = pd.read_csv(path + '/' + file)\n",
      "/home/pmu/projects/tools/pd_tools.py:23: DtypeWarning: Columns (2,13,18,19,20,32,35,37,41,44,45,46) have mixed types. Specify dtype option on import or set low_memory=False.\n",
      "  dict_dfs[name] = pd.read_csv(path + '/' + file)\n",
      "/home/pmu/projects/tools/pd_tools.py:23: DtypeWarning: Columns (2,13,18,19,20,32,35,37,41,45) have mixed types. Specify dtype option on import or set low_memory=False.\n",
      "  dict_dfs[name] = pd.read_csv(path + '/' + file)\n",
      "/home/pmu/projects/tools/pd_tools.py:23: DtypeWarning: Columns (2,12,13,14,17,19,20,32,35,36,37,40,44) have mixed types. Specify dtype option on import or set low_memory=False.\n",
      "  dict_dfs[name] = pd.read_csv(path + '/' + file)\n",
      "/home/pmu/projects/tools/pd_tools.py:23: DtypeWarning: Columns (2,12,13,14,17,19,20,32,35,36,37,40,44) have mixed types. Specify dtype option on import or set low_memory=False.\n",
      "  dict_dfs[name] = pd.read_csv(path + '/' + file)\n"
     ]
    }
   ],
   "source": [
    "# write files to df dict\n",
    "\n",
    "fc_reg_dict = pd_tools.dict_dfs(fc_reg_path)"
   ]
  },
  {
   "cell_type": "code",
   "execution_count": 343,
   "id": "439b5d96",
   "metadata": {},
   "outputs": [
    {
     "data": {
      "text/plain": [
       "['data-6-structure-3',\n",
       " 'data-7-structure-4',\n",
       " 'data-2-structure-1',\n",
       " 'data-1-structure-1',\n",
       " 'data-4-structure-2',\n",
       " 'data-3-structure-2',\n",
       " 'data-9-structure-4',\n",
       " 'data-8-structure-4']"
      ]
     },
     "execution_count": 343,
     "metadata": {},
     "output_type": "execute_result"
    }
   ],
   "source": [
    "file_names = list(fc_reg_dict.keys())  # Convert keys to a list for easier manipulation  \n",
    "file_names"
   ]
  },
  {
   "cell_type": "markdown",
   "id": "e1433ac6",
   "metadata": {},
   "source": [
    "## Rename common columns and create aggregated dataframe"
   ]
  },
  {
   "cell_type": "code",
   "execution_count": 344,
   "id": "9d3d34e5",
   "metadata": {},
   "outputs": [
    {
     "name": "stdout",
     "output_type": "stream",
     "text": [
      "Processing: data-6-structure-3\n",
      "Processing: data-7-structure-4\n",
      "Processing: data-2-structure-1\n",
      "Processing: data-1-structure-1\n",
      "Processing: data-4-structure-2\n",
      "Processing: data-3-structure-2\n",
      "Processing: data-9-structure-4\n",
      "Processing: data-8-structure-4\n"
     ]
    }
   ],
   "source": [
    "# create list of columns for each df\n",
    "columns = {}\n",
    "for file_name in file_names:\n",
    "    print(f'Processing: {file_name}')\n",
    "    df = fc_reg_dict[file_name]\n",
    "    columns[file_name] = list(df.columns)"
   ]
  },
  {
   "cell_type": "code",
   "execution_count": 345,
   "id": "35baf3c9",
   "metadata": {},
   "outputs": [
    {
     "data": {
      "text/plain": [
       "{'Аннотация',\n",
       " 'Возрастная категория',\n",
       " 'Год производства',\n",
       " 'Дата регистрации удостоверения',\n",
       " 'Единица измерения',\n",
       " 'Идентификатор записи реестра',\n",
       " 'Категория',\n",
       " 'Количество серий',\n",
       " 'Композитор',\n",
       " 'Название фильма',\n",
       " 'Номер удостоверения',\n",
       " 'Объем носителя',\n",
       " 'Оператор',\n",
       " 'Порядковый номер переоформления/продления',\n",
       " 'Права на использование фильма',\n",
       " 'Права проката переданы',\n",
       " 'Примечание',\n",
       " 'Продюсер',\n",
       " 'Режиссер',\n",
       " 'Страна производства',\n",
       " 'Студия-производитель',\n",
       " 'Сценарист',\n",
       " 'Формат кадра',\n",
       " 'Формат носителя',\n",
       " 'Художник',\n",
       " 'Цвет',\n",
       " 'Язык оригинала',\n",
       " 'дата обновления объекта',\n",
       " 'дата создания объекта'}"
      ]
     },
     "execution_count": 345,
     "metadata": {},
     "output_type": "execute_result"
    }
   ],
   "source": [
    "# find common columns in all df\n",
    "list_all_df_cols = []\n",
    "for key, value in columns.items():\n",
    "    list_all_df_cols.append(set(value))\n",
    "    \n",
    "common_columns = set.intersection(*list_all_df_cols)\n",
    "common_columns"
   ]
  },
  {
   "cell_type": "code",
   "execution_count": 346,
   "id": "ff85515a",
   "metadata": {},
   "outputs": [],
   "source": [
    "duration_columns = [\n",
    "    'Продолжительность демонстрации, часы',\n",
    "    'Продолжительность демонстрации, минуты',\n",
    "    'Продолжительность показа, минуты', \n",
    "    'Продолжительность показа, часы'\n",
    "]"
   ]
  },
  {
   "cell_type": "code",
   "execution_count": 348,
   "id": "24277bd7",
   "metadata": {},
   "outputs": [
    {
     "data": {
      "text/plain": [
       "['record_id',\n",
       " 'film_title',\n",
       " 'country_of_production',\n",
       " 'production_studio',\n",
       " 'year_of_production',\n",
       " 'cert_reg_date',\n",
       " 'category',\n",
       " 'film_usage_rights',\n",
       " 'certificate_number',\n",
       " 'age_rating',\n",
       " 'duration_hours',\n",
       " 'duration_minutes',\n",
       " 'synopsis',\n",
       " 'number_of_episodes',\n",
       " 'media_size',\n",
       " 'unit_of_measurement',\n",
       " 'amendment_number',\n",
       " 'distr_rights_transf',\n",
       " 'note',\n",
       " 'director',\n",
       " 'producer',\n",
       " 'screenwriter',\n",
       " 'cinematographer',\n",
       " 'art_director',\n",
       " 'composer',\n",
       " 'frame_format',\n",
       " 'media_format',\n",
       " 'color',\n",
       " 'original_language',\n",
       " 'object_update_date',\n",
       " 'object_creation_date']"
      ]
     },
     "execution_count": 348,
     "metadata": {},
     "output_type": "execute_result"
    }
   ],
   "source": [
    "column_rename_map = {\n",
    "    'Идентификатор записи реестра': 'record_id',\n",
    "    'Название фильма': 'film_title',\n",
    "    'Страна производства': 'country_of_production',\n",
    "    'Студия-производитель': 'production_studio',\n",
    "    'Год производства': 'year_of_production',\n",
    "    'Дата регистрации удостоверения': 'cert_reg_date',\n",
    "    'Категория': 'category',\n",
    "    'Права на использование фильма': 'film_usage_rights',\n",
    "    'Номер удостоверения': 'certificate_number',\n",
    "    'Возрастная категория': 'age_rating',\n",
    "    'Продолжительность демонстрации, часы': 'duration_hours',\n",
    "    'Продолжительность демонстрации, минуты': 'duration_minutes',\n",
    "    'Продолжительность показа, часы': 'duration_hours', # same as demonstration_duration_hours\n",
    "    'Продолжительность показа, минуты': 'duration_minutes',  # same as demonstration_duration_minutes\n",
    "    'Аннотация': 'synopsis',\n",
    "    'Количество серий': 'number_of_episodes',    \n",
    "    'Объем носителя': 'media_size',\n",
    "    'Единица измерения': 'unit_of_measurement',    \n",
    "    'Порядковый номер переоформления/продления': 'amendment_number',\n",
    "    'Права проката переданы': 'distr_rights_transf',\n",
    "    'Примечание': 'note',\n",
    "    'Режиссер': 'director',\n",
    "    'Продюсер': 'producer',\n",
    "    'Сценарист': 'screenwriter',\n",
    "    'Оператор': 'cinematographer',\n",
    "    'Художник': 'art_director',\n",
    "    'Композитор': 'composer', \n",
    "    'Студия-производитель': 'production_studio',    \n",
    "    'Формат кадра': 'frame_format',\n",
    "    'Формат носителя': 'media_format',\n",
    "    'Художник': 'art_director',\n",
    "    'Цвет': 'color',\n",
    "    'Язык оригинала': 'original_language',\n",
    "    'дата обновления объекта': 'object_update_date',\n",
    "    'дата создания объекта': 'object_creation_date',\n",
    "}\n",
    "\n",
    "# cretae list of columns for new dict_df\n",
    "new_df_columns = list(column_rename_map.values())\n",
    "\n",
    "new_df_columns = pd.Series(new_df_columns).drop_duplicates().to_list()\n",
    "new_df_columns"
   ]
  },
  {
   "cell_type": "code",
   "execution_count": 349,
   "id": "f2072a35",
   "metadata": {},
   "outputs": [
    {
     "name": "stdout",
     "output_type": "stream",
     "text": [
      "Processing: data-6-structure-3\n",
      "Processing: data-7-structure-4\n",
      "Processing: data-2-structure-1\n",
      "Processing: data-1-structure-1\n",
      "Processing: data-4-structure-2\n",
      "Processing: data-3-structure-2\n",
      "Processing: data-9-structure-4\n",
      "Processing: data-8-structure-4\n"
     ]
    },
    {
     "data": {
      "application/vnd.microsoft.datawrangler.viewer.v0+json": {
       "columns": [
        {
         "name": "index",
         "rawType": "int64",
         "type": "integer"
        },
        {
         "name": "record_id",
         "rawType": "int64",
         "type": "integer"
        },
        {
         "name": "film_title",
         "rawType": "object",
         "type": "string"
        },
        {
         "name": "country_of_production",
         "rawType": "object",
         "type": "string"
        },
        {
         "name": "production_studio",
         "rawType": "object",
         "type": "string"
        },
        {
         "name": "year_of_production",
         "rawType": "object",
         "type": "string"
        },
        {
         "name": "cert_reg_date",
         "rawType": "object",
         "type": "string"
        },
        {
         "name": "category",
         "rawType": "object",
         "type": "string"
        },
        {
         "name": "film_usage_rights",
         "rawType": "object",
         "type": "string"
        },
        {
         "name": "certificate_number",
         "rawType": "object",
         "type": "string"
        },
        {
         "name": "age_rating",
         "rawType": "object",
         "type": "string"
        },
        {
         "name": "duration_hours",
         "rawType": "float64",
         "type": "float"
        },
        {
         "name": "duration_minutes",
         "rawType": "object",
         "type": "unknown"
        },
        {
         "name": "synopsis",
         "rawType": "object",
         "type": "string"
        },
        {
         "name": "number_of_episodes",
         "rawType": "object",
         "type": "unknown"
        },
        {
         "name": "media_size",
         "rawType": "object",
         "type": "unknown"
        },
        {
         "name": "unit_of_measurement",
         "rawType": "object",
         "type": "unknown"
        },
        {
         "name": "amendment_number",
         "rawType": "object",
         "type": "unknown"
        },
        {
         "name": "distr_rights_transf",
         "rawType": "object",
         "type": "unknown"
        },
        {
         "name": "note",
         "rawType": "object",
         "type": "unknown"
        },
        {
         "name": "director",
         "rawType": "object",
         "type": "string"
        },
        {
         "name": "producer",
         "rawType": "object",
         "type": "unknown"
        },
        {
         "name": "screenwriter",
         "rawType": "object",
         "type": "string"
        },
        {
         "name": "cinematographer",
         "rawType": "object",
         "type": "unknown"
        },
        {
         "name": "art_director",
         "rawType": "object",
         "type": "unknown"
        },
        {
         "name": "composer",
         "rawType": "object",
         "type": "string"
        },
        {
         "name": "frame_format",
         "rawType": "object",
         "type": "unknown"
        },
        {
         "name": "media_format",
         "rawType": "object",
         "type": "unknown"
        },
        {
         "name": "color",
         "rawType": "object",
         "type": "string"
        },
        {
         "name": "original_language",
         "rawType": "float64",
         "type": "float"
        },
        {
         "name": "object_update_date",
         "rawType": "object",
         "type": "string"
        },
        {
         "name": "object_creation_date",
         "rawType": "object",
         "type": "string"
        }
       ],
       "ref": "6dd2247a-a592-4b06-9b4f-5808d9a69cdc",
       "rows": [
        [
         "0",
         "2157027",
         "Почти знаменит",
         "США",
         "Коламбиа Пикчерз",
         "2000",
         "2016-02-09T12:00:00.000Z",
         "Видео",
         "ЗАО \"ФЕЛИСТА\"",
         "221006316",
         "«18+» запрещено для детей",
         "2.0",
         "3.0",
         "В ролях: Фрэнсис МакДорманд, Кейт Хадсон. История американского мальчишки - корреспондента авторитетного музыкального журнала.",
         null,
         null,
         null,
         null,
         null,
         null,
         "Кемерон Кроу",
         null,
         "Кемерон Кроу",
         null,
         null,
         "Джон Бонхэм",
         null,
         null,
         "Цветной",
         null,
         "2018-04-09T09:12:02+03:00",
         "2017-07-05T14:10:11+03:00"
        ],
        [
         "1",
         "2157028",
         "Открытое окно.",
         "США",
         "Кард Интертейнмент, Имэйдж Интертейнмент",
         "2006",
         "2014-06-30T12:00:00.000Z",
         "Видео",
         "ООО \"Люксор Дистрибьюшн\"",
         "221027814",
         "«16+» для детей старше 16 лет",
         "1.0",
         "37.0",
         "В главных ролях: Робин Тюннин, Джоэль Эдгертон. Триллер",
         null,
         null,
         null,
         null,
         null,
         null,
         "Миа Голдмен",
         null,
         "Миа Голдмен",
         null,
         null,
         "Клифф Эйдельман",
         null,
         null,
         "Цветной",
         null,
         "2018-04-09T09:12:02+03:00",
         "2017-07-05T14:10:11+03:00"
        ],
        [
         "2",
         "2157029",
         "Открытый простор",
         "США",
         "Тачстоун Пикчерз, Кобальт Пикчерз, Бикон Пикчерз, Тиг Продакшнз",
         "2003",
         "2015-11-27T12:00:00.000Z",
         "Кино",
         "ООО \"Дистрибуционная кинокомпания \"Парадиз\"",
         "221048915",
         "«18+» запрещено для детей",
         "2.0",
         "23.0",
         "Драма-вестерн. В ролях: Роберт Дюволл, Кевин Костнер, Аннет Беннинг.",
         "1.0",
         null,
         null,
         null,
         null,
         null,
         "Кевин Костнер",
         "Дэвид Валдес, Кевин Костнер, Джейк Эбертс",
         "Лоран Пэйн, Крейг Сторпер",
         "Джеймс М.Муро",
         "Гэй С.Бакли",
         "Майкл Кэмен",
         "ш/э",
         null,
         "Цветной",
         null,
         "2018-04-09T09:12:02+03:00",
         "2017-07-05T14:10:11+03:00"
        ],
        [
         "3",
         "2157030",
         "Особо важное задание",
         "СССР",
         "Киностудия \"Мосфильм\"",
         "1980",
         "2016-09-13T12:00:00.000Z",
         "Кино",
         "ФГУП \"Киноконцерн \"Мосфильм\"",
         "111013716",
         "«6+» для детей старше шести лет",
         "2.0",
         "4.0",
         "В ролях - В.Заклунная, Н.Крючков, Е.Матвеев            Драма",
         "2.0",
         null,
         null,
         null,
         null,
         "Показ фильма в кинозале и прокат фильма на материальном носителе у ФГУП \"Киноконцерн \"Мосфильм\"",
         "Е.Матвеев",
         null,
         "Б.Добродеев, П.Попогребский",
         "И.Черных",
         "С.Валюшок",
         "Е.Птичкин",
         "ш/э",
         null,
         "Цветной",
         null,
         "2018-04-09T09:12:02+03:00",
         "2017-07-05T14:10:11+03:00"
        ],
        [
         "4",
         "2157031",
         "Особо опасен",
         "США",
         "Юниверсал Пикчерз, Кикстарт Продакшнз, Марк Платт Продакшнз, Рилейтивити Медиа, Спайгласс Интертейнмент, Стилкин Филмз, Топ Кау Продакшнз",
         "2008",
         "2016-10-10T12:00:00.000Z",
         "Кино",
         "ООО \"НД Плэй\"",
         "221038416",
         "«18+» запрещено для детей",
         "1.0",
         "50.0",
         "В ролях: Джеймс МакЭвой, Анджелина Джоли. Тайное общество.",
         "1.0",
         null,
         null,
         null,
         null,
         null,
         "Тимур Бекмамбетов",
         "Джим Лемли, Джейсон Нетер, Марк Е.Платт, Яйн Смит",
         "Майкл Брандт, Крис Морган, Дерек Хаас",
         "Митчелл Амундсен",
         "Джон Майр",
         "Дэнни Эльфман",
         "ш/э",
         null,
         "Цветной",
         null,
         "2019-05-20T11:24:32+03:00",
         "2017-07-05T14:10:11+03:00"
        ]
       ],
       "shape": {
        "columns": 31,
        "rows": 5
       }
      },
      "text/html": [
       "<div>\n",
       "<style scoped>\n",
       "    .dataframe tbody tr th:only-of-type {\n",
       "        vertical-align: middle;\n",
       "    }\n",
       "\n",
       "    .dataframe tbody tr th {\n",
       "        vertical-align: top;\n",
       "    }\n",
       "\n",
       "    .dataframe thead th {\n",
       "        text-align: right;\n",
       "    }\n",
       "</style>\n",
       "<table border=\"1\" class=\"dataframe\">\n",
       "  <thead>\n",
       "    <tr style=\"text-align: right;\">\n",
       "      <th></th>\n",
       "      <th>record_id</th>\n",
       "      <th>film_title</th>\n",
       "      <th>country_of_production</th>\n",
       "      <th>production_studio</th>\n",
       "      <th>year_of_production</th>\n",
       "      <th>cert_reg_date</th>\n",
       "      <th>category</th>\n",
       "      <th>film_usage_rights</th>\n",
       "      <th>certificate_number</th>\n",
       "      <th>age_rating</th>\n",
       "      <th>...</th>\n",
       "      <th>screenwriter</th>\n",
       "      <th>cinematographer</th>\n",
       "      <th>art_director</th>\n",
       "      <th>composer</th>\n",
       "      <th>frame_format</th>\n",
       "      <th>media_format</th>\n",
       "      <th>color</th>\n",
       "      <th>original_language</th>\n",
       "      <th>object_update_date</th>\n",
       "      <th>object_creation_date</th>\n",
       "    </tr>\n",
       "  </thead>\n",
       "  <tbody>\n",
       "    <tr>\n",
       "      <th>0</th>\n",
       "      <td>2157027</td>\n",
       "      <td>Почти знаменит</td>\n",
       "      <td>США</td>\n",
       "      <td>Коламбиа Пикчерз</td>\n",
       "      <td>2000</td>\n",
       "      <td>2016-02-09T12:00:00.000Z</td>\n",
       "      <td>Видео</td>\n",
       "      <td>ЗАО \"ФЕЛИСТА\"</td>\n",
       "      <td>221006316</td>\n",
       "      <td>«18+» запрещено для детей</td>\n",
       "      <td>...</td>\n",
       "      <td>Кемерон Кроу</td>\n",
       "      <td>NaN</td>\n",
       "      <td>NaN</td>\n",
       "      <td>Джон Бонхэм</td>\n",
       "      <td>NaN</td>\n",
       "      <td>NaN</td>\n",
       "      <td>Цветной</td>\n",
       "      <td>NaN</td>\n",
       "      <td>2018-04-09T09:12:02+03:00</td>\n",
       "      <td>2017-07-05T14:10:11+03:00</td>\n",
       "    </tr>\n",
       "    <tr>\n",
       "      <th>1</th>\n",
       "      <td>2157028</td>\n",
       "      <td>Открытое окно.</td>\n",
       "      <td>США</td>\n",
       "      <td>Кард Интертейнмент, Имэйдж Интертейнмент</td>\n",
       "      <td>2006</td>\n",
       "      <td>2014-06-30T12:00:00.000Z</td>\n",
       "      <td>Видео</td>\n",
       "      <td>ООО \"Люксор Дистрибьюшн\"</td>\n",
       "      <td>221027814</td>\n",
       "      <td>«16+» для детей старше 16 лет</td>\n",
       "      <td>...</td>\n",
       "      <td>Миа Голдмен</td>\n",
       "      <td>NaN</td>\n",
       "      <td>NaN</td>\n",
       "      <td>Клифф Эйдельман</td>\n",
       "      <td>NaN</td>\n",
       "      <td>NaN</td>\n",
       "      <td>Цветной</td>\n",
       "      <td>NaN</td>\n",
       "      <td>2018-04-09T09:12:02+03:00</td>\n",
       "      <td>2017-07-05T14:10:11+03:00</td>\n",
       "    </tr>\n",
       "    <tr>\n",
       "      <th>2</th>\n",
       "      <td>2157029</td>\n",
       "      <td>Открытый простор</td>\n",
       "      <td>США</td>\n",
       "      <td>Тачстоун Пикчерз, Кобальт Пикчерз, Бикон Пикче...</td>\n",
       "      <td>2003</td>\n",
       "      <td>2015-11-27T12:00:00.000Z</td>\n",
       "      <td>Кино</td>\n",
       "      <td>ООО \"Дистрибуционная кинокомпания \"Парадиз\"</td>\n",
       "      <td>221048915</td>\n",
       "      <td>«18+» запрещено для детей</td>\n",
       "      <td>...</td>\n",
       "      <td>Лоран Пэйн, Крейг Сторпер</td>\n",
       "      <td>Джеймс М.Муро</td>\n",
       "      <td>Гэй С.Бакли</td>\n",
       "      <td>Майкл Кэмен</td>\n",
       "      <td>ш/э</td>\n",
       "      <td>NaN</td>\n",
       "      <td>Цветной</td>\n",
       "      <td>NaN</td>\n",
       "      <td>2018-04-09T09:12:02+03:00</td>\n",
       "      <td>2017-07-05T14:10:11+03:00</td>\n",
       "    </tr>\n",
       "    <tr>\n",
       "      <th>3</th>\n",
       "      <td>2157030</td>\n",
       "      <td>Особо важное задание</td>\n",
       "      <td>СССР</td>\n",
       "      <td>Киностудия \"Мосфильм\"</td>\n",
       "      <td>1980</td>\n",
       "      <td>2016-09-13T12:00:00.000Z</td>\n",
       "      <td>Кино</td>\n",
       "      <td>ФГУП \"Киноконцерн \"Мосфильм\"</td>\n",
       "      <td>111013716</td>\n",
       "      <td>«6+» для детей старше шести лет</td>\n",
       "      <td>...</td>\n",
       "      <td>Б.Добродеев, П.Попогребский</td>\n",
       "      <td>И.Черных</td>\n",
       "      <td>С.Валюшок</td>\n",
       "      <td>Е.Птичкин</td>\n",
       "      <td>ш/э</td>\n",
       "      <td>NaN</td>\n",
       "      <td>Цветной</td>\n",
       "      <td>NaN</td>\n",
       "      <td>2018-04-09T09:12:02+03:00</td>\n",
       "      <td>2017-07-05T14:10:11+03:00</td>\n",
       "    </tr>\n",
       "    <tr>\n",
       "      <th>4</th>\n",
       "      <td>2157031</td>\n",
       "      <td>Особо опасен</td>\n",
       "      <td>США</td>\n",
       "      <td>Юниверсал Пикчерз, Кикстарт Продакшнз, Марк Пл...</td>\n",
       "      <td>2008</td>\n",
       "      <td>2016-10-10T12:00:00.000Z</td>\n",
       "      <td>Кино</td>\n",
       "      <td>ООО \"НД Плэй\"</td>\n",
       "      <td>221038416</td>\n",
       "      <td>«18+» запрещено для детей</td>\n",
       "      <td>...</td>\n",
       "      <td>Майкл Брандт, Крис Морган, Дерек Хаас</td>\n",
       "      <td>Митчелл Амундсен</td>\n",
       "      <td>Джон Майр</td>\n",
       "      <td>Дэнни Эльфман</td>\n",
       "      <td>ш/э</td>\n",
       "      <td>NaN</td>\n",
       "      <td>Цветной</td>\n",
       "      <td>NaN</td>\n",
       "      <td>2019-05-20T11:24:32+03:00</td>\n",
       "      <td>2017-07-05T14:10:11+03:00</td>\n",
       "    </tr>\n",
       "  </tbody>\n",
       "</table>\n",
       "<p>5 rows × 31 columns</p>\n",
       "</div>"
      ],
      "text/plain": [
       "   record_id            film_title country_of_production  \\\n",
       "0    2157027        Почти знаменит                   США   \n",
       "1    2157028        Открытое окно.                   США   \n",
       "2    2157029      Открытый простор                   США   \n",
       "3    2157030  Особо важное задание                  СССР   \n",
       "4    2157031          Особо опасен                   США   \n",
       "\n",
       "                                   production_studio year_of_production  \\\n",
       "0                                   Коламбиа Пикчерз               2000   \n",
       "1           Кард Интертейнмент, Имэйдж Интертейнмент               2006   \n",
       "2  Тачстоун Пикчерз, Кобальт Пикчерз, Бикон Пикче...               2003   \n",
       "3                              Киностудия \"Мосфильм\"               1980   \n",
       "4  Юниверсал Пикчерз, Кикстарт Продакшнз, Марк Пл...               2008   \n",
       "\n",
       "              cert_reg_date category  \\\n",
       "0  2016-02-09T12:00:00.000Z    Видео   \n",
       "1  2014-06-30T12:00:00.000Z    Видео   \n",
       "2  2015-11-27T12:00:00.000Z     Кино   \n",
       "3  2016-09-13T12:00:00.000Z     Кино   \n",
       "4  2016-10-10T12:00:00.000Z     Кино   \n",
       "\n",
       "                             film_usage_rights certificate_number  \\\n",
       "0                                ЗАО \"ФЕЛИСТА\"          221006316   \n",
       "1                     ООО \"Люксор Дистрибьюшн\"          221027814   \n",
       "2  ООО \"Дистрибуционная кинокомпания \"Парадиз\"          221048915   \n",
       "3                 ФГУП \"Киноконцерн \"Мосфильм\"          111013716   \n",
       "4                                ООО \"НД Плэй\"          221038416   \n",
       "\n",
       "                        age_rating  ...  \\\n",
       "0        «18+» запрещено для детей  ...   \n",
       "1    «16+» для детей старше 16 лет  ...   \n",
       "2        «18+» запрещено для детей  ...   \n",
       "3  «6+» для детей старше шести лет  ...   \n",
       "4        «18+» запрещено для детей  ...   \n",
       "\n",
       "                            screenwriter   cinematographer art_director  \\\n",
       "0                           Кемерон Кроу               NaN          NaN   \n",
       "1                            Миа Голдмен               NaN          NaN   \n",
       "2              Лоран Пэйн, Крейг Сторпер     Джеймс М.Муро  Гэй С.Бакли   \n",
       "3            Б.Добродеев, П.Попогребский          И.Черных    С.Валюшок   \n",
       "4  Майкл Брандт, Крис Морган, Дерек Хаас  Митчелл Амундсен    Джон Майр   \n",
       "\n",
       "          composer frame_format media_format    color original_language  \\\n",
       "0      Джон Бонхэм          NaN          NaN  Цветной               NaN   \n",
       "1  Клифф Эйдельман          NaN          NaN  Цветной               NaN   \n",
       "2      Майкл Кэмен          ш/э          NaN  Цветной               NaN   \n",
       "3        Е.Птичкин          ш/э          NaN  Цветной               NaN   \n",
       "4    Дэнни Эльфман          ш/э          NaN  Цветной               NaN   \n",
       "\n",
       "          object_update_date       object_creation_date  \n",
       "0  2018-04-09T09:12:02+03:00  2017-07-05T14:10:11+03:00  \n",
       "1  2018-04-09T09:12:02+03:00  2017-07-05T14:10:11+03:00  \n",
       "2  2018-04-09T09:12:02+03:00  2017-07-05T14:10:11+03:00  \n",
       "3  2018-04-09T09:12:02+03:00  2017-07-05T14:10:11+03:00  \n",
       "4  2019-05-20T11:24:32+03:00  2017-07-05T14:10:11+03:00  \n",
       "\n",
       "[5 rows x 31 columns]"
      ]
     },
     "execution_count": 349,
     "metadata": {},
     "output_type": "execute_result"
    }
   ],
   "source": [
    "# create new dict_df with only renamed columns\n",
    "fc_reg_dict_new = {}\n",
    "for file_name in file_names:\n",
    "    print(f'Processing: {file_name}')\n",
    "    df_old = fc_reg_dict[file_name]\n",
    "    df_new = df_old.rename(columns=column_rename_map)\n",
    "    df_new = df_new.copy()[new_df_columns]\n",
    "    fc_reg_dict_new[file_name] = df_new  # Update the null dictionary with df has renamed columns only\n",
    "\n",
    "# create df with all df from dict\n",
    "fc_reg_df = pd.concat(fc_reg_dict_new.values(), ignore_index=True)\n",
    "fc_reg_df.head()"
   ]
  },
  {
   "cell_type": "code",
   "execution_count": 350,
   "id": "c13c6383",
   "metadata": {},
   "outputs": [
    {
     "name": "stdout",
     "output_type": "stream",
     "text": [
      "<class 'pandas.core.frame.DataFrame'>\n",
      "RangeIndex: 745664 entries, 0 to 745663\n",
      "Data columns (total 31 columns):\n",
      " #   Column                 Non-Null Count   Dtype  \n",
      "---  ------                 --------------   -----  \n",
      " 0   record_id              745664 non-null  int64  \n",
      " 1   film_title             745664 non-null  object \n",
      " 2   country_of_production  745141 non-null  object \n",
      " 3   production_studio      744662 non-null  object \n",
      " 4   year_of_production     743963 non-null  object \n",
      " 5   cert_reg_date          745550 non-null  object \n",
      " 6   category               745664 non-null  object \n",
      " 7   film_usage_rights      732182 non-null  object \n",
      " 8   certificate_number     745664 non-null  object \n",
      " 9   age_rating             745446 non-null  object \n",
      " 10  duration_hours         616376 non-null  float64\n",
      " 11  duration_minutes       726036 non-null  object \n",
      " 12  synopsis               687621 non-null  object \n",
      " 13  number_of_episodes     297966 non-null  object \n",
      " 14  media_size             27089 non-null   object \n",
      " 15  unit_of_measurement    26810 non-null   object \n",
      " 16  amendment_number       64 non-null      object \n",
      " 17  distr_rights_transf    2038 non-null    object \n",
      " 18  note                   232552 non-null  object \n",
      " 19  director               724757 non-null  object \n",
      " 20  producer               452262 non-null  object \n",
      " 21  screenwriter           649532 non-null  object \n",
      " 22  cinematographer        406484 non-null  object \n",
      " 23  art_director           277294 non-null  object \n",
      " 24  composer               474582 non-null  object \n",
      " 25  frame_format           81508 non-null   object \n",
      " 26  media_format           59907 non-null   object \n",
      " 27  color                  745587 non-null  object \n",
      " 28  original_language      29 non-null      float64\n",
      " 29  object_update_date     745664 non-null  object \n",
      " 30  object_creation_date   745664 non-null  object \n",
      "dtypes: float64(2), int64(1), object(28)\n",
      "memory usage: 176.4+ MB\n",
      "None\n"
     ]
    },
    {
     "data": {
      "text/plain": [
       "'First 5 rows in df'"
      ]
     },
     "metadata": {},
     "output_type": "display_data"
    },
    {
     "data": {
      "application/vnd.microsoft.datawrangler.viewer.v0+json": {
       "columns": [
        {
         "name": "index",
         "rawType": "int64",
         "type": "integer"
        },
        {
         "name": "record_id",
         "rawType": "int64",
         "type": "integer"
        },
        {
         "name": "film_title",
         "rawType": "object",
         "type": "string"
        },
        {
         "name": "country_of_production",
         "rawType": "object",
         "type": "string"
        },
        {
         "name": "production_studio",
         "rawType": "object",
         "type": "string"
        },
        {
         "name": "year_of_production",
         "rawType": "object",
         "type": "string"
        },
        {
         "name": "cert_reg_date",
         "rawType": "object",
         "type": "string"
        },
        {
         "name": "category",
         "rawType": "object",
         "type": "string"
        },
        {
         "name": "film_usage_rights",
         "rawType": "object",
         "type": "string"
        },
        {
         "name": "certificate_number",
         "rawType": "object",
         "type": "string"
        },
        {
         "name": "age_rating",
         "rawType": "object",
         "type": "string"
        },
        {
         "name": "duration_hours",
         "rawType": "float64",
         "type": "float"
        },
        {
         "name": "duration_minutes",
         "rawType": "object",
         "type": "unknown"
        },
        {
         "name": "synopsis",
         "rawType": "object",
         "type": "string"
        },
        {
         "name": "number_of_episodes",
         "rawType": "object",
         "type": "unknown"
        },
        {
         "name": "media_size",
         "rawType": "object",
         "type": "unknown"
        },
        {
         "name": "unit_of_measurement",
         "rawType": "object",
         "type": "unknown"
        },
        {
         "name": "amendment_number",
         "rawType": "object",
         "type": "unknown"
        },
        {
         "name": "distr_rights_transf",
         "rawType": "object",
         "type": "unknown"
        },
        {
         "name": "note",
         "rawType": "object",
         "type": "unknown"
        },
        {
         "name": "director",
         "rawType": "object",
         "type": "string"
        },
        {
         "name": "producer",
         "rawType": "object",
         "type": "unknown"
        },
        {
         "name": "screenwriter",
         "rawType": "object",
         "type": "string"
        },
        {
         "name": "cinematographer",
         "rawType": "object",
         "type": "unknown"
        },
        {
         "name": "art_director",
         "rawType": "object",
         "type": "unknown"
        },
        {
         "name": "composer",
         "rawType": "object",
         "type": "string"
        },
        {
         "name": "frame_format",
         "rawType": "object",
         "type": "unknown"
        },
        {
         "name": "media_format",
         "rawType": "object",
         "type": "unknown"
        },
        {
         "name": "color",
         "rawType": "object",
         "type": "string"
        },
        {
         "name": "original_language",
         "rawType": "float64",
         "type": "float"
        },
        {
         "name": "object_update_date",
         "rawType": "object",
         "type": "string"
        },
        {
         "name": "object_creation_date",
         "rawType": "object",
         "type": "string"
        }
       ],
       "ref": "c2e1ab18-9990-4b85-a5c9-8d7a1e77824e",
       "rows": [
        [
         "0",
         "2157027",
         "Почти знаменит",
         "США",
         "Коламбиа Пикчерз",
         "2000",
         "2016-02-09T12:00:00.000Z",
         "Видео",
         "ЗАО \"ФЕЛИСТА\"",
         "221006316",
         "«18+» запрещено для детей",
         "2.0",
         "3.0",
         "В ролях: Фрэнсис МакДорманд, Кейт Хадсон. История американского мальчишки - корреспондента авторитетного музыкального журнала.",
         null,
         null,
         null,
         null,
         null,
         null,
         "Кемерон Кроу",
         null,
         "Кемерон Кроу",
         null,
         null,
         "Джон Бонхэм",
         null,
         null,
         "Цветной",
         null,
         "2018-04-09T09:12:02+03:00",
         "2017-07-05T14:10:11+03:00"
        ],
        [
         "1",
         "2157028",
         "Открытое окно.",
         "США",
         "Кард Интертейнмент, Имэйдж Интертейнмент",
         "2006",
         "2014-06-30T12:00:00.000Z",
         "Видео",
         "ООО \"Люксор Дистрибьюшн\"",
         "221027814",
         "«16+» для детей старше 16 лет",
         "1.0",
         "37.0",
         "В главных ролях: Робин Тюннин, Джоэль Эдгертон. Триллер",
         null,
         null,
         null,
         null,
         null,
         null,
         "Миа Голдмен",
         null,
         "Миа Голдмен",
         null,
         null,
         "Клифф Эйдельман",
         null,
         null,
         "Цветной",
         null,
         "2018-04-09T09:12:02+03:00",
         "2017-07-05T14:10:11+03:00"
        ],
        [
         "2",
         "2157029",
         "Открытый простор",
         "США",
         "Тачстоун Пикчерз, Кобальт Пикчерз, Бикон Пикчерз, Тиг Продакшнз",
         "2003",
         "2015-11-27T12:00:00.000Z",
         "Кино",
         "ООО \"Дистрибуционная кинокомпания \"Парадиз\"",
         "221048915",
         "«18+» запрещено для детей",
         "2.0",
         "23.0",
         "Драма-вестерн. В ролях: Роберт Дюволл, Кевин Костнер, Аннет Беннинг.",
         "1.0",
         null,
         null,
         null,
         null,
         null,
         "Кевин Костнер",
         "Дэвид Валдес, Кевин Костнер, Джейк Эбертс",
         "Лоран Пэйн, Крейг Сторпер",
         "Джеймс М.Муро",
         "Гэй С.Бакли",
         "Майкл Кэмен",
         "ш/э",
         null,
         "Цветной",
         null,
         "2018-04-09T09:12:02+03:00",
         "2017-07-05T14:10:11+03:00"
        ],
        [
         "3",
         "2157030",
         "Особо важное задание",
         "СССР",
         "Киностудия \"Мосфильм\"",
         "1980",
         "2016-09-13T12:00:00.000Z",
         "Кино",
         "ФГУП \"Киноконцерн \"Мосфильм\"",
         "111013716",
         "«6+» для детей старше шести лет",
         "2.0",
         "4.0",
         "В ролях - В.Заклунная, Н.Крючков, Е.Матвеев            Драма",
         "2.0",
         null,
         null,
         null,
         null,
         "Показ фильма в кинозале и прокат фильма на материальном носителе у ФГУП \"Киноконцерн \"Мосфильм\"",
         "Е.Матвеев",
         null,
         "Б.Добродеев, П.Попогребский",
         "И.Черных",
         "С.Валюшок",
         "Е.Птичкин",
         "ш/э",
         null,
         "Цветной",
         null,
         "2018-04-09T09:12:02+03:00",
         "2017-07-05T14:10:11+03:00"
        ],
        [
         "4",
         "2157031",
         "Особо опасен",
         "США",
         "Юниверсал Пикчерз, Кикстарт Продакшнз, Марк Платт Продакшнз, Рилейтивити Медиа, Спайгласс Интертейнмент, Стилкин Филмз, Топ Кау Продакшнз",
         "2008",
         "2016-10-10T12:00:00.000Z",
         "Кино",
         "ООО \"НД Плэй\"",
         "221038416",
         "«18+» запрещено для детей",
         "1.0",
         "50.0",
         "В ролях: Джеймс МакЭвой, Анджелина Джоли. Тайное общество.",
         "1.0",
         null,
         null,
         null,
         null,
         null,
         "Тимур Бекмамбетов",
         "Джим Лемли, Джейсон Нетер, Марк Е.Платт, Яйн Смит",
         "Майкл Брандт, Крис Морган, Дерек Хаас",
         "Митчелл Амундсен",
         "Джон Майр",
         "Дэнни Эльфман",
         "ш/э",
         null,
         "Цветной",
         null,
         "2019-05-20T11:24:32+03:00",
         "2017-07-05T14:10:11+03:00"
        ]
       ],
       "shape": {
        "columns": 31,
        "rows": 5
       }
      },
      "text/html": [
       "<div>\n",
       "<style scoped>\n",
       "    .dataframe tbody tr th:only-of-type {\n",
       "        vertical-align: middle;\n",
       "    }\n",
       "\n",
       "    .dataframe tbody tr th {\n",
       "        vertical-align: top;\n",
       "    }\n",
       "\n",
       "    .dataframe thead th {\n",
       "        text-align: right;\n",
       "    }\n",
       "</style>\n",
       "<table border=\"1\" class=\"dataframe\">\n",
       "  <thead>\n",
       "    <tr style=\"text-align: right;\">\n",
       "      <th></th>\n",
       "      <th>record_id</th>\n",
       "      <th>film_title</th>\n",
       "      <th>country_of_production</th>\n",
       "      <th>production_studio</th>\n",
       "      <th>year_of_production</th>\n",
       "      <th>cert_reg_date</th>\n",
       "      <th>category</th>\n",
       "      <th>film_usage_rights</th>\n",
       "      <th>certificate_number</th>\n",
       "      <th>age_rating</th>\n",
       "      <th>...</th>\n",
       "      <th>screenwriter</th>\n",
       "      <th>cinematographer</th>\n",
       "      <th>art_director</th>\n",
       "      <th>composer</th>\n",
       "      <th>frame_format</th>\n",
       "      <th>media_format</th>\n",
       "      <th>color</th>\n",
       "      <th>original_language</th>\n",
       "      <th>object_update_date</th>\n",
       "      <th>object_creation_date</th>\n",
       "    </tr>\n",
       "  </thead>\n",
       "  <tbody>\n",
       "    <tr>\n",
       "      <th>0</th>\n",
       "      <td>2157027</td>\n",
       "      <td>Почти знаменит</td>\n",
       "      <td>США</td>\n",
       "      <td>Коламбиа Пикчерз</td>\n",
       "      <td>2000</td>\n",
       "      <td>2016-02-09T12:00:00.000Z</td>\n",
       "      <td>Видео</td>\n",
       "      <td>ЗАО \"ФЕЛИСТА\"</td>\n",
       "      <td>221006316</td>\n",
       "      <td>«18+» запрещено для детей</td>\n",
       "      <td>...</td>\n",
       "      <td>Кемерон Кроу</td>\n",
       "      <td>NaN</td>\n",
       "      <td>NaN</td>\n",
       "      <td>Джон Бонхэм</td>\n",
       "      <td>NaN</td>\n",
       "      <td>NaN</td>\n",
       "      <td>Цветной</td>\n",
       "      <td>NaN</td>\n",
       "      <td>2018-04-09T09:12:02+03:00</td>\n",
       "      <td>2017-07-05T14:10:11+03:00</td>\n",
       "    </tr>\n",
       "    <tr>\n",
       "      <th>1</th>\n",
       "      <td>2157028</td>\n",
       "      <td>Открытое окно.</td>\n",
       "      <td>США</td>\n",
       "      <td>Кард Интертейнмент, Имэйдж Интертейнмент</td>\n",
       "      <td>2006</td>\n",
       "      <td>2014-06-30T12:00:00.000Z</td>\n",
       "      <td>Видео</td>\n",
       "      <td>ООО \"Люксор Дистрибьюшн\"</td>\n",
       "      <td>221027814</td>\n",
       "      <td>«16+» для детей старше 16 лет</td>\n",
       "      <td>...</td>\n",
       "      <td>Миа Голдмен</td>\n",
       "      <td>NaN</td>\n",
       "      <td>NaN</td>\n",
       "      <td>Клифф Эйдельман</td>\n",
       "      <td>NaN</td>\n",
       "      <td>NaN</td>\n",
       "      <td>Цветной</td>\n",
       "      <td>NaN</td>\n",
       "      <td>2018-04-09T09:12:02+03:00</td>\n",
       "      <td>2017-07-05T14:10:11+03:00</td>\n",
       "    </tr>\n",
       "    <tr>\n",
       "      <th>2</th>\n",
       "      <td>2157029</td>\n",
       "      <td>Открытый простор</td>\n",
       "      <td>США</td>\n",
       "      <td>Тачстоун Пикчерз, Кобальт Пикчерз, Бикон Пикче...</td>\n",
       "      <td>2003</td>\n",
       "      <td>2015-11-27T12:00:00.000Z</td>\n",
       "      <td>Кино</td>\n",
       "      <td>ООО \"Дистрибуционная кинокомпания \"Парадиз\"</td>\n",
       "      <td>221048915</td>\n",
       "      <td>«18+» запрещено для детей</td>\n",
       "      <td>...</td>\n",
       "      <td>Лоран Пэйн, Крейг Сторпер</td>\n",
       "      <td>Джеймс М.Муро</td>\n",
       "      <td>Гэй С.Бакли</td>\n",
       "      <td>Майкл Кэмен</td>\n",
       "      <td>ш/э</td>\n",
       "      <td>NaN</td>\n",
       "      <td>Цветной</td>\n",
       "      <td>NaN</td>\n",
       "      <td>2018-04-09T09:12:02+03:00</td>\n",
       "      <td>2017-07-05T14:10:11+03:00</td>\n",
       "    </tr>\n",
       "    <tr>\n",
       "      <th>3</th>\n",
       "      <td>2157030</td>\n",
       "      <td>Особо важное задание</td>\n",
       "      <td>СССР</td>\n",
       "      <td>Киностудия \"Мосфильм\"</td>\n",
       "      <td>1980</td>\n",
       "      <td>2016-09-13T12:00:00.000Z</td>\n",
       "      <td>Кино</td>\n",
       "      <td>ФГУП \"Киноконцерн \"Мосфильм\"</td>\n",
       "      <td>111013716</td>\n",
       "      <td>«6+» для детей старше шести лет</td>\n",
       "      <td>...</td>\n",
       "      <td>Б.Добродеев, П.Попогребский</td>\n",
       "      <td>И.Черных</td>\n",
       "      <td>С.Валюшок</td>\n",
       "      <td>Е.Птичкин</td>\n",
       "      <td>ш/э</td>\n",
       "      <td>NaN</td>\n",
       "      <td>Цветной</td>\n",
       "      <td>NaN</td>\n",
       "      <td>2018-04-09T09:12:02+03:00</td>\n",
       "      <td>2017-07-05T14:10:11+03:00</td>\n",
       "    </tr>\n",
       "    <tr>\n",
       "      <th>4</th>\n",
       "      <td>2157031</td>\n",
       "      <td>Особо опасен</td>\n",
       "      <td>США</td>\n",
       "      <td>Юниверсал Пикчерз, Кикстарт Продакшнз, Марк Пл...</td>\n",
       "      <td>2008</td>\n",
       "      <td>2016-10-10T12:00:00.000Z</td>\n",
       "      <td>Кино</td>\n",
       "      <td>ООО \"НД Плэй\"</td>\n",
       "      <td>221038416</td>\n",
       "      <td>«18+» запрещено для детей</td>\n",
       "      <td>...</td>\n",
       "      <td>Майкл Брандт, Крис Морган, Дерек Хаас</td>\n",
       "      <td>Митчелл Амундсен</td>\n",
       "      <td>Джон Майр</td>\n",
       "      <td>Дэнни Эльфман</td>\n",
       "      <td>ш/э</td>\n",
       "      <td>NaN</td>\n",
       "      <td>Цветной</td>\n",
       "      <td>NaN</td>\n",
       "      <td>2019-05-20T11:24:32+03:00</td>\n",
       "      <td>2017-07-05T14:10:11+03:00</td>\n",
       "    </tr>\n",
       "  </tbody>\n",
       "</table>\n",
       "<p>5 rows × 31 columns</p>\n",
       "</div>"
      ],
      "text/plain": [
       "   record_id            film_title country_of_production  \\\n",
       "0    2157027        Почти знаменит                   США   \n",
       "1    2157028        Открытое окно.                   США   \n",
       "2    2157029      Открытый простор                   США   \n",
       "3    2157030  Особо важное задание                  СССР   \n",
       "4    2157031          Особо опасен                   США   \n",
       "\n",
       "                                   production_studio year_of_production  \\\n",
       "0                                   Коламбиа Пикчерз               2000   \n",
       "1           Кард Интертейнмент, Имэйдж Интертейнмент               2006   \n",
       "2  Тачстоун Пикчерз, Кобальт Пикчерз, Бикон Пикче...               2003   \n",
       "3                              Киностудия \"Мосфильм\"               1980   \n",
       "4  Юниверсал Пикчерз, Кикстарт Продакшнз, Марк Пл...               2008   \n",
       "\n",
       "              cert_reg_date category  \\\n",
       "0  2016-02-09T12:00:00.000Z    Видео   \n",
       "1  2014-06-30T12:00:00.000Z    Видео   \n",
       "2  2015-11-27T12:00:00.000Z     Кино   \n",
       "3  2016-09-13T12:00:00.000Z     Кино   \n",
       "4  2016-10-10T12:00:00.000Z     Кино   \n",
       "\n",
       "                             film_usage_rights certificate_number  \\\n",
       "0                                ЗАО \"ФЕЛИСТА\"          221006316   \n",
       "1                     ООО \"Люксор Дистрибьюшн\"          221027814   \n",
       "2  ООО \"Дистрибуционная кинокомпания \"Парадиз\"          221048915   \n",
       "3                 ФГУП \"Киноконцерн \"Мосфильм\"          111013716   \n",
       "4                                ООО \"НД Плэй\"          221038416   \n",
       "\n",
       "                        age_rating  ...  \\\n",
       "0        «18+» запрещено для детей  ...   \n",
       "1    «16+» для детей старше 16 лет  ...   \n",
       "2        «18+» запрещено для детей  ...   \n",
       "3  «6+» для детей старше шести лет  ...   \n",
       "4        «18+» запрещено для детей  ...   \n",
       "\n",
       "                            screenwriter   cinematographer art_director  \\\n",
       "0                           Кемерон Кроу               NaN          NaN   \n",
       "1                            Миа Голдмен               NaN          NaN   \n",
       "2              Лоран Пэйн, Крейг Сторпер     Джеймс М.Муро  Гэй С.Бакли   \n",
       "3            Б.Добродеев, П.Попогребский          И.Черных    С.Валюшок   \n",
       "4  Майкл Брандт, Крис Морган, Дерек Хаас  Митчелл Амундсен    Джон Майр   \n",
       "\n",
       "          composer frame_format media_format    color original_language  \\\n",
       "0      Джон Бонхэм          NaN          NaN  Цветной               NaN   \n",
       "1  Клифф Эйдельман          NaN          NaN  Цветной               NaN   \n",
       "2      Майкл Кэмен          ш/э          NaN  Цветной               NaN   \n",
       "3        Е.Птичкин          ш/э          NaN  Цветной               NaN   \n",
       "4    Дэнни Эльфман          ш/э          NaN  Цветной               NaN   \n",
       "\n",
       "          object_update_date       object_creation_date  \n",
       "0  2018-04-09T09:12:02+03:00  2017-07-05T14:10:11+03:00  \n",
       "1  2018-04-09T09:12:02+03:00  2017-07-05T14:10:11+03:00  \n",
       "2  2018-04-09T09:12:02+03:00  2017-07-05T14:10:11+03:00  \n",
       "3  2018-04-09T09:12:02+03:00  2017-07-05T14:10:11+03:00  \n",
       "4  2019-05-20T11:24:32+03:00  2017-07-05T14:10:11+03:00  \n",
       "\n",
       "[5 rows x 31 columns]"
      ]
     },
     "metadata": {},
     "output_type": "display_data"
    },
    {
     "data": {
      "application/vnd.microsoft.datawrangler.viewer.v0+json": {
       "columns": [
        {
         "name": "index",
         "rawType": "object",
         "type": "string"
        },
        {
         "name": "duplicates_full",
         "rawType": "int64",
         "type": "integer"
        }
       ],
       "ref": "128106e4-3944-4369-b77f-60451523e3ed",
       "rows": [
        [
         "duplicates_full",
         "423895"
        ]
       ],
       "shape": {
        "columns": 1,
        "rows": 1
       }
      },
      "text/html": [
       "<div>\n",
       "<style scoped>\n",
       "    .dataframe tbody tr th:only-of-type {\n",
       "        vertical-align: middle;\n",
       "    }\n",
       "\n",
       "    .dataframe tbody tr th {\n",
       "        vertical-align: top;\n",
       "    }\n",
       "\n",
       "    .dataframe thead th {\n",
       "        text-align: right;\n",
       "    }\n",
       "</style>\n",
       "<table border=\"1\" class=\"dataframe\">\n",
       "  <thead>\n",
       "    <tr style=\"text-align: right;\">\n",
       "      <th></th>\n",
       "      <th>duplicates_full</th>\n",
       "    </tr>\n",
       "  </thead>\n",
       "  <tbody>\n",
       "    <tr>\n",
       "      <th>duplicates_full</th>\n",
       "      <td>423895</td>\n",
       "    </tr>\n",
       "  </tbody>\n",
       "</table>\n",
       "</div>"
      ],
      "text/plain": [
       "                 duplicates_full\n",
       "duplicates_full           423895"
      ]
     },
     "metadata": {},
     "output_type": "display_data"
    },
    {
     "data": {
      "application/vnd.microsoft.datawrangler.viewer.v0+json": {
       "columns": [
        {
         "name": "index",
         "rawType": "object",
         "type": "string"
        },
        {
         "name": "record_id",
         "rawType": "int64",
         "type": "integer"
        },
        {
         "name": "film_title",
         "rawType": "int64",
         "type": "integer"
        },
        {
         "name": "country_of_production",
         "rawType": "int64",
         "type": "integer"
        },
        {
         "name": "production_studio",
         "rawType": "int64",
         "type": "integer"
        },
        {
         "name": "year_of_production",
         "rawType": "int64",
         "type": "integer"
        },
        {
         "name": "cert_reg_date",
         "rawType": "int64",
         "type": "integer"
        },
        {
         "name": "category",
         "rawType": "int64",
         "type": "integer"
        },
        {
         "name": "film_usage_rights",
         "rawType": "int64",
         "type": "integer"
        },
        {
         "name": "certificate_number",
         "rawType": "int64",
         "type": "integer"
        },
        {
         "name": "age_rating",
         "rawType": "int64",
         "type": "integer"
        },
        {
         "name": "duration_hours",
         "rawType": "int64",
         "type": "integer"
        },
        {
         "name": "duration_minutes",
         "rawType": "int64",
         "type": "integer"
        },
        {
         "name": "synopsis",
         "rawType": "int64",
         "type": "integer"
        },
        {
         "name": "number_of_episodes",
         "rawType": "int64",
         "type": "integer"
        },
        {
         "name": "media_size",
         "rawType": "int64",
         "type": "integer"
        },
        {
         "name": "unit_of_measurement",
         "rawType": "int64",
         "type": "integer"
        },
        {
         "name": "amendment_number",
         "rawType": "int64",
         "type": "integer"
        },
        {
         "name": "distr_rights_transf",
         "rawType": "int64",
         "type": "integer"
        },
        {
         "name": "note",
         "rawType": "int64",
         "type": "integer"
        },
        {
         "name": "director",
         "rawType": "int64",
         "type": "integer"
        },
        {
         "name": "producer",
         "rawType": "int64",
         "type": "integer"
        },
        {
         "name": "screenwriter",
         "rawType": "int64",
         "type": "integer"
        },
        {
         "name": "cinematographer",
         "rawType": "int64",
         "type": "integer"
        },
        {
         "name": "art_director",
         "rawType": "int64",
         "type": "integer"
        },
        {
         "name": "composer",
         "rawType": "int64",
         "type": "integer"
        },
        {
         "name": "frame_format",
         "rawType": "int64",
         "type": "integer"
        },
        {
         "name": "media_format",
         "rawType": "int64",
         "type": "integer"
        },
        {
         "name": "color",
         "rawType": "int64",
         "type": "integer"
        },
        {
         "name": "original_language",
         "rawType": "int64",
         "type": "integer"
        },
        {
         "name": "object_update_date",
         "rawType": "int64",
         "type": "integer"
        },
        {
         "name": "object_creation_date",
         "rawType": "int64",
         "type": "integer"
        }
       ],
       "ref": "36695931-090a-417b-b22b-f4ee767c5cc4",
       "rows": [
        [
         "duplicates_by_cols",
         "641157",
         "658956",
         "741908",
         "703854",
         "742690",
         "733695",
         "745659",
         "719251",
         "603415",
         "745409",
         "616264",
         "725672",
         "634488",
         "297743",
         "25273",
         "26804",
         "56",
         "1655",
         "225280",
         "685486",
         "421304",
         "600139",
         "384331",
         "259158",
         "450996",
         "81121",
         "59822",
         "745560",
         "25",
         "715825",
         "724660"
        ]
       ],
       "shape": {
        "columns": 31,
        "rows": 1
       }
      },
      "text/html": [
       "<div>\n",
       "<style scoped>\n",
       "    .dataframe tbody tr th:only-of-type {\n",
       "        vertical-align: middle;\n",
       "    }\n",
       "\n",
       "    .dataframe tbody tr th {\n",
       "        vertical-align: top;\n",
       "    }\n",
       "\n",
       "    .dataframe thead th {\n",
       "        text-align: right;\n",
       "    }\n",
       "</style>\n",
       "<table border=\"1\" class=\"dataframe\">\n",
       "  <thead>\n",
       "    <tr style=\"text-align: right;\">\n",
       "      <th></th>\n",
       "      <th>record_id</th>\n",
       "      <th>film_title</th>\n",
       "      <th>country_of_production</th>\n",
       "      <th>production_studio</th>\n",
       "      <th>year_of_production</th>\n",
       "      <th>cert_reg_date</th>\n",
       "      <th>category</th>\n",
       "      <th>film_usage_rights</th>\n",
       "      <th>certificate_number</th>\n",
       "      <th>age_rating</th>\n",
       "      <th>...</th>\n",
       "      <th>screenwriter</th>\n",
       "      <th>cinematographer</th>\n",
       "      <th>art_director</th>\n",
       "      <th>composer</th>\n",
       "      <th>frame_format</th>\n",
       "      <th>media_format</th>\n",
       "      <th>color</th>\n",
       "      <th>original_language</th>\n",
       "      <th>object_update_date</th>\n",
       "      <th>object_creation_date</th>\n",
       "    </tr>\n",
       "  </thead>\n",
       "  <tbody>\n",
       "    <tr>\n",
       "      <th>duplicates_by_cols</th>\n",
       "      <td>641157</td>\n",
       "      <td>658956</td>\n",
       "      <td>741908</td>\n",
       "      <td>703854</td>\n",
       "      <td>742690</td>\n",
       "      <td>733695</td>\n",
       "      <td>745659</td>\n",
       "      <td>719251</td>\n",
       "      <td>603415</td>\n",
       "      <td>745409</td>\n",
       "      <td>...</td>\n",
       "      <td>600139</td>\n",
       "      <td>384331</td>\n",
       "      <td>259158</td>\n",
       "      <td>450996</td>\n",
       "      <td>81121</td>\n",
       "      <td>59822</td>\n",
       "      <td>745560</td>\n",
       "      <td>25</td>\n",
       "      <td>715825</td>\n",
       "      <td>724660</td>\n",
       "    </tr>\n",
       "  </tbody>\n",
       "</table>\n",
       "<p>1 rows × 31 columns</p>\n",
       "</div>"
      ],
      "text/plain": [
       "                    record_id  film_title  country_of_production  \\\n",
       "duplicates_by_cols     641157      658956                 741908   \n",
       "\n",
       "                    production_studio  year_of_production  cert_reg_date  \\\n",
       "duplicates_by_cols             703854              742690         733695   \n",
       "\n",
       "                    category  film_usage_rights  certificate_number  \\\n",
       "duplicates_by_cols    745659             719251              603415   \n",
       "\n",
       "                    age_rating  ...  screenwriter  cinematographer  \\\n",
       "duplicates_by_cols      745409  ...        600139           384331   \n",
       "\n",
       "                    art_director  composer  frame_format  media_format  \\\n",
       "duplicates_by_cols        259158    450996         81121         59822   \n",
       "\n",
       "                     color  original_language  object_update_date  \\\n",
       "duplicates_by_cols  745560                 25              715825   \n",
       "\n",
       "                    object_creation_date  \n",
       "duplicates_by_cols                724660  \n",
       "\n",
       "[1 rows x 31 columns]"
      ]
     },
     "metadata": {},
     "output_type": "display_data"
    },
    {
     "data": {
      "application/vnd.microsoft.datawrangler.viewer.v0+json": {
       "columns": [
        {
         "name": "index",
         "rawType": "object",
         "type": "string"
        },
        {
         "name": "duration_hours",
         "rawType": "int64",
         "type": "integer"
        }
       ],
       "ref": "7c03e914-3e64-41fa-9438-9a6e47734d86",
       "rows": [
        [
         "zeroes",
         "77000"
        ]
       ],
       "shape": {
        "columns": 1,
        "rows": 1
       }
      },
      "text/html": [
       "<div>\n",
       "<style scoped>\n",
       "    .dataframe tbody tr th:only-of-type {\n",
       "        vertical-align: middle;\n",
       "    }\n",
       "\n",
       "    .dataframe tbody tr th {\n",
       "        vertical-align: top;\n",
       "    }\n",
       "\n",
       "    .dataframe thead th {\n",
       "        text-align: right;\n",
       "    }\n",
       "</style>\n",
       "<table border=\"1\" class=\"dataframe\">\n",
       "  <thead>\n",
       "    <tr style=\"text-align: right;\">\n",
       "      <th></th>\n",
       "      <th>duration_hours</th>\n",
       "    </tr>\n",
       "  </thead>\n",
       "  <tbody>\n",
       "    <tr>\n",
       "      <th>zeroes</th>\n",
       "      <td>77000</td>\n",
       "    </tr>\n",
       "  </tbody>\n",
       "</table>\n",
       "</div>"
      ],
      "text/plain": [
       "        duration_hours\n",
       "zeroes           77000"
      ]
     },
     "metadata": {},
     "output_type": "display_data"
    },
    {
     "data": {
      "application/vnd.microsoft.datawrangler.viewer.v0+json": {
       "columns": [
        {
         "name": "index",
         "rawType": "object",
         "type": "string"
        }
       ],
       "ref": "eccf773f-f50e-4cb3-897a-6fc734842ad1",
       "rows": [
        [
         "minus_ones"
        ]
       ],
       "shape": {
        "columns": 0,
        "rows": 1
       }
      },
      "text/html": [
       "<div>\n",
       "<style scoped>\n",
       "    .dataframe tbody tr th:only-of-type {\n",
       "        vertical-align: middle;\n",
       "    }\n",
       "\n",
       "    .dataframe tbody tr th {\n",
       "        vertical-align: top;\n",
       "    }\n",
       "\n",
       "    .dataframe thead th {\n",
       "        text-align: right;\n",
       "    }\n",
       "</style>\n",
       "<table border=\"1\" class=\"dataframe\">\n",
       "  <thead>\n",
       "    <tr style=\"text-align: right;\">\n",
       "      <th></th>\n",
       "    </tr>\n",
       "  </thead>\n",
       "  <tbody>\n",
       "    <tr>\n",
       "      <th>minus_ones</th>\n",
       "    </tr>\n",
       "  </tbody>\n",
       "</table>\n",
       "</div>"
      ],
      "text/plain": [
       "Empty DataFrame\n",
       "Columns: []\n",
       "Index: [minus_ones]"
      ]
     },
     "metadata": {},
     "output_type": "display_data"
    },
    {
     "data": {
      "application/vnd.microsoft.datawrangler.viewer.v0+json": {
       "columns": [
        {
         "name": "index",
         "rawType": "object",
         "type": "string"
        },
        {
         "name": "country_of_production",
         "rawType": "int64",
         "type": "integer"
        },
        {
         "name": "production_studio",
         "rawType": "int64",
         "type": "integer"
        },
        {
         "name": "year_of_production",
         "rawType": "int64",
         "type": "integer"
        },
        {
         "name": "cert_reg_date",
         "rawType": "int64",
         "type": "integer"
        },
        {
         "name": "film_usage_rights",
         "rawType": "int64",
         "type": "integer"
        },
        {
         "name": "age_rating",
         "rawType": "int64",
         "type": "integer"
        },
        {
         "name": "duration_hours",
         "rawType": "int64",
         "type": "integer"
        },
        {
         "name": "duration_minutes",
         "rawType": "int64",
         "type": "integer"
        },
        {
         "name": "synopsis",
         "rawType": "int64",
         "type": "integer"
        },
        {
         "name": "number_of_episodes",
         "rawType": "int64",
         "type": "integer"
        },
        {
         "name": "media_size",
         "rawType": "int64",
         "type": "integer"
        },
        {
         "name": "unit_of_measurement",
         "rawType": "int64",
         "type": "integer"
        },
        {
         "name": "amendment_number",
         "rawType": "int64",
         "type": "integer"
        },
        {
         "name": "distr_rights_transf",
         "rawType": "int64",
         "type": "integer"
        },
        {
         "name": "note",
         "rawType": "int64",
         "type": "integer"
        },
        {
         "name": "director",
         "rawType": "int64",
         "type": "integer"
        },
        {
         "name": "producer",
         "rawType": "int64",
         "type": "integer"
        },
        {
         "name": "screenwriter",
         "rawType": "int64",
         "type": "integer"
        },
        {
         "name": "cinematographer",
         "rawType": "int64",
         "type": "integer"
        },
        {
         "name": "art_director",
         "rawType": "int64",
         "type": "integer"
        },
        {
         "name": "composer",
         "rawType": "int64",
         "type": "integer"
        },
        {
         "name": "frame_format",
         "rawType": "int64",
         "type": "integer"
        },
        {
         "name": "media_format",
         "rawType": "int64",
         "type": "integer"
        },
        {
         "name": "color",
         "rawType": "int64",
         "type": "integer"
        },
        {
         "name": "original_language",
         "rawType": "int64",
         "type": "integer"
        }
       ],
       "ref": "eb123ea4-e06e-4c2b-8ce1-6f951a013ceb",
       "rows": [
        [
         "nulls",
         "523",
         "1002",
         "1701",
         "114",
         "13482",
         "218",
         "129288",
         "19628",
         "58043",
         "447698",
         "718575",
         "718854",
         "745600",
         "743626",
         "513112",
         "20907",
         "293402",
         "96132",
         "339180",
         "468370",
         "271082",
         "664156",
         "685757",
         "77",
         "745635"
        ]
       ],
       "shape": {
        "columns": 25,
        "rows": 1
       }
      },
      "text/html": [
       "<div>\n",
       "<style scoped>\n",
       "    .dataframe tbody tr th:only-of-type {\n",
       "        vertical-align: middle;\n",
       "    }\n",
       "\n",
       "    .dataframe tbody tr th {\n",
       "        vertical-align: top;\n",
       "    }\n",
       "\n",
       "    .dataframe thead th {\n",
       "        text-align: right;\n",
       "    }\n",
       "</style>\n",
       "<table border=\"1\" class=\"dataframe\">\n",
       "  <thead>\n",
       "    <tr style=\"text-align: right;\">\n",
       "      <th></th>\n",
       "      <th>country_of_production</th>\n",
       "      <th>production_studio</th>\n",
       "      <th>year_of_production</th>\n",
       "      <th>cert_reg_date</th>\n",
       "      <th>film_usage_rights</th>\n",
       "      <th>age_rating</th>\n",
       "      <th>duration_hours</th>\n",
       "      <th>duration_minutes</th>\n",
       "      <th>synopsis</th>\n",
       "      <th>number_of_episodes</th>\n",
       "      <th>...</th>\n",
       "      <th>director</th>\n",
       "      <th>producer</th>\n",
       "      <th>screenwriter</th>\n",
       "      <th>cinematographer</th>\n",
       "      <th>art_director</th>\n",
       "      <th>composer</th>\n",
       "      <th>frame_format</th>\n",
       "      <th>media_format</th>\n",
       "      <th>color</th>\n",
       "      <th>original_language</th>\n",
       "    </tr>\n",
       "  </thead>\n",
       "  <tbody>\n",
       "    <tr>\n",
       "      <th>nulls</th>\n",
       "      <td>523</td>\n",
       "      <td>1002</td>\n",
       "      <td>1701</td>\n",
       "      <td>114</td>\n",
       "      <td>13482</td>\n",
       "      <td>218</td>\n",
       "      <td>129288</td>\n",
       "      <td>19628</td>\n",
       "      <td>58043</td>\n",
       "      <td>447698</td>\n",
       "      <td>...</td>\n",
       "      <td>20907</td>\n",
       "      <td>293402</td>\n",
       "      <td>96132</td>\n",
       "      <td>339180</td>\n",
       "      <td>468370</td>\n",
       "      <td>271082</td>\n",
       "      <td>664156</td>\n",
       "      <td>685757</td>\n",
       "      <td>77</td>\n",
       "      <td>745635</td>\n",
       "    </tr>\n",
       "  </tbody>\n",
       "</table>\n",
       "<p>1 rows × 25 columns</p>\n",
       "</div>"
      ],
      "text/plain": [
       "       country_of_production  production_studio  year_of_production  \\\n",
       "nulls                    523               1002                1701   \n",
       "\n",
       "       cert_reg_date  film_usage_rights  age_rating  duration_hours  \\\n",
       "nulls            114              13482         218          129288   \n",
       "\n",
       "       duration_minutes  synopsis  number_of_episodes  ...  director  \\\n",
       "nulls             19628     58043              447698  ...     20907   \n",
       "\n",
       "       producer  screenwriter  cinematographer  art_director  composer  \\\n",
       "nulls    293402         96132           339180        468370    271082   \n",
       "\n",
       "       frame_format  media_format  color  original_language  \n",
       "nulls        664156        685757     77             745635  \n",
       "\n",
       "[1 rows x 25 columns]"
      ]
     },
     "metadata": {},
     "output_type": "display_data"
    },
    {
     "data": {
      "application/vnd.microsoft.datawrangler.viewer.v0+json": {
       "columns": [
        {
         "name": "index",
         "rawType": "object",
         "type": "string"
        },
        {
         "name": "country_of_production",
         "rawType": "int64",
         "type": "integer"
        },
        {
         "name": "production_studio",
         "rawType": "int64",
         "type": "integer"
        },
        {
         "name": "year_of_production",
         "rawType": "int64",
         "type": "integer"
        },
        {
         "name": "cert_reg_date",
         "rawType": "int64",
         "type": "integer"
        },
        {
         "name": "film_usage_rights",
         "rawType": "int64",
         "type": "integer"
        },
        {
         "name": "age_rating",
         "rawType": "int64",
         "type": "integer"
        },
        {
         "name": "duration_hours",
         "rawType": "int64",
         "type": "integer"
        },
        {
         "name": "duration_minutes",
         "rawType": "int64",
         "type": "integer"
        },
        {
         "name": "synopsis",
         "rawType": "int64",
         "type": "integer"
        },
        {
         "name": "number_of_episodes",
         "rawType": "int64",
         "type": "integer"
        },
        {
         "name": "media_size",
         "rawType": "int64",
         "type": "integer"
        },
        {
         "name": "unit_of_measurement",
         "rawType": "int64",
         "type": "integer"
        },
        {
         "name": "amendment_number",
         "rawType": "int64",
         "type": "integer"
        },
        {
         "name": "distr_rights_transf",
         "rawType": "int64",
         "type": "integer"
        },
        {
         "name": "note",
         "rawType": "int64",
         "type": "integer"
        },
        {
         "name": "director",
         "rawType": "int64",
         "type": "integer"
        },
        {
         "name": "producer",
         "rawType": "int64",
         "type": "integer"
        },
        {
         "name": "screenwriter",
         "rawType": "int64",
         "type": "integer"
        },
        {
         "name": "cinematographer",
         "rawType": "int64",
         "type": "integer"
        },
        {
         "name": "art_director",
         "rawType": "int64",
         "type": "integer"
        },
        {
         "name": "composer",
         "rawType": "int64",
         "type": "integer"
        },
        {
         "name": "frame_format",
         "rawType": "int64",
         "type": "integer"
        },
        {
         "name": "media_format",
         "rawType": "int64",
         "type": "integer"
        },
        {
         "name": "color",
         "rawType": "int64",
         "type": "integer"
        },
        {
         "name": "original_language",
         "rawType": "int64",
         "type": "integer"
        }
       ],
       "ref": "65bd7c8c-bc8b-455d-9ce2-80e74a0056c7",
       "rows": [
        [
         "nans",
         "523",
         "1002",
         "1701",
         "114",
         "13482",
         "218",
         "129288",
         "19628",
         "58043",
         "447698",
         "718575",
         "718854",
         "745600",
         "743626",
         "513112",
         "20907",
         "293402",
         "96132",
         "339180",
         "468370",
         "271082",
         "664156",
         "685757",
         "77",
         "745635"
        ]
       ],
       "shape": {
        "columns": 25,
        "rows": 1
       }
      },
      "text/html": [
       "<div>\n",
       "<style scoped>\n",
       "    .dataframe tbody tr th:only-of-type {\n",
       "        vertical-align: middle;\n",
       "    }\n",
       "\n",
       "    .dataframe tbody tr th {\n",
       "        vertical-align: top;\n",
       "    }\n",
       "\n",
       "    .dataframe thead th {\n",
       "        text-align: right;\n",
       "    }\n",
       "</style>\n",
       "<table border=\"1\" class=\"dataframe\">\n",
       "  <thead>\n",
       "    <tr style=\"text-align: right;\">\n",
       "      <th></th>\n",
       "      <th>country_of_production</th>\n",
       "      <th>production_studio</th>\n",
       "      <th>year_of_production</th>\n",
       "      <th>cert_reg_date</th>\n",
       "      <th>film_usage_rights</th>\n",
       "      <th>age_rating</th>\n",
       "      <th>duration_hours</th>\n",
       "      <th>duration_minutes</th>\n",
       "      <th>synopsis</th>\n",
       "      <th>number_of_episodes</th>\n",
       "      <th>...</th>\n",
       "      <th>director</th>\n",
       "      <th>producer</th>\n",
       "      <th>screenwriter</th>\n",
       "      <th>cinematographer</th>\n",
       "      <th>art_director</th>\n",
       "      <th>composer</th>\n",
       "      <th>frame_format</th>\n",
       "      <th>media_format</th>\n",
       "      <th>color</th>\n",
       "      <th>original_language</th>\n",
       "    </tr>\n",
       "  </thead>\n",
       "  <tbody>\n",
       "    <tr>\n",
       "      <th>nans</th>\n",
       "      <td>523</td>\n",
       "      <td>1002</td>\n",
       "      <td>1701</td>\n",
       "      <td>114</td>\n",
       "      <td>13482</td>\n",
       "      <td>218</td>\n",
       "      <td>129288</td>\n",
       "      <td>19628</td>\n",
       "      <td>58043</td>\n",
       "      <td>447698</td>\n",
       "      <td>...</td>\n",
       "      <td>20907</td>\n",
       "      <td>293402</td>\n",
       "      <td>96132</td>\n",
       "      <td>339180</td>\n",
       "      <td>468370</td>\n",
       "      <td>271082</td>\n",
       "      <td>664156</td>\n",
       "      <td>685757</td>\n",
       "      <td>77</td>\n",
       "      <td>745635</td>\n",
       "    </tr>\n",
       "  </tbody>\n",
       "</table>\n",
       "<p>1 rows × 25 columns</p>\n",
       "</div>"
      ],
      "text/plain": [
       "      country_of_production  production_studio  year_of_production  \\\n",
       "nans                    523               1002                1701   \n",
       "\n",
       "      cert_reg_date  film_usage_rights  age_rating  duration_hours  \\\n",
       "nans            114              13482         218          129288   \n",
       "\n",
       "      duration_minutes  synopsis  number_of_episodes  ...  director  producer  \\\n",
       "nans             19628     58043              447698  ...     20907    293402   \n",
       "\n",
       "      screenwriter  cinematographer  art_director  composer  frame_format  \\\n",
       "nans         96132           339180        468370    271082        664156   \n",
       "\n",
       "      media_format  color  original_language  \n",
       "nans        685757     77             745635  \n",
       "\n",
       "[1 rows x 25 columns]"
      ]
     },
     "metadata": {},
     "output_type": "display_data"
    },
    {
     "data": {
      "application/vnd.microsoft.datawrangler.viewer.v0+json": {
       "columns": [
        {
         "name": "index",
         "rawType": "object",
         "type": "string"
        }
       ],
       "ref": "dd9dac70-b2b1-4cfd-a46a-955de5a17f09",
       "rows": [
        [
         "nones"
        ]
       ],
       "shape": {
        "columns": 0,
        "rows": 1
       }
      },
      "text/html": [
       "<div>\n",
       "<style scoped>\n",
       "    .dataframe tbody tr th:only-of-type {\n",
       "        vertical-align: middle;\n",
       "    }\n",
       "\n",
       "    .dataframe tbody tr th {\n",
       "        vertical-align: top;\n",
       "    }\n",
       "\n",
       "    .dataframe thead th {\n",
       "        text-align: right;\n",
       "    }\n",
       "</style>\n",
       "<table border=\"1\" class=\"dataframe\">\n",
       "  <thead>\n",
       "    <tr style=\"text-align: right;\">\n",
       "      <th></th>\n",
       "    </tr>\n",
       "  </thead>\n",
       "  <tbody>\n",
       "    <tr>\n",
       "      <th>nones</th>\n",
       "    </tr>\n",
       "  </tbody>\n",
       "</table>\n",
       "</div>"
      ],
      "text/plain": [
       "Empty DataFrame\n",
       "Columns: []\n",
       "Index: [nones]"
      ]
     },
     "metadata": {},
     "output_type": "display_data"
    },
    {
     "data": {
      "application/vnd.microsoft.datawrangler.viewer.v0+json": {
       "columns": [
        {
         "name": "index",
         "rawType": "object",
         "type": "string"
        }
       ],
       "ref": "be758397-f654-4128-a7cf-3c5b0bbef751",
       "rows": [
        [
         "NA placeholder"
        ]
       ],
       "shape": {
        "columns": 0,
        "rows": 1
       }
      },
      "text/html": [
       "<div>\n",
       "<style scoped>\n",
       "    .dataframe tbody tr th:only-of-type {\n",
       "        vertical-align: middle;\n",
       "    }\n",
       "\n",
       "    .dataframe tbody tr th {\n",
       "        vertical-align: top;\n",
       "    }\n",
       "\n",
       "    .dataframe thead th {\n",
       "        text-align: right;\n",
       "    }\n",
       "</style>\n",
       "<table border=\"1\" class=\"dataframe\">\n",
       "  <thead>\n",
       "    <tr style=\"text-align: right;\">\n",
       "      <th></th>\n",
       "    </tr>\n",
       "  </thead>\n",
       "  <tbody>\n",
       "    <tr>\n",
       "      <th>NA placeholder</th>\n",
       "    </tr>\n",
       "  </tbody>\n",
       "</table>\n",
       "</div>"
      ],
      "text/plain": [
       "Empty DataFrame\n",
       "Columns: []\n",
       "Index: [NA placeholder]"
      ]
     },
     "metadata": {},
     "output_type": "display_data"
    },
    {
     "data": {
      "application/vnd.microsoft.datawrangler.viewer.v0+json": {
       "columns": [
        {
         "name": "index",
         "rawType": "object",
         "type": "string"
        }
       ],
       "ref": "5ea95a37-367d-4de8-911c-c04926d01935",
       "rows": [
        [
         "null placeholder"
        ]
       ],
       "shape": {
        "columns": 0,
        "rows": 1
       }
      },
      "text/html": [
       "<div>\n",
       "<style scoped>\n",
       "    .dataframe tbody tr th:only-of-type {\n",
       "        vertical-align: middle;\n",
       "    }\n",
       "\n",
       "    .dataframe tbody tr th {\n",
       "        vertical-align: top;\n",
       "    }\n",
       "\n",
       "    .dataframe thead th {\n",
       "        text-align: right;\n",
       "    }\n",
       "</style>\n",
       "<table border=\"1\" class=\"dataframe\">\n",
       "  <thead>\n",
       "    <tr style=\"text-align: right;\">\n",
       "      <th></th>\n",
       "    </tr>\n",
       "  </thead>\n",
       "  <tbody>\n",
       "    <tr>\n",
       "      <th>null placeholder</th>\n",
       "    </tr>\n",
       "  </tbody>\n",
       "</table>\n",
       "</div>"
      ],
      "text/plain": [
       "Empty DataFrame\n",
       "Columns: []\n",
       "Index: [null placeholder]"
      ]
     },
     "metadata": {},
     "output_type": "display_data"
    },
    {
     "data": {
      "application/vnd.microsoft.datawrangler.viewer.v0+json": {
       "columns": [
        {
         "name": "index",
         "rawType": "object",
         "type": "string"
        }
       ],
       "ref": "85ef8633-0b51-4067-81e3-71c7f3118a2c",
       "rows": [
        [
         "N/A placeholder"
        ]
       ],
       "shape": {
        "columns": 0,
        "rows": 1
       }
      },
      "text/html": [
       "<div>\n",
       "<style scoped>\n",
       "    .dataframe tbody tr th:only-of-type {\n",
       "        vertical-align: middle;\n",
       "    }\n",
       "\n",
       "    .dataframe tbody tr th {\n",
       "        vertical-align: top;\n",
       "    }\n",
       "\n",
       "    .dataframe thead th {\n",
       "        text-align: right;\n",
       "    }\n",
       "</style>\n",
       "<table border=\"1\" class=\"dataframe\">\n",
       "  <thead>\n",
       "    <tr style=\"text-align: right;\">\n",
       "      <th></th>\n",
       "    </tr>\n",
       "  </thead>\n",
       "  <tbody>\n",
       "    <tr>\n",
       "      <th>N/A placeholder</th>\n",
       "    </tr>\n",
       "  </tbody>\n",
       "</table>\n",
       "</div>"
      ],
      "text/plain": [
       "Empty DataFrame\n",
       "Columns: []\n",
       "Index: [N/A placeholder]"
      ]
     },
     "metadata": {},
     "output_type": "display_data"
    },
    {
     "data": {
      "application/vnd.microsoft.datawrangler.viewer.v0+json": {
       "columns": [
        {
         "name": "index",
         "rawType": "object",
         "type": "string"
        },
        {
         "name": "<class 'str'>",
         "rawType": "int64",
         "type": "integer"
        },
        {
         "name": "<class 'int'>",
         "rawType": "float64",
         "type": "float"
        },
        {
         "name": "<class 'float'>",
         "rawType": "float64",
         "type": "float"
        }
       ],
       "ref": "7e6726ae-196a-47cd-96a9-f22865ed7122",
       "rows": [
        [
         "certificate_number",
         "536071",
         "209593.0",
         null
        ],
        [
         "duration_minutes",
         "29066",
         null,
         "696970.0"
        ],
        [
         "number_of_episodes",
         "19312",
         null,
         "278654.0"
        ],
        [
         "media_size",
         "27086",
         null,
         "3.0"
        ]
       ],
       "shape": {
        "columns": 3,
        "rows": 4
       }
      },
      "text/html": [
       "<div>\n",
       "<style scoped>\n",
       "    .dataframe tbody tr th:only-of-type {\n",
       "        vertical-align: middle;\n",
       "    }\n",
       "\n",
       "    .dataframe tbody tr th {\n",
       "        vertical-align: top;\n",
       "    }\n",
       "\n",
       "    .dataframe thead th {\n",
       "        text-align: right;\n",
       "    }\n",
       "</style>\n",
       "<table border=\"1\" class=\"dataframe\">\n",
       "  <thead>\n",
       "    <tr style=\"text-align: right;\">\n",
       "      <th></th>\n",
       "      <th>&lt;class 'str'&gt;</th>\n",
       "      <th>&lt;class 'int'&gt;</th>\n",
       "      <th>&lt;class 'float'&gt;</th>\n",
       "    </tr>\n",
       "  </thead>\n",
       "  <tbody>\n",
       "    <tr>\n",
       "      <th>certificate_number</th>\n",
       "      <td>536071</td>\n",
       "      <td>209593.0</td>\n",
       "      <td>NaN</td>\n",
       "    </tr>\n",
       "    <tr>\n",
       "      <th>duration_minutes</th>\n",
       "      <td>29066</td>\n",
       "      <td>NaN</td>\n",
       "      <td>696970.0</td>\n",
       "    </tr>\n",
       "    <tr>\n",
       "      <th>number_of_episodes</th>\n",
       "      <td>19312</td>\n",
       "      <td>NaN</td>\n",
       "      <td>278654.0</td>\n",
       "    </tr>\n",
       "    <tr>\n",
       "      <th>media_size</th>\n",
       "      <td>27086</td>\n",
       "      <td>NaN</td>\n",
       "      <td>3.0</td>\n",
       "    </tr>\n",
       "  </tbody>\n",
       "</table>\n",
       "</div>"
      ],
      "text/plain": [
       "                    <class 'str'>  <class 'int'>  <class 'float'>\n",
       "certificate_number         536071       209593.0              NaN\n",
       "duration_minutes            29066            NaN         696970.0\n",
       "number_of_episodes          19312            NaN         278654.0\n",
       "media_size                  27086            NaN              3.0"
      ]
     },
     "metadata": {},
     "output_type": "display_data"
    }
   ],
   "source": [
    "pd_tools.df_info(fc_reg_df)"
   ]
  },
  {
   "cell_type": "markdown",
   "id": "566f0f97",
   "metadata": {},
   "source": [
    "## Data transform"
   ]
  },
  {
   "cell_type": "code",
   "execution_count": 351,
   "id": "052542a3",
   "metadata": {},
   "outputs": [],
   "source": [
    "def not_same_types(df: pd.DataFrame, col_name: str) -> pd.Series | None:\n",
    "    \"\"\"\n",
    "    If there are multiple dtypes in col, return a col_name with counts of each dtype.\n",
    "    Null values are ignored in the check.\n",
    "    If all dtypes are the same, return None.    \n",
    "    \"\"\"\n",
    "    non_null_col = df[col_name][df[col_name].notnull()]\n",
    "    col_types = non_null_col.apply(type).value_counts()\n",
    "    if len(col_types) > 1:\n",
    "        return col_types\n",
    "    else:\n",
    "        print(f'Column {col_name} has only one type: {col_types.index[0]}')\n",
    "        return None  \n",
    "    \n",
    "def str_class(df: pd.DataFrame, col_name: str) -> pd.DataFrame:\n",
    "    '''\n",
    "    Classifies values in col_name as:\n",
    "    - is_digit: all digits\n",
    "    - is_alpha: all alphabetic (A-Z or Cyrillic)\n",
    "    - is_empty: empty string after strip\n",
    "    - has_special_symbols: any character excluding . , letters, digits, space\n",
    "    - has_letters: contains at least one letter\n",
    "    - has_dots: contains \".\"\n",
    "    - has_commas: contains \",\"\n",
    "    - has_spaces: contains space\n",
    "    - nans_nulls: null or NaN\n",
    "    - etc: does not match any above\n",
    "    '''\n",
    "    raw_series = df[col_name]\n",
    "    series = raw_series.astype(str).str.strip()\n",
    "\n",
    "    is_digit = series.apply(lambda x: x.isdigit())\n",
    "    # NaN becomes the string 'nan' when cast to str.\n",
    "    is_alpha = series.apply(lambda x: x.isalpha() if x and (x != 'nan') else False)\n",
    "    is_empty = series.apply(lambda x: x == '')\n",
    "\n",
    "    has_letters = series.apply(lambda x: any(c.isalpha() for c in x) if x and (x != 'nan') else False)\n",
    "    has_special_symbols = series.apply(\n",
    "        lambda x: bool(re.search(r'[^a-zA-Zа-яА-ЯёЁ0-9\\s.,]', x))\n",
    "    )\n",
    "    has_dots = series.apply(lambda x: '.' in x)\n",
    "    has_commas = series.apply(lambda x: ',' in x)\n",
    "    has_spaces = series.apply(lambda x: ' ' in x)\n",
    "\n",
    "    nans_nulls = raw_series.isnull()\n",
    "\n",
    "    # etc = does not match any of the above and is not null\n",
    "    etc = ~(is_digit | is_alpha | is_empty | has_special_symbols |\n",
    "            has_letters | has_dots | has_commas | has_spaces | nans_nulls)\n",
    "\n",
    "    results_df = pd.DataFrame({\n",
    "        'is_digit': is_digit,\n",
    "        'is_alpha': is_alpha,\n",
    "        'is_empty': is_empty,\n",
    "        'has_special_symbols': has_special_symbols,\n",
    "        'has_letters': has_letters,\n",
    "        'has_dots': has_dots,\n",
    "        'has_commas': has_commas,\n",
    "        'has_spaces': has_spaces,\n",
    "        'nans_nulls': nans_nulls,\n",
    "        'etc': etc\n",
    "    })\n",
    "\n",
    "    summary = results_df.sum().reset_index()\n",
    "    summary.columns = ['text_property', 'count']\n",
    "\n",
    "   \n",
    "\n",
    "    return summary\n"
   ]
  },
  {
   "cell_type": "code",
   "execution_count": 352,
   "id": "c99220d8",
   "metadata": {},
   "outputs": [
    {
     "data": {
      "application/vnd.microsoft.datawrangler.viewer.v0+json": {
       "columns": [
        {
         "name": "index",
         "rawType": "int64",
         "type": "integer"
        },
        {
         "name": "text_property",
         "rawType": "object",
         "type": "string"
        },
        {
         "name": "count",
         "rawType": "int64",
         "type": "integer"
        }
       ],
       "ref": "cfd3abcd-72f9-4fbc-a394-e86a7170ce7f",
       "rows": [
        [
         "0",
         "is_digit",
         "731344"
        ],
        [
         "1",
         "is_alpha",
         "12"
        ],
        [
         "2",
         "is_empty",
         "0"
        ],
        [
         "3",
         "has_special_symbols",
         "54"
        ],
        [
         "4",
         "has_letters",
         "14266"
        ],
        [
         "5",
         "has_dots",
         "0"
        ],
        [
         "6",
         "has_commas",
         "0"
        ],
        [
         "7",
         "has_spaces",
         "64"
        ],
        [
         "8",
         "nans_nulls",
         "0"
        ],
        [
         "9",
         "etc",
         "0"
        ]
       ],
       "shape": {
        "columns": 2,
        "rows": 10
       }
      },
      "text/html": [
       "<div>\n",
       "<style scoped>\n",
       "    .dataframe tbody tr th:only-of-type {\n",
       "        vertical-align: middle;\n",
       "    }\n",
       "\n",
       "    .dataframe tbody tr th {\n",
       "        vertical-align: top;\n",
       "    }\n",
       "\n",
       "    .dataframe thead th {\n",
       "        text-align: right;\n",
       "    }\n",
       "</style>\n",
       "<table border=\"1\" class=\"dataframe\">\n",
       "  <thead>\n",
       "    <tr style=\"text-align: right;\">\n",
       "      <th></th>\n",
       "      <th>text_property</th>\n",
       "      <th>count</th>\n",
       "    </tr>\n",
       "  </thead>\n",
       "  <tbody>\n",
       "    <tr>\n",
       "      <th>0</th>\n",
       "      <td>is_digit</td>\n",
       "      <td>731344</td>\n",
       "    </tr>\n",
       "    <tr>\n",
       "      <th>1</th>\n",
       "      <td>is_alpha</td>\n",
       "      <td>12</td>\n",
       "    </tr>\n",
       "    <tr>\n",
       "      <th>2</th>\n",
       "      <td>is_empty</td>\n",
       "      <td>0</td>\n",
       "    </tr>\n",
       "    <tr>\n",
       "      <th>3</th>\n",
       "      <td>has_special_symbols</td>\n",
       "      <td>54</td>\n",
       "    </tr>\n",
       "    <tr>\n",
       "      <th>4</th>\n",
       "      <td>has_letters</td>\n",
       "      <td>14266</td>\n",
       "    </tr>\n",
       "    <tr>\n",
       "      <th>5</th>\n",
       "      <td>has_dots</td>\n",
       "      <td>0</td>\n",
       "    </tr>\n",
       "    <tr>\n",
       "      <th>6</th>\n",
       "      <td>has_commas</td>\n",
       "      <td>0</td>\n",
       "    </tr>\n",
       "    <tr>\n",
       "      <th>7</th>\n",
       "      <td>has_spaces</td>\n",
       "      <td>64</td>\n",
       "    </tr>\n",
       "    <tr>\n",
       "      <th>8</th>\n",
       "      <td>nans_nulls</td>\n",
       "      <td>0</td>\n",
       "    </tr>\n",
       "    <tr>\n",
       "      <th>9</th>\n",
       "      <td>etc</td>\n",
       "      <td>0</td>\n",
       "    </tr>\n",
       "  </tbody>\n",
       "</table>\n",
       "</div>"
      ],
      "text/plain": [
       "         text_property   count\n",
       "0             is_digit  731344\n",
       "1             is_alpha      12\n",
       "2             is_empty       0\n",
       "3  has_special_symbols      54\n",
       "4          has_letters   14266\n",
       "5             has_dots       0\n",
       "6           has_commas       0\n",
       "7           has_spaces      64\n",
       "8           nans_nulls       0\n",
       "9                  etc       0"
      ]
     },
     "execution_count": 352,
     "metadata": {},
     "output_type": "execute_result"
    }
   ],
   "source": [
    "str_class(fc_reg_df, 'certificate_number')"
   ]
  },
  {
   "cell_type": "code",
   "execution_count": 353,
   "id": "7faffeba",
   "metadata": {},
   "outputs": [
    {
     "data": {
      "application/vnd.microsoft.datawrangler.viewer.v0+json": {
       "columns": [
        {
         "name": "index",
         "rawType": "int64",
         "type": "integer"
        },
        {
         "name": "certificate_number",
         "rawType": "object",
         "type": "string"
        }
       ],
       "ref": "1c90b58c-86ae-4203-97ea-c133e75a9f59",
       "rows": [
        [
         "7936",
         "нет"
        ],
        [
         "16864",
         "121012208А"
        ],
        [
         "17641",
         "221113209_"
        ],
        [
         "25246",
         "2210-45210"
        ],
        [
         "27015",
         "213-11610"
        ],
        [
         "62544",
         "21111901Д"
        ],
        [
         "62560",
         "221009902Д"
        ],
        [
         "62561",
         "221094803Д"
        ],
        [
         "62669",
         "221236203Д"
        ],
        [
         "62677",
         "221236303Д"
        ],
        [
         "62685",
         "22140599Д"
        ],
        [
         "62698",
         "221222003Д"
        ],
        [
         "62702",
         "226004100Д"
        ],
        [
         "62738",
         "221103302Д"
        ],
        [
         "62739",
         "221089303Д"
        ],
        [
         "62829",
         "221136802Д"
        ],
        [
         "62833",
         "221221903Д"
        ],
        [
         "62839",
         "221236603Д"
        ],
        [
         "62854",
         "221026901Д"
        ],
        [
         "62879",
         "226104503Д"
        ],
        [
         "62900",
         "221222403Д"
        ],
        [
         "62904",
         "221288503Д"
        ],
        [
         "62909",
         "221221503Д"
        ],
        [
         "62917",
         "221048701Д"
        ],
        [
         "62918",
         "221094903Д"
        ],
        [
         "62919",
         "221114400Д"
        ],
        [
         "62928",
         "221053003Д"
        ],
        [
         "62940",
         "22633699Д"
        ],
        [
         "62949",
         "221025603Д"
        ],
        [
         "62960",
         "221221603Д"
        ],
        [
         "63006",
         "221034203Д"
        ],
        [
         "63010",
         "226091603Д"
        ],
        [
         "63013",
         "221047601Д"
        ],
        [
         "63014",
         "221092903Д"
        ],
        [
         "63015",
         "221120300Д"
        ],
        [
         "63024",
         "221231303Д"
        ],
        [
         "63025",
         "226003400Д"
        ],
        [
         "63026",
         "226006800Д"
        ],
        [
         "63040",
         "221221703Д"
        ],
        [
         "63066",
         "221047701Д"
        ],
        [
         "63067",
         "221093003Д"
        ],
        [
         "63068",
         "221110100Д"
        ],
        [
         "63075",
         "221231403Д"
        ],
        [
         "63095",
         "221045901Д"
        ],
        [
         "63096",
         "221089403Д"
        ],
        [
         "63097",
         "221111900Д"
        ],
        [
         "63100",
         "221086802Д"
        ],
        [
         "63101",
         "221089503Д"
        ],
        [
         "63108",
         "221236403Д"
        ],
        [
         "63127",
         "221222503Д"
        ]
       ],
       "shape": {
        "columns": 1,
        "rows": 14320
       }
      },
      "text/plain": [
       "7936             нет\n",
       "16864     121012208А\n",
       "17641     221113209_\n",
       "25246     2210-45210\n",
       "27015      213-11610\n",
       "             ...    \n",
       "730286    221123801Д\n",
       "730307    221008000Д\n",
       "730382    221050601Д\n",
       "730383    221098103Д\n",
       "730384    221104600Д\n",
       "Name: certificate_number, Length: 14320, dtype: object"
      ]
     },
     "execution_count": 353,
     "metadata": {},
     "output_type": "execute_result"
    }
   ],
   "source": [
    "# find rows where certificate_number is not only digits\n",
    "mask_not_digit = ~fc_reg_df['certificate_number'].astype(str).str.strip().str.isdigit()\n",
    "fc_reg_df.loc[mask_not_digit, 'certificate_number']\n"
   ]
  },
  {
   "cell_type": "code",
   "execution_count": 354,
   "id": "dbc6131f",
   "metadata": {},
   "outputs": [
    {
     "name": "stdout",
     "output_type": "stream",
     "text": [
      "Column certificate_number has only one type: <class 'str'>\n"
     ]
    }
   ],
   "source": [
    "# change to str and removes any leading and trailing whitespace characters from the string values.\n",
    "fc_reg_df['certificate_number'] = fc_reg_df['certificate_number'].astype(str).str.strip()\n",
    "not_same_types(fc_reg_df, 'certificate_number')"
   ]
  },
  {
   "cell_type": "code",
   "execution_count": 355,
   "id": "b8e55fcf",
   "metadata": {},
   "outputs": [
    {
     "data": {
      "application/vnd.microsoft.datawrangler.viewer.v0+json": {
       "columns": [
        {
         "name": "duration_minutes",
         "rawType": "object",
         "type": "unknown"
        },
        {
         "name": "count",
         "rawType": "int64",
         "type": "integer"
        }
       ],
       "ref": "e3a1a38a-9b95-49eb-a923-dcdba434a418",
       "rows": [
        [
         "<class 'float'>",
         "696970"
        ],
        [
         "<class 'str'>",
         "29066"
        ]
       ],
       "shape": {
        "columns": 1,
        "rows": 2
       }
      },
      "text/plain": [
       "duration_minutes\n",
       "<class 'float'>    696970\n",
       "<class 'str'>       29066\n",
       "Name: count, dtype: int64"
      ]
     },
     "execution_count": 355,
     "metadata": {},
     "output_type": "execute_result"
    }
   ],
   "source": [
    "not_same_types(fc_reg_df, 'duration_minutes')"
   ]
  },
  {
   "cell_type": "code",
   "execution_count": 356,
   "id": "1f748ace",
   "metadata": {},
   "outputs": [
    {
     "data": {
      "application/vnd.microsoft.datawrangler.viewer.v0+json": {
       "columns": [
        {
         "name": "index",
         "rawType": "int64",
         "type": "integer"
        },
        {
         "name": "text_property",
         "rawType": "object",
         "type": "string"
        },
        {
         "name": "count",
         "rawType": "int64",
         "type": "integer"
        }
       ],
       "ref": "5ea12211-28ac-4efc-a273-86ab49156b1c",
       "rows": [
        [
         "0",
         "is_digit",
         "29057"
        ],
        [
         "1",
         "is_alpha",
         "0"
        ],
        [
         "2",
         "is_empty",
         "0"
        ],
        [
         "3",
         "has_special_symbols",
         "9"
        ],
        [
         "4",
         "has_letters",
         "0"
        ],
        [
         "5",
         "has_dots",
         "696970"
        ],
        [
         "6",
         "has_commas",
         "0"
        ],
        [
         "7",
         "has_spaces",
         "0"
        ],
        [
         "8",
         "nans_nulls",
         "19628"
        ],
        [
         "9",
         "etc",
         "0"
        ]
       ],
       "shape": {
        "columns": 2,
        "rows": 10
       }
      },
      "text/html": [
       "<div>\n",
       "<style scoped>\n",
       "    .dataframe tbody tr th:only-of-type {\n",
       "        vertical-align: middle;\n",
       "    }\n",
       "\n",
       "    .dataframe tbody tr th {\n",
       "        vertical-align: top;\n",
       "    }\n",
       "\n",
       "    .dataframe thead th {\n",
       "        text-align: right;\n",
       "    }\n",
       "</style>\n",
       "<table border=\"1\" class=\"dataframe\">\n",
       "  <thead>\n",
       "    <tr style=\"text-align: right;\">\n",
       "      <th></th>\n",
       "      <th>text_property</th>\n",
       "      <th>count</th>\n",
       "    </tr>\n",
       "  </thead>\n",
       "  <tbody>\n",
       "    <tr>\n",
       "      <th>0</th>\n",
       "      <td>is_digit</td>\n",
       "      <td>29057</td>\n",
       "    </tr>\n",
       "    <tr>\n",
       "      <th>1</th>\n",
       "      <td>is_alpha</td>\n",
       "      <td>0</td>\n",
       "    </tr>\n",
       "    <tr>\n",
       "      <th>2</th>\n",
       "      <td>is_empty</td>\n",
       "      <td>0</td>\n",
       "    </tr>\n",
       "    <tr>\n",
       "      <th>3</th>\n",
       "      <td>has_special_symbols</td>\n",
       "      <td>9</td>\n",
       "    </tr>\n",
       "    <tr>\n",
       "      <th>4</th>\n",
       "      <td>has_letters</td>\n",
       "      <td>0</td>\n",
       "    </tr>\n",
       "    <tr>\n",
       "      <th>5</th>\n",
       "      <td>has_dots</td>\n",
       "      <td>696970</td>\n",
       "    </tr>\n",
       "    <tr>\n",
       "      <th>6</th>\n",
       "      <td>has_commas</td>\n",
       "      <td>0</td>\n",
       "    </tr>\n",
       "    <tr>\n",
       "      <th>7</th>\n",
       "      <td>has_spaces</td>\n",
       "      <td>0</td>\n",
       "    </tr>\n",
       "    <tr>\n",
       "      <th>8</th>\n",
       "      <td>nans_nulls</td>\n",
       "      <td>19628</td>\n",
       "    </tr>\n",
       "    <tr>\n",
       "      <th>9</th>\n",
       "      <td>etc</td>\n",
       "      <td>0</td>\n",
       "    </tr>\n",
       "  </tbody>\n",
       "</table>\n",
       "</div>"
      ],
      "text/plain": [
       "         text_property   count\n",
       "0             is_digit   29057\n",
       "1             is_alpha       0\n",
       "2             is_empty       0\n",
       "3  has_special_symbols       9\n",
       "4          has_letters       0\n",
       "5             has_dots  696970\n",
       "6           has_commas       0\n",
       "7           has_spaces       0\n",
       "8           nans_nulls   19628\n",
       "9                  etc       0"
      ]
     },
     "execution_count": 356,
     "metadata": {},
     "output_type": "execute_result"
    }
   ],
   "source": [
    "str_class(fc_reg_df, 'duration_minutes')"
   ]
  },
  {
   "cell_type": "code",
   "execution_count": 357,
   "id": "52b50ea3",
   "metadata": {},
   "outputs": [
    {
     "data": {
      "application/vnd.microsoft.datawrangler.viewer.v0+json": {
       "columns": [
        {
         "name": "index",
         "rawType": "int64",
         "type": "integer"
        },
        {
         "name": "duration_minutes",
         "rawType": "object",
         "type": "string"
        }
       ],
       "ref": "810265dd-21d4-46c5-bf91-3061aa1f57cc",
       "rows": [
        [
         "188562",
         "58/59"
        ],
        [
         "190277",
         "7/8"
        ],
        [
         "191417",
         "28/25"
        ],
        [
         "638127",
         "58/59"
        ],
        [
         "639842",
         "7/8"
        ],
        [
         "640981",
         "28/25"
        ],
        [
         "741296",
         "58/59"
        ],
        [
         "743010",
         "7/8"
        ],
        [
         "744152",
         "28/25"
        ]
       ],
       "shape": {
        "columns": 1,
        "rows": 9
       }
      },
      "text/plain": [
       "188562    58/59\n",
       "190277      7/8\n",
       "191417    28/25\n",
       "638127    58/59\n",
       "639842      7/8\n",
       "640981    28/25\n",
       "741296    58/59\n",
       "743010      7/8\n",
       "744152    28/25\n",
       "Name: duration_minutes, dtype: object"
      ]
     },
     "execution_count": 357,
     "metadata": {},
     "output_type": "execute_result"
    }
   ],
   "source": [
    "# find rows with special characters in duration_minutes\n",
    "has_spec_sym = fc_reg_df['duration_minutes'].astype(str).apply(lambda x: bool(re.search(r'[^a-zA-Zа-яА-ЯёЁ0-9\\s.,]', x)))\n",
    "fc_reg_df[has_spec_sym]['duration_minutes']"
   ]
  },
  {
   "cell_type": "code",
   "execution_count": 358,
   "id": "f0ab9ff0",
   "metadata": {},
   "outputs": [],
   "source": [
    "fc_reg_df['duration_minutes'] = (fc_reg_df['duration_minutes']\n",
    "                .astype(str)                 # Convert to string (NaN -> 'nan')\n",
    "                .str.split('/')              # Split by '/'\n",
    "                .str[0]                     # Take first part\n",
    "                .str.strip()                # Strip whitespace\n",
    "                .replace('nan', '-1')       # Replace 'nan' string with '-1'\n",
    "                .astype(float)              # Convert to float\n",
    "                .astype(int)                # Convert to int\n",
    "            )"
   ]
  },
  {
   "cell_type": "code",
   "execution_count": 359,
   "id": "4a148610",
   "metadata": {},
   "outputs": [
    {
     "name": "stdout",
     "output_type": "stream",
     "text": [
      "Column duration_minutes has only one type: <class 'int'>\n"
     ]
    }
   ],
   "source": [
    "not_same_types(fc_reg_df, 'duration_minutes')"
   ]
  },
  {
   "cell_type": "code",
   "execution_count": 360,
   "id": "e7793e9f",
   "metadata": {},
   "outputs": [
    {
     "data": {
      "application/vnd.microsoft.datawrangler.viewer.v0+json": {
       "columns": [
        {
         "name": "number_of_episodes",
         "rawType": "object",
         "type": "unknown"
        },
        {
         "name": "count",
         "rawType": "int64",
         "type": "integer"
        }
       ],
       "ref": "9d449d7b-752c-4428-bba7-a1c35c0b0fed",
       "rows": [
        [
         "<class 'float'>",
         "278654"
        ],
        [
         "<class 'str'>",
         "19312"
        ]
       ],
       "shape": {
        "columns": 1,
        "rows": 2
       }
      },
      "text/plain": [
       "number_of_episodes\n",
       "<class 'float'>    278654\n",
       "<class 'str'>       19312\n",
       "Name: count, dtype: int64"
      ]
     },
     "execution_count": 360,
     "metadata": {},
     "output_type": "execute_result"
    }
   ],
   "source": [
    "not_same_types(fc_reg_df, 'number_of_episodes')"
   ]
  },
  {
   "cell_type": "code",
   "execution_count": 361,
   "id": "9455776d",
   "metadata": {},
   "outputs": [
    {
     "data": {
      "application/vnd.microsoft.datawrangler.viewer.v0+json": {
       "columns": [
        {
         "name": "index",
         "rawType": "int64",
         "type": "integer"
        },
        {
         "name": "text_property",
         "rawType": "object",
         "type": "string"
        },
        {
         "name": "count",
         "rawType": "int64",
         "type": "integer"
        }
       ],
       "ref": "8624197f-ac61-41dd-a613-ab394c085188",
       "rows": [
        [
         "0",
         "is_digit",
         "19309"
        ],
        [
         "1",
         "is_alpha",
         "0"
        ],
        [
         "2",
         "is_empty",
         "0"
        ],
        [
         "3",
         "has_special_symbols",
         "3"
        ],
        [
         "4",
         "has_letters",
         "3"
        ],
        [
         "5",
         "has_dots",
         "278654"
        ],
        [
         "6",
         "has_commas",
         "0"
        ],
        [
         "7",
         "has_spaces",
         "3"
        ],
        [
         "8",
         "nans_nulls",
         "447698"
        ],
        [
         "9",
         "etc",
         "0"
        ]
       ],
       "shape": {
        "columns": 2,
        "rows": 10
       }
      },
      "text/html": [
       "<div>\n",
       "<style scoped>\n",
       "    .dataframe tbody tr th:only-of-type {\n",
       "        vertical-align: middle;\n",
       "    }\n",
       "\n",
       "    .dataframe tbody tr th {\n",
       "        vertical-align: top;\n",
       "    }\n",
       "\n",
       "    .dataframe thead th {\n",
       "        text-align: right;\n",
       "    }\n",
       "</style>\n",
       "<table border=\"1\" class=\"dataframe\">\n",
       "  <thead>\n",
       "    <tr style=\"text-align: right;\">\n",
       "      <th></th>\n",
       "      <th>text_property</th>\n",
       "      <th>count</th>\n",
       "    </tr>\n",
       "  </thead>\n",
       "  <tbody>\n",
       "    <tr>\n",
       "      <th>0</th>\n",
       "      <td>is_digit</td>\n",
       "      <td>19309</td>\n",
       "    </tr>\n",
       "    <tr>\n",
       "      <th>1</th>\n",
       "      <td>is_alpha</td>\n",
       "      <td>0</td>\n",
       "    </tr>\n",
       "    <tr>\n",
       "      <th>2</th>\n",
       "      <td>is_empty</td>\n",
       "      <td>0</td>\n",
       "    </tr>\n",
       "    <tr>\n",
       "      <th>3</th>\n",
       "      <td>has_special_symbols</td>\n",
       "      <td>3</td>\n",
       "    </tr>\n",
       "    <tr>\n",
       "      <th>4</th>\n",
       "      <td>has_letters</td>\n",
       "      <td>3</td>\n",
       "    </tr>\n",
       "    <tr>\n",
       "      <th>5</th>\n",
       "      <td>has_dots</td>\n",
       "      <td>278654</td>\n",
       "    </tr>\n",
       "    <tr>\n",
       "      <th>6</th>\n",
       "      <td>has_commas</td>\n",
       "      <td>0</td>\n",
       "    </tr>\n",
       "    <tr>\n",
       "      <th>7</th>\n",
       "      <td>has_spaces</td>\n",
       "      <td>3</td>\n",
       "    </tr>\n",
       "    <tr>\n",
       "      <th>8</th>\n",
       "      <td>nans_nulls</td>\n",
       "      <td>447698</td>\n",
       "    </tr>\n",
       "    <tr>\n",
       "      <th>9</th>\n",
       "      <td>etc</td>\n",
       "      <td>0</td>\n",
       "    </tr>\n",
       "  </tbody>\n",
       "</table>\n",
       "</div>"
      ],
      "text/plain": [
       "         text_property   count\n",
       "0             is_digit   19309\n",
       "1             is_alpha       0\n",
       "2             is_empty       0\n",
       "3  has_special_symbols       3\n",
       "4          has_letters       3\n",
       "5             has_dots  278654\n",
       "6           has_commas       0\n",
       "7           has_spaces       3\n",
       "8           nans_nulls  447698\n",
       "9                  etc       0"
      ]
     },
     "execution_count": 361,
     "metadata": {},
     "output_type": "execute_result"
    }
   ],
   "source": [
    "str_class(fc_reg_df, 'number_of_episodes')"
   ]
  },
  {
   "cell_type": "code",
   "execution_count": 362,
   "id": "c8096e6f",
   "metadata": {},
   "outputs": [
    {
     "data": {
      "application/vnd.microsoft.datawrangler.viewer.v0+json": {
       "columns": [
        {
         "name": "index",
         "rawType": "int64",
         "type": "integer"
        },
        {
         "name": "number_of_episodes",
         "rawType": "object",
         "type": "string"
        }
       ],
       "ref": "8e06b7a8-de11-4c76-bf85-766887422222",
       "rows": [
        [
         "190215",
         "5 (4-8 из 8)"
        ],
        [
         "639780",
         "5 (4-8 из 8)"
        ],
        [
         "742948",
         "5 (4-8 из 8)"
        ]
       ],
       "shape": {
        "columns": 1,
        "rows": 3
       }
      },
      "text/plain": [
       "190215    5 (4-8 из 8)\n",
       "639780    5 (4-8 из 8)\n",
       "742948    5 (4-8 из 8)\n",
       "Name: number_of_episodes, dtype: object"
      ]
     },
     "execution_count": 362,
     "metadata": {},
     "output_type": "execute_result"
    }
   ],
   "source": [
    "# find special characters in number_of_episodes\n",
    "has_spec_sym = fc_reg_df['number_of_episodes'].astype(str).apply(lambda x: bool(re.search(r'[^a-zA-Zа-яА-ЯёЁ0-9\\s.,]', x)))\n",
    "fc_reg_df[has_spec_sym]['number_of_episodes']"
   ]
  },
  {
   "cell_type": "code",
   "execution_count": 363,
   "id": "2ee61931",
   "metadata": {},
   "outputs": [
    {
     "data": {
      "application/vnd.microsoft.datawrangler.viewer.v0+json": {
       "columns": [
        {
         "name": "index",
         "rawType": "int64",
         "type": "integer"
        },
        {
         "name": "number_of_episodes",
         "rawType": "object",
         "type": "string"
        }
       ],
       "ref": "119c5124-0488-4894-967b-571f56339690",
       "rows": [
        [
         "190215",
         "5 (4-8 из 8)"
        ],
        [
         "639780",
         "5 (4-8 из 8)"
        ],
        [
         "742948",
         "5 (4-8 из 8)"
        ]
       ],
       "shape": {
        "columns": 1,
        "rows": 3
       }
      },
      "text/plain": [
       "190215    5 (4-8 из 8)\n",
       "639780    5 (4-8 из 8)\n",
       "742948    5 (4-8 из 8)\n",
       "Name: number_of_episodes, dtype: object"
      ]
     },
     "execution_count": 363,
     "metadata": {},
     "output_type": "execute_result"
    }
   ],
   "source": [
    "# find space in number_of_episodes\n",
    "has_space = fc_reg_df['number_of_episodes'].astype(str).apply(lambda x: ' ' in x)\n",
    "fc_reg_df[has_space]['number_of_episodes']"
   ]
  },
  {
   "cell_type": "code",
   "execution_count": 364,
   "id": "9f4cc154",
   "metadata": {},
   "outputs": [
    {
     "data": {
      "application/vnd.microsoft.datawrangler.viewer.v0+json": {
       "columns": [
        {
         "name": "index",
         "rawType": "int64",
         "type": "integer"
        },
        {
         "name": "number_of_episodes",
         "rawType": "int64",
         "type": "integer"
        }
       ],
       "ref": "155b00f1-105a-4b39-a2bd-cd16f6b6ba63",
       "rows": [
        [
         "0",
         "-1"
        ],
        [
         "1",
         "-1"
        ],
        [
         "2",
         "1"
        ],
        [
         "3",
         "2"
        ],
        [
         "4",
         "1"
        ]
       ],
       "shape": {
        "columns": 1,
        "rows": 5
       }
      },
      "text/plain": [
       "0   -1\n",
       "1   -1\n",
       "2    1\n",
       "3    2\n",
       "4    1\n",
       "Name: number_of_episodes, dtype: int64"
      ]
     },
     "execution_count": 364,
     "metadata": {},
     "output_type": "execute_result"
    }
   ],
   "source": [
    "# remove everything after '(' in number_of_episodes\n",
    "# and replace 'nan' with '-1', strip whitespace, convert to float and then to int\n",
    "fc_reg_df['number_of_episodes'] = fc_reg_df['number_of_episodes'].astype(str).str.split('(').str[0].replace('nan', '-1').str.strip().astype(float).astype(int)\n",
    "fc_reg_df['number_of_episodes'].head()"
   ]
  },
  {
   "cell_type": "code",
   "execution_count": 365,
   "id": "266e36ad",
   "metadata": {},
   "outputs": [
    {
     "data": {
      "application/vnd.microsoft.datawrangler.viewer.v0+json": {
       "columns": [
        {
         "name": "media_size",
         "rawType": "object",
         "type": "unknown"
        },
        {
         "name": "count",
         "rawType": "int64",
         "type": "integer"
        }
       ],
       "ref": "3dbcaaf2-5bed-4782-83ce-09ad0015f054",
       "rows": [
        [
         "<class 'str'>",
         "27086"
        ],
        [
         "<class 'float'>",
         "3"
        ]
       ],
       "shape": {
        "columns": 1,
        "rows": 2
       }
      },
      "text/plain": [
       "media_size\n",
       "<class 'str'>      27086\n",
       "<class 'float'>        3\n",
       "Name: count, dtype: int64"
      ]
     },
     "execution_count": 365,
     "metadata": {},
     "output_type": "execute_result"
    }
   ],
   "source": [
    "not_same_types(fc_reg_df,'media_size')\n"
   ]
  },
  {
   "cell_type": "code",
   "execution_count": 366,
   "id": "167430e5",
   "metadata": {},
   "outputs": [
    {
     "data": {
      "application/vnd.microsoft.datawrangler.viewer.v0+json": {
       "columns": [
        {
         "name": "index",
         "rawType": "int64",
         "type": "integer"
        },
        {
         "name": "text_property",
         "rawType": "object",
         "type": "string"
        },
        {
         "name": "count",
         "rawType": "int64",
         "type": "integer"
        }
       ],
       "ref": "5d989720-014b-4f37-870d-bb0e2ac03d35",
       "rows": [
        [
         "0",
         "is_digit",
         "16871"
        ],
        [
         "1",
         "is_alpha",
         "0"
        ],
        [
         "2",
         "is_empty",
         "0"
        ],
        [
         "3",
         "has_special_symbols",
         "8"
        ],
        [
         "4",
         "has_letters",
         "122"
        ],
        [
         "5",
         "has_dots",
         "2105"
        ],
        [
         "6",
         "has_commas",
         "8036"
        ],
        [
         "7",
         "has_spaces",
         "119"
        ],
        [
         "8",
         "nans_nulls",
         "718575"
        ],
        [
         "9",
         "etc",
         "0"
        ]
       ],
       "shape": {
        "columns": 2,
        "rows": 10
       }
      },
      "text/html": [
       "<div>\n",
       "<style scoped>\n",
       "    .dataframe tbody tr th:only-of-type {\n",
       "        vertical-align: middle;\n",
       "    }\n",
       "\n",
       "    .dataframe tbody tr th {\n",
       "        vertical-align: top;\n",
       "    }\n",
       "\n",
       "    .dataframe thead th {\n",
       "        text-align: right;\n",
       "    }\n",
       "</style>\n",
       "<table border=\"1\" class=\"dataframe\">\n",
       "  <thead>\n",
       "    <tr style=\"text-align: right;\">\n",
       "      <th></th>\n",
       "      <th>text_property</th>\n",
       "      <th>count</th>\n",
       "    </tr>\n",
       "  </thead>\n",
       "  <tbody>\n",
       "    <tr>\n",
       "      <th>0</th>\n",
       "      <td>is_digit</td>\n",
       "      <td>16871</td>\n",
       "    </tr>\n",
       "    <tr>\n",
       "      <th>1</th>\n",
       "      <td>is_alpha</td>\n",
       "      <td>0</td>\n",
       "    </tr>\n",
       "    <tr>\n",
       "      <th>2</th>\n",
       "      <td>is_empty</td>\n",
       "      <td>0</td>\n",
       "    </tr>\n",
       "    <tr>\n",
       "      <th>3</th>\n",
       "      <td>has_special_symbols</td>\n",
       "      <td>8</td>\n",
       "    </tr>\n",
       "    <tr>\n",
       "      <th>4</th>\n",
       "      <td>has_letters</td>\n",
       "      <td>122</td>\n",
       "    </tr>\n",
       "    <tr>\n",
       "      <th>5</th>\n",
       "      <td>has_dots</td>\n",
       "      <td>2105</td>\n",
       "    </tr>\n",
       "    <tr>\n",
       "      <th>6</th>\n",
       "      <td>has_commas</td>\n",
       "      <td>8036</td>\n",
       "    </tr>\n",
       "    <tr>\n",
       "      <th>7</th>\n",
       "      <td>has_spaces</td>\n",
       "      <td>119</td>\n",
       "    </tr>\n",
       "    <tr>\n",
       "      <th>8</th>\n",
       "      <td>nans_nulls</td>\n",
       "      <td>718575</td>\n",
       "    </tr>\n",
       "    <tr>\n",
       "      <th>9</th>\n",
       "      <td>etc</td>\n",
       "      <td>0</td>\n",
       "    </tr>\n",
       "  </tbody>\n",
       "</table>\n",
       "</div>"
      ],
      "text/plain": [
       "         text_property   count\n",
       "0             is_digit   16871\n",
       "1             is_alpha       0\n",
       "2             is_empty       0\n",
       "3  has_special_symbols       8\n",
       "4          has_letters     122\n",
       "5             has_dots    2105\n",
       "6           has_commas    8036\n",
       "7           has_spaces     119\n",
       "8           nans_nulls  718575\n",
       "9                  etc       0"
      ]
     },
     "execution_count": 366,
     "metadata": {},
     "output_type": "execute_result"
    }
   ],
   "source": [
    "str_class(fc_reg_df, 'media_size')"
   ]
  },
  {
   "cell_type": "code",
   "execution_count": 367,
   "id": "9f9d9959",
   "metadata": {},
   "outputs": [
    {
     "data": {
      "application/vnd.microsoft.datawrangler.viewer.v0+json": {
       "columns": [
        {
         "name": "index",
         "rawType": "int64",
         "type": "integer"
        },
        {
         "name": "media_size",
         "rawType": "object",
         "type": "string"
        }
       ],
       "ref": "9c117b75-3e76-4d33-bbaa-1ae3fa489824",
       "rows": [
        [
         "14472",
         "51.2"
        ],
        [
         "14846",
         "889Гб."
        ],
        [
         "14914",
         "104"
        ],
        [
         "15770",
         "46"
        ],
        [
         "15923",
         "1"
        ]
       ],
       "shape": {
        "columns": 1,
        "rows": 5
       }
      },
      "text/plain": [
       "14472      51.2\n",
       "14846    889Гб.\n",
       "14914       104\n",
       "15770        46\n",
       "15923         1\n",
       "Name: media_size, dtype: object"
      ]
     },
     "execution_count": 367,
     "metadata": {},
     "output_type": "execute_result"
    }
   ],
   "source": [
    "fc_reg_df['media_size'] = fc_reg_df['media_size'].astype(str).str.replace(',', '.')\n",
    "fc_reg_df[fc_reg_df['media_size'] != 'nan']['media_size'].head()"
   ]
  },
  {
   "cell_type": "code",
   "execution_count": 368,
   "id": "6063f076",
   "metadata": {},
   "outputs": [
    {
     "data": {
      "application/vnd.microsoft.datawrangler.viewer.v0+json": {
       "columns": [
        {
         "name": "index",
         "rawType": "int64",
         "type": "integer"
        },
        {
         "name": "media_size",
         "rawType": "object",
         "type": "string"
        }
       ],
       "ref": "fad7942e-8e0b-466b-8012-0895096f2a6e",
       "rows": [
        [
         "86809",
         "100/170 "
        ],
        [
         "179729",
         "100/170 "
        ],
        [
         "190936",
         "3400/5585"
        ],
        [
         "451545",
         "100/170 "
        ],
        [
         "629293",
         "100/170 "
        ],
        [
         "640500",
         "3400/5585"
        ],
        [
         "732462",
         "100/170 "
        ],
        [
         "743668",
         "3400/5585"
        ]
       ],
       "shape": {
        "columns": 1,
        "rows": 8
       }
      },
      "text/plain": [
       "86809      100/170 \n",
       "179729     100/170 \n",
       "190936    3400/5585\n",
       "451545     100/170 \n",
       "629293     100/170 \n",
       "640500    3400/5585\n",
       "732462     100/170 \n",
       "743668    3400/5585\n",
       "Name: media_size, dtype: object"
      ]
     },
     "execution_count": 368,
     "metadata": {},
     "output_type": "execute_result"
    }
   ],
   "source": [
    "# find special characters in number_of_episodes\n",
    "has_spec_sym = fc_reg_df['media_size'].astype(str).apply(lambda x: bool(re.search(r'[^a-zA-Zа-яА-ЯёЁ0-9\\s.,]', x)))\n",
    "fc_reg_df[has_spec_sym]['media_size']"
   ]
  },
  {
   "cell_type": "code",
   "execution_count": 369,
   "id": "12902ec1",
   "metadata": {},
   "outputs": [],
   "source": [
    "# fill -1 cells with special value\n",
    "for value in fc_reg_df[has_spec_sym]['media_size']:\n",
    "    if re.search(r'[^a-zA-Zа-яА-ЯёЁ0-9\\s.,]', value):\n",
    "        fc_reg_df.loc[fc_reg_df['media_size'] == value, 'media_size'] = '-1'"
   ]
  },
  {
   "cell_type": "code",
   "execution_count": 370,
   "id": "66d89b6b",
   "metadata": {},
   "outputs": [
    {
     "data": {
      "application/vnd.microsoft.datawrangler.viewer.v0+json": {
       "columns": [
        {
         "name": "index",
         "rawType": "int64",
         "type": "integer"
        },
        {
         "name": "media_size",
         "rawType": "object",
         "type": "string"
        },
        {
         "name": "unit_of_measurement",
         "rawType": "object",
         "type": "unknown"
        }
       ],
       "ref": "445ada93-dfce-4216-af27-4e4e12024a29",
       "rows": [
        [
         "14846",
         "889Гб.",
         null
        ],
        [
         "87602",
         "1.3 Тб",
         null
        ],
        [
         "89672",
         "664 Гб",
         null
        ],
        [
         "89738",
         "58 Гб",
         null
        ],
        [
         "89853",
         "119 Гб",
         null
        ],
        [
         "90811",
         "500 Гб ",
         null
        ],
        [
         "91055",
         "1.2 Тб",
         null
        ],
        [
         "91063",
         "85 Гб",
         null
        ],
        [
         "91125",
         "52 Гб",
         null
        ],
        [
         "91554",
         "1.1 Тб",
         null
        ],
        [
         "91584",
         "800 Гб",
         null
        ],
        [
         "92614",
         "1.2 Тб",
         null
        ],
        [
         "93216",
         "151 Гб",
         null
        ],
        [
         "108341",
         "889Гб.",
         null
        ],
        [
         "180524",
         "1.3 Тб",
         null
        ],
        [
         "182598",
         "664 Гб",
         null
        ],
        [
         "182664",
         "58 Гб",
         null
        ],
        [
         "182779",
         "119 Гб",
         null
        ],
        [
         "183728",
         "500 Гб ",
         null
        ],
        [
         "183972",
         "1.2 Тб",
         null
        ],
        [
         "183980",
         "85 Гб",
         null
        ],
        [
         "184042",
         "52 Гб",
         null
        ],
        [
         "184471",
         "1.1 Тб",
         null
        ],
        [
         "184502",
         "800 Гб",
         null
        ],
        [
         "185514",
         "50 Гб",
         null
        ],
        [
         "186131",
         "1.07 Тб",
         null
        ],
        [
         "186168",
         "1.1 Тб",
         null
        ],
        [
         "186490",
         "195 Гб",
         null
        ],
        [
         "186746",
         "935 Гб",
         null
        ],
        [
         "187944",
         "180 Гб",
         null
        ],
        [
         "188110",
         "175 Гб",
         null
        ],
        [
         "190787",
         "1 ТБ",
         null
        ],
        [
         "190798",
         "2 ТБ",
         null
        ],
        [
         "190816",
         "8 ТБ",
         null
        ],
        [
         "190823",
         "1 ТБ",
         null
        ],
        [
         "190829",
         "4 ТБ",
         null
        ],
        [
         "190854",
         "4 ТБ",
         null
        ],
        [
         "191273",
         "4 ТБ",
         null
        ],
        [
         "191573",
         "4.7 Гб",
         null
        ],
        [
         "192101",
         "1.1 Тб",
         null
        ],
        [
         "192345",
         "3.45 Гб",
         null
        ],
        [
         "192346",
         "3.55 ГБ",
         null
        ],
        [
         "192347",
         "4.3 Гб",
         null
        ],
        [
         "192349",
         "4.7 ГБ",
         null
        ],
        [
         "192350",
         "4.7 ГБ",
         null
        ],
        [
         "192460",
         "1.2 Тб",
         null
        ],
        [
         "379587",
         "889Гб.",
         null
        ],
        [
         "467251",
         "889Гб.",
         null
        ],
        [
         "539221",
         "1.2 Тб",
         null
        ],
        [
         "539858",
         "151 Гб",
         null
        ]
       ],
       "shape": {
        "columns": 2,
        "rows": 122
       }
      },
      "text/html": [
       "<div>\n",
       "<style scoped>\n",
       "    .dataframe tbody tr th:only-of-type {\n",
       "        vertical-align: middle;\n",
       "    }\n",
       "\n",
       "    .dataframe tbody tr th {\n",
       "        vertical-align: top;\n",
       "    }\n",
       "\n",
       "    .dataframe thead th {\n",
       "        text-align: right;\n",
       "    }\n",
       "</style>\n",
       "<table border=\"1\" class=\"dataframe\">\n",
       "  <thead>\n",
       "    <tr style=\"text-align: right;\">\n",
       "      <th></th>\n",
       "      <th>media_size</th>\n",
       "      <th>unit_of_measurement</th>\n",
       "    </tr>\n",
       "  </thead>\n",
       "  <tbody>\n",
       "    <tr>\n",
       "      <th>14846</th>\n",
       "      <td>889Гб.</td>\n",
       "      <td>NaN</td>\n",
       "    </tr>\n",
       "    <tr>\n",
       "      <th>87602</th>\n",
       "      <td>1.3 Тб</td>\n",
       "      <td>NaN</td>\n",
       "    </tr>\n",
       "    <tr>\n",
       "      <th>89672</th>\n",
       "      <td>664 Гб</td>\n",
       "      <td>NaN</td>\n",
       "    </tr>\n",
       "    <tr>\n",
       "      <th>89738</th>\n",
       "      <td>58 Гб</td>\n",
       "      <td>NaN</td>\n",
       "    </tr>\n",
       "    <tr>\n",
       "      <th>89853</th>\n",
       "      <td>119 Гб</td>\n",
       "      <td>NaN</td>\n",
       "    </tr>\n",
       "    <tr>\n",
       "      <th>...</th>\n",
       "      <td>...</td>\n",
       "      <td>...</td>\n",
       "    </tr>\n",
       "    <tr>\n",
       "      <th>745084</th>\n",
       "      <td>3.55 ГБ</td>\n",
       "      <td>NaN</td>\n",
       "    </tr>\n",
       "    <tr>\n",
       "      <th>745085</th>\n",
       "      <td>4.3 Гб</td>\n",
       "      <td>NaN</td>\n",
       "    </tr>\n",
       "    <tr>\n",
       "      <th>745087</th>\n",
       "      <td>4.7 ГБ</td>\n",
       "      <td>NaN</td>\n",
       "    </tr>\n",
       "    <tr>\n",
       "      <th>745088</th>\n",
       "      <td>4.7 ГБ</td>\n",
       "      <td>NaN</td>\n",
       "    </tr>\n",
       "    <tr>\n",
       "      <th>745198</th>\n",
       "      <td>1.2 Тб</td>\n",
       "      <td>NaN</td>\n",
       "    </tr>\n",
       "  </tbody>\n",
       "</table>\n",
       "<p>122 rows × 2 columns</p>\n",
       "</div>"
      ],
      "text/plain": [
       "       media_size unit_of_measurement\n",
       "14846      889Гб.                 NaN\n",
       "87602      1.3 Тб                 NaN\n",
       "89672      664 Гб                 NaN\n",
       "89738       58 Гб                 NaN\n",
       "89853      119 Гб                 NaN\n",
       "...           ...                 ...\n",
       "745084    3.55 ГБ                 NaN\n",
       "745085     4.3 Гб                 NaN\n",
       "745087     4.7 ГБ                 NaN\n",
       "745088     4.7 ГБ                 NaN\n",
       "745198     1.2 Тб                 NaN\n",
       "\n",
       "[122 rows x 2 columns]"
      ]
     },
     "execution_count": 370,
     "metadata": {},
     "output_type": "execute_result"
    }
   ],
   "source": [
    "# find letters in number_of_episodes\n",
    "has_letters = fc_reg_df['media_size'].astype(str).apply(lambda x: any(c.isalpha() for c in x) if x and (x != 'nan') else False)\n",
    "fc_reg_df[has_letters][['media_size', 'unit_of_measurement']]"
   ]
  },
  {
   "cell_type": "code",
   "execution_count": 371,
   "id": "f6d11947",
   "metadata": {},
   "outputs": [],
   "source": [
    "units_list = ['ГБ', 'ГБ.', 'ТБ', 'Гб', 'Тб']\n",
    "\n",
    "# find units from units_list in media_size and split by unit\n",
    "for unit in units_list:\n",
    "    mask = fc_reg_df['media_size'].astype(str).str.contains(unit, na=False)\n",
    "    if mask.any():\n",
    "        # split media_size by unit and keep only the first part\n",
    "        # and strip whitespace\n",
    "        fc_reg_df.loc[mask, 'media_size'] = fc_reg_df.loc[mask, 'media_size'].str.split(unit).str[0].str.strip()\n",
    "        # paste unit to the unit_of_measurement column\n",
    "        fc_reg_df.loc[mask, 'unit_of_measurement'] = unit"
   ]
  },
  {
   "cell_type": "code",
   "execution_count": 372,
   "id": "07785007",
   "metadata": {},
   "outputs": [
    {
     "data": {
      "application/vnd.microsoft.datawrangler.viewer.v0+json": {
       "columns": [
        {
         "name": "index",
         "rawType": "int64",
         "type": "integer"
        },
        {
         "name": "text_property",
         "rawType": "object",
         "type": "string"
        },
        {
         "name": "count",
         "rawType": "int64",
         "type": "integer"
        }
       ],
       "ref": "883c1f8f-5cff-407a-b27c-258c258327e5",
       "rows": [
        [
         "0",
         "is_digit",
         "16946"
        ],
        [
         "1",
         "is_alpha",
         "0"
        ],
        [
         "2",
         "is_empty",
         "0"
        ],
        [
         "3",
         "has_special_symbols",
         "8"
        ],
        [
         "4",
         "has_letters",
         "0"
        ],
        [
         "5",
         "has_dots",
         "10135"
        ],
        [
         "6",
         "has_commas",
         "0"
        ],
        [
         "7",
         "has_spaces",
         "3"
        ],
        [
         "8",
         "nans_nulls",
         "0"
        ],
        [
         "9",
         "etc",
         "718575"
        ]
       ],
       "shape": {
        "columns": 2,
        "rows": 10
       }
      },
      "text/html": [
       "<div>\n",
       "<style scoped>\n",
       "    .dataframe tbody tr th:only-of-type {\n",
       "        vertical-align: middle;\n",
       "    }\n",
       "\n",
       "    .dataframe tbody tr th {\n",
       "        vertical-align: top;\n",
       "    }\n",
       "\n",
       "    .dataframe thead th {\n",
       "        text-align: right;\n",
       "    }\n",
       "</style>\n",
       "<table border=\"1\" class=\"dataframe\">\n",
       "  <thead>\n",
       "    <tr style=\"text-align: right;\">\n",
       "      <th></th>\n",
       "      <th>text_property</th>\n",
       "      <th>count</th>\n",
       "    </tr>\n",
       "  </thead>\n",
       "  <tbody>\n",
       "    <tr>\n",
       "      <th>0</th>\n",
       "      <td>is_digit</td>\n",
       "      <td>16946</td>\n",
       "    </tr>\n",
       "    <tr>\n",
       "      <th>1</th>\n",
       "      <td>is_alpha</td>\n",
       "      <td>0</td>\n",
       "    </tr>\n",
       "    <tr>\n",
       "      <th>2</th>\n",
       "      <td>is_empty</td>\n",
       "      <td>0</td>\n",
       "    </tr>\n",
       "    <tr>\n",
       "      <th>3</th>\n",
       "      <td>has_special_symbols</td>\n",
       "      <td>8</td>\n",
       "    </tr>\n",
       "    <tr>\n",
       "      <th>4</th>\n",
       "      <td>has_letters</td>\n",
       "      <td>0</td>\n",
       "    </tr>\n",
       "    <tr>\n",
       "      <th>5</th>\n",
       "      <td>has_dots</td>\n",
       "      <td>10135</td>\n",
       "    </tr>\n",
       "    <tr>\n",
       "      <th>6</th>\n",
       "      <td>has_commas</td>\n",
       "      <td>0</td>\n",
       "    </tr>\n",
       "    <tr>\n",
       "      <th>7</th>\n",
       "      <td>has_spaces</td>\n",
       "      <td>3</td>\n",
       "    </tr>\n",
       "    <tr>\n",
       "      <th>8</th>\n",
       "      <td>nans_nulls</td>\n",
       "      <td>0</td>\n",
       "    </tr>\n",
       "    <tr>\n",
       "      <th>9</th>\n",
       "      <td>etc</td>\n",
       "      <td>718575</td>\n",
       "    </tr>\n",
       "  </tbody>\n",
       "</table>\n",
       "</div>"
      ],
      "text/plain": [
       "         text_property   count\n",
       "0             is_digit   16946\n",
       "1             is_alpha       0\n",
       "2             is_empty       0\n",
       "3  has_special_symbols       8\n",
       "4          has_letters       0\n",
       "5             has_dots   10135\n",
       "6           has_commas       0\n",
       "7           has_spaces       3\n",
       "8           nans_nulls       0\n",
       "9                  etc  718575"
      ]
     },
     "execution_count": 372,
     "metadata": {},
     "output_type": "execute_result"
    }
   ],
   "source": [
    "str_class(fc_reg_df, 'media_size')"
   ]
  },
  {
   "cell_type": "code",
   "execution_count": 373,
   "id": "0bfde832",
   "metadata": {},
   "outputs": [],
   "source": [
    "fc_reg_df['media_size'] = (\n",
    "    fc_reg_df['media_size']\n",
    "    .astype(str)                    # Convert to string (NaN -> 'nan')\n",
    "    .str.split('/')                 # Split by '/'\n",
    "    .str[0]                         # Take first part\n",
    "    .str.strip()                    # Strip whitespace\n",
    "    .str.replace('nan', '-1')       # Replace 'nan' string with '-1'\n",
    "    .str.replace(' ', '')           # Remove any space (e.g., '1. 252' -> '1.252')\n",
    "    .str.replace(',', '.')          # Replace commas with dots (for decimal representation)\n",
    "    .astype(float)                  # Convert to float  \n",
    ")\n"
   ]
  },
  {
   "cell_type": "code",
   "execution_count": 374,
   "id": "e5c8e1f1",
   "metadata": {},
   "outputs": [
    {
     "name": "stdout",
     "output_type": "stream",
     "text": [
      "<class 'pandas.core.frame.DataFrame'>\n",
      "RangeIndex: 745664 entries, 0 to 745663\n",
      "Data columns (total 31 columns):\n",
      " #   Column                 Non-Null Count   Dtype  \n",
      "---  ------                 --------------   -----  \n",
      " 0   record_id              745664 non-null  int64  \n",
      " 1   film_title             745664 non-null  object \n",
      " 2   country_of_production  745141 non-null  object \n",
      " 3   production_studio      744662 non-null  object \n",
      " 4   year_of_production     743963 non-null  object \n",
      " 5   cert_reg_date          745550 non-null  object \n",
      " 6   category               745664 non-null  object \n",
      " 7   film_usage_rights      732182 non-null  object \n",
      " 8   certificate_number     745664 non-null  object \n",
      " 9   age_rating             745446 non-null  object \n",
      " 10  duration_hours         616376 non-null  float64\n",
      " 11  duration_minutes       745664 non-null  int64  \n",
      " 12  synopsis               687621 non-null  object \n",
      " 13  number_of_episodes     745664 non-null  int64  \n",
      " 14  media_size             745664 non-null  float64\n",
      " 15  unit_of_measurement    26932 non-null   object \n",
      " 16  amendment_number       64 non-null      object \n",
      " 17  distr_rights_transf    2038 non-null    object \n",
      " 18  note                   232552 non-null  object \n",
      " 19  director               724757 non-null  object \n",
      " 20  producer               452262 non-null  object \n",
      " 21  screenwriter           649532 non-null  object \n",
      " 22  cinematographer        406484 non-null  object \n",
      " 23  art_director           277294 non-null  object \n",
      " 24  composer               474582 non-null  object \n",
      " 25  frame_format           81508 non-null   object \n",
      " 26  media_format           59907 non-null   object \n",
      " 27  color                  745587 non-null  object \n",
      " 28  original_language      29 non-null      float64\n",
      " 29  object_update_date     745664 non-null  object \n",
      " 30  object_creation_date   745664 non-null  object \n",
      "dtypes: float64(3), int64(3), object(25)\n",
      "memory usage: 176.4+ MB\n",
      "None\n"
     ]
    },
    {
     "data": {
      "text/plain": [
       "'First 5 rows in df'"
      ]
     },
     "metadata": {},
     "output_type": "display_data"
    },
    {
     "data": {
      "application/vnd.microsoft.datawrangler.viewer.v0+json": {
       "columns": [
        {
         "name": "index",
         "rawType": "int64",
         "type": "integer"
        },
        {
         "name": "record_id",
         "rawType": "int64",
         "type": "integer"
        },
        {
         "name": "film_title",
         "rawType": "object",
         "type": "string"
        },
        {
         "name": "country_of_production",
         "rawType": "object",
         "type": "string"
        },
        {
         "name": "production_studio",
         "rawType": "object",
         "type": "string"
        },
        {
         "name": "year_of_production",
         "rawType": "object",
         "type": "string"
        },
        {
         "name": "cert_reg_date",
         "rawType": "object",
         "type": "string"
        },
        {
         "name": "category",
         "rawType": "object",
         "type": "string"
        },
        {
         "name": "film_usage_rights",
         "rawType": "object",
         "type": "string"
        },
        {
         "name": "certificate_number",
         "rawType": "object",
         "type": "string"
        },
        {
         "name": "age_rating",
         "rawType": "object",
         "type": "string"
        },
        {
         "name": "duration_hours",
         "rawType": "float64",
         "type": "float"
        },
        {
         "name": "duration_minutes",
         "rawType": "int64",
         "type": "integer"
        },
        {
         "name": "synopsis",
         "rawType": "object",
         "type": "string"
        },
        {
         "name": "number_of_episodes",
         "rawType": "int64",
         "type": "integer"
        },
        {
         "name": "media_size",
         "rawType": "float64",
         "type": "float"
        },
        {
         "name": "unit_of_measurement",
         "rawType": "object",
         "type": "unknown"
        },
        {
         "name": "amendment_number",
         "rawType": "object",
         "type": "unknown"
        },
        {
         "name": "distr_rights_transf",
         "rawType": "object",
         "type": "unknown"
        },
        {
         "name": "note",
         "rawType": "object",
         "type": "unknown"
        },
        {
         "name": "director",
         "rawType": "object",
         "type": "string"
        },
        {
         "name": "producer",
         "rawType": "object",
         "type": "unknown"
        },
        {
         "name": "screenwriter",
         "rawType": "object",
         "type": "string"
        },
        {
         "name": "cinematographer",
         "rawType": "object",
         "type": "unknown"
        },
        {
         "name": "art_director",
         "rawType": "object",
         "type": "unknown"
        },
        {
         "name": "composer",
         "rawType": "object",
         "type": "string"
        },
        {
         "name": "frame_format",
         "rawType": "object",
         "type": "unknown"
        },
        {
         "name": "media_format",
         "rawType": "object",
         "type": "unknown"
        },
        {
         "name": "color",
         "rawType": "object",
         "type": "string"
        },
        {
         "name": "original_language",
         "rawType": "float64",
         "type": "float"
        },
        {
         "name": "object_update_date",
         "rawType": "object",
         "type": "string"
        },
        {
         "name": "object_creation_date",
         "rawType": "object",
         "type": "string"
        }
       ],
       "ref": "40330915-eed5-493e-940a-7de4471b1ac3",
       "rows": [
        [
         "0",
         "2157027",
         "Почти знаменит",
         "США",
         "Коламбиа Пикчерз",
         "2000",
         "2016-02-09T12:00:00.000Z",
         "Видео",
         "ЗАО \"ФЕЛИСТА\"",
         "221006316",
         "«18+» запрещено для детей",
         "2.0",
         "3",
         "В ролях: Фрэнсис МакДорманд, Кейт Хадсон. История американского мальчишки - корреспондента авторитетного музыкального журнала.",
         "-1",
         "-1.0",
         null,
         null,
         null,
         null,
         "Кемерон Кроу",
         null,
         "Кемерон Кроу",
         null,
         null,
         "Джон Бонхэм",
         null,
         null,
         "Цветной",
         null,
         "2018-04-09T09:12:02+03:00",
         "2017-07-05T14:10:11+03:00"
        ],
        [
         "1",
         "2157028",
         "Открытое окно.",
         "США",
         "Кард Интертейнмент, Имэйдж Интертейнмент",
         "2006",
         "2014-06-30T12:00:00.000Z",
         "Видео",
         "ООО \"Люксор Дистрибьюшн\"",
         "221027814",
         "«16+» для детей старше 16 лет",
         "1.0",
         "37",
         "В главных ролях: Робин Тюннин, Джоэль Эдгертон. Триллер",
         "-1",
         "-1.0",
         null,
         null,
         null,
         null,
         "Миа Голдмен",
         null,
         "Миа Голдмен",
         null,
         null,
         "Клифф Эйдельман",
         null,
         null,
         "Цветной",
         null,
         "2018-04-09T09:12:02+03:00",
         "2017-07-05T14:10:11+03:00"
        ],
        [
         "2",
         "2157029",
         "Открытый простор",
         "США",
         "Тачстоун Пикчерз, Кобальт Пикчерз, Бикон Пикчерз, Тиг Продакшнз",
         "2003",
         "2015-11-27T12:00:00.000Z",
         "Кино",
         "ООО \"Дистрибуционная кинокомпания \"Парадиз\"",
         "221048915",
         "«18+» запрещено для детей",
         "2.0",
         "23",
         "Драма-вестерн. В ролях: Роберт Дюволл, Кевин Костнер, Аннет Беннинг.",
         "1",
         "-1.0",
         null,
         null,
         null,
         null,
         "Кевин Костнер",
         "Дэвид Валдес, Кевин Костнер, Джейк Эбертс",
         "Лоран Пэйн, Крейг Сторпер",
         "Джеймс М.Муро",
         "Гэй С.Бакли",
         "Майкл Кэмен",
         "ш/э",
         null,
         "Цветной",
         null,
         "2018-04-09T09:12:02+03:00",
         "2017-07-05T14:10:11+03:00"
        ],
        [
         "3",
         "2157030",
         "Особо важное задание",
         "СССР",
         "Киностудия \"Мосфильм\"",
         "1980",
         "2016-09-13T12:00:00.000Z",
         "Кино",
         "ФГУП \"Киноконцерн \"Мосфильм\"",
         "111013716",
         "«6+» для детей старше шести лет",
         "2.0",
         "4",
         "В ролях - В.Заклунная, Н.Крючков, Е.Матвеев            Драма",
         "2",
         "-1.0",
         null,
         null,
         null,
         "Показ фильма в кинозале и прокат фильма на материальном носителе у ФГУП \"Киноконцерн \"Мосфильм\"",
         "Е.Матвеев",
         null,
         "Б.Добродеев, П.Попогребский",
         "И.Черных",
         "С.Валюшок",
         "Е.Птичкин",
         "ш/э",
         null,
         "Цветной",
         null,
         "2018-04-09T09:12:02+03:00",
         "2017-07-05T14:10:11+03:00"
        ],
        [
         "4",
         "2157031",
         "Особо опасен",
         "США",
         "Юниверсал Пикчерз, Кикстарт Продакшнз, Марк Платт Продакшнз, Рилейтивити Медиа, Спайгласс Интертейнмент, Стилкин Филмз, Топ Кау Продакшнз",
         "2008",
         "2016-10-10T12:00:00.000Z",
         "Кино",
         "ООО \"НД Плэй\"",
         "221038416",
         "«18+» запрещено для детей",
         "1.0",
         "50",
         "В ролях: Джеймс МакЭвой, Анджелина Джоли. Тайное общество.",
         "1",
         "-1.0",
         null,
         null,
         null,
         null,
         "Тимур Бекмамбетов",
         "Джим Лемли, Джейсон Нетер, Марк Е.Платт, Яйн Смит",
         "Майкл Брандт, Крис Морган, Дерек Хаас",
         "Митчелл Амундсен",
         "Джон Майр",
         "Дэнни Эльфман",
         "ш/э",
         null,
         "Цветной",
         null,
         "2019-05-20T11:24:32+03:00",
         "2017-07-05T14:10:11+03:00"
        ]
       ],
       "shape": {
        "columns": 31,
        "rows": 5
       }
      },
      "text/html": [
       "<div>\n",
       "<style scoped>\n",
       "    .dataframe tbody tr th:only-of-type {\n",
       "        vertical-align: middle;\n",
       "    }\n",
       "\n",
       "    .dataframe tbody tr th {\n",
       "        vertical-align: top;\n",
       "    }\n",
       "\n",
       "    .dataframe thead th {\n",
       "        text-align: right;\n",
       "    }\n",
       "</style>\n",
       "<table border=\"1\" class=\"dataframe\">\n",
       "  <thead>\n",
       "    <tr style=\"text-align: right;\">\n",
       "      <th></th>\n",
       "      <th>record_id</th>\n",
       "      <th>film_title</th>\n",
       "      <th>country_of_production</th>\n",
       "      <th>production_studio</th>\n",
       "      <th>year_of_production</th>\n",
       "      <th>cert_reg_date</th>\n",
       "      <th>category</th>\n",
       "      <th>film_usage_rights</th>\n",
       "      <th>certificate_number</th>\n",
       "      <th>age_rating</th>\n",
       "      <th>...</th>\n",
       "      <th>screenwriter</th>\n",
       "      <th>cinematographer</th>\n",
       "      <th>art_director</th>\n",
       "      <th>composer</th>\n",
       "      <th>frame_format</th>\n",
       "      <th>media_format</th>\n",
       "      <th>color</th>\n",
       "      <th>original_language</th>\n",
       "      <th>object_update_date</th>\n",
       "      <th>object_creation_date</th>\n",
       "    </tr>\n",
       "  </thead>\n",
       "  <tbody>\n",
       "    <tr>\n",
       "      <th>0</th>\n",
       "      <td>2157027</td>\n",
       "      <td>Почти знаменит</td>\n",
       "      <td>США</td>\n",
       "      <td>Коламбиа Пикчерз</td>\n",
       "      <td>2000</td>\n",
       "      <td>2016-02-09T12:00:00.000Z</td>\n",
       "      <td>Видео</td>\n",
       "      <td>ЗАО \"ФЕЛИСТА\"</td>\n",
       "      <td>221006316</td>\n",
       "      <td>«18+» запрещено для детей</td>\n",
       "      <td>...</td>\n",
       "      <td>Кемерон Кроу</td>\n",
       "      <td>NaN</td>\n",
       "      <td>NaN</td>\n",
       "      <td>Джон Бонхэм</td>\n",
       "      <td>NaN</td>\n",
       "      <td>NaN</td>\n",
       "      <td>Цветной</td>\n",
       "      <td>NaN</td>\n",
       "      <td>2018-04-09T09:12:02+03:00</td>\n",
       "      <td>2017-07-05T14:10:11+03:00</td>\n",
       "    </tr>\n",
       "    <tr>\n",
       "      <th>1</th>\n",
       "      <td>2157028</td>\n",
       "      <td>Открытое окно.</td>\n",
       "      <td>США</td>\n",
       "      <td>Кард Интертейнмент, Имэйдж Интертейнмент</td>\n",
       "      <td>2006</td>\n",
       "      <td>2014-06-30T12:00:00.000Z</td>\n",
       "      <td>Видео</td>\n",
       "      <td>ООО \"Люксор Дистрибьюшн\"</td>\n",
       "      <td>221027814</td>\n",
       "      <td>«16+» для детей старше 16 лет</td>\n",
       "      <td>...</td>\n",
       "      <td>Миа Голдмен</td>\n",
       "      <td>NaN</td>\n",
       "      <td>NaN</td>\n",
       "      <td>Клифф Эйдельман</td>\n",
       "      <td>NaN</td>\n",
       "      <td>NaN</td>\n",
       "      <td>Цветной</td>\n",
       "      <td>NaN</td>\n",
       "      <td>2018-04-09T09:12:02+03:00</td>\n",
       "      <td>2017-07-05T14:10:11+03:00</td>\n",
       "    </tr>\n",
       "    <tr>\n",
       "      <th>2</th>\n",
       "      <td>2157029</td>\n",
       "      <td>Открытый простор</td>\n",
       "      <td>США</td>\n",
       "      <td>Тачстоун Пикчерз, Кобальт Пикчерз, Бикон Пикче...</td>\n",
       "      <td>2003</td>\n",
       "      <td>2015-11-27T12:00:00.000Z</td>\n",
       "      <td>Кино</td>\n",
       "      <td>ООО \"Дистрибуционная кинокомпания \"Парадиз\"</td>\n",
       "      <td>221048915</td>\n",
       "      <td>«18+» запрещено для детей</td>\n",
       "      <td>...</td>\n",
       "      <td>Лоран Пэйн, Крейг Сторпер</td>\n",
       "      <td>Джеймс М.Муро</td>\n",
       "      <td>Гэй С.Бакли</td>\n",
       "      <td>Майкл Кэмен</td>\n",
       "      <td>ш/э</td>\n",
       "      <td>NaN</td>\n",
       "      <td>Цветной</td>\n",
       "      <td>NaN</td>\n",
       "      <td>2018-04-09T09:12:02+03:00</td>\n",
       "      <td>2017-07-05T14:10:11+03:00</td>\n",
       "    </tr>\n",
       "    <tr>\n",
       "      <th>3</th>\n",
       "      <td>2157030</td>\n",
       "      <td>Особо важное задание</td>\n",
       "      <td>СССР</td>\n",
       "      <td>Киностудия \"Мосфильм\"</td>\n",
       "      <td>1980</td>\n",
       "      <td>2016-09-13T12:00:00.000Z</td>\n",
       "      <td>Кино</td>\n",
       "      <td>ФГУП \"Киноконцерн \"Мосфильм\"</td>\n",
       "      <td>111013716</td>\n",
       "      <td>«6+» для детей старше шести лет</td>\n",
       "      <td>...</td>\n",
       "      <td>Б.Добродеев, П.Попогребский</td>\n",
       "      <td>И.Черных</td>\n",
       "      <td>С.Валюшок</td>\n",
       "      <td>Е.Птичкин</td>\n",
       "      <td>ш/э</td>\n",
       "      <td>NaN</td>\n",
       "      <td>Цветной</td>\n",
       "      <td>NaN</td>\n",
       "      <td>2018-04-09T09:12:02+03:00</td>\n",
       "      <td>2017-07-05T14:10:11+03:00</td>\n",
       "    </tr>\n",
       "    <tr>\n",
       "      <th>4</th>\n",
       "      <td>2157031</td>\n",
       "      <td>Особо опасен</td>\n",
       "      <td>США</td>\n",
       "      <td>Юниверсал Пикчерз, Кикстарт Продакшнз, Марк Пл...</td>\n",
       "      <td>2008</td>\n",
       "      <td>2016-10-10T12:00:00.000Z</td>\n",
       "      <td>Кино</td>\n",
       "      <td>ООО \"НД Плэй\"</td>\n",
       "      <td>221038416</td>\n",
       "      <td>«18+» запрещено для детей</td>\n",
       "      <td>...</td>\n",
       "      <td>Майкл Брандт, Крис Морган, Дерек Хаас</td>\n",
       "      <td>Митчелл Амундсен</td>\n",
       "      <td>Джон Майр</td>\n",
       "      <td>Дэнни Эльфман</td>\n",
       "      <td>ш/э</td>\n",
       "      <td>NaN</td>\n",
       "      <td>Цветной</td>\n",
       "      <td>NaN</td>\n",
       "      <td>2019-05-20T11:24:32+03:00</td>\n",
       "      <td>2017-07-05T14:10:11+03:00</td>\n",
       "    </tr>\n",
       "  </tbody>\n",
       "</table>\n",
       "<p>5 rows × 31 columns</p>\n",
       "</div>"
      ],
      "text/plain": [
       "   record_id            film_title country_of_production  \\\n",
       "0    2157027        Почти знаменит                   США   \n",
       "1    2157028        Открытое окно.                   США   \n",
       "2    2157029      Открытый простор                   США   \n",
       "3    2157030  Особо важное задание                  СССР   \n",
       "4    2157031          Особо опасен                   США   \n",
       "\n",
       "                                   production_studio year_of_production  \\\n",
       "0                                   Коламбиа Пикчерз               2000   \n",
       "1           Кард Интертейнмент, Имэйдж Интертейнмент               2006   \n",
       "2  Тачстоун Пикчерз, Кобальт Пикчерз, Бикон Пикче...               2003   \n",
       "3                              Киностудия \"Мосфильм\"               1980   \n",
       "4  Юниверсал Пикчерз, Кикстарт Продакшнз, Марк Пл...               2008   \n",
       "\n",
       "              cert_reg_date category  \\\n",
       "0  2016-02-09T12:00:00.000Z    Видео   \n",
       "1  2014-06-30T12:00:00.000Z    Видео   \n",
       "2  2015-11-27T12:00:00.000Z     Кино   \n",
       "3  2016-09-13T12:00:00.000Z     Кино   \n",
       "4  2016-10-10T12:00:00.000Z     Кино   \n",
       "\n",
       "                             film_usage_rights certificate_number  \\\n",
       "0                                ЗАО \"ФЕЛИСТА\"          221006316   \n",
       "1                     ООО \"Люксор Дистрибьюшн\"          221027814   \n",
       "2  ООО \"Дистрибуционная кинокомпания \"Парадиз\"          221048915   \n",
       "3                 ФГУП \"Киноконцерн \"Мосфильм\"          111013716   \n",
       "4                                ООО \"НД Плэй\"          221038416   \n",
       "\n",
       "                        age_rating  ...  \\\n",
       "0        «18+» запрещено для детей  ...   \n",
       "1    «16+» для детей старше 16 лет  ...   \n",
       "2        «18+» запрещено для детей  ...   \n",
       "3  «6+» для детей старше шести лет  ...   \n",
       "4        «18+» запрещено для детей  ...   \n",
       "\n",
       "                            screenwriter   cinematographer art_director  \\\n",
       "0                           Кемерон Кроу               NaN          NaN   \n",
       "1                            Миа Голдмен               NaN          NaN   \n",
       "2              Лоран Пэйн, Крейг Сторпер     Джеймс М.Муро  Гэй С.Бакли   \n",
       "3            Б.Добродеев, П.Попогребский          И.Черных    С.Валюшок   \n",
       "4  Майкл Брандт, Крис Морган, Дерек Хаас  Митчелл Амундсен    Джон Майр   \n",
       "\n",
       "          composer  frame_format media_format    color original_language  \\\n",
       "0      Джон Бонхэм           NaN          NaN  Цветной               NaN   \n",
       "1  Клифф Эйдельман           NaN          NaN  Цветной               NaN   \n",
       "2      Майкл Кэмен           ш/э          NaN  Цветной               NaN   \n",
       "3        Е.Птичкин           ш/э          NaN  Цветной               NaN   \n",
       "4    Дэнни Эльфман           ш/э          NaN  Цветной               NaN   \n",
       "\n",
       "          object_update_date       object_creation_date  \n",
       "0  2018-04-09T09:12:02+03:00  2017-07-05T14:10:11+03:00  \n",
       "1  2018-04-09T09:12:02+03:00  2017-07-05T14:10:11+03:00  \n",
       "2  2018-04-09T09:12:02+03:00  2017-07-05T14:10:11+03:00  \n",
       "3  2018-04-09T09:12:02+03:00  2017-07-05T14:10:11+03:00  \n",
       "4  2019-05-20T11:24:32+03:00  2017-07-05T14:10:11+03:00  \n",
       "\n",
       "[5 rows x 31 columns]"
      ]
     },
     "metadata": {},
     "output_type": "display_data"
    },
    {
     "data": {
      "application/vnd.microsoft.datawrangler.viewer.v0+json": {
       "columns": [
        {
         "name": "index",
         "rawType": "object",
         "type": "string"
        },
        {
         "name": "duplicates_full",
         "rawType": "int64",
         "type": "integer"
        }
       ],
       "ref": "cbc34b89-0608-4194-b447-eea80637c673",
       "rows": [
        [
         "duplicates_full",
         "460425"
        ]
       ],
       "shape": {
        "columns": 1,
        "rows": 1
       }
      },
      "text/html": [
       "<div>\n",
       "<style scoped>\n",
       "    .dataframe tbody tr th:only-of-type {\n",
       "        vertical-align: middle;\n",
       "    }\n",
       "\n",
       "    .dataframe tbody tr th {\n",
       "        vertical-align: top;\n",
       "    }\n",
       "\n",
       "    .dataframe thead th {\n",
       "        text-align: right;\n",
       "    }\n",
       "</style>\n",
       "<table border=\"1\" class=\"dataframe\">\n",
       "  <thead>\n",
       "    <tr style=\"text-align: right;\">\n",
       "      <th></th>\n",
       "      <th>duplicates_full</th>\n",
       "    </tr>\n",
       "  </thead>\n",
       "  <tbody>\n",
       "    <tr>\n",
       "      <th>duplicates_full</th>\n",
       "      <td>460425</td>\n",
       "    </tr>\n",
       "  </tbody>\n",
       "</table>\n",
       "</div>"
      ],
      "text/plain": [
       "                 duplicates_full\n",
       "duplicates_full           460425"
      ]
     },
     "metadata": {},
     "output_type": "display_data"
    },
    {
     "data": {
      "application/vnd.microsoft.datawrangler.viewer.v0+json": {
       "columns": [
        {
         "name": "index",
         "rawType": "object",
         "type": "string"
        },
        {
         "name": "record_id",
         "rawType": "int64",
         "type": "integer"
        },
        {
         "name": "film_title",
         "rawType": "int64",
         "type": "integer"
        },
        {
         "name": "country_of_production",
         "rawType": "int64",
         "type": "integer"
        },
        {
         "name": "production_studio",
         "rawType": "int64",
         "type": "integer"
        },
        {
         "name": "year_of_production",
         "rawType": "int64",
         "type": "integer"
        },
        {
         "name": "cert_reg_date",
         "rawType": "int64",
         "type": "integer"
        },
        {
         "name": "category",
         "rawType": "int64",
         "type": "integer"
        },
        {
         "name": "film_usage_rights",
         "rawType": "int64",
         "type": "integer"
        },
        {
         "name": "certificate_number",
         "rawType": "int64",
         "type": "integer"
        },
        {
         "name": "age_rating",
         "rawType": "int64",
         "type": "integer"
        },
        {
         "name": "duration_hours",
         "rawType": "int64",
         "type": "integer"
        },
        {
         "name": "duration_minutes",
         "rawType": "int64",
         "type": "integer"
        },
        {
         "name": "synopsis",
         "rawType": "int64",
         "type": "integer"
        },
        {
         "name": "number_of_episodes",
         "rawType": "int64",
         "type": "integer"
        },
        {
         "name": "media_size",
         "rawType": "int64",
         "type": "integer"
        },
        {
         "name": "unit_of_measurement",
         "rawType": "int64",
         "type": "integer"
        },
        {
         "name": "amendment_number",
         "rawType": "int64",
         "type": "integer"
        },
        {
         "name": "distr_rights_transf",
         "rawType": "int64",
         "type": "integer"
        },
        {
         "name": "note",
         "rawType": "int64",
         "type": "integer"
        },
        {
         "name": "director",
         "rawType": "int64",
         "type": "integer"
        },
        {
         "name": "producer",
         "rawType": "int64",
         "type": "integer"
        },
        {
         "name": "screenwriter",
         "rawType": "int64",
         "type": "integer"
        },
        {
         "name": "cinematographer",
         "rawType": "int64",
         "type": "integer"
        },
        {
         "name": "art_director",
         "rawType": "int64",
         "type": "integer"
        },
        {
         "name": "composer",
         "rawType": "int64",
         "type": "integer"
        },
        {
         "name": "frame_format",
         "rawType": "int64",
         "type": "integer"
        },
        {
         "name": "media_format",
         "rawType": "int64",
         "type": "integer"
        },
        {
         "name": "color",
         "rawType": "int64",
         "type": "integer"
        },
        {
         "name": "original_language",
         "rawType": "int64",
         "type": "integer"
        },
        {
         "name": "object_update_date",
         "rawType": "int64",
         "type": "integer"
        },
        {
         "name": "object_creation_date",
         "rawType": "int64",
         "type": "integer"
        }
       ],
       "ref": "8e60e62b-3023-499f-bba8-b96d04656115",
       "rows": [
        [
         "duplicates_by_cols",
         "641157",
         "658956",
         "741908",
         "703854",
         "742690",
         "733695",
         "745659",
         "719251",
         "641256",
         "745409",
         "616264",
         "745452",
         "634488",
         "745514",
         "744050",
         "26926",
         "56",
         "1655",
         "225280",
         "685486",
         "421304",
         "600139",
         "384331",
         "259158",
         "450996",
         "81121",
         "59822",
         "745560",
         "25",
         "715825",
         "724660"
        ]
       ],
       "shape": {
        "columns": 31,
        "rows": 1
       }
      },
      "text/html": [
       "<div>\n",
       "<style scoped>\n",
       "    .dataframe tbody tr th:only-of-type {\n",
       "        vertical-align: middle;\n",
       "    }\n",
       "\n",
       "    .dataframe tbody tr th {\n",
       "        vertical-align: top;\n",
       "    }\n",
       "\n",
       "    .dataframe thead th {\n",
       "        text-align: right;\n",
       "    }\n",
       "</style>\n",
       "<table border=\"1\" class=\"dataframe\">\n",
       "  <thead>\n",
       "    <tr style=\"text-align: right;\">\n",
       "      <th></th>\n",
       "      <th>record_id</th>\n",
       "      <th>film_title</th>\n",
       "      <th>country_of_production</th>\n",
       "      <th>production_studio</th>\n",
       "      <th>year_of_production</th>\n",
       "      <th>cert_reg_date</th>\n",
       "      <th>category</th>\n",
       "      <th>film_usage_rights</th>\n",
       "      <th>certificate_number</th>\n",
       "      <th>age_rating</th>\n",
       "      <th>...</th>\n",
       "      <th>screenwriter</th>\n",
       "      <th>cinematographer</th>\n",
       "      <th>art_director</th>\n",
       "      <th>composer</th>\n",
       "      <th>frame_format</th>\n",
       "      <th>media_format</th>\n",
       "      <th>color</th>\n",
       "      <th>original_language</th>\n",
       "      <th>object_update_date</th>\n",
       "      <th>object_creation_date</th>\n",
       "    </tr>\n",
       "  </thead>\n",
       "  <tbody>\n",
       "    <tr>\n",
       "      <th>duplicates_by_cols</th>\n",
       "      <td>641157</td>\n",
       "      <td>658956</td>\n",
       "      <td>741908</td>\n",
       "      <td>703854</td>\n",
       "      <td>742690</td>\n",
       "      <td>733695</td>\n",
       "      <td>745659</td>\n",
       "      <td>719251</td>\n",
       "      <td>641256</td>\n",
       "      <td>745409</td>\n",
       "      <td>...</td>\n",
       "      <td>600139</td>\n",
       "      <td>384331</td>\n",
       "      <td>259158</td>\n",
       "      <td>450996</td>\n",
       "      <td>81121</td>\n",
       "      <td>59822</td>\n",
       "      <td>745560</td>\n",
       "      <td>25</td>\n",
       "      <td>715825</td>\n",
       "      <td>724660</td>\n",
       "    </tr>\n",
       "  </tbody>\n",
       "</table>\n",
       "<p>1 rows × 31 columns</p>\n",
       "</div>"
      ],
      "text/plain": [
       "                    record_id  film_title  country_of_production  \\\n",
       "duplicates_by_cols     641157      658956                 741908   \n",
       "\n",
       "                    production_studio  year_of_production  cert_reg_date  \\\n",
       "duplicates_by_cols             703854              742690         733695   \n",
       "\n",
       "                    category  film_usage_rights  certificate_number  \\\n",
       "duplicates_by_cols    745659             719251              641256   \n",
       "\n",
       "                    age_rating  ...  screenwriter  cinematographer  \\\n",
       "duplicates_by_cols      745409  ...        600139           384331   \n",
       "\n",
       "                    art_director  composer  frame_format  media_format  \\\n",
       "duplicates_by_cols        259158    450996         81121         59822   \n",
       "\n",
       "                     color  original_language  object_update_date  \\\n",
       "duplicates_by_cols  745560                 25              715825   \n",
       "\n",
       "                    object_creation_date  \n",
       "duplicates_by_cols                724660  \n",
       "\n",
       "[1 rows x 31 columns]"
      ]
     },
     "metadata": {},
     "output_type": "display_data"
    },
    {
     "data": {
      "application/vnd.microsoft.datawrangler.viewer.v0+json": {
       "columns": [
        {
         "name": "index",
         "rawType": "object",
         "type": "string"
        },
        {
         "name": "duration_hours",
         "rawType": "int64",
         "type": "integer"
        },
        {
         "name": "duration_minutes",
         "rawType": "int64",
         "type": "integer"
        },
        {
         "name": "number_of_episodes",
         "rawType": "int64",
         "type": "integer"
        }
       ],
       "ref": "d40ea3dd-2858-42ad-9cc1-14d67b96d1a6",
       "rows": [
        [
         "zeroes",
         "77000",
         "18529",
         "360"
        ]
       ],
       "shape": {
        "columns": 3,
        "rows": 1
       }
      },
      "text/html": [
       "<div>\n",
       "<style scoped>\n",
       "    .dataframe tbody tr th:only-of-type {\n",
       "        vertical-align: middle;\n",
       "    }\n",
       "\n",
       "    .dataframe tbody tr th {\n",
       "        vertical-align: top;\n",
       "    }\n",
       "\n",
       "    .dataframe thead th {\n",
       "        text-align: right;\n",
       "    }\n",
       "</style>\n",
       "<table border=\"1\" class=\"dataframe\">\n",
       "  <thead>\n",
       "    <tr style=\"text-align: right;\">\n",
       "      <th></th>\n",
       "      <th>duration_hours</th>\n",
       "      <th>duration_minutes</th>\n",
       "      <th>number_of_episodes</th>\n",
       "    </tr>\n",
       "  </thead>\n",
       "  <tbody>\n",
       "    <tr>\n",
       "      <th>zeroes</th>\n",
       "      <td>77000</td>\n",
       "      <td>18529</td>\n",
       "      <td>360</td>\n",
       "    </tr>\n",
       "  </tbody>\n",
       "</table>\n",
       "</div>"
      ],
      "text/plain": [
       "        duration_hours  duration_minutes  number_of_episodes\n",
       "zeroes           77000             18529                 360"
      ]
     },
     "metadata": {},
     "output_type": "display_data"
    },
    {
     "data": {
      "application/vnd.microsoft.datawrangler.viewer.v0+json": {
       "columns": [
        {
         "name": "index",
         "rawType": "object",
         "type": "string"
        },
        {
         "name": "duration_minutes",
         "rawType": "int64",
         "type": "integer"
        },
        {
         "name": "number_of_episodes",
         "rawType": "int64",
         "type": "integer"
        },
        {
         "name": "media_size",
         "rawType": "int64",
         "type": "integer"
        }
       ],
       "ref": "13531f86-6661-4c96-a831-6c2d28558675",
       "rows": [
        [
         "minus_ones",
         "19628",
         "447698",
         "718583"
        ]
       ],
       "shape": {
        "columns": 3,
        "rows": 1
       }
      },
      "text/html": [
       "<div>\n",
       "<style scoped>\n",
       "    .dataframe tbody tr th:only-of-type {\n",
       "        vertical-align: middle;\n",
       "    }\n",
       "\n",
       "    .dataframe tbody tr th {\n",
       "        vertical-align: top;\n",
       "    }\n",
       "\n",
       "    .dataframe thead th {\n",
       "        text-align: right;\n",
       "    }\n",
       "</style>\n",
       "<table border=\"1\" class=\"dataframe\">\n",
       "  <thead>\n",
       "    <tr style=\"text-align: right;\">\n",
       "      <th></th>\n",
       "      <th>duration_minutes</th>\n",
       "      <th>number_of_episodes</th>\n",
       "      <th>media_size</th>\n",
       "    </tr>\n",
       "  </thead>\n",
       "  <tbody>\n",
       "    <tr>\n",
       "      <th>minus_ones</th>\n",
       "      <td>19628</td>\n",
       "      <td>447698</td>\n",
       "      <td>718583</td>\n",
       "    </tr>\n",
       "  </tbody>\n",
       "</table>\n",
       "</div>"
      ],
      "text/plain": [
       "            duration_minutes  number_of_episodes  media_size\n",
       "minus_ones             19628              447698      718583"
      ]
     },
     "metadata": {},
     "output_type": "display_data"
    },
    {
     "data": {
      "application/vnd.microsoft.datawrangler.viewer.v0+json": {
       "columns": [
        {
         "name": "index",
         "rawType": "object",
         "type": "string"
        },
        {
         "name": "country_of_production",
         "rawType": "int64",
         "type": "integer"
        },
        {
         "name": "production_studio",
         "rawType": "int64",
         "type": "integer"
        },
        {
         "name": "year_of_production",
         "rawType": "int64",
         "type": "integer"
        },
        {
         "name": "cert_reg_date",
         "rawType": "int64",
         "type": "integer"
        },
        {
         "name": "film_usage_rights",
         "rawType": "int64",
         "type": "integer"
        },
        {
         "name": "age_rating",
         "rawType": "int64",
         "type": "integer"
        },
        {
         "name": "duration_hours",
         "rawType": "int64",
         "type": "integer"
        },
        {
         "name": "synopsis",
         "rawType": "int64",
         "type": "integer"
        },
        {
         "name": "unit_of_measurement",
         "rawType": "int64",
         "type": "integer"
        },
        {
         "name": "amendment_number",
         "rawType": "int64",
         "type": "integer"
        },
        {
         "name": "distr_rights_transf",
         "rawType": "int64",
         "type": "integer"
        },
        {
         "name": "note",
         "rawType": "int64",
         "type": "integer"
        },
        {
         "name": "director",
         "rawType": "int64",
         "type": "integer"
        },
        {
         "name": "producer",
         "rawType": "int64",
         "type": "integer"
        },
        {
         "name": "screenwriter",
         "rawType": "int64",
         "type": "integer"
        },
        {
         "name": "cinematographer",
         "rawType": "int64",
         "type": "integer"
        },
        {
         "name": "art_director",
         "rawType": "int64",
         "type": "integer"
        },
        {
         "name": "composer",
         "rawType": "int64",
         "type": "integer"
        },
        {
         "name": "frame_format",
         "rawType": "int64",
         "type": "integer"
        },
        {
         "name": "media_format",
         "rawType": "int64",
         "type": "integer"
        },
        {
         "name": "color",
         "rawType": "int64",
         "type": "integer"
        },
        {
         "name": "original_language",
         "rawType": "int64",
         "type": "integer"
        }
       ],
       "ref": "83e291f2-da20-4bd8-bef7-d023dcae2e82",
       "rows": [
        [
         "nulls",
         "523",
         "1002",
         "1701",
         "114",
         "13482",
         "218",
         "129288",
         "58043",
         "718732",
         "745600",
         "743626",
         "513112",
         "20907",
         "293402",
         "96132",
         "339180",
         "468370",
         "271082",
         "664156",
         "685757",
         "77",
         "745635"
        ]
       ],
       "shape": {
        "columns": 22,
        "rows": 1
       }
      },
      "text/html": [
       "<div>\n",
       "<style scoped>\n",
       "    .dataframe tbody tr th:only-of-type {\n",
       "        vertical-align: middle;\n",
       "    }\n",
       "\n",
       "    .dataframe tbody tr th {\n",
       "        vertical-align: top;\n",
       "    }\n",
       "\n",
       "    .dataframe thead th {\n",
       "        text-align: right;\n",
       "    }\n",
       "</style>\n",
       "<table border=\"1\" class=\"dataframe\">\n",
       "  <thead>\n",
       "    <tr style=\"text-align: right;\">\n",
       "      <th></th>\n",
       "      <th>country_of_production</th>\n",
       "      <th>production_studio</th>\n",
       "      <th>year_of_production</th>\n",
       "      <th>cert_reg_date</th>\n",
       "      <th>film_usage_rights</th>\n",
       "      <th>age_rating</th>\n",
       "      <th>duration_hours</th>\n",
       "      <th>synopsis</th>\n",
       "      <th>unit_of_measurement</th>\n",
       "      <th>amendment_number</th>\n",
       "      <th>...</th>\n",
       "      <th>director</th>\n",
       "      <th>producer</th>\n",
       "      <th>screenwriter</th>\n",
       "      <th>cinematographer</th>\n",
       "      <th>art_director</th>\n",
       "      <th>composer</th>\n",
       "      <th>frame_format</th>\n",
       "      <th>media_format</th>\n",
       "      <th>color</th>\n",
       "      <th>original_language</th>\n",
       "    </tr>\n",
       "  </thead>\n",
       "  <tbody>\n",
       "    <tr>\n",
       "      <th>nulls</th>\n",
       "      <td>523</td>\n",
       "      <td>1002</td>\n",
       "      <td>1701</td>\n",
       "      <td>114</td>\n",
       "      <td>13482</td>\n",
       "      <td>218</td>\n",
       "      <td>129288</td>\n",
       "      <td>58043</td>\n",
       "      <td>718732</td>\n",
       "      <td>745600</td>\n",
       "      <td>...</td>\n",
       "      <td>20907</td>\n",
       "      <td>293402</td>\n",
       "      <td>96132</td>\n",
       "      <td>339180</td>\n",
       "      <td>468370</td>\n",
       "      <td>271082</td>\n",
       "      <td>664156</td>\n",
       "      <td>685757</td>\n",
       "      <td>77</td>\n",
       "      <td>745635</td>\n",
       "    </tr>\n",
       "  </tbody>\n",
       "</table>\n",
       "<p>1 rows × 22 columns</p>\n",
       "</div>"
      ],
      "text/plain": [
       "       country_of_production  production_studio  year_of_production  \\\n",
       "nulls                    523               1002                1701   \n",
       "\n",
       "       cert_reg_date  film_usage_rights  age_rating  duration_hours  synopsis  \\\n",
       "nulls            114              13482         218          129288     58043   \n",
       "\n",
       "       unit_of_measurement  amendment_number  ...  director  producer  \\\n",
       "nulls               718732            745600  ...     20907    293402   \n",
       "\n",
       "       screenwriter  cinematographer  art_director  composer  frame_format  \\\n",
       "nulls         96132           339180        468370    271082        664156   \n",
       "\n",
       "       media_format  color  original_language  \n",
       "nulls        685757     77             745635  \n",
       "\n",
       "[1 rows x 22 columns]"
      ]
     },
     "metadata": {},
     "output_type": "display_data"
    },
    {
     "data": {
      "application/vnd.microsoft.datawrangler.viewer.v0+json": {
       "columns": [
        {
         "name": "index",
         "rawType": "object",
         "type": "string"
        },
        {
         "name": "country_of_production",
         "rawType": "int64",
         "type": "integer"
        },
        {
         "name": "production_studio",
         "rawType": "int64",
         "type": "integer"
        },
        {
         "name": "year_of_production",
         "rawType": "int64",
         "type": "integer"
        },
        {
         "name": "cert_reg_date",
         "rawType": "int64",
         "type": "integer"
        },
        {
         "name": "film_usage_rights",
         "rawType": "int64",
         "type": "integer"
        },
        {
         "name": "age_rating",
         "rawType": "int64",
         "type": "integer"
        },
        {
         "name": "duration_hours",
         "rawType": "int64",
         "type": "integer"
        },
        {
         "name": "synopsis",
         "rawType": "int64",
         "type": "integer"
        },
        {
         "name": "unit_of_measurement",
         "rawType": "int64",
         "type": "integer"
        },
        {
         "name": "amendment_number",
         "rawType": "int64",
         "type": "integer"
        },
        {
         "name": "distr_rights_transf",
         "rawType": "int64",
         "type": "integer"
        },
        {
         "name": "note",
         "rawType": "int64",
         "type": "integer"
        },
        {
         "name": "director",
         "rawType": "int64",
         "type": "integer"
        },
        {
         "name": "producer",
         "rawType": "int64",
         "type": "integer"
        },
        {
         "name": "screenwriter",
         "rawType": "int64",
         "type": "integer"
        },
        {
         "name": "cinematographer",
         "rawType": "int64",
         "type": "integer"
        },
        {
         "name": "art_director",
         "rawType": "int64",
         "type": "integer"
        },
        {
         "name": "composer",
         "rawType": "int64",
         "type": "integer"
        },
        {
         "name": "frame_format",
         "rawType": "int64",
         "type": "integer"
        },
        {
         "name": "media_format",
         "rawType": "int64",
         "type": "integer"
        },
        {
         "name": "color",
         "rawType": "int64",
         "type": "integer"
        },
        {
         "name": "original_language",
         "rawType": "int64",
         "type": "integer"
        }
       ],
       "ref": "3f921d8a-e077-4cea-bee2-11ab4c1a2297",
       "rows": [
        [
         "nans",
         "523",
         "1002",
         "1701",
         "114",
         "13482",
         "218",
         "129288",
         "58043",
         "718732",
         "745600",
         "743626",
         "513112",
         "20907",
         "293402",
         "96132",
         "339180",
         "468370",
         "271082",
         "664156",
         "685757",
         "77",
         "745635"
        ]
       ],
       "shape": {
        "columns": 22,
        "rows": 1
       }
      },
      "text/html": [
       "<div>\n",
       "<style scoped>\n",
       "    .dataframe tbody tr th:only-of-type {\n",
       "        vertical-align: middle;\n",
       "    }\n",
       "\n",
       "    .dataframe tbody tr th {\n",
       "        vertical-align: top;\n",
       "    }\n",
       "\n",
       "    .dataframe thead th {\n",
       "        text-align: right;\n",
       "    }\n",
       "</style>\n",
       "<table border=\"1\" class=\"dataframe\">\n",
       "  <thead>\n",
       "    <tr style=\"text-align: right;\">\n",
       "      <th></th>\n",
       "      <th>country_of_production</th>\n",
       "      <th>production_studio</th>\n",
       "      <th>year_of_production</th>\n",
       "      <th>cert_reg_date</th>\n",
       "      <th>film_usage_rights</th>\n",
       "      <th>age_rating</th>\n",
       "      <th>duration_hours</th>\n",
       "      <th>synopsis</th>\n",
       "      <th>unit_of_measurement</th>\n",
       "      <th>amendment_number</th>\n",
       "      <th>...</th>\n",
       "      <th>director</th>\n",
       "      <th>producer</th>\n",
       "      <th>screenwriter</th>\n",
       "      <th>cinematographer</th>\n",
       "      <th>art_director</th>\n",
       "      <th>composer</th>\n",
       "      <th>frame_format</th>\n",
       "      <th>media_format</th>\n",
       "      <th>color</th>\n",
       "      <th>original_language</th>\n",
       "    </tr>\n",
       "  </thead>\n",
       "  <tbody>\n",
       "    <tr>\n",
       "      <th>nans</th>\n",
       "      <td>523</td>\n",
       "      <td>1002</td>\n",
       "      <td>1701</td>\n",
       "      <td>114</td>\n",
       "      <td>13482</td>\n",
       "      <td>218</td>\n",
       "      <td>129288</td>\n",
       "      <td>58043</td>\n",
       "      <td>718732</td>\n",
       "      <td>745600</td>\n",
       "      <td>...</td>\n",
       "      <td>20907</td>\n",
       "      <td>293402</td>\n",
       "      <td>96132</td>\n",
       "      <td>339180</td>\n",
       "      <td>468370</td>\n",
       "      <td>271082</td>\n",
       "      <td>664156</td>\n",
       "      <td>685757</td>\n",
       "      <td>77</td>\n",
       "      <td>745635</td>\n",
       "    </tr>\n",
       "  </tbody>\n",
       "</table>\n",
       "<p>1 rows × 22 columns</p>\n",
       "</div>"
      ],
      "text/plain": [
       "      country_of_production  production_studio  year_of_production  \\\n",
       "nans                    523               1002                1701   \n",
       "\n",
       "      cert_reg_date  film_usage_rights  age_rating  duration_hours  synopsis  \\\n",
       "nans            114              13482         218          129288     58043   \n",
       "\n",
       "      unit_of_measurement  amendment_number  ...  director  producer  \\\n",
       "nans               718732            745600  ...     20907    293402   \n",
       "\n",
       "      screenwriter  cinematographer  art_director  composer  frame_format  \\\n",
       "nans         96132           339180        468370    271082        664156   \n",
       "\n",
       "      media_format  color  original_language  \n",
       "nans        685757     77             745635  \n",
       "\n",
       "[1 rows x 22 columns]"
      ]
     },
     "metadata": {},
     "output_type": "display_data"
    },
    {
     "data": {
      "application/vnd.microsoft.datawrangler.viewer.v0+json": {
       "columns": [
        {
         "name": "index",
         "rawType": "object",
         "type": "string"
        }
       ],
       "ref": "22f1f870-d5cd-4982-9646-8e6f7f246162",
       "rows": [
        [
         "nones"
        ]
       ],
       "shape": {
        "columns": 0,
        "rows": 1
       }
      },
      "text/html": [
       "<div>\n",
       "<style scoped>\n",
       "    .dataframe tbody tr th:only-of-type {\n",
       "        vertical-align: middle;\n",
       "    }\n",
       "\n",
       "    .dataframe tbody tr th {\n",
       "        vertical-align: top;\n",
       "    }\n",
       "\n",
       "    .dataframe thead th {\n",
       "        text-align: right;\n",
       "    }\n",
       "</style>\n",
       "<table border=\"1\" class=\"dataframe\">\n",
       "  <thead>\n",
       "    <tr style=\"text-align: right;\">\n",
       "      <th></th>\n",
       "    </tr>\n",
       "  </thead>\n",
       "  <tbody>\n",
       "    <tr>\n",
       "      <th>nones</th>\n",
       "    </tr>\n",
       "  </tbody>\n",
       "</table>\n",
       "</div>"
      ],
      "text/plain": [
       "Empty DataFrame\n",
       "Columns: []\n",
       "Index: [nones]"
      ]
     },
     "metadata": {},
     "output_type": "display_data"
    },
    {
     "data": {
      "application/vnd.microsoft.datawrangler.viewer.v0+json": {
       "columns": [
        {
         "name": "index",
         "rawType": "object",
         "type": "string"
        }
       ],
       "ref": "27174e69-5824-4400-b750-cfd515cbd6a7",
       "rows": [
        [
         "NA placeholder"
        ]
       ],
       "shape": {
        "columns": 0,
        "rows": 1
       }
      },
      "text/html": [
       "<div>\n",
       "<style scoped>\n",
       "    .dataframe tbody tr th:only-of-type {\n",
       "        vertical-align: middle;\n",
       "    }\n",
       "\n",
       "    .dataframe tbody tr th {\n",
       "        vertical-align: top;\n",
       "    }\n",
       "\n",
       "    .dataframe thead th {\n",
       "        text-align: right;\n",
       "    }\n",
       "</style>\n",
       "<table border=\"1\" class=\"dataframe\">\n",
       "  <thead>\n",
       "    <tr style=\"text-align: right;\">\n",
       "      <th></th>\n",
       "    </tr>\n",
       "  </thead>\n",
       "  <tbody>\n",
       "    <tr>\n",
       "      <th>NA placeholder</th>\n",
       "    </tr>\n",
       "  </tbody>\n",
       "</table>\n",
       "</div>"
      ],
      "text/plain": [
       "Empty DataFrame\n",
       "Columns: []\n",
       "Index: [NA placeholder]"
      ]
     },
     "metadata": {},
     "output_type": "display_data"
    },
    {
     "data": {
      "application/vnd.microsoft.datawrangler.viewer.v0+json": {
       "columns": [
        {
         "name": "index",
         "rawType": "object",
         "type": "string"
        }
       ],
       "ref": "9dfdfeae-3726-42db-96b8-648e4cc3abf3",
       "rows": [
        [
         "null placeholder"
        ]
       ],
       "shape": {
        "columns": 0,
        "rows": 1
       }
      },
      "text/html": [
       "<div>\n",
       "<style scoped>\n",
       "    .dataframe tbody tr th:only-of-type {\n",
       "        vertical-align: middle;\n",
       "    }\n",
       "\n",
       "    .dataframe tbody tr th {\n",
       "        vertical-align: top;\n",
       "    }\n",
       "\n",
       "    .dataframe thead th {\n",
       "        text-align: right;\n",
       "    }\n",
       "</style>\n",
       "<table border=\"1\" class=\"dataframe\">\n",
       "  <thead>\n",
       "    <tr style=\"text-align: right;\">\n",
       "      <th></th>\n",
       "    </tr>\n",
       "  </thead>\n",
       "  <tbody>\n",
       "    <tr>\n",
       "      <th>null placeholder</th>\n",
       "    </tr>\n",
       "  </tbody>\n",
       "</table>\n",
       "</div>"
      ],
      "text/plain": [
       "Empty DataFrame\n",
       "Columns: []\n",
       "Index: [null placeholder]"
      ]
     },
     "metadata": {},
     "output_type": "display_data"
    },
    {
     "data": {
      "application/vnd.microsoft.datawrangler.viewer.v0+json": {
       "columns": [
        {
         "name": "index",
         "rawType": "object",
         "type": "string"
        }
       ],
       "ref": "92ca6bf2-6a84-49d7-a3cc-eeaba28f0baf",
       "rows": [
        [
         "N/A placeholder"
        ]
       ],
       "shape": {
        "columns": 0,
        "rows": 1
       }
      },
      "text/html": [
       "<div>\n",
       "<style scoped>\n",
       "    .dataframe tbody tr th:only-of-type {\n",
       "        vertical-align: middle;\n",
       "    }\n",
       "\n",
       "    .dataframe tbody tr th {\n",
       "        vertical-align: top;\n",
       "    }\n",
       "\n",
       "    .dataframe thead th {\n",
       "        text-align: right;\n",
       "    }\n",
       "</style>\n",
       "<table border=\"1\" class=\"dataframe\">\n",
       "  <thead>\n",
       "    <tr style=\"text-align: right;\">\n",
       "      <th></th>\n",
       "    </tr>\n",
       "  </thead>\n",
       "  <tbody>\n",
       "    <tr>\n",
       "      <th>N/A placeholder</th>\n",
       "    </tr>\n",
       "  </tbody>\n",
       "</table>\n",
       "</div>"
      ],
      "text/plain": [
       "Empty DataFrame\n",
       "Columns: []\n",
       "Index: [N/A placeholder]"
      ]
     },
     "metadata": {},
     "output_type": "display_data"
    },
    {
     "data": {
      "application/vnd.microsoft.datawrangler.viewer.v0+json": {
       "columns": [
        {
         "name": "index",
         "rawType": "int64",
         "type": "integer"
        }
       ],
       "ref": "5c4c7b20-4b5e-489f-b2c2-b71f96c46856",
       "rows": [],
       "shape": {
        "columns": 0,
        "rows": 0
       }
      },
      "text/html": [
       "<div>\n",
       "<style scoped>\n",
       "    .dataframe tbody tr th:only-of-type {\n",
       "        vertical-align: middle;\n",
       "    }\n",
       "\n",
       "    .dataframe tbody tr th {\n",
       "        vertical-align: top;\n",
       "    }\n",
       "\n",
       "    .dataframe thead th {\n",
       "        text-align: right;\n",
       "    }\n",
       "</style>\n",
       "<table border=\"1\" class=\"dataframe\">\n",
       "  <thead>\n",
       "    <tr style=\"text-align: right;\">\n",
       "      <th></th>\n",
       "    </tr>\n",
       "  </thead>\n",
       "  <tbody>\n",
       "  </tbody>\n",
       "</table>\n",
       "</div>"
      ],
      "text/plain": [
       "Empty DataFrame\n",
       "Columns: []\n",
       "Index: []"
      ]
     },
     "metadata": {},
     "output_type": "display_data"
    }
   ],
   "source": [
    "pd_tools.df_info(fc_reg_df)"
   ]
  },
  {
   "cell_type": "code",
   "execution_count": 375,
   "id": "0e6a10f1",
   "metadata": {},
   "outputs": [],
   "source": [
    "fc_reg_df.drop_duplicates().to_parquet(f'{tmp_path}/fc_reg.parquet', index=False)"
   ]
  },
  {
   "cell_type": "markdown",
   "id": "3daed781",
   "metadata": {},
   "source": [
    "## Upload to db"
   ]
  },
  {
   "cell_type": "code",
   "execution_count": 379,
   "id": "24090834",
   "metadata": {},
   "outputs": [
    {
     "data": {
      "text/plain": [
       "Index(['record_id', 'film_title', 'country_of_production', 'production_studio',\n",
       "       'year_of_production', 'cert_reg_date', 'category', 'film_usage_rights',\n",
       "       'certificate_number', 'age_rating', 'duration_hours',\n",
       "       'duration_minutes', 'synopsis', 'number_of_episodes', 'media_size',\n",
       "       'unit_of_measurement', 'amendment_number', 'distr_rights_transf',\n",
       "       'note', 'director', 'producer', 'screenwriter', 'cinematographer',\n",
       "       'art_director', 'composer', 'frame_format', 'media_format', 'color',\n",
       "       'original_language', 'object_update_date', 'object_creation_date'],\n",
       "      dtype='object')"
      ]
     },
     "execution_count": 379,
     "metadata": {},
     "output_type": "execute_result"
    }
   ],
   "source": [
    "fc_reg_df.columns"
   ]
  },
  {
   "cell_type": "code",
   "execution_count": 381,
   "id": "74c8c1a8",
   "metadata": {},
   "outputs": [
    {
     "data": {
      "application/vnd.microsoft.datawrangler.viewer.v0+json": {
       "columns": [
        {
         "name": "index",
         "rawType": "object",
         "type": "string"
        },
        {
         "name": "0",
         "rawType": "object",
         "type": "unknown"
        }
       ],
       "ref": "f9bc5492-1b0d-427c-a53f-61cad2f8eb44",
       "rows": [
        [
         "record_id",
         "int64"
        ],
        [
         "film_title",
         "object"
        ],
        [
         "country_of_production",
         "object"
        ],
        [
         "production_studio",
         "object"
        ],
        [
         "year_of_production",
         "object"
        ],
        [
         "cert_reg_date",
         "object"
        ],
        [
         "category",
         "object"
        ],
        [
         "film_usage_rights",
         "object"
        ],
        [
         "certificate_number",
         "object"
        ],
        [
         "age_rating",
         "object"
        ],
        [
         "duration_hours",
         "float64"
        ],
        [
         "duration_minutes",
         "int64"
        ],
        [
         "synopsis",
         "object"
        ],
        [
         "number_of_episodes",
         "int64"
        ],
        [
         "media_size",
         "float64"
        ],
        [
         "unit_of_measurement",
         "object"
        ],
        [
         "amendment_number",
         "object"
        ],
        [
         "distr_rights_transf",
         "object"
        ],
        [
         "note",
         "object"
        ],
        [
         "director",
         "object"
        ],
        [
         "producer",
         "object"
        ],
        [
         "screenwriter",
         "object"
        ],
        [
         "cinematographer",
         "object"
        ],
        [
         "art_director",
         "object"
        ],
        [
         "composer",
         "object"
        ],
        [
         "frame_format",
         "object"
        ],
        [
         "media_format",
         "object"
        ],
        [
         "color",
         "object"
        ],
        [
         "original_language",
         "float64"
        ],
        [
         "object_update_date",
         "object"
        ],
        [
         "object_creation_date",
         "object"
        ]
       ],
       "shape": {
        "columns": 1,
        "rows": 31
       }
      },
      "text/plain": [
       "record_id                  int64\n",
       "film_title                object\n",
       "country_of_production     object\n",
       "production_studio         object\n",
       "year_of_production        object\n",
       "cert_reg_date             object\n",
       "category                  object\n",
       "film_usage_rights         object\n",
       "certificate_number        object\n",
       "age_rating                object\n",
       "duration_hours           float64\n",
       "duration_minutes           int64\n",
       "synopsis                  object\n",
       "number_of_episodes         int64\n",
       "media_size               float64\n",
       "unit_of_measurement       object\n",
       "amendment_number          object\n",
       "distr_rights_transf       object\n",
       "note                      object\n",
       "director                  object\n",
       "producer                  object\n",
       "screenwriter              object\n",
       "cinematographer           object\n",
       "art_director              object\n",
       "composer                  object\n",
       "frame_format              object\n",
       "media_format              object\n",
       "color                     object\n",
       "original_language        float64\n",
       "object_update_date        object\n",
       "object_creation_date      object\n",
       "dtype: object"
      ]
     },
     "execution_count": 381,
     "metadata": {},
     "output_type": "execute_result"
    }
   ],
   "source": [
    "fc_reg_df.dtypes"
   ]
  },
  {
   "cell_type": "code",
   "execution_count": 386,
   "id": "cdf7f8d8",
   "metadata": {},
   "outputs": [
    {
     "data": {
      "text/plain": [
       "datetime64[ns, UTC]"
      ]
     },
     "execution_count": 386,
     "metadata": {},
     "output_type": "execute_result"
    }
   ],
   "source": [
    "fc_reg_df['cert_reg_date'] = pd.to_datetime(fc_reg_df['cert_reg_date'], errors='coerce')\n",
    "fc_reg_df['cert_reg_date'].dtype"
   ]
  },
  {
   "cell_type": "code",
   "execution_count": 388,
   "id": "829299d6",
   "metadata": {},
   "outputs": [
    {
     "data": {
      "text/plain": [
       "datetime64[ns, UTC+03:00]"
      ]
     },
     "execution_count": 388,
     "metadata": {},
     "output_type": "execute_result"
    }
   ],
   "source": [
    "fc_reg_df['object_update_date'] = pd.to_datetime(fc_reg_df['object_update_date'], errors='coerce')\n",
    "fc_reg_df['object_update_date'].dtype"
   ]
  },
  {
   "cell_type": "code",
   "execution_count": 389,
   "id": "344d7425",
   "metadata": {},
   "outputs": [
    {
     "data": {
      "text/plain": [
       "datetime64[ns, UTC+03:00]"
      ]
     },
     "execution_count": 389,
     "metadata": {},
     "output_type": "execute_result"
    }
   ],
   "source": [
    "fc_reg_df['object_creation_date'] = pd.to_datetime(fc_reg_df['object_creation_date'], errors='coerce')\n",
    "fc_reg_df['object_creation_date'].dtype"
   ]
  },
  {
   "cell_type": "code",
   "execution_count": 10,
   "id": "e5d83928",
   "metadata": {},
   "outputs": [],
   "source": [
    "ddl = \"\"\"\n",
    "CREATE TABLE IF NOT EXISTS tmp.film_cert_reg (\n",
    "    -- id UUID DEFAULT generateUUIDv4() COMMENT 'Идентификатор записи в таблицу',\n",
    "    record_id String COMMENT 'Идентификатор записи реестра',\n",
    "    film_title String COMMENT 'Название фильма',\n",
    "    country_of_production String COMMENT 'Страна производства',\n",
    "    production_studio String COMMENT 'Студия-производитель',\n",
    "    year_of_production String COMMENT 'Год производства',\n",
    "    cert_reg_date DateTime64(3, 'UTC') COMMENT 'Дата регистрации удостоверения',\n",
    "    category String COMMENT 'Категория',\n",
    "    film_usage_rights String COMMENT 'Права на использование фильма',\n",
    "    certificate_number String COMMENT 'Номер удостоверения',\n",
    "    age_rating String COMMENT 'Возрастная категория',\n",
    "    duration_hours Float32 COMMENT 'Продолжительность демонстрации, часы',\n",
    "    duration_minutes Int32 COMMENT 'Продолжительность демонстрации, минуты',\n",
    "    synopsis String COMMENT 'Аннотация',\n",
    "    number_of_episodes Int32 COMMENT 'Количество серий',\n",
    "    media_size Float32 COMMENT 'Объем носителя',\n",
    "    unit_of_measurement String COMMENT 'Единица измерения',\n",
    "    amendment_number String COMMENT 'Порядковый номер переоформления/продления',\n",
    "    distr_rights_transf String COMMENT 'Права проката переданы',\n",
    "    note String COMMENT 'Примечание',\n",
    "    director String COMMENT 'Режиссер',\n",
    "    producer String COMMENT 'Продюсер',\n",
    "    screenwriter String COMMENT 'Сценарист',\n",
    "    cinematographer String COMMENT 'Оператор',\n",
    "    art_director String COMMENT 'Художник',\n",
    "    composer String COMMENT 'Композитор',\n",
    "    frame_format String COMMENT 'Формат кадра',\n",
    "    media_format String COMMENT 'Формат носителя',\n",
    "    color String COMMENT 'Цвет',\n",
    "    original_language String COMMENT 'Язык оригинала',\n",
    "    object_update_date DateTime64(3, 'Europe/Moscow') COMMENT 'дата обновления объекта',\n",
    "    object_creation_date DateTime64(3, 'Europe/Moscow') COMMENT 'дата создания объекта'\n",
    ") ENGINE = MergeTree()\n",
    "ORDER BY record_id;\n",
    "\"\"\"\n"
   ]
  },
  {
   "cell_type": "code",
   "execution_count": 3,
   "id": "8a60c003",
   "metadata": {},
   "outputs": [],
   "source": [
    "client = conn_ch()"
   ]
  },
  {
   "cell_type": "code",
   "execution_count": 4,
   "id": "050cfc3b",
   "metadata": {},
   "outputs": [
    {
     "data": {
      "text/plain": [
       "<clickhouse_connect.driver.summary.QuerySummary at 0x21df247ac30>"
      ]
     },
     "execution_count": 4,
     "metadata": {},
     "output_type": "execute_result"
    }
   ],
   "source": [
    "client.command('create database IF NOT EXISTS tmp')"
   ]
  },
  {
   "cell_type": "code",
   "execution_count": 11,
   "id": "64b38a68",
   "metadata": {},
   "outputs": [
    {
     "data": {
      "text/plain": [
       "<clickhouse_connect.driver.summary.QuerySummary at 0x21dfcd34c50>"
      ]
     },
     "execution_count": 11,
     "metadata": {},
     "output_type": "execute_result"
    }
   ],
   "source": [
    "client.command(ddl)"
   ]
  },
  {
   "cell_type": "code",
   "execution_count": 8,
   "id": "5d5c569d",
   "metadata": {},
   "outputs": [],
   "source": [
    "fc_reg_df = pd.read_parquet(f'{tmp_path}/fc_reg.parquet')"
   ]
  },
  {
   "cell_type": "code",
   "execution_count": 13,
   "id": "04308098",
   "metadata": {},
   "outputs": [],
   "source": [
    "# client.insert_df('tmp.film_cert_reg', fc_reg_df)"
   ]
  },
  {
   "cell_type": "markdown",
   "id": "9df3d57c",
   "metadata": {},
   "source": [
    "## PostgreSQL DDL"
   ]
  },
  {
   "cell_type": "code",
   "execution_count": 6,
   "id": "fe39d7a6",
   "metadata": {},
   "outputs": [
    {
     "name": "stdout",
     "output_type": "stream",
     "text": [
      "Table 'employees' created\n",
      "Data inserted into 'employees' table\n"
     ]
    }
   ],
   "source": [
    "# Создание курсора\n",
    "conn = conn_pg()\n",
    "\n",
    "cur = conn.cursor()\n",
    "\n",
    "# Создание таблицы\n",
    "cur.execute('''\n",
    "CREATE TABLE IF NOT EXISTS employees (\n",
    "    id SERIAL PRIMARY KEY,\n",
    "    name VARCHAR(100),\n",
    "    position VARCHAR(100),\n",
    "    salary NUMERIC\n",
    ");\n",
    "''')\n",
    "print(\"Table 'employees' created\")\n",
    "\n",
    "# Вставка данных в таблицу\n",
    "cur.execute('''\n",
    "INSERT INTO employees (name, position, salary)\n",
    "VALUES ('Alice', 'Manager', 70000),\n",
    "        ('Bob', 'Developer', 60000),\n",
    "        ('Charlie', 'Designer', 50000);\n",
    "''')\n",
    "print(\"Data inserted into 'employees' table\")\n",
    "\n",
    "# Сохранение изменений\n",
    "conn.commit()\n"
   ]
  },
  {
   "cell_type": "code",
   "execution_count": 7,
   "id": "a07270d0",
   "metadata": {},
   "outputs": [],
   "source": [
    "# Закрытие курсора и соединения\n",
    "conn_pg_close(conn)"
   ]
  },
  {
   "cell_type": "code",
   "execution_count": 9,
   "id": "53a38892",
   "metadata": {},
   "outputs": [
    {
     "name": "stdout",
     "output_type": "stream",
     "text": [
      "Table 'employees' created in ClickHouse\n"
     ]
    }
   ],
   "source": [
    "try:\n",
    "    # Создание таблицы\n",
    "    client.command('''\n",
    "    CREATE TABLE IF NOT EXISTS dbch.employees (\n",
    "        id UInt32,\n",
    "        name String,\n",
    "        position String,\n",
    "        salary Float32\n",
    "    ) ENGINE = MergeTree()\n",
    "    ORDER BY id;\n",
    "    ''')\n",
    "    print(\"Table 'employees' created in ClickHouse\")\n",
    "\n",
    "except Exception as e:\n",
    "    print(f\"Error connecting to ClickHouse: {e}\")\n"
   ]
  },
  {
   "cell_type": "code",
   "execution_count": 15,
   "id": "87fc3458",
   "metadata": {},
   "outputs": [
    {
     "data": {
      "text/plain": [
       "<clickhouse_connect.driver.query.QueryResult at 0x25cb2336810>"
      ]
     },
     "execution_count": 15,
     "metadata": {},
     "output_type": "execute_result"
    }
   ],
   "source": [
    "client.query('select * from dbch.employees')"
   ]
  },
  {
   "cell_type": "code",
   "execution_count": 16,
   "id": "c587c9de",
   "metadata": {},
   "outputs": [],
   "source": [
    "# # Correct way to insert rows\n",
    "# data = [\n",
    "#     (1, 'Alice', 'Manager', 70000.0),\n",
    "#     (2, 'Bob', 'Developer', 60000.0),\n",
    "#     (3, 'Charlie', 'Designer', 50000.0)\n",
    "# ]\n",
    "\n",
    "# client.insert('dbch.employees', data, column_names=['id', 'name', 'position', 'salary'])"
   ]
  },
  {
   "cell_type": "code",
   "execution_count": null,
   "id": "5d668bfa",
   "metadata": {},
   "outputs": [],
   "source": []
  }
 ],
 "metadata": {
  "kernelspec": {
   "display_name": "de",
   "language": "python",
   "name": "python3"
  },
  "language_info": {
   "codemirror_mode": {
    "name": "ipython",
    "version": 3
   },
   "file_extension": ".py",
   "mimetype": "text/x-python",
   "name": "python",
   "nbconvert_exporter": "python",
   "pygments_lexer": "ipython3",
   "version": "3.12.11"
  }
 },
 "nbformat": 4,
 "nbformat_minor": 5
}
