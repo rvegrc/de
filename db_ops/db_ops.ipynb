{
 "cells": [
  {
   "cell_type": "code",
   "execution_count": 1,
   "id": "33d7172d",
   "metadata": {},
   "outputs": [],
   "source": [
    "import psycopg2\n",
    "import clickhouse_connect\n",
    "import pandas as pd\n",
    "import os\n",
    "import sys\n",
    "\n",
    "\n",
    "# Подключение к PostgreSQL\n",
    "def conn_pg():\n",
    "    try:\n",
    "        conn = psycopg2.connect(\n",
    "            host=\"localhost\",\n",
    "            database=\"dbpg\",\n",
    "            user=\"user\",\n",
    "            password=\"password\",\n",
    "            port=5432\n",
    "        )\n",
    "        # print(\"Connected to PostgreSQL\")\n",
    "        # cur = conn.cursor()\n",
    "        # cur.execute(query)\n",
    "        # output = cur.fetchall()\n",
    "        # print(\"PostgreSQL version:\", db_version)\n",
    "        # if output:\n",
    "        #     return\n",
    "        # else:\n",
    "        #     print(\"No output from the query\")\n",
    "        return conn    \n",
    "    except Exception as e:\n",
    "        print(f\"Error connecting to PostgreSQL: {e}\")\n",
    "    \n",
    "def conn_pg_close(conn):\n",
    "    if conn:\n",
    "        cur = conn.cursor()\n",
    "        cur.close()\n",
    "        conn.close()\n",
    "        # print(\"PostgreSQL connection closed\")\n",
    "\n",
    "\n",
    "# Подключение к ClickHouse\n",
    "def conn_ch():\n",
    "    try:\n",
    "        client = clickhouse_connect.get_client(\n",
    "            host='localhost',\n",
    "            username='user',\n",
    "            password='password',\n",
    "            database='dbch',\n",
    "            port=8123\n",
    "        )\n",
    "        # print(\"Connected to ClickHouse\")\n",
    "        # version = client.command('SELECT version()')\n",
    "        # print(\"ClickHouse version:\", version)\n",
    "        return client\n",
    "    except Exception as e:\n",
    "        print(f\"Error connecting to ClickHouse: {e}\")\n",
    "\n",
    "        # print(\"Connected to ClickHouse\")\n",
    "        # version = client.command('SELECT version()')\n",
    "\n",
    "        # print(\"ClickHouse version:\", version)\n",
    "\n",
    "\n",
    "# import tools\n",
    "# Get the parent directory\n",
    "parent_dir = os.path.abspath(os.path.join(os.getcwd(), \"../..\")) # for subfolder\n",
    "\n",
    "# find tools in parent dir\n",
    "if os.path.isdir(os.path.join(parent_dir, 'tools')):\n",
    "    # Add parent directory to sys.path if found\n",
    "    sys.path.append(parent_dir)\n",
    "    \n",
    "else:\n",
    "    # for run in spark\n",
    "    parent_dir = os.path.abspath(os.path.join(os.getcwd(), \"../airflow/airflow_data\"))\n",
    "    \n",
    "    # Add parent directory to sys.path\n",
    "    sys.path.append(parent_dir)\n",
    "\n",
    "\n",
    "from tools import pd_tools\n",
    "from tools.paths import Paths\n",
    "from tools.db_tools import DbTools\n",
    "\n",
    "\n",
    "# import paths\n",
    "root_path = '..' # for local folder\n",
    "paths = Paths(root_path)\n",
    "data_path = paths.data_path\n",
    "tmp_path = paths.tmp_path\n",
    "prod_data_path = paths.prod_data_path\n",
    "dev_data_path = paths.dev_data_path\n",
    "prod_db = paths.prod_db\n",
    "dev_db = paths.dev_db\n",
    "tmp_db = paths.tmp_db\n",
    "tmp_data_path = paths.tmp_data_path\n",
    "\n",
    "# db_tools = DbTools(data_path, tmp_path, client)"
   ]
  },
  {
   "cell_type": "markdown",
   "id": "17d59882",
   "metadata": {},
   "source": [
    "## Load data and analyze it"
   ]
  },
  {
   "cell_type": "code",
   "execution_count": 2,
   "id": "93a74632",
   "metadata": {},
   "outputs": [
    {
     "name": "stderr",
     "output_type": "stream",
     "text": [
      "C:\\Users\\pmz\\AppData\\Local\\Temp\\ipykernel_15748\\3635358273.py:1: DtypeWarning: Columns (2,12,13,14,17,19,20,32,35,36,37,40,44) have mixed types. Specify dtype option on import or set low_memory=False.\n",
      "  raw_data = pd.read_csv(f'{data_path}/data-9-structure-4.csv')\n"
     ]
    },
    {
     "data": {
      "application/vnd.microsoft.datawrangler.viewer.v0+json": {
       "columns": [
        {
         "name": "index",
         "rawType": "int64",
         "type": "integer"
        },
        {
         "name": "Название фильма",
         "rawType": "object",
         "type": "string"
        },
        {
         "name": "Hаименование на иностранном языке",
         "rawType": "object",
         "type": "unknown"
        },
        {
         "name": "Номер удостоверения",
         "rawType": "object",
         "type": "string"
        },
        {
         "name": "Дата регистрации удостоверения",
         "rawType": "object",
         "type": "string"
        },
        {
         "name": "Дата начала показа фильма",
         "rawType": "object",
         "type": "unknown"
        },
        {
         "name": "Примечание",
         "rawType": "object",
         "type": "unknown"
        },
        {
         "name": "Идентификатор записи реестра",
         "rawType": "int64",
         "type": "integer"
        },
        {
         "name": "Аннотация",
         "rawType": "object",
         "type": "unknown"
        },
        {
         "name": "Вид Фильма",
         "rawType": "object",
         "type": "string"
        },
        {
         "name": "Категория",
         "rawType": "object",
         "type": "string"
        },
        {
         "name": "Язык оригинала",
         "rawType": "float64",
         "type": "float"
        },
        {
         "name": "Формат кадра",
         "rawType": "object",
         "type": "unknown"
        },
        {
         "name": "Количество серий",
         "rawType": "object",
         "type": "unknown"
        },
        {
         "name": "Метраж (для фильмов на кинопленке)",
         "rawType": "object",
         "type": "unknown"
        },
        {
         "name": "Количество частей/рулонов (для фильмов на кинопленке)",
         "rawType": "object",
         "type": "unknown"
        },
        {
         "name": "Цвет",
         "rawType": "object",
         "type": "string"
        },
        {
         "name": "Продолжительность демонстрации, часы",
         "rawType": "float64",
         "type": "float"
        },
        {
         "name": "Продолжительность демонстрации, минуты",
         "rawType": "object",
         "type": "unknown"
        },
        {
         "name": "Формат носителя",
         "rawType": "object",
         "type": "unknown"
        },
        {
         "name": "Объем носителя",
         "rawType": "object",
         "type": "unknown"
        },
        {
         "name": "Единица измерения",
         "rawType": "object",
         "type": "unknown"
        },
        {
         "name": "Студия-производитель",
         "rawType": "object",
         "type": "string"
        },
        {
         "name": "Страна производства",
         "rawType": "object",
         "type": "string"
        },
        {
         "name": "Год производства",
         "rawType": "object",
         "type": "string"
        },
        {
         "name": "Режиссер",
         "rawType": "object",
         "type": "string"
        },
        {
         "name": "Художник",
         "rawType": "object",
         "type": "string"
        },
        {
         "name": "Сценарист",
         "rawType": "object",
         "type": "string"
        },
        {
         "name": "Оператор",
         "rawType": "object",
         "type": "string"
        },
        {
         "name": "Композитор",
         "rawType": "object",
         "type": "string"
        },
        {
         "name": "Продюсер",
         "rawType": "object",
         "type": "string"
        },
        {
         "name": "Права на использование фильма",
         "rawType": "object",
         "type": "string"
        },
        {
         "name": "Категория прав на использование фильма",
         "rawType": "object",
         "type": "string"
        },
        {
         "name": "Срок действия прав на использование фильма",
         "rawType": "object",
         "type": "unknown"
        },
        {
         "name": "Срок действия прав на способ использования фильма",
         "rawType": "object",
         "type": "string"
        },
        {
         "name": "Возрастная категория",
         "rawType": "object",
         "type": "string"
        },
        {
         "name": "Возрастная категория.1",
         "rawType": "object",
         "type": "string"
        },
        {
         "name": "Дубляж (где дублирован)",
         "rawType": "object",
         "type": "unknown"
        },
        {
         "name": "Срок действия прав проката до",
         "rawType": "object",
         "type": "unknown"
        },
        {
         "name": "Код",
         "rawType": "object",
         "type": "string"
        },
        {
         "name": "Права проката переданы",
         "rawType": "object",
         "type": "unknown"
        },
        {
         "name": "Порядковый номер переоформления/продления",
         "rawType": "object",
         "type": "unknown"
        },
        {
         "name": "Должность подписанта",
         "rawType": "object",
         "type": "string"
        },
        {
         "name": "ФИО подписанта",
         "rawType": "object",
         "type": "string"
        },
        {
         "name": "Запись удалена",
         "rawType": "float64",
         "type": "float"
        },
        {
         "name": "Дата удаления записи",
         "rawType": "object",
         "type": "unknown"
        },
        {
         "name": "Не показывать на сайте mkrf.ru",
         "rawType": "float64",
         "type": "float"
        },
        {
         "name": "дата создания объекта",
         "rawType": "object",
         "type": "string"
        },
        {
         "name": "дата обновления объекта",
         "rawType": "object",
         "type": "string"
        }
       ],
       "ref": "931c4f57-a3d4-4c50-a564-7108094ae6a8",
       "rows": [
        [
         "0",
         "Рок’89",
         null,
         "211004124",
         "2024-01-30T12:00:00.000Z",
         null,
         null,
         "10003030",
         null,
         " Художественный",
         "Видео",
         null,
         null,
         "1.0",
         null,
         null,
         "Цветной",
         "0.0",
         "17.0",
         "DVD – диск",
         null,
         null,
         "Беликова Надежда Александровна",
         "Россия",
         "2023",
         "Н.Беликова",
         "А.Титорова, В.Титоров",
         "О.Басс, В.Плохов, Ю.Линде",
         "М.Шутов",
         "П.Грачёв, А.Ануфриев, В.Полякова",
         "Н.Беликова",
         "Беликова Надежда Александровна",
         "Прокат фильма на материальном носителе, показ фильма другими техническими способами",
         null,
         "На срок действия авторского права на фильм",
         "«18+» запрещено для детей",
         "18",
         null,
         null,
         "[]",
         null,
         null,
         "Первый заместитель Министра",
         "С.Г. Обрывалин",
         null,
         null,
         null,
         "2024-01-30T15:41:59+03:00",
         "2024-02-05T14:17:27+03:00"
        ],
        [
         "1",
         "Мама будет против",
         null,
         "211004024",
         "2024-01-30T12:00:00.000Z",
         "2024-02-01T12:00:00.000Z",
         null,
         "10003032",
         "Комедия",
         " Художественный",
         "Видео",
         null,
         "16:9",
         "13.0",
         null,
         null,
         "Цветной",
         "5.0",
         "7.0",
         null,
         null,
         null,
         "ООО \"Продюсерская компания \"Уральские Пельмени\"",
         "Россия",
         "2023",
         "А.Румынский",
         "Е.Кравцов",
         "Д.Тарасов, Е.Гордеева",
         "И.Бархварт",
         "А.Захаров, Е.Голотенко",
         "С.Ершов",
         "ООО \"Продюсерская компания \"Уральские Пельмени\"",
         "Показ фильма в кинозале, прокат фильма на материальном носителе, показ фильма другими техническими способами",
         null,
         "На срок действия авторского права на фильм",
         "«16+» для детей старше 16 лет",
         "16",
         null,
         null,
         "[]",
         null,
         null,
         "Первый заместитель Министра",
         "С.Г. Обрывалин",
         null,
         null,
         null,
         "2024-01-30T15:42:13+03:00",
         "2024-02-05T18:23:14+03:00"
        ],
        [
         "2",
         "ДЕВЯТЬ С ПОЛОВИНОЙ НЕДЕЛЬ",
         "9 1/2 WEEKS",
         "221005424",
         "2024-01-30T12:00:00.000Z",
         "2024-02-02T12:00:00.000Z",
         null,
         "10003203",
         null,
         " Художественный",
         "Видео",
         null,
         null,
         "1.0",
         null,
         null,
         "Цветной",
         "1.0",
         "52.0",
         "DVD – диск",
         null,
         null,
         "Джоунсфилм, Галактик Филмс, Трипл Эйджакс",
         "США",
         "1986",
         "Эдриан Лайн",
         "Кен Дэвис",
         "Патришия Луизианна Ноп, Залман Кинг, Сара Кернокан",
         "Питер Бижу",
         "Джек Ницше",
         "Марк Дэймон, Сидни Киммел, Залман Кинг, Энтони Руфус-Исаак",
         "ООО \"АЛЯСКАФИЛЬМ\"",
         "Показ фильма другими техническими способами",
         null,
         "30.11.2026 г.",
         "«18+» запрещено для детей",
         "18",
         null,
         null,
         "[]",
         null,
         null,
         "Первый заместитель Министра",
         "С.Г. Обрывалин",
         null,
         null,
         null,
         "2024-01-30T16:08:51+03:00",
         "2024-02-06T12:12:04+03:00"
        ],
        [
         "3",
         "Как я встретил её маму",
         null,
         "111001324",
         "2024-01-30T12:00:00.000Z",
         null,
         null,
         "10003265",
         null,
         " Художественный",
         "Кино",
         null,
         "1:2,39",
         "1.0",
         null,
         null,
         "Цветной",
         "1.0",
         "29.0",
         "HDD",
         "1,2",
         "Тб",
         "АО \"ТПО \"Киностудия им.М.Горького\"",
         "Россия",
         "2023",
         "Е.Сальников",
         "Е.Лизогубова",
         "Л.Айрапетян",
         "Д.Шебунин",
         "А.Канцыру, О.Шайдуллина",
         "Н.Харыбина",
         "АО \"ТПО \"Киностудия им.М.Горького\"",
         "Показ фильма в кинозале, прокат фильма на материальном носителе, показ фильма другими техническими способами",
         null,
         "На срок действия авторского права на фильм",
         "«12+» для детей старше 12 лет",
         "12",
         null,
         null,
         "[{\"rightsCategoryUse\":{\"code\":\"01\",\"name\":\"Показ фильма в кинозале\"},\"rentalRightsTransferred\":\"ООО \\\"Атмосфера кино\\\"\",\"rentalRightsTransferrPeriod\":\"с 09.05.2024 г. по 08.05.2025 г.\"}]",
         null,
         null,
         "Первый заместитель Министра",
         "С.Г. Обрывалин",
         null,
         null,
         null,
         "2024-01-30T16:20:44+03:00",
         "2024-03-26T14:41:20+03:00"
        ],
        [
         "4",
         "Миссия в Москве",
         "Mo Si Ke xing dong",
         "121002924",
         "2024-01-30T12:00:00.000Z",
         "2024-02-08T12:00:00.000Z",
         null,
         "10003499",
         null,
         " Художественный",
         "Кино",
         null,
         null,
         "1.0",
         null,
         null,
         "Цветной",
         "2.0",
         "2.0",
         "HDD",
         null,
         null,
         "СМС Пикчерс",
         "КНР",
         "2023",
         "Герман Яу",
         "Чжао Хай, Ли Чжоу",
         "Чэнь Дамин",
         "Джо Чань",
         "Мак Чунь-Хун",
         "Мин Бивер Квэй, Максим Аджави",
         "ООО \"СБ ФИЛЬМ\"",
         "Показ фильма в кинозале, прокат фильма на материальном носителе, показ фильма другими техническими способами",
         null,
         "02.09.2028",
         "«18+» запрещено для детей",
         "18",
         null,
         null,
         "[]",
         null,
         null,
         "Первый заместитель Министра",
         "С.Г. Обрывалин",
         null,
         null,
         null,
         "2024-01-30T18:10:00+03:00",
         "2024-01-30T18:10:00+03:00"
        ]
       ],
       "shape": {
        "columns": 48,
        "rows": 5
       }
      },
      "text/html": [
       "<div>\n",
       "<style scoped>\n",
       "    .dataframe tbody tr th:only-of-type {\n",
       "        vertical-align: middle;\n",
       "    }\n",
       "\n",
       "    .dataframe tbody tr th {\n",
       "        vertical-align: top;\n",
       "    }\n",
       "\n",
       "    .dataframe thead th {\n",
       "        text-align: right;\n",
       "    }\n",
       "</style>\n",
       "<table border=\"1\" class=\"dataframe\">\n",
       "  <thead>\n",
       "    <tr style=\"text-align: right;\">\n",
       "      <th></th>\n",
       "      <th>Название фильма</th>\n",
       "      <th>Hаименование на иностранном языке</th>\n",
       "      <th>Номер удостоверения</th>\n",
       "      <th>Дата регистрации удостоверения</th>\n",
       "      <th>Дата начала показа фильма</th>\n",
       "      <th>Примечание</th>\n",
       "      <th>Идентификатор записи реестра</th>\n",
       "      <th>Аннотация</th>\n",
       "      <th>Вид Фильма</th>\n",
       "      <th>Категория</th>\n",
       "      <th>...</th>\n",
       "      <th>Код</th>\n",
       "      <th>Права проката переданы</th>\n",
       "      <th>Порядковый номер переоформления/продления</th>\n",
       "      <th>Должность подписанта</th>\n",
       "      <th>ФИО подписанта</th>\n",
       "      <th>Запись удалена</th>\n",
       "      <th>Дата удаления записи</th>\n",
       "      <th>Не показывать на сайте mkrf.ru</th>\n",
       "      <th>дата создания объекта</th>\n",
       "      <th>дата обновления объекта</th>\n",
       "    </tr>\n",
       "  </thead>\n",
       "  <tbody>\n",
       "    <tr>\n",
       "      <th>0</th>\n",
       "      <td>Рок’89</td>\n",
       "      <td>NaN</td>\n",
       "      <td>211004124</td>\n",
       "      <td>2024-01-30T12:00:00.000Z</td>\n",
       "      <td>NaN</td>\n",
       "      <td>NaN</td>\n",
       "      <td>10003030</td>\n",
       "      <td>NaN</td>\n",
       "      <td>Художественный</td>\n",
       "      <td>Видео</td>\n",
       "      <td>...</td>\n",
       "      <td>[]</td>\n",
       "      <td>NaN</td>\n",
       "      <td>NaN</td>\n",
       "      <td>Первый заместитель Министра</td>\n",
       "      <td>С.Г. Обрывалин</td>\n",
       "      <td>NaN</td>\n",
       "      <td>NaN</td>\n",
       "      <td>NaN</td>\n",
       "      <td>2024-01-30T15:41:59+03:00</td>\n",
       "      <td>2024-02-05T14:17:27+03:00</td>\n",
       "    </tr>\n",
       "    <tr>\n",
       "      <th>1</th>\n",
       "      <td>Мама будет против</td>\n",
       "      <td>NaN</td>\n",
       "      <td>211004024</td>\n",
       "      <td>2024-01-30T12:00:00.000Z</td>\n",
       "      <td>2024-02-01T12:00:00.000Z</td>\n",
       "      <td>NaN</td>\n",
       "      <td>10003032</td>\n",
       "      <td>Комедия</td>\n",
       "      <td>Художественный</td>\n",
       "      <td>Видео</td>\n",
       "      <td>...</td>\n",
       "      <td>[]</td>\n",
       "      <td>NaN</td>\n",
       "      <td>NaN</td>\n",
       "      <td>Первый заместитель Министра</td>\n",
       "      <td>С.Г. Обрывалин</td>\n",
       "      <td>NaN</td>\n",
       "      <td>NaN</td>\n",
       "      <td>NaN</td>\n",
       "      <td>2024-01-30T15:42:13+03:00</td>\n",
       "      <td>2024-02-05T18:23:14+03:00</td>\n",
       "    </tr>\n",
       "    <tr>\n",
       "      <th>2</th>\n",
       "      <td>ДЕВЯТЬ С ПОЛОВИНОЙ НЕДЕЛЬ</td>\n",
       "      <td>9 1/2 WEEKS</td>\n",
       "      <td>221005424</td>\n",
       "      <td>2024-01-30T12:00:00.000Z</td>\n",
       "      <td>2024-02-02T12:00:00.000Z</td>\n",
       "      <td>NaN</td>\n",
       "      <td>10003203</td>\n",
       "      <td>NaN</td>\n",
       "      <td>Художественный</td>\n",
       "      <td>Видео</td>\n",
       "      <td>...</td>\n",
       "      <td>[]</td>\n",
       "      <td>NaN</td>\n",
       "      <td>NaN</td>\n",
       "      <td>Первый заместитель Министра</td>\n",
       "      <td>С.Г. Обрывалин</td>\n",
       "      <td>NaN</td>\n",
       "      <td>NaN</td>\n",
       "      <td>NaN</td>\n",
       "      <td>2024-01-30T16:08:51+03:00</td>\n",
       "      <td>2024-02-06T12:12:04+03:00</td>\n",
       "    </tr>\n",
       "    <tr>\n",
       "      <th>3</th>\n",
       "      <td>Как я встретил её маму</td>\n",
       "      <td>NaN</td>\n",
       "      <td>111001324</td>\n",
       "      <td>2024-01-30T12:00:00.000Z</td>\n",
       "      <td>NaN</td>\n",
       "      <td>NaN</td>\n",
       "      <td>10003265</td>\n",
       "      <td>NaN</td>\n",
       "      <td>Художественный</td>\n",
       "      <td>Кино</td>\n",
       "      <td>...</td>\n",
       "      <td>[{\"rightsCategoryUse\":{\"code\":\"01\",\"name\":\"Пок...</td>\n",
       "      <td>NaN</td>\n",
       "      <td>NaN</td>\n",
       "      <td>Первый заместитель Министра</td>\n",
       "      <td>С.Г. Обрывалин</td>\n",
       "      <td>NaN</td>\n",
       "      <td>NaN</td>\n",
       "      <td>NaN</td>\n",
       "      <td>2024-01-30T16:20:44+03:00</td>\n",
       "      <td>2024-03-26T14:41:20+03:00</td>\n",
       "    </tr>\n",
       "    <tr>\n",
       "      <th>4</th>\n",
       "      <td>Миссия в Москве</td>\n",
       "      <td>Mo Si Ke xing dong</td>\n",
       "      <td>121002924</td>\n",
       "      <td>2024-01-30T12:00:00.000Z</td>\n",
       "      <td>2024-02-08T12:00:00.000Z</td>\n",
       "      <td>NaN</td>\n",
       "      <td>10003499</td>\n",
       "      <td>NaN</td>\n",
       "      <td>Художественный</td>\n",
       "      <td>Кино</td>\n",
       "      <td>...</td>\n",
       "      <td>[]</td>\n",
       "      <td>NaN</td>\n",
       "      <td>NaN</td>\n",
       "      <td>Первый заместитель Министра</td>\n",
       "      <td>С.Г. Обрывалин</td>\n",
       "      <td>NaN</td>\n",
       "      <td>NaN</td>\n",
       "      <td>NaN</td>\n",
       "      <td>2024-01-30T18:10:00+03:00</td>\n",
       "      <td>2024-01-30T18:10:00+03:00</td>\n",
       "    </tr>\n",
       "  </tbody>\n",
       "</table>\n",
       "<p>5 rows × 48 columns</p>\n",
       "</div>"
      ],
      "text/plain": [
       "             Название фильма Hаименование на иностранном языке  \\\n",
       "0                     Рок’89                               NaN   \n",
       "1          Мама будет против                               NaN   \n",
       "2  ДЕВЯТЬ С ПОЛОВИНОЙ НЕДЕЛЬ                       9 1/2 WEEKS   \n",
       "3     Как я встретил её маму                               NaN   \n",
       "4            Миссия в Москве                Mo Si Ke xing dong   \n",
       "\n",
       "  Номер удостоверения Дата регистрации удостоверения  \\\n",
       "0           211004124       2024-01-30T12:00:00.000Z   \n",
       "1           211004024       2024-01-30T12:00:00.000Z   \n",
       "2           221005424       2024-01-30T12:00:00.000Z   \n",
       "3           111001324       2024-01-30T12:00:00.000Z   \n",
       "4           121002924       2024-01-30T12:00:00.000Z   \n",
       "\n",
       "  Дата начала показа фильма Примечание  Идентификатор записи реестра  \\\n",
       "0                       NaN        NaN                      10003030   \n",
       "1  2024-02-01T12:00:00.000Z        NaN                      10003032   \n",
       "2  2024-02-02T12:00:00.000Z        NaN                      10003203   \n",
       "3                       NaN        NaN                      10003265   \n",
       "4  2024-02-08T12:00:00.000Z        NaN                      10003499   \n",
       "\n",
       "  Аннотация       Вид Фильма Категория  ...  \\\n",
       "0       NaN   Художественный     Видео  ...   \n",
       "1   Комедия   Художественный     Видео  ...   \n",
       "2       NaN   Художественный     Видео  ...   \n",
       "3       NaN   Художественный      Кино  ...   \n",
       "4       NaN   Художественный      Кино  ...   \n",
       "\n",
       "                                                 Код Права проката переданы  \\\n",
       "0                                                 []                    NaN   \n",
       "1                                                 []                    NaN   \n",
       "2                                                 []                    NaN   \n",
       "3  [{\"rightsCategoryUse\":{\"code\":\"01\",\"name\":\"Пок...                    NaN   \n",
       "4                                                 []                    NaN   \n",
       "\n",
       "  Порядковый номер переоформления/продления         Должность подписанта  \\\n",
       "0                                       NaN  Первый заместитель Министра   \n",
       "1                                       NaN  Первый заместитель Министра   \n",
       "2                                       NaN  Первый заместитель Министра   \n",
       "3                                       NaN  Первый заместитель Министра   \n",
       "4                                       NaN  Первый заместитель Министра   \n",
       "\n",
       "   ФИО подписанта Запись удалена  Дата удаления записи  \\\n",
       "0  С.Г. Обрывалин            NaN                   NaN   \n",
       "1  С.Г. Обрывалин            NaN                   NaN   \n",
       "2  С.Г. Обрывалин            NaN                   NaN   \n",
       "3  С.Г. Обрывалин            NaN                   NaN   \n",
       "4  С.Г. Обрывалин            NaN                   NaN   \n",
       "\n",
       "  Не показывать на сайте mkrf.ru      дата создания объекта  \\\n",
       "0                            NaN  2024-01-30T15:41:59+03:00   \n",
       "1                            NaN  2024-01-30T15:42:13+03:00   \n",
       "2                            NaN  2024-01-30T16:08:51+03:00   \n",
       "3                            NaN  2024-01-30T16:20:44+03:00   \n",
       "4                            NaN  2024-01-30T18:10:00+03:00   \n",
       "\n",
       "     дата обновления объекта  \n",
       "0  2024-02-05T14:17:27+03:00  \n",
       "1  2024-02-05T18:23:14+03:00  \n",
       "2  2024-02-06T12:12:04+03:00  \n",
       "3  2024-03-26T14:41:20+03:00  \n",
       "4  2024-01-30T18:10:00+03:00  \n",
       "\n",
       "[5 rows x 48 columns]"
      ]
     },
     "execution_count": 2,
     "metadata": {},
     "output_type": "execute_result"
    }
   ],
   "source": [
    "raw_data = pd.read_csv(f'{data_path}/data-9-structure-4.csv')\n",
    "raw_data.head()"
   ]
  },
  {
   "cell_type": "code",
   "execution_count": 4,
   "id": "439b5d96",
   "metadata": {},
   "outputs": [
    {
     "name": "stdout",
     "output_type": "stream",
     "text": [
      "<class 'pandas.core.frame.DataFrame'>\n",
      "RangeIndex: 103848 entries, 0 to 103847\n",
      "Data columns (total 48 columns):\n",
      " #   Column                                                 Non-Null Count   Dtype  \n",
      "---  ------                                                 --------------   -----  \n",
      " 0   Название фильма                                        103848 non-null  object \n",
      " 1   Hаименование на иностранном языке                      51894 non-null   object \n",
      " 2   Номер удостоверения                                    103848 non-null  object \n",
      " 3   Дата регистрации удостоверения                         103846 non-null  object \n",
      " 4   Дата начала показа фильма                              99996 non-null   object \n",
      " 5   Примечание                                             29239 non-null   object \n",
      " 6   Идентификатор записи реестра                           103848 non-null  int64  \n",
      " 7   Аннотация                                              92858 non-null   object \n",
      " 8   Вид Фильма                                             103843 non-null  object \n",
      " 9   Категория                                              103848 non-null  object \n",
      " 10  Язык оригинала                                         4 non-null       float64\n",
      " 11  Формат кадра                                           14242 non-null   object \n",
      " 12  Количество серий                                       46384 non-null   object \n",
      " 13  Метраж (для фильмов на кинопленке)                     12685 non-null   object \n",
      " 14  Количество частей/рулонов (для фильмов на кинопленке)  14282 non-null   object \n",
      " 15  Цвет                                                   103827 non-null  object \n",
      " 16  Продолжительность демонстрации, часы                   87260 non-null   float64\n",
      " 17  Продолжительность демонстрации, минуты                 101325 non-null  object \n",
      " 18  Формат носителя                                        18003 non-null   object \n",
      " 19  Объем носителя                                         8223 non-null    object \n",
      " 20  Единица измерения                                      8139 non-null    object \n",
      " 21  Студия-производитель                                   103679 non-null  object \n",
      " 22  Страна производства                                    103770 non-null  object \n",
      " 23  Год производства                                       103637 non-null  object \n",
      " 24  Режиссер                                               101231 non-null  object \n",
      " 25  Художник                                               41907 non-null   object \n",
      " 26  Сценарист                                              91717 non-null   object \n",
      " 27  Оператор                                               59923 non-null   object \n",
      " 28  Композитор                                             67240 non-null   object \n",
      " 29  Продюсер                                               66909 non-null   object \n",
      " 30  Права на использование фильма                          103835 non-null  object \n",
      " 31  Категория прав на использование фильма                 97691 non-null   object \n",
      " 32  Срок действия прав на использование фильма             15 non-null      object \n",
      " 33  Срок действия прав на способ использования фильма      98205 non-null   object \n",
      " 34  Возрастная категория                                   103847 non-null  object \n",
      " 35  Возрастная категория.1                                 103846 non-null  object \n",
      " 36  Дубляж (где дублирован)                                655 non-null     object \n",
      " 37  Срок действия прав проката до                          71 non-null      object \n",
      " 38  Код                                                    103848 non-null  object \n",
      " 39  Права проката переданы                                 521 non-null     object \n",
      " 40  Порядковый номер переоформления/продления              18 non-null      object \n",
      " 41  Должность подписанта                                   19999 non-null   object \n",
      " 42  ФИО подписанта                                         19998 non-null   object \n",
      " 43  Запись удалена                                         0 non-null       float64\n",
      " 44  Дата удаления записи                                   1 non-null       object \n",
      " 45  Не показывать на сайте mkrf.ru                         0 non-null       float64\n",
      " 46  дата создания объекта                                  103848 non-null  object \n",
      " 47  дата обновления объекта                                103848 non-null  object \n",
      "dtypes: float64(4), int64(1), object(43)\n",
      "memory usage: 38.0+ MB\n",
      "None\n"
     ]
    },
    {
     "data": {
      "text/plain": [
       "'First 5 rows in df'"
      ]
     },
     "metadata": {},
     "output_type": "display_data"
    },
    {
     "data": {
      "application/vnd.microsoft.datawrangler.viewer.v0+json": {
       "columns": [
        {
         "name": "index",
         "rawType": "int64",
         "type": "integer"
        },
        {
         "name": "Название фильма",
         "rawType": "object",
         "type": "string"
        },
        {
         "name": "Hаименование на иностранном языке",
         "rawType": "object",
         "type": "unknown"
        },
        {
         "name": "Номер удостоверения",
         "rawType": "object",
         "type": "string"
        },
        {
         "name": "Дата регистрации удостоверения",
         "rawType": "object",
         "type": "string"
        },
        {
         "name": "Дата начала показа фильма",
         "rawType": "object",
         "type": "unknown"
        },
        {
         "name": "Примечание",
         "rawType": "object",
         "type": "unknown"
        },
        {
         "name": "Идентификатор записи реестра",
         "rawType": "int64",
         "type": "integer"
        },
        {
         "name": "Аннотация",
         "rawType": "object",
         "type": "unknown"
        },
        {
         "name": "Вид Фильма",
         "rawType": "object",
         "type": "string"
        },
        {
         "name": "Категория",
         "rawType": "object",
         "type": "string"
        },
        {
         "name": "Язык оригинала",
         "rawType": "float64",
         "type": "float"
        },
        {
         "name": "Формат кадра",
         "rawType": "object",
         "type": "unknown"
        },
        {
         "name": "Количество серий",
         "rawType": "object",
         "type": "unknown"
        },
        {
         "name": "Метраж (для фильмов на кинопленке)",
         "rawType": "object",
         "type": "unknown"
        },
        {
         "name": "Количество частей/рулонов (для фильмов на кинопленке)",
         "rawType": "object",
         "type": "unknown"
        },
        {
         "name": "Цвет",
         "rawType": "object",
         "type": "string"
        },
        {
         "name": "Продолжительность демонстрации, часы",
         "rawType": "float64",
         "type": "float"
        },
        {
         "name": "Продолжительность демонстрации, минуты",
         "rawType": "object",
         "type": "unknown"
        },
        {
         "name": "Формат носителя",
         "rawType": "object",
         "type": "unknown"
        },
        {
         "name": "Объем носителя",
         "rawType": "object",
         "type": "unknown"
        },
        {
         "name": "Единица измерения",
         "rawType": "object",
         "type": "unknown"
        },
        {
         "name": "Студия-производитель",
         "rawType": "object",
         "type": "string"
        },
        {
         "name": "Страна производства",
         "rawType": "object",
         "type": "string"
        },
        {
         "name": "Год производства",
         "rawType": "object",
         "type": "string"
        },
        {
         "name": "Режиссер",
         "rawType": "object",
         "type": "string"
        },
        {
         "name": "Художник",
         "rawType": "object",
         "type": "string"
        },
        {
         "name": "Сценарист",
         "rawType": "object",
         "type": "string"
        },
        {
         "name": "Оператор",
         "rawType": "object",
         "type": "string"
        },
        {
         "name": "Композитор",
         "rawType": "object",
         "type": "string"
        },
        {
         "name": "Продюсер",
         "rawType": "object",
         "type": "string"
        },
        {
         "name": "Права на использование фильма",
         "rawType": "object",
         "type": "string"
        },
        {
         "name": "Категория прав на использование фильма",
         "rawType": "object",
         "type": "string"
        },
        {
         "name": "Срок действия прав на использование фильма",
         "rawType": "object",
         "type": "unknown"
        },
        {
         "name": "Срок действия прав на способ использования фильма",
         "rawType": "object",
         "type": "string"
        },
        {
         "name": "Возрастная категория",
         "rawType": "object",
         "type": "string"
        },
        {
         "name": "Возрастная категория.1",
         "rawType": "object",
         "type": "string"
        },
        {
         "name": "Дубляж (где дублирован)",
         "rawType": "object",
         "type": "unknown"
        },
        {
         "name": "Срок действия прав проката до",
         "rawType": "object",
         "type": "unknown"
        },
        {
         "name": "Код",
         "rawType": "object",
         "type": "string"
        },
        {
         "name": "Права проката переданы",
         "rawType": "object",
         "type": "unknown"
        },
        {
         "name": "Порядковый номер переоформления/продления",
         "rawType": "object",
         "type": "unknown"
        },
        {
         "name": "Должность подписанта",
         "rawType": "object",
         "type": "string"
        },
        {
         "name": "ФИО подписанта",
         "rawType": "object",
         "type": "string"
        },
        {
         "name": "Запись удалена",
         "rawType": "float64",
         "type": "float"
        },
        {
         "name": "Дата удаления записи",
         "rawType": "object",
         "type": "unknown"
        },
        {
         "name": "Не показывать на сайте mkrf.ru",
         "rawType": "float64",
         "type": "float"
        },
        {
         "name": "дата создания объекта",
         "rawType": "object",
         "type": "string"
        },
        {
         "name": "дата обновления объекта",
         "rawType": "object",
         "type": "string"
        }
       ],
       "ref": "20c01c10-fd2f-4f8e-b06e-8b91c1019883",
       "rows": [
        [
         "0",
         "Рок’89",
         null,
         "211004124",
         "2024-01-30T12:00:00.000Z",
         null,
         null,
         "10003030",
         null,
         " Художественный",
         "Видео",
         null,
         null,
         "1.0",
         null,
         null,
         "Цветной",
         "0.0",
         "17.0",
         "DVD – диск",
         null,
         null,
         "Беликова Надежда Александровна",
         "Россия",
         "2023",
         "Н.Беликова",
         "А.Титорова, В.Титоров",
         "О.Басс, В.Плохов, Ю.Линде",
         "М.Шутов",
         "П.Грачёв, А.Ануфриев, В.Полякова",
         "Н.Беликова",
         "Беликова Надежда Александровна",
         "Прокат фильма на материальном носителе, показ фильма другими техническими способами",
         null,
         "На срок действия авторского права на фильм",
         "«18+» запрещено для детей",
         "18",
         null,
         null,
         "[]",
         null,
         null,
         "Первый заместитель Министра",
         "С.Г. Обрывалин",
         null,
         null,
         null,
         "2024-01-30T15:41:59+03:00",
         "2024-02-05T14:17:27+03:00"
        ],
        [
         "1",
         "Мама будет против",
         null,
         "211004024",
         "2024-01-30T12:00:00.000Z",
         "2024-02-01T12:00:00.000Z",
         null,
         "10003032",
         "Комедия",
         " Художественный",
         "Видео",
         null,
         "16:9",
         "13.0",
         null,
         null,
         "Цветной",
         "5.0",
         "7.0",
         null,
         null,
         null,
         "ООО \"Продюсерская компания \"Уральские Пельмени\"",
         "Россия",
         "2023",
         "А.Румынский",
         "Е.Кравцов",
         "Д.Тарасов, Е.Гордеева",
         "И.Бархварт",
         "А.Захаров, Е.Голотенко",
         "С.Ершов",
         "ООО \"Продюсерская компания \"Уральские Пельмени\"",
         "Показ фильма в кинозале, прокат фильма на материальном носителе, показ фильма другими техническими способами",
         null,
         "На срок действия авторского права на фильм",
         "«16+» для детей старше 16 лет",
         "16",
         null,
         null,
         "[]",
         null,
         null,
         "Первый заместитель Министра",
         "С.Г. Обрывалин",
         null,
         null,
         null,
         "2024-01-30T15:42:13+03:00",
         "2024-02-05T18:23:14+03:00"
        ],
        [
         "2",
         "ДЕВЯТЬ С ПОЛОВИНОЙ НЕДЕЛЬ",
         "9 1/2 WEEKS",
         "221005424",
         "2024-01-30T12:00:00.000Z",
         "2024-02-02T12:00:00.000Z",
         null,
         "10003203",
         null,
         " Художественный",
         "Видео",
         null,
         null,
         "1.0",
         null,
         null,
         "Цветной",
         "1.0",
         "52.0",
         "DVD – диск",
         null,
         null,
         "Джоунсфилм, Галактик Филмс, Трипл Эйджакс",
         "США",
         "1986",
         "Эдриан Лайн",
         "Кен Дэвис",
         "Патришия Луизианна Ноп, Залман Кинг, Сара Кернокан",
         "Питер Бижу",
         "Джек Ницше",
         "Марк Дэймон, Сидни Киммел, Залман Кинг, Энтони Руфус-Исаак",
         "ООО \"АЛЯСКАФИЛЬМ\"",
         "Показ фильма другими техническими способами",
         null,
         "30.11.2026 г.",
         "«18+» запрещено для детей",
         "18",
         null,
         null,
         "[]",
         null,
         null,
         "Первый заместитель Министра",
         "С.Г. Обрывалин",
         null,
         null,
         null,
         "2024-01-30T16:08:51+03:00",
         "2024-02-06T12:12:04+03:00"
        ],
        [
         "3",
         "Как я встретил её маму",
         null,
         "111001324",
         "2024-01-30T12:00:00.000Z",
         null,
         null,
         "10003265",
         null,
         " Художественный",
         "Кино",
         null,
         "1:2,39",
         "1.0",
         null,
         null,
         "Цветной",
         "1.0",
         "29.0",
         "HDD",
         "1,2",
         "Тб",
         "АО \"ТПО \"Киностудия им.М.Горького\"",
         "Россия",
         "2023",
         "Е.Сальников",
         "Е.Лизогубова",
         "Л.Айрапетян",
         "Д.Шебунин",
         "А.Канцыру, О.Шайдуллина",
         "Н.Харыбина",
         "АО \"ТПО \"Киностудия им.М.Горького\"",
         "Показ фильма в кинозале, прокат фильма на материальном носителе, показ фильма другими техническими способами",
         null,
         "На срок действия авторского права на фильм",
         "«12+» для детей старше 12 лет",
         "12",
         null,
         null,
         "[{\"rightsCategoryUse\":{\"code\":\"01\",\"name\":\"Показ фильма в кинозале\"},\"rentalRightsTransferred\":\"ООО \\\"Атмосфера кино\\\"\",\"rentalRightsTransferrPeriod\":\"с 09.05.2024 г. по 08.05.2025 г.\"}]",
         null,
         null,
         "Первый заместитель Министра",
         "С.Г. Обрывалин",
         null,
         null,
         null,
         "2024-01-30T16:20:44+03:00",
         "2024-03-26T14:41:20+03:00"
        ],
        [
         "4",
         "Миссия в Москве",
         "Mo Si Ke xing dong",
         "121002924",
         "2024-01-30T12:00:00.000Z",
         "2024-02-08T12:00:00.000Z",
         null,
         "10003499",
         null,
         " Художественный",
         "Кино",
         null,
         null,
         "1.0",
         null,
         null,
         "Цветной",
         "2.0",
         "2.0",
         "HDD",
         null,
         null,
         "СМС Пикчерс",
         "КНР",
         "2023",
         "Герман Яу",
         "Чжао Хай, Ли Чжоу",
         "Чэнь Дамин",
         "Джо Чань",
         "Мак Чунь-Хун",
         "Мин Бивер Квэй, Максим Аджави",
         "ООО \"СБ ФИЛЬМ\"",
         "Показ фильма в кинозале, прокат фильма на материальном носителе, показ фильма другими техническими способами",
         null,
         "02.09.2028",
         "«18+» запрещено для детей",
         "18",
         null,
         null,
         "[]",
         null,
         null,
         "Первый заместитель Министра",
         "С.Г. Обрывалин",
         null,
         null,
         null,
         "2024-01-30T18:10:00+03:00",
         "2024-01-30T18:10:00+03:00"
        ]
       ],
       "shape": {
        "columns": 48,
        "rows": 5
       }
      },
      "text/html": [
       "<div>\n",
       "<style scoped>\n",
       "    .dataframe tbody tr th:only-of-type {\n",
       "        vertical-align: middle;\n",
       "    }\n",
       "\n",
       "    .dataframe tbody tr th {\n",
       "        vertical-align: top;\n",
       "    }\n",
       "\n",
       "    .dataframe thead th {\n",
       "        text-align: right;\n",
       "    }\n",
       "</style>\n",
       "<table border=\"1\" class=\"dataframe\">\n",
       "  <thead>\n",
       "    <tr style=\"text-align: right;\">\n",
       "      <th></th>\n",
       "      <th>Название фильма</th>\n",
       "      <th>Hаименование на иностранном языке</th>\n",
       "      <th>Номер удостоверения</th>\n",
       "      <th>Дата регистрации удостоверения</th>\n",
       "      <th>Дата начала показа фильма</th>\n",
       "      <th>Примечание</th>\n",
       "      <th>Идентификатор записи реестра</th>\n",
       "      <th>Аннотация</th>\n",
       "      <th>Вид Фильма</th>\n",
       "      <th>Категория</th>\n",
       "      <th>...</th>\n",
       "      <th>Код</th>\n",
       "      <th>Права проката переданы</th>\n",
       "      <th>Порядковый номер переоформления/продления</th>\n",
       "      <th>Должность подписанта</th>\n",
       "      <th>ФИО подписанта</th>\n",
       "      <th>Запись удалена</th>\n",
       "      <th>Дата удаления записи</th>\n",
       "      <th>Не показывать на сайте mkrf.ru</th>\n",
       "      <th>дата создания объекта</th>\n",
       "      <th>дата обновления объекта</th>\n",
       "    </tr>\n",
       "  </thead>\n",
       "  <tbody>\n",
       "    <tr>\n",
       "      <th>0</th>\n",
       "      <td>Рок’89</td>\n",
       "      <td>NaN</td>\n",
       "      <td>211004124</td>\n",
       "      <td>2024-01-30T12:00:00.000Z</td>\n",
       "      <td>NaN</td>\n",
       "      <td>NaN</td>\n",
       "      <td>10003030</td>\n",
       "      <td>NaN</td>\n",
       "      <td>Художественный</td>\n",
       "      <td>Видео</td>\n",
       "      <td>...</td>\n",
       "      <td>[]</td>\n",
       "      <td>NaN</td>\n",
       "      <td>NaN</td>\n",
       "      <td>Первый заместитель Министра</td>\n",
       "      <td>С.Г. Обрывалин</td>\n",
       "      <td>NaN</td>\n",
       "      <td>NaN</td>\n",
       "      <td>NaN</td>\n",
       "      <td>2024-01-30T15:41:59+03:00</td>\n",
       "      <td>2024-02-05T14:17:27+03:00</td>\n",
       "    </tr>\n",
       "    <tr>\n",
       "      <th>1</th>\n",
       "      <td>Мама будет против</td>\n",
       "      <td>NaN</td>\n",
       "      <td>211004024</td>\n",
       "      <td>2024-01-30T12:00:00.000Z</td>\n",
       "      <td>2024-02-01T12:00:00.000Z</td>\n",
       "      <td>NaN</td>\n",
       "      <td>10003032</td>\n",
       "      <td>Комедия</td>\n",
       "      <td>Художественный</td>\n",
       "      <td>Видео</td>\n",
       "      <td>...</td>\n",
       "      <td>[]</td>\n",
       "      <td>NaN</td>\n",
       "      <td>NaN</td>\n",
       "      <td>Первый заместитель Министра</td>\n",
       "      <td>С.Г. Обрывалин</td>\n",
       "      <td>NaN</td>\n",
       "      <td>NaN</td>\n",
       "      <td>NaN</td>\n",
       "      <td>2024-01-30T15:42:13+03:00</td>\n",
       "      <td>2024-02-05T18:23:14+03:00</td>\n",
       "    </tr>\n",
       "    <tr>\n",
       "      <th>2</th>\n",
       "      <td>ДЕВЯТЬ С ПОЛОВИНОЙ НЕДЕЛЬ</td>\n",
       "      <td>9 1/2 WEEKS</td>\n",
       "      <td>221005424</td>\n",
       "      <td>2024-01-30T12:00:00.000Z</td>\n",
       "      <td>2024-02-02T12:00:00.000Z</td>\n",
       "      <td>NaN</td>\n",
       "      <td>10003203</td>\n",
       "      <td>NaN</td>\n",
       "      <td>Художественный</td>\n",
       "      <td>Видео</td>\n",
       "      <td>...</td>\n",
       "      <td>[]</td>\n",
       "      <td>NaN</td>\n",
       "      <td>NaN</td>\n",
       "      <td>Первый заместитель Министра</td>\n",
       "      <td>С.Г. Обрывалин</td>\n",
       "      <td>NaN</td>\n",
       "      <td>NaN</td>\n",
       "      <td>NaN</td>\n",
       "      <td>2024-01-30T16:08:51+03:00</td>\n",
       "      <td>2024-02-06T12:12:04+03:00</td>\n",
       "    </tr>\n",
       "    <tr>\n",
       "      <th>3</th>\n",
       "      <td>Как я встретил её маму</td>\n",
       "      <td>NaN</td>\n",
       "      <td>111001324</td>\n",
       "      <td>2024-01-30T12:00:00.000Z</td>\n",
       "      <td>NaN</td>\n",
       "      <td>NaN</td>\n",
       "      <td>10003265</td>\n",
       "      <td>NaN</td>\n",
       "      <td>Художественный</td>\n",
       "      <td>Кино</td>\n",
       "      <td>...</td>\n",
       "      <td>[{\"rightsCategoryUse\":{\"code\":\"01\",\"name\":\"Пок...</td>\n",
       "      <td>NaN</td>\n",
       "      <td>NaN</td>\n",
       "      <td>Первый заместитель Министра</td>\n",
       "      <td>С.Г. Обрывалин</td>\n",
       "      <td>NaN</td>\n",
       "      <td>NaN</td>\n",
       "      <td>NaN</td>\n",
       "      <td>2024-01-30T16:20:44+03:00</td>\n",
       "      <td>2024-03-26T14:41:20+03:00</td>\n",
       "    </tr>\n",
       "    <tr>\n",
       "      <th>4</th>\n",
       "      <td>Миссия в Москве</td>\n",
       "      <td>Mo Si Ke xing dong</td>\n",
       "      <td>121002924</td>\n",
       "      <td>2024-01-30T12:00:00.000Z</td>\n",
       "      <td>2024-02-08T12:00:00.000Z</td>\n",
       "      <td>NaN</td>\n",
       "      <td>10003499</td>\n",
       "      <td>NaN</td>\n",
       "      <td>Художественный</td>\n",
       "      <td>Кино</td>\n",
       "      <td>...</td>\n",
       "      <td>[]</td>\n",
       "      <td>NaN</td>\n",
       "      <td>NaN</td>\n",
       "      <td>Первый заместитель Министра</td>\n",
       "      <td>С.Г. Обрывалин</td>\n",
       "      <td>NaN</td>\n",
       "      <td>NaN</td>\n",
       "      <td>NaN</td>\n",
       "      <td>2024-01-30T18:10:00+03:00</td>\n",
       "      <td>2024-01-30T18:10:00+03:00</td>\n",
       "    </tr>\n",
       "  </tbody>\n",
       "</table>\n",
       "<p>5 rows × 48 columns</p>\n",
       "</div>"
      ],
      "text/plain": [
       "             Название фильма Hаименование на иностранном языке  \\\n",
       "0                     Рок’89                               NaN   \n",
       "1          Мама будет против                               NaN   \n",
       "2  ДЕВЯТЬ С ПОЛОВИНОЙ НЕДЕЛЬ                       9 1/2 WEEKS   \n",
       "3     Как я встретил её маму                               NaN   \n",
       "4            Миссия в Москве                Mo Si Ke xing dong   \n",
       "\n",
       "  Номер удостоверения Дата регистрации удостоверения  \\\n",
       "0           211004124       2024-01-30T12:00:00.000Z   \n",
       "1           211004024       2024-01-30T12:00:00.000Z   \n",
       "2           221005424       2024-01-30T12:00:00.000Z   \n",
       "3           111001324       2024-01-30T12:00:00.000Z   \n",
       "4           121002924       2024-01-30T12:00:00.000Z   \n",
       "\n",
       "  Дата начала показа фильма Примечание  Идентификатор записи реестра  \\\n",
       "0                       NaN        NaN                      10003030   \n",
       "1  2024-02-01T12:00:00.000Z        NaN                      10003032   \n",
       "2  2024-02-02T12:00:00.000Z        NaN                      10003203   \n",
       "3                       NaN        NaN                      10003265   \n",
       "4  2024-02-08T12:00:00.000Z        NaN                      10003499   \n",
       "\n",
       "  Аннотация       Вид Фильма Категория  ...  \\\n",
       "0       NaN   Художественный     Видео  ...   \n",
       "1   Комедия   Художественный     Видео  ...   \n",
       "2       NaN   Художественный     Видео  ...   \n",
       "3       NaN   Художественный      Кино  ...   \n",
       "4       NaN   Художественный      Кино  ...   \n",
       "\n",
       "                                                 Код Права проката переданы  \\\n",
       "0                                                 []                    NaN   \n",
       "1                                                 []                    NaN   \n",
       "2                                                 []                    NaN   \n",
       "3  [{\"rightsCategoryUse\":{\"code\":\"01\",\"name\":\"Пок...                    NaN   \n",
       "4                                                 []                    NaN   \n",
       "\n",
       "  Порядковый номер переоформления/продления         Должность подписанта  \\\n",
       "0                                       NaN  Первый заместитель Министра   \n",
       "1                                       NaN  Первый заместитель Министра   \n",
       "2                                       NaN  Первый заместитель Министра   \n",
       "3                                       NaN  Первый заместитель Министра   \n",
       "4                                       NaN  Первый заместитель Министра   \n",
       "\n",
       "   ФИО подписанта Запись удалена  Дата удаления записи  \\\n",
       "0  С.Г. Обрывалин            NaN                   NaN   \n",
       "1  С.Г. Обрывалин            NaN                   NaN   \n",
       "2  С.Г. Обрывалин            NaN                   NaN   \n",
       "3  С.Г. Обрывалин            NaN                   NaN   \n",
       "4  С.Г. Обрывалин            NaN                   NaN   \n",
       "\n",
       "  Не показывать на сайте mkrf.ru      дата создания объекта  \\\n",
       "0                            NaN  2024-01-30T15:41:59+03:00   \n",
       "1                            NaN  2024-01-30T15:42:13+03:00   \n",
       "2                            NaN  2024-01-30T16:08:51+03:00   \n",
       "3                            NaN  2024-01-30T16:20:44+03:00   \n",
       "4                            NaN  2024-01-30T18:10:00+03:00   \n",
       "\n",
       "     дата обновления объекта  \n",
       "0  2024-02-05T14:17:27+03:00  \n",
       "1  2024-02-05T18:23:14+03:00  \n",
       "2  2024-02-06T12:12:04+03:00  \n",
       "3  2024-03-26T14:41:20+03:00  \n",
       "4  2024-01-30T18:10:00+03:00  \n",
       "\n",
       "[5 rows x 48 columns]"
      ]
     },
     "metadata": {},
     "output_type": "display_data"
    },
    {
     "data": {
      "application/vnd.microsoft.datawrangler.viewer.v0+json": {
       "columns": [
        {
         "name": "index",
         "rawType": "object",
         "type": "string"
        },
        {
         "name": "duplicates_full",
         "rawType": "int64",
         "type": "integer"
        }
       ],
       "ref": "85652cf6-92a8-41db-9d04-48fb79bcd3f2",
       "rows": [
        [
         "duplicates_full",
         "15"
        ]
       ],
       "shape": {
        "columns": 1,
        "rows": 1
       }
      },
      "text/html": [
       "<div>\n",
       "<style scoped>\n",
       "    .dataframe tbody tr th:only-of-type {\n",
       "        vertical-align: middle;\n",
       "    }\n",
       "\n",
       "    .dataframe tbody tr th {\n",
       "        vertical-align: top;\n",
       "    }\n",
       "\n",
       "    .dataframe thead th {\n",
       "        text-align: right;\n",
       "    }\n",
       "</style>\n",
       "<table border=\"1\" class=\"dataframe\">\n",
       "  <thead>\n",
       "    <tr style=\"text-align: right;\">\n",
       "      <th></th>\n",
       "      <th>duplicates_full</th>\n",
       "    </tr>\n",
       "  </thead>\n",
       "  <tbody>\n",
       "    <tr>\n",
       "      <th>duplicates_full</th>\n",
       "      <td>15</td>\n",
       "    </tr>\n",
       "  </tbody>\n",
       "</table>\n",
       "</div>"
      ],
      "text/plain": [
       "                 duplicates_full\n",
       "duplicates_full               15"
      ]
     },
     "metadata": {},
     "output_type": "display_data"
    },
    {
     "data": {
      "application/vnd.microsoft.datawrangler.viewer.v0+json": {
       "columns": [
        {
         "name": "index",
         "rawType": "object",
         "type": "string"
        },
        {
         "name": "Название фильма",
         "rawType": "int64",
         "type": "integer"
        },
        {
         "name": "Hаименование на иностранном языке",
         "rawType": "int64",
         "type": "integer"
        },
        {
         "name": "Номер удостоверения",
         "rawType": "int64",
         "type": "integer"
        },
        {
         "name": "Дата регистрации удостоверения",
         "rawType": "int64",
         "type": "integer"
        },
        {
         "name": "Дата начала показа фильма",
         "rawType": "int64",
         "type": "integer"
        },
        {
         "name": "Примечание",
         "rawType": "int64",
         "type": "integer"
        },
        {
         "name": "Идентификатор записи реестра",
         "rawType": "int64",
         "type": "integer"
        },
        {
         "name": "Аннотация",
         "rawType": "int64",
         "type": "integer"
        },
        {
         "name": "Вид Фильма",
         "rawType": "int64",
         "type": "integer"
        },
        {
         "name": "Категория",
         "rawType": "int64",
         "type": "integer"
        },
        {
         "name": "Язык оригинала",
         "rawType": "int64",
         "type": "integer"
        },
        {
         "name": "Формат кадра",
         "rawType": "int64",
         "type": "integer"
        },
        {
         "name": "Количество серий",
         "rawType": "int64",
         "type": "integer"
        },
        {
         "name": "Метраж (для фильмов на кинопленке)",
         "rawType": "int64",
         "type": "integer"
        },
        {
         "name": "Количество частей/рулонов (для фильмов на кинопленке)",
         "rawType": "int64",
         "type": "integer"
        },
        {
         "name": "Цвет",
         "rawType": "int64",
         "type": "integer"
        },
        {
         "name": "Продолжительность демонстрации, часы",
         "rawType": "int64",
         "type": "integer"
        },
        {
         "name": "Продолжительность демонстрации, минуты",
         "rawType": "int64",
         "type": "integer"
        },
        {
         "name": "Формат носителя",
         "rawType": "int64",
         "type": "integer"
        },
        {
         "name": "Объем носителя",
         "rawType": "int64",
         "type": "integer"
        },
        {
         "name": "Единица измерения",
         "rawType": "int64",
         "type": "integer"
        },
        {
         "name": "Студия-производитель",
         "rawType": "int64",
         "type": "integer"
        },
        {
         "name": "Страна производства",
         "rawType": "int64",
         "type": "integer"
        },
        {
         "name": "Год производства",
         "rawType": "int64",
         "type": "integer"
        },
        {
         "name": "Режиссер",
         "rawType": "int64",
         "type": "integer"
        },
        {
         "name": "Художник",
         "rawType": "int64",
         "type": "integer"
        },
        {
         "name": "Сценарист",
         "rawType": "int64",
         "type": "integer"
        },
        {
         "name": "Оператор",
         "rawType": "int64",
         "type": "integer"
        },
        {
         "name": "Композитор",
         "rawType": "int64",
         "type": "integer"
        },
        {
         "name": "Продюсер",
         "rawType": "int64",
         "type": "integer"
        },
        {
         "name": "Права на использование фильма",
         "rawType": "int64",
         "type": "integer"
        },
        {
         "name": "Категория прав на использование фильма",
         "rawType": "int64",
         "type": "integer"
        },
        {
         "name": "Срок действия прав на использование фильма",
         "rawType": "int64",
         "type": "integer"
        },
        {
         "name": "Срок действия прав на способ использования фильма",
         "rawType": "int64",
         "type": "integer"
        },
        {
         "name": "Возрастная категория",
         "rawType": "int64",
         "type": "integer"
        },
        {
         "name": "Возрастная категория.1",
         "rawType": "int64",
         "type": "integer"
        },
        {
         "name": "Дубляж (где дублирован)",
         "rawType": "int64",
         "type": "integer"
        },
        {
         "name": "Срок действия прав проката до",
         "rawType": "int64",
         "type": "integer"
        },
        {
         "name": "Код",
         "rawType": "int64",
         "type": "integer"
        },
        {
         "name": "Права проката переданы",
         "rawType": "int64",
         "type": "integer"
        },
        {
         "name": "Порядковый номер переоформления/продления",
         "rawType": "int64",
         "type": "integer"
        },
        {
         "name": "Должность подписанта",
         "rawType": "int64",
         "type": "integer"
        },
        {
         "name": "ФИО подписанта",
         "rawType": "int64",
         "type": "integer"
        },
        {
         "name": "Запись удалена",
         "rawType": "int64",
         "type": "integer"
        },
        {
         "name": "Дата удаления записи",
         "rawType": "int64",
         "type": "integer"
        },
        {
         "name": "Не показывать на сайте mkrf.ru",
         "rawType": "int64",
         "type": "integer"
        },
        {
         "name": "дата создания объекта",
         "rawType": "int64",
         "type": "integer"
        },
        {
         "name": "дата обновления объекта",
         "rawType": "int64",
         "type": "integer"
        }
       ],
       "ref": "6a7b03b7-947e-4f28-9d92-7adeec1d54ea",
       "rows": [
        [
         "duplicates_by_cols",
         "17600",
         "17608",
         "98",
         "97112",
         "92605",
         "22123",
         "15",
         "39943",
         "103828",
         "103843",
         "0",
         "13855",
         "46189",
         "8417",
         "14130",
         "103800",
         "87149",
         "101041",
         "17918",
         "6410",
         "8133",
         "63014",
         "100544",
         "102368",
         "62060",
         "23826",
         "42511",
         "37830",
         "43724",
         "36010",
         "91810",
         "96845",
         "9",
         "87142",
         "103817",
         "103833",
         "579",
         "15",
         "102400",
         "145",
         "10",
         "19981",
         "19968",
         "0",
         "0",
         "0",
         "84229",
         "80373"
        ]
       ],
       "shape": {
        "columns": 48,
        "rows": 1
       }
      },
      "text/html": [
       "<div>\n",
       "<style scoped>\n",
       "    .dataframe tbody tr th:only-of-type {\n",
       "        vertical-align: middle;\n",
       "    }\n",
       "\n",
       "    .dataframe tbody tr th {\n",
       "        vertical-align: top;\n",
       "    }\n",
       "\n",
       "    .dataframe thead th {\n",
       "        text-align: right;\n",
       "    }\n",
       "</style>\n",
       "<table border=\"1\" class=\"dataframe\">\n",
       "  <thead>\n",
       "    <tr style=\"text-align: right;\">\n",
       "      <th></th>\n",
       "      <th>Название фильма</th>\n",
       "      <th>Hаименование на иностранном языке</th>\n",
       "      <th>Номер удостоверения</th>\n",
       "      <th>Дата регистрации удостоверения</th>\n",
       "      <th>Дата начала показа фильма</th>\n",
       "      <th>Примечание</th>\n",
       "      <th>Идентификатор записи реестра</th>\n",
       "      <th>Аннотация</th>\n",
       "      <th>Вид Фильма</th>\n",
       "      <th>Категория</th>\n",
       "      <th>...</th>\n",
       "      <th>Код</th>\n",
       "      <th>Права проката переданы</th>\n",
       "      <th>Порядковый номер переоформления/продления</th>\n",
       "      <th>Должность подписанта</th>\n",
       "      <th>ФИО подписанта</th>\n",
       "      <th>Запись удалена</th>\n",
       "      <th>Дата удаления записи</th>\n",
       "      <th>Не показывать на сайте mkrf.ru</th>\n",
       "      <th>дата создания объекта</th>\n",
       "      <th>дата обновления объекта</th>\n",
       "    </tr>\n",
       "  </thead>\n",
       "  <tbody>\n",
       "    <tr>\n",
       "      <th>duplicates_by_cols</th>\n",
       "      <td>17600</td>\n",
       "      <td>17608</td>\n",
       "      <td>98</td>\n",
       "      <td>97112</td>\n",
       "      <td>92605</td>\n",
       "      <td>22123</td>\n",
       "      <td>15</td>\n",
       "      <td>39943</td>\n",
       "      <td>103828</td>\n",
       "      <td>103843</td>\n",
       "      <td>...</td>\n",
       "      <td>102400</td>\n",
       "      <td>145</td>\n",
       "      <td>10</td>\n",
       "      <td>19981</td>\n",
       "      <td>19968</td>\n",
       "      <td>0</td>\n",
       "      <td>0</td>\n",
       "      <td>0</td>\n",
       "      <td>84229</td>\n",
       "      <td>80373</td>\n",
       "    </tr>\n",
       "  </tbody>\n",
       "</table>\n",
       "<p>1 rows × 48 columns</p>\n",
       "</div>"
      ],
      "text/plain": [
       "                    Название фильма  Hаименование на иностранном языке  \\\n",
       "duplicates_by_cols            17600                              17608   \n",
       "\n",
       "                    Номер удостоверения  Дата регистрации удостоверения  \\\n",
       "duplicates_by_cols                   98                           97112   \n",
       "\n",
       "                    Дата начала показа фильма  Примечание  \\\n",
       "duplicates_by_cols                      92605       22123   \n",
       "\n",
       "                    Идентификатор записи реестра  Аннотация  Вид Фильма  \\\n",
       "duplicates_by_cols                            15      39943      103828   \n",
       "\n",
       "                    Категория  ...     Код  Права проката переданы  \\\n",
       "duplicates_by_cols     103843  ...  102400                     145   \n",
       "\n",
       "                    Порядковый номер переоформления/продления  \\\n",
       "duplicates_by_cols                                         10   \n",
       "\n",
       "                    Должность подписанта  ФИО подписанта  Запись удалена  \\\n",
       "duplicates_by_cols                 19981           19968               0   \n",
       "\n",
       "                    Дата удаления записи  Не показывать на сайте mkrf.ru  \\\n",
       "duplicates_by_cols                     0                               0   \n",
       "\n",
       "                    дата создания объекта  дата обновления объекта  \n",
       "duplicates_by_cols                  84229                    80373  \n",
       "\n",
       "[1 rows x 48 columns]"
      ]
     },
     "metadata": {},
     "output_type": "display_data"
    },
    {
     "data": {
      "application/vnd.microsoft.datawrangler.viewer.v0+json": {
       "columns": [
        {
         "name": "index",
         "rawType": "object",
         "type": "string"
        },
        {
         "name": "Продолжительность демонстрации, часы",
         "rawType": "int64",
         "type": "integer"
        }
       ],
       "ref": "65f99a59-f2de-4c9f-892f-eb12689c142c",
       "rows": [
        [
         "zeroes",
         "12634"
        ]
       ],
       "shape": {
        "columns": 1,
        "rows": 1
       }
      },
      "text/html": [
       "<div>\n",
       "<style scoped>\n",
       "    .dataframe tbody tr th:only-of-type {\n",
       "        vertical-align: middle;\n",
       "    }\n",
       "\n",
       "    .dataframe tbody tr th {\n",
       "        vertical-align: top;\n",
       "    }\n",
       "\n",
       "    .dataframe thead th {\n",
       "        text-align: right;\n",
       "    }\n",
       "</style>\n",
       "<table border=\"1\" class=\"dataframe\">\n",
       "  <thead>\n",
       "    <tr style=\"text-align: right;\">\n",
       "      <th></th>\n",
       "      <th>Продолжительность демонстрации, часы</th>\n",
       "    </tr>\n",
       "  </thead>\n",
       "  <tbody>\n",
       "    <tr>\n",
       "      <th>zeroes</th>\n",
       "      <td>12634</td>\n",
       "    </tr>\n",
       "  </tbody>\n",
       "</table>\n",
       "</div>"
      ],
      "text/plain": [
       "        Продолжительность демонстрации, часы\n",
       "zeroes                                 12634"
      ]
     },
     "metadata": {},
     "output_type": "display_data"
    },
    {
     "data": {
      "application/vnd.microsoft.datawrangler.viewer.v0+json": {
       "columns": [
        {
         "name": "index",
         "rawType": "object",
         "type": "string"
        }
       ],
       "ref": "4422cc7c-f439-44b0-b426-0b05e9a022cd",
       "rows": [
        [
         "minus_ones"
        ]
       ],
       "shape": {
        "columns": 0,
        "rows": 1
       }
      },
      "text/html": [
       "<div>\n",
       "<style scoped>\n",
       "    .dataframe tbody tr th:only-of-type {\n",
       "        vertical-align: middle;\n",
       "    }\n",
       "\n",
       "    .dataframe tbody tr th {\n",
       "        vertical-align: top;\n",
       "    }\n",
       "\n",
       "    .dataframe thead th {\n",
       "        text-align: right;\n",
       "    }\n",
       "</style>\n",
       "<table border=\"1\" class=\"dataframe\">\n",
       "  <thead>\n",
       "    <tr style=\"text-align: right;\">\n",
       "      <th></th>\n",
       "    </tr>\n",
       "  </thead>\n",
       "  <tbody>\n",
       "    <tr>\n",
       "      <th>minus_ones</th>\n",
       "    </tr>\n",
       "  </tbody>\n",
       "</table>\n",
       "</div>"
      ],
      "text/plain": [
       "Empty DataFrame\n",
       "Columns: []\n",
       "Index: [minus_ones]"
      ]
     },
     "metadata": {},
     "output_type": "display_data"
    },
    {
     "data": {
      "application/vnd.microsoft.datawrangler.viewer.v0+json": {
       "columns": [
        {
         "name": "index",
         "rawType": "object",
         "type": "string"
        },
        {
         "name": "Hаименование на иностранном языке",
         "rawType": "int64",
         "type": "integer"
        },
        {
         "name": "Дата регистрации удостоверения",
         "rawType": "int64",
         "type": "integer"
        },
        {
         "name": "Дата начала показа фильма",
         "rawType": "int64",
         "type": "integer"
        },
        {
         "name": "Примечание",
         "rawType": "int64",
         "type": "integer"
        },
        {
         "name": "Аннотация",
         "rawType": "int64",
         "type": "integer"
        },
        {
         "name": "Вид Фильма",
         "rawType": "int64",
         "type": "integer"
        },
        {
         "name": "Язык оригинала",
         "rawType": "int64",
         "type": "integer"
        },
        {
         "name": "Формат кадра",
         "rawType": "int64",
         "type": "integer"
        },
        {
         "name": "Количество серий",
         "rawType": "int64",
         "type": "integer"
        },
        {
         "name": "Метраж (для фильмов на кинопленке)",
         "rawType": "int64",
         "type": "integer"
        },
        {
         "name": "Количество частей/рулонов (для фильмов на кинопленке)",
         "rawType": "int64",
         "type": "integer"
        },
        {
         "name": "Цвет",
         "rawType": "int64",
         "type": "integer"
        },
        {
         "name": "Продолжительность демонстрации, часы",
         "rawType": "int64",
         "type": "integer"
        },
        {
         "name": "Продолжительность демонстрации, минуты",
         "rawType": "int64",
         "type": "integer"
        },
        {
         "name": "Формат носителя",
         "rawType": "int64",
         "type": "integer"
        },
        {
         "name": "Объем носителя",
         "rawType": "int64",
         "type": "integer"
        },
        {
         "name": "Единица измерения",
         "rawType": "int64",
         "type": "integer"
        },
        {
         "name": "Студия-производитель",
         "rawType": "int64",
         "type": "integer"
        },
        {
         "name": "Страна производства",
         "rawType": "int64",
         "type": "integer"
        },
        {
         "name": "Год производства",
         "rawType": "int64",
         "type": "integer"
        },
        {
         "name": "Режиссер",
         "rawType": "int64",
         "type": "integer"
        },
        {
         "name": "Художник",
         "rawType": "int64",
         "type": "integer"
        },
        {
         "name": "Сценарист",
         "rawType": "int64",
         "type": "integer"
        },
        {
         "name": "Оператор",
         "rawType": "int64",
         "type": "integer"
        },
        {
         "name": "Композитор",
         "rawType": "int64",
         "type": "integer"
        },
        {
         "name": "Продюсер",
         "rawType": "int64",
         "type": "integer"
        },
        {
         "name": "Права на использование фильма",
         "rawType": "int64",
         "type": "integer"
        },
        {
         "name": "Категория прав на использование фильма",
         "rawType": "int64",
         "type": "integer"
        },
        {
         "name": "Срок действия прав на использование фильма",
         "rawType": "int64",
         "type": "integer"
        },
        {
         "name": "Срок действия прав на способ использования фильма",
         "rawType": "int64",
         "type": "integer"
        },
        {
         "name": "Возрастная категория",
         "rawType": "int64",
         "type": "integer"
        },
        {
         "name": "Возрастная категория.1",
         "rawType": "int64",
         "type": "integer"
        },
        {
         "name": "Дубляж (где дублирован)",
         "rawType": "int64",
         "type": "integer"
        },
        {
         "name": "Срок действия прав проката до",
         "rawType": "int64",
         "type": "integer"
        },
        {
         "name": "Права проката переданы",
         "rawType": "int64",
         "type": "integer"
        },
        {
         "name": "Порядковый номер переоформления/продления",
         "rawType": "int64",
         "type": "integer"
        },
        {
         "name": "Должность подписанта",
         "rawType": "int64",
         "type": "integer"
        },
        {
         "name": "ФИО подписанта",
         "rawType": "int64",
         "type": "integer"
        },
        {
         "name": "Запись удалена",
         "rawType": "int64",
         "type": "integer"
        },
        {
         "name": "Дата удаления записи",
         "rawType": "int64",
         "type": "integer"
        },
        {
         "name": "Не показывать на сайте mkrf.ru",
         "rawType": "int64",
         "type": "integer"
        }
       ],
       "ref": "a8ae8a44-eae8-45f7-9ef5-b440c9a949f5",
       "rows": [
        [
         "nulls",
         "51954",
         "2",
         "3852",
         "74609",
         "10990",
         "5",
         "103844",
         "89606",
         "57464",
         "91163",
         "89566",
         "21",
         "16588",
         "2523",
         "85845",
         "95625",
         "95709",
         "169",
         "78",
         "211",
         "2617",
         "61941",
         "12131",
         "43925",
         "36608",
         "36939",
         "13",
         "6157",
         "103833",
         "5643",
         "1",
         "2",
         "103193",
         "103777",
         "103327",
         "103830",
         "83849",
         "83850",
         "103848",
         "103847",
         "103848"
        ]
       ],
       "shape": {
        "columns": 41,
        "rows": 1
       }
      },
      "text/html": [
       "<div>\n",
       "<style scoped>\n",
       "    .dataframe tbody tr th:only-of-type {\n",
       "        vertical-align: middle;\n",
       "    }\n",
       "\n",
       "    .dataframe tbody tr th {\n",
       "        vertical-align: top;\n",
       "    }\n",
       "\n",
       "    .dataframe thead th {\n",
       "        text-align: right;\n",
       "    }\n",
       "</style>\n",
       "<table border=\"1\" class=\"dataframe\">\n",
       "  <thead>\n",
       "    <tr style=\"text-align: right;\">\n",
       "      <th></th>\n",
       "      <th>Hаименование на иностранном языке</th>\n",
       "      <th>Дата регистрации удостоверения</th>\n",
       "      <th>Дата начала показа фильма</th>\n",
       "      <th>Примечание</th>\n",
       "      <th>Аннотация</th>\n",
       "      <th>Вид Фильма</th>\n",
       "      <th>Язык оригинала</th>\n",
       "      <th>Формат кадра</th>\n",
       "      <th>Количество серий</th>\n",
       "      <th>Метраж (для фильмов на кинопленке)</th>\n",
       "      <th>...</th>\n",
       "      <th>Возрастная категория.1</th>\n",
       "      <th>Дубляж (где дублирован)</th>\n",
       "      <th>Срок действия прав проката до</th>\n",
       "      <th>Права проката переданы</th>\n",
       "      <th>Порядковый номер переоформления/продления</th>\n",
       "      <th>Должность подписанта</th>\n",
       "      <th>ФИО подписанта</th>\n",
       "      <th>Запись удалена</th>\n",
       "      <th>Дата удаления записи</th>\n",
       "      <th>Не показывать на сайте mkrf.ru</th>\n",
       "    </tr>\n",
       "  </thead>\n",
       "  <tbody>\n",
       "    <tr>\n",
       "      <th>nulls</th>\n",
       "      <td>51954</td>\n",
       "      <td>2</td>\n",
       "      <td>3852</td>\n",
       "      <td>74609</td>\n",
       "      <td>10990</td>\n",
       "      <td>5</td>\n",
       "      <td>103844</td>\n",
       "      <td>89606</td>\n",
       "      <td>57464</td>\n",
       "      <td>91163</td>\n",
       "      <td>...</td>\n",
       "      <td>2</td>\n",
       "      <td>103193</td>\n",
       "      <td>103777</td>\n",
       "      <td>103327</td>\n",
       "      <td>103830</td>\n",
       "      <td>83849</td>\n",
       "      <td>83850</td>\n",
       "      <td>103848</td>\n",
       "      <td>103847</td>\n",
       "      <td>103848</td>\n",
       "    </tr>\n",
       "  </tbody>\n",
       "</table>\n",
       "<p>1 rows × 41 columns</p>\n",
       "</div>"
      ],
      "text/plain": [
       "       Hаименование на иностранном языке  Дата регистрации удостоверения  \\\n",
       "nulls                              51954                               2   \n",
       "\n",
       "       Дата начала показа фильма  Примечание  Аннотация  Вид Фильма  \\\n",
       "nulls                       3852       74609      10990           5   \n",
       "\n",
       "       Язык оригинала  Формат кадра  Количество серий  \\\n",
       "nulls          103844         89606             57464   \n",
       "\n",
       "       Метраж (для фильмов на кинопленке)  ...  Возрастная категория.1  \\\n",
       "nulls                               91163  ...                       2   \n",
       "\n",
       "       Дубляж (где дублирован)  Срок действия прав проката до  \\\n",
       "nulls                   103193                         103777   \n",
       "\n",
       "       Права проката переданы  Порядковый номер переоформления/продления  \\\n",
       "nulls                  103327                                     103830   \n",
       "\n",
       "       Должность подписанта  ФИО подписанта  Запись удалена  \\\n",
       "nulls                 83849           83850          103848   \n",
       "\n",
       "       Дата удаления записи  Не показывать на сайте mkrf.ru  \n",
       "nulls                103847                          103848  \n",
       "\n",
       "[1 rows x 41 columns]"
      ]
     },
     "metadata": {},
     "output_type": "display_data"
    },
    {
     "data": {
      "application/vnd.microsoft.datawrangler.viewer.v0+json": {
       "columns": [
        {
         "name": "index",
         "rawType": "object",
         "type": "string"
        },
        {
         "name": "Hаименование на иностранном языке",
         "rawType": "int64",
         "type": "integer"
        },
        {
         "name": "Дата регистрации удостоверения",
         "rawType": "int64",
         "type": "integer"
        },
        {
         "name": "Дата начала показа фильма",
         "rawType": "int64",
         "type": "integer"
        },
        {
         "name": "Примечание",
         "rawType": "int64",
         "type": "integer"
        },
        {
         "name": "Аннотация",
         "rawType": "int64",
         "type": "integer"
        },
        {
         "name": "Вид Фильма",
         "rawType": "int64",
         "type": "integer"
        },
        {
         "name": "Язык оригинала",
         "rawType": "int64",
         "type": "integer"
        },
        {
         "name": "Формат кадра",
         "rawType": "int64",
         "type": "integer"
        },
        {
         "name": "Количество серий",
         "rawType": "int64",
         "type": "integer"
        },
        {
         "name": "Метраж (для фильмов на кинопленке)",
         "rawType": "int64",
         "type": "integer"
        },
        {
         "name": "Количество частей/рулонов (для фильмов на кинопленке)",
         "rawType": "int64",
         "type": "integer"
        },
        {
         "name": "Цвет",
         "rawType": "int64",
         "type": "integer"
        },
        {
         "name": "Продолжительность демонстрации, часы",
         "rawType": "int64",
         "type": "integer"
        },
        {
         "name": "Продолжительность демонстрации, минуты",
         "rawType": "int64",
         "type": "integer"
        },
        {
         "name": "Формат носителя",
         "rawType": "int64",
         "type": "integer"
        },
        {
         "name": "Объем носителя",
         "rawType": "int64",
         "type": "integer"
        },
        {
         "name": "Единица измерения",
         "rawType": "int64",
         "type": "integer"
        },
        {
         "name": "Студия-производитель",
         "rawType": "int64",
         "type": "integer"
        },
        {
         "name": "Страна производства",
         "rawType": "int64",
         "type": "integer"
        },
        {
         "name": "Год производства",
         "rawType": "int64",
         "type": "integer"
        },
        {
         "name": "Режиссер",
         "rawType": "int64",
         "type": "integer"
        },
        {
         "name": "Художник",
         "rawType": "int64",
         "type": "integer"
        },
        {
         "name": "Сценарист",
         "rawType": "int64",
         "type": "integer"
        },
        {
         "name": "Оператор",
         "rawType": "int64",
         "type": "integer"
        },
        {
         "name": "Композитор",
         "rawType": "int64",
         "type": "integer"
        },
        {
         "name": "Продюсер",
         "rawType": "int64",
         "type": "integer"
        },
        {
         "name": "Права на использование фильма",
         "rawType": "int64",
         "type": "integer"
        },
        {
         "name": "Категория прав на использование фильма",
         "rawType": "int64",
         "type": "integer"
        },
        {
         "name": "Срок действия прав на использование фильма",
         "rawType": "int64",
         "type": "integer"
        },
        {
         "name": "Срок действия прав на способ использования фильма",
         "rawType": "int64",
         "type": "integer"
        },
        {
         "name": "Возрастная категория",
         "rawType": "int64",
         "type": "integer"
        },
        {
         "name": "Возрастная категория.1",
         "rawType": "int64",
         "type": "integer"
        },
        {
         "name": "Дубляж (где дублирован)",
         "rawType": "int64",
         "type": "integer"
        },
        {
         "name": "Срок действия прав проката до",
         "rawType": "int64",
         "type": "integer"
        },
        {
         "name": "Права проката переданы",
         "rawType": "int64",
         "type": "integer"
        },
        {
         "name": "Порядковый номер переоформления/продления",
         "rawType": "int64",
         "type": "integer"
        },
        {
         "name": "Должность подписанта",
         "rawType": "int64",
         "type": "integer"
        },
        {
         "name": "ФИО подписанта",
         "rawType": "int64",
         "type": "integer"
        },
        {
         "name": "Запись удалена",
         "rawType": "int64",
         "type": "integer"
        },
        {
         "name": "Дата удаления записи",
         "rawType": "int64",
         "type": "integer"
        },
        {
         "name": "Не показывать на сайте mkrf.ru",
         "rawType": "int64",
         "type": "integer"
        }
       ],
       "ref": "1381ee0f-e426-4e83-8aa3-869bdc81262b",
       "rows": [
        [
         "nans",
         "51954",
         "2",
         "3852",
         "74609",
         "10990",
         "5",
         "103844",
         "89606",
         "57464",
         "91163",
         "89566",
         "21",
         "16588",
         "2523",
         "85845",
         "95625",
         "95709",
         "169",
         "78",
         "211",
         "2617",
         "61941",
         "12131",
         "43925",
         "36608",
         "36939",
         "13",
         "6157",
         "103833",
         "5643",
         "1",
         "2",
         "103193",
         "103777",
         "103327",
         "103830",
         "83849",
         "83850",
         "103848",
         "103847",
         "103848"
        ]
       ],
       "shape": {
        "columns": 41,
        "rows": 1
       }
      },
      "text/html": [
       "<div>\n",
       "<style scoped>\n",
       "    .dataframe tbody tr th:only-of-type {\n",
       "        vertical-align: middle;\n",
       "    }\n",
       "\n",
       "    .dataframe tbody tr th {\n",
       "        vertical-align: top;\n",
       "    }\n",
       "\n",
       "    .dataframe thead th {\n",
       "        text-align: right;\n",
       "    }\n",
       "</style>\n",
       "<table border=\"1\" class=\"dataframe\">\n",
       "  <thead>\n",
       "    <tr style=\"text-align: right;\">\n",
       "      <th></th>\n",
       "      <th>Hаименование на иностранном языке</th>\n",
       "      <th>Дата регистрации удостоверения</th>\n",
       "      <th>Дата начала показа фильма</th>\n",
       "      <th>Примечание</th>\n",
       "      <th>Аннотация</th>\n",
       "      <th>Вид Фильма</th>\n",
       "      <th>Язык оригинала</th>\n",
       "      <th>Формат кадра</th>\n",
       "      <th>Количество серий</th>\n",
       "      <th>Метраж (для фильмов на кинопленке)</th>\n",
       "      <th>...</th>\n",
       "      <th>Возрастная категория.1</th>\n",
       "      <th>Дубляж (где дублирован)</th>\n",
       "      <th>Срок действия прав проката до</th>\n",
       "      <th>Права проката переданы</th>\n",
       "      <th>Порядковый номер переоформления/продления</th>\n",
       "      <th>Должность подписанта</th>\n",
       "      <th>ФИО подписанта</th>\n",
       "      <th>Запись удалена</th>\n",
       "      <th>Дата удаления записи</th>\n",
       "      <th>Не показывать на сайте mkrf.ru</th>\n",
       "    </tr>\n",
       "  </thead>\n",
       "  <tbody>\n",
       "    <tr>\n",
       "      <th>nans</th>\n",
       "      <td>51954</td>\n",
       "      <td>2</td>\n",
       "      <td>3852</td>\n",
       "      <td>74609</td>\n",
       "      <td>10990</td>\n",
       "      <td>5</td>\n",
       "      <td>103844</td>\n",
       "      <td>89606</td>\n",
       "      <td>57464</td>\n",
       "      <td>91163</td>\n",
       "      <td>...</td>\n",
       "      <td>2</td>\n",
       "      <td>103193</td>\n",
       "      <td>103777</td>\n",
       "      <td>103327</td>\n",
       "      <td>103830</td>\n",
       "      <td>83849</td>\n",
       "      <td>83850</td>\n",
       "      <td>103848</td>\n",
       "      <td>103847</td>\n",
       "      <td>103848</td>\n",
       "    </tr>\n",
       "  </tbody>\n",
       "</table>\n",
       "<p>1 rows × 41 columns</p>\n",
       "</div>"
      ],
      "text/plain": [
       "      Hаименование на иностранном языке  Дата регистрации удостоверения  \\\n",
       "nans                              51954                               2   \n",
       "\n",
       "      Дата начала показа фильма  Примечание  Аннотация  Вид Фильма  \\\n",
       "nans                       3852       74609      10990           5   \n",
       "\n",
       "      Язык оригинала  Формат кадра  Количество серий  \\\n",
       "nans          103844         89606             57464   \n",
       "\n",
       "      Метраж (для фильмов на кинопленке)  ...  Возрастная категория.1  \\\n",
       "nans                               91163  ...                       2   \n",
       "\n",
       "      Дубляж (где дублирован)  Срок действия прав проката до  \\\n",
       "nans                   103193                         103777   \n",
       "\n",
       "      Права проката переданы  Порядковый номер переоформления/продления  \\\n",
       "nans                  103327                                     103830   \n",
       "\n",
       "      Должность подписанта  ФИО подписанта  Запись удалена  \\\n",
       "nans                 83849           83850          103848   \n",
       "\n",
       "      Дата удаления записи  Не показывать на сайте mkrf.ru  \n",
       "nans                103847                          103848  \n",
       "\n",
       "[1 rows x 41 columns]"
      ]
     },
     "metadata": {},
     "output_type": "display_data"
    },
    {
     "data": {
      "application/vnd.microsoft.datawrangler.viewer.v0+json": {
       "columns": [
        {
         "name": "index",
         "rawType": "object",
         "type": "string"
        }
       ],
       "ref": "dbcca2b9-4b57-427a-b8fb-6ed4cf52a608",
       "rows": [
        [
         "nones"
        ]
       ],
       "shape": {
        "columns": 0,
        "rows": 1
       }
      },
      "text/html": [
       "<div>\n",
       "<style scoped>\n",
       "    .dataframe tbody tr th:only-of-type {\n",
       "        vertical-align: middle;\n",
       "    }\n",
       "\n",
       "    .dataframe tbody tr th {\n",
       "        vertical-align: top;\n",
       "    }\n",
       "\n",
       "    .dataframe thead th {\n",
       "        text-align: right;\n",
       "    }\n",
       "</style>\n",
       "<table border=\"1\" class=\"dataframe\">\n",
       "  <thead>\n",
       "    <tr style=\"text-align: right;\">\n",
       "      <th></th>\n",
       "    </tr>\n",
       "  </thead>\n",
       "  <tbody>\n",
       "    <tr>\n",
       "      <th>nones</th>\n",
       "    </tr>\n",
       "  </tbody>\n",
       "</table>\n",
       "</div>"
      ],
      "text/plain": [
       "Empty DataFrame\n",
       "Columns: []\n",
       "Index: [nones]"
      ]
     },
     "metadata": {},
     "output_type": "display_data"
    },
    {
     "data": {
      "application/vnd.microsoft.datawrangler.viewer.v0+json": {
       "columns": [
        {
         "name": "index",
         "rawType": "object",
         "type": "string"
        }
       ],
       "ref": "b904d911-2e8f-4820-9f20-0470b53f4142",
       "rows": [
        [
         "NA placeholder"
        ]
       ],
       "shape": {
        "columns": 0,
        "rows": 1
       }
      },
      "text/html": [
       "<div>\n",
       "<style scoped>\n",
       "    .dataframe tbody tr th:only-of-type {\n",
       "        vertical-align: middle;\n",
       "    }\n",
       "\n",
       "    .dataframe tbody tr th {\n",
       "        vertical-align: top;\n",
       "    }\n",
       "\n",
       "    .dataframe thead th {\n",
       "        text-align: right;\n",
       "    }\n",
       "</style>\n",
       "<table border=\"1\" class=\"dataframe\">\n",
       "  <thead>\n",
       "    <tr style=\"text-align: right;\">\n",
       "      <th></th>\n",
       "    </tr>\n",
       "  </thead>\n",
       "  <tbody>\n",
       "    <tr>\n",
       "      <th>NA placeholder</th>\n",
       "    </tr>\n",
       "  </tbody>\n",
       "</table>\n",
       "</div>"
      ],
      "text/plain": [
       "Empty DataFrame\n",
       "Columns: []\n",
       "Index: [NA placeholder]"
      ]
     },
     "metadata": {},
     "output_type": "display_data"
    },
    {
     "data": {
      "application/vnd.microsoft.datawrangler.viewer.v0+json": {
       "columns": [
        {
         "name": "index",
         "rawType": "object",
         "type": "string"
        }
       ],
       "ref": "72deebe1-94df-449c-882d-7deb7e2b4e88",
       "rows": [
        [
         "null placeholder"
        ]
       ],
       "shape": {
        "columns": 0,
        "rows": 1
       }
      },
      "text/html": [
       "<div>\n",
       "<style scoped>\n",
       "    .dataframe tbody tr th:only-of-type {\n",
       "        vertical-align: middle;\n",
       "    }\n",
       "\n",
       "    .dataframe tbody tr th {\n",
       "        vertical-align: top;\n",
       "    }\n",
       "\n",
       "    .dataframe thead th {\n",
       "        text-align: right;\n",
       "    }\n",
       "</style>\n",
       "<table border=\"1\" class=\"dataframe\">\n",
       "  <thead>\n",
       "    <tr style=\"text-align: right;\">\n",
       "      <th></th>\n",
       "    </tr>\n",
       "  </thead>\n",
       "  <tbody>\n",
       "    <tr>\n",
       "      <th>null placeholder</th>\n",
       "    </tr>\n",
       "  </tbody>\n",
       "</table>\n",
       "</div>"
      ],
      "text/plain": [
       "Empty DataFrame\n",
       "Columns: []\n",
       "Index: [null placeholder]"
      ]
     },
     "metadata": {},
     "output_type": "display_data"
    },
    {
     "data": {
      "application/vnd.microsoft.datawrangler.viewer.v0+json": {
       "columns": [
        {
         "name": "index",
         "rawType": "object",
         "type": "string"
        }
       ],
       "ref": "139cc3c2-0255-4598-ac2f-3addae259b97",
       "rows": [
        [
         "N/A placeholder"
        ]
       ],
       "shape": {
        "columns": 0,
        "rows": 1
       }
      },
      "text/html": [
       "<div>\n",
       "<style scoped>\n",
       "    .dataframe tbody tr th:only-of-type {\n",
       "        vertical-align: middle;\n",
       "    }\n",
       "\n",
       "    .dataframe tbody tr th {\n",
       "        vertical-align: top;\n",
       "    }\n",
       "\n",
       "    .dataframe thead th {\n",
       "        text-align: right;\n",
       "    }\n",
       "</style>\n",
       "<table border=\"1\" class=\"dataframe\">\n",
       "  <thead>\n",
       "    <tr style=\"text-align: right;\">\n",
       "      <th></th>\n",
       "    </tr>\n",
       "  </thead>\n",
       "  <tbody>\n",
       "    <tr>\n",
       "      <th>N/A placeholder</th>\n",
       "    </tr>\n",
       "  </tbody>\n",
       "</table>\n",
       "</div>"
      ],
      "text/plain": [
       "Empty DataFrame\n",
       "Columns: []\n",
       "Index: [N/A placeholder]"
      ]
     },
     "metadata": {},
     "output_type": "display_data"
    },
    {
     "data": {
      "application/vnd.microsoft.datawrangler.viewer.v0+json": {
       "columns": [
        {
         "name": "index",
         "rawType": "object",
         "type": "string"
        },
        {
         "name": "<class 'str'>",
         "rawType": "int64",
         "type": "integer"
        },
        {
         "name": "<class 'int'>",
         "rawType": "float64",
         "type": "float"
        },
        {
         "name": "<class 'float'>",
         "rawType": "float64",
         "type": "float"
        }
       ],
       "ref": "96779052-56fa-44c4-94be-7784f16bbda7",
       "rows": [
        [
         "Номер удостоверения",
         "65536",
         "38312.0",
         null
        ],
        [
         "Количество серий",
         "5302",
         null,
         "41082.0"
        ],
        [
         "Метраж (для фильмов на кинопленке)",
         "4840",
         null,
         "7845.0"
        ],
        [
         "Количество частей/рулонов (для фильмов на кинопленке)",
         "14150",
         null,
         "132.0"
        ],
        [
         "Продолжительность демонстрации, минуты",
         "5537",
         null,
         "95788.0"
        ],
        [
         "Возрастная категория.1",
         "87462",
         "16384.0",
         null
        ]
       ],
       "shape": {
        "columns": 3,
        "rows": 6
       }
      },
      "text/html": [
       "<div>\n",
       "<style scoped>\n",
       "    .dataframe tbody tr th:only-of-type {\n",
       "        vertical-align: middle;\n",
       "    }\n",
       "\n",
       "    .dataframe tbody tr th {\n",
       "        vertical-align: top;\n",
       "    }\n",
       "\n",
       "    .dataframe thead th {\n",
       "        text-align: right;\n",
       "    }\n",
       "</style>\n",
       "<table border=\"1\" class=\"dataframe\">\n",
       "  <thead>\n",
       "    <tr style=\"text-align: right;\">\n",
       "      <th></th>\n",
       "      <th>&lt;class 'str'&gt;</th>\n",
       "      <th>&lt;class 'int'&gt;</th>\n",
       "      <th>&lt;class 'float'&gt;</th>\n",
       "    </tr>\n",
       "  </thead>\n",
       "  <tbody>\n",
       "    <tr>\n",
       "      <th>Номер удостоверения</th>\n",
       "      <td>65536</td>\n",
       "      <td>38312.0</td>\n",
       "      <td>NaN</td>\n",
       "    </tr>\n",
       "    <tr>\n",
       "      <th>Количество серий</th>\n",
       "      <td>5302</td>\n",
       "      <td>NaN</td>\n",
       "      <td>41082.0</td>\n",
       "    </tr>\n",
       "    <tr>\n",
       "      <th>Метраж (для фильмов на кинопленке)</th>\n",
       "      <td>4840</td>\n",
       "      <td>NaN</td>\n",
       "      <td>7845.0</td>\n",
       "    </tr>\n",
       "    <tr>\n",
       "      <th>Количество частей/рулонов (для фильмов на кинопленке)</th>\n",
       "      <td>14150</td>\n",
       "      <td>NaN</td>\n",
       "      <td>132.0</td>\n",
       "    </tr>\n",
       "    <tr>\n",
       "      <th>Продолжительность демонстрации, минуты</th>\n",
       "      <td>5537</td>\n",
       "      <td>NaN</td>\n",
       "      <td>95788.0</td>\n",
       "    </tr>\n",
       "    <tr>\n",
       "      <th>Возрастная категория.1</th>\n",
       "      <td>87462</td>\n",
       "      <td>16384.0</td>\n",
       "      <td>NaN</td>\n",
       "    </tr>\n",
       "  </tbody>\n",
       "</table>\n",
       "</div>"
      ],
      "text/plain": [
       "                                                    <class 'str'>  \\\n",
       "Номер удостоверения                                         65536   \n",
       "Количество серий                                             5302   \n",
       "Метраж (для фильмов на кинопленке)                           4840   \n",
       "Количество частей/рулонов (для фильмов на киноп...          14150   \n",
       "Продолжительность демонстрации, минуты                       5537   \n",
       "Возрастная категория.1                                      87462   \n",
       "\n",
       "                                                    <class 'int'>  \\\n",
       "Номер удостоверения                                       38312.0   \n",
       "Количество серий                                              NaN   \n",
       "Метраж (для фильмов на кинопленке)                            NaN   \n",
       "Количество частей/рулонов (для фильмов на киноп...            NaN   \n",
       "Продолжительность демонстрации, минуты                        NaN   \n",
       "Возрастная категория.1                                    16384.0   \n",
       "\n",
       "                                                    <class 'float'>  \n",
       "Номер удостоверения                                             NaN  \n",
       "Количество серий                                            41082.0  \n",
       "Метраж (для фильмов на кинопленке)                           7845.0  \n",
       "Количество частей/рулонов (для фильмов на киноп...            132.0  \n",
       "Продолжительность демонстрации, минуты                      95788.0  \n",
       "Возрастная категория.1                                          NaN  "
      ]
     },
     "metadata": {},
     "output_type": "display_data"
    }
   ],
   "source": [
    "pd_tools.df_info(raw_data)"
   ]
  },
  {
   "cell_type": "markdown",
   "id": "1e23fe43",
   "metadata": {},
   "source": [
    "## Rename columns"
   ]
  },
  {
   "cell_type": "code",
   "execution_count": 5,
   "id": "fc4ab645",
   "metadata": {},
   "outputs": [
    {
     "data": {
      "application/vnd.microsoft.datawrangler.viewer.v0+json": {
       "columns": [
        {
         "name": "index",
         "rawType": "int64",
         "type": "integer"
        },
        {
         "name": "title",
         "rawType": "object",
         "type": "string"
        },
        {
         "name": "foreign_title",
         "rawType": "object",
         "type": "unknown"
        },
        {
         "name": "certificate_number",
         "rawType": "object",
         "type": "string"
        },
        {
         "name": "certificate_registration_date",
         "rawType": "object",
         "type": "string"
        },
        {
         "name": "screening_start_date",
         "rawType": "object",
         "type": "unknown"
        },
        {
         "name": "note",
         "rawType": "object",
         "type": "unknown"
        },
        {
         "name": "registry_id",
         "rawType": "int64",
         "type": "integer"
        },
        {
         "name": "synopsis",
         "rawType": "object",
         "type": "unknown"
        },
        {
         "name": "film_type",
         "rawType": "object",
         "type": "string"
        },
        {
         "name": "category",
         "rawType": "object",
         "type": "string"
        },
        {
         "name": "original_language",
         "rawType": "float64",
         "type": "float"
        },
        {
         "name": "frame_format",
         "rawType": "object",
         "type": "unknown"
        },
        {
         "name": "number_of_episodes",
         "rawType": "object",
         "type": "unknown"
        },
        {
         "name": "film_length",
         "rawType": "object",
         "type": "unknown"
        },
        {
         "name": "number_of_reels",
         "rawType": "object",
         "type": "unknown"
        },
        {
         "name": "color",
         "rawType": "object",
         "type": "string"
        },
        {
         "name": "duration_hours",
         "rawType": "float64",
         "type": "float"
        },
        {
         "name": "duration_minutes",
         "rawType": "object",
         "type": "unknown"
        },
        {
         "name": "media_format",
         "rawType": "object",
         "type": "unknown"
        },
        {
         "name": "media_volume",
         "rawType": "object",
         "type": "unknown"
        },
        {
         "name": "volume_unit",
         "rawType": "object",
         "type": "unknown"
        },
        {
         "name": "production_studio",
         "rawType": "object",
         "type": "string"
        },
        {
         "name": "production_country",
         "rawType": "object",
         "type": "string"
        },
        {
         "name": "production_year",
         "rawType": "object",
         "type": "string"
        },
        {
         "name": "director",
         "rawType": "object",
         "type": "string"
        },
        {
         "name": "art_director",
         "rawType": "object",
         "type": "string"
        },
        {
         "name": "screenwriter",
         "rawType": "object",
         "type": "string"
        },
        {
         "name": "cinematographer",
         "rawType": "object",
         "type": "string"
        },
        {
         "name": "composer",
         "rawType": "object",
         "type": "string"
        },
        {
         "name": "producer",
         "rawType": "object",
         "type": "string"
        },
        {
         "name": "usage_rights",
         "rawType": "object",
         "type": "string"
        },
        {
         "name": "rights_category",
         "rawType": "object",
         "type": "string"
        },
        {
         "name": "rights_expiry_date",
         "rawType": "object",
         "type": "unknown"
        },
        {
         "name": "usage_method_expiry_date",
         "rawType": "object",
         "type": "string"
        },
        {
         "name": "age_rating",
         "rawType": "object",
         "type": "string"
        },
        {
         "name": "age_rating_2",
         "rawType": "object",
         "type": "string"
        },
        {
         "name": "dubbing_location",
         "rawType": "object",
         "type": "unknown"
        },
        {
         "name": "distribution_rights_expiry",
         "rawType": "object",
         "type": "unknown"
        },
        {
         "name": "code",
         "rawType": "object",
         "type": "string"
        },
        {
         "name": "rights_transferred",
         "rawType": "object",
         "type": "unknown"
        },
        {
         "name": "reissue_number",
         "rawType": "object",
         "type": "unknown"
        },
        {
         "name": "signer_position",
         "rawType": "object",
         "type": "string"
        },
        {
         "name": "signer_name",
         "rawType": "object",
         "type": "string"
        },
        {
         "name": "record_deleted",
         "rawType": "float64",
         "type": "float"
        },
        {
         "name": "deletion_date",
         "rawType": "object",
         "type": "unknown"
        },
        {
         "name": "hide_on_site",
         "rawType": "float64",
         "type": "float"
        },
        {
         "name": "created_at",
         "rawType": "object",
         "type": "string"
        },
        {
         "name": "updated_at",
         "rawType": "object",
         "type": "string"
        }
       ],
       "ref": "7f59bf46-c7f5-431d-a76f-8238cce86b0b",
       "rows": [
        [
         "0",
         "Рок’89",
         null,
         "211004124",
         "2024-01-30T12:00:00.000Z",
         null,
         null,
         "10003030",
         null,
         " Художественный",
         "Видео",
         null,
         null,
         "1.0",
         null,
         null,
         "Цветной",
         "0.0",
         "17.0",
         "DVD – диск",
         null,
         null,
         "Беликова Надежда Александровна",
         "Россия",
         "2023",
         "Н.Беликова",
         "А.Титорова, В.Титоров",
         "О.Басс, В.Плохов, Ю.Линде",
         "М.Шутов",
         "П.Грачёв, А.Ануфриев, В.Полякова",
         "Н.Беликова",
         "Беликова Надежда Александровна",
         "Прокат фильма на материальном носителе, показ фильма другими техническими способами",
         null,
         "На срок действия авторского права на фильм",
         "«18+» запрещено для детей",
         "18",
         null,
         null,
         "[]",
         null,
         null,
         "Первый заместитель Министра",
         "С.Г. Обрывалин",
         null,
         null,
         null,
         "2024-01-30T15:41:59+03:00",
         "2024-02-05T14:17:27+03:00"
        ],
        [
         "1",
         "Мама будет против",
         null,
         "211004024",
         "2024-01-30T12:00:00.000Z",
         "2024-02-01T12:00:00.000Z",
         null,
         "10003032",
         "Комедия",
         " Художественный",
         "Видео",
         null,
         "16:9",
         "13.0",
         null,
         null,
         "Цветной",
         "5.0",
         "7.0",
         null,
         null,
         null,
         "ООО \"Продюсерская компания \"Уральские Пельмени\"",
         "Россия",
         "2023",
         "А.Румынский",
         "Е.Кравцов",
         "Д.Тарасов, Е.Гордеева",
         "И.Бархварт",
         "А.Захаров, Е.Голотенко",
         "С.Ершов",
         "ООО \"Продюсерская компания \"Уральские Пельмени\"",
         "Показ фильма в кинозале, прокат фильма на материальном носителе, показ фильма другими техническими способами",
         null,
         "На срок действия авторского права на фильм",
         "«16+» для детей старше 16 лет",
         "16",
         null,
         null,
         "[]",
         null,
         null,
         "Первый заместитель Министра",
         "С.Г. Обрывалин",
         null,
         null,
         null,
         "2024-01-30T15:42:13+03:00",
         "2024-02-05T18:23:14+03:00"
        ],
        [
         "2",
         "ДЕВЯТЬ С ПОЛОВИНОЙ НЕДЕЛЬ",
         "9 1/2 WEEKS",
         "221005424",
         "2024-01-30T12:00:00.000Z",
         "2024-02-02T12:00:00.000Z",
         null,
         "10003203",
         null,
         " Художественный",
         "Видео",
         null,
         null,
         "1.0",
         null,
         null,
         "Цветной",
         "1.0",
         "52.0",
         "DVD – диск",
         null,
         null,
         "Джоунсфилм, Галактик Филмс, Трипл Эйджакс",
         "США",
         "1986",
         "Эдриан Лайн",
         "Кен Дэвис",
         "Патришия Луизианна Ноп, Залман Кинг, Сара Кернокан",
         "Питер Бижу",
         "Джек Ницше",
         "Марк Дэймон, Сидни Киммел, Залман Кинг, Энтони Руфус-Исаак",
         "ООО \"АЛЯСКАФИЛЬМ\"",
         "Показ фильма другими техническими способами",
         null,
         "30.11.2026 г.",
         "«18+» запрещено для детей",
         "18",
         null,
         null,
         "[]",
         null,
         null,
         "Первый заместитель Министра",
         "С.Г. Обрывалин",
         null,
         null,
         null,
         "2024-01-30T16:08:51+03:00",
         "2024-02-06T12:12:04+03:00"
        ],
        [
         "3",
         "Как я встретил её маму",
         null,
         "111001324",
         "2024-01-30T12:00:00.000Z",
         null,
         null,
         "10003265",
         null,
         " Художественный",
         "Кино",
         null,
         "1:2,39",
         "1.0",
         null,
         null,
         "Цветной",
         "1.0",
         "29.0",
         "HDD",
         "1,2",
         "Тб",
         "АО \"ТПО \"Киностудия им.М.Горького\"",
         "Россия",
         "2023",
         "Е.Сальников",
         "Е.Лизогубова",
         "Л.Айрапетян",
         "Д.Шебунин",
         "А.Канцыру, О.Шайдуллина",
         "Н.Харыбина",
         "АО \"ТПО \"Киностудия им.М.Горького\"",
         "Показ фильма в кинозале, прокат фильма на материальном носителе, показ фильма другими техническими способами",
         null,
         "На срок действия авторского права на фильм",
         "«12+» для детей старше 12 лет",
         "12",
         null,
         null,
         "[{\"rightsCategoryUse\":{\"code\":\"01\",\"name\":\"Показ фильма в кинозале\"},\"rentalRightsTransferred\":\"ООО \\\"Атмосфера кино\\\"\",\"rentalRightsTransferrPeriod\":\"с 09.05.2024 г. по 08.05.2025 г.\"}]",
         null,
         null,
         "Первый заместитель Министра",
         "С.Г. Обрывалин",
         null,
         null,
         null,
         "2024-01-30T16:20:44+03:00",
         "2024-03-26T14:41:20+03:00"
        ],
        [
         "4",
         "Миссия в Москве",
         "Mo Si Ke xing dong",
         "121002924",
         "2024-01-30T12:00:00.000Z",
         "2024-02-08T12:00:00.000Z",
         null,
         "10003499",
         null,
         " Художественный",
         "Кино",
         null,
         null,
         "1.0",
         null,
         null,
         "Цветной",
         "2.0",
         "2.0",
         "HDD",
         null,
         null,
         "СМС Пикчерс",
         "КНР",
         "2023",
         "Герман Яу",
         "Чжао Хай, Ли Чжоу",
         "Чэнь Дамин",
         "Джо Чань",
         "Мак Чунь-Хун",
         "Мин Бивер Квэй, Максим Аджави",
         "ООО \"СБ ФИЛЬМ\"",
         "Показ фильма в кинозале, прокат фильма на материальном носителе, показ фильма другими техническими способами",
         null,
         "02.09.2028",
         "«18+» запрещено для детей",
         "18",
         null,
         null,
         "[]",
         null,
         null,
         "Первый заместитель Министра",
         "С.Г. Обрывалин",
         null,
         null,
         null,
         "2024-01-30T18:10:00+03:00",
         "2024-01-30T18:10:00+03:00"
        ]
       ],
       "shape": {
        "columns": 48,
        "rows": 5
       }
      },
      "text/html": [
       "<div>\n",
       "<style scoped>\n",
       "    .dataframe tbody tr th:only-of-type {\n",
       "        vertical-align: middle;\n",
       "    }\n",
       "\n",
       "    .dataframe tbody tr th {\n",
       "        vertical-align: top;\n",
       "    }\n",
       "\n",
       "    .dataframe thead th {\n",
       "        text-align: right;\n",
       "    }\n",
       "</style>\n",
       "<table border=\"1\" class=\"dataframe\">\n",
       "  <thead>\n",
       "    <tr style=\"text-align: right;\">\n",
       "      <th></th>\n",
       "      <th>title</th>\n",
       "      <th>foreign_title</th>\n",
       "      <th>certificate_number</th>\n",
       "      <th>certificate_registration_date</th>\n",
       "      <th>screening_start_date</th>\n",
       "      <th>note</th>\n",
       "      <th>registry_id</th>\n",
       "      <th>synopsis</th>\n",
       "      <th>film_type</th>\n",
       "      <th>category</th>\n",
       "      <th>...</th>\n",
       "      <th>code</th>\n",
       "      <th>rights_transferred</th>\n",
       "      <th>reissue_number</th>\n",
       "      <th>signer_position</th>\n",
       "      <th>signer_name</th>\n",
       "      <th>record_deleted</th>\n",
       "      <th>deletion_date</th>\n",
       "      <th>hide_on_site</th>\n",
       "      <th>created_at</th>\n",
       "      <th>updated_at</th>\n",
       "    </tr>\n",
       "  </thead>\n",
       "  <tbody>\n",
       "    <tr>\n",
       "      <th>0</th>\n",
       "      <td>Рок’89</td>\n",
       "      <td>NaN</td>\n",
       "      <td>211004124</td>\n",
       "      <td>2024-01-30T12:00:00.000Z</td>\n",
       "      <td>NaN</td>\n",
       "      <td>NaN</td>\n",
       "      <td>10003030</td>\n",
       "      <td>NaN</td>\n",
       "      <td>Художественный</td>\n",
       "      <td>Видео</td>\n",
       "      <td>...</td>\n",
       "      <td>[]</td>\n",
       "      <td>NaN</td>\n",
       "      <td>NaN</td>\n",
       "      <td>Первый заместитель Министра</td>\n",
       "      <td>С.Г. Обрывалин</td>\n",
       "      <td>NaN</td>\n",
       "      <td>NaN</td>\n",
       "      <td>NaN</td>\n",
       "      <td>2024-01-30T15:41:59+03:00</td>\n",
       "      <td>2024-02-05T14:17:27+03:00</td>\n",
       "    </tr>\n",
       "    <tr>\n",
       "      <th>1</th>\n",
       "      <td>Мама будет против</td>\n",
       "      <td>NaN</td>\n",
       "      <td>211004024</td>\n",
       "      <td>2024-01-30T12:00:00.000Z</td>\n",
       "      <td>2024-02-01T12:00:00.000Z</td>\n",
       "      <td>NaN</td>\n",
       "      <td>10003032</td>\n",
       "      <td>Комедия</td>\n",
       "      <td>Художественный</td>\n",
       "      <td>Видео</td>\n",
       "      <td>...</td>\n",
       "      <td>[]</td>\n",
       "      <td>NaN</td>\n",
       "      <td>NaN</td>\n",
       "      <td>Первый заместитель Министра</td>\n",
       "      <td>С.Г. Обрывалин</td>\n",
       "      <td>NaN</td>\n",
       "      <td>NaN</td>\n",
       "      <td>NaN</td>\n",
       "      <td>2024-01-30T15:42:13+03:00</td>\n",
       "      <td>2024-02-05T18:23:14+03:00</td>\n",
       "    </tr>\n",
       "    <tr>\n",
       "      <th>2</th>\n",
       "      <td>ДЕВЯТЬ С ПОЛОВИНОЙ НЕДЕЛЬ</td>\n",
       "      <td>9 1/2 WEEKS</td>\n",
       "      <td>221005424</td>\n",
       "      <td>2024-01-30T12:00:00.000Z</td>\n",
       "      <td>2024-02-02T12:00:00.000Z</td>\n",
       "      <td>NaN</td>\n",
       "      <td>10003203</td>\n",
       "      <td>NaN</td>\n",
       "      <td>Художественный</td>\n",
       "      <td>Видео</td>\n",
       "      <td>...</td>\n",
       "      <td>[]</td>\n",
       "      <td>NaN</td>\n",
       "      <td>NaN</td>\n",
       "      <td>Первый заместитель Министра</td>\n",
       "      <td>С.Г. Обрывалин</td>\n",
       "      <td>NaN</td>\n",
       "      <td>NaN</td>\n",
       "      <td>NaN</td>\n",
       "      <td>2024-01-30T16:08:51+03:00</td>\n",
       "      <td>2024-02-06T12:12:04+03:00</td>\n",
       "    </tr>\n",
       "    <tr>\n",
       "      <th>3</th>\n",
       "      <td>Как я встретил её маму</td>\n",
       "      <td>NaN</td>\n",
       "      <td>111001324</td>\n",
       "      <td>2024-01-30T12:00:00.000Z</td>\n",
       "      <td>NaN</td>\n",
       "      <td>NaN</td>\n",
       "      <td>10003265</td>\n",
       "      <td>NaN</td>\n",
       "      <td>Художественный</td>\n",
       "      <td>Кино</td>\n",
       "      <td>...</td>\n",
       "      <td>[{\"rightsCategoryUse\":{\"code\":\"01\",\"name\":\"Пок...</td>\n",
       "      <td>NaN</td>\n",
       "      <td>NaN</td>\n",
       "      <td>Первый заместитель Министра</td>\n",
       "      <td>С.Г. Обрывалин</td>\n",
       "      <td>NaN</td>\n",
       "      <td>NaN</td>\n",
       "      <td>NaN</td>\n",
       "      <td>2024-01-30T16:20:44+03:00</td>\n",
       "      <td>2024-03-26T14:41:20+03:00</td>\n",
       "    </tr>\n",
       "    <tr>\n",
       "      <th>4</th>\n",
       "      <td>Миссия в Москве</td>\n",
       "      <td>Mo Si Ke xing dong</td>\n",
       "      <td>121002924</td>\n",
       "      <td>2024-01-30T12:00:00.000Z</td>\n",
       "      <td>2024-02-08T12:00:00.000Z</td>\n",
       "      <td>NaN</td>\n",
       "      <td>10003499</td>\n",
       "      <td>NaN</td>\n",
       "      <td>Художественный</td>\n",
       "      <td>Кино</td>\n",
       "      <td>...</td>\n",
       "      <td>[]</td>\n",
       "      <td>NaN</td>\n",
       "      <td>NaN</td>\n",
       "      <td>Первый заместитель Министра</td>\n",
       "      <td>С.Г. Обрывалин</td>\n",
       "      <td>NaN</td>\n",
       "      <td>NaN</td>\n",
       "      <td>NaN</td>\n",
       "      <td>2024-01-30T18:10:00+03:00</td>\n",
       "      <td>2024-01-30T18:10:00+03:00</td>\n",
       "    </tr>\n",
       "  </tbody>\n",
       "</table>\n",
       "<p>5 rows × 48 columns</p>\n",
       "</div>"
      ],
      "text/plain": [
       "                       title       foreign_title certificate_number  \\\n",
       "0                     Рок’89                 NaN          211004124   \n",
       "1          Мама будет против                 NaN          211004024   \n",
       "2  ДЕВЯТЬ С ПОЛОВИНОЙ НЕДЕЛЬ         9 1/2 WEEKS          221005424   \n",
       "3     Как я встретил её маму                 NaN          111001324   \n",
       "4            Миссия в Москве  Mo Si Ke xing dong          121002924   \n",
       "\n",
       "  certificate_registration_date      screening_start_date note  registry_id  \\\n",
       "0      2024-01-30T12:00:00.000Z                       NaN  NaN     10003030   \n",
       "1      2024-01-30T12:00:00.000Z  2024-02-01T12:00:00.000Z  NaN     10003032   \n",
       "2      2024-01-30T12:00:00.000Z  2024-02-02T12:00:00.000Z  NaN     10003203   \n",
       "3      2024-01-30T12:00:00.000Z                       NaN  NaN     10003265   \n",
       "4      2024-01-30T12:00:00.000Z  2024-02-08T12:00:00.000Z  NaN     10003499   \n",
       "\n",
       "  synopsis        film_type category  ...  \\\n",
       "0      NaN   Художественный    Видео  ...   \n",
       "1  Комедия   Художественный    Видео  ...   \n",
       "2      NaN   Художественный    Видео  ...   \n",
       "3      NaN   Художественный     Кино  ...   \n",
       "4      NaN   Художественный     Кино  ...   \n",
       "\n",
       "                                                code rights_transferred  \\\n",
       "0                                                 []                NaN   \n",
       "1                                                 []                NaN   \n",
       "2                                                 []                NaN   \n",
       "3  [{\"rightsCategoryUse\":{\"code\":\"01\",\"name\":\"Пок...                NaN   \n",
       "4                                                 []                NaN   \n",
       "\n",
       "  reissue_number              signer_position     signer_name record_deleted  \\\n",
       "0            NaN  Первый заместитель Министра  С.Г. Обрывалин            NaN   \n",
       "1            NaN  Первый заместитель Министра  С.Г. Обрывалин            NaN   \n",
       "2            NaN  Первый заместитель Министра  С.Г. Обрывалин            NaN   \n",
       "3            NaN  Первый заместитель Министра  С.Г. Обрывалин            NaN   \n",
       "4            NaN  Первый заместитель Министра  С.Г. Обрывалин            NaN   \n",
       "\n",
       "   deletion_date hide_on_site                 created_at  \\\n",
       "0            NaN          NaN  2024-01-30T15:41:59+03:00   \n",
       "1            NaN          NaN  2024-01-30T15:42:13+03:00   \n",
       "2            NaN          NaN  2024-01-30T16:08:51+03:00   \n",
       "3            NaN          NaN  2024-01-30T16:20:44+03:00   \n",
       "4            NaN          NaN  2024-01-30T18:10:00+03:00   \n",
       "\n",
       "                  updated_at  \n",
       "0  2024-02-05T14:17:27+03:00  \n",
       "1  2024-02-05T18:23:14+03:00  \n",
       "2  2024-02-06T12:12:04+03:00  \n",
       "3  2024-03-26T14:41:20+03:00  \n",
       "4  2024-01-30T18:10:00+03:00  \n",
       "\n",
       "[5 rows x 48 columns]"
      ]
     },
     "execution_count": 5,
     "metadata": {},
     "output_type": "execute_result"
    }
   ],
   "source": [
    "# Define column renaming dictionary\n",
    "rename_map = {\n",
    "    'Название фильма': 'title',\n",
    "    'Hаименование на иностранном языке': 'foreign_title',\n",
    "    'Номер удостоверения': 'certificate_number',\n",
    "    'Дата регистрации удостоверения': 'certificate_registration_date',\n",
    "    'Дата начала показа фильма': 'screening_start_date',\n",
    "    'Примечание': 'note',\n",
    "    'Идентификатор записи реестра': 'registry_id',\n",
    "    'Аннотация': 'synopsis',\n",
    "    'Вид Фильма': 'film_type',\n",
    "    'Категория': 'category',\n",
    "    'Язык оригинала': 'original_language',\n",
    "    'Формат кадра': 'frame_format',\n",
    "    'Количество серий': 'number_of_episodes',\n",
    "    'Метраж (для фильмов на кинопленке)': 'film_length',\n",
    "    'Количество частей/рулонов (для фильмов на кинопленке)': 'number_of_reels',\n",
    "    'Цвет': 'color',\n",
    "    'Продолжительность демонстрации, часы': 'duration_hours',\n",
    "    'Продолжительность демонстрации, минуты': 'duration_minutes',\n",
    "    'Формат носителя': 'media_format',\n",
    "    'Объем носителя': 'media_volume',\n",
    "    'Единица измерения': 'volume_unit',\n",
    "    'Студия-производитель': 'production_studio',\n",
    "    'Страна производства': 'production_country',\n",
    "    'Год производства': 'production_year',\n",
    "    'Режиссер': 'director',\n",
    "    'Художник': 'art_director',\n",
    "    'Сценарист': 'screenwriter',\n",
    "    'Оператор': 'cinematographer',\n",
    "    'Композитор': 'composer',\n",
    "    'Продюсер': 'producer',\n",
    "    'Права на использование фильма': 'usage_rights',\n",
    "    'Категория прав на использование фильма': 'rights_category',\n",
    "    'Срок действия прав на использование фильма': 'rights_expiry_date',\n",
    "    'Срок действия прав на способ использования фильма': 'usage_method_expiry_date',\n",
    "    'Возрастная категория': 'age_rating',\n",
    "    'Возрастная категория.1': 'age_rating_2',\n",
    "    'Дубляж (где дублирован)': 'dubbing_location',\n",
    "    'Срок действия прав проката до': 'distribution_rights_expiry',\n",
    "    'Код': 'code',\n",
    "    'Права проката переданы': 'rights_transferred',\n",
    "    'Порядковый номер переоформления/продления': 'reissue_number',\n",
    "    'Должность подписанта': 'signer_position',\n",
    "    'ФИО подписанта': 'signer_name',\n",
    "    'Запись удалена': 'record_deleted',\n",
    "    'Дата удаления записи': 'deletion_date',\n",
    "    'Не показывать на сайте mkrf.ru': 'hide_on_site',\n",
    "    'дата создания объекта': 'created_at',\n",
    "    'дата обновления объекта': 'updated_at'\n",
    "}\n",
    "\n",
    "# change keys for values and values for keys for using in ddl\n",
    "cols_descriptions = {v: k for k, v in rename_map.items()}\n",
    "\n",
    "# save descriptions to file\n",
    "pd.DataFrame.from_dict(cols_descriptions, orient='index', columns=['col_description']).to_csv(f'{data_path}/column_descriptions.csv', encoding='utf-8')\n",
    "\n",
    "# Apply renaming\n",
    "new_data = raw_data.rename(columns=rename_map)\n",
    "# new_data.to_parquet(f'{data_path}/data-9-structure-4.parquet', index=False)\n",
    "new_data.head()"
   ]
  },
  {
   "cell_type": "markdown",
   "id": "683e8df2",
   "metadata": {},
   "source": [
    "## Data transformation"
   ]
  },
  {
   "cell_type": "code",
   "execution_count": null,
   "id": "a72d5fdf",
   "metadata": {},
   "outputs": [],
   "source": []
  },
  {
   "cell_type": "code",
   "execution_count": 45,
   "id": "1ec6684b",
   "metadata": {},
   "outputs": [
    {
     "data": {
      "text/plain": [
       "40064"
      ]
     },
     "execution_count": 45,
     "metadata": {},
     "output_type": "execute_result"
    }
   ],
   "source": [
    "# count values with non-digit characters in 'certificate_number'\n",
    "len(new_data['certificate_number']) - new_data['certificate_number'].str.isdigit().sum()"
   ]
  },
  {
   "cell_type": "code",
   "execution_count": null,
   "id": "34d06dfd",
   "metadata": {},
   "outputs": [],
   "source": [
    "foreign_title"
   ]
  },
  {
   "cell_type": "code",
   "execution_count": 60,
   "id": "4081c0c1",
   "metadata": {},
   "outputs": [],
   "source": [
    "def not_same_types(df: pd.DataFrame, col_name: str) -> pd.Series:\n",
    "    \"\"\"\n",
    "    Show dtypes in column col_name if they are not the same.\n",
    "    If all values have the same type, return an empty Series.\n",
    "    \"\"\"\n",
    "    col_types = df[col_name].apply(type).value_counts()\n",
    "    if len(col_types) > 1:\n",
    "        return col_types   "
   ]
  },
  {
   "cell_type": "code",
   "execution_count": 66,
   "id": "c151b56b",
   "metadata": {},
   "outputs": [],
   "source": [
    "not_same = {}\n",
    "for col in new_data.columns:\n",
    "    if not_same_types(new_data, col) is not None:\n",
    "        not_same[col] = not_same_types(new_data, col)"
   ]
  },
  {
   "cell_type": "code",
   "execution_count": 68,
   "id": "d7b56c04",
   "metadata": {},
   "outputs": [
    {
     "data": {
      "application/vnd.microsoft.datawrangler.viewer.v0+json": {
       "columns": [
        {
         "name": "index",
         "rawType": "object",
         "type": "string"
        },
        {
         "name": "<class 'float'>",
         "rawType": "int64",
         "type": "integer"
        },
        {
         "name": "<class 'str'>",
         "rawType": "int64",
         "type": "integer"
        },
        {
         "name": "<class 'int'>",
         "rawType": "float64",
         "type": "float"
        }
       ],
       "ref": "450bed5e-861c-49a4-be41-16b7b4e4eaa8",
       "rows": [
        [
         "foreign_title",
         "51954",
         "51894",
         null
        ],
        [
         "certificate_registration_date",
         "2",
         "103846",
         null
        ],
        [
         "screening_start_date",
         "3852",
         "99996",
         null
        ],
        [
         "note",
         "74609",
         "29239",
         null
        ],
        [
         "synopsis",
         "10990",
         "92858",
         null
        ],
        [
         "film_type",
         "5",
         "103843",
         null
        ],
        [
         "frame_format",
         "89606",
         "14242",
         null
        ],
        [
         "number_of_episodes",
         "98546",
         "5302",
         null
        ],
        [
         "film_length",
         "99008",
         "4840",
         null
        ],
        [
         "number_of_reels",
         "89698",
         "14150",
         null
        ],
        [
         "color",
         "21",
         "103827",
         null
        ],
        [
         "duration_minutes",
         "98311",
         "5537",
         null
        ],
        [
         "media_format",
         "85845",
         "18003",
         null
        ],
        [
         "media_volume",
         "95625",
         "8223",
         null
        ],
        [
         "volume_unit",
         "95709",
         "8139",
         null
        ],
        [
         "production_studio",
         "169",
         "103679",
         null
        ],
        [
         "production_country",
         "78",
         "103770",
         null
        ],
        [
         "production_year",
         "211",
         "103637",
         null
        ],
        [
         "director",
         "2617",
         "101231",
         null
        ],
        [
         "art_director",
         "61941",
         "41907",
         null
        ],
        [
         "screenwriter",
         "12131",
         "91717",
         null
        ],
        [
         "cinematographer",
         "43925",
         "59923",
         null
        ],
        [
         "composer",
         "36608",
         "67240",
         null
        ],
        [
         "producer",
         "36939",
         "66909",
         null
        ],
        [
         "usage_rights",
         "13",
         "103835",
         null
        ],
        [
         "rights_category",
         "6157",
         "97691",
         null
        ],
        [
         "rights_expiry_date",
         "103833",
         "15",
         null
        ],
        [
         "usage_method_expiry_date",
         "5643",
         "98205",
         null
        ],
        [
         "age_rating",
         "1",
         "103847",
         null
        ],
        [
         "age_rating_2",
         "2",
         "87462",
         "16384.0"
        ],
        [
         "dubbing_location",
         "103193",
         "655",
         null
        ],
        [
         "distribution_rights_expiry",
         "103777",
         "71",
         null
        ],
        [
         "rights_transferred",
         "103327",
         "521",
         null
        ],
        [
         "reissue_number",
         "103830",
         "18",
         null
        ],
        [
         "signer_position",
         "83849",
         "19999",
         null
        ],
        [
         "signer_name",
         "83850",
         "19998",
         null
        ],
        [
         "deletion_date",
         "103847",
         "1",
         null
        ]
       ],
       "shape": {
        "columns": 3,
        "rows": 37
       }
      },
      "text/html": [
       "<div>\n",
       "<style scoped>\n",
       "    .dataframe tbody tr th:only-of-type {\n",
       "        vertical-align: middle;\n",
       "    }\n",
       "\n",
       "    .dataframe tbody tr th {\n",
       "        vertical-align: top;\n",
       "    }\n",
       "\n",
       "    .dataframe thead th {\n",
       "        text-align: right;\n",
       "    }\n",
       "</style>\n",
       "<table border=\"1\" class=\"dataframe\">\n",
       "  <thead>\n",
       "    <tr style=\"text-align: right;\">\n",
       "      <th></th>\n",
       "      <th>&lt;class 'float'&gt;</th>\n",
       "      <th>&lt;class 'str'&gt;</th>\n",
       "      <th>&lt;class 'int'&gt;</th>\n",
       "    </tr>\n",
       "  </thead>\n",
       "  <tbody>\n",
       "    <tr>\n",
       "      <th>foreign_title</th>\n",
       "      <td>51954</td>\n",
       "      <td>51894</td>\n",
       "      <td>NaN</td>\n",
       "    </tr>\n",
       "    <tr>\n",
       "      <th>certificate_registration_date</th>\n",
       "      <td>2</td>\n",
       "      <td>103846</td>\n",
       "      <td>NaN</td>\n",
       "    </tr>\n",
       "    <tr>\n",
       "      <th>screening_start_date</th>\n",
       "      <td>3852</td>\n",
       "      <td>99996</td>\n",
       "      <td>NaN</td>\n",
       "    </tr>\n",
       "    <tr>\n",
       "      <th>note</th>\n",
       "      <td>74609</td>\n",
       "      <td>29239</td>\n",
       "      <td>NaN</td>\n",
       "    </tr>\n",
       "    <tr>\n",
       "      <th>synopsis</th>\n",
       "      <td>10990</td>\n",
       "      <td>92858</td>\n",
       "      <td>NaN</td>\n",
       "    </tr>\n",
       "    <tr>\n",
       "      <th>film_type</th>\n",
       "      <td>5</td>\n",
       "      <td>103843</td>\n",
       "      <td>NaN</td>\n",
       "    </tr>\n",
       "    <tr>\n",
       "      <th>frame_format</th>\n",
       "      <td>89606</td>\n",
       "      <td>14242</td>\n",
       "      <td>NaN</td>\n",
       "    </tr>\n",
       "    <tr>\n",
       "      <th>number_of_episodes</th>\n",
       "      <td>98546</td>\n",
       "      <td>5302</td>\n",
       "      <td>NaN</td>\n",
       "    </tr>\n",
       "    <tr>\n",
       "      <th>film_length</th>\n",
       "      <td>99008</td>\n",
       "      <td>4840</td>\n",
       "      <td>NaN</td>\n",
       "    </tr>\n",
       "    <tr>\n",
       "      <th>number_of_reels</th>\n",
       "      <td>89698</td>\n",
       "      <td>14150</td>\n",
       "      <td>NaN</td>\n",
       "    </tr>\n",
       "    <tr>\n",
       "      <th>color</th>\n",
       "      <td>21</td>\n",
       "      <td>103827</td>\n",
       "      <td>NaN</td>\n",
       "    </tr>\n",
       "    <tr>\n",
       "      <th>duration_minutes</th>\n",
       "      <td>98311</td>\n",
       "      <td>5537</td>\n",
       "      <td>NaN</td>\n",
       "    </tr>\n",
       "    <tr>\n",
       "      <th>media_format</th>\n",
       "      <td>85845</td>\n",
       "      <td>18003</td>\n",
       "      <td>NaN</td>\n",
       "    </tr>\n",
       "    <tr>\n",
       "      <th>media_volume</th>\n",
       "      <td>95625</td>\n",
       "      <td>8223</td>\n",
       "      <td>NaN</td>\n",
       "    </tr>\n",
       "    <tr>\n",
       "      <th>volume_unit</th>\n",
       "      <td>95709</td>\n",
       "      <td>8139</td>\n",
       "      <td>NaN</td>\n",
       "    </tr>\n",
       "    <tr>\n",
       "      <th>production_studio</th>\n",
       "      <td>169</td>\n",
       "      <td>103679</td>\n",
       "      <td>NaN</td>\n",
       "    </tr>\n",
       "    <tr>\n",
       "      <th>production_country</th>\n",
       "      <td>78</td>\n",
       "      <td>103770</td>\n",
       "      <td>NaN</td>\n",
       "    </tr>\n",
       "    <tr>\n",
       "      <th>production_year</th>\n",
       "      <td>211</td>\n",
       "      <td>103637</td>\n",
       "      <td>NaN</td>\n",
       "    </tr>\n",
       "    <tr>\n",
       "      <th>director</th>\n",
       "      <td>2617</td>\n",
       "      <td>101231</td>\n",
       "      <td>NaN</td>\n",
       "    </tr>\n",
       "    <tr>\n",
       "      <th>art_director</th>\n",
       "      <td>61941</td>\n",
       "      <td>41907</td>\n",
       "      <td>NaN</td>\n",
       "    </tr>\n",
       "    <tr>\n",
       "      <th>screenwriter</th>\n",
       "      <td>12131</td>\n",
       "      <td>91717</td>\n",
       "      <td>NaN</td>\n",
       "    </tr>\n",
       "    <tr>\n",
       "      <th>cinematographer</th>\n",
       "      <td>43925</td>\n",
       "      <td>59923</td>\n",
       "      <td>NaN</td>\n",
       "    </tr>\n",
       "    <tr>\n",
       "      <th>composer</th>\n",
       "      <td>36608</td>\n",
       "      <td>67240</td>\n",
       "      <td>NaN</td>\n",
       "    </tr>\n",
       "    <tr>\n",
       "      <th>producer</th>\n",
       "      <td>36939</td>\n",
       "      <td>66909</td>\n",
       "      <td>NaN</td>\n",
       "    </tr>\n",
       "    <tr>\n",
       "      <th>usage_rights</th>\n",
       "      <td>13</td>\n",
       "      <td>103835</td>\n",
       "      <td>NaN</td>\n",
       "    </tr>\n",
       "    <tr>\n",
       "      <th>rights_category</th>\n",
       "      <td>6157</td>\n",
       "      <td>97691</td>\n",
       "      <td>NaN</td>\n",
       "    </tr>\n",
       "    <tr>\n",
       "      <th>rights_expiry_date</th>\n",
       "      <td>103833</td>\n",
       "      <td>15</td>\n",
       "      <td>NaN</td>\n",
       "    </tr>\n",
       "    <tr>\n",
       "      <th>usage_method_expiry_date</th>\n",
       "      <td>5643</td>\n",
       "      <td>98205</td>\n",
       "      <td>NaN</td>\n",
       "    </tr>\n",
       "    <tr>\n",
       "      <th>age_rating</th>\n",
       "      <td>1</td>\n",
       "      <td>103847</td>\n",
       "      <td>NaN</td>\n",
       "    </tr>\n",
       "    <tr>\n",
       "      <th>age_rating_2</th>\n",
       "      <td>2</td>\n",
       "      <td>87462</td>\n",
       "      <td>16384.0</td>\n",
       "    </tr>\n",
       "    <tr>\n",
       "      <th>dubbing_location</th>\n",
       "      <td>103193</td>\n",
       "      <td>655</td>\n",
       "      <td>NaN</td>\n",
       "    </tr>\n",
       "    <tr>\n",
       "      <th>distribution_rights_expiry</th>\n",
       "      <td>103777</td>\n",
       "      <td>71</td>\n",
       "      <td>NaN</td>\n",
       "    </tr>\n",
       "    <tr>\n",
       "      <th>rights_transferred</th>\n",
       "      <td>103327</td>\n",
       "      <td>521</td>\n",
       "      <td>NaN</td>\n",
       "    </tr>\n",
       "    <tr>\n",
       "      <th>reissue_number</th>\n",
       "      <td>103830</td>\n",
       "      <td>18</td>\n",
       "      <td>NaN</td>\n",
       "    </tr>\n",
       "    <tr>\n",
       "      <th>signer_position</th>\n",
       "      <td>83849</td>\n",
       "      <td>19999</td>\n",
       "      <td>NaN</td>\n",
       "    </tr>\n",
       "    <tr>\n",
       "      <th>signer_name</th>\n",
       "      <td>83850</td>\n",
       "      <td>19998</td>\n",
       "      <td>NaN</td>\n",
       "    </tr>\n",
       "    <tr>\n",
       "      <th>deletion_date</th>\n",
       "      <td>103847</td>\n",
       "      <td>1</td>\n",
       "      <td>NaN</td>\n",
       "    </tr>\n",
       "  </tbody>\n",
       "</table>\n",
       "</div>"
      ],
      "text/plain": [
       "                               <class 'float'>  <class 'str'>  <class 'int'>\n",
       "foreign_title                            51954          51894            NaN\n",
       "certificate_registration_date                2         103846            NaN\n",
       "screening_start_date                      3852          99996            NaN\n",
       "note                                     74609          29239            NaN\n",
       "synopsis                                 10990          92858            NaN\n",
       "film_type                                    5         103843            NaN\n",
       "frame_format                             89606          14242            NaN\n",
       "number_of_episodes                       98546           5302            NaN\n",
       "film_length                              99008           4840            NaN\n",
       "number_of_reels                          89698          14150            NaN\n",
       "color                                       21         103827            NaN\n",
       "duration_minutes                         98311           5537            NaN\n",
       "media_format                             85845          18003            NaN\n",
       "media_volume                             95625           8223            NaN\n",
       "volume_unit                              95709           8139            NaN\n",
       "production_studio                          169         103679            NaN\n",
       "production_country                          78         103770            NaN\n",
       "production_year                            211         103637            NaN\n",
       "director                                  2617         101231            NaN\n",
       "art_director                             61941          41907            NaN\n",
       "screenwriter                             12131          91717            NaN\n",
       "cinematographer                          43925          59923            NaN\n",
       "composer                                 36608          67240            NaN\n",
       "producer                                 36939          66909            NaN\n",
       "usage_rights                                13         103835            NaN\n",
       "rights_category                           6157          97691            NaN\n",
       "rights_expiry_date                      103833             15            NaN\n",
       "usage_method_expiry_date                  5643          98205            NaN\n",
       "age_rating                                   1         103847            NaN\n",
       "age_rating_2                                 2          87462        16384.0\n",
       "dubbing_location                        103193            655            NaN\n",
       "distribution_rights_expiry              103777             71            NaN\n",
       "rights_transferred                      103327            521            NaN\n",
       "reissue_number                          103830             18            NaN\n",
       "signer_position                          83849          19999            NaN\n",
       "signer_name                              83850          19998            NaN\n",
       "deletion_date                           103847              1            NaN"
      ]
     },
     "execution_count": 68,
     "metadata": {},
     "output_type": "execute_result"
    }
   ],
   "source": [
    "pd.DataFrame.from_dict(not_same, orient='index')"
   ]
  },
  {
   "cell_type": "code",
   "execution_count": 57,
   "id": "75e29214",
   "metadata": {},
   "outputs": [],
   "source": [
    "# find dtypes in column 'certificate_number'\n",
    "not_same_types(new_data, 'certificate_number')"
   ]
  },
  {
   "cell_type": "code",
   "execution_count": 47,
   "id": "5c60eac5",
   "metadata": {},
   "outputs": [
    {
     "data": {
      "text/plain": [
       "<bound method Series.sort_values of 12346           нет\n",
       "21273    121012208А\n",
       "22050    221113209_\n",
       "29656    2210-45210\n",
       "31425     213-11610\n",
       "            ...    \n",
       "88468    221123801Д\n",
       "88489    221008000Д\n",
       "88564    221050601Д\n",
       "88565    221098103Д\n",
       "88566    221104600Д\n",
       "Name: certificate_number, Length: 1752, dtype: object>"
      ]
     },
     "execution_count": 47,
     "metadata": {},
     "output_type": "execute_result"
    }
   ],
   "source": [
    "# find spaces in 'certificate_number' and replace them with empty string\n",
    "new_data['certificate_number'] = new_data['certificate_number'].str.replace(' ', '')\n",
    "new_data.query('certificate_number.str.isdigit() == False')['certificate_number'].sort_values\n"
   ]
  },
  {
   "cell_type": "code",
   "execution_count": 48,
   "id": "d37cba08",
   "metadata": {},
   "outputs": [],
   "source": [
    "# convert 'certificate_number' to string\n",
    "new_data['certificate_number'] = new_data['certificate_number'].astype(str)\n"
   ]
  },
  {
   "cell_type": "code",
   "execution_count": 49,
   "id": "52a9a973",
   "metadata": {},
   "outputs": [
    {
     "data": {
      "text/plain": [
       "dtype('O')"
      ]
     },
     "execution_count": 49,
     "metadata": {},
     "output_type": "execute_result"
    }
   ],
   "source": [
    "# show dtype of 'certificate_number'\n",
    "new_data['certificate_number'].dtype"
   ]
  },
  {
   "cell_type": "code",
   "execution_count": 52,
   "id": "0c9c00f3",
   "metadata": {},
   "outputs": [
    {
     "data": {
      "application/vnd.microsoft.datawrangler.viewer.v0+json": {
       "columns": [
        {
         "name": "number_of_episodes",
         "rawType": "object",
         "type": "unknown"
        },
        {
         "name": "count",
         "rawType": "int64",
         "type": "integer"
        }
       ],
       "ref": "fd78f39d-0937-47fd-80b7-5159629dc894",
       "rows": [
        [
         "<class 'float'>",
         "98546"
        ],
        [
         "<class 'str'>",
         "5302"
        ]
       ],
       "shape": {
        "columns": 1,
        "rows": 2
       }
      },
      "text/plain": [
       "number_of_episodes\n",
       "<class 'float'>    98546\n",
       "<class 'str'>       5302\n",
       "Name: count, dtype: int64"
      ]
     },
     "execution_count": 52,
     "metadata": {},
     "output_type": "execute_result"
    }
   ],
   "source": [
    "new_data['number_of_episodes'].apply(type).value_counts()"
   ]
  },
  {
   "cell_type": "code",
   "execution_count": 50,
   "id": "13d4a6d5",
   "metadata": {},
   "outputs": [
    {
     "ename": "ArrowInvalid",
     "evalue": "(\"Could not convert '1' with type str: tried to convert to double\", 'Conversion failed for column number_of_episodes with type object')",
     "output_type": "error",
     "traceback": [
      "\u001b[31m---------------------------------------------------------------------------\u001b[39m",
      "\u001b[31mArrowInvalid\u001b[39m                              Traceback (most recent call last)",
      "\u001b[36mCell\u001b[39m\u001b[36m \u001b[39m\u001b[32mIn[50]\u001b[39m\u001b[32m, line 1\u001b[39m\n\u001b[32m----> \u001b[39m\u001b[32m1\u001b[39m new_data.to_parquet(\u001b[33mf\u001b[39m\u001b[33m'\u001b[39m\u001b[38;5;132;01m{\u001b[39;00mdata_path\u001b[38;5;132;01m}\u001b[39;00m\u001b[33m/data-9-structure-4.parquet\u001b[39m\u001b[33m'\u001b[39m, index=\u001b[38;5;28;01mFalse\u001b[39;00m)\n",
      "\u001b[36mFile \u001b[39m\u001b[32mc:\\Users\\pmz\\anaconda3\\envs\\de\\Lib\\site-packages\\pandas\\util\\_decorators.py:333\u001b[39m, in \u001b[36mdeprecate_nonkeyword_arguments.<locals>.decorate.<locals>.wrapper\u001b[39m\u001b[34m(*args, **kwargs)\u001b[39m\n\u001b[32m    327\u001b[39m \u001b[38;5;28;01mif\u001b[39;00m \u001b[38;5;28mlen\u001b[39m(args) > num_allow_args:\n\u001b[32m    328\u001b[39m     warnings.warn(\n\u001b[32m    329\u001b[39m         msg.format(arguments=_format_argument_list(allow_args)),\n\u001b[32m    330\u001b[39m         \u001b[38;5;167;01mFutureWarning\u001b[39;00m,\n\u001b[32m    331\u001b[39m         stacklevel=find_stack_level(),\n\u001b[32m    332\u001b[39m     )\n\u001b[32m--> \u001b[39m\u001b[32m333\u001b[39m \u001b[38;5;28;01mreturn\u001b[39;00m func(*args, **kwargs)\n",
      "\u001b[36mFile \u001b[39m\u001b[32mc:\\Users\\pmz\\anaconda3\\envs\\de\\Lib\\site-packages\\pandas\\core\\frame.py:3113\u001b[39m, in \u001b[36mDataFrame.to_parquet\u001b[39m\u001b[34m(self, path, engine, compression, index, partition_cols, storage_options, **kwargs)\u001b[39m\n\u001b[32m   3032\u001b[39m \u001b[38;5;250m\u001b[39m\u001b[33;03m\"\"\"\u001b[39;00m\n\u001b[32m   3033\u001b[39m \u001b[33;03mWrite a DataFrame to the binary parquet format.\u001b[39;00m\n\u001b[32m   3034\u001b[39m \n\u001b[32m   (...)\u001b[39m\u001b[32m   3109\u001b[39m \u001b[33;03m>>> content = f.read()\u001b[39;00m\n\u001b[32m   3110\u001b[39m \u001b[33;03m\"\"\"\u001b[39;00m\n\u001b[32m   3111\u001b[39m \u001b[38;5;28;01mfrom\u001b[39;00m\u001b[38;5;250m \u001b[39m\u001b[34;01mpandas\u001b[39;00m\u001b[34;01m.\u001b[39;00m\u001b[34;01mio\u001b[39;00m\u001b[34;01m.\u001b[39;00m\u001b[34;01mparquet\u001b[39;00m\u001b[38;5;250m \u001b[39m\u001b[38;5;28;01mimport\u001b[39;00m to_parquet\n\u001b[32m-> \u001b[39m\u001b[32m3113\u001b[39m \u001b[38;5;28;01mreturn\u001b[39;00m to_parquet(\n\u001b[32m   3114\u001b[39m     \u001b[38;5;28mself\u001b[39m,\n\u001b[32m   3115\u001b[39m     path,\n\u001b[32m   3116\u001b[39m     engine,\n\u001b[32m   3117\u001b[39m     compression=compression,\n\u001b[32m   3118\u001b[39m     index=index,\n\u001b[32m   3119\u001b[39m     partition_cols=partition_cols,\n\u001b[32m   3120\u001b[39m     storage_options=storage_options,\n\u001b[32m   3121\u001b[39m     **kwargs,\n\u001b[32m   3122\u001b[39m )\n",
      "\u001b[36mFile \u001b[39m\u001b[32mc:\\Users\\pmz\\anaconda3\\envs\\de\\Lib\\site-packages\\pandas\\io\\parquet.py:480\u001b[39m, in \u001b[36mto_parquet\u001b[39m\u001b[34m(df, path, engine, compression, index, storage_options, partition_cols, filesystem, **kwargs)\u001b[39m\n\u001b[32m    476\u001b[39m impl = get_engine(engine)\n\u001b[32m    478\u001b[39m path_or_buf: FilePath | WriteBuffer[\u001b[38;5;28mbytes\u001b[39m] = io.BytesIO() \u001b[38;5;28;01mif\u001b[39;00m path \u001b[38;5;129;01mis\u001b[39;00m \u001b[38;5;28;01mNone\u001b[39;00m \u001b[38;5;28;01melse\u001b[39;00m path\n\u001b[32m--> \u001b[39m\u001b[32m480\u001b[39m impl.write(\n\u001b[32m    481\u001b[39m     df,\n\u001b[32m    482\u001b[39m     path_or_buf,\n\u001b[32m    483\u001b[39m     compression=compression,\n\u001b[32m    484\u001b[39m     index=index,\n\u001b[32m    485\u001b[39m     partition_cols=partition_cols,\n\u001b[32m    486\u001b[39m     storage_options=storage_options,\n\u001b[32m    487\u001b[39m     filesystem=filesystem,\n\u001b[32m    488\u001b[39m     **kwargs,\n\u001b[32m    489\u001b[39m )\n\u001b[32m    491\u001b[39m \u001b[38;5;28;01mif\u001b[39;00m path \u001b[38;5;129;01mis\u001b[39;00m \u001b[38;5;28;01mNone\u001b[39;00m:\n\u001b[32m    492\u001b[39m     \u001b[38;5;28;01massert\u001b[39;00m \u001b[38;5;28misinstance\u001b[39m(path_or_buf, io.BytesIO)\n",
      "\u001b[36mFile \u001b[39m\u001b[32mc:\\Users\\pmz\\anaconda3\\envs\\de\\Lib\\site-packages\\pandas\\io\\parquet.py:190\u001b[39m, in \u001b[36mPyArrowImpl.write\u001b[39m\u001b[34m(self, df, path, compression, index, storage_options, partition_cols, filesystem, **kwargs)\u001b[39m\n\u001b[32m    187\u001b[39m \u001b[38;5;28;01mif\u001b[39;00m index \u001b[38;5;129;01mis\u001b[39;00m \u001b[38;5;129;01mnot\u001b[39;00m \u001b[38;5;28;01mNone\u001b[39;00m:\n\u001b[32m    188\u001b[39m     from_pandas_kwargs[\u001b[33m\"\u001b[39m\u001b[33mpreserve_index\u001b[39m\u001b[33m\"\u001b[39m] = index\n\u001b[32m--> \u001b[39m\u001b[32m190\u001b[39m table = \u001b[38;5;28mself\u001b[39m.api.Table.from_pandas(df, **from_pandas_kwargs)\n\u001b[32m    192\u001b[39m \u001b[38;5;28;01mif\u001b[39;00m df.attrs:\n\u001b[32m    193\u001b[39m     df_metadata = {\u001b[33m\"\u001b[39m\u001b[33mPANDAS_ATTRS\u001b[39m\u001b[33m\"\u001b[39m: json.dumps(df.attrs)}\n",
      "\u001b[36mFile \u001b[39m\u001b[32mc:\\Users\\pmz\\anaconda3\\envs\\de\\Lib\\site-packages\\pyarrow\\table.pxi:4793\u001b[39m, in \u001b[36mpyarrow.lib.Table.from_pandas\u001b[39m\u001b[34m()\u001b[39m\n",
      "\u001b[36mFile \u001b[39m\u001b[32mc:\\Users\\pmz\\anaconda3\\envs\\de\\Lib\\site-packages\\pyarrow\\pandas_compat.py:652\u001b[39m, in \u001b[36mdataframe_to_arrays\u001b[39m\u001b[34m(df, schema, preserve_index, nthreads, columns, safe)\u001b[39m\n\u001b[32m    650\u001b[39m     \u001b[38;5;28;01mfor\u001b[39;00m i, maybe_fut \u001b[38;5;129;01min\u001b[39;00m \u001b[38;5;28menumerate\u001b[39m(arrays):\n\u001b[32m    651\u001b[39m         \u001b[38;5;28;01mif\u001b[39;00m \u001b[38;5;28misinstance\u001b[39m(maybe_fut, futures.Future):\n\u001b[32m--> \u001b[39m\u001b[32m652\u001b[39m             arrays[i] = maybe_fut.result()\n\u001b[32m    654\u001b[39m types = [x.type \u001b[38;5;28;01mfor\u001b[39;00m x \u001b[38;5;129;01min\u001b[39;00m arrays]\n\u001b[32m    656\u001b[39m \u001b[38;5;28;01mif\u001b[39;00m schema \u001b[38;5;129;01mis\u001b[39;00m \u001b[38;5;28;01mNone\u001b[39;00m:\n",
      "\u001b[36mFile \u001b[39m\u001b[32mc:\\Users\\pmz\\anaconda3\\envs\\de\\Lib\\concurrent\\futures\\_base.py:449\u001b[39m, in \u001b[36mFuture.result\u001b[39m\u001b[34m(self, timeout)\u001b[39m\n\u001b[32m    447\u001b[39m     \u001b[38;5;28;01mraise\u001b[39;00m CancelledError()\n\u001b[32m    448\u001b[39m \u001b[38;5;28;01melif\u001b[39;00m \u001b[38;5;28mself\u001b[39m._state == FINISHED:\n\u001b[32m--> \u001b[39m\u001b[32m449\u001b[39m     \u001b[38;5;28;01mreturn\u001b[39;00m \u001b[38;5;28mself\u001b[39m.__get_result()\n\u001b[32m    451\u001b[39m \u001b[38;5;28mself\u001b[39m._condition.wait(timeout)\n\u001b[32m    453\u001b[39m \u001b[38;5;28;01mif\u001b[39;00m \u001b[38;5;28mself\u001b[39m._state \u001b[38;5;129;01min\u001b[39;00m [CANCELLED, CANCELLED_AND_NOTIFIED]:\n",
      "\u001b[36mFile \u001b[39m\u001b[32mc:\\Users\\pmz\\anaconda3\\envs\\de\\Lib\\concurrent\\futures\\_base.py:401\u001b[39m, in \u001b[36mFuture.__get_result\u001b[39m\u001b[34m(self)\u001b[39m\n\u001b[32m    399\u001b[39m \u001b[38;5;28;01mif\u001b[39;00m \u001b[38;5;28mself\u001b[39m._exception:\n\u001b[32m    400\u001b[39m     \u001b[38;5;28;01mtry\u001b[39;00m:\n\u001b[32m--> \u001b[39m\u001b[32m401\u001b[39m         \u001b[38;5;28;01mraise\u001b[39;00m \u001b[38;5;28mself\u001b[39m._exception\n\u001b[32m    402\u001b[39m     \u001b[38;5;28;01mfinally\u001b[39;00m:\n\u001b[32m    403\u001b[39m         \u001b[38;5;66;03m# Break a reference cycle with the exception in self._exception\u001b[39;00m\n\u001b[32m    404\u001b[39m         \u001b[38;5;28mself\u001b[39m = \u001b[38;5;28;01mNone\u001b[39;00m\n",
      "\u001b[36mFile \u001b[39m\u001b[32mc:\\Users\\pmz\\anaconda3\\envs\\de\\Lib\\concurrent\\futures\\thread.py:59\u001b[39m, in \u001b[36m_WorkItem.run\u001b[39m\u001b[34m(self)\u001b[39m\n\u001b[32m     56\u001b[39m     \u001b[38;5;28;01mreturn\u001b[39;00m\n\u001b[32m     58\u001b[39m \u001b[38;5;28;01mtry\u001b[39;00m:\n\u001b[32m---> \u001b[39m\u001b[32m59\u001b[39m     result = \u001b[38;5;28mself\u001b[39m.fn(*\u001b[38;5;28mself\u001b[39m.args, **\u001b[38;5;28mself\u001b[39m.kwargs)\n\u001b[32m     60\u001b[39m \u001b[38;5;28;01mexcept\u001b[39;00m \u001b[38;5;167;01mBaseException\u001b[39;00m \u001b[38;5;28;01mas\u001b[39;00m exc:\n\u001b[32m     61\u001b[39m     \u001b[38;5;28mself\u001b[39m.future.set_exception(exc)\n",
      "\u001b[36mFile \u001b[39m\u001b[32mc:\\Users\\pmz\\anaconda3\\envs\\de\\Lib\\site-packages\\pyarrow\\pandas_compat.py:626\u001b[39m, in \u001b[36mdataframe_to_arrays.<locals>.convert_column\u001b[39m\u001b[34m(col, field)\u001b[39m\n\u001b[32m    621\u001b[39m \u001b[38;5;28;01mexcept\u001b[39;00m (pa.ArrowInvalid,\n\u001b[32m    622\u001b[39m         pa.ArrowNotImplementedError,\n\u001b[32m    623\u001b[39m         pa.ArrowTypeError) \u001b[38;5;28;01mas\u001b[39;00m e:\n\u001b[32m    624\u001b[39m     e.args += (\u001b[33m\"\u001b[39m\u001b[33mConversion failed for column \u001b[39m\u001b[38;5;132;01m{!s}\u001b[39;00m\u001b[33m with type \u001b[39m\u001b[38;5;132;01m{!s}\u001b[39;00m\u001b[33m\"\u001b[39m\n\u001b[32m    625\u001b[39m                .format(col.name, col.dtype),)\n\u001b[32m--> \u001b[39m\u001b[32m626\u001b[39m     \u001b[38;5;28;01mraise\u001b[39;00m e\n\u001b[32m    627\u001b[39m \u001b[38;5;28;01mif\u001b[39;00m \u001b[38;5;129;01mnot\u001b[39;00m field_nullable \u001b[38;5;129;01mand\u001b[39;00m result.null_count > \u001b[32m0\u001b[39m:\n\u001b[32m    628\u001b[39m     \u001b[38;5;28;01mraise\u001b[39;00m \u001b[38;5;167;01mValueError\u001b[39;00m(\u001b[33m\"\u001b[39m\u001b[33mField \u001b[39m\u001b[38;5;132;01m{}\u001b[39;00m\u001b[33m was non-nullable but pandas column \u001b[39m\u001b[33m\"\u001b[39m\n\u001b[32m    629\u001b[39m                      \u001b[33m\"\u001b[39m\u001b[33mhad \u001b[39m\u001b[38;5;132;01m{}\u001b[39;00m\u001b[33m null values\u001b[39m\u001b[33m\"\u001b[39m.format(\u001b[38;5;28mstr\u001b[39m(field),\n\u001b[32m    630\u001b[39m                                                  result.null_count))\n",
      "\u001b[36mFile \u001b[39m\u001b[32mc:\\Users\\pmz\\anaconda3\\envs\\de\\Lib\\site-packages\\pyarrow\\pandas_compat.py:620\u001b[39m, in \u001b[36mdataframe_to_arrays.<locals>.convert_column\u001b[39m\u001b[34m(col, field)\u001b[39m\n\u001b[32m    617\u001b[39m     type_ = field.type\n\u001b[32m    619\u001b[39m \u001b[38;5;28;01mtry\u001b[39;00m:\n\u001b[32m--> \u001b[39m\u001b[32m620\u001b[39m     result = pa.array(col, \u001b[38;5;28mtype\u001b[39m=type_, from_pandas=\u001b[38;5;28;01mTrue\u001b[39;00m, safe=safe)\n\u001b[32m    621\u001b[39m \u001b[38;5;28;01mexcept\u001b[39;00m (pa.ArrowInvalid,\n\u001b[32m    622\u001b[39m         pa.ArrowNotImplementedError,\n\u001b[32m    623\u001b[39m         pa.ArrowTypeError) \u001b[38;5;28;01mas\u001b[39;00m e:\n\u001b[32m    624\u001b[39m     e.args += (\u001b[33m\"\u001b[39m\u001b[33mConversion failed for column \u001b[39m\u001b[38;5;132;01m{!s}\u001b[39;00m\u001b[33m with type \u001b[39m\u001b[38;5;132;01m{!s}\u001b[39;00m\u001b[33m\"\u001b[39m\n\u001b[32m    625\u001b[39m                .format(col.name, col.dtype),)\n",
      "\u001b[36mFile \u001b[39m\u001b[32mc:\\Users\\pmz\\anaconda3\\envs\\de\\Lib\\site-packages\\pyarrow\\array.pxi:365\u001b[39m, in \u001b[36mpyarrow.lib.array\u001b[39m\u001b[34m()\u001b[39m\n",
      "\u001b[36mFile \u001b[39m\u001b[32mc:\\Users\\pmz\\anaconda3\\envs\\de\\Lib\\site-packages\\pyarrow\\array.pxi:90\u001b[39m, in \u001b[36mpyarrow.lib._ndarray_to_array\u001b[39m\u001b[34m()\u001b[39m\n",
      "\u001b[36mFile \u001b[39m\u001b[32mc:\\Users\\pmz\\anaconda3\\envs\\de\\Lib\\site-packages\\pyarrow\\error.pxi:92\u001b[39m, in \u001b[36mpyarrow.lib.check_status\u001b[39m\u001b[34m()\u001b[39m\n",
      "\u001b[31mArrowInvalid\u001b[39m: (\"Could not convert '1' with type str: tried to convert to double\", 'Conversion failed for column number_of_episodes with type object')"
     ]
    }
   ],
   "source": [
    "new_data.to_parquet(f'{data_path}/data-9-structure-4.parquet', index=False)"
   ]
  },
  {
   "cell_type": "code",
   "execution_count": 6,
   "id": "fe39d7a6",
   "metadata": {},
   "outputs": [
    {
     "name": "stdout",
     "output_type": "stream",
     "text": [
      "Table 'employees' created\n",
      "Data inserted into 'employees' table\n"
     ]
    }
   ],
   "source": [
    "# Создание курсора\n",
    "conn = conn_pg()\n",
    "\n",
    "cur = conn.cursor()\n",
    "\n",
    "# Создание таблицы\n",
    "cur.execute('''\n",
    "CREATE TABLE IF NOT EXISTS employees (\n",
    "    id SERIAL PRIMARY KEY,\n",
    "    name VARCHAR(100),\n",
    "    position VARCHAR(100),\n",
    "    salary NUMERIC\n",
    ");\n",
    "''')\n",
    "print(\"Table 'employees' created\")\n",
    "\n",
    "# Вставка данных в таблицу\n",
    "cur.execute('''\n",
    "INSERT INTO employees (name, position, salary)\n",
    "VALUES ('Alice', 'Manager', 70000),\n",
    "        ('Bob', 'Developer', 60000),\n",
    "        ('Charlie', 'Designer', 50000);\n",
    "''')\n",
    "print(\"Data inserted into 'employees' table\")\n",
    "\n",
    "# Сохранение изменений\n",
    "conn.commit()\n"
   ]
  },
  {
   "cell_type": "code",
   "execution_count": 7,
   "id": "a07270d0",
   "metadata": {},
   "outputs": [],
   "source": [
    "# Закрытие курсора и соединения\n",
    "conn_pg_close(conn)"
   ]
  },
  {
   "cell_type": "code",
   "execution_count": 9,
   "id": "53a38892",
   "metadata": {},
   "outputs": [
    {
     "name": "stdout",
     "output_type": "stream",
     "text": [
      "Table 'employees' created in ClickHouse\n"
     ]
    }
   ],
   "source": [
    "try:\n",
    "    # Создание таблицы\n",
    "    client.command('''\n",
    "    CREATE TABLE IF NOT EXISTS dbch.employees (\n",
    "        id UInt32,\n",
    "        name String,\n",
    "        position String,\n",
    "        salary Float32\n",
    "    ) ENGINE = MergeTree()\n",
    "    ORDER BY id;\n",
    "    ''')\n",
    "    print(\"Table 'employees' created in ClickHouse\")\n",
    "\n",
    "except Exception as e:\n",
    "    print(f\"Error connecting to ClickHouse: {e}\")\n"
   ]
  },
  {
   "cell_type": "code",
   "execution_count": 15,
   "id": "87fc3458",
   "metadata": {},
   "outputs": [
    {
     "data": {
      "text/plain": [
       "<clickhouse_connect.driver.query.QueryResult at 0x25cb2336810>"
      ]
     },
     "execution_count": 15,
     "metadata": {},
     "output_type": "execute_result"
    }
   ],
   "source": [
    "client.query('select * from dbch.employees')"
   ]
  },
  {
   "cell_type": "code",
   "execution_count": 16,
   "id": "c587c9de",
   "metadata": {},
   "outputs": [],
   "source": [
    "# # Correct way to insert rows\n",
    "# data = [\n",
    "#     (1, 'Alice', 'Manager', 70000.0),\n",
    "#     (2, 'Bob', 'Developer', 60000.0),\n",
    "#     (3, 'Charlie', 'Designer', 50000.0)\n",
    "# ]\n",
    "\n",
    "# client.insert('dbch.employees', data, column_names=['id', 'name', 'position', 'salary'])"
   ]
  },
  {
   "cell_type": "code",
   "execution_count": null,
   "id": "5d668bfa",
   "metadata": {},
   "outputs": [],
   "source": []
  }
 ],
 "metadata": {
  "kernelspec": {
   "display_name": "de",
   "language": "python",
   "name": "python3"
  },
  "language_info": {
   "codemirror_mode": {
    "name": "ipython",
    "version": 3
   },
   "file_extension": ".py",
   "mimetype": "text/x-python",
   "name": "python",
   "nbconvert_exporter": "python",
   "pygments_lexer": "ipython3",
   "version": "3.12.11"
  }
 },
 "nbformat": 4,
 "nbformat_minor": 5
}
