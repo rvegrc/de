{
 "cells": [
  {
   "cell_type": "code",
   "execution_count": 177,
   "id": "33d7172d",
   "metadata": {},
   "outputs": [],
   "source": [
    "import psycopg2\n",
    "import clickhouse_connect\n",
    "import pandas as pd\n",
    "import os\n",
    "import sys\n",
    "import re\n",
    "import numpy as np\n",
    "\n",
    "\n",
    "# Подключение к PostgreSQL\n",
    "def conn_pg():\n",
    "    try:\n",
    "        conn = psycopg2.connect(\n",
    "            host=\"localhost\",\n",
    "            database=\"dbpg\",\n",
    "            user=\"user\",\n",
    "            password=\"password\",\n",
    "            port=5432\n",
    "        )\n",
    "        # print(\"Connected to PostgreSQL\")\n",
    "        # cur = conn.cursor()\n",
    "        # cur.execute(query)\n",
    "        # output = cur.fetchall()\n",
    "        # print(\"PostgreSQL version:\", db_version)\n",
    "        # if output:\n",
    "        #     return\n",
    "        # else:\n",
    "        #     print(\"No output from the query\")\n",
    "        return conn    \n",
    "    except Exception as e:\n",
    "        print(f\"Error connecting to PostgreSQL: {e}\")\n",
    "    \n",
    "def conn_pg_close(conn):\n",
    "    if conn:\n",
    "        cur = conn.cursor()\n",
    "        cur.close()\n",
    "        conn.close()\n",
    "        # print(\"PostgreSQL connection closed\")\n",
    "\n",
    "\n",
    "# Подключение к ClickHouse\n",
    "def conn_ch():\n",
    "    try:\n",
    "        client = clickhouse_connect.get_client(\n",
    "            host='localhost',\n",
    "            username='user',\n",
    "            password='password',\n",
    "            database='dbch',\n",
    "            port=8123\n",
    "        )\n",
    "        # print(\"Connected to ClickHouse\")\n",
    "        # version = client.command('SELECT version()')\n",
    "        # print(\"ClickHouse version:\", version)\n",
    "        return client\n",
    "    except Exception as e:\n",
    "        print(f\"Error connecting to ClickHouse: {e}\")\n",
    "\n",
    "        # print(\"Connected to ClickHouse\")\n",
    "        # version = client.command('SELECT version()')\n",
    "\n",
    "        # print(\"ClickHouse version:\", version)\n",
    "\n",
    "\n",
    "# import tools\n",
    "# Get the parent directory\n",
    "parent_dir = os.path.abspath(os.path.join(os.getcwd(), \"../..\")) # for subfolder\n",
    "\n",
    "# find tools in parent dir\n",
    "if os.path.isdir(os.path.join(parent_dir, 'tools')):\n",
    "    # Add parent directory to sys.path if found\n",
    "    sys.path.append(parent_dir)\n",
    "    \n",
    "else:\n",
    "    # for run in spark\n",
    "    parent_dir = os.path.abspath(os.path.join(os.getcwd(), \"../airflow/airflow_data\"))\n",
    "    \n",
    "    # Add parent directory to sys.path\n",
    "    sys.path.append(parent_dir)\n",
    "\n",
    "\n",
    "from tools import pd_tools\n",
    "from tools.paths import Paths\n",
    "from tools.db_tools import DbTools\n",
    "\n",
    "\n",
    "# import paths\n",
    "root_path = '..' # for local folder\n",
    "paths = Paths(root_path)\n",
    "data_path = paths.data_path\n",
    "tmp_path = paths.tmp_path\n",
    "prod_data_path = paths.prod_data_path\n",
    "dev_data_path = paths.dev_data_path\n",
    "prod_db = paths.prod_db\n",
    "dev_db = paths.dev_db\n",
    "tmp_db = paths.tmp_db\n",
    "tmp_data_path = paths.tmp_data_path\n",
    "\n",
    "# db_tools = DbTools(data_path, tmp_path, client)"
   ]
  },
  {
   "cell_type": "markdown",
   "id": "17d59882",
   "metadata": {},
   "source": [
    "## Load data and analyze it"
   ]
  },
  {
   "cell_type": "code",
   "execution_count": 2,
   "id": "22a4b231",
   "metadata": {},
   "outputs": [],
   "source": [
    "fc_reg_path = f'{data_path}/film_cert_registry'"
   ]
  },
  {
   "cell_type": "code",
   "execution_count": 3,
   "id": "93a74632",
   "metadata": {},
   "outputs": [
    {
     "name": "stderr",
     "output_type": "stream",
     "text": [
      "/home/pmu/projects/tools/pd_tools.py:23: DtypeWarning: Columns (2,13,18,19,20,32,35,37,40,43,44,45) have mixed types. Specify dtype option on import or set low_memory=False.\n",
      "  dict_dfs[name] = pd.read_csv(path + '/' + file)\n",
      "/home/pmu/projects/tools/pd_tools.py:23: DtypeWarning: Columns (2,12,13,14,17,19,20,32,35,36,37,40,44) have mixed types. Specify dtype option on import or set low_memory=False.\n",
      "  dict_dfs[name] = pd.read_csv(path + '/' + file)\n",
      "/home/pmu/projects/tools/pd_tools.py:23: DtypeWarning: Columns (3,5,7,8,11,20,23,28,38,39,40,42,43,44,47,51) have mixed types. Specify dtype option on import or set low_memory=False.\n",
      "  dict_dfs[name] = pd.read_csv(path + '/' + file)\n",
      "/home/pmu/projects/tools/pd_tools.py:23: DtypeWarning: Columns (3,5,7,8,11,20,23,28,43,44) have mixed types. Specify dtype option on import or set low_memory=False.\n",
      "  dict_dfs[name] = pd.read_csv(path + '/' + file)\n",
      "/home/pmu/projects/tools/pd_tools.py:23: DtypeWarning: Columns (2,13,18,19,20,32,35,37,41,44,45,46) have mixed types. Specify dtype option on import or set low_memory=False.\n",
      "  dict_dfs[name] = pd.read_csv(path + '/' + file)\n",
      "/home/pmu/projects/tools/pd_tools.py:23: DtypeWarning: Columns (2,13,18,19,20,32,35,37,41,45) have mixed types. Specify dtype option on import or set low_memory=False.\n",
      "  dict_dfs[name] = pd.read_csv(path + '/' + file)\n",
      "/home/pmu/projects/tools/pd_tools.py:23: DtypeWarning: Columns (2,12,13,14,17,19,20,32,35,36,37,40,44) have mixed types. Specify dtype option on import or set low_memory=False.\n",
      "  dict_dfs[name] = pd.read_csv(path + '/' + file)\n",
      "/home/pmu/projects/tools/pd_tools.py:23: DtypeWarning: Columns (2,12,13,14,17,19,20,32,35,36,37,40,44) have mixed types. Specify dtype option on import or set low_memory=False.\n",
      "  dict_dfs[name] = pd.read_csv(path + '/' + file)\n"
     ]
    }
   ],
   "source": [
    "# write files to df dict\n",
    "\n",
    "fc_reg_dict = pd_tools.dict_dfs(fc_reg_path)"
   ]
  },
  {
   "cell_type": "code",
   "execution_count": 4,
   "id": "439b5d96",
   "metadata": {},
   "outputs": [
    {
     "data": {
      "text/plain": [
       "['data-6-structure-3',\n",
       " 'data-7-structure-4',\n",
       " 'data-2-structure-1',\n",
       " 'data-1-structure-1',\n",
       " 'data-4-structure-2',\n",
       " 'data-3-structure-2',\n",
       " 'data-9-structure-4',\n",
       " 'data-8-structure-4']"
      ]
     },
     "execution_count": 4,
     "metadata": {},
     "output_type": "execute_result"
    }
   ],
   "source": [
    "file_names = list(fc_reg_dict.keys())  # Convert keys to a list for easier manipulation  \n",
    "file_names"
   ]
  },
  {
   "cell_type": "markdown",
   "id": "e1433ac6",
   "metadata": {},
   "source": [
    "## Rename common columns and create aggregated dataframe"
   ]
  },
  {
   "cell_type": "code",
   "execution_count": 5,
   "id": "9d3d34e5",
   "metadata": {},
   "outputs": [
    {
     "name": "stdout",
     "output_type": "stream",
     "text": [
      "Processing: data-6-structure-3\n",
      "Processing: data-7-structure-4\n",
      "Processing: data-2-structure-1\n",
      "Processing: data-1-structure-1\n",
      "Processing: data-4-structure-2\n",
      "Processing: data-3-structure-2\n",
      "Processing: data-9-structure-4\n",
      "Processing: data-8-structure-4\n"
     ]
    }
   ],
   "source": [
    "# create list of columns for each df\n",
    "columns = {}\n",
    "for file_name in file_names:\n",
    "    print(f'Processing: {file_name}')\n",
    "    df = fc_reg_dict[file_name]\n",
    "    columns[file_name] = list(df.columns)"
   ]
  },
  {
   "cell_type": "code",
   "execution_count": 6,
   "id": "35baf3c9",
   "metadata": {},
   "outputs": [
    {
     "data": {
      "text/plain": [
       "{'Аннотация',\n",
       " 'Возрастная категория',\n",
       " 'Год производства',\n",
       " 'Дата регистрации удостоверения',\n",
       " 'Единица измерения',\n",
       " 'Идентификатор записи реестра',\n",
       " 'Категория',\n",
       " 'Количество серий',\n",
       " 'Композитор',\n",
       " 'Название фильма',\n",
       " 'Номер удостоверения',\n",
       " 'Объем носителя',\n",
       " 'Оператор',\n",
       " 'Порядковый номер переоформления/продления',\n",
       " 'Права на использование фильма',\n",
       " 'Права проката переданы',\n",
       " 'Примечание',\n",
       " 'Продюсер',\n",
       " 'Режиссер',\n",
       " 'Страна производства',\n",
       " 'Студия-производитель',\n",
       " 'Сценарист',\n",
       " 'Формат кадра',\n",
       " 'Формат носителя',\n",
       " 'Художник',\n",
       " 'Цвет',\n",
       " 'Язык оригинала',\n",
       " 'дата обновления объекта',\n",
       " 'дата создания объекта'}"
      ]
     },
     "execution_count": 6,
     "metadata": {},
     "output_type": "execute_result"
    }
   ],
   "source": [
    "# find common columns in all df\n",
    "list_all_df_cols = []\n",
    "for key, value in columns.items():\n",
    "    list_all_df_cols.append(set(value))\n",
    "    \n",
    "common_columns = set.intersection(*list_all_df_cols)\n",
    "common_columns"
   ]
  },
  {
   "cell_type": "code",
   "execution_count": 7,
   "id": "ff85515a",
   "metadata": {},
   "outputs": [],
   "source": [
    "duration_columns = [\n",
    "    'Продолжительность демонстрации, часы',\n",
    "    'Продолжительность демонстрации, минуты',\n",
    "    'Продолжительность показа, минуты', \n",
    "    'Продолжительность показа, часы'\n",
    "]"
   ]
  },
  {
   "cell_type": "code",
   "execution_count": 157,
   "id": "24277bd7",
   "metadata": {},
   "outputs": [
    {
     "data": {
      "text/plain": [
       "['registry_record_id',\n",
       " 'film_title',\n",
       " 'country_of_production',\n",
       " 'production_studio',\n",
       " 'year_of_production',\n",
       " 'certificate_registration_date',\n",
       " 'category',\n",
       " 'film_usage_rights',\n",
       " 'certificate_number',\n",
       " 'age_rating',\n",
       " 'duration_hours',\n",
       " 'duration_minutes',\n",
       " 'unit_of_measurement',\n",
       " 'synopsis',\n",
       " 'number_of_episodes',\n",
       " 'media_size',\n",
       " 'amendment_extension_number',\n",
       " 'distribution_rights_transferred',\n",
       " 'note',\n",
       " 'director',\n",
       " 'producer',\n",
       " 'screenwriter',\n",
       " 'cinematographer',\n",
       " 'art_director',\n",
       " 'composer',\n",
       " 'frame_format',\n",
       " 'media_format',\n",
       " 'color',\n",
       " 'original_language',\n",
       " 'object_update_date',\n",
       " 'object_creation_date']"
      ]
     },
     "execution_count": 157,
     "metadata": {},
     "output_type": "execute_result"
    }
   ],
   "source": [
    "column_rename_map = {\n",
    "    'Идентификатор записи реестра': 'registry_record_id',\n",
    "    'Название фильма': 'film_title',\n",
    "    'Страна производства': 'country_of_production',\n",
    "    'Студия-производитель': 'production_studio',\n",
    "    'Год производства': 'year_of_production',\n",
    "    'Дата регистрации удостоверения': 'certificate_registration_date',\n",
    "    'Категория': 'category',\n",
    "    'Права на использование фильма': 'film_usage_rights',\n",
    "    'Номер удостоверения': 'certificate_number',\n",
    "    'Возрастная категория': 'age_rating',\n",
    "    'Продолжительность демонстрации, часы': 'duration_hours',\n",
    "    'Продолжительность демонстрации, минуты': 'duration_minutes',\n",
    "    'Продолжительность показа, часы': 'duration_hours', # same as demonstration_duration_hours\n",
    "    'Продолжительность показа, минуты': 'duration_minutes',  # same as demonstration_duration_minutes\n",
    "    'Единица измерения': 'unit_of_measurement',\n",
    "    'Аннотация': 'synopsis',\n",
    "    'Количество серий': 'number_of_episodes',    \n",
    "    'Объем носителя': 'media_size',    \n",
    "    'Порядковый номер переоформления/продления': 'amendment_extension_number',\n",
    "    'Права проката переданы': 'distribution_rights_transferred',\n",
    "    'Примечание': 'note',\n",
    "    'Режиссер': 'director',\n",
    "    'Продюсер': 'producer',\n",
    "    'Сценарист': 'screenwriter',\n",
    "    'Оператор': 'cinematographer',\n",
    "    'Художник': 'art_director',\n",
    "    'Композитор': 'composer', \n",
    "    'Студия-производитель': 'production_studio',    \n",
    "    'Формат кадра': 'frame_format',\n",
    "    'Формат носителя': 'media_format',\n",
    "    'Художник': 'art_director',\n",
    "    'Цвет': 'color',\n",
    "    'Язык оригинала': 'original_language',\n",
    "    'дата обновления объекта': 'object_update_date',\n",
    "    'дата создания объекта': 'object_creation_date',\n",
    "}\n",
    "\n",
    "# cretae list of columns for new dict_df\n",
    "new_df_columns = list(column_rename_map.values())\n",
    "\n",
    "new_df_columns = pd.Series(new_df_columns).drop_duplicates().to_list()\n",
    "new_df_columns"
   ]
  },
  {
   "cell_type": "code",
   "execution_count": 205,
   "id": "f2072a35",
   "metadata": {},
   "outputs": [
    {
     "name": "stdout",
     "output_type": "stream",
     "text": [
      "Processing: data-6-structure-3\n",
      "Processing: data-7-structure-4\n",
      "Processing: data-2-structure-1\n",
      "Processing: data-1-structure-1\n",
      "Processing: data-4-structure-2\n",
      "Processing: data-3-structure-2\n",
      "Processing: data-9-structure-4\n",
      "Processing: data-8-structure-4\n"
     ]
    },
    {
     "data": {
      "application/vnd.microsoft.datawrangler.viewer.v0+json": {
       "columns": [
        {
         "name": "index",
         "rawType": "int64",
         "type": "integer"
        },
        {
         "name": "registry_record_id",
         "rawType": "int64",
         "type": "integer"
        },
        {
         "name": "film_title",
         "rawType": "object",
         "type": "string"
        },
        {
         "name": "country_of_production",
         "rawType": "object",
         "type": "string"
        },
        {
         "name": "production_studio",
         "rawType": "object",
         "type": "string"
        },
        {
         "name": "year_of_production",
         "rawType": "object",
         "type": "string"
        },
        {
         "name": "certificate_registration_date",
         "rawType": "object",
         "type": "string"
        },
        {
         "name": "category",
         "rawType": "object",
         "type": "string"
        },
        {
         "name": "film_usage_rights",
         "rawType": "object",
         "type": "string"
        },
        {
         "name": "certificate_number",
         "rawType": "object",
         "type": "string"
        },
        {
         "name": "age_rating",
         "rawType": "object",
         "type": "string"
        },
        {
         "name": "duration_hours",
         "rawType": "float64",
         "type": "float"
        },
        {
         "name": "duration_minutes",
         "rawType": "object",
         "type": "unknown"
        },
        {
         "name": "unit_of_measurement",
         "rawType": "object",
         "type": "unknown"
        },
        {
         "name": "synopsis",
         "rawType": "object",
         "type": "string"
        },
        {
         "name": "number_of_episodes",
         "rawType": "object",
         "type": "unknown"
        },
        {
         "name": "media_size",
         "rawType": "object",
         "type": "unknown"
        },
        {
         "name": "amendment_extension_number",
         "rawType": "object",
         "type": "unknown"
        },
        {
         "name": "distribution_rights_transferred",
         "rawType": "object",
         "type": "unknown"
        },
        {
         "name": "note",
         "rawType": "object",
         "type": "unknown"
        },
        {
         "name": "director",
         "rawType": "object",
         "type": "string"
        },
        {
         "name": "producer",
         "rawType": "object",
         "type": "unknown"
        },
        {
         "name": "screenwriter",
         "rawType": "object",
         "type": "string"
        },
        {
         "name": "cinematographer",
         "rawType": "object",
         "type": "unknown"
        },
        {
         "name": "art_director",
         "rawType": "object",
         "type": "unknown"
        },
        {
         "name": "composer",
         "rawType": "object",
         "type": "string"
        },
        {
         "name": "frame_format",
         "rawType": "object",
         "type": "unknown"
        },
        {
         "name": "media_format",
         "rawType": "object",
         "type": "unknown"
        },
        {
         "name": "color",
         "rawType": "object",
         "type": "string"
        },
        {
         "name": "original_language",
         "rawType": "float64",
         "type": "float"
        },
        {
         "name": "object_update_date",
         "rawType": "object",
         "type": "string"
        },
        {
         "name": "object_creation_date",
         "rawType": "object",
         "type": "string"
        }
       ],
       "ref": "c0ca3730-b5fb-4c5c-a12e-fd92fe9dae27",
       "rows": [
        [
         "0",
         "2157027",
         "Почти знаменит",
         "США",
         "Коламбиа Пикчерз",
         "2000",
         "2016-02-09T12:00:00.000Z",
         "Видео",
         "ЗАО \"ФЕЛИСТА\"",
         "221006316",
         "«18+» запрещено для детей",
         "2.0",
         "3.0",
         null,
         "В ролях: Фрэнсис МакДорманд, Кейт Хадсон. История американского мальчишки - корреспондента авторитетного музыкального журнала.",
         null,
         null,
         null,
         null,
         null,
         "Кемерон Кроу",
         null,
         "Кемерон Кроу",
         null,
         null,
         "Джон Бонхэм",
         null,
         null,
         "Цветной",
         null,
         "2018-04-09T09:12:02+03:00",
         "2017-07-05T14:10:11+03:00"
        ],
        [
         "1",
         "2157028",
         "Открытое окно.",
         "США",
         "Кард Интертейнмент, Имэйдж Интертейнмент",
         "2006",
         "2014-06-30T12:00:00.000Z",
         "Видео",
         "ООО \"Люксор Дистрибьюшн\"",
         "221027814",
         "«16+» для детей старше 16 лет",
         "1.0",
         "37.0",
         null,
         "В главных ролях: Робин Тюннин, Джоэль Эдгертон. Триллер",
         null,
         null,
         null,
         null,
         null,
         "Миа Голдмен",
         null,
         "Миа Голдмен",
         null,
         null,
         "Клифф Эйдельман",
         null,
         null,
         "Цветной",
         null,
         "2018-04-09T09:12:02+03:00",
         "2017-07-05T14:10:11+03:00"
        ],
        [
         "2",
         "2157029",
         "Открытый простор",
         "США",
         "Тачстоун Пикчерз, Кобальт Пикчерз, Бикон Пикчерз, Тиг Продакшнз",
         "2003",
         "2015-11-27T12:00:00.000Z",
         "Кино",
         "ООО \"Дистрибуционная кинокомпания \"Парадиз\"",
         "221048915",
         "«18+» запрещено для детей",
         "2.0",
         "23.0",
         null,
         "Драма-вестерн. В ролях: Роберт Дюволл, Кевин Костнер, Аннет Беннинг.",
         "1.0",
         null,
         null,
         null,
         null,
         "Кевин Костнер",
         "Дэвид Валдес, Кевин Костнер, Джейк Эбертс",
         "Лоран Пэйн, Крейг Сторпер",
         "Джеймс М.Муро",
         "Гэй С.Бакли",
         "Майкл Кэмен",
         "ш/э",
         null,
         "Цветной",
         null,
         "2018-04-09T09:12:02+03:00",
         "2017-07-05T14:10:11+03:00"
        ],
        [
         "3",
         "2157030",
         "Особо важное задание",
         "СССР",
         "Киностудия \"Мосфильм\"",
         "1980",
         "2016-09-13T12:00:00.000Z",
         "Кино",
         "ФГУП \"Киноконцерн \"Мосфильм\"",
         "111013716",
         "«6+» для детей старше шести лет",
         "2.0",
         "4.0",
         null,
         "В ролях - В.Заклунная, Н.Крючков, Е.Матвеев            Драма",
         "2.0",
         null,
         null,
         null,
         "Показ фильма в кинозале и прокат фильма на материальном носителе у ФГУП \"Киноконцерн \"Мосфильм\"",
         "Е.Матвеев",
         null,
         "Б.Добродеев, П.Попогребский",
         "И.Черных",
         "С.Валюшок",
         "Е.Птичкин",
         "ш/э",
         null,
         "Цветной",
         null,
         "2018-04-09T09:12:02+03:00",
         "2017-07-05T14:10:11+03:00"
        ],
        [
         "4",
         "2157031",
         "Особо опасен",
         "США",
         "Юниверсал Пикчерз, Кикстарт Продакшнз, Марк Платт Продакшнз, Рилейтивити Медиа, Спайгласс Интертейнмент, Стилкин Филмз, Топ Кау Продакшнз",
         "2008",
         "2016-10-10T12:00:00.000Z",
         "Кино",
         "ООО \"НД Плэй\"",
         "221038416",
         "«18+» запрещено для детей",
         "1.0",
         "50.0",
         null,
         "В ролях: Джеймс МакЭвой, Анджелина Джоли. Тайное общество.",
         "1.0",
         null,
         null,
         null,
         null,
         "Тимур Бекмамбетов",
         "Джим Лемли, Джейсон Нетер, Марк Е.Платт, Яйн Смит",
         "Майкл Брандт, Крис Морган, Дерек Хаас",
         "Митчелл Амундсен",
         "Джон Майр",
         "Дэнни Эльфман",
         "ш/э",
         null,
         "Цветной",
         null,
         "2019-05-20T11:24:32+03:00",
         "2017-07-05T14:10:11+03:00"
        ]
       ],
       "shape": {
        "columns": 31,
        "rows": 5
       }
      },
      "text/html": [
       "<div>\n",
       "<style scoped>\n",
       "    .dataframe tbody tr th:only-of-type {\n",
       "        vertical-align: middle;\n",
       "    }\n",
       "\n",
       "    .dataframe tbody tr th {\n",
       "        vertical-align: top;\n",
       "    }\n",
       "\n",
       "    .dataframe thead th {\n",
       "        text-align: right;\n",
       "    }\n",
       "</style>\n",
       "<table border=\"1\" class=\"dataframe\">\n",
       "  <thead>\n",
       "    <tr style=\"text-align: right;\">\n",
       "      <th></th>\n",
       "      <th>registry_record_id</th>\n",
       "      <th>film_title</th>\n",
       "      <th>country_of_production</th>\n",
       "      <th>production_studio</th>\n",
       "      <th>year_of_production</th>\n",
       "      <th>certificate_registration_date</th>\n",
       "      <th>category</th>\n",
       "      <th>film_usage_rights</th>\n",
       "      <th>certificate_number</th>\n",
       "      <th>age_rating</th>\n",
       "      <th>...</th>\n",
       "      <th>screenwriter</th>\n",
       "      <th>cinematographer</th>\n",
       "      <th>art_director</th>\n",
       "      <th>composer</th>\n",
       "      <th>frame_format</th>\n",
       "      <th>media_format</th>\n",
       "      <th>color</th>\n",
       "      <th>original_language</th>\n",
       "      <th>object_update_date</th>\n",
       "      <th>object_creation_date</th>\n",
       "    </tr>\n",
       "  </thead>\n",
       "  <tbody>\n",
       "    <tr>\n",
       "      <th>0</th>\n",
       "      <td>2157027</td>\n",
       "      <td>Почти знаменит</td>\n",
       "      <td>США</td>\n",
       "      <td>Коламбиа Пикчерз</td>\n",
       "      <td>2000</td>\n",
       "      <td>2016-02-09T12:00:00.000Z</td>\n",
       "      <td>Видео</td>\n",
       "      <td>ЗАО \"ФЕЛИСТА\"</td>\n",
       "      <td>221006316</td>\n",
       "      <td>«18+» запрещено для детей</td>\n",
       "      <td>...</td>\n",
       "      <td>Кемерон Кроу</td>\n",
       "      <td>NaN</td>\n",
       "      <td>NaN</td>\n",
       "      <td>Джон Бонхэм</td>\n",
       "      <td>NaN</td>\n",
       "      <td>NaN</td>\n",
       "      <td>Цветной</td>\n",
       "      <td>NaN</td>\n",
       "      <td>2018-04-09T09:12:02+03:00</td>\n",
       "      <td>2017-07-05T14:10:11+03:00</td>\n",
       "    </tr>\n",
       "    <tr>\n",
       "      <th>1</th>\n",
       "      <td>2157028</td>\n",
       "      <td>Открытое окно.</td>\n",
       "      <td>США</td>\n",
       "      <td>Кард Интертейнмент, Имэйдж Интертейнмент</td>\n",
       "      <td>2006</td>\n",
       "      <td>2014-06-30T12:00:00.000Z</td>\n",
       "      <td>Видео</td>\n",
       "      <td>ООО \"Люксор Дистрибьюшн\"</td>\n",
       "      <td>221027814</td>\n",
       "      <td>«16+» для детей старше 16 лет</td>\n",
       "      <td>...</td>\n",
       "      <td>Миа Голдмен</td>\n",
       "      <td>NaN</td>\n",
       "      <td>NaN</td>\n",
       "      <td>Клифф Эйдельман</td>\n",
       "      <td>NaN</td>\n",
       "      <td>NaN</td>\n",
       "      <td>Цветной</td>\n",
       "      <td>NaN</td>\n",
       "      <td>2018-04-09T09:12:02+03:00</td>\n",
       "      <td>2017-07-05T14:10:11+03:00</td>\n",
       "    </tr>\n",
       "    <tr>\n",
       "      <th>2</th>\n",
       "      <td>2157029</td>\n",
       "      <td>Открытый простор</td>\n",
       "      <td>США</td>\n",
       "      <td>Тачстоун Пикчерз, Кобальт Пикчерз, Бикон Пикче...</td>\n",
       "      <td>2003</td>\n",
       "      <td>2015-11-27T12:00:00.000Z</td>\n",
       "      <td>Кино</td>\n",
       "      <td>ООО \"Дистрибуционная кинокомпания \"Парадиз\"</td>\n",
       "      <td>221048915</td>\n",
       "      <td>«18+» запрещено для детей</td>\n",
       "      <td>...</td>\n",
       "      <td>Лоран Пэйн, Крейг Сторпер</td>\n",
       "      <td>Джеймс М.Муро</td>\n",
       "      <td>Гэй С.Бакли</td>\n",
       "      <td>Майкл Кэмен</td>\n",
       "      <td>ш/э</td>\n",
       "      <td>NaN</td>\n",
       "      <td>Цветной</td>\n",
       "      <td>NaN</td>\n",
       "      <td>2018-04-09T09:12:02+03:00</td>\n",
       "      <td>2017-07-05T14:10:11+03:00</td>\n",
       "    </tr>\n",
       "    <tr>\n",
       "      <th>3</th>\n",
       "      <td>2157030</td>\n",
       "      <td>Особо важное задание</td>\n",
       "      <td>СССР</td>\n",
       "      <td>Киностудия \"Мосфильм\"</td>\n",
       "      <td>1980</td>\n",
       "      <td>2016-09-13T12:00:00.000Z</td>\n",
       "      <td>Кино</td>\n",
       "      <td>ФГУП \"Киноконцерн \"Мосфильм\"</td>\n",
       "      <td>111013716</td>\n",
       "      <td>«6+» для детей старше шести лет</td>\n",
       "      <td>...</td>\n",
       "      <td>Б.Добродеев, П.Попогребский</td>\n",
       "      <td>И.Черных</td>\n",
       "      <td>С.Валюшок</td>\n",
       "      <td>Е.Птичкин</td>\n",
       "      <td>ш/э</td>\n",
       "      <td>NaN</td>\n",
       "      <td>Цветной</td>\n",
       "      <td>NaN</td>\n",
       "      <td>2018-04-09T09:12:02+03:00</td>\n",
       "      <td>2017-07-05T14:10:11+03:00</td>\n",
       "    </tr>\n",
       "    <tr>\n",
       "      <th>4</th>\n",
       "      <td>2157031</td>\n",
       "      <td>Особо опасен</td>\n",
       "      <td>США</td>\n",
       "      <td>Юниверсал Пикчерз, Кикстарт Продакшнз, Марк Пл...</td>\n",
       "      <td>2008</td>\n",
       "      <td>2016-10-10T12:00:00.000Z</td>\n",
       "      <td>Кино</td>\n",
       "      <td>ООО \"НД Плэй\"</td>\n",
       "      <td>221038416</td>\n",
       "      <td>«18+» запрещено для детей</td>\n",
       "      <td>...</td>\n",
       "      <td>Майкл Брандт, Крис Морган, Дерек Хаас</td>\n",
       "      <td>Митчелл Амундсен</td>\n",
       "      <td>Джон Майр</td>\n",
       "      <td>Дэнни Эльфман</td>\n",
       "      <td>ш/э</td>\n",
       "      <td>NaN</td>\n",
       "      <td>Цветной</td>\n",
       "      <td>NaN</td>\n",
       "      <td>2019-05-20T11:24:32+03:00</td>\n",
       "      <td>2017-07-05T14:10:11+03:00</td>\n",
       "    </tr>\n",
       "  </tbody>\n",
       "</table>\n",
       "<p>5 rows × 31 columns</p>\n",
       "</div>"
      ],
      "text/plain": [
       "   registry_record_id            film_title country_of_production  \\\n",
       "0             2157027        Почти знаменит                   США   \n",
       "1             2157028        Открытое окно.                   США   \n",
       "2             2157029      Открытый простор                   США   \n",
       "3             2157030  Особо важное задание                  СССР   \n",
       "4             2157031          Особо опасен                   США   \n",
       "\n",
       "                                   production_studio year_of_production  \\\n",
       "0                                   Коламбиа Пикчерз               2000   \n",
       "1           Кард Интертейнмент, Имэйдж Интертейнмент               2006   \n",
       "2  Тачстоун Пикчерз, Кобальт Пикчерз, Бикон Пикче...               2003   \n",
       "3                              Киностудия \"Мосфильм\"               1980   \n",
       "4  Юниверсал Пикчерз, Кикстарт Продакшнз, Марк Пл...               2008   \n",
       "\n",
       "  certificate_registration_date category  \\\n",
       "0      2016-02-09T12:00:00.000Z    Видео   \n",
       "1      2014-06-30T12:00:00.000Z    Видео   \n",
       "2      2015-11-27T12:00:00.000Z     Кино   \n",
       "3      2016-09-13T12:00:00.000Z     Кино   \n",
       "4      2016-10-10T12:00:00.000Z     Кино   \n",
       "\n",
       "                             film_usage_rights certificate_number  \\\n",
       "0                                ЗАО \"ФЕЛИСТА\"          221006316   \n",
       "1                     ООО \"Люксор Дистрибьюшн\"          221027814   \n",
       "2  ООО \"Дистрибуционная кинокомпания \"Парадиз\"          221048915   \n",
       "3                 ФГУП \"Киноконцерн \"Мосфильм\"          111013716   \n",
       "4                                ООО \"НД Плэй\"          221038416   \n",
       "\n",
       "                        age_rating  ...  \\\n",
       "0        «18+» запрещено для детей  ...   \n",
       "1    «16+» для детей старше 16 лет  ...   \n",
       "2        «18+» запрещено для детей  ...   \n",
       "3  «6+» для детей старше шести лет  ...   \n",
       "4        «18+» запрещено для детей  ...   \n",
       "\n",
       "                            screenwriter   cinematographer art_director  \\\n",
       "0                           Кемерон Кроу               NaN          NaN   \n",
       "1                            Миа Голдмен               NaN          NaN   \n",
       "2              Лоран Пэйн, Крейг Сторпер     Джеймс М.Муро  Гэй С.Бакли   \n",
       "3            Б.Добродеев, П.Попогребский          И.Черных    С.Валюшок   \n",
       "4  Майкл Брандт, Крис Морган, Дерек Хаас  Митчелл Амундсен    Джон Майр   \n",
       "\n",
       "          composer frame_format media_format    color original_language  \\\n",
       "0      Джон Бонхэм          NaN          NaN  Цветной               NaN   \n",
       "1  Клифф Эйдельман          NaN          NaN  Цветной               NaN   \n",
       "2      Майкл Кэмен          ш/э          NaN  Цветной               NaN   \n",
       "3        Е.Птичкин          ш/э          NaN  Цветной               NaN   \n",
       "4    Дэнни Эльфман          ш/э          NaN  Цветной               NaN   \n",
       "\n",
       "          object_update_date       object_creation_date  \n",
       "0  2018-04-09T09:12:02+03:00  2017-07-05T14:10:11+03:00  \n",
       "1  2018-04-09T09:12:02+03:00  2017-07-05T14:10:11+03:00  \n",
       "2  2018-04-09T09:12:02+03:00  2017-07-05T14:10:11+03:00  \n",
       "3  2018-04-09T09:12:02+03:00  2017-07-05T14:10:11+03:00  \n",
       "4  2019-05-20T11:24:32+03:00  2017-07-05T14:10:11+03:00  \n",
       "\n",
       "[5 rows x 31 columns]"
      ]
     },
     "execution_count": 205,
     "metadata": {},
     "output_type": "execute_result"
    }
   ],
   "source": [
    "# create new dict_df with only renamed columns\n",
    "fc_reg_dict_new = {}\n",
    "for file_name in file_names:\n",
    "    print(f'Processing: {file_name}')\n",
    "    df_old = fc_reg_dict[file_name]\n",
    "    df_new = df_old.rename(columns=column_rename_map)\n",
    "    df_new = df_new.copy()[new_df_columns]\n",
    "    fc_reg_dict_new[file_name] = df_new  # Update the null dictionary with df has renamed columns only\n",
    "\n",
    "# create df with all df from dict\n",
    "fc_reg_df = pd.concat(fc_reg_dict_new.values(), ignore_index=True)\n",
    "fc_reg_df.head()"
   ]
  },
  {
   "cell_type": "code",
   "execution_count": 10,
   "id": "c13c6383",
   "metadata": {},
   "outputs": [
    {
     "name": "stdout",
     "output_type": "stream",
     "text": [
      "<class 'pandas.core.frame.DataFrame'>\n",
      "RangeIndex: 745664 entries, 0 to 745663\n",
      "Data columns (total 31 columns):\n",
      " #   Column                           Non-Null Count   Dtype  \n",
      "---  ------                           --------------   -----  \n",
      " 0   registry_record_id               745664 non-null  int64  \n",
      " 1   film_title                       745664 non-null  object \n",
      " 2   country_of_production            745141 non-null  object \n",
      " 3   production_studio                744662 non-null  object \n",
      " 4   year_of_production               743963 non-null  object \n",
      " 5   certificate_registration_date    745550 non-null  object \n",
      " 6   category                         745664 non-null  object \n",
      " 7   film_usage_rights                732182 non-null  object \n",
      " 8   certificate_number               745664 non-null  object \n",
      " 9   age_rating                       745446 non-null  object \n",
      " 10  demonstration_duration_hours     616376 non-null  float64\n",
      " 11  demonstration_duration_minutes   726036 non-null  object \n",
      " 12  unit_of_measurement              26810 non-null   object \n",
      " 13  synopsis                         687621 non-null  object \n",
      " 14  number_of_episodes               297966 non-null  object \n",
      " 15  media_size                       27089 non-null   object \n",
      " 16  amendment_extension_number       64 non-null      object \n",
      " 17  distribution_rights_transferred  2038 non-null    object \n",
      " 18  note                             232552 non-null  object \n",
      " 19  director                         724757 non-null  object \n",
      " 20  producer                         452262 non-null  object \n",
      " 21  screenwriter                     649532 non-null  object \n",
      " 22  cinematographer                  406484 non-null  object \n",
      " 23  art_director                     277294 non-null  object \n",
      " 24  composer                         474582 non-null  object \n",
      " 25  frame_format                     81508 non-null   object \n",
      " 26  media_format                     59907 non-null   object \n",
      " 27  color                            745587 non-null  object \n",
      " 28  original_language                29 non-null      float64\n",
      " 29  object_update_date               745664 non-null  object \n",
      " 30  object_creation_date             745664 non-null  object \n",
      "dtypes: float64(2), int64(1), object(28)\n",
      "memory usage: 176.4+ MB\n",
      "None\n"
     ]
    },
    {
     "data": {
      "text/plain": [
       "'First 5 rows in df'"
      ]
     },
     "metadata": {},
     "output_type": "display_data"
    },
    {
     "data": {
      "application/vnd.microsoft.datawrangler.viewer.v0+json": {
       "columns": [
        {
         "name": "index",
         "rawType": "int64",
         "type": "integer"
        },
        {
         "name": "registry_record_id",
         "rawType": "int64",
         "type": "integer"
        },
        {
         "name": "film_title",
         "rawType": "object",
         "type": "string"
        },
        {
         "name": "country_of_production",
         "rawType": "object",
         "type": "string"
        },
        {
         "name": "production_studio",
         "rawType": "object",
         "type": "string"
        },
        {
         "name": "year_of_production",
         "rawType": "object",
         "type": "string"
        },
        {
         "name": "certificate_registration_date",
         "rawType": "object",
         "type": "string"
        },
        {
         "name": "category",
         "rawType": "object",
         "type": "string"
        },
        {
         "name": "film_usage_rights",
         "rawType": "object",
         "type": "string"
        },
        {
         "name": "certificate_number",
         "rawType": "object",
         "type": "string"
        },
        {
         "name": "age_rating",
         "rawType": "object",
         "type": "string"
        },
        {
         "name": "demonstration_duration_hours",
         "rawType": "float64",
         "type": "float"
        },
        {
         "name": "demonstration_duration_minutes",
         "rawType": "object",
         "type": "unknown"
        },
        {
         "name": "unit_of_measurement",
         "rawType": "object",
         "type": "unknown"
        },
        {
         "name": "synopsis",
         "rawType": "object",
         "type": "string"
        },
        {
         "name": "number_of_episodes",
         "rawType": "object",
         "type": "unknown"
        },
        {
         "name": "media_size",
         "rawType": "object",
         "type": "unknown"
        },
        {
         "name": "amendment_extension_number",
         "rawType": "object",
         "type": "unknown"
        },
        {
         "name": "distribution_rights_transferred",
         "rawType": "object",
         "type": "unknown"
        },
        {
         "name": "note",
         "rawType": "object",
         "type": "unknown"
        },
        {
         "name": "director",
         "rawType": "object",
         "type": "string"
        },
        {
         "name": "producer",
         "rawType": "object",
         "type": "unknown"
        },
        {
         "name": "screenwriter",
         "rawType": "object",
         "type": "string"
        },
        {
         "name": "cinematographer",
         "rawType": "object",
         "type": "unknown"
        },
        {
         "name": "art_director",
         "rawType": "object",
         "type": "unknown"
        },
        {
         "name": "composer",
         "rawType": "object",
         "type": "string"
        },
        {
         "name": "frame_format",
         "rawType": "object",
         "type": "unknown"
        },
        {
         "name": "media_format",
         "rawType": "object",
         "type": "unknown"
        },
        {
         "name": "color",
         "rawType": "object",
         "type": "string"
        },
        {
         "name": "original_language",
         "rawType": "float64",
         "type": "float"
        },
        {
         "name": "object_update_date",
         "rawType": "object",
         "type": "string"
        },
        {
         "name": "object_creation_date",
         "rawType": "object",
         "type": "string"
        }
       ],
       "ref": "eba45a00-6a10-410f-8e4d-26c8f54dd73a",
       "rows": [
        [
         "0",
         "2157027",
         "Почти знаменит",
         "США",
         "Коламбиа Пикчерз",
         "2000",
         "2016-02-09T12:00:00.000Z",
         "Видео",
         "ЗАО \"ФЕЛИСТА\"",
         "221006316",
         "«18+» запрещено для детей",
         "2.0",
         "3.0",
         null,
         "В ролях: Фрэнсис МакДорманд, Кейт Хадсон. История американского мальчишки - корреспондента авторитетного музыкального журнала.",
         null,
         null,
         null,
         null,
         null,
         "Кемерон Кроу",
         null,
         "Кемерон Кроу",
         null,
         null,
         "Джон Бонхэм",
         null,
         null,
         "Цветной",
         null,
         "2018-04-09T09:12:02+03:00",
         "2017-07-05T14:10:11+03:00"
        ],
        [
         "1",
         "2157028",
         "Открытое окно.",
         "США",
         "Кард Интертейнмент, Имэйдж Интертейнмент",
         "2006",
         "2014-06-30T12:00:00.000Z",
         "Видео",
         "ООО \"Люксор Дистрибьюшн\"",
         "221027814",
         "«16+» для детей старше 16 лет",
         "1.0",
         "37.0",
         null,
         "В главных ролях: Робин Тюннин, Джоэль Эдгертон. Триллер",
         null,
         null,
         null,
         null,
         null,
         "Миа Голдмен",
         null,
         "Миа Голдмен",
         null,
         null,
         "Клифф Эйдельман",
         null,
         null,
         "Цветной",
         null,
         "2018-04-09T09:12:02+03:00",
         "2017-07-05T14:10:11+03:00"
        ],
        [
         "2",
         "2157029",
         "Открытый простор",
         "США",
         "Тачстоун Пикчерз, Кобальт Пикчерз, Бикон Пикчерз, Тиг Продакшнз",
         "2003",
         "2015-11-27T12:00:00.000Z",
         "Кино",
         "ООО \"Дистрибуционная кинокомпания \"Парадиз\"",
         "221048915",
         "«18+» запрещено для детей",
         "2.0",
         "23.0",
         null,
         "Драма-вестерн. В ролях: Роберт Дюволл, Кевин Костнер, Аннет Беннинг.",
         "1.0",
         null,
         null,
         null,
         null,
         "Кевин Костнер",
         "Дэвид Валдес, Кевин Костнер, Джейк Эбертс",
         "Лоран Пэйн, Крейг Сторпер",
         "Джеймс М.Муро",
         "Гэй С.Бакли",
         "Майкл Кэмен",
         "ш/э",
         null,
         "Цветной",
         null,
         "2018-04-09T09:12:02+03:00",
         "2017-07-05T14:10:11+03:00"
        ],
        [
         "3",
         "2157030",
         "Особо важное задание",
         "СССР",
         "Киностудия \"Мосфильм\"",
         "1980",
         "2016-09-13T12:00:00.000Z",
         "Кино",
         "ФГУП \"Киноконцерн \"Мосфильм\"",
         "111013716",
         "«6+» для детей старше шести лет",
         "2.0",
         "4.0",
         null,
         "В ролях - В.Заклунная, Н.Крючков, Е.Матвеев            Драма",
         "2.0",
         null,
         null,
         null,
         "Показ фильма в кинозале и прокат фильма на материальном носителе у ФГУП \"Киноконцерн \"Мосфильм\"",
         "Е.Матвеев",
         null,
         "Б.Добродеев, П.Попогребский",
         "И.Черных",
         "С.Валюшок",
         "Е.Птичкин",
         "ш/э",
         null,
         "Цветной",
         null,
         "2018-04-09T09:12:02+03:00",
         "2017-07-05T14:10:11+03:00"
        ],
        [
         "4",
         "2157031",
         "Особо опасен",
         "США",
         "Юниверсал Пикчерз, Кикстарт Продакшнз, Марк Платт Продакшнз, Рилейтивити Медиа, Спайгласс Интертейнмент, Стилкин Филмз, Топ Кау Продакшнз",
         "2008",
         "2016-10-10T12:00:00.000Z",
         "Кино",
         "ООО \"НД Плэй\"",
         "221038416",
         "«18+» запрещено для детей",
         "1.0",
         "50.0",
         null,
         "В ролях: Джеймс МакЭвой, Анджелина Джоли. Тайное общество.",
         "1.0",
         null,
         null,
         null,
         null,
         "Тимур Бекмамбетов",
         "Джим Лемли, Джейсон Нетер, Марк Е.Платт, Яйн Смит",
         "Майкл Брандт, Крис Морган, Дерек Хаас",
         "Митчелл Амундсен",
         "Джон Майр",
         "Дэнни Эльфман",
         "ш/э",
         null,
         "Цветной",
         null,
         "2019-05-20T11:24:32+03:00",
         "2017-07-05T14:10:11+03:00"
        ]
       ],
       "shape": {
        "columns": 31,
        "rows": 5
       }
      },
      "text/html": [
       "<div>\n",
       "<style scoped>\n",
       "    .dataframe tbody tr th:only-of-type {\n",
       "        vertical-align: middle;\n",
       "    }\n",
       "\n",
       "    .dataframe tbody tr th {\n",
       "        vertical-align: top;\n",
       "    }\n",
       "\n",
       "    .dataframe thead th {\n",
       "        text-align: right;\n",
       "    }\n",
       "</style>\n",
       "<table border=\"1\" class=\"dataframe\">\n",
       "  <thead>\n",
       "    <tr style=\"text-align: right;\">\n",
       "      <th></th>\n",
       "      <th>registry_record_id</th>\n",
       "      <th>film_title</th>\n",
       "      <th>country_of_production</th>\n",
       "      <th>production_studio</th>\n",
       "      <th>year_of_production</th>\n",
       "      <th>certificate_registration_date</th>\n",
       "      <th>category</th>\n",
       "      <th>film_usage_rights</th>\n",
       "      <th>certificate_number</th>\n",
       "      <th>age_rating</th>\n",
       "      <th>...</th>\n",
       "      <th>screenwriter</th>\n",
       "      <th>cinematographer</th>\n",
       "      <th>art_director</th>\n",
       "      <th>composer</th>\n",
       "      <th>frame_format</th>\n",
       "      <th>media_format</th>\n",
       "      <th>color</th>\n",
       "      <th>original_language</th>\n",
       "      <th>object_update_date</th>\n",
       "      <th>object_creation_date</th>\n",
       "    </tr>\n",
       "  </thead>\n",
       "  <tbody>\n",
       "    <tr>\n",
       "      <th>0</th>\n",
       "      <td>2157027</td>\n",
       "      <td>Почти знаменит</td>\n",
       "      <td>США</td>\n",
       "      <td>Коламбиа Пикчерз</td>\n",
       "      <td>2000</td>\n",
       "      <td>2016-02-09T12:00:00.000Z</td>\n",
       "      <td>Видео</td>\n",
       "      <td>ЗАО \"ФЕЛИСТА\"</td>\n",
       "      <td>221006316</td>\n",
       "      <td>«18+» запрещено для детей</td>\n",
       "      <td>...</td>\n",
       "      <td>Кемерон Кроу</td>\n",
       "      <td>NaN</td>\n",
       "      <td>NaN</td>\n",
       "      <td>Джон Бонхэм</td>\n",
       "      <td>NaN</td>\n",
       "      <td>NaN</td>\n",
       "      <td>Цветной</td>\n",
       "      <td>NaN</td>\n",
       "      <td>2018-04-09T09:12:02+03:00</td>\n",
       "      <td>2017-07-05T14:10:11+03:00</td>\n",
       "    </tr>\n",
       "    <tr>\n",
       "      <th>1</th>\n",
       "      <td>2157028</td>\n",
       "      <td>Открытое окно.</td>\n",
       "      <td>США</td>\n",
       "      <td>Кард Интертейнмент, Имэйдж Интертейнмент</td>\n",
       "      <td>2006</td>\n",
       "      <td>2014-06-30T12:00:00.000Z</td>\n",
       "      <td>Видео</td>\n",
       "      <td>ООО \"Люксор Дистрибьюшн\"</td>\n",
       "      <td>221027814</td>\n",
       "      <td>«16+» для детей старше 16 лет</td>\n",
       "      <td>...</td>\n",
       "      <td>Миа Голдмен</td>\n",
       "      <td>NaN</td>\n",
       "      <td>NaN</td>\n",
       "      <td>Клифф Эйдельман</td>\n",
       "      <td>NaN</td>\n",
       "      <td>NaN</td>\n",
       "      <td>Цветной</td>\n",
       "      <td>NaN</td>\n",
       "      <td>2018-04-09T09:12:02+03:00</td>\n",
       "      <td>2017-07-05T14:10:11+03:00</td>\n",
       "    </tr>\n",
       "    <tr>\n",
       "      <th>2</th>\n",
       "      <td>2157029</td>\n",
       "      <td>Открытый простор</td>\n",
       "      <td>США</td>\n",
       "      <td>Тачстоун Пикчерз, Кобальт Пикчерз, Бикон Пикче...</td>\n",
       "      <td>2003</td>\n",
       "      <td>2015-11-27T12:00:00.000Z</td>\n",
       "      <td>Кино</td>\n",
       "      <td>ООО \"Дистрибуционная кинокомпания \"Парадиз\"</td>\n",
       "      <td>221048915</td>\n",
       "      <td>«18+» запрещено для детей</td>\n",
       "      <td>...</td>\n",
       "      <td>Лоран Пэйн, Крейг Сторпер</td>\n",
       "      <td>Джеймс М.Муро</td>\n",
       "      <td>Гэй С.Бакли</td>\n",
       "      <td>Майкл Кэмен</td>\n",
       "      <td>ш/э</td>\n",
       "      <td>NaN</td>\n",
       "      <td>Цветной</td>\n",
       "      <td>NaN</td>\n",
       "      <td>2018-04-09T09:12:02+03:00</td>\n",
       "      <td>2017-07-05T14:10:11+03:00</td>\n",
       "    </tr>\n",
       "    <tr>\n",
       "      <th>3</th>\n",
       "      <td>2157030</td>\n",
       "      <td>Особо важное задание</td>\n",
       "      <td>СССР</td>\n",
       "      <td>Киностудия \"Мосфильм\"</td>\n",
       "      <td>1980</td>\n",
       "      <td>2016-09-13T12:00:00.000Z</td>\n",
       "      <td>Кино</td>\n",
       "      <td>ФГУП \"Киноконцерн \"Мосфильм\"</td>\n",
       "      <td>111013716</td>\n",
       "      <td>«6+» для детей старше шести лет</td>\n",
       "      <td>...</td>\n",
       "      <td>Б.Добродеев, П.Попогребский</td>\n",
       "      <td>И.Черных</td>\n",
       "      <td>С.Валюшок</td>\n",
       "      <td>Е.Птичкин</td>\n",
       "      <td>ш/э</td>\n",
       "      <td>NaN</td>\n",
       "      <td>Цветной</td>\n",
       "      <td>NaN</td>\n",
       "      <td>2018-04-09T09:12:02+03:00</td>\n",
       "      <td>2017-07-05T14:10:11+03:00</td>\n",
       "    </tr>\n",
       "    <tr>\n",
       "      <th>4</th>\n",
       "      <td>2157031</td>\n",
       "      <td>Особо опасен</td>\n",
       "      <td>США</td>\n",
       "      <td>Юниверсал Пикчерз, Кикстарт Продакшнз, Марк Пл...</td>\n",
       "      <td>2008</td>\n",
       "      <td>2016-10-10T12:00:00.000Z</td>\n",
       "      <td>Кино</td>\n",
       "      <td>ООО \"НД Плэй\"</td>\n",
       "      <td>221038416</td>\n",
       "      <td>«18+» запрещено для детей</td>\n",
       "      <td>...</td>\n",
       "      <td>Майкл Брандт, Крис Морган, Дерек Хаас</td>\n",
       "      <td>Митчелл Амундсен</td>\n",
       "      <td>Джон Майр</td>\n",
       "      <td>Дэнни Эльфман</td>\n",
       "      <td>ш/э</td>\n",
       "      <td>NaN</td>\n",
       "      <td>Цветной</td>\n",
       "      <td>NaN</td>\n",
       "      <td>2019-05-20T11:24:32+03:00</td>\n",
       "      <td>2017-07-05T14:10:11+03:00</td>\n",
       "    </tr>\n",
       "  </tbody>\n",
       "</table>\n",
       "<p>5 rows × 31 columns</p>\n",
       "</div>"
      ],
      "text/plain": [
       "   registry_record_id            film_title country_of_production  \\\n",
       "0             2157027        Почти знаменит                   США   \n",
       "1             2157028        Открытое окно.                   США   \n",
       "2             2157029      Открытый простор                   США   \n",
       "3             2157030  Особо важное задание                  СССР   \n",
       "4             2157031          Особо опасен                   США   \n",
       "\n",
       "                                   production_studio year_of_production  \\\n",
       "0                                   Коламбиа Пикчерз               2000   \n",
       "1           Кард Интертейнмент, Имэйдж Интертейнмент               2006   \n",
       "2  Тачстоун Пикчерз, Кобальт Пикчерз, Бикон Пикче...               2003   \n",
       "3                              Киностудия \"Мосфильм\"               1980   \n",
       "4  Юниверсал Пикчерз, Кикстарт Продакшнз, Марк Пл...               2008   \n",
       "\n",
       "  certificate_registration_date category  \\\n",
       "0      2016-02-09T12:00:00.000Z    Видео   \n",
       "1      2014-06-30T12:00:00.000Z    Видео   \n",
       "2      2015-11-27T12:00:00.000Z     Кино   \n",
       "3      2016-09-13T12:00:00.000Z     Кино   \n",
       "4      2016-10-10T12:00:00.000Z     Кино   \n",
       "\n",
       "                             film_usage_rights certificate_number  \\\n",
       "0                                ЗАО \"ФЕЛИСТА\"          221006316   \n",
       "1                     ООО \"Люксор Дистрибьюшн\"          221027814   \n",
       "2  ООО \"Дистрибуционная кинокомпания \"Парадиз\"          221048915   \n",
       "3                 ФГУП \"Киноконцерн \"Мосфильм\"          111013716   \n",
       "4                                ООО \"НД Плэй\"          221038416   \n",
       "\n",
       "                        age_rating  ...  \\\n",
       "0        «18+» запрещено для детей  ...   \n",
       "1    «16+» для детей старше 16 лет  ...   \n",
       "2        «18+» запрещено для детей  ...   \n",
       "3  «6+» для детей старше шести лет  ...   \n",
       "4        «18+» запрещено для детей  ...   \n",
       "\n",
       "                            screenwriter   cinematographer art_director  \\\n",
       "0                           Кемерон Кроу               NaN          NaN   \n",
       "1                            Миа Голдмен               NaN          NaN   \n",
       "2              Лоран Пэйн, Крейг Сторпер     Джеймс М.Муро  Гэй С.Бакли   \n",
       "3            Б.Добродеев, П.Попогребский          И.Черных    С.Валюшок   \n",
       "4  Майкл Брандт, Крис Морган, Дерек Хаас  Митчелл Амундсен    Джон Майр   \n",
       "\n",
       "          composer frame_format media_format    color original_language  \\\n",
       "0      Джон Бонхэм          NaN          NaN  Цветной               NaN   \n",
       "1  Клифф Эйдельман          NaN          NaN  Цветной               NaN   \n",
       "2      Майкл Кэмен          ш/э          NaN  Цветной               NaN   \n",
       "3        Е.Птичкин          ш/э          NaN  Цветной               NaN   \n",
       "4    Дэнни Эльфман          ш/э          NaN  Цветной               NaN   \n",
       "\n",
       "          object_update_date       object_creation_date  \n",
       "0  2018-04-09T09:12:02+03:00  2017-07-05T14:10:11+03:00  \n",
       "1  2018-04-09T09:12:02+03:00  2017-07-05T14:10:11+03:00  \n",
       "2  2018-04-09T09:12:02+03:00  2017-07-05T14:10:11+03:00  \n",
       "3  2018-04-09T09:12:02+03:00  2017-07-05T14:10:11+03:00  \n",
       "4  2019-05-20T11:24:32+03:00  2017-07-05T14:10:11+03:00  \n",
       "\n",
       "[5 rows x 31 columns]"
      ]
     },
     "metadata": {},
     "output_type": "display_data"
    },
    {
     "data": {
      "application/vnd.microsoft.datawrangler.viewer.v0+json": {
       "columns": [
        {
         "name": "index",
         "rawType": "object",
         "type": "string"
        },
        {
         "name": "duplicates_full",
         "rawType": "int64",
         "type": "integer"
        }
       ],
       "ref": "fc2d5dd9-928c-4eab-ba8c-99a1c0daa61a",
       "rows": [
        [
         "duplicates_full",
         "423895"
        ]
       ],
       "shape": {
        "columns": 1,
        "rows": 1
       }
      },
      "text/html": [
       "<div>\n",
       "<style scoped>\n",
       "    .dataframe tbody tr th:only-of-type {\n",
       "        vertical-align: middle;\n",
       "    }\n",
       "\n",
       "    .dataframe tbody tr th {\n",
       "        vertical-align: top;\n",
       "    }\n",
       "\n",
       "    .dataframe thead th {\n",
       "        text-align: right;\n",
       "    }\n",
       "</style>\n",
       "<table border=\"1\" class=\"dataframe\">\n",
       "  <thead>\n",
       "    <tr style=\"text-align: right;\">\n",
       "      <th></th>\n",
       "      <th>duplicates_full</th>\n",
       "    </tr>\n",
       "  </thead>\n",
       "  <tbody>\n",
       "    <tr>\n",
       "      <th>duplicates_full</th>\n",
       "      <td>423895</td>\n",
       "    </tr>\n",
       "  </tbody>\n",
       "</table>\n",
       "</div>"
      ],
      "text/plain": [
       "                 duplicates_full\n",
       "duplicates_full           423895"
      ]
     },
     "metadata": {},
     "output_type": "display_data"
    },
    {
     "data": {
      "application/vnd.microsoft.datawrangler.viewer.v0+json": {
       "columns": [
        {
         "name": "index",
         "rawType": "object",
         "type": "string"
        },
        {
         "name": "registry_record_id",
         "rawType": "int64",
         "type": "integer"
        },
        {
         "name": "film_title",
         "rawType": "int64",
         "type": "integer"
        },
        {
         "name": "country_of_production",
         "rawType": "int64",
         "type": "integer"
        },
        {
         "name": "production_studio",
         "rawType": "int64",
         "type": "integer"
        },
        {
         "name": "year_of_production",
         "rawType": "int64",
         "type": "integer"
        },
        {
         "name": "certificate_registration_date",
         "rawType": "int64",
         "type": "integer"
        },
        {
         "name": "category",
         "rawType": "int64",
         "type": "integer"
        },
        {
         "name": "film_usage_rights",
         "rawType": "int64",
         "type": "integer"
        },
        {
         "name": "certificate_number",
         "rawType": "int64",
         "type": "integer"
        },
        {
         "name": "age_rating",
         "rawType": "int64",
         "type": "integer"
        },
        {
         "name": "demonstration_duration_hours",
         "rawType": "int64",
         "type": "integer"
        },
        {
         "name": "demonstration_duration_minutes",
         "rawType": "int64",
         "type": "integer"
        },
        {
         "name": "unit_of_measurement",
         "rawType": "int64",
         "type": "integer"
        },
        {
         "name": "synopsis",
         "rawType": "int64",
         "type": "integer"
        },
        {
         "name": "number_of_episodes",
         "rawType": "int64",
         "type": "integer"
        },
        {
         "name": "media_size",
         "rawType": "int64",
         "type": "integer"
        },
        {
         "name": "amendment_extension_number",
         "rawType": "int64",
         "type": "integer"
        },
        {
         "name": "distribution_rights_transferred",
         "rawType": "int64",
         "type": "integer"
        },
        {
         "name": "note",
         "rawType": "int64",
         "type": "integer"
        },
        {
         "name": "director",
         "rawType": "int64",
         "type": "integer"
        },
        {
         "name": "producer",
         "rawType": "int64",
         "type": "integer"
        },
        {
         "name": "screenwriter",
         "rawType": "int64",
         "type": "integer"
        },
        {
         "name": "cinematographer",
         "rawType": "int64",
         "type": "integer"
        },
        {
         "name": "art_director",
         "rawType": "int64",
         "type": "integer"
        },
        {
         "name": "composer",
         "rawType": "int64",
         "type": "integer"
        },
        {
         "name": "frame_format",
         "rawType": "int64",
         "type": "integer"
        },
        {
         "name": "media_format",
         "rawType": "int64",
         "type": "integer"
        },
        {
         "name": "color",
         "rawType": "int64",
         "type": "integer"
        },
        {
         "name": "original_language",
         "rawType": "int64",
         "type": "integer"
        },
        {
         "name": "object_update_date",
         "rawType": "int64",
         "type": "integer"
        },
        {
         "name": "object_creation_date",
         "rawType": "int64",
         "type": "integer"
        }
       ],
       "ref": "a515f7bf-6605-4239-8916-b25129a1be16",
       "rows": [
        [
         "duplicates_by_cols",
         "641157",
         "658956",
         "741908",
         "703854",
         "742690",
         "733695",
         "745659",
         "719251",
         "603415",
         "745409",
         "616264",
         "725672",
         "26804",
         "634488",
         "297743",
         "25273",
         "56",
         "1655",
         "225280",
         "685486",
         "421304",
         "600139",
         "384331",
         "259158",
         "450996",
         "81121",
         "59822",
         "745560",
         "25",
         "715825",
         "724660"
        ]
       ],
       "shape": {
        "columns": 31,
        "rows": 1
       }
      },
      "text/html": [
       "<div>\n",
       "<style scoped>\n",
       "    .dataframe tbody tr th:only-of-type {\n",
       "        vertical-align: middle;\n",
       "    }\n",
       "\n",
       "    .dataframe tbody tr th {\n",
       "        vertical-align: top;\n",
       "    }\n",
       "\n",
       "    .dataframe thead th {\n",
       "        text-align: right;\n",
       "    }\n",
       "</style>\n",
       "<table border=\"1\" class=\"dataframe\">\n",
       "  <thead>\n",
       "    <tr style=\"text-align: right;\">\n",
       "      <th></th>\n",
       "      <th>registry_record_id</th>\n",
       "      <th>film_title</th>\n",
       "      <th>country_of_production</th>\n",
       "      <th>production_studio</th>\n",
       "      <th>year_of_production</th>\n",
       "      <th>certificate_registration_date</th>\n",
       "      <th>category</th>\n",
       "      <th>film_usage_rights</th>\n",
       "      <th>certificate_number</th>\n",
       "      <th>age_rating</th>\n",
       "      <th>...</th>\n",
       "      <th>screenwriter</th>\n",
       "      <th>cinematographer</th>\n",
       "      <th>art_director</th>\n",
       "      <th>composer</th>\n",
       "      <th>frame_format</th>\n",
       "      <th>media_format</th>\n",
       "      <th>color</th>\n",
       "      <th>original_language</th>\n",
       "      <th>object_update_date</th>\n",
       "      <th>object_creation_date</th>\n",
       "    </tr>\n",
       "  </thead>\n",
       "  <tbody>\n",
       "    <tr>\n",
       "      <th>duplicates_by_cols</th>\n",
       "      <td>641157</td>\n",
       "      <td>658956</td>\n",
       "      <td>741908</td>\n",
       "      <td>703854</td>\n",
       "      <td>742690</td>\n",
       "      <td>733695</td>\n",
       "      <td>745659</td>\n",
       "      <td>719251</td>\n",
       "      <td>603415</td>\n",
       "      <td>745409</td>\n",
       "      <td>...</td>\n",
       "      <td>600139</td>\n",
       "      <td>384331</td>\n",
       "      <td>259158</td>\n",
       "      <td>450996</td>\n",
       "      <td>81121</td>\n",
       "      <td>59822</td>\n",
       "      <td>745560</td>\n",
       "      <td>25</td>\n",
       "      <td>715825</td>\n",
       "      <td>724660</td>\n",
       "    </tr>\n",
       "  </tbody>\n",
       "</table>\n",
       "<p>1 rows × 31 columns</p>\n",
       "</div>"
      ],
      "text/plain": [
       "                    registry_record_id  film_title  country_of_production  \\\n",
       "duplicates_by_cols              641157      658956                 741908   \n",
       "\n",
       "                    production_studio  year_of_production  \\\n",
       "duplicates_by_cols             703854              742690   \n",
       "\n",
       "                    certificate_registration_date  category  \\\n",
       "duplicates_by_cols                         733695    745659   \n",
       "\n",
       "                    film_usage_rights  certificate_number  age_rating  ...  \\\n",
       "duplicates_by_cols             719251              603415      745409  ...   \n",
       "\n",
       "                    screenwriter  cinematographer  art_director  composer  \\\n",
       "duplicates_by_cols        600139           384331        259158    450996   \n",
       "\n",
       "                    frame_format  media_format   color  original_language  \\\n",
       "duplicates_by_cols         81121         59822  745560                 25   \n",
       "\n",
       "                    object_update_date  object_creation_date  \n",
       "duplicates_by_cols              715825                724660  \n",
       "\n",
       "[1 rows x 31 columns]"
      ]
     },
     "metadata": {},
     "output_type": "display_data"
    },
    {
     "data": {
      "application/vnd.microsoft.datawrangler.viewer.v0+json": {
       "columns": [
        {
         "name": "index",
         "rawType": "object",
         "type": "string"
        },
        {
         "name": "demonstration_duration_hours",
         "rawType": "int64",
         "type": "integer"
        }
       ],
       "ref": "24d1da02-f13f-4299-a942-f7fc232568f9",
       "rows": [
        [
         "zeroes",
         "77000"
        ]
       ],
       "shape": {
        "columns": 1,
        "rows": 1
       }
      },
      "text/html": [
       "<div>\n",
       "<style scoped>\n",
       "    .dataframe tbody tr th:only-of-type {\n",
       "        vertical-align: middle;\n",
       "    }\n",
       "\n",
       "    .dataframe tbody tr th {\n",
       "        vertical-align: top;\n",
       "    }\n",
       "\n",
       "    .dataframe thead th {\n",
       "        text-align: right;\n",
       "    }\n",
       "</style>\n",
       "<table border=\"1\" class=\"dataframe\">\n",
       "  <thead>\n",
       "    <tr style=\"text-align: right;\">\n",
       "      <th></th>\n",
       "      <th>demonstration_duration_hours</th>\n",
       "    </tr>\n",
       "  </thead>\n",
       "  <tbody>\n",
       "    <tr>\n",
       "      <th>zeroes</th>\n",
       "      <td>77000</td>\n",
       "    </tr>\n",
       "  </tbody>\n",
       "</table>\n",
       "</div>"
      ],
      "text/plain": [
       "        demonstration_duration_hours\n",
       "zeroes                         77000"
      ]
     },
     "metadata": {},
     "output_type": "display_data"
    },
    {
     "data": {
      "application/vnd.microsoft.datawrangler.viewer.v0+json": {
       "columns": [
        {
         "name": "index",
         "rawType": "object",
         "type": "string"
        }
       ],
       "ref": "645dbd80-5c4f-4180-b648-9e1b6ca0c022",
       "rows": [
        [
         "minus_ones"
        ]
       ],
       "shape": {
        "columns": 0,
        "rows": 1
       }
      },
      "text/html": [
       "<div>\n",
       "<style scoped>\n",
       "    .dataframe tbody tr th:only-of-type {\n",
       "        vertical-align: middle;\n",
       "    }\n",
       "\n",
       "    .dataframe tbody tr th {\n",
       "        vertical-align: top;\n",
       "    }\n",
       "\n",
       "    .dataframe thead th {\n",
       "        text-align: right;\n",
       "    }\n",
       "</style>\n",
       "<table border=\"1\" class=\"dataframe\">\n",
       "  <thead>\n",
       "    <tr style=\"text-align: right;\">\n",
       "      <th></th>\n",
       "    </tr>\n",
       "  </thead>\n",
       "  <tbody>\n",
       "    <tr>\n",
       "      <th>minus_ones</th>\n",
       "    </tr>\n",
       "  </tbody>\n",
       "</table>\n",
       "</div>"
      ],
      "text/plain": [
       "Empty DataFrame\n",
       "Columns: []\n",
       "Index: [minus_ones]"
      ]
     },
     "metadata": {},
     "output_type": "display_data"
    },
    {
     "data": {
      "application/vnd.microsoft.datawrangler.viewer.v0+json": {
       "columns": [
        {
         "name": "index",
         "rawType": "object",
         "type": "string"
        },
        {
         "name": "country_of_production",
         "rawType": "int64",
         "type": "integer"
        },
        {
         "name": "production_studio",
         "rawType": "int64",
         "type": "integer"
        },
        {
         "name": "year_of_production",
         "rawType": "int64",
         "type": "integer"
        },
        {
         "name": "certificate_registration_date",
         "rawType": "int64",
         "type": "integer"
        },
        {
         "name": "film_usage_rights",
         "rawType": "int64",
         "type": "integer"
        },
        {
         "name": "age_rating",
         "rawType": "int64",
         "type": "integer"
        },
        {
         "name": "demonstration_duration_hours",
         "rawType": "int64",
         "type": "integer"
        },
        {
         "name": "demonstration_duration_minutes",
         "rawType": "int64",
         "type": "integer"
        },
        {
         "name": "unit_of_measurement",
         "rawType": "int64",
         "type": "integer"
        },
        {
         "name": "synopsis",
         "rawType": "int64",
         "type": "integer"
        },
        {
         "name": "number_of_episodes",
         "rawType": "int64",
         "type": "integer"
        },
        {
         "name": "media_size",
         "rawType": "int64",
         "type": "integer"
        },
        {
         "name": "amendment_extension_number",
         "rawType": "int64",
         "type": "integer"
        },
        {
         "name": "distribution_rights_transferred",
         "rawType": "int64",
         "type": "integer"
        },
        {
         "name": "note",
         "rawType": "int64",
         "type": "integer"
        },
        {
         "name": "director",
         "rawType": "int64",
         "type": "integer"
        },
        {
         "name": "producer",
         "rawType": "int64",
         "type": "integer"
        },
        {
         "name": "screenwriter",
         "rawType": "int64",
         "type": "integer"
        },
        {
         "name": "cinematographer",
         "rawType": "int64",
         "type": "integer"
        },
        {
         "name": "art_director",
         "rawType": "int64",
         "type": "integer"
        },
        {
         "name": "composer",
         "rawType": "int64",
         "type": "integer"
        },
        {
         "name": "frame_format",
         "rawType": "int64",
         "type": "integer"
        },
        {
         "name": "media_format",
         "rawType": "int64",
         "type": "integer"
        },
        {
         "name": "color",
         "rawType": "int64",
         "type": "integer"
        },
        {
         "name": "original_language",
         "rawType": "int64",
         "type": "integer"
        }
       ],
       "ref": "cce06c3b-dc8c-4066-b33a-ccf114102bb3",
       "rows": [
        [
         "nulls",
         "523",
         "1002",
         "1701",
         "114",
         "13482",
         "218",
         "129288",
         "19628",
         "718854",
         "58043",
         "447698",
         "718575",
         "745600",
         "743626",
         "513112",
         "20907",
         "293402",
         "96132",
         "339180",
         "468370",
         "271082",
         "664156",
         "685757",
         "77",
         "745635"
        ]
       ],
       "shape": {
        "columns": 25,
        "rows": 1
       }
      },
      "text/html": [
       "<div>\n",
       "<style scoped>\n",
       "    .dataframe tbody tr th:only-of-type {\n",
       "        vertical-align: middle;\n",
       "    }\n",
       "\n",
       "    .dataframe tbody tr th {\n",
       "        vertical-align: top;\n",
       "    }\n",
       "\n",
       "    .dataframe thead th {\n",
       "        text-align: right;\n",
       "    }\n",
       "</style>\n",
       "<table border=\"1\" class=\"dataframe\">\n",
       "  <thead>\n",
       "    <tr style=\"text-align: right;\">\n",
       "      <th></th>\n",
       "      <th>country_of_production</th>\n",
       "      <th>production_studio</th>\n",
       "      <th>year_of_production</th>\n",
       "      <th>certificate_registration_date</th>\n",
       "      <th>film_usage_rights</th>\n",
       "      <th>age_rating</th>\n",
       "      <th>demonstration_duration_hours</th>\n",
       "      <th>demonstration_duration_minutes</th>\n",
       "      <th>unit_of_measurement</th>\n",
       "      <th>synopsis</th>\n",
       "      <th>...</th>\n",
       "      <th>director</th>\n",
       "      <th>producer</th>\n",
       "      <th>screenwriter</th>\n",
       "      <th>cinematographer</th>\n",
       "      <th>art_director</th>\n",
       "      <th>composer</th>\n",
       "      <th>frame_format</th>\n",
       "      <th>media_format</th>\n",
       "      <th>color</th>\n",
       "      <th>original_language</th>\n",
       "    </tr>\n",
       "  </thead>\n",
       "  <tbody>\n",
       "    <tr>\n",
       "      <th>nulls</th>\n",
       "      <td>523</td>\n",
       "      <td>1002</td>\n",
       "      <td>1701</td>\n",
       "      <td>114</td>\n",
       "      <td>13482</td>\n",
       "      <td>218</td>\n",
       "      <td>129288</td>\n",
       "      <td>19628</td>\n",
       "      <td>718854</td>\n",
       "      <td>58043</td>\n",
       "      <td>...</td>\n",
       "      <td>20907</td>\n",
       "      <td>293402</td>\n",
       "      <td>96132</td>\n",
       "      <td>339180</td>\n",
       "      <td>468370</td>\n",
       "      <td>271082</td>\n",
       "      <td>664156</td>\n",
       "      <td>685757</td>\n",
       "      <td>77</td>\n",
       "      <td>745635</td>\n",
       "    </tr>\n",
       "  </tbody>\n",
       "</table>\n",
       "<p>1 rows × 25 columns</p>\n",
       "</div>"
      ],
      "text/plain": [
       "       country_of_production  production_studio  year_of_production  \\\n",
       "nulls                    523               1002                1701   \n",
       "\n",
       "       certificate_registration_date  film_usage_rights  age_rating  \\\n",
       "nulls                            114              13482         218   \n",
       "\n",
       "       demonstration_duration_hours  demonstration_duration_minutes  \\\n",
       "nulls                        129288                           19628   \n",
       "\n",
       "       unit_of_measurement  synopsis  ...  director  producer  screenwriter  \\\n",
       "nulls               718854     58043  ...     20907    293402         96132   \n",
       "\n",
       "       cinematographer  art_director  composer  frame_format  media_format  \\\n",
       "nulls           339180        468370    271082        664156        685757   \n",
       "\n",
       "       color  original_language  \n",
       "nulls     77             745635  \n",
       "\n",
       "[1 rows x 25 columns]"
      ]
     },
     "metadata": {},
     "output_type": "display_data"
    },
    {
     "data": {
      "application/vnd.microsoft.datawrangler.viewer.v0+json": {
       "columns": [
        {
         "name": "index",
         "rawType": "object",
         "type": "string"
        },
        {
         "name": "country_of_production",
         "rawType": "int64",
         "type": "integer"
        },
        {
         "name": "production_studio",
         "rawType": "int64",
         "type": "integer"
        },
        {
         "name": "year_of_production",
         "rawType": "int64",
         "type": "integer"
        },
        {
         "name": "certificate_registration_date",
         "rawType": "int64",
         "type": "integer"
        },
        {
         "name": "film_usage_rights",
         "rawType": "int64",
         "type": "integer"
        },
        {
         "name": "age_rating",
         "rawType": "int64",
         "type": "integer"
        },
        {
         "name": "demonstration_duration_hours",
         "rawType": "int64",
         "type": "integer"
        },
        {
         "name": "demonstration_duration_minutes",
         "rawType": "int64",
         "type": "integer"
        },
        {
         "name": "unit_of_measurement",
         "rawType": "int64",
         "type": "integer"
        },
        {
         "name": "synopsis",
         "rawType": "int64",
         "type": "integer"
        },
        {
         "name": "number_of_episodes",
         "rawType": "int64",
         "type": "integer"
        },
        {
         "name": "media_size",
         "rawType": "int64",
         "type": "integer"
        },
        {
         "name": "amendment_extension_number",
         "rawType": "int64",
         "type": "integer"
        },
        {
         "name": "distribution_rights_transferred",
         "rawType": "int64",
         "type": "integer"
        },
        {
         "name": "note",
         "rawType": "int64",
         "type": "integer"
        },
        {
         "name": "director",
         "rawType": "int64",
         "type": "integer"
        },
        {
         "name": "producer",
         "rawType": "int64",
         "type": "integer"
        },
        {
         "name": "screenwriter",
         "rawType": "int64",
         "type": "integer"
        },
        {
         "name": "cinematographer",
         "rawType": "int64",
         "type": "integer"
        },
        {
         "name": "art_director",
         "rawType": "int64",
         "type": "integer"
        },
        {
         "name": "composer",
         "rawType": "int64",
         "type": "integer"
        },
        {
         "name": "frame_format",
         "rawType": "int64",
         "type": "integer"
        },
        {
         "name": "media_format",
         "rawType": "int64",
         "type": "integer"
        },
        {
         "name": "color",
         "rawType": "int64",
         "type": "integer"
        },
        {
         "name": "original_language",
         "rawType": "int64",
         "type": "integer"
        }
       ],
       "ref": "2b3229a5-0b9b-486b-8fc8-eb6cf5bc586c",
       "rows": [
        [
         "nans",
         "523",
         "1002",
         "1701",
         "114",
         "13482",
         "218",
         "129288",
         "19628",
         "718854",
         "58043",
         "447698",
         "718575",
         "745600",
         "743626",
         "513112",
         "20907",
         "293402",
         "96132",
         "339180",
         "468370",
         "271082",
         "664156",
         "685757",
         "77",
         "745635"
        ]
       ],
       "shape": {
        "columns": 25,
        "rows": 1
       }
      },
      "text/html": [
       "<div>\n",
       "<style scoped>\n",
       "    .dataframe tbody tr th:only-of-type {\n",
       "        vertical-align: middle;\n",
       "    }\n",
       "\n",
       "    .dataframe tbody tr th {\n",
       "        vertical-align: top;\n",
       "    }\n",
       "\n",
       "    .dataframe thead th {\n",
       "        text-align: right;\n",
       "    }\n",
       "</style>\n",
       "<table border=\"1\" class=\"dataframe\">\n",
       "  <thead>\n",
       "    <tr style=\"text-align: right;\">\n",
       "      <th></th>\n",
       "      <th>country_of_production</th>\n",
       "      <th>production_studio</th>\n",
       "      <th>year_of_production</th>\n",
       "      <th>certificate_registration_date</th>\n",
       "      <th>film_usage_rights</th>\n",
       "      <th>age_rating</th>\n",
       "      <th>demonstration_duration_hours</th>\n",
       "      <th>demonstration_duration_minutes</th>\n",
       "      <th>unit_of_measurement</th>\n",
       "      <th>synopsis</th>\n",
       "      <th>...</th>\n",
       "      <th>director</th>\n",
       "      <th>producer</th>\n",
       "      <th>screenwriter</th>\n",
       "      <th>cinematographer</th>\n",
       "      <th>art_director</th>\n",
       "      <th>composer</th>\n",
       "      <th>frame_format</th>\n",
       "      <th>media_format</th>\n",
       "      <th>color</th>\n",
       "      <th>original_language</th>\n",
       "    </tr>\n",
       "  </thead>\n",
       "  <tbody>\n",
       "    <tr>\n",
       "      <th>nans</th>\n",
       "      <td>523</td>\n",
       "      <td>1002</td>\n",
       "      <td>1701</td>\n",
       "      <td>114</td>\n",
       "      <td>13482</td>\n",
       "      <td>218</td>\n",
       "      <td>129288</td>\n",
       "      <td>19628</td>\n",
       "      <td>718854</td>\n",
       "      <td>58043</td>\n",
       "      <td>...</td>\n",
       "      <td>20907</td>\n",
       "      <td>293402</td>\n",
       "      <td>96132</td>\n",
       "      <td>339180</td>\n",
       "      <td>468370</td>\n",
       "      <td>271082</td>\n",
       "      <td>664156</td>\n",
       "      <td>685757</td>\n",
       "      <td>77</td>\n",
       "      <td>745635</td>\n",
       "    </tr>\n",
       "  </tbody>\n",
       "</table>\n",
       "<p>1 rows × 25 columns</p>\n",
       "</div>"
      ],
      "text/plain": [
       "      country_of_production  production_studio  year_of_production  \\\n",
       "nans                    523               1002                1701   \n",
       "\n",
       "      certificate_registration_date  film_usage_rights  age_rating  \\\n",
       "nans                            114              13482         218   \n",
       "\n",
       "      demonstration_duration_hours  demonstration_duration_minutes  \\\n",
       "nans                        129288                           19628   \n",
       "\n",
       "      unit_of_measurement  synopsis  ...  director  producer  screenwriter  \\\n",
       "nans               718854     58043  ...     20907    293402         96132   \n",
       "\n",
       "      cinematographer  art_director  composer  frame_format  media_format  \\\n",
       "nans           339180        468370    271082        664156        685757   \n",
       "\n",
       "      color  original_language  \n",
       "nans     77             745635  \n",
       "\n",
       "[1 rows x 25 columns]"
      ]
     },
     "metadata": {},
     "output_type": "display_data"
    },
    {
     "data": {
      "application/vnd.microsoft.datawrangler.viewer.v0+json": {
       "columns": [
        {
         "name": "index",
         "rawType": "object",
         "type": "string"
        }
       ],
       "ref": "95127569-8bcc-4bd7-aacb-dd4531c56fdd",
       "rows": [
        [
         "nones"
        ]
       ],
       "shape": {
        "columns": 0,
        "rows": 1
       }
      },
      "text/html": [
       "<div>\n",
       "<style scoped>\n",
       "    .dataframe tbody tr th:only-of-type {\n",
       "        vertical-align: middle;\n",
       "    }\n",
       "\n",
       "    .dataframe tbody tr th {\n",
       "        vertical-align: top;\n",
       "    }\n",
       "\n",
       "    .dataframe thead th {\n",
       "        text-align: right;\n",
       "    }\n",
       "</style>\n",
       "<table border=\"1\" class=\"dataframe\">\n",
       "  <thead>\n",
       "    <tr style=\"text-align: right;\">\n",
       "      <th></th>\n",
       "    </tr>\n",
       "  </thead>\n",
       "  <tbody>\n",
       "    <tr>\n",
       "      <th>nones</th>\n",
       "    </tr>\n",
       "  </tbody>\n",
       "</table>\n",
       "</div>"
      ],
      "text/plain": [
       "Empty DataFrame\n",
       "Columns: []\n",
       "Index: [nones]"
      ]
     },
     "metadata": {},
     "output_type": "display_data"
    },
    {
     "data": {
      "application/vnd.microsoft.datawrangler.viewer.v0+json": {
       "columns": [
        {
         "name": "index",
         "rawType": "object",
         "type": "string"
        }
       ],
       "ref": "92c5af59-8580-42b8-ae85-7a02dfb40914",
       "rows": [
        [
         "NA placeholder"
        ]
       ],
       "shape": {
        "columns": 0,
        "rows": 1
       }
      },
      "text/html": [
       "<div>\n",
       "<style scoped>\n",
       "    .dataframe tbody tr th:only-of-type {\n",
       "        vertical-align: middle;\n",
       "    }\n",
       "\n",
       "    .dataframe tbody tr th {\n",
       "        vertical-align: top;\n",
       "    }\n",
       "\n",
       "    .dataframe thead th {\n",
       "        text-align: right;\n",
       "    }\n",
       "</style>\n",
       "<table border=\"1\" class=\"dataframe\">\n",
       "  <thead>\n",
       "    <tr style=\"text-align: right;\">\n",
       "      <th></th>\n",
       "    </tr>\n",
       "  </thead>\n",
       "  <tbody>\n",
       "    <tr>\n",
       "      <th>NA placeholder</th>\n",
       "    </tr>\n",
       "  </tbody>\n",
       "</table>\n",
       "</div>"
      ],
      "text/plain": [
       "Empty DataFrame\n",
       "Columns: []\n",
       "Index: [NA placeholder]"
      ]
     },
     "metadata": {},
     "output_type": "display_data"
    },
    {
     "data": {
      "application/vnd.microsoft.datawrangler.viewer.v0+json": {
       "columns": [
        {
         "name": "index",
         "rawType": "object",
         "type": "string"
        }
       ],
       "ref": "9a4e2137-f3ce-4161-be00-f6e5d6c74f1a",
       "rows": [
        [
         "null placeholder"
        ]
       ],
       "shape": {
        "columns": 0,
        "rows": 1
       }
      },
      "text/html": [
       "<div>\n",
       "<style scoped>\n",
       "    .dataframe tbody tr th:only-of-type {\n",
       "        vertical-align: middle;\n",
       "    }\n",
       "\n",
       "    .dataframe tbody tr th {\n",
       "        vertical-align: top;\n",
       "    }\n",
       "\n",
       "    .dataframe thead th {\n",
       "        text-align: right;\n",
       "    }\n",
       "</style>\n",
       "<table border=\"1\" class=\"dataframe\">\n",
       "  <thead>\n",
       "    <tr style=\"text-align: right;\">\n",
       "      <th></th>\n",
       "    </tr>\n",
       "  </thead>\n",
       "  <tbody>\n",
       "    <tr>\n",
       "      <th>null placeholder</th>\n",
       "    </tr>\n",
       "  </tbody>\n",
       "</table>\n",
       "</div>"
      ],
      "text/plain": [
       "Empty DataFrame\n",
       "Columns: []\n",
       "Index: [null placeholder]"
      ]
     },
     "metadata": {},
     "output_type": "display_data"
    },
    {
     "data": {
      "application/vnd.microsoft.datawrangler.viewer.v0+json": {
       "columns": [
        {
         "name": "index",
         "rawType": "object",
         "type": "string"
        }
       ],
       "ref": "6e10b0e4-c964-47b4-b9b1-7861f4b39d60",
       "rows": [
        [
         "N/A placeholder"
        ]
       ],
       "shape": {
        "columns": 0,
        "rows": 1
       }
      },
      "text/html": [
       "<div>\n",
       "<style scoped>\n",
       "    .dataframe tbody tr th:only-of-type {\n",
       "        vertical-align: middle;\n",
       "    }\n",
       "\n",
       "    .dataframe tbody tr th {\n",
       "        vertical-align: top;\n",
       "    }\n",
       "\n",
       "    .dataframe thead th {\n",
       "        text-align: right;\n",
       "    }\n",
       "</style>\n",
       "<table border=\"1\" class=\"dataframe\">\n",
       "  <thead>\n",
       "    <tr style=\"text-align: right;\">\n",
       "      <th></th>\n",
       "    </tr>\n",
       "  </thead>\n",
       "  <tbody>\n",
       "    <tr>\n",
       "      <th>N/A placeholder</th>\n",
       "    </tr>\n",
       "  </tbody>\n",
       "</table>\n",
       "</div>"
      ],
      "text/plain": [
       "Empty DataFrame\n",
       "Columns: []\n",
       "Index: [N/A placeholder]"
      ]
     },
     "metadata": {},
     "output_type": "display_data"
    },
    {
     "data": {
      "application/vnd.microsoft.datawrangler.viewer.v0+json": {
       "columns": [
        {
         "name": "index",
         "rawType": "object",
         "type": "string"
        },
        {
         "name": "<class 'str'>",
         "rawType": "int64",
         "type": "integer"
        },
        {
         "name": "<class 'int'>",
         "rawType": "float64",
         "type": "float"
        },
        {
         "name": "<class 'float'>",
         "rawType": "float64",
         "type": "float"
        }
       ],
       "ref": "da756736-bf38-4a2b-a8b1-f67ec1e9a6ab",
       "rows": [
        [
         "certificate_number",
         "536071",
         "209593.0",
         null
        ],
        [
         "demonstration_duration_minutes",
         "29066",
         null,
         "696970.0"
        ],
        [
         "number_of_episodes",
         "19312",
         null,
         "278654.0"
        ],
        [
         "media_size",
         "27086",
         null,
         "3.0"
        ]
       ],
       "shape": {
        "columns": 3,
        "rows": 4
       }
      },
      "text/html": [
       "<div>\n",
       "<style scoped>\n",
       "    .dataframe tbody tr th:only-of-type {\n",
       "        vertical-align: middle;\n",
       "    }\n",
       "\n",
       "    .dataframe tbody tr th {\n",
       "        vertical-align: top;\n",
       "    }\n",
       "\n",
       "    .dataframe thead th {\n",
       "        text-align: right;\n",
       "    }\n",
       "</style>\n",
       "<table border=\"1\" class=\"dataframe\">\n",
       "  <thead>\n",
       "    <tr style=\"text-align: right;\">\n",
       "      <th></th>\n",
       "      <th>&lt;class 'str'&gt;</th>\n",
       "      <th>&lt;class 'int'&gt;</th>\n",
       "      <th>&lt;class 'float'&gt;</th>\n",
       "    </tr>\n",
       "  </thead>\n",
       "  <tbody>\n",
       "    <tr>\n",
       "      <th>certificate_number</th>\n",
       "      <td>536071</td>\n",
       "      <td>209593.0</td>\n",
       "      <td>NaN</td>\n",
       "    </tr>\n",
       "    <tr>\n",
       "      <th>demonstration_duration_minutes</th>\n",
       "      <td>29066</td>\n",
       "      <td>NaN</td>\n",
       "      <td>696970.0</td>\n",
       "    </tr>\n",
       "    <tr>\n",
       "      <th>number_of_episodes</th>\n",
       "      <td>19312</td>\n",
       "      <td>NaN</td>\n",
       "      <td>278654.0</td>\n",
       "    </tr>\n",
       "    <tr>\n",
       "      <th>media_size</th>\n",
       "      <td>27086</td>\n",
       "      <td>NaN</td>\n",
       "      <td>3.0</td>\n",
       "    </tr>\n",
       "  </tbody>\n",
       "</table>\n",
       "</div>"
      ],
      "text/plain": [
       "                                <class 'str'>  <class 'int'>  <class 'float'>\n",
       "certificate_number                     536071       209593.0              NaN\n",
       "demonstration_duration_minutes          29066            NaN         696970.0\n",
       "number_of_episodes                      19312            NaN         278654.0\n",
       "media_size                              27086            NaN              3.0"
      ]
     },
     "metadata": {},
     "output_type": "display_data"
    }
   ],
   "source": [
    "pd_tools.df_info(fc_reg_df)"
   ]
  },
  {
   "cell_type": "markdown",
   "id": "566f0f97",
   "metadata": {},
   "source": [
    "## Data transform"
   ]
  },
  {
   "cell_type": "code",
   "execution_count": 224,
   "id": "052542a3",
   "metadata": {},
   "outputs": [],
   "source": [
    "def not_same_types(df: pd.DataFrame, col_name: str) -> pd.Series | None:\n",
    "    \"\"\"\n",
    "    If there are multiple dtypes in col, return a col_name with counts of each dtype.\n",
    "    Null values are ignored in the check.\n",
    "    If all dtypes are the same, return None.    \n",
    "    \"\"\"\n",
    "    non_null_col = df[col_name][df[col_name].notnull()]\n",
    "    col_types = non_null_col.apply(type).value_counts()\n",
    "    if len(col_types) > 1:\n",
    "        return col_types\n",
    "    else:\n",
    "        print(f'Column {col_name} has only one type: {col_types.index[0]}')\n",
    "        return None  \n",
    "    \n",
    "def str_class(df: pd.DataFrame, col_name: str) -> pd.DataFrame:\n",
    "    '''\n",
    "    Classifies values in col_name as:\n",
    "    - is_digit: all digits\n",
    "    - is_alpha: all alphabetic (A-Z or Cyrillic)\n",
    "    - is_empty: empty string after strip\n",
    "    - has_special_symbols: any character excluding . , letters, digits, space\n",
    "    - has_letters: contains at least one letter\n",
    "    - has_dots: contains \".\"\n",
    "    - has_commas: contains \",\"\n",
    "    - has_spaces: contains space\n",
    "    - nans_nulls: null or NaN\n",
    "    - etc: does not match any above\n",
    "    '''\n",
    "    raw_series = df[col_name]\n",
    "    series = raw_series.astype(str).str.strip()\n",
    "\n",
    "    is_digit = series.apply(lambda x: x.isdigit())\n",
    "    # NaN becomes the string 'nan' when cast to str.\n",
    "    is_alpha = series.apply(lambda x: x.isalpha() if x and (x != 'nan') else False)\n",
    "    is_empty = series.apply(lambda x: x == '')\n",
    "\n",
    "    has_letters = series.apply(lambda x: any(c.isalpha() for c in x) if x and (x != 'nan') else False)\n",
    "    has_special_symbols = series.apply(\n",
    "        lambda x: bool(re.search(r'[^a-zA-Zа-яА-ЯёЁ0-9\\s.,]', x))\n",
    "    )\n",
    "    has_dots = series.apply(lambda x: '.' in x)\n",
    "    has_commas = series.apply(lambda x: ',' in x)\n",
    "    has_spaces = series.apply(lambda x: ' ' in x)\n",
    "\n",
    "    nans_nulls = raw_series.isnull()\n",
    "\n",
    "    # etc = does not match any of the above and is not null\n",
    "    etc = ~(is_digit | is_alpha | is_empty | has_special_symbols |\n",
    "            has_letters | has_dots | has_commas | has_spaces | nans_nulls)\n",
    "\n",
    "    results_df = pd.DataFrame({\n",
    "        'is_digit': is_digit,\n",
    "        'is_alpha': is_alpha,\n",
    "        'is_empty': is_empty,\n",
    "        'has_special_symbols': has_special_symbols,\n",
    "        'has_letters': has_letters,\n",
    "        'has_dots': has_dots,\n",
    "        'has_commas': has_commas,\n",
    "        'has_spaces': has_spaces,\n",
    "        'nans_nulls': nans_nulls,\n",
    "        'etc': etc\n",
    "    })\n",
    "\n",
    "    summary = results_df.sum().reset_index()\n",
    "    summary.columns = ['text_property', 'count']\n",
    "\n",
    "   \n",
    "\n",
    "    return summary\n"
   ]
  },
  {
   "cell_type": "code",
   "execution_count": 222,
   "id": "c99220d8",
   "metadata": {},
   "outputs": [
    {
     "data": {
      "application/vnd.microsoft.datawrangler.viewer.v0+json": {
       "columns": [
        {
         "name": "index",
         "rawType": "int64",
         "type": "integer"
        },
        {
         "name": "text_property",
         "rawType": "object",
         "type": "string"
        },
        {
         "name": "count",
         "rawType": "int64",
         "type": "integer"
        }
       ],
       "ref": "d7d7dcf4-5081-4cf2-9a4b-d7d460389a08",
       "rows": [
        [
         "0",
         "is_digit",
         "731344"
        ],
        [
         "1",
         "is_alpha",
         "12"
        ],
        [
         "2",
         "is_empty",
         "0"
        ],
        [
         "3",
         "has_special_symbols",
         "54"
        ],
        [
         "4",
         "has_letters",
         "14266"
        ],
        [
         "5",
         "has_dots",
         "0"
        ],
        [
         "6",
         "has_commas",
         "0"
        ],
        [
         "7",
         "has_spaces",
         "64"
        ],
        [
         "8",
         "nans_nulls",
         "0"
        ],
        [
         "9",
         "etc",
         "0"
        ]
       ],
       "shape": {
        "columns": 2,
        "rows": 10
       }
      },
      "text/html": [
       "<div>\n",
       "<style scoped>\n",
       "    .dataframe tbody tr th:only-of-type {\n",
       "        vertical-align: middle;\n",
       "    }\n",
       "\n",
       "    .dataframe tbody tr th {\n",
       "        vertical-align: top;\n",
       "    }\n",
       "\n",
       "    .dataframe thead th {\n",
       "        text-align: right;\n",
       "    }\n",
       "</style>\n",
       "<table border=\"1\" class=\"dataframe\">\n",
       "  <thead>\n",
       "    <tr style=\"text-align: right;\">\n",
       "      <th></th>\n",
       "      <th>text_property</th>\n",
       "      <th>count</th>\n",
       "    </tr>\n",
       "  </thead>\n",
       "  <tbody>\n",
       "    <tr>\n",
       "      <th>0</th>\n",
       "      <td>is_digit</td>\n",
       "      <td>731344</td>\n",
       "    </tr>\n",
       "    <tr>\n",
       "      <th>1</th>\n",
       "      <td>is_alpha</td>\n",
       "      <td>12</td>\n",
       "    </tr>\n",
       "    <tr>\n",
       "      <th>2</th>\n",
       "      <td>is_empty</td>\n",
       "      <td>0</td>\n",
       "    </tr>\n",
       "    <tr>\n",
       "      <th>3</th>\n",
       "      <td>has_special_symbols</td>\n",
       "      <td>54</td>\n",
       "    </tr>\n",
       "    <tr>\n",
       "      <th>4</th>\n",
       "      <td>has_letters</td>\n",
       "      <td>14266</td>\n",
       "    </tr>\n",
       "    <tr>\n",
       "      <th>5</th>\n",
       "      <td>has_dots</td>\n",
       "      <td>0</td>\n",
       "    </tr>\n",
       "    <tr>\n",
       "      <th>6</th>\n",
       "      <td>has_commas</td>\n",
       "      <td>0</td>\n",
       "    </tr>\n",
       "    <tr>\n",
       "      <th>7</th>\n",
       "      <td>has_spaces</td>\n",
       "      <td>64</td>\n",
       "    </tr>\n",
       "    <tr>\n",
       "      <th>8</th>\n",
       "      <td>nans_nulls</td>\n",
       "      <td>0</td>\n",
       "    </tr>\n",
       "    <tr>\n",
       "      <th>9</th>\n",
       "      <td>etc</td>\n",
       "      <td>0</td>\n",
       "    </tr>\n",
       "  </tbody>\n",
       "</table>\n",
       "</div>"
      ],
      "text/plain": [
       "         text_property   count\n",
       "0             is_digit  731344\n",
       "1             is_alpha      12\n",
       "2             is_empty       0\n",
       "3  has_special_symbols      54\n",
       "4          has_letters   14266\n",
       "5             has_dots       0\n",
       "6           has_commas       0\n",
       "7           has_spaces      64\n",
       "8           nans_nulls       0\n",
       "9                  etc       0"
      ]
     },
     "execution_count": 222,
     "metadata": {},
     "output_type": "execute_result"
    }
   ],
   "source": [
    "str_class(fc_reg_df, 'certificate_number')"
   ]
  },
  {
   "cell_type": "code",
   "execution_count": 189,
   "id": "7faffeba",
   "metadata": {},
   "outputs": [
    {
     "data": {
      "application/vnd.microsoft.datawrangler.viewer.v0+json": {
       "columns": [
        {
         "name": "index",
         "rawType": "int64",
         "type": "integer"
        },
        {
         "name": "certificate_number",
         "rawType": "object",
         "type": "string"
        }
       ],
       "ref": "fb13d5dd-120d-4ff5-8db5-3812fbd652b4",
       "rows": [
        [
         "7936",
         "нет"
        ],
        [
         "16864",
         "121012208А"
        ],
        [
         "17641",
         "221113209_"
        ],
        [
         "25246",
         "2210-45210"
        ],
        [
         "27015",
         "213-11610"
        ],
        [
         "62544",
         "21111901Д"
        ],
        [
         "62560",
         "221009902Д"
        ],
        [
         "62561",
         "221094803Д"
        ],
        [
         "62669",
         "221236203Д"
        ],
        [
         "62677",
         "221236303Д"
        ],
        [
         "62685",
         "22140599Д"
        ],
        [
         "62698",
         "221222003Д"
        ],
        [
         "62702",
         "226004100Д"
        ],
        [
         "62738",
         "221103302Д"
        ],
        [
         "62739",
         "221089303Д"
        ],
        [
         "62829",
         "221136802Д"
        ],
        [
         "62833",
         "221221903Д"
        ],
        [
         "62839",
         "221236603Д"
        ],
        [
         "62854",
         "221026901Д"
        ],
        [
         "62879",
         "226104503Д"
        ],
        [
         "62900",
         "221222403Д"
        ],
        [
         "62904",
         "221288503Д"
        ],
        [
         "62909",
         "221221503Д"
        ],
        [
         "62917",
         "221048701Д"
        ],
        [
         "62918",
         "221094903Д"
        ],
        [
         "62919",
         "221114400Д"
        ],
        [
         "62928",
         "221053003Д"
        ],
        [
         "62940",
         "22633699Д"
        ],
        [
         "62949",
         "221025603Д"
        ],
        [
         "62960",
         "221221603Д"
        ],
        [
         "63006",
         "221034203Д"
        ],
        [
         "63010",
         "226091603Д"
        ],
        [
         "63013",
         "221047601Д"
        ],
        [
         "63014",
         "221092903Д"
        ],
        [
         "63015",
         "221120300Д"
        ],
        [
         "63024",
         "221231303Д"
        ],
        [
         "63025",
         "226003400Д"
        ],
        [
         "63026",
         "226006800Д"
        ],
        [
         "63040",
         "221221703Д"
        ],
        [
         "63066",
         "221047701Д"
        ],
        [
         "63067",
         "221093003Д"
        ],
        [
         "63068",
         "221110100Д"
        ],
        [
         "63075",
         "221231403Д"
        ],
        [
         "63095",
         "221045901Д"
        ],
        [
         "63096",
         "221089403Д"
        ],
        [
         "63097",
         "221111900Д"
        ],
        [
         "63100",
         "221086802Д"
        ],
        [
         "63101",
         "221089503Д"
        ],
        [
         "63108",
         "221236403Д"
        ],
        [
         "63127",
         "221222503Д"
        ]
       ],
       "shape": {
        "columns": 1,
        "rows": 14320
       }
      },
      "text/plain": [
       "7936             нет\n",
       "16864     121012208А\n",
       "17641     221113209_\n",
       "25246     2210-45210\n",
       "27015      213-11610\n",
       "             ...    \n",
       "730286    221123801Д\n",
       "730307    221008000Д\n",
       "730382    221050601Д\n",
       "730383    221098103Д\n",
       "730384    221104600Д\n",
       "Name: certificate_number, Length: 14320, dtype: object"
      ]
     },
     "execution_count": 189,
     "metadata": {},
     "output_type": "execute_result"
    }
   ],
   "source": [
    "# find rows where certificate_number is not only digits\n",
    "mask_not_digit = ~fc_reg_df['certificate_number'].astype(str).str.strip().str.isdigit()\n",
    "fc_reg_df.loc[mask_not_digit, 'certificate_number']\n"
   ]
  },
  {
   "cell_type": "code",
   "execution_count": 207,
   "id": "dbc6131f",
   "metadata": {},
   "outputs": [
    {
     "name": "stdout",
     "output_type": "stream",
     "text": [
      "Column certificate_number has only one type: <class 'str'>\n"
     ]
    }
   ],
   "source": [
    "# change to str and removes any leading and trailing whitespace characters from the string values.\n",
    "fc_reg_df['certificate_number'] = fc_reg_df['certificate_number'].astype(str).str.strip()\n",
    "not_same_types(fc_reg_df, 'certificate_number')"
   ]
  },
  {
   "cell_type": "code",
   "execution_count": 208,
   "id": "b8e55fcf",
   "metadata": {},
   "outputs": [
    {
     "data": {
      "application/vnd.microsoft.datawrangler.viewer.v0+json": {
       "columns": [
        {
         "name": "duration_minutes",
         "rawType": "object",
         "type": "unknown"
        },
        {
         "name": "count",
         "rawType": "int64",
         "type": "integer"
        }
       ],
       "ref": "ad9ec7ba-51cd-437f-af02-a0794194909d",
       "rows": [
        [
         "<class 'float'>",
         "696970"
        ],
        [
         "<class 'str'>",
         "29066"
        ]
       ],
       "shape": {
        "columns": 1,
        "rows": 2
       }
      },
      "text/plain": [
       "duration_minutes\n",
       "<class 'float'>    696970\n",
       "<class 'str'>       29066\n",
       "Name: count, dtype: int64"
      ]
     },
     "execution_count": 208,
     "metadata": {},
     "output_type": "execute_result"
    }
   ],
   "source": [
    "not_same_types(fc_reg_df, 'duration_minutes')"
   ]
  },
  {
   "cell_type": "code",
   "execution_count": 227,
   "id": "1f748ace",
   "metadata": {},
   "outputs": [
    {
     "data": {
      "application/vnd.microsoft.datawrangler.viewer.v0+json": {
       "columns": [
        {
         "name": "index",
         "rawType": "int64",
         "type": "integer"
        },
        {
         "name": "text_property",
         "rawType": "object",
         "type": "string"
        },
        {
         "name": "count",
         "rawType": "int64",
         "type": "integer"
        }
       ],
       "ref": "b0937e30-1d7f-4dcb-a9e6-3d19b0c03024",
       "rows": [
        [
         "0",
         "is_digit",
         "29057"
        ],
        [
         "1",
         "is_alpha",
         "0"
        ],
        [
         "2",
         "is_empty",
         "0"
        ],
        [
         "3",
         "has_special_symbols",
         "9"
        ],
        [
         "4",
         "has_letters",
         "0"
        ],
        [
         "5",
         "has_dots",
         "696970"
        ],
        [
         "6",
         "has_commas",
         "0"
        ],
        [
         "7",
         "has_spaces",
         "0"
        ],
        [
         "8",
         "nans_nulls",
         "19628"
        ],
        [
         "9",
         "etc",
         "0"
        ]
       ],
       "shape": {
        "columns": 2,
        "rows": 10
       }
      },
      "text/html": [
       "<div>\n",
       "<style scoped>\n",
       "    .dataframe tbody tr th:only-of-type {\n",
       "        vertical-align: middle;\n",
       "    }\n",
       "\n",
       "    .dataframe tbody tr th {\n",
       "        vertical-align: top;\n",
       "    }\n",
       "\n",
       "    .dataframe thead th {\n",
       "        text-align: right;\n",
       "    }\n",
       "</style>\n",
       "<table border=\"1\" class=\"dataframe\">\n",
       "  <thead>\n",
       "    <tr style=\"text-align: right;\">\n",
       "      <th></th>\n",
       "      <th>text_property</th>\n",
       "      <th>count</th>\n",
       "    </tr>\n",
       "  </thead>\n",
       "  <tbody>\n",
       "    <tr>\n",
       "      <th>0</th>\n",
       "      <td>is_digit</td>\n",
       "      <td>29057</td>\n",
       "    </tr>\n",
       "    <tr>\n",
       "      <th>1</th>\n",
       "      <td>is_alpha</td>\n",
       "      <td>0</td>\n",
       "    </tr>\n",
       "    <tr>\n",
       "      <th>2</th>\n",
       "      <td>is_empty</td>\n",
       "      <td>0</td>\n",
       "    </tr>\n",
       "    <tr>\n",
       "      <th>3</th>\n",
       "      <td>has_special_symbols</td>\n",
       "      <td>9</td>\n",
       "    </tr>\n",
       "    <tr>\n",
       "      <th>4</th>\n",
       "      <td>has_letters</td>\n",
       "      <td>0</td>\n",
       "    </tr>\n",
       "    <tr>\n",
       "      <th>5</th>\n",
       "      <td>has_dots</td>\n",
       "      <td>696970</td>\n",
       "    </tr>\n",
       "    <tr>\n",
       "      <th>6</th>\n",
       "      <td>has_commas</td>\n",
       "      <td>0</td>\n",
       "    </tr>\n",
       "    <tr>\n",
       "      <th>7</th>\n",
       "      <td>has_spaces</td>\n",
       "      <td>0</td>\n",
       "    </tr>\n",
       "    <tr>\n",
       "      <th>8</th>\n",
       "      <td>nans_nulls</td>\n",
       "      <td>19628</td>\n",
       "    </tr>\n",
       "    <tr>\n",
       "      <th>9</th>\n",
       "      <td>etc</td>\n",
       "      <td>0</td>\n",
       "    </tr>\n",
       "  </tbody>\n",
       "</table>\n",
       "</div>"
      ],
      "text/plain": [
       "         text_property   count\n",
       "0             is_digit   29057\n",
       "1             is_alpha       0\n",
       "2             is_empty       0\n",
       "3  has_special_symbols       9\n",
       "4          has_letters       0\n",
       "5             has_dots  696970\n",
       "6           has_commas       0\n",
       "7           has_spaces       0\n",
       "8           nans_nulls   19628\n",
       "9                  etc       0"
      ]
     },
     "execution_count": 227,
     "metadata": {},
     "output_type": "execute_result"
    }
   ],
   "source": [
    "str_class(fc_reg_df, 'duration_minutes')"
   ]
  },
  {
   "cell_type": "code",
   "execution_count": 210,
   "id": "52b50ea3",
   "metadata": {},
   "outputs": [
    {
     "data": {
      "application/vnd.microsoft.datawrangler.viewer.v0+json": {
       "columns": [
        {
         "name": "index",
         "rawType": "int64",
         "type": "integer"
        },
        {
         "name": "duration_minutes",
         "rawType": "object",
         "type": "string"
        }
       ],
       "ref": "f57b427f-50ce-4d45-8b22-5df024f9e48e",
       "rows": [
        [
         "188562",
         "58/59"
        ],
        [
         "190277",
         "7/8"
        ],
        [
         "191417",
         "28/25"
        ],
        [
         "638127",
         "58/59"
        ],
        [
         "639842",
         "7/8"
        ],
        [
         "640981",
         "28/25"
        ],
        [
         "741296",
         "58/59"
        ],
        [
         "743010",
         "7/8"
        ],
        [
         "744152",
         "28/25"
        ]
       ],
       "shape": {
        "columns": 1,
        "rows": 9
       }
      },
      "text/plain": [
       "188562    58/59\n",
       "190277      7/8\n",
       "191417    28/25\n",
       "638127    58/59\n",
       "639842      7/8\n",
       "640981    28/25\n",
       "741296    58/59\n",
       "743010      7/8\n",
       "744152    28/25\n",
       "Name: duration_minutes, dtype: object"
      ]
     },
     "execution_count": 210,
     "metadata": {},
     "output_type": "execute_result"
    }
   ],
   "source": [
    "# find rows with special characters in duration_minutes\n",
    "has_spec_sym = fc_reg_df['duration_minutes'].astype(str).apply(lambda x: bool(re.search(r'[^a-zA-Zа-яА-ЯёЁ0-9\\s.,]', x)))\n",
    "fc_reg_df[has_spec_sym]['duration_minutes']"
   ]
  },
  {
   "cell_type": "code",
   "execution_count": 230,
   "id": "f0ab9ff0",
   "metadata": {},
   "outputs": [],
   "source": [
    "fc_reg_df['duration_minutes'] = (fc_reg_df['duration_minutes']\n",
    "                .astype(str)                 # Convert to string (NaN -> 'nan')\n",
    "                .str.split('/')              # Split by '/'\n",
    "                .str[0]                     # Take first part\n",
    "                .str.strip()                # Strip whitespace\n",
    "                .replace('nan', '-1')       # Replace 'nan' string with '-1'\n",
    "                .astype(float)              # Convert to float\n",
    "                .astype(int)                # Convert to int\n",
    "            )"
   ]
  },
  {
   "cell_type": "code",
   "execution_count": 232,
   "id": "4a148610",
   "metadata": {},
   "outputs": [
    {
     "name": "stdout",
     "output_type": "stream",
     "text": [
      "Column duration_minutes has only one type: <class 'int'>\n"
     ]
    }
   ],
   "source": [
    "not_same_types(fc_reg_df, 'duration_minutes')"
   ]
  },
  {
   "cell_type": "code",
   "execution_count": 203,
   "id": "e7793e9f",
   "metadata": {},
   "outputs": [
    {
     "ename": "ValueError",
     "evalue": "invalid literal for int() with base 10: '3.0'",
     "output_type": "error",
     "traceback": [
      "\u001b[31m---------------------------------------------------------------------------\u001b[39m",
      "\u001b[31mValueError\u001b[39m                                Traceback (most recent call last)",
      "\u001b[36mCell\u001b[39m\u001b[36m \u001b[39m\u001b[32mIn[203]\u001b[39m\u001b[32m, line 2\u001b[39m\n\u001b[32m      1\u001b[39m \u001b[38;5;66;03m# convert duration_minutes to int\u001b[39;00m\n\u001b[32m----> \u001b[39m\u001b[32m2\u001b[39m fc_reg_df[\u001b[33m'\u001b[39m\u001b[33mduration_minutes\u001b[39m\u001b[33m'\u001b[39m].astype(\u001b[38;5;28mint\u001b[39m)\n",
      "\u001b[36mFile \u001b[39m\u001b[32m~/miniconda3/envs/de/lib/python3.12/site-packages/pandas/core/generic.py:6643\u001b[39m, in \u001b[36mNDFrame.astype\u001b[39m\u001b[34m(self, dtype, copy, errors)\u001b[39m\n\u001b[32m   6637\u001b[39m     results = [\n\u001b[32m   6638\u001b[39m         ser.astype(dtype, copy=copy, errors=errors) \u001b[38;5;28;01mfor\u001b[39;00m _, ser \u001b[38;5;129;01min\u001b[39;00m \u001b[38;5;28mself\u001b[39m.items()\n\u001b[32m   6639\u001b[39m     ]\n\u001b[32m   6641\u001b[39m \u001b[38;5;28;01melse\u001b[39;00m:\n\u001b[32m   6642\u001b[39m     \u001b[38;5;66;03m# else, only a single dtype is given\u001b[39;00m\n\u001b[32m-> \u001b[39m\u001b[32m6643\u001b[39m     new_data = \u001b[38;5;28mself\u001b[39m._mgr.astype(dtype=dtype, copy=copy, errors=errors)\n\u001b[32m   6644\u001b[39m     res = \u001b[38;5;28mself\u001b[39m._constructor_from_mgr(new_data, axes=new_data.axes)\n\u001b[32m   6645\u001b[39m     \u001b[38;5;28;01mreturn\u001b[39;00m res.__finalize__(\u001b[38;5;28mself\u001b[39m, method=\u001b[33m\"\u001b[39m\u001b[33mastype\u001b[39m\u001b[33m\"\u001b[39m)\n",
      "\u001b[36mFile \u001b[39m\u001b[32m~/miniconda3/envs/de/lib/python3.12/site-packages/pandas/core/internals/managers.py:430\u001b[39m, in \u001b[36mBaseBlockManager.astype\u001b[39m\u001b[34m(self, dtype, copy, errors)\u001b[39m\n\u001b[32m    427\u001b[39m \u001b[38;5;28;01melif\u001b[39;00m using_copy_on_write():\n\u001b[32m    428\u001b[39m     copy = \u001b[38;5;28;01mFalse\u001b[39;00m\n\u001b[32m--> \u001b[39m\u001b[32m430\u001b[39m \u001b[38;5;28;01mreturn\u001b[39;00m \u001b[38;5;28mself\u001b[39m.apply(\n\u001b[32m    431\u001b[39m     \u001b[33m\"\u001b[39m\u001b[33mastype\u001b[39m\u001b[33m\"\u001b[39m,\n\u001b[32m    432\u001b[39m     dtype=dtype,\n\u001b[32m    433\u001b[39m     copy=copy,\n\u001b[32m    434\u001b[39m     errors=errors,\n\u001b[32m    435\u001b[39m     using_cow=using_copy_on_write(),\n\u001b[32m    436\u001b[39m )\n",
      "\u001b[36mFile \u001b[39m\u001b[32m~/miniconda3/envs/de/lib/python3.12/site-packages/pandas/core/internals/managers.py:363\u001b[39m, in \u001b[36mBaseBlockManager.apply\u001b[39m\u001b[34m(self, f, align_keys, **kwargs)\u001b[39m\n\u001b[32m    361\u001b[39m         applied = b.apply(f, **kwargs)\n\u001b[32m    362\u001b[39m     \u001b[38;5;28;01melse\u001b[39;00m:\n\u001b[32m--> \u001b[39m\u001b[32m363\u001b[39m         applied = \u001b[38;5;28mgetattr\u001b[39m(b, f)(**kwargs)\n\u001b[32m    364\u001b[39m     result_blocks = extend_blocks(applied, result_blocks)\n\u001b[32m    366\u001b[39m out = \u001b[38;5;28mtype\u001b[39m(\u001b[38;5;28mself\u001b[39m).from_blocks(result_blocks, \u001b[38;5;28mself\u001b[39m.axes)\n",
      "\u001b[36mFile \u001b[39m\u001b[32m~/miniconda3/envs/de/lib/python3.12/site-packages/pandas/core/internals/blocks.py:758\u001b[39m, in \u001b[36mBlock.astype\u001b[39m\u001b[34m(self, dtype, copy, errors, using_cow, squeeze)\u001b[39m\n\u001b[32m    755\u001b[39m         \u001b[38;5;28;01mraise\u001b[39;00m \u001b[38;5;167;01mValueError\u001b[39;00m(\u001b[33m\"\u001b[39m\u001b[33mCan not squeeze with more than one column.\u001b[39m\u001b[33m\"\u001b[39m)\n\u001b[32m    756\u001b[39m     values = values[\u001b[32m0\u001b[39m, :]  \u001b[38;5;66;03m# type: ignore[call-overload]\u001b[39;00m\n\u001b[32m--> \u001b[39m\u001b[32m758\u001b[39m new_values = astype_array_safe(values, dtype, copy=copy, errors=errors)\n\u001b[32m    760\u001b[39m new_values = maybe_coerce_values(new_values)\n\u001b[32m    762\u001b[39m refs = \u001b[38;5;28;01mNone\u001b[39;00m\n",
      "\u001b[36mFile \u001b[39m\u001b[32m~/miniconda3/envs/de/lib/python3.12/site-packages/pandas/core/dtypes/astype.py:237\u001b[39m, in \u001b[36mastype_array_safe\u001b[39m\u001b[34m(values, dtype, copy, errors)\u001b[39m\n\u001b[32m    234\u001b[39m     dtype = dtype.numpy_dtype\n\u001b[32m    236\u001b[39m \u001b[38;5;28;01mtry\u001b[39;00m:\n\u001b[32m--> \u001b[39m\u001b[32m237\u001b[39m     new_values = astype_array(values, dtype, copy=copy)\n\u001b[32m    238\u001b[39m \u001b[38;5;28;01mexcept\u001b[39;00m (\u001b[38;5;167;01mValueError\u001b[39;00m, \u001b[38;5;167;01mTypeError\u001b[39;00m):\n\u001b[32m    239\u001b[39m     \u001b[38;5;66;03m# e.g. _astype_nansafe can fail on object-dtype of strings\u001b[39;00m\n\u001b[32m    240\u001b[39m     \u001b[38;5;66;03m#  trying to convert to float\u001b[39;00m\n\u001b[32m    241\u001b[39m     \u001b[38;5;28;01mif\u001b[39;00m errors == \u001b[33m\"\u001b[39m\u001b[33mignore\u001b[39m\u001b[33m\"\u001b[39m:\n",
      "\u001b[36mFile \u001b[39m\u001b[32m~/miniconda3/envs/de/lib/python3.12/site-packages/pandas/core/dtypes/astype.py:182\u001b[39m, in \u001b[36mastype_array\u001b[39m\u001b[34m(values, dtype, copy)\u001b[39m\n\u001b[32m    179\u001b[39m     values = values.astype(dtype, copy=copy)\n\u001b[32m    181\u001b[39m \u001b[38;5;28;01melse\u001b[39;00m:\n\u001b[32m--> \u001b[39m\u001b[32m182\u001b[39m     values = _astype_nansafe(values, dtype, copy=copy)\n\u001b[32m    184\u001b[39m \u001b[38;5;66;03m# in pandas we don't store numpy str dtypes, so convert to object\u001b[39;00m\n\u001b[32m    185\u001b[39m \u001b[38;5;28;01mif\u001b[39;00m \u001b[38;5;28misinstance\u001b[39m(dtype, np.dtype) \u001b[38;5;129;01mand\u001b[39;00m \u001b[38;5;28missubclass\u001b[39m(values.dtype.type, \u001b[38;5;28mstr\u001b[39m):\n",
      "\u001b[36mFile \u001b[39m\u001b[32m~/miniconda3/envs/de/lib/python3.12/site-packages/pandas/core/dtypes/astype.py:133\u001b[39m, in \u001b[36m_astype_nansafe\u001b[39m\u001b[34m(arr, dtype, copy, skipna)\u001b[39m\n\u001b[32m    129\u001b[39m     \u001b[38;5;28;01mraise\u001b[39;00m \u001b[38;5;167;01mValueError\u001b[39;00m(msg)\n\u001b[32m    131\u001b[39m \u001b[38;5;28;01mif\u001b[39;00m copy \u001b[38;5;129;01mor\u001b[39;00m arr.dtype == \u001b[38;5;28mobject\u001b[39m \u001b[38;5;129;01mor\u001b[39;00m dtype == \u001b[38;5;28mobject\u001b[39m:\n\u001b[32m    132\u001b[39m     \u001b[38;5;66;03m# Explicit copy, or required since NumPy can't view from / to object.\u001b[39;00m\n\u001b[32m--> \u001b[39m\u001b[32m133\u001b[39m     \u001b[38;5;28;01mreturn\u001b[39;00m arr.astype(dtype, copy=\u001b[38;5;28;01mTrue\u001b[39;00m)\n\u001b[32m    135\u001b[39m \u001b[38;5;28;01mreturn\u001b[39;00m arr.astype(dtype, copy=copy)\n",
      "\u001b[31mValueError\u001b[39m: invalid literal for int() with base 10: '3.0'"
     ]
    }
   ],
   "source": [
    "# convert duration_minutes to int\n",
    "fc_reg_df['duration_minutes'].astype(int)\n",
    "\n"
   ]
  },
  {
   "cell_type": "code",
   "execution_count": 200,
   "id": "9455776d",
   "metadata": {},
   "outputs": [
    {
     "ename": "ValueError",
     "evalue": "invalid literal for int() with base 10: '3.0'",
     "output_type": "error",
     "traceback": [
      "\u001b[31m---------------------------------------------------------------------------\u001b[39m",
      "\u001b[31mValueError\u001b[39m                                Traceback (most recent call last)",
      "\u001b[36mCell\u001b[39m\u001b[36m \u001b[39m\u001b[32mIn[200]\u001b[39m\u001b[32m, line 1\u001b[39m\n\u001b[32m----> \u001b[39m\u001b[32m1\u001b[39m fc_reg_df[\u001b[33m'\u001b[39m\u001b[33mduration_minutes\u001b[39m\u001b[33m'\u001b[39m].astype(\u001b[38;5;28mint\u001b[39m)\n",
      "\u001b[36mFile \u001b[39m\u001b[32m~/miniconda3/envs/de/lib/python3.12/site-packages/pandas/core/generic.py:6643\u001b[39m, in \u001b[36mNDFrame.astype\u001b[39m\u001b[34m(self, dtype, copy, errors)\u001b[39m\n\u001b[32m   6637\u001b[39m     results = [\n\u001b[32m   6638\u001b[39m         ser.astype(dtype, copy=copy, errors=errors) \u001b[38;5;28;01mfor\u001b[39;00m _, ser \u001b[38;5;129;01min\u001b[39;00m \u001b[38;5;28mself\u001b[39m.items()\n\u001b[32m   6639\u001b[39m     ]\n\u001b[32m   6641\u001b[39m \u001b[38;5;28;01melse\u001b[39;00m:\n\u001b[32m   6642\u001b[39m     \u001b[38;5;66;03m# else, only a single dtype is given\u001b[39;00m\n\u001b[32m-> \u001b[39m\u001b[32m6643\u001b[39m     new_data = \u001b[38;5;28mself\u001b[39m._mgr.astype(dtype=dtype, copy=copy, errors=errors)\n\u001b[32m   6644\u001b[39m     res = \u001b[38;5;28mself\u001b[39m._constructor_from_mgr(new_data, axes=new_data.axes)\n\u001b[32m   6645\u001b[39m     \u001b[38;5;28;01mreturn\u001b[39;00m res.__finalize__(\u001b[38;5;28mself\u001b[39m, method=\u001b[33m\"\u001b[39m\u001b[33mastype\u001b[39m\u001b[33m\"\u001b[39m)\n",
      "\u001b[36mFile \u001b[39m\u001b[32m~/miniconda3/envs/de/lib/python3.12/site-packages/pandas/core/internals/managers.py:430\u001b[39m, in \u001b[36mBaseBlockManager.astype\u001b[39m\u001b[34m(self, dtype, copy, errors)\u001b[39m\n\u001b[32m    427\u001b[39m \u001b[38;5;28;01melif\u001b[39;00m using_copy_on_write():\n\u001b[32m    428\u001b[39m     copy = \u001b[38;5;28;01mFalse\u001b[39;00m\n\u001b[32m--> \u001b[39m\u001b[32m430\u001b[39m \u001b[38;5;28;01mreturn\u001b[39;00m \u001b[38;5;28mself\u001b[39m.apply(\n\u001b[32m    431\u001b[39m     \u001b[33m\"\u001b[39m\u001b[33mastype\u001b[39m\u001b[33m\"\u001b[39m,\n\u001b[32m    432\u001b[39m     dtype=dtype,\n\u001b[32m    433\u001b[39m     copy=copy,\n\u001b[32m    434\u001b[39m     errors=errors,\n\u001b[32m    435\u001b[39m     using_cow=using_copy_on_write(),\n\u001b[32m    436\u001b[39m )\n",
      "\u001b[36mFile \u001b[39m\u001b[32m~/miniconda3/envs/de/lib/python3.12/site-packages/pandas/core/internals/managers.py:363\u001b[39m, in \u001b[36mBaseBlockManager.apply\u001b[39m\u001b[34m(self, f, align_keys, **kwargs)\u001b[39m\n\u001b[32m    361\u001b[39m         applied = b.apply(f, **kwargs)\n\u001b[32m    362\u001b[39m     \u001b[38;5;28;01melse\u001b[39;00m:\n\u001b[32m--> \u001b[39m\u001b[32m363\u001b[39m         applied = \u001b[38;5;28mgetattr\u001b[39m(b, f)(**kwargs)\n\u001b[32m    364\u001b[39m     result_blocks = extend_blocks(applied, result_blocks)\n\u001b[32m    366\u001b[39m out = \u001b[38;5;28mtype\u001b[39m(\u001b[38;5;28mself\u001b[39m).from_blocks(result_blocks, \u001b[38;5;28mself\u001b[39m.axes)\n",
      "\u001b[36mFile \u001b[39m\u001b[32m~/miniconda3/envs/de/lib/python3.12/site-packages/pandas/core/internals/blocks.py:758\u001b[39m, in \u001b[36mBlock.astype\u001b[39m\u001b[34m(self, dtype, copy, errors, using_cow, squeeze)\u001b[39m\n\u001b[32m    755\u001b[39m         \u001b[38;5;28;01mraise\u001b[39;00m \u001b[38;5;167;01mValueError\u001b[39;00m(\u001b[33m\"\u001b[39m\u001b[33mCan not squeeze with more than one column.\u001b[39m\u001b[33m\"\u001b[39m)\n\u001b[32m    756\u001b[39m     values = values[\u001b[32m0\u001b[39m, :]  \u001b[38;5;66;03m# type: ignore[call-overload]\u001b[39;00m\n\u001b[32m--> \u001b[39m\u001b[32m758\u001b[39m new_values = astype_array_safe(values, dtype, copy=copy, errors=errors)\n\u001b[32m    760\u001b[39m new_values = maybe_coerce_values(new_values)\n\u001b[32m    762\u001b[39m refs = \u001b[38;5;28;01mNone\u001b[39;00m\n",
      "\u001b[36mFile \u001b[39m\u001b[32m~/miniconda3/envs/de/lib/python3.12/site-packages/pandas/core/dtypes/astype.py:237\u001b[39m, in \u001b[36mastype_array_safe\u001b[39m\u001b[34m(values, dtype, copy, errors)\u001b[39m\n\u001b[32m    234\u001b[39m     dtype = dtype.numpy_dtype\n\u001b[32m    236\u001b[39m \u001b[38;5;28;01mtry\u001b[39;00m:\n\u001b[32m--> \u001b[39m\u001b[32m237\u001b[39m     new_values = astype_array(values, dtype, copy=copy)\n\u001b[32m    238\u001b[39m \u001b[38;5;28;01mexcept\u001b[39;00m (\u001b[38;5;167;01mValueError\u001b[39;00m, \u001b[38;5;167;01mTypeError\u001b[39;00m):\n\u001b[32m    239\u001b[39m     \u001b[38;5;66;03m# e.g. _astype_nansafe can fail on object-dtype of strings\u001b[39;00m\n\u001b[32m    240\u001b[39m     \u001b[38;5;66;03m#  trying to convert to float\u001b[39;00m\n\u001b[32m    241\u001b[39m     \u001b[38;5;28;01mif\u001b[39;00m errors == \u001b[33m\"\u001b[39m\u001b[33mignore\u001b[39m\u001b[33m\"\u001b[39m:\n",
      "\u001b[36mFile \u001b[39m\u001b[32m~/miniconda3/envs/de/lib/python3.12/site-packages/pandas/core/dtypes/astype.py:182\u001b[39m, in \u001b[36mastype_array\u001b[39m\u001b[34m(values, dtype, copy)\u001b[39m\n\u001b[32m    179\u001b[39m     values = values.astype(dtype, copy=copy)\n\u001b[32m    181\u001b[39m \u001b[38;5;28;01melse\u001b[39;00m:\n\u001b[32m--> \u001b[39m\u001b[32m182\u001b[39m     values = _astype_nansafe(values, dtype, copy=copy)\n\u001b[32m    184\u001b[39m \u001b[38;5;66;03m# in pandas we don't store numpy str dtypes, so convert to object\u001b[39;00m\n\u001b[32m    185\u001b[39m \u001b[38;5;28;01mif\u001b[39;00m \u001b[38;5;28misinstance\u001b[39m(dtype, np.dtype) \u001b[38;5;129;01mand\u001b[39;00m \u001b[38;5;28missubclass\u001b[39m(values.dtype.type, \u001b[38;5;28mstr\u001b[39m):\n",
      "\u001b[36mFile \u001b[39m\u001b[32m~/miniconda3/envs/de/lib/python3.12/site-packages/pandas/core/dtypes/astype.py:133\u001b[39m, in \u001b[36m_astype_nansafe\u001b[39m\u001b[34m(arr, dtype, copy, skipna)\u001b[39m\n\u001b[32m    129\u001b[39m     \u001b[38;5;28;01mraise\u001b[39;00m \u001b[38;5;167;01mValueError\u001b[39;00m(msg)\n\u001b[32m    131\u001b[39m \u001b[38;5;28;01mif\u001b[39;00m copy \u001b[38;5;129;01mor\u001b[39;00m arr.dtype == \u001b[38;5;28mobject\u001b[39m \u001b[38;5;129;01mor\u001b[39;00m dtype == \u001b[38;5;28mobject\u001b[39m:\n\u001b[32m    132\u001b[39m     \u001b[38;5;66;03m# Explicit copy, or required since NumPy can't view from / to object.\u001b[39;00m\n\u001b[32m--> \u001b[39m\u001b[32m133\u001b[39m     \u001b[38;5;28;01mreturn\u001b[39;00m arr.astype(dtype, copy=\u001b[38;5;28;01mTrue\u001b[39;00m)\n\u001b[32m    135\u001b[39m \u001b[38;5;28;01mreturn\u001b[39;00m arr.astype(dtype, copy=copy)\n",
      "\u001b[31mValueError\u001b[39m: invalid literal for int() with base 10: '3.0'"
     ]
    }
   ],
   "source": [
    "fc_reg_df['duration_minutes'].astype(int)"
   ]
  },
  {
   "cell_type": "code",
   "execution_count": 180,
   "id": "3a252db2",
   "metadata": {},
   "outputs": [
    {
     "data": {
      "application/vnd.microsoft.datawrangler.viewer.v0+json": {
       "columns": [
        {
         "name": "index",
         "rawType": "int64",
         "type": "integer"
        },
        {
         "name": "registry_record_id",
         "rawType": "int64",
         "type": "integer"
        },
        {
         "name": "film_title",
         "rawType": "object",
         "type": "string"
        },
        {
         "name": "country_of_production",
         "rawType": "object",
         "type": "unknown"
        },
        {
         "name": "production_studio",
         "rawType": "object",
         "type": "unknown"
        },
        {
         "name": "year_of_production",
         "rawType": "object",
         "type": "unknown"
        },
        {
         "name": "certificate_registration_date",
         "rawType": "object",
         "type": "unknown"
        },
        {
         "name": "category",
         "rawType": "object",
         "type": "string"
        },
        {
         "name": "film_usage_rights",
         "rawType": "object",
         "type": "unknown"
        },
        {
         "name": "certificate_number",
         "rawType": "object",
         "type": "unknown"
        },
        {
         "name": "age_rating",
         "rawType": "object",
         "type": "unknown"
        },
        {
         "name": "duration_hours",
         "rawType": "float64",
         "type": "float"
        },
        {
         "name": "duration_minutes",
         "rawType": "object",
         "type": "unknown"
        },
        {
         "name": "unit_of_measurement",
         "rawType": "object",
         "type": "unknown"
        },
        {
         "name": "synopsis",
         "rawType": "object",
         "type": "unknown"
        },
        {
         "name": "number_of_episodes",
         "rawType": "object",
         "type": "unknown"
        },
        {
         "name": "media_size",
         "rawType": "object",
         "type": "unknown"
        },
        {
         "name": "amendment_extension_number",
         "rawType": "object",
         "type": "unknown"
        },
        {
         "name": "distribution_rights_transferred",
         "rawType": "object",
         "type": "unknown"
        },
        {
         "name": "note",
         "rawType": "object",
         "type": "unknown"
        },
        {
         "name": "director",
         "rawType": "object",
         "type": "unknown"
        },
        {
         "name": "producer",
         "rawType": "object",
         "type": "unknown"
        },
        {
         "name": "screenwriter",
         "rawType": "object",
         "type": "unknown"
        },
        {
         "name": "cinematographer",
         "rawType": "object",
         "type": "unknown"
        },
        {
         "name": "art_director",
         "rawType": "object",
         "type": "unknown"
        },
        {
         "name": "composer",
         "rawType": "object",
         "type": "unknown"
        },
        {
         "name": "frame_format",
         "rawType": "object",
         "type": "unknown"
        },
        {
         "name": "media_format",
         "rawType": "object",
         "type": "unknown"
        },
        {
         "name": "color",
         "rawType": "object",
         "type": "string"
        },
        {
         "name": "original_language",
         "rawType": "float64",
         "type": "float"
        },
        {
         "name": "object_update_date",
         "rawType": "object",
         "type": "string"
        },
        {
         "name": "object_creation_date",
         "rawType": "object",
         "type": "string"
        }
       ],
       "ref": "1688b824-c10b-4b42-99da-42c09eb18bb9",
       "rows": [
        [
         "96",
         "2157123",
         "Миротворец",
         "США",
         "Дримуоркс Пикчерз",
         "1997",
         "2012-02-01T12:00:00.000Z",
         "Видео",
         "ООО \"НОВЫЙ ДИСК-ТРЕЙД\"",
         "221010612",
         "Зрителям, достигшим 16 лет",
         "2.0",
         null,
         null,
         "В ролях: Николь Кидман, Джордж Клуни. Политический триллер о современной России.",
         null,
         null,
         null,
         null,
         null,
         "Мими Ледер",
         "Бранко Ластиг, Уолтер Паркес",
         "Микаэль Шиффер",
         null,
         null,
         "Ханс Циммер",
         null,
         null,
         "Цветной",
         null,
         "2018-04-23T12:38:24+03:00",
         "2017-07-05T14:10:11+03:00"
        ],
        [
         "803",
         "2157833",
         "Этот грустный цирк",
         "Румыния",
         "\"Бухарест\"",
         "1982",
         "2013-12-27T12:00:00.000Z",
         "Видео",
         "ООО \"КИНОСЕАНС\"",
         "221050313",
         "Для любой зрительской аудитории",
         null,
         null,
         null,
         "О судьбе семьи цирковых артистов Марчеллони.",
         null,
         null,
         null,
         null,
         "ТВ",
         "Э.Бостан",
         null,
         "В.Истрате",
         null,
         null,
         null,
         null,
         null,
         "Цветной",
         null,
         "2018-04-09T09:12:07+03:00",
         "2017-07-05T14:10:11+03:00"
        ],
        [
         "859",
         "2157890",
         "Сваты - 3",
         "Украина",
         "ООО \"Интер Медиа Продакшн\", ООО \"Киноквартал\"",
         "2009",
         "2012-02-01T12:00:00.000Z",
         "Видео",
         "ООО \"Гармония\"",
         "231000510",
         "Зрителям, достигшим 14 лет",
         "6.0",
         null,
         null,
         "В гл. ролях: Л.Артемьева, А.Васильев. Борьба сватов за внучку.",
         "12.0",
         null,
         null,
         null,
         null,
         "А.Яковлев, А.Мамедов",
         "В.Зеленский, Б.Шефир, А.Яковлев, С.Шефир, С.Созановский",
         "А.Яковлев, А.Ильков, А.Акимов, М.Савин, ",
         null,
         null,
         null,
         null,
         null,
         "Цветной",
         null,
         "2018-04-09T09:12:07+03:00",
         "2017-07-05T14:10:11+03:00"
        ],
        [
         "1030",
         "2158061",
         "Золотой фонд мультипликации. Выпуск 5",
         "США",
         "Коплей Пикчерз Корпорэйшн, Комонвелф Пикчерз, Уорнер Бразерс, Феймос Студио Продакшн, Скрин Сонг",
         "1937-2006",
         "2012-07-06T12:00:00.000Z",
         "Видео",
         "ООО \"НОВЫЙ ДИСК-ТРЕЙД\"",
         "224017412",
         "Для любой зрительской аудитории",
         "4.0",
         null,
         null,
         "Шедевры мультипликации",
         "3.0",
         null,
         null,
         null,
         null,
         "Дэйв Флейчер, Сеймур Кнетел, Тед Эшбаух, Фракн Ташлин",
         null,
         null,
         null,
         null,
         null,
         null,
         null,
         "Цветной",
         null,
         "2018-04-09T09:12:09+03:00",
         "2017-07-05T14:10:11+03:00"
        ],
        [
         "1033",
         "2158064",
         "Чаггингтон. Веселые паровозики. Грохочущие заклепки. Выпуск 8",
         "Великобритания",
         "Людорум Плс",
         "2008",
         "2012-04-10T12:00:00.000Z",
         "Видео",
         "ООО \"НОВЫЙ ДИСК-ТРЕЙД\"",
         "224012112",
         "Для любой зрительской аудитории",
         "1.0",
         null,
         null,
         "Мультфильм о друзьях-паровозиках.",
         "6.0",
         null,
         null,
         null,
         null,
         "Сара Болл",
         "Сара Болл",
         "Сара Болл, Джули Джонс, Йен Карни, Симон Джоует, Рейчел Мёррелл и др.",
         null,
         null,
         null,
         null,
         null,
         "Цветной",
         null,
         "2018-04-09T09:12:09+03:00",
         "2017-07-05T14:10:11+03:00"
        ],
        [
         "1034",
         "2158065",
         "Интерны. Четвертый сезон.",
         "Россия",
         "Diorga Commercial LTD",
         "2010",
         "2012-04-17T12:00:00.000Z",
         "Видео",
         "ООО \"Лагуна\"",
         "211014812",
         "Зрителям, достигшим 16 лет",
         "8.0",
         null,
         null,
         "В ролях: И.Охлобыстин, К.Асмус, И.Глинников.                                         Комедия.                                             Нервы доктора Быкова на пределе, доктор Купитман уже пополнил запасы коньяка, медсестра Люба пустила в ход все свое обаяние, а на смену Левину, уехавшему на стажировку, приходит новый интерн.",
         "20.0",
         null,
         null,
         null,
         "ДВД-домашнее видео принадлежит ООО \"Гармония\" до 31.12.2012 г.",
         "Р.Новикова, Е.Невский",
         "З.Болотаев",
         "Д.Пермяков, А.Морозенко, Д.Ращупкина",
         null,
         null,
         "М.Тимошенко",
         null,
         null,
         "Цветной",
         null,
         "2018-04-09T09:12:09+03:00",
         "2017-07-05T14:10:11+03:00"
        ],
        [
         "1070",
         "2158101",
         "Кайнар хитлар (Горячие хиты).",
         "Россия",
         "ООО \"Барс-Рекордс\"",
         "2012",
         "2012-05-30T12:00:00.000Z",
         "Видео",
         "ООО \"Барс-Рекордс\"",
         "217014112",
         "Детям до 12 лет просмотр фильма разрешен в сопровождении родителей",
         "3.0",
         null,
         null,
         "Эстрада",
         null,
         null,
         null,
         null,
         "Домашнее видео, телевидение (неисключительные права) до 11.01.2015 у ООО \"Барс-Рекордс\"",
         null,
         null,
         null,
         null,
         null,
         "Д.Латыйпова, И.Шигапов, Р.Асхадуллин и др.",
         null,
         null,
         "Цветной",
         null,
         "2018-04-09T09:12:09+03:00",
         "2017-07-05T14:10:11+03:00"
        ],
        [
         "1077",
         "2158108",
         "Кровинушка (1 - 90 серии)",
         "Россия",
         "ООО Студия \"Гармония\"",
         "2011",
         "2012-06-01T12:00:00.000Z",
         "Видео",
         "ООО Студия \"Гармония\"",
         "211021012",
         "Зрителям, достигшим 14 лет",
         "66.0",
         null,
         null,
         "В ролях: М.Маняхина, Е.Лагута, А.Ливанов, С.Николаев",
         "90.0",
         null,
         null,
         null,
         "Все права у ФГУП \"ВГТРК\"",
         "О.Грекова",
         "Ю.Беленький",
         "М.Беленький",
         "В.Шестоперов",
         "С.Соснина",
         "А.Артишевский, В.Саксонов",
         null,
         null,
         "Цветной",
         null,
         "2018-04-09T09:12:09+03:00",
         "2017-07-05T14:10:11+03:00"
        ],
        [
         "1128",
         "2158159",
         "Колке-шоу (Смех-шоу)",
         "Россия",
         "ООО \"Барс-Рекордс\"",
         "2012",
         "2012-02-02T12:00:00.000Z",
         "Видео",
         "ООО \"Барс-Рекордс\"",
         "217001912",
         "Зрителям, достигшим 14 лет",
         "4.0",
         null,
         null,
         "Юмор.",
         null,
         null,
         null,
         null,
         "Домашнее видео (неисключительные права) принадлежат ООО \"Барс-Рекордс\" на срок действия смежных прав.",
         null,
         null,
         "Г.Авзал, Г.Асхадуллин-Ш.Закир, В.Долгова и др.",
         null,
         null,
         null,
         null,
         null,
         "Цветной",
         null,
         "2018-04-09T09:12:09+03:00",
         "2017-07-05T14:10:11+03:00"
        ],
        [
         "1131",
         "2158162",
         "Бабье лето_",
         "Россия",
         "ООО \"Бастион\"",
         "2011",
         "2012-02-06T12:00:00.000Z",
         "Видео",
         "ООО \"Бастион\"",
         "211003912",
         "Зрителям, достигшим 14 лет",
         "3.0",
         null,
         null,
         "В ролях: И.Пегова, Р.Рязанова, А.Биланов, И.Сахно              Мелодрама",
         "2.0",
         null,
         null,
         null,
         "Все права ",
         "А.Матешко",
         "И.Заря",
         "Е.Арбузова, Е.Арбузов",
         "В.Бородин",
         "Н.Кищук",
         "Р.Дудчик",
         null,
         null,
         "Цветной",
         null,
         "2018-04-09T09:12:09+03:00",
         "2017-07-05T14:10:11+03:00"
        ],
        [
         "1132",
         "2158163",
         "Медовая любовь",
         "Россия",
         "ЗАО \"НОВАЯ СТУДИЯ\"",
         "2011",
         "2012-02-06T12:00:00.000Z",
         "Видео",
         "ЗАО \"НОВАЯ СТУДИЯ\"",
         "211004012",
         "Зрителям, достигшим 14 лет",
         "3.0",
         null,
         null,
         "В ролях: Ю.Назаров, Е.Шилова, М.Козакова, А.Ратников и др.  Мелодрама",
         "2.0",
         null,
         null,
         null,
         "Все права",
         "А.Итыгилов",
         "И.Заря",
         "В.Авлошенко, Р.Валиулин",
         "В.Савицкий",
         "Р.Писаченко",
         "Р.Дудчик",
         null,
         null,
         "Цветной",
         null,
         "2018-04-09T09:12:09+03:00",
         "2017-07-05T14:10:11+03:00"
        ],
        [
         "1146",
         "2158177",
         "Белые волки . Серии 1 - 10",
         "Россия",
         "ООО \"Интра Фильм\"",
         "2012",
         "2012-06-05T12:00:00.000Z",
         "Видео",
         "ООО \"Интра Фильм\"",
         "211021512",
         "Зрителям, достигшим 14 лет",
         "8.0",
         null,
         null,
         "В ролях: А.Аверьянов, М.Житник, Д.Бобышев, Т.Калих и др.   Боевик об офицерах группы спецназа (сериал)",
         "10.0",
         null,
         null,
         null,
         "Все права ",
         "В.Лавров, И.Забара",
         "М.Баркан, С.Каратаев, В.Умнов, Л.Яновский",
         "А.Новоселов, В.Болучевский",
         "О.Гребенкин, А.Гребенкин, А.Еремин",
         "И.Маланов, А.Гвоздиков",
         "К.Шумайлов",
         null,
         null,
         "Цветной",
         null,
         "2018-04-09T09:12:09+03:00",
         "2017-07-05T14:10:11+03:00"
        ],
        [
         "1155",
         "2158186",
         "Кызган табадан (С горячей сковородки)",
         "Россия",
         "ООО \"Барс-Рекордс\"",
         "2012",
         "2012-06-07T12:00:00.000Z",
         "Видео",
         "ООО \"Барс-Рекордс\"",
         "217015012",
         "Детям до 12 лет просмотр фильма разрешен в сопровождении родителей",
         "3.0",
         null,
         null,
         "Эстрадная музыка.",
         null,
         null,
         null,
         null,
         "Все права принадлежат ООО \"Барс-Рекордс\" до 08.06.2016 г.",
         null,
         null,
         null,
         null,
         null,
         "И.Азгамов, Р.Асхадуллин, Р.Гаптелганиев и др.",
         null,
         null,
         "Цветной",
         null,
         "2018-04-09T09:12:09+03:00",
         "2017-07-05T14:10:11+03:00"
        ],
        [
         "1181",
         "2158212",
         "Сольный концерт Хасбулата Рахманова \"Помни обо мне\"",
         "Россия",
         "ООО \"Звук-М\"",
         "2012",
         "2012-05-29T12:00:00.000Z",
         "Видео",
         "ООО \"Звук-М\" Р/С 40702810424590008622 В ФИЛИАЛ N 2351 ВТБ 24 (ПАО) в г.КРАСНОДАР",
         "217013812",
         "Детям до 12 лет просмотр фильма разрешен в сопровождении родителей",
         "2.0",
         null,
         null,
         "Музыкальный",
         null,
         null,
         null,
         null,
         "Домашнее видео, публичное видео, телевидение до 01.07.2013 у ООО \"Звук-М\"",
         "Х.Рахманов",
         null,
         "Х.Рахманов",
         "Б.Ероко, Т.Пшигошев и др.",
         null,
         "Х.Рахманов, Р.Гаджиалиев и др. ",
         null,
         null,
         "Цветной",
         null,
         "2018-04-09T09:12:10+03:00",
         "2017-07-05T14:10:11+03:00"
        ],
        [
         "1202",
         "2158233",
         "Терминал-",
         "США",
         "Дримуоркс Пикчерз, Эмблин Интертейнмент, Паркс/Макдоналд Продакшнз",
         "2004",
         "2012-02-01T12:00:00.000Z",
         "Видео",
         "ООО \"НОВЫЙ ДИСК-ТРЕЙД\"",
         "221010412",
         "Детям до 12 лет просмотр фильма разрешен в сопровождении родителей",
         "2.0",
         null,
         null,
         "В ролях: Том Хэнкс, Кэтрин Зета-Джонс. Жизнь - это ожидание.",
         null,
         null,
         null,
         null,
         null,
         "Стивен Спилберг",
         "Лаури Макдоналд, Уолтер Ф.Паркс, Стивен Спилберг",
         "Саша Джерваси, Эндрю Никкол",
         "Януш Камински",
         "Алекс МакДауэлл",
         "Бенни Голсон, Джон Уилльямс",
         null,
         null,
         "Цветной",
         null,
         "2018-04-23T12:30:33+03:00",
         "2017-07-05T14:10:11+03:00"
        ],
        [
         "1210",
         "2158241",
         "Реальные пацаны. Часть 1.",
         "Россия",
         "ОАО \"ТНТ-Телесеть\"",
         "2010",
         "2012-06-07T12:00:00.000Z",
         "Видео",
         "ООО \"Лагуна\"",
         "211021912",
         "Зрителям, достигшим 18 лет",
         "4.0",
         null,
         null,
         "В ролях: Д.Дунаев, А.Макеева, В.Баринов.                                             Комедия (ситком).                              ",
         "10.0",
         null,
         null,
         null,
         "ДВД-домашнее видео принадлежит ООО \"Лагуна\" до 31.12.2012 г.",
         "Ж.Кадникова",
         "А.Зайцев, А.Дулерайн, Е.Никишов, А.Щукин, А.Логинов",
         "А.Зайцев, Ж.Кадникова, Ю.Овчинников",
         "С.Долгошин",
         null,
         "Д.Ланской",
         null,
         null,
         "Цветной",
         null,
         "2018-04-09T09:12:10+03:00",
         "2017-07-05T14:10:11+03:00"
        ],
        [
         "1211",
         "2158242",
         "Реальные пацаны. Часть 2.",
         "Россия",
         "ОАО \"ТНТ-Телесеть\"",
         "2010",
         "2012-06-07T12:00:00.000Z",
         "Видео",
         "ООО \"Лагуна\"",
         "211022012",
         "Зрителям, достигшим 18 лет",
         "4.0",
         null,
         null,
         "В ролях: Д.Дунаев, А.Макеева, В.Баринов.                                             Комедия (ситком).",
         "10.0",
         null,
         null,
         null,
         "ДВД-домашнее видео принадлежит ООО \"Лагуна\" до 31.12.2012 г.",
         "Ж.Кадникова",
         "А.Зайцев, А.Дулерайн, Е.Никишов, А.Щукин, А.Логинов",
         "А.Зайцев, Ж.Кадникова, Ю.Овчинников",
         "С.Долгошин",
         null,
         "Д.Ланской",
         null,
         null,
         "Цветной",
         null,
         "2018-04-09T09:12:10+03:00",
         "2017-07-05T14:10:11+03:00"
        ],
        [
         "1214",
         "2158245",
         "Реальные пацаны. Часть 3.",
         "Россия",
         "ОАО \"ТНТ-Телесеть\"",
         "2010",
         "2012-06-07T12:00:00.000Z",
         "Видео",
         "ООО \"Лагуна\"",
         "211022112",
         "Зрителям, достигшим 18 лет",
         "4.0",
         null,
         null,
         "В ролях: Д.Дунаев, А.Макеева, В.Баринов.                                             Комедия (ситком).",
         "10.0",
         null,
         null,
         null,
         "ДВД-домашнее видео принадлежит ООО \"Лагуна\" до 31.12.2012 г.",
         "Ж.Кадникова",
         "А.Зайцев, А.Дулерайн, Е.Никишов, А.Щукин, А.Логинов",
         "А.Зайцев, Ж.Кадникова, Ю.Овчинников",
         "С.Долгошин",
         null,
         "Д.Ланской",
         null,
         null,
         "Цветной",
         null,
         "2018-04-09T09:12:10+03:00",
         "2017-07-05T14:10:11+03:00"
        ],
        [
         "1217",
         "2158248",
         "Реальные пацаны. Часть 4.",
         "Россия",
         "ОАО \"ТНТ-Телесеть\"",
         "2010",
         "2012-06-07T12:00:00.000Z",
         "Видео",
         "ООО \"Лагуна\"",
         "211022212",
         "Зрителям, достигшим 18 лет",
         "4.0",
         null,
         null,
         "В ролях: Д.Дунаев, А.Макеева, В.Баринов.                                           Комедия (ситком).",
         "10.0",
         null,
         null,
         null,
         "ДВД-домашнее видео принадлежит ООО \"Лагуна\" до 31.12.2012 г.",
         "Ж.Кадникова",
         "А.Зайцев, А.Дулерайн, Е.Никишов, А.Щукин, А.Логинов",
         "А.Зайцев, Ж.Кадникова, Ю.Овчинников",
         "С.Долгошин",
         null,
         "Д.Ланской",
         null,
         null,
         "Цветной",
         null,
         "2018-04-09T09:12:10+03:00",
         "2017-07-05T14:10:11+03:00"
        ],
        [
         "1218",
         "2158249",
         "Реальные пацаны. Часть 5.",
         "Россия",
         "ОАО \"ТНТ-Телесеть\"",
         "2010",
         "2012-06-07T12:00:00.000Z",
         "Видео",
         "ООО \"Лагуна\"",
         "211022312",
         "Зрителям, достигшим 18 лет",
         "4.0",
         null,
         null,
         "В ролях: Д.Дунаев, А.Макеева, В.Баринов.                                           Комедия (ситком).",
         "10.0",
         null,
         null,
         null,
         "ДВД-домашнее видео принадлежит ООО \"Лагуна\" до 31.12.2012 г.",
         "Ж.Кадникова",
         "А.Зайцев, А.Дулерайн, Е.Никишов, А.Щукин, А.Логинов",
         "А.Зайцев, Ж.Кадникова, Ю.Овчинников",
         "С.Долгошин",
         null,
         "Д.Ланской",
         null,
         null,
         "Цветной",
         null,
         "2018-04-09T09:12:10+03:00",
         "2017-07-05T14:10:11+03:00"
        ],
        [
         "1265",
         "2158296",
         "Балет. Лучшее на DVD. Серия № 20 - \"Галатея\".",
         "СССР",
         "\"Лентелефильм\"",
         "1977",
         "2012-05-28T12:00:00.000Z",
         "Видео",
         "ООО \"Де Агостини\"",
         "217013212",
         "Детям до 12 лет просмотр фильма разрешен в сопровождении родителей",
         "1.0",
         null,
         null,
         "Фильм-балет.",
         "1.0",
         null,
         null,
         null,
         "ДВД-домашнее видео принадлежаит ООО \"Де Агостини\" до 02.04.2017 г.",
         "А.Белинский",
         null,
         "А.Белинский",
         "Р.Черняк",
         null,
         null,
         null,
         null,
         "Цветной",
         null,
         "2018-04-09T09:12:10+03:00",
         "2017-07-05T14:10:11+03:00"
        ],
        [
         "1266",
         "2158297",
         "Балет. Лучшее на DVD. Серия № 21 - \"Дама с собачкой\".",
         "СССР",
         "Т/О \"Экран\"",
         "1986",
         "2012-05-28T12:00:00.000Z",
         "Видео",
         "ООО \"Де Агостини\"",
         "217013312",
         "Детям до 12 лет просмотр фильма разрешен в сопровождении родителей",
         "1.0",
         null,
         null,
         "Фильм-балет.",
         "1.0",
         null,
         null,
         null,
         "ДВД-домашнее видео принадлежит ООО \"Де Агостини\" до 16.04.2017 г.",
         "Б.Галантер",
         null,
         "М.Плисецкая",
         "Е.Анисимов",
         null,
         null,
         null,
         null,
         "Цветной",
         null,
         "2018-04-09T09:12:10+03:00",
         "2017-07-05T14:10:11+03:00"
        ],
        [
         "1268",
         "2158299",
         "Внимание, люди!",
         "Россия",
         "ООО \"Кинокомпания Гамма\"",
         "2011",
         "2012-02-09T12:00:00.000Z",
         "Видео",
         "ООО \"Кинокомпания Гамма\"",
         "212006112",
         "Зрителям, достигшим 14 лет",
         "8.0",
         null,
         null,
         "Главный герой фильма - актер, получивший увечье в стычке с преступниками - ведет свое независимое расследование преступлений, связанных с нарушением прав потребителей в России.",
         "20.0",
         null,
         null,
         null,
         "Все права принадлежат ООО \"Кинокомпания Гамма\" на срок действия авторского права на фильм.",
         "Е.Ефремова",
         "В.Будилов, Т.Огородникова",
         "Н.Базурин (псевдоним Никита Иванов)",
         "А.Колчинский",
         null,
         null,
         null,
         null,
         "Цветной",
         null,
         "2018-04-09T09:12:10+03:00",
         "2017-07-05T14:10:11+03:00"
        ],
        [
         "1342",
         "2158385",
         "Кабы я была царица",
         "Россия",
         "ЗАО \"Кинокомпания \"Русское\"",
         "2011",
         "2012-02-20T12:00:00.000Z",
         "Видео",
         "ЗАО \"Кинокомпания \"Русское\"",
         "211006612",
         "Зрителям, достигшим 14 лет",
         "3.0",
         null,
         null,
         "В ролях: З.Буряк, А.Панина, М.Белоненко.                                        Мелодрама.                                     История жизни трех сестер.",
         "2.0",
         null,
         null,
         null,
         "Все права принадлежат ЗАО \"Кинокомпания \"Русское\" на срок действия авторского права на фильм.",
         "С.Алешечкин",
         "А.Кушаев, И.Смирнова, Е.Мараковская, М.Белицкий",
         "А.Касумова",
         "В.Коневцов",
         "А.Даниленко",
         "А.Ильин",
         null,
         null,
         "Цветной",
         null,
         "2018-04-09T09:12:11+03:00",
         "2017-07-05T14:10:11+03:00"
        ],
        [
         "1343",
         "2158386",
         "Цвет черемухи",
         "Россия",
         "ООО \"Киносюжет\"",
         "2012",
         "2012-02-20T12:00:00.000Z",
         "Видео",
         "ВГТРК",
         "211006512",
         "Зрителям, достигшим 14 лет",
         "12.0",
         null,
         null,
         "В ролях: Я.Соколовская, Д.Назаров, А.Маринина.                      Мелодрама.                                    Телесериал.",
         "16.0",
         null,
         null,
         null,
         "Все права принадлежат ВГТРК на срок действия авторского права на фильм.",
         "А.Лобанова",
         "Е.Ефанова, Э.Абакелия, Н.Агаджанова",
         "О.Макарова, А.Никольская при участии Е.Старковой и Н.Агаджановой",
         "М.Глухов, А.Перевалов",
         "А.Васнецов",
         "Е.Евсеев",
         null,
         null,
         "Цветной",
         null,
         "2018-04-09T09:12:11+03:00",
         "2017-07-05T14:10:11+03:00"
        ],
        [
         "1435",
         "2158483",
         "У реки два берега - 2",
         "Россия",
         "ООО \"Тесей\"",
         "2011",
         "2012-02-08T12:00:00.000Z",
         "Видео",
         "ООО \"Тесей\"",
         "211004912",
         "Зрителям, достигшим 14 лет",
         "3.0",
         null,
         null,
         "В ролях: П.Филоненко, А.Пашков, Е.Ганелин, А.Финягин и др. Мелодрама (сериал)",
         "4.0",
         null,
         null,
         null,
         "Все права ",
         "А.Кананович",
         "В.Игнатьев, А.Кушаев",
         "В.Евсеева",
         "А.Рудь",
         "И.Хруцкий",
         "И.Щербаков",
         null,
         null,
         "Цветной",
         null,
         "2018-04-09T09:12:11+03:00",
         "2017-07-05T14:10:11+03:00"
        ],
        [
         "1437",
         "2158485",
         "Понаехали тут",
         "Россия",
         "ООО \"Тесей\"",
         "2011",
         "2012-02-08T12:00:00.000Z",
         "Видео",
         "ООО \"Тесей\"",
         "211003812",
         "Зрителям, достигшим 14 лет",
         "3.0",
         null,
         null,
         "В ролях: Е.Крегжде, М.Голубкина, А.Лобоцкий, И.Новоселов, Л.Нильская и др. Мелодрама                                      О властной женщине,",
         "2.0",
         null,
         null,
         null,
         "Все права",
         "Ю.Павлов",
         "В.Игнатьев, А.Кушаев",
         "Е.Ласкарева",
         "В.Ершов",
         "Н.Кабулова",
         "И.Щербаков",
         null,
         null,
         "Цветной",
         null,
         "2018-04-09T09:12:11+03:00",
         "2017-07-05T14:10:11+03:00"
        ],
        [
         "1438",
         "2158486",
         "Другая женщина_",
         "Россия",
         "ООО \"Тесей\"",
         "2011",
         "2012-02-08T12:00:00.000Z",
         "Видео",
         "ООО \"Тесей\"",
         "211003712",
         "Зрителям, достигшим 14 лет",
         "3.0",
         null,
         null,
         "В ролях: К.Кузнецова, А.Устюгов, В.Яглыч, И.Сердюков и др.                                       Мелодрама                                    Об измене мужа и обретении настоящей уверености в себе ...",
         "2.0",
         null,
         null,
         null,
         "Все права",
         "Д.Сорокин",
         "В.Игнатьев, А.Кушаев",
         "Н.Якаб",
         "А.Рудь  ",
         "Н.Кабулова",
         "И.Щербаков",
         null,
         null,
         "Цветной",
         null,
         "2018-04-09T09:12:11+03:00",
         "2017-07-05T14:10:11+03:00"
        ],
        [
         "1498",
         "2158570",
         "Последняя минута (серии 21-30)",
         "Россия",
         "ООО \"Студия 2В\"",
         "2011",
         "2012-04-16T12:00:00.000Z",
         "Видео",
         "ООО \"Студия 2В\"",
         "211014612",
         "Зрителям, достигшим 14 лет",
         "8.0",
         null,
         null,
         "В ролях: Ю.Беляев, Л.Ермакова, А.Наумов.                                             Детектив.                                         Телесериал.",
         "10.0",
         null,
         null,
         null,
         "Все права принадлежат ООО \"Студия 2В\" на срок действия авторского права на фильм. Телевидение передано РЕН ТВ до 31.12.2022 г.",
         "Д.Червяков, В.Нахабцев",
         "Ф.Клейман, П.Корчагин",
         "В.Аркуша, Б.Бердыев, Д.Червяков",
         "А.Гришко",
         "Г.Кесоян",
         "В.Купцов",
         null,
         null,
         "Цветной",
         null,
         "2018-04-09T09:12:12+03:00",
         "2017-07-05T14:10:11+03:00"
        ],
        [
         "1499",
         "2158571",
         "Последняя минута (серии 1-20)",
         "Россия",
         "ООО \"Студия 2В\"",
         "2010",
         "2012-04-16T12:00:00.000Z",
         "Видео",
         "ООО \"Студия 2В\"",
         "211014512",
         "Зрителям, достигшим 14 лет",
         "16.0",
         null,
         null,
         "В ролях: Г.Антипенко, Ю.Хлынина, А.Степанцов.                    Детектив.                                        Телесериал.",
         "20.0",
         null,
         null,
         null,
         "Все права принадлежат ООО \"Студия 2В\" на срок действия авторского права на фильм. Телевидение передано Тел. каналу РЕН ТВ до 31.12.2021 г.",
         "А.Джунковский, Ю.Разыков, А.Трейман, А.Кириенко",
         "Ф.Клейман, П.Корчагин",
         "О.Южанина, Б.Бердыев, А.Королев, А.Ивашкин, А.Рабков, В.Аркуша, Д.Червяков, Ю.Разыков",
         "А.Лебедянский",
         "В.Афанасьев",
         "И.Духовный",
         null,
         null,
         "Цветной",
         null,
         "2018-04-09T09:12:12+03:00",
         "2017-07-05T14:10:11+03:00"
        ],
        [
         "1502",
         "2158574",
         "Интерны. Пятый сезон.",
         "Россия",
         "Diorga Commercial LTD",
         "2011",
         "2012-04-17T12:00:00.000Z",
         "Видео",
         "ООО \"Лагуна\"",
         "211014912",
         "Зрителям, достигшим 16 лет",
         "8.0",
         null,
         null,
         "В ролях: И.Охлобыстин, К.Асмус, И.Глинников.                                         Комедия.                                       Сериал.",
         "20.0",
         null,
         null,
         null,
         "ДВД-домашнее видео принадлежит ООО \"Лагуна\" до 31.12.2012 г.",
         "М.Пежемский",
         "А.Джанибекян, А.Дулерайн, В.Дусмухаметов, С.Слепаков",
         null,
         "З.Болотаев",
         null,
         null,
         null,
         null,
         "Цветной",
         null,
         "2018-04-09T09:12:12+03:00",
         "2017-07-05T14:10:11+03:00"
        ],
        [
         "1525",
         "2158599",
         "Татар Жыры-2011. \"Алтын барс\" халык премиялэрен тапшыру церемониясе. (Татар Жыры-2011. Церемония вручения премий \"Алтын Барс\".)",
         "Россия",
         "ООО \"Барс-Рекордс\"",
         "2012",
         "2012-03-15T12:00:00.000Z",
         "Видео",
         "ООО \"Барс-Рекордс\"",
         "217005212",
         "Детям до 12 лет просмотр фильма разрешен в сопровождении родителей",
         "3.0",
         null,
         null,
         "Эстрадная музыка.",
         null,
         null,
         null,
         null,
         "Домашнее видео (неисключительные права) принадлежат ООО \"Барс-Рекордс\" на срок действия смежных прав.",
         null,
         null,
         null,
         null,
         null,
         "М.Газетдинов, А.Литвинов, М.Гайсин, А.Тимербаев и др.",
         null,
         null,
         "Цветной",
         null,
         "2018-04-09T09:12:12+03:00",
         "2017-07-05T14:10:11+03:00"
        ],
        [
         "1534",
         "2158608",
         "Бен 10. Выпуск 8",
         "США",
         "Картун Нетворк",
         "2005",
         "2012-03-16T12:00:00.000Z",
         "Видео",
         "ООО \"НОВЫЙ ДИСК-ТРЕЙД\"",
         "224009312",
         "Детям до 12 лет просмотр фильма разрешен в сопровождении родителей",
         "2.0",
         null,
         null,
         "Мультфильм о мальчике, нашедшем космические часы, которые наделили его суперспособностями",
         "6.0",
         null,
         null,
         null,
         null,
         "Скутер Тидвелл, Себастьян Монтес, Алекс Сото",
         null,
         "Джо Келли, Юджин Сон, Джо Кейси",
         null,
         null,
         "Энди Стёрмер",
         null,
         null,
         "Цветной",
         null,
         "2018-04-09T09:12:12+03:00",
         "2017-07-05T14:10:11+03:00"
        ],
        [
         "1553",
         "2158627",
         "Комплекс полноценности",
         "Россия",
         "ООО \"Фрейм Фабрик\"",
         "2012",
         "2012-04-11T12:00:00.000Z",
         "Видео",
         "ООО \"Фрейм Фабрик\"",
         "211013712",
         "Зрителям, достигшим 14 лет",
         "2.0",
         null,
         null,
         "Е.Корикова, А.Ильин, С.Чонишвили.                                       Лирическая комедия.                       Герои фильма решили начать новую жизнь ...",
         "2.0",
         null,
         null,
         null,
         "Все права принадлежат ООО \"Фрейм Фабрик\" на срок действия авторского права на фильм.",
         "С.Черных",
         "С.Черных",
         "С.Черных",
         "Г.Блинов",
         "К.Пахотин",
         "В.Сологуб, А.Карпов",
         null,
         null,
         "Цветной",
         null,
         "2018-04-09T09:12:12+03:00",
         "2017-07-05T14:10:11+03:00"
        ],
        [
         "1560",
         "2158635",
         "Подари мне воскресенье 1",
         "Россия",
         "ЗАО \"Кинокомпания \"Русское\"",
         "2012",
         "2012-03-26T12:00:00.000Z",
         "Видео",
         "ЗАО \"Кинокомпания \"Русское\"",
         "211010612",
         "Зрителям, достигшим 14 лет",
         "3.0",
         null,
         null,
         "В ролях: Е.Кузнецова, И.Жидков, К.Князева, Д.Исаев, А.Лобоцкий и др.                                Мелодрама",
         "2.0",
         null,
         null,
         null,
         "Все права",
         "Д.Булин",
         "А.Кушаев, И.Смирнова",
         "Т.Кравченко, Н.Смирнова",
         "Е.Музруков",
         " Р.Закрочинский",
         "И.Ефимов",
         null,
         null,
         "Цветной",
         null,
         "2018-04-09T09:12:12+03:00",
         "2017-07-05T14:10:11+03:00"
        ],
        [
         "1561",
         "2158636",
         "Подари мне воскресенье 2",
         "Россия",
         "ЗАО \"Кинокомпания \"Русское\"",
         "2012",
         "2012-03-26T12:00:00.000Z",
         "Видео",
         "ЗАО \"Кинокомпания \"Русское\"",
         "211010712",
         "Зрителям, достигшим 14 лет",
         "3.0",
         null,
         null,
         "В ролях: Е.Кузнецова, И.Жидков, К.Князева, Д.Исаев, А.Лобоцкий и др.                                         Мелодрама",
         "2.0",
         null,
         null,
         null,
         "Все права",
         "Д.Булин",
         " А.Кушаев, И.Смирнова",
         "Т.Кравченко, Н.Смирнова    ",
         "Е.Музруков ",
         "Р.Закрочинский  ",
         "И.Ефимов",
         null,
         null,
         "Цветной",
         null,
         "2018-04-09T09:12:12+03:00",
         "2017-07-05T14:10:11+03:00"
        ],
        [
         "1562",
         "2158637",
         "У каждого своя война.",
         "Россия",
         "ООО \"Элегия\"",
         "2010",
         "2012-03-27T12:00:00.000Z",
         "Видео",
         "ООО \"Централ Партнершип\"",
         "211010812",
         "Зрителям, достигшим 14 лет",
         "12.0",
         null,
         null,
         "Драма. История судеб жителей послевоенного замосковоречья. В ролях: П.Кутепова, М.Лавроненко, И.Петренко, С.Газаров, Е.Стриженова",
         "12.0",
         null,
         null,
         null,
         null,
         "З.Ройзман",
         "Р.Дишдишян, А.Мовсесян, С.Даниелян, Д.Фролов",
         "Э.Володарский",
         "Ш.Нурмухамедов",
         "А.Толкачев",
         "Е.Ширяев",
         null,
         null,
         "Цветной",
         null,
         "2018-04-09T09:12:12+03:00",
         "2017-07-05T14:10:11+03:00"
        ],
        [
         "1641",
         "2158717",
         "XVII Открытый Международный турнир по спортивным танцам \"Слава России 2011\"",
         "Россия",
         "ИП Быков Д.В.",
         "2011",
         "2012-04-06T12:00:00.000Z",
         "Видео",
         "ИП Быков Д.В.",
         "217008012",
         "Для любой зрительской аудитории",
         "7.0",
         null,
         null,
         "Хореография",
         "5.0",
         null,
         null,
         null,
         "Все права",
         "Д.Быков",
         "Д.Быков",
         "Д.Быков",
         "Д.Дебольский",
         null,
         null,
         null,
         null,
         "Цветной",
         null,
         "2018-04-09T09:12:13+03:00",
         "2017-07-05T14:10:11+03:00"
        ],
        [
         "1645",
         "2158721",
         "Под прикрытием_",
         "Россия",
         "ООО \"Кинокомпания Леман\"",
         "2012",
         "2012-04-09T12:00:00.000Z",
         "Видео",
         "ООО \"ДТ Продакшн\"",
         "211013112",
         "Зрителям, достигшим 14 лет",
         "10.0",
         null,
         null,
         "Криминальная драма. В ОПГ в Краснодарском крае внедряют двух сотрудников ФСБ. В ролях: С.Газаров, Яглыч, Г.Баблишвили, С.Торосян, К.Разумовская.",
         "12.0",
         null,
         null,
         null,
         null,
         "Т.Алпатов",
         "А.Моисеев, Д.Дишдишян",
         "О.Керенцев, Н.Высоцкая",
         "С.Воронцов",
         "Ю.Устинов",
         "И.Бабаев",
         null,
         null,
         "Цветной",
         null,
         "2018-04-09T09:12:13+03:00",
         "2017-07-05T14:10:11+03:00"
        ],
        [
         "1743",
         "2158819",
         "Детка",
         "Россия",
         "ООО \"ПЦ \"АН-фильм\"",
         "2012",
         "2012-04-26T12:00:00.000Z",
         "Видео",
         "ООО \"Стори Ферст Продакшн\"",
         "211015812",
         "Зрителям, достигшим 14 лет",
         "16.0",
         null,
         null,
         "В ролях: С.Шнуров, В.Лукащук, С.Рост.                                                 Комедия.                                              Главный герой - Костя Подольский, стареющая рок-звезда, оказался на обочине ...",
         "20.0",
         null,
         null,
         null,
         "Все права принадлежат ООО \"Стори Ферст Продакшн\" на срок действия авторского права на фильм. Все права переданы ЗАО \"Сеть телевизионных станций\" на срок действия авторского права на фильм по договору №С-53-0458/11 от 02.08.2011",
         "О.Штром",
         "А.Прокопович",
         "К.Кияшко, А.Топурия, Г.Кондратьев",
         "В.Сотников",
         "Ю.Чарандаева",
         "С.Шнуров, А.Хитман, О.Межеровский, В.Царьков, И.Алексеев",
         null,
         null,
         "Цветной",
         null,
         "2018-04-09T09:12:14+03:00",
         "2017-07-05T14:10:11+03:00"
        ],
        [
         "1826",
         "2158902",
         "Мой любимый гений",
         "Россия",
         "ООО \"Юникс\"",
         "2011",
         "2012-05-16T12:00:00.000Z",
         "Видео",
         "ООО \"Юникс\" Московский банк Сбербанка России ОАО, г.Москва",
         "211019212",
         "Зрителям, достигшим 14 лет",
         "3.0",
         null,
         null,
         "В ролях: К.Андоленко, В.Жеребцов, А.Семакин, М.Карпович                            Мелодрама                                      О любви доброй девушки из провинции к студенту физического факультета, который себя гением...",
         "2.0",
         null,
         null,
         null,
         "Все права",
         "Ю.Краснова",
         "А.Кушаев, И.Смирнова",
         "О.Ларионова",
         "А.Щурок",
         "А.Маврина",
         "М.Иваненко",
         null,
         null,
         "Цветной",
         null,
         "2018-04-09T09:12:14+03:00",
         "2017-07-05T14:10:11+03:00"
        ],
        [
         "1836",
         "2158912",
         "Гузэлия \"Гел бергэ- бергэ (Всегда вместе)",
         "Россия",
         "ООО \"Барс-Рекордс\" ",
         "2012",
         "2012-05-24T12:00:00.000Z",
         "Видео",
         "ООО \"Барс-Рекордс\"",
         "217011412",
         "Детям до 12 лет просмотр фильма разрешен в сопровождении родителей",
         "3.0",
         null,
         null,
         "Эстрада",
         null,
         null,
         null,
         null,
         "Домашнее видео, телевидение (неисключительные права) у ООО \"Барс-Рекордс\" до 19.11.2015",
         null,
         null,
         null,
         null,
         null,
         "Гузэлия, Л.Муллагалиева, Д.Фаезханов и др.",
         null,
         null,
         "Цветной",
         null,
         "2018-04-09T09:12:14+03:00",
         "2017-07-05T14:10:11+03:00"
        ],
        [
         "1837",
         "2158913",
         "Венера Ганиева хэм йолдызлар фабрикасы (Венера Ганиева и фабрика звезд)",
         "Россия",
         "ООО \"Барс-Рекордс\"",
         "2012",
         "2012-05-24T12:00:00.000Z",
         "Видео",
         "ООО \"Барс-Рекордс\"",
         "217011512",
         "Детям до 12 лет просмотр фильма разрешен в сопровождении родителей",
         "3.0",
         null,
         null,
         "Эстрада",
         null,
         null,
         null,
         null,
         "Домашнее видео, телевидение (неисключительные права) у ООО \"Барс-Рекордс\" до 05.04.2016  ",
         null,
         null,
         null,
         null,
         null,
         "И.Сафиуллин, М.Шайхутдинов, Г.Сайфуллин и др.",
         null,
         null,
         "Цветной",
         null,
         "2018-04-09T09:12:14+03:00",
         "2017-07-05T14:10:11+03:00"
        ],
        [
         "1961",
         "2159037",
         "Шериф-2 (серии 9-16)",
         "Россия",
         "ООО \"Центр Кинопроизводства\"",
         "2012",
         "2012-04-25T12:00:00.000Z",
         "Видео",
         "Общество с ограниченной ответственностью \"Форвард-Фильм\"",
         "211015712",
         "Зрителям, достигшим 14 лет",
         "6.0",
         null,
         null,
         "В ролях: Н.Добрынин, Ф.Махмудов, Д.Васильев.                    Детектив.                                       Телесериал.",
         "8.0",
         null,
         null,
         null,
         "Все права принадлежат ООО \"Форвард-Фильм\" на срок действия авторского права на фильм.",
         "К.Фолиянц",
         "ООО \"Форвард-Фильм\"",
         "А.Бережанский, В.Подорожнова",
         "А.Екимов",
         "В.Демин, А.Цавкилов",
         "А.Шелыгин",
         null,
         null,
         "Цветной",
         null,
         "2018-04-09T09:12:15+03:00",
         "2017-07-05T14:10:11+03:00"
        ],
        [
         "2062",
         "2159138",
         "Девятки",
         "США",
         "Дестинейшн Филмз, Джинкс/Коэн Компани",
         "2007",
         "2012-04-30T12:00:00.000Z",
         "Видео",
         "ООО \"Премиум Фильм\"",
         "221032612",
         "Зрителям, достигшим 16 лет",
         null,
         null,
         null,
         "Драма о \"мелких\" людях. В ролях: Райан Рейнолдс, Мелисса МакКарти.",
         "1.0",
         null,
         null,
         null,
         null,
         "Джон Огаст",
         "Брюс Коэн, Дэн Этеридж",
         "Джон Огаст",
         "Нэнси Шрайбер",
         "Е.Коллин Саро",
         "Алекс Вурман",
         null,
         null,
         "Цветной",
         null,
         "2018-04-09T09:12:16+03:00",
         "2017-07-05T14:10:11+03:00"
        ],
        [
         "2079",
         "2159155",
         "Мгновения любви_",
         "США",
         "Лайон энд Вилл, Партс энд Лэйбор, Тракстоп Медиа",
         "2011",
         "2012-05-25T12:00:00.000Z",
         "Кино",
         "ООО \"Премиум Фильм\". Срок действия прокатного удостоверения прекратился 31.12.2015 согласно письмам Almedena Holdings Ltd и International Movie Distribution Ltd.",
         "121012912",
         "Зрителям, достигшим 16 лет",
         null,
         null,
         null,
         "Драма. В ролях: Бен Фостер, Питер Койот, Лубна Азабаль.",
         "1.0",
         null,
         null,
         null,
         null,
         "Брэйден Кинг",
         "Джей Ван Хой, Брэйден Кинг, Дэни Валент",
         "Брэйден Кинг, Дэни Валент",
         "Лу Кроули",
         "Ричард А.Райт, Аманда Форд",
         "Боксхеад Энсамбл",
         null,
         null,
         "Цветной",
         null,
         "2018-04-09T09:12:16+03:00",
         "2017-07-05T14:10:11+03:00"
        ],
        [
         "2111",
         "2159187",
         "Семейный доктор, или Монологи о здоровье. Выпуск 8.",
         "Россия",
         "ООО \"Телекомпания СГУ ТВ\"",
         "2012",
         "2012-05-11T12:00:00.000Z",
         "Видео",
         "Общество с ограниченной ответственностью \"Телекомпания СГУ ТВ\"",
         "216004012",
         "Детям до 12 лет просмотр фильма разрешен в сопровождении родителей",
         "3.0",
         null,
         null,
         "Домашняя оздоровительная авторская программа А.Е.Алексеева.",
         null,
         null,
         null,
         null,
         "Все права принадлежат ООО \"Телекомпания СГУ ТВ\" на срок до 10.02.2032 г.",
         "С.Покровский",
         null,
         "А.Алексеев",
         "Д.Потапов",
         null,
         null,
         null,
         null,
         "Цветной",
         null,
         "2018-04-09T09:12:16+03:00",
         "2017-07-05T14:10:11+03:00"
        ],
        [
         "2145",
         "2159221",
         "Вэсилэ Фаттахова \"BEST!\"",
         "Россия",
         "ООО \"Барс-Рекордс\"",
         "2012",
         "2012-02-27T12:00:00.000Z",
         "Видео",
         "ООО \"Барс-Рекордс\"",
         "217003612",
         "Детям до 12 лет просмотр фильма разрешен в сопровождении родителей",
         "2.0",
         null,
         null,
         "Эстрада",
         null,
         null,
         null,
         null,
         "Домашнее видео (неисключительные права) до 16.01.2062 у ООО \"Барс-Рекордс\"",
         null,
         null,
         null,
         null,
         null,
         "Э.Файзуллина, Ф.Муртазин, Л.Вахитова, У.Рашитов, Р.Хакимов и др.",
         null,
         null,
         "Цветной",
         null,
         "2018-04-09T09:12:16+03:00",
         "2017-07-05T14:10:11+03:00"
        ],
        [
         "2158",
         "2159243",
         "Чаггингтон. Веселые паровозики. Время учиться. Выпуск 5",
         "Великобритания",
         "Людорум Плс",
         "2008",
         "2012-04-10T12:00:00.000Z",
         "Видео",
         "ООО \"НОВЫЙ ДИСК-ТРЕЙД\"",
         "224011812",
         "Для любой зрительской аудитории",
         "1.0",
         null,
         null,
         "Мультфильм о друзьях-паровозиках.",
         "6.0",
         null,
         null,
         null,
         null,
         "Сара Болл",
         "Сара Болл",
         "Сара Болл, Джули Джонс, Йен Карни, Симон Джоует, Рейчел Мёррелл и др.",
         null,
         null,
         null,
         null,
         null,
         "Цветной",
         null,
         "2018-04-09T09:12:17+03:00",
         "2017-07-05T14:10:11+03:00"
        ],
        [
         "2173",
         "2159258",
         "Игра--",
         "Швеция-Франция-Дания",
         "Сосьетэ Паризьен де продюксьон",
         "2011",
         "2012-03-20T12:00:00.000Z",
         "Кино",
         "ООО \"Кино без границ\"",
         "121006812",
         "Зрителям, достигшим 14 лет",
         null,
         null,
         null,
         "В гл. ролях: Анас Абдирахман, Себастиан Бликерт. Драма о травле подростками друг-друга",
         null,
         null,
         null,
         null,
         null,
         "Рубен Остлунд",
         "Эрик Хеммендорф, Джессика Аск, Филипп Бобер",
         "Эрик Хеммендорф, Рубен Остлунд",
         "Мариус Дюбвад Брандруд",
         null,
         null,
         null,
         null,
         "Цветной",
         null,
         "2018-04-09T09:12:17+03:00",
         "2017-07-05T14:10:11+03:00"
        ]
       ],
       "shape": {
        "columns": 31,
        "rows": 19628
       }
      },
      "text/html": [
       "<div>\n",
       "<style scoped>\n",
       "    .dataframe tbody tr th:only-of-type {\n",
       "        vertical-align: middle;\n",
       "    }\n",
       "\n",
       "    .dataframe tbody tr th {\n",
       "        vertical-align: top;\n",
       "    }\n",
       "\n",
       "    .dataframe thead th {\n",
       "        text-align: right;\n",
       "    }\n",
       "</style>\n",
       "<table border=\"1\" class=\"dataframe\">\n",
       "  <thead>\n",
       "    <tr style=\"text-align: right;\">\n",
       "      <th></th>\n",
       "      <th>registry_record_id</th>\n",
       "      <th>film_title</th>\n",
       "      <th>country_of_production</th>\n",
       "      <th>production_studio</th>\n",
       "      <th>year_of_production</th>\n",
       "      <th>certificate_registration_date</th>\n",
       "      <th>category</th>\n",
       "      <th>film_usage_rights</th>\n",
       "      <th>certificate_number</th>\n",
       "      <th>age_rating</th>\n",
       "      <th>...</th>\n",
       "      <th>screenwriter</th>\n",
       "      <th>cinematographer</th>\n",
       "      <th>art_director</th>\n",
       "      <th>composer</th>\n",
       "      <th>frame_format</th>\n",
       "      <th>media_format</th>\n",
       "      <th>color</th>\n",
       "      <th>original_language</th>\n",
       "      <th>object_update_date</th>\n",
       "      <th>object_creation_date</th>\n",
       "    </tr>\n",
       "  </thead>\n",
       "  <tbody>\n",
       "    <tr>\n",
       "      <th>96</th>\n",
       "      <td>2157123</td>\n",
       "      <td>Миротворец</td>\n",
       "      <td>США</td>\n",
       "      <td>Дримуоркс Пикчерз</td>\n",
       "      <td>1997</td>\n",
       "      <td>2012-02-01T12:00:00.000Z</td>\n",
       "      <td>Видео</td>\n",
       "      <td>ООО \"НОВЫЙ ДИСК-ТРЕЙД\"</td>\n",
       "      <td>221010612</td>\n",
       "      <td>Зрителям, достигшим 16 лет</td>\n",
       "      <td>...</td>\n",
       "      <td>Микаэль Шиффер</td>\n",
       "      <td>NaN</td>\n",
       "      <td>NaN</td>\n",
       "      <td>Ханс Циммер</td>\n",
       "      <td>NaN</td>\n",
       "      <td>NaN</td>\n",
       "      <td>Цветной</td>\n",
       "      <td>NaN</td>\n",
       "      <td>2018-04-23T12:38:24+03:00</td>\n",
       "      <td>2017-07-05T14:10:11+03:00</td>\n",
       "    </tr>\n",
       "    <tr>\n",
       "      <th>803</th>\n",
       "      <td>2157833</td>\n",
       "      <td>Этот грустный цирк</td>\n",
       "      <td>Румыния</td>\n",
       "      <td>\"Бухарест\"</td>\n",
       "      <td>1982</td>\n",
       "      <td>2013-12-27T12:00:00.000Z</td>\n",
       "      <td>Видео</td>\n",
       "      <td>ООО \"КИНОСЕАНС\"</td>\n",
       "      <td>221050313</td>\n",
       "      <td>Для любой зрительской аудитории</td>\n",
       "      <td>...</td>\n",
       "      <td>В.Истрате</td>\n",
       "      <td>NaN</td>\n",
       "      <td>NaN</td>\n",
       "      <td>NaN</td>\n",
       "      <td>NaN</td>\n",
       "      <td>NaN</td>\n",
       "      <td>Цветной</td>\n",
       "      <td>NaN</td>\n",
       "      <td>2018-04-09T09:12:07+03:00</td>\n",
       "      <td>2017-07-05T14:10:11+03:00</td>\n",
       "    </tr>\n",
       "    <tr>\n",
       "      <th>859</th>\n",
       "      <td>2157890</td>\n",
       "      <td>Сваты - 3</td>\n",
       "      <td>Украина</td>\n",
       "      <td>ООО \"Интер Медиа Продакшн\", ООО \"Киноквартал\"</td>\n",
       "      <td>2009</td>\n",
       "      <td>2012-02-01T12:00:00.000Z</td>\n",
       "      <td>Видео</td>\n",
       "      <td>ООО \"Гармония\"</td>\n",
       "      <td>231000510</td>\n",
       "      <td>Зрителям, достигшим 14 лет</td>\n",
       "      <td>...</td>\n",
       "      <td>А.Яковлев, А.Ильков, А.Акимов, М.Савин,</td>\n",
       "      <td>NaN</td>\n",
       "      <td>NaN</td>\n",
       "      <td>NaN</td>\n",
       "      <td>NaN</td>\n",
       "      <td>NaN</td>\n",
       "      <td>Цветной</td>\n",
       "      <td>NaN</td>\n",
       "      <td>2018-04-09T09:12:07+03:00</td>\n",
       "      <td>2017-07-05T14:10:11+03:00</td>\n",
       "    </tr>\n",
       "    <tr>\n",
       "      <th>1030</th>\n",
       "      <td>2158061</td>\n",
       "      <td>Золотой фонд мультипликации. Выпуск 5</td>\n",
       "      <td>США</td>\n",
       "      <td>Коплей Пикчерз Корпорэйшн, Комонвелф Пикчерз, ...</td>\n",
       "      <td>1937-2006</td>\n",
       "      <td>2012-07-06T12:00:00.000Z</td>\n",
       "      <td>Видео</td>\n",
       "      <td>ООО \"НОВЫЙ ДИСК-ТРЕЙД\"</td>\n",
       "      <td>224017412</td>\n",
       "      <td>Для любой зрительской аудитории</td>\n",
       "      <td>...</td>\n",
       "      <td>NaN</td>\n",
       "      <td>NaN</td>\n",
       "      <td>NaN</td>\n",
       "      <td>NaN</td>\n",
       "      <td>NaN</td>\n",
       "      <td>NaN</td>\n",
       "      <td>Цветной</td>\n",
       "      <td>NaN</td>\n",
       "      <td>2018-04-09T09:12:09+03:00</td>\n",
       "      <td>2017-07-05T14:10:11+03:00</td>\n",
       "    </tr>\n",
       "    <tr>\n",
       "      <th>1033</th>\n",
       "      <td>2158064</td>\n",
       "      <td>Чаггингтон. Веселые паровозики. Грохочущие зак...</td>\n",
       "      <td>Великобритания</td>\n",
       "      <td>Людорум Плс</td>\n",
       "      <td>2008</td>\n",
       "      <td>2012-04-10T12:00:00.000Z</td>\n",
       "      <td>Видео</td>\n",
       "      <td>ООО \"НОВЫЙ ДИСК-ТРЕЙД\"</td>\n",
       "      <td>224012112</td>\n",
       "      <td>Для любой зрительской аудитории</td>\n",
       "      <td>...</td>\n",
       "      <td>Сара Болл, Джули Джонс, Йен Карни, Симон Джоуе...</td>\n",
       "      <td>NaN</td>\n",
       "      <td>NaN</td>\n",
       "      <td>NaN</td>\n",
       "      <td>NaN</td>\n",
       "      <td>NaN</td>\n",
       "      <td>Цветной</td>\n",
       "      <td>NaN</td>\n",
       "      <td>2018-04-09T09:12:09+03:00</td>\n",
       "      <td>2017-07-05T14:10:11+03:00</td>\n",
       "    </tr>\n",
       "    <tr>\n",
       "      <th>...</th>\n",
       "      <td>...</td>\n",
       "      <td>...</td>\n",
       "      <td>...</td>\n",
       "      <td>...</td>\n",
       "      <td>...</td>\n",
       "      <td>...</td>\n",
       "      <td>...</td>\n",
       "      <td>...</td>\n",
       "      <td>...</td>\n",
       "      <td>...</td>\n",
       "      <td>...</td>\n",
       "      <td>...</td>\n",
       "      <td>...</td>\n",
       "      <td>...</td>\n",
       "      <td>...</td>\n",
       "      <td>...</td>\n",
       "      <td>...</td>\n",
       "      <td>...</td>\n",
       "      <td>...</td>\n",
       "      <td>...</td>\n",
       "      <td>...</td>\n",
       "    </tr>\n",
       "    <tr>\n",
       "      <th>741126</th>\n",
       "      <td>7218967</td>\n",
       "      <td>Другой мир 2: Эволюция</td>\n",
       "      <td>США, Канада</td>\n",
       "      <td>Скрин Джемз, Лэйкшор Инт</td>\n",
       "      <td>2006</td>\n",
       "      <td>2022-05-17T12:00:00.000Z</td>\n",
       "      <td>Кино</td>\n",
       "      <td>ООО \"Маурис Филм\"</td>\n",
       "      <td>221011122</td>\n",
       "      <td>«18+» запрещено для детей</td>\n",
       "      <td>...</td>\n",
       "      <td>Дэнни МакБрайд, Лен Уайзман</td>\n",
       "      <td>Саймон Дагген</td>\n",
       "      <td>Патрик Татопулос</td>\n",
       "      <td>Марко Белтрами</td>\n",
       "      <td>NaN</td>\n",
       "      <td>DVD – диск</td>\n",
       "      <td>Цветной</td>\n",
       "      <td>NaN</td>\n",
       "      <td>2022-05-13T18:10:15+03:00</td>\n",
       "      <td>2022-05-13T18:10:15+03:00</td>\n",
       "    </tr>\n",
       "    <tr>\n",
       "      <th>741409</th>\n",
       "      <td>7314852</td>\n",
       "      <td>Соня из Тоствилля</td>\n",
       "      <td>Россия</td>\n",
       "      <td>ООО \"Студия МЕТРАФИЛЬМС\"</td>\n",
       "      <td>2020</td>\n",
       "      <td>2022-06-21T12:00:00.000Z</td>\n",
       "      <td>Видео</td>\n",
       "      <td>ООО \"Студия МЕТРАФИЛЬМС\"</td>\n",
       "      <td>214008022</td>\n",
       "      <td>«0+» для любой зрительской аудитории</td>\n",
       "      <td>...</td>\n",
       "      <td>Д.Высоцкий</td>\n",
       "      <td>NaN</td>\n",
       "      <td>Е.Хаски</td>\n",
       "      <td>А.Яковель</td>\n",
       "      <td>NaN</td>\n",
       "      <td>Betacam Digital</td>\n",
       "      <td>Цветной</td>\n",
       "      <td>NaN</td>\n",
       "      <td>2022-06-20T12:12:17+03:00</td>\n",
       "      <td>2022-06-20T12:12:17+03:00</td>\n",
       "    </tr>\n",
       "    <tr>\n",
       "      <th>741795</th>\n",
       "      <td>7811582</td>\n",
       "      <td>Дельфины в Космосе</td>\n",
       "      <td>Россия</td>\n",
       "      <td>Янковский Руслан Федорович</td>\n",
       "      <td>2022</td>\n",
       "      <td>2022-08-16T12:00:00.000Z</td>\n",
       "      <td>Видео</td>\n",
       "      <td>Янковский Руслан Федорович</td>\n",
       "      <td>211033722</td>\n",
       "      <td>«12+» для детей старше 12 лет</td>\n",
       "      <td>...</td>\n",
       "      <td>Р.Янковский</td>\n",
       "      <td>С.Астахов</td>\n",
       "      <td>П.Новиков</td>\n",
       "      <td>О.Попков</td>\n",
       "      <td>NaN</td>\n",
       "      <td>DVD – диск</td>\n",
       "      <td>Цветной</td>\n",
       "      <td>NaN</td>\n",
       "      <td>2022-08-15T12:46:17+03:00</td>\n",
       "      <td>2022-08-15T12:46:17+03:00</td>\n",
       "    </tr>\n",
       "    <tr>\n",
       "      <th>742013</th>\n",
       "      <td>7917360</td>\n",
       "      <td>Венеция</td>\n",
       "      <td>Россия, Грузия</td>\n",
       "      <td>ООО \"Кинокомпания Атлантик\", Найк Студио, 20 С...</td>\n",
       "      <td>2022</td>\n",
       "      <td>2022-09-16T12:00:00.000Z</td>\n",
       "      <td>Кино</td>\n",
       "      <td>ООО \"Кинокомпания Атлантик\"</td>\n",
       "      <td>121027122</td>\n",
       "      <td>«18+» запрещено для детей</td>\n",
       "      <td>...</td>\n",
       "      <td>Русудан Чкония</td>\n",
       "      <td>Марк Зумбах</td>\n",
       "      <td>Тео Барамидзе</td>\n",
       "      <td>NaN</td>\n",
       "      <td>NaN</td>\n",
       "      <td>HDD</td>\n",
       "      <td>Цветной</td>\n",
       "      <td>NaN</td>\n",
       "      <td>2022-09-15T11:12:44+03:00</td>\n",
       "      <td>2022-09-15T11:12:44+03:00</td>\n",
       "    </tr>\n",
       "    <tr>\n",
       "      <th>742198</th>\n",
       "      <td>8012803</td>\n",
       "      <td>Эмили</td>\n",
       "      <td>Великобритания, США</td>\n",
       "      <td>Темпо Продашнс Лимитед, Аренамедиа, Имбэнкмент...</td>\n",
       "      <td>2022</td>\n",
       "      <td>2022-10-17T12:00:00.000Z</td>\n",
       "      <td>Кино</td>\n",
       "      <td>ООО \"Телеагентство Русский Репортаж\"</td>\n",
       "      <td>121031322</td>\n",
       "      <td>«18+» запрещено для детей</td>\n",
       "      <td>...</td>\n",
       "      <td>Фрэнсис О’Коннор</td>\n",
       "      <td>Нану Сигал</td>\n",
       "      <td>Стив Саммерсгилл, Джоно Моулз, Майкл О’Коннор</td>\n",
       "      <td>Абель Коженёвски</td>\n",
       "      <td>NaN</td>\n",
       "      <td>HDD</td>\n",
       "      <td>Цветной</td>\n",
       "      <td>NaN</td>\n",
       "      <td>2022-10-18T10:58:42+03:00</td>\n",
       "      <td>2022-10-18T10:58:42+03:00</td>\n",
       "    </tr>\n",
       "  </tbody>\n",
       "</table>\n",
       "<p>19628 rows × 31 columns</p>\n",
       "</div>"
      ],
      "text/plain": [
       "        registry_record_id                                         film_title  \\\n",
       "96                 2157123                                         Миротворец   \n",
       "803                2157833                                 Этот грустный цирк   \n",
       "859                2157890                                          Сваты - 3   \n",
       "1030               2158061              Золотой фонд мультипликации. Выпуск 5   \n",
       "1033               2158064  Чаггингтон. Веселые паровозики. Грохочущие зак...   \n",
       "...                    ...                                                ...   \n",
       "741126             7218967                            Другой мир 2: Эволюция    \n",
       "741409             7314852                                  Соня из Тоствилля   \n",
       "741795             7811582                                 Дельфины в Космосе   \n",
       "742013             7917360                                            Венеция   \n",
       "742198             8012803                                              Эмили   \n",
       "\n",
       "       country_of_production  \\\n",
       "96                       США   \n",
       "803                  Румыния   \n",
       "859                  Украина   \n",
       "1030                     США   \n",
       "1033          Великобритания   \n",
       "...                      ...   \n",
       "741126           США, Канада   \n",
       "741409                Россия   \n",
       "741795                Россия   \n",
       "742013        Россия, Грузия   \n",
       "742198   Великобритания, США   \n",
       "\n",
       "                                        production_studio year_of_production  \\\n",
       "96                                      Дримуоркс Пикчерз               1997   \n",
       "803                                            \"Бухарест\"               1982   \n",
       "859         ООО \"Интер Медиа Продакшн\", ООО \"Киноквартал\"               2009   \n",
       "1030    Коплей Пикчерз Корпорэйшн, Комонвелф Пикчерз, ...          1937-2006   \n",
       "1033                                          Людорум Плс               2008   \n",
       "...                                                   ...                ...   \n",
       "741126                           Скрин Джемз, Лэйкшор Инт               2006   \n",
       "741409                           ООО \"Студия МЕТРАФИЛЬМС\"               2020   \n",
       "741795                         Янковский Руслан Федорович               2022   \n",
       "742013  ООО \"Кинокомпания Атлантик\", Найк Студио, 20 С...               2022   \n",
       "742198  Темпо Продашнс Лимитед, Аренамедиа, Имбэнкмент...               2022   \n",
       "\n",
       "       certificate_registration_date category  \\\n",
       "96          2012-02-01T12:00:00.000Z    Видео   \n",
       "803         2013-12-27T12:00:00.000Z    Видео   \n",
       "859         2012-02-01T12:00:00.000Z    Видео   \n",
       "1030        2012-07-06T12:00:00.000Z    Видео   \n",
       "1033        2012-04-10T12:00:00.000Z    Видео   \n",
       "...                              ...      ...   \n",
       "741126      2022-05-17T12:00:00.000Z     Кино   \n",
       "741409      2022-06-21T12:00:00.000Z    Видео   \n",
       "741795      2022-08-16T12:00:00.000Z    Видео   \n",
       "742013      2022-09-16T12:00:00.000Z     Кино   \n",
       "742198      2022-10-17T12:00:00.000Z     Кино   \n",
       "\n",
       "                           film_usage_rights certificate_number  \\\n",
       "96                    ООО \"НОВЫЙ ДИСК-ТРЕЙД\"          221010612   \n",
       "803                          ООО \"КИНОСЕАНС\"          221050313   \n",
       "859                           ООО \"Гармония\"          231000510   \n",
       "1030                  ООО \"НОВЫЙ ДИСК-ТРЕЙД\"          224017412   \n",
       "1033                  ООО \"НОВЫЙ ДИСК-ТРЕЙД\"          224012112   \n",
       "...                                      ...                ...   \n",
       "741126                     ООО \"Маурис Филм\"          221011122   \n",
       "741409              ООО \"Студия МЕТРАФИЛЬМС\"          214008022   \n",
       "741795            Янковский Руслан Федорович          211033722   \n",
       "742013           ООО \"Кинокомпания Атлантик\"          121027122   \n",
       "742198  ООО \"Телеагентство Русский Репортаж\"          121031322   \n",
       "\n",
       "                                  age_rating  ...  \\\n",
       "96                Зрителям, достигшим 16 лет  ...   \n",
       "803          Для любой зрительской аудитории  ...   \n",
       "859               Зрителям, достигшим 14 лет  ...   \n",
       "1030         Для любой зрительской аудитории  ...   \n",
       "1033         Для любой зрительской аудитории  ...   \n",
       "...                                      ...  ...   \n",
       "741126             «18+» запрещено для детей  ...   \n",
       "741409  «0+» для любой зрительской аудитории  ...   \n",
       "741795         «12+» для детей старше 12 лет  ...   \n",
       "742013             «18+» запрещено для детей  ...   \n",
       "742198             «18+» запрещено для детей  ...   \n",
       "\n",
       "                                             screenwriter cinematographer  \\\n",
       "96                                         Микаэль Шиффер             NaN   \n",
       "803                                             В.Истрате             NaN   \n",
       "859              А.Яковлев, А.Ильков, А.Акимов, М.Савин,              NaN   \n",
       "1030                                                  NaN             NaN   \n",
       "1033    Сара Болл, Джули Джонс, Йен Карни, Симон Джоуе...             NaN   \n",
       "...                                                   ...             ...   \n",
       "741126                        Дэнни МакБрайд, Лен Уайзман   Саймон Дагген   \n",
       "741409                                         Д.Высоцкий             NaN   \n",
       "741795                                        Р.Янковский       С.Астахов   \n",
       "742013                                     Русудан Чкония     Марк Зумбах   \n",
       "742198                                   Фрэнсис О’Коннор      Нану Сигал   \n",
       "\n",
       "                                         art_director          composer  \\\n",
       "96                                                NaN       Ханс Циммер   \n",
       "803                                               NaN               NaN   \n",
       "859                                               NaN               NaN   \n",
       "1030                                              NaN               NaN   \n",
       "1033                                              NaN               NaN   \n",
       "...                                               ...               ...   \n",
       "741126                               Патрик Татопулос    Марко Белтрами   \n",
       "741409                                        Е.Хаски         А.Яковель   \n",
       "741795                                      П.Новиков          О.Попков   \n",
       "742013                                  Тео Барамидзе               NaN   \n",
       "742198  Стив Саммерсгилл, Джоно Моулз, Майкл О’Коннор  Абель Коженёвски   \n",
       "\n",
       "       frame_format     media_format    color original_language  \\\n",
       "96              NaN              NaN  Цветной               NaN   \n",
       "803             NaN              NaN  Цветной               NaN   \n",
       "859             NaN              NaN  Цветной               NaN   \n",
       "1030            NaN              NaN  Цветной               NaN   \n",
       "1033            NaN              NaN  Цветной               NaN   \n",
       "...             ...              ...      ...               ...   \n",
       "741126          NaN       DVD – диск  Цветной               NaN   \n",
       "741409          NaN  Betacam Digital  Цветной               NaN   \n",
       "741795          NaN       DVD – диск  Цветной               NaN   \n",
       "742013          NaN              HDD  Цветной               NaN   \n",
       "742198          NaN              HDD  Цветной               NaN   \n",
       "\n",
       "               object_update_date       object_creation_date  \n",
       "96      2018-04-23T12:38:24+03:00  2017-07-05T14:10:11+03:00  \n",
       "803     2018-04-09T09:12:07+03:00  2017-07-05T14:10:11+03:00  \n",
       "859     2018-04-09T09:12:07+03:00  2017-07-05T14:10:11+03:00  \n",
       "1030    2018-04-09T09:12:09+03:00  2017-07-05T14:10:11+03:00  \n",
       "1033    2018-04-09T09:12:09+03:00  2017-07-05T14:10:11+03:00  \n",
       "...                           ...                        ...  \n",
       "741126  2022-05-13T18:10:15+03:00  2022-05-13T18:10:15+03:00  \n",
       "741409  2022-06-20T12:12:17+03:00  2022-06-20T12:12:17+03:00  \n",
       "741795  2022-08-15T12:46:17+03:00  2022-08-15T12:46:17+03:00  \n",
       "742013  2022-09-15T11:12:44+03:00  2022-09-15T11:12:44+03:00  \n",
       "742198  2022-10-18T10:58:42+03:00  2022-10-18T10:58:42+03:00  \n",
       "\n",
       "[19628 rows x 31 columns]"
      ]
     },
     "execution_count": 180,
     "metadata": {},
     "output_type": "execute_result"
    }
   ],
   "source": [
    "# find rows where duration_minutes is np.nan\n",
    "fc_reg_df[fc_reg_df['duration_minutes'].isna()]"
   ]
  },
  {
   "cell_type": "code",
   "execution_count": 109,
   "id": "a809395e",
   "metadata": {},
   "outputs": [
    {
     "data": {
      "application/vnd.microsoft.datawrangler.viewer.v0+json": {
       "columns": [
        {
         "name": "index",
         "rawType": "int64",
         "type": "integer"
        },
        {
         "name": "demonstration_duration_minutes",
         "rawType": "object",
         "type": "string"
        }
       ],
       "ref": "b84425f0-7311-43f4-b6e5-48f7cfb04c02",
       "rows": [],
       "shape": {
        "columns": 1,
        "rows": 0
       }
      },
      "text/plain": [
       "Series([], Name: demonstration_duration_minutes, dtype: object)"
      ]
     },
     "execution_count": 109,
     "metadata": {},
     "output_type": "execute_result"
    }
   ],
   "source": [
    "# find cells with letters in it\n",
    "mask_letters = fc_reg_df['demonstration_duration_minutes'].apply(lambda x: isinstance(x, str) and any(c.isalpha() for c in x))\n",
    "fc_reg_df.loc[mask_letters, 'demonstration_duration_minutes']"
   ]
  },
  {
   "cell_type": "code",
   "execution_count": 37,
   "id": "ee3517e1",
   "metadata": {},
   "outputs": [
    {
     "data": {
      "application/vnd.microsoft.datawrangler.viewer.v0+json": {
       "columns": [
        {
         "name": "certificate_number",
         "rawType": "bool",
         "type": "boolean"
        },
        {
         "name": "count",
         "rawType": "int64",
         "type": "integer"
        }
       ],
       "ref": "d1ef0db8-b50b-45af-984f-52429bb5bd4b",
       "rows": [
        [
         "True",
         "731344"
        ],
        [
         "False",
         "14320"
        ]
       ],
       "shape": {
        "columns": 1,
        "rows": 2
       }
      },
      "text/plain": [
       "certificate_number\n",
       "True     731344\n",
       "False     14320\n",
       "Name: count, dtype: int64"
      ]
     },
     "execution_count": 37,
     "metadata": {},
     "output_type": "execute_result"
    }
   ],
   "source": [
    "# find rows with str type and check if they are digits\n",
    "is_digit(fc_reg_df, 'certificate_number')"
   ]
  },
  {
   "cell_type": "code",
   "execution_count": null,
   "id": "38dec3a6",
   "metadata": {},
   "outputs": [],
   "source": []
  },
  {
   "cell_type": "code",
   "execution_count": 32,
   "id": "d8671ae9",
   "metadata": {},
   "outputs": [
    {
     "data": {
      "application/vnd.microsoft.datawrangler.viewer.v0+json": {
       "columns": [
        {
         "name": "index",
         "rawType": "int64",
         "type": "integer"
        },
        {
         "name": "demonstration_duration_minutes",
         "rawType": "object",
         "type": "string"
        }
       ],
       "ref": "d4317330-fdd8-47ad-b9a6-d2ab157bcd28",
       "rows": [
        [
         "188562",
         "58/59"
        ],
        [
         "190277",
         "7/8"
        ],
        [
         "191417",
         "28/25"
        ],
        [
         "638127",
         "58/59"
        ],
        [
         "639842",
         "7/8"
        ],
        [
         "640981",
         "28/25"
        ],
        [
         "741296",
         "58/59"
        ],
        [
         "743010",
         "7/8"
        ],
        [
         "744152",
         "28/25"
        ]
       ],
       "shape": {
        "columns": 1,
        "rows": 9
       }
      },
      "text/plain": [
       "188562    58/59\n",
       "190277      7/8\n",
       "191417    28/25\n",
       "638127    58/59\n",
       "639842      7/8\n",
       "640981    28/25\n",
       "741296    58/59\n",
       "743010      7/8\n",
       "744152    28/25\n",
       "Name: demonstration_duration_minutes, dtype: object"
      ]
     },
     "execution_count": 32,
     "metadata": {},
     "output_type": "execute_result"
    }
   ],
   "source": [
    "# show rows with str type and not digits\n",
    "mask_str = fc_reg_df['demonstration_duration_minutes'].apply(type) == str\n",
    "mask_not_digit = ~fc_reg_df.loc[mask_str, 'demonstration_duration_minutes'].str.isdigit()\n",
    "fc_reg_df.loc[mask_str & mask_not_digit, 'demonstration_duration_minutes']"
   ]
  },
  {
   "cell_type": "code",
   "execution_count": 35,
   "id": "a4fac7c9",
   "metadata": {},
   "outputs": [
    {
     "data": {
      "application/vnd.microsoft.datawrangler.viewer.v0+json": {
       "columns": [
        {
         "name": "index",
         "rawType": "int64",
         "type": "integer"
        },
        {
         "name": "demonstration_duration_minutes",
         "rawType": "object",
         "type": "unknown"
        }
       ],
       "ref": "d354352b-cb81-438a-86f2-883680e59afb",
       "rows": [
        [
         "0",
         null
        ],
        [
         "1",
         null
        ],
        [
         "2",
         null
        ],
        [
         "3",
         null
        ],
        [
         "4",
         null
        ],
        [
         "5",
         null
        ],
        [
         "6",
         null
        ],
        [
         "7",
         null
        ],
        [
         "8",
         null
        ],
        [
         "9",
         null
        ],
        [
         "10",
         null
        ],
        [
         "11",
         null
        ],
        [
         "12",
         null
        ],
        [
         "13",
         null
        ],
        [
         "14",
         null
        ],
        [
         "15",
         null
        ],
        [
         "16",
         null
        ],
        [
         "17",
         null
        ],
        [
         "18",
         null
        ],
        [
         "19",
         null
        ],
        [
         "20",
         null
        ],
        [
         "21",
         null
        ],
        [
         "22",
         null
        ],
        [
         "23",
         null
        ],
        [
         "24",
         null
        ],
        [
         "25",
         null
        ],
        [
         "26",
         null
        ],
        [
         "27",
         null
        ],
        [
         "28",
         null
        ],
        [
         "29",
         null
        ],
        [
         "30",
         null
        ],
        [
         "31",
         null
        ],
        [
         "32",
         null
        ],
        [
         "33",
         null
        ],
        [
         "34",
         null
        ],
        [
         "35",
         null
        ],
        [
         "36",
         null
        ],
        [
         "37",
         null
        ],
        [
         "38",
         null
        ],
        [
         "39",
         null
        ],
        [
         "40",
         null
        ],
        [
         "41",
         null
        ],
        [
         "42",
         null
        ],
        [
         "43",
         null
        ],
        [
         "44",
         null
        ],
        [
         "45",
         null
        ],
        [
         "46",
         null
        ],
        [
         "47",
         null
        ],
        [
         "48",
         null
        ],
        [
         "49",
         null
        ]
       ],
       "shape": {
        "columns": 1,
        "rows": 745664
       }
      },
      "text/plain": [
       "0           NaN\n",
       "1           NaN\n",
       "2           NaN\n",
       "3           NaN\n",
       "4           NaN\n",
       "          ...  \n",
       "745659    False\n",
       "745660    False\n",
       "745661    False\n",
       "745662    False\n",
       "745663    False\n",
       "Name: demonstration_duration_minutes, Length: 745664, dtype: object"
      ]
     },
     "execution_count": 35,
     "metadata": {},
     "output_type": "execute_result"
    }
   ],
   "source": [
    "# find cells with '/' and split them\n",
    "mask_slash = fc_reg_df['demonstration_duration_minutes'].str.contains('%/%')\n",
    "mask_slash"
   ]
  },
  {
   "cell_type": "code",
   "execution_count": 6,
   "id": "fe39d7a6",
   "metadata": {},
   "outputs": [
    {
     "name": "stdout",
     "output_type": "stream",
     "text": [
      "Table 'employees' created\n",
      "Data inserted into 'employees' table\n"
     ]
    }
   ],
   "source": [
    "# Создание курсора\n",
    "conn = conn_pg()\n",
    "\n",
    "cur = conn.cursor()\n",
    "\n",
    "# Создание таблицы\n",
    "cur.execute('''\n",
    "CREATE TABLE IF NOT EXISTS employees (\n",
    "    id SERIAL PRIMARY KEY,\n",
    "    name VARCHAR(100),\n",
    "    position VARCHAR(100),\n",
    "    salary NUMERIC\n",
    ");\n",
    "''')\n",
    "print(\"Table 'employees' created\")\n",
    "\n",
    "# Вставка данных в таблицу\n",
    "cur.execute('''\n",
    "INSERT INTO employees (name, position, salary)\n",
    "VALUES ('Alice', 'Manager', 70000),\n",
    "        ('Bob', 'Developer', 60000),\n",
    "        ('Charlie', 'Designer', 50000);\n",
    "''')\n",
    "print(\"Data inserted into 'employees' table\")\n",
    "\n",
    "# Сохранение изменений\n",
    "conn.commit()\n"
   ]
  },
  {
   "cell_type": "code",
   "execution_count": 7,
   "id": "a07270d0",
   "metadata": {},
   "outputs": [],
   "source": [
    "# Закрытие курсора и соединения\n",
    "conn_pg_close(conn)"
   ]
  },
  {
   "cell_type": "code",
   "execution_count": 9,
   "id": "53a38892",
   "metadata": {},
   "outputs": [
    {
     "name": "stdout",
     "output_type": "stream",
     "text": [
      "Table 'employees' created in ClickHouse\n"
     ]
    }
   ],
   "source": [
    "try:\n",
    "    # Создание таблицы\n",
    "    client.command('''\n",
    "    CREATE TABLE IF NOT EXISTS dbch.employees (\n",
    "        id UInt32,\n",
    "        name String,\n",
    "        position String,\n",
    "        salary Float32\n",
    "    ) ENGINE = MergeTree()\n",
    "    ORDER BY id;\n",
    "    ''')\n",
    "    print(\"Table 'employees' created in ClickHouse\")\n",
    "\n",
    "except Exception as e:\n",
    "    print(f\"Error connecting to ClickHouse: {e}\")\n"
   ]
  },
  {
   "cell_type": "code",
   "execution_count": 15,
   "id": "87fc3458",
   "metadata": {},
   "outputs": [
    {
     "data": {
      "text/plain": [
       "<clickhouse_connect.driver.query.QueryResult at 0x25cb2336810>"
      ]
     },
     "execution_count": 15,
     "metadata": {},
     "output_type": "execute_result"
    }
   ],
   "source": [
    "client.query('select * from dbch.employees')"
   ]
  },
  {
   "cell_type": "code",
   "execution_count": 16,
   "id": "c587c9de",
   "metadata": {},
   "outputs": [],
   "source": [
    "# # Correct way to insert rows\n",
    "# data = [\n",
    "#     (1, 'Alice', 'Manager', 70000.0),\n",
    "#     (2, 'Bob', 'Developer', 60000.0),\n",
    "#     (3, 'Charlie', 'Designer', 50000.0)\n",
    "# ]\n",
    "\n",
    "# client.insert('dbch.employees', data, column_names=['id', 'name', 'position', 'salary'])"
   ]
  },
  {
   "cell_type": "code",
   "execution_count": null,
   "id": "5d668bfa",
   "metadata": {},
   "outputs": [],
   "source": []
  }
 ],
 "metadata": {
  "kernelspec": {
   "display_name": "de",
   "language": "python",
   "name": "python3"
  },
  "language_info": {
   "codemirror_mode": {
    "name": "ipython",
    "version": 3
   },
   "file_extension": ".py",
   "mimetype": "text/x-python",
   "name": "python",
   "nbconvert_exporter": "python",
   "pygments_lexer": "ipython3",
   "version": "3.12.11"
  }
 },
 "nbformat": 4,
 "nbformat_minor": 5
}
