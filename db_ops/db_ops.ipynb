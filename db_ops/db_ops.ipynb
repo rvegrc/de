{
 "cells": [
  {
   "cell_type": "code",
   "execution_count": 8,
   "id": "33d7172d",
   "metadata": {},
   "outputs": [],
   "source": [
    "import psycopg2\n",
    "import clickhouse_connect\n",
    "\n",
    "\n",
    "# Подключение к PostgreSQL\n",
    "def conn_pg():\n",
    "    try:\n",
    "        conn = psycopg2.connect(\n",
    "            host=\"localhost\",\n",
    "            database=\"dbpg\",\n",
    "            user=\"user\",\n",
    "            password=\"password\",\n",
    "            port=5432\n",
    "        )\n",
    "        # print(\"Connected to PostgreSQL\")\n",
    "        # cur = conn.cursor()\n",
    "        # cur.execute(query)\n",
    "        # output = cur.fetchall()\n",
    "        # print(\"PostgreSQL version:\", db_version)\n",
    "        # if output:\n",
    "        #     return\n",
    "        # else:\n",
    "        #     print(\"No output from the query\")\n",
    "        return conn    \n",
    "    except Exception as e:\n",
    "        print(f\"Error connecting to PostgreSQL: {e}\")\n",
    "    \n",
    "def conn_pg_close(conn):\n",
    "    if conn:\n",
    "        cur = conn.cursor()\n",
    "        cur.close()\n",
    "        conn.close()\n",
    "        # print(\"PostgreSQL connection closed\")\n",
    "\n",
    "\n",
    "# Подключение к ClickHouse\n",
    "client = clickhouse_connect.get_client(\n",
    "            host='localhost'\n",
    "            ,username='user'\n",
    "            ,password='password'\n",
    "            ,database='dbch'\n",
    "            ,port=8123\n",
    "            )\n",
    "        # print(\"Connected to ClickHouse\")\n",
    "        # version = client.command('SELECT version()')\n",
    "        # print(\"ClickHouse version:\", version)"
   ]
  },
  {
   "cell_type": "code",
   "execution_count": 6,
   "id": "fe39d7a6",
   "metadata": {},
   "outputs": [
    {
     "name": "stdout",
     "output_type": "stream",
     "text": [
      "Table 'employees' created\n",
      "Data inserted into 'employees' table\n"
     ]
    }
   ],
   "source": [
    "# Создание курсора\n",
    "conn = conn_pg()\n",
    "\n",
    "cur = conn.cursor()\n",
    "\n",
    "# Создание таблицы\n",
    "cur.execute('''\n",
    "CREATE TABLE IF NOT EXISTS employees (\n",
    "    id SERIAL PRIMARY KEY,\n",
    "    name VARCHAR(100),\n",
    "    position VARCHAR(100),\n",
    "    salary NUMERIC\n",
    ");\n",
    "''')\n",
    "print(\"Table 'employees' created\")\n",
    "\n",
    "# Вставка данных в таблицу\n",
    "cur.execute('''\n",
    "INSERT INTO employees (name, position, salary)\n",
    "VALUES ('Alice', 'Manager', 70000),\n",
    "        ('Bob', 'Developer', 60000),\n",
    "        ('Charlie', 'Designer', 50000);\n",
    "''')\n",
    "print(\"Data inserted into 'employees' table\")\n",
    "\n",
    "# Сохранение изменений\n",
    "conn.commit()\n"
   ]
  },
  {
   "cell_type": "code",
   "execution_count": 7,
   "id": "a07270d0",
   "metadata": {},
   "outputs": [],
   "source": [
    "# Закрытие курсора и соединения\n",
    "conn_pg_close(conn)"
   ]
  },
  {
   "cell_type": "code",
   "execution_count": 9,
   "id": "53a38892",
   "metadata": {},
   "outputs": [
    {
     "name": "stdout",
     "output_type": "stream",
     "text": [
      "Table 'employees' created in ClickHouse\n"
     ]
    }
   ],
   "source": [
    "try:\n",
    "    # Создание таблицы\n",
    "    client.command('''\n",
    "    CREATE TABLE IF NOT EXISTS dbch.employees (\n",
    "        id UInt32,\n",
    "        name String,\n",
    "        position String,\n",
    "        salary Float32\n",
    "    ) ENGINE = MergeTree()\n",
    "    ORDER BY id;\n",
    "    ''')\n",
    "    print(\"Table 'employees' created in ClickHouse\")\n",
    "\n",
    "except Exception as e:\n",
    "    print(f\"Error connecting to ClickHouse: {e}\")\n"
   ]
  },
  {
   "cell_type": "code",
   "execution_count": 15,
   "id": "87fc3458",
   "metadata": {},
   "outputs": [
    {
     "data": {
      "text/plain": [
       "<clickhouse_connect.driver.query.QueryResult at 0x25cb2336810>"
      ]
     },
     "execution_count": 15,
     "metadata": {},
     "output_type": "execute_result"
    }
   ],
   "source": [
    "client.query('select * from dbch.employees')"
   ]
  },
  {
   "cell_type": "code",
   "execution_count": 16,
   "id": "c587c9de",
   "metadata": {},
   "outputs": [],
   "source": [
    "# # Correct way to insert rows\n",
    "# data = [\n",
    "#     (1, 'Alice', 'Manager', 70000.0),\n",
    "#     (2, 'Bob', 'Developer', 60000.0),\n",
    "#     (3, 'Charlie', 'Designer', 50000.0)\n",
    "# ]\n",
    "\n",
    "# client.insert('dbch.employees', data, column_names=['id', 'name', 'position', 'salary'])"
   ]
  },
  {
   "cell_type": "code",
   "execution_count": null,
   "id": "5d668bfa",
   "metadata": {},
   "outputs": [],
   "source": []
  }
 ],
 "metadata": {
  "kernelspec": {
   "display_name": "de",
   "language": "python",
   "name": "python3"
  },
  "language_info": {
   "codemirror_mode": {
    "name": "ipython",
    "version": 3
   },
   "file_extension": ".py",
   "mimetype": "text/x-python",
   "name": "python",
   "nbconvert_exporter": "python",
   "pygments_lexer": "ipython3",
   "version": "3.12.11"
  }
 },
 "nbformat": 4,
 "nbformat_minor": 5
}
