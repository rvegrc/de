{
 "cells": [
  {
   "cell_type": "code",
   "execution_count": 7,
   "id": "33d7172d",
   "metadata": {},
   "outputs": [
    {
     "name": "stdout",
     "output_type": "stream",
     "text": [
      "Connected to PostgreSQL\n",
      "PostgreSQL version: ('PostgreSQL 17.5 (Debian 17.5-1.pgdg120+1) on x86_64-pc-linux-gnu, compiled by gcc (Debian 12.2.0-14) 12.2.0, 64-bit',)\n",
      "PostgreSQL connection closed\n",
      "Connected to ClickHouse\n",
      "ClickHouse version: 25.6.2.5\n"
     ]
    }
   ],
   "source": [
    "import psycopg2\n",
    "import clickhouse_connect\n",
    "\n",
    "\n",
    "# Подключение к PostgreSQL\n",
    "def conn_pg():\n",
    "    try:\n",
    "        conn = psycopg2.connect(\n",
    "            host=\"localhost\",\n",
    "            database=\"mydb\",\n",
    "            user=\"user\",\n",
    "            password=\"password\",\n",
    "            port=5432\n",
    "        )\n",
    "        print(\"Connected to PostgreSQL\")\n",
    "        cur = conn.cursor()\n",
    "        cur.execute('SELECT version()')\n",
    "        db_version = cur.fetchone()\n",
    "        print(\"PostgreSQL version:\", db_version)\n",
    "    except Exception as e:\n",
    "        print(f\"Error connecting to PostgreSQL: {e}\")\n",
    "    finally:\n",
    "        if conn:\n",
    "            cur.close()\n",
    "            conn.close()\n",
    "            print(\"PostgreSQL connection closed\")\n",
    "\n",
    "\n",
    "# Подключение к ClickHouse\n",
    "def conn_ch():\n",
    "    try:\n",
    "        client = clickhouse_connect.get_client(\n",
    "            host='localhost'\n",
    "            ,username='default'\n",
    "            ,password='yourpassword'\n",
    "            ,database='default'\n",
    "            ,port=8123\n",
    "            )\n",
    "        print(\"Connected to ClickHouse\")\n",
    "        version = client.command('SELECT version()')\n",
    "        print(\"ClickHouse version:\", version)\n",
    "    except Exception as e:\n",
    "        print(f\"Error connecting to ClickHouse: {e}\")\n",
    "\n",
    "\n",
    "      \n",
    "\n",
    "conn_pg()\n",
    "conn_ch()    "
   ]
  },
  {
   "cell_type": "code",
   "execution_count": null,
   "id": "fe39d7a6",
   "metadata": {},
   "outputs": [],
   "source": []
  }
 ],
 "metadata": {
  "kernelspec": {
   "display_name": "de",
   "language": "python",
   "name": "python3"
  },
  "language_info": {
   "codemirror_mode": {
    "name": "ipython",
    "version": 3
   },
   "file_extension": ".py",
   "mimetype": "text/x-python",
   "name": "python",
   "nbconvert_exporter": "python",
   "pygments_lexer": "ipython3",
   "version": "3.12.11"
  }
 },
 "nbformat": 4,
 "nbformat_minor": 5
}
