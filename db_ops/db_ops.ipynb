{
 "cells": [
  {
   "cell_type": "code",
   "execution_count": 177,
   "id": "33d7172d",
   "metadata": {},
   "outputs": [],
   "source": [
    "import psycopg2\n",
    "import clickhouse_connect\n",
    "import pandas as pd\n",
    "import os\n",
    "import sys\n",
    "import re\n",
    "import numpy as np\n",
    "\n",
    "\n",
    "# Подключение к PostgreSQL\n",
    "def conn_pg():\n",
    "    try:\n",
    "        conn = psycopg2.connect(\n",
    "            host=\"localhost\",\n",
    "            database=\"dbpg\",\n",
    "            user=\"user\",\n",
    "            password=\"password\",\n",
    "            port=5432\n",
    "        )\n",
    "        # print(\"Connected to PostgreSQL\")\n",
    "        # cur = conn.cursor()\n",
    "        # cur.execute(query)\n",
    "        # output = cur.fetchall()\n",
    "        # print(\"PostgreSQL version:\", db_version)\n",
    "        # if output:\n",
    "        #     return\n",
    "        # else:\n",
    "        #     print(\"No output from the query\")\n",
    "        return conn    \n",
    "    except Exception as e:\n",
    "        print(f\"Error connecting to PostgreSQL: {e}\")\n",
    "    \n",
    "def conn_pg_close(conn):\n",
    "    if conn:\n",
    "        cur = conn.cursor()\n",
    "        cur.close()\n",
    "        conn.close()\n",
    "        # print(\"PostgreSQL connection closed\")\n",
    "\n",
    "\n",
    "# Подключение к ClickHouse\n",
    "def conn_ch():\n",
    "    try:\n",
    "        client = clickhouse_connect.get_client(\n",
    "            host='localhost',\n",
    "            username='user',\n",
    "            password='password',\n",
    "            database='dbch',\n",
    "            port=8123\n",
    "        )\n",
    "        # print(\"Connected to ClickHouse\")\n",
    "        # version = client.command('SELECT version()')\n",
    "        # print(\"ClickHouse version:\", version)\n",
    "        return client\n",
    "    except Exception as e:\n",
    "        print(f\"Error connecting to ClickHouse: {e}\")\n",
    "\n",
    "        # print(\"Connected to ClickHouse\")\n",
    "        # version = client.command('SELECT version()')\n",
    "\n",
    "        # print(\"ClickHouse version:\", version)\n",
    "\n",
    "\n",
    "# import tools\n",
    "# Get the parent directory\n",
    "parent_dir = os.path.abspath(os.path.join(os.getcwd(), \"../..\")) # for subfolder\n",
    "\n",
    "# find tools in parent dir\n",
    "if os.path.isdir(os.path.join(parent_dir, 'tools')):\n",
    "    # Add parent directory to sys.path if found\n",
    "    sys.path.append(parent_dir)\n",
    "    \n",
    "else:\n",
    "    # for run in spark\n",
    "    parent_dir = os.path.abspath(os.path.join(os.getcwd(), \"../airflow/airflow_data\"))\n",
    "    \n",
    "    # Add parent directory to sys.path\n",
    "    sys.path.append(parent_dir)\n",
    "\n",
    "\n",
    "from tools import pd_tools\n",
    "from tools.paths import Paths\n",
    "from tools.db_tools import DbTools\n",
    "\n",
    "\n",
    "# import paths\n",
    "root_path = '..' # for local folder\n",
    "paths = Paths(root_path)\n",
    "data_path = paths.data_path\n",
    "tmp_path = paths.tmp_path\n",
    "prod_data_path = paths.prod_data_path\n",
    "dev_data_path = paths.dev_data_path\n",
    "prod_db = paths.prod_db\n",
    "dev_db = paths.dev_db\n",
    "tmp_db = paths.tmp_db\n",
    "tmp_data_path = paths.tmp_data_path\n",
    "\n",
    "# db_tools = DbTools(data_path, tmp_path, client)"
   ]
  },
  {
   "cell_type": "markdown",
   "id": "17d59882",
   "metadata": {},
   "source": [
    "## Load data and analyze it"
   ]
  },
  {
   "cell_type": "code",
   "execution_count": 2,
   "id": "22a4b231",
   "metadata": {},
   "outputs": [],
   "source": [
    "fc_reg_path = f'{data_path}/film_cert_registry'"
   ]
  },
  {
   "cell_type": "code",
   "execution_count": 3,
   "id": "93a74632",
   "metadata": {},
   "outputs": [
    {
     "name": "stderr",
     "output_type": "stream",
     "text": [
      "/home/pmu/projects/tools/pd_tools.py:23: DtypeWarning: Columns (2,13,18,19,20,32,35,37,40,43,44,45) have mixed types. Specify dtype option on import or set low_memory=False.\n",
      "  dict_dfs[name] = pd.read_csv(path + '/' + file)\n",
      "/home/pmu/projects/tools/pd_tools.py:23: DtypeWarning: Columns (2,12,13,14,17,19,20,32,35,36,37,40,44) have mixed types. Specify dtype option on import or set low_memory=False.\n",
      "  dict_dfs[name] = pd.read_csv(path + '/' + file)\n",
      "/home/pmu/projects/tools/pd_tools.py:23: DtypeWarning: Columns (3,5,7,8,11,20,23,28,38,39,40,42,43,44,47,51) have mixed types. Specify dtype option on import or set low_memory=False.\n",
      "  dict_dfs[name] = pd.read_csv(path + '/' + file)\n",
      "/home/pmu/projects/tools/pd_tools.py:23: DtypeWarning: Columns (3,5,7,8,11,20,23,28,43,44) have mixed types. Specify dtype option on import or set low_memory=False.\n",
      "  dict_dfs[name] = pd.read_csv(path + '/' + file)\n",
      "/home/pmu/projects/tools/pd_tools.py:23: DtypeWarning: Columns (2,13,18,19,20,32,35,37,41,44,45,46) have mixed types. Specify dtype option on import or set low_memory=False.\n",
      "  dict_dfs[name] = pd.read_csv(path + '/' + file)\n",
      "/home/pmu/projects/tools/pd_tools.py:23: DtypeWarning: Columns (2,13,18,19,20,32,35,37,41,45) have mixed types. Specify dtype option on import or set low_memory=False.\n",
      "  dict_dfs[name] = pd.read_csv(path + '/' + file)\n",
      "/home/pmu/projects/tools/pd_tools.py:23: DtypeWarning: Columns (2,12,13,14,17,19,20,32,35,36,37,40,44) have mixed types. Specify dtype option on import or set low_memory=False.\n",
      "  dict_dfs[name] = pd.read_csv(path + '/' + file)\n",
      "/home/pmu/projects/tools/pd_tools.py:23: DtypeWarning: Columns (2,12,13,14,17,19,20,32,35,36,37,40,44) have mixed types. Specify dtype option on import or set low_memory=False.\n",
      "  dict_dfs[name] = pd.read_csv(path + '/' + file)\n"
     ]
    }
   ],
   "source": [
    "# write files to df dict\n",
    "\n",
    "fc_reg_dict = pd_tools.dict_dfs(fc_reg_path)"
   ]
  },
  {
   "cell_type": "code",
   "execution_count": 4,
   "id": "439b5d96",
   "metadata": {},
   "outputs": [
    {
     "data": {
      "text/plain": [
       "['data-6-structure-3',\n",
       " 'data-7-structure-4',\n",
       " 'data-2-structure-1',\n",
       " 'data-1-structure-1',\n",
       " 'data-4-structure-2',\n",
       " 'data-3-structure-2',\n",
       " 'data-9-structure-4',\n",
       " 'data-8-structure-4']"
      ]
     },
     "execution_count": 4,
     "metadata": {},
     "output_type": "execute_result"
    }
   ],
   "source": [
    "file_names = list(fc_reg_dict.keys())  # Convert keys to a list for easier manipulation  \n",
    "file_names"
   ]
  },
  {
   "cell_type": "markdown",
   "id": "e1433ac6",
   "metadata": {},
   "source": [
    "## Rename common columns and create aggregated dataframe"
   ]
  },
  {
   "cell_type": "code",
   "execution_count": 5,
   "id": "9d3d34e5",
   "metadata": {},
   "outputs": [
    {
     "name": "stdout",
     "output_type": "stream",
     "text": [
      "Processing: data-6-structure-3\n",
      "Processing: data-7-structure-4\n",
      "Processing: data-2-structure-1\n",
      "Processing: data-1-structure-1\n",
      "Processing: data-4-structure-2\n",
      "Processing: data-3-structure-2\n",
      "Processing: data-9-structure-4\n",
      "Processing: data-8-structure-4\n"
     ]
    }
   ],
   "source": [
    "# create list of columns for each df\n",
    "columns = {}\n",
    "for file_name in file_names:\n",
    "    print(f'Processing: {file_name}')\n",
    "    df = fc_reg_dict[file_name]\n",
    "    columns[file_name] = list(df.columns)"
   ]
  },
  {
   "cell_type": "code",
   "execution_count": 6,
   "id": "35baf3c9",
   "metadata": {},
   "outputs": [
    {
     "data": {
      "text/plain": [
       "{'Аннотация',\n",
       " 'Возрастная категория',\n",
       " 'Год производства',\n",
       " 'Дата регистрации удостоверения',\n",
       " 'Единица измерения',\n",
       " 'Идентификатор записи реестра',\n",
       " 'Категория',\n",
       " 'Количество серий',\n",
       " 'Композитор',\n",
       " 'Название фильма',\n",
       " 'Номер удостоверения',\n",
       " 'Объем носителя',\n",
       " 'Оператор',\n",
       " 'Порядковый номер переоформления/продления',\n",
       " 'Права на использование фильма',\n",
       " 'Права проката переданы',\n",
       " 'Примечание',\n",
       " 'Продюсер',\n",
       " 'Режиссер',\n",
       " 'Страна производства',\n",
       " 'Студия-производитель',\n",
       " 'Сценарист',\n",
       " 'Формат кадра',\n",
       " 'Формат носителя',\n",
       " 'Художник',\n",
       " 'Цвет',\n",
       " 'Язык оригинала',\n",
       " 'дата обновления объекта',\n",
       " 'дата создания объекта'}"
      ]
     },
     "execution_count": 6,
     "metadata": {},
     "output_type": "execute_result"
    }
   ],
   "source": [
    "# find common columns in all df\n",
    "list_all_df_cols = []\n",
    "for key, value in columns.items():\n",
    "    list_all_df_cols.append(set(value))\n",
    "    \n",
    "common_columns = set.intersection(*list_all_df_cols)\n",
    "common_columns"
   ]
  },
  {
   "cell_type": "code",
   "execution_count": 7,
   "id": "ff85515a",
   "metadata": {},
   "outputs": [],
   "source": [
    "duration_columns = [\n",
    "    'Продолжительность демонстрации, часы',\n",
    "    'Продолжительность демонстрации, минуты',\n",
    "    'Продолжительность показа, минуты', \n",
    "    'Продолжительность показа, часы'\n",
    "]"
   ]
  },
  {
   "cell_type": "code",
   "execution_count": null,
   "id": "24277bd7",
   "metadata": {},
   "outputs": [
    {
     "data": {
      "text/plain": [
       "['registry_record_id',\n",
       " 'film_title',\n",
       " 'country_of_production',\n",
       " 'production_studio',\n",
       " 'year_of_production',\n",
       " 'certificate_registration_date',\n",
       " 'category',\n",
       " 'film_usage_rights',\n",
       " 'certificate_number',\n",
       " 'age_rating',\n",
       " 'duration_hours',\n",
       " 'duration_minutes',\n",
       " 'unit_of_measurement',\n",
       " 'synopsis',\n",
       " 'number_of_episodes',\n",
       " 'media_size',\n",
       " 'amendment_extension_number',\n",
       " 'distribution_rights_transferred',\n",
       " 'note',\n",
       " 'director',\n",
       " 'producer',\n",
       " 'screenwriter',\n",
       " 'cinematographer',\n",
       " 'art_director',\n",
       " 'composer',\n",
       " 'frame_format',\n",
       " 'media_format',\n",
       " 'color',\n",
       " 'original_language',\n",
       " 'object_update_date',\n",
       " 'object_creation_date']"
      ]
     },
     "execution_count": 157,
     "metadata": {},
     "output_type": "execute_result"
    }
   ],
   "source": [
    "column_rename_map = {\n",
    "    'Идентификатор записи реестра': 'registry_record_id',\n",
    "    'Название фильма': 'film_title',\n",
    "    'Страна производства': 'country_of_production',\n",
    "    'Студия-производитель': 'production_studio',\n",
    "    'Год производства': 'year_of_production',\n",
    "    'Дата регистрации удостоверения': 'certificate_registration_date',\n",
    "    'Категория': 'category',\n",
    "    'Права на использование фильма': 'film_usage_rights',\n",
    "    'Номер удостоверения': 'certificate_number',\n",
    "    'Возрастная категория': 'age_rating',\n",
    "    'Продолжительность демонстрации, часы': 'duration_hours',\n",
    "    'Продолжительность демонстрации, минуты': 'duration_minutes',\n",
    "    'Продолжительность показа, часы': 'duration_hours', # same as demonstration_duration_hours\n",
    "    'Продолжительность показа, минуты': 'duration_minutes',  # same as demonstration_duration_minutes\n",
    "    'Аннотация': 'synopsis',\n",
    "    'Количество серий': 'number_of_episodes',    \n",
    "    'Объем носителя': 'media_size',\n",
    "    'Единица измерения': 'unit_of_measurement',    \n",
    "    'Порядковый номер переоформления/продления': 'amendment_extension_number',\n",
    "    'Права проката переданы': 'distribution_rights_transferred',\n",
    "    'Примечание': 'note',\n",
    "    'Режиссер': 'director',\n",
    "    'Продюсер': 'producer',\n",
    "    'Сценарист': 'screenwriter',\n",
    "    'Оператор': 'cinematographer',\n",
    "    'Художник': 'art_director',\n",
    "    'Композитор': 'composer', \n",
    "    'Студия-производитель': 'production_studio',    \n",
    "    'Формат кадра': 'frame_format',\n",
    "    'Формат носителя': 'media_format',\n",
    "    'Художник': 'art_director',\n",
    "    'Цвет': 'color',\n",
    "    'Язык оригинала': 'original_language',\n",
    "    'дата обновления объекта': 'object_update_date',\n",
    "    'дата создания объекта': 'object_creation_date',\n",
    "}\n",
    "\n",
    "# cretae list of columns for new dict_df\n",
    "new_df_columns = list(column_rename_map.values())\n",
    "\n",
    "new_df_columns = pd.Series(new_df_columns).drop_duplicates().to_list()\n",
    "new_df_columns"
   ]
  },
  {
   "cell_type": "code",
   "execution_count": 205,
   "id": "f2072a35",
   "metadata": {},
   "outputs": [
    {
     "name": "stdout",
     "output_type": "stream",
     "text": [
      "Processing: data-6-structure-3\n",
      "Processing: data-7-structure-4\n",
      "Processing: data-2-structure-1\n",
      "Processing: data-1-structure-1\n",
      "Processing: data-4-structure-2\n",
      "Processing: data-3-structure-2\n",
      "Processing: data-9-structure-4\n",
      "Processing: data-8-structure-4\n"
     ]
    },
    {
     "data": {
      "application/vnd.microsoft.datawrangler.viewer.v0+json": {
       "columns": [
        {
         "name": "index",
         "rawType": "int64",
         "type": "integer"
        },
        {
         "name": "registry_record_id",
         "rawType": "int64",
         "type": "integer"
        },
        {
         "name": "film_title",
         "rawType": "object",
         "type": "string"
        },
        {
         "name": "country_of_production",
         "rawType": "object",
         "type": "string"
        },
        {
         "name": "production_studio",
         "rawType": "object",
         "type": "string"
        },
        {
         "name": "year_of_production",
         "rawType": "object",
         "type": "string"
        },
        {
         "name": "certificate_registration_date",
         "rawType": "object",
         "type": "string"
        },
        {
         "name": "category",
         "rawType": "object",
         "type": "string"
        },
        {
         "name": "film_usage_rights",
         "rawType": "object",
         "type": "string"
        },
        {
         "name": "certificate_number",
         "rawType": "object",
         "type": "string"
        },
        {
         "name": "age_rating",
         "rawType": "object",
         "type": "string"
        },
        {
         "name": "duration_hours",
         "rawType": "float64",
         "type": "float"
        },
        {
         "name": "duration_minutes",
         "rawType": "object",
         "type": "unknown"
        },
        {
         "name": "unit_of_measurement",
         "rawType": "object",
         "type": "unknown"
        },
        {
         "name": "synopsis",
         "rawType": "object",
         "type": "string"
        },
        {
         "name": "number_of_episodes",
         "rawType": "object",
         "type": "unknown"
        },
        {
         "name": "media_size",
         "rawType": "object",
         "type": "unknown"
        },
        {
         "name": "amendment_extension_number",
         "rawType": "object",
         "type": "unknown"
        },
        {
         "name": "distribution_rights_transferred",
         "rawType": "object",
         "type": "unknown"
        },
        {
         "name": "note",
         "rawType": "object",
         "type": "unknown"
        },
        {
         "name": "director",
         "rawType": "object",
         "type": "string"
        },
        {
         "name": "producer",
         "rawType": "object",
         "type": "unknown"
        },
        {
         "name": "screenwriter",
         "rawType": "object",
         "type": "string"
        },
        {
         "name": "cinematographer",
         "rawType": "object",
         "type": "unknown"
        },
        {
         "name": "art_director",
         "rawType": "object",
         "type": "unknown"
        },
        {
         "name": "composer",
         "rawType": "object",
         "type": "string"
        },
        {
         "name": "frame_format",
         "rawType": "object",
         "type": "unknown"
        },
        {
         "name": "media_format",
         "rawType": "object",
         "type": "unknown"
        },
        {
         "name": "color",
         "rawType": "object",
         "type": "string"
        },
        {
         "name": "original_language",
         "rawType": "float64",
         "type": "float"
        },
        {
         "name": "object_update_date",
         "rawType": "object",
         "type": "string"
        },
        {
         "name": "object_creation_date",
         "rawType": "object",
         "type": "string"
        }
       ],
       "ref": "c0ca3730-b5fb-4c5c-a12e-fd92fe9dae27",
       "rows": [
        [
         "0",
         "2157027",
         "Почти знаменит",
         "США",
         "Коламбиа Пикчерз",
         "2000",
         "2016-02-09T12:00:00.000Z",
         "Видео",
         "ЗАО \"ФЕЛИСТА\"",
         "221006316",
         "«18+» запрещено для детей",
         "2.0",
         "3.0",
         null,
         "В ролях: Фрэнсис МакДорманд, Кейт Хадсон. История американского мальчишки - корреспондента авторитетного музыкального журнала.",
         null,
         null,
         null,
         null,
         null,
         "Кемерон Кроу",
         null,
         "Кемерон Кроу",
         null,
         null,
         "Джон Бонхэм",
         null,
         null,
         "Цветной",
         null,
         "2018-04-09T09:12:02+03:00",
         "2017-07-05T14:10:11+03:00"
        ],
        [
         "1",
         "2157028",
         "Открытое окно.",
         "США",
         "Кард Интертейнмент, Имэйдж Интертейнмент",
         "2006",
         "2014-06-30T12:00:00.000Z",
         "Видео",
         "ООО \"Люксор Дистрибьюшн\"",
         "221027814",
         "«16+» для детей старше 16 лет",
         "1.0",
         "37.0",
         null,
         "В главных ролях: Робин Тюннин, Джоэль Эдгертон. Триллер",
         null,
         null,
         null,
         null,
         null,
         "Миа Голдмен",
         null,
         "Миа Голдмен",
         null,
         null,
         "Клифф Эйдельман",
         null,
         null,
         "Цветной",
         null,
         "2018-04-09T09:12:02+03:00",
         "2017-07-05T14:10:11+03:00"
        ],
        [
         "2",
         "2157029",
         "Открытый простор",
         "США",
         "Тачстоун Пикчерз, Кобальт Пикчерз, Бикон Пикчерз, Тиг Продакшнз",
         "2003",
         "2015-11-27T12:00:00.000Z",
         "Кино",
         "ООО \"Дистрибуционная кинокомпания \"Парадиз\"",
         "221048915",
         "«18+» запрещено для детей",
         "2.0",
         "23.0",
         null,
         "Драма-вестерн. В ролях: Роберт Дюволл, Кевин Костнер, Аннет Беннинг.",
         "1.0",
         null,
         null,
         null,
         null,
         "Кевин Костнер",
         "Дэвид Валдес, Кевин Костнер, Джейк Эбертс",
         "Лоран Пэйн, Крейг Сторпер",
         "Джеймс М.Муро",
         "Гэй С.Бакли",
         "Майкл Кэмен",
         "ш/э",
         null,
         "Цветной",
         null,
         "2018-04-09T09:12:02+03:00",
         "2017-07-05T14:10:11+03:00"
        ],
        [
         "3",
         "2157030",
         "Особо важное задание",
         "СССР",
         "Киностудия \"Мосфильм\"",
         "1980",
         "2016-09-13T12:00:00.000Z",
         "Кино",
         "ФГУП \"Киноконцерн \"Мосфильм\"",
         "111013716",
         "«6+» для детей старше шести лет",
         "2.0",
         "4.0",
         null,
         "В ролях - В.Заклунная, Н.Крючков, Е.Матвеев            Драма",
         "2.0",
         null,
         null,
         null,
         "Показ фильма в кинозале и прокат фильма на материальном носителе у ФГУП \"Киноконцерн \"Мосфильм\"",
         "Е.Матвеев",
         null,
         "Б.Добродеев, П.Попогребский",
         "И.Черных",
         "С.Валюшок",
         "Е.Птичкин",
         "ш/э",
         null,
         "Цветной",
         null,
         "2018-04-09T09:12:02+03:00",
         "2017-07-05T14:10:11+03:00"
        ],
        [
         "4",
         "2157031",
         "Особо опасен",
         "США",
         "Юниверсал Пикчерз, Кикстарт Продакшнз, Марк Платт Продакшнз, Рилейтивити Медиа, Спайгласс Интертейнмент, Стилкин Филмз, Топ Кау Продакшнз",
         "2008",
         "2016-10-10T12:00:00.000Z",
         "Кино",
         "ООО \"НД Плэй\"",
         "221038416",
         "«18+» запрещено для детей",
         "1.0",
         "50.0",
         null,
         "В ролях: Джеймс МакЭвой, Анджелина Джоли. Тайное общество.",
         "1.0",
         null,
         null,
         null,
         null,
         "Тимур Бекмамбетов",
         "Джим Лемли, Джейсон Нетер, Марк Е.Платт, Яйн Смит",
         "Майкл Брандт, Крис Морган, Дерек Хаас",
         "Митчелл Амундсен",
         "Джон Майр",
         "Дэнни Эльфман",
         "ш/э",
         null,
         "Цветной",
         null,
         "2019-05-20T11:24:32+03:00",
         "2017-07-05T14:10:11+03:00"
        ]
       ],
       "shape": {
        "columns": 31,
        "rows": 5
       }
      },
      "text/html": [
       "<div>\n",
       "<style scoped>\n",
       "    .dataframe tbody tr th:only-of-type {\n",
       "        vertical-align: middle;\n",
       "    }\n",
       "\n",
       "    .dataframe tbody tr th {\n",
       "        vertical-align: top;\n",
       "    }\n",
       "\n",
       "    .dataframe thead th {\n",
       "        text-align: right;\n",
       "    }\n",
       "</style>\n",
       "<table border=\"1\" class=\"dataframe\">\n",
       "  <thead>\n",
       "    <tr style=\"text-align: right;\">\n",
       "      <th></th>\n",
       "      <th>registry_record_id</th>\n",
       "      <th>film_title</th>\n",
       "      <th>country_of_production</th>\n",
       "      <th>production_studio</th>\n",
       "      <th>year_of_production</th>\n",
       "      <th>certificate_registration_date</th>\n",
       "      <th>category</th>\n",
       "      <th>film_usage_rights</th>\n",
       "      <th>certificate_number</th>\n",
       "      <th>age_rating</th>\n",
       "      <th>...</th>\n",
       "      <th>screenwriter</th>\n",
       "      <th>cinematographer</th>\n",
       "      <th>art_director</th>\n",
       "      <th>composer</th>\n",
       "      <th>frame_format</th>\n",
       "      <th>media_format</th>\n",
       "      <th>color</th>\n",
       "      <th>original_language</th>\n",
       "      <th>object_update_date</th>\n",
       "      <th>object_creation_date</th>\n",
       "    </tr>\n",
       "  </thead>\n",
       "  <tbody>\n",
       "    <tr>\n",
       "      <th>0</th>\n",
       "      <td>2157027</td>\n",
       "      <td>Почти знаменит</td>\n",
       "      <td>США</td>\n",
       "      <td>Коламбиа Пикчерз</td>\n",
       "      <td>2000</td>\n",
       "      <td>2016-02-09T12:00:00.000Z</td>\n",
       "      <td>Видео</td>\n",
       "      <td>ЗАО \"ФЕЛИСТА\"</td>\n",
       "      <td>221006316</td>\n",
       "      <td>«18+» запрещено для детей</td>\n",
       "      <td>...</td>\n",
       "      <td>Кемерон Кроу</td>\n",
       "      <td>NaN</td>\n",
       "      <td>NaN</td>\n",
       "      <td>Джон Бонхэм</td>\n",
       "      <td>NaN</td>\n",
       "      <td>NaN</td>\n",
       "      <td>Цветной</td>\n",
       "      <td>NaN</td>\n",
       "      <td>2018-04-09T09:12:02+03:00</td>\n",
       "      <td>2017-07-05T14:10:11+03:00</td>\n",
       "    </tr>\n",
       "    <tr>\n",
       "      <th>1</th>\n",
       "      <td>2157028</td>\n",
       "      <td>Открытое окно.</td>\n",
       "      <td>США</td>\n",
       "      <td>Кард Интертейнмент, Имэйдж Интертейнмент</td>\n",
       "      <td>2006</td>\n",
       "      <td>2014-06-30T12:00:00.000Z</td>\n",
       "      <td>Видео</td>\n",
       "      <td>ООО \"Люксор Дистрибьюшн\"</td>\n",
       "      <td>221027814</td>\n",
       "      <td>«16+» для детей старше 16 лет</td>\n",
       "      <td>...</td>\n",
       "      <td>Миа Голдмен</td>\n",
       "      <td>NaN</td>\n",
       "      <td>NaN</td>\n",
       "      <td>Клифф Эйдельман</td>\n",
       "      <td>NaN</td>\n",
       "      <td>NaN</td>\n",
       "      <td>Цветной</td>\n",
       "      <td>NaN</td>\n",
       "      <td>2018-04-09T09:12:02+03:00</td>\n",
       "      <td>2017-07-05T14:10:11+03:00</td>\n",
       "    </tr>\n",
       "    <tr>\n",
       "      <th>2</th>\n",
       "      <td>2157029</td>\n",
       "      <td>Открытый простор</td>\n",
       "      <td>США</td>\n",
       "      <td>Тачстоун Пикчерз, Кобальт Пикчерз, Бикон Пикче...</td>\n",
       "      <td>2003</td>\n",
       "      <td>2015-11-27T12:00:00.000Z</td>\n",
       "      <td>Кино</td>\n",
       "      <td>ООО \"Дистрибуционная кинокомпания \"Парадиз\"</td>\n",
       "      <td>221048915</td>\n",
       "      <td>«18+» запрещено для детей</td>\n",
       "      <td>...</td>\n",
       "      <td>Лоран Пэйн, Крейг Сторпер</td>\n",
       "      <td>Джеймс М.Муро</td>\n",
       "      <td>Гэй С.Бакли</td>\n",
       "      <td>Майкл Кэмен</td>\n",
       "      <td>ш/э</td>\n",
       "      <td>NaN</td>\n",
       "      <td>Цветной</td>\n",
       "      <td>NaN</td>\n",
       "      <td>2018-04-09T09:12:02+03:00</td>\n",
       "      <td>2017-07-05T14:10:11+03:00</td>\n",
       "    </tr>\n",
       "    <tr>\n",
       "      <th>3</th>\n",
       "      <td>2157030</td>\n",
       "      <td>Особо важное задание</td>\n",
       "      <td>СССР</td>\n",
       "      <td>Киностудия \"Мосфильм\"</td>\n",
       "      <td>1980</td>\n",
       "      <td>2016-09-13T12:00:00.000Z</td>\n",
       "      <td>Кино</td>\n",
       "      <td>ФГУП \"Киноконцерн \"Мосфильм\"</td>\n",
       "      <td>111013716</td>\n",
       "      <td>«6+» для детей старше шести лет</td>\n",
       "      <td>...</td>\n",
       "      <td>Б.Добродеев, П.Попогребский</td>\n",
       "      <td>И.Черных</td>\n",
       "      <td>С.Валюшок</td>\n",
       "      <td>Е.Птичкин</td>\n",
       "      <td>ш/э</td>\n",
       "      <td>NaN</td>\n",
       "      <td>Цветной</td>\n",
       "      <td>NaN</td>\n",
       "      <td>2018-04-09T09:12:02+03:00</td>\n",
       "      <td>2017-07-05T14:10:11+03:00</td>\n",
       "    </tr>\n",
       "    <tr>\n",
       "      <th>4</th>\n",
       "      <td>2157031</td>\n",
       "      <td>Особо опасен</td>\n",
       "      <td>США</td>\n",
       "      <td>Юниверсал Пикчерз, Кикстарт Продакшнз, Марк Пл...</td>\n",
       "      <td>2008</td>\n",
       "      <td>2016-10-10T12:00:00.000Z</td>\n",
       "      <td>Кино</td>\n",
       "      <td>ООО \"НД Плэй\"</td>\n",
       "      <td>221038416</td>\n",
       "      <td>«18+» запрещено для детей</td>\n",
       "      <td>...</td>\n",
       "      <td>Майкл Брандт, Крис Морган, Дерек Хаас</td>\n",
       "      <td>Митчелл Амундсен</td>\n",
       "      <td>Джон Майр</td>\n",
       "      <td>Дэнни Эльфман</td>\n",
       "      <td>ш/э</td>\n",
       "      <td>NaN</td>\n",
       "      <td>Цветной</td>\n",
       "      <td>NaN</td>\n",
       "      <td>2019-05-20T11:24:32+03:00</td>\n",
       "      <td>2017-07-05T14:10:11+03:00</td>\n",
       "    </tr>\n",
       "  </tbody>\n",
       "</table>\n",
       "<p>5 rows × 31 columns</p>\n",
       "</div>"
      ],
      "text/plain": [
       "   registry_record_id            film_title country_of_production  \\\n",
       "0             2157027        Почти знаменит                   США   \n",
       "1             2157028        Открытое окно.                   США   \n",
       "2             2157029      Открытый простор                   США   \n",
       "3             2157030  Особо важное задание                  СССР   \n",
       "4             2157031          Особо опасен                   США   \n",
       "\n",
       "                                   production_studio year_of_production  \\\n",
       "0                                   Коламбиа Пикчерз               2000   \n",
       "1           Кард Интертейнмент, Имэйдж Интертейнмент               2006   \n",
       "2  Тачстоун Пикчерз, Кобальт Пикчерз, Бикон Пикче...               2003   \n",
       "3                              Киностудия \"Мосфильм\"               1980   \n",
       "4  Юниверсал Пикчерз, Кикстарт Продакшнз, Марк Пл...               2008   \n",
       "\n",
       "  certificate_registration_date category  \\\n",
       "0      2016-02-09T12:00:00.000Z    Видео   \n",
       "1      2014-06-30T12:00:00.000Z    Видео   \n",
       "2      2015-11-27T12:00:00.000Z     Кино   \n",
       "3      2016-09-13T12:00:00.000Z     Кино   \n",
       "4      2016-10-10T12:00:00.000Z     Кино   \n",
       "\n",
       "                             film_usage_rights certificate_number  \\\n",
       "0                                ЗАО \"ФЕЛИСТА\"          221006316   \n",
       "1                     ООО \"Люксор Дистрибьюшн\"          221027814   \n",
       "2  ООО \"Дистрибуционная кинокомпания \"Парадиз\"          221048915   \n",
       "3                 ФГУП \"Киноконцерн \"Мосфильм\"          111013716   \n",
       "4                                ООО \"НД Плэй\"          221038416   \n",
       "\n",
       "                        age_rating  ...  \\\n",
       "0        «18+» запрещено для детей  ...   \n",
       "1    «16+» для детей старше 16 лет  ...   \n",
       "2        «18+» запрещено для детей  ...   \n",
       "3  «6+» для детей старше шести лет  ...   \n",
       "4        «18+» запрещено для детей  ...   \n",
       "\n",
       "                            screenwriter   cinematographer art_director  \\\n",
       "0                           Кемерон Кроу               NaN          NaN   \n",
       "1                            Миа Голдмен               NaN          NaN   \n",
       "2              Лоран Пэйн, Крейг Сторпер     Джеймс М.Муро  Гэй С.Бакли   \n",
       "3            Б.Добродеев, П.Попогребский          И.Черных    С.Валюшок   \n",
       "4  Майкл Брандт, Крис Морган, Дерек Хаас  Митчелл Амундсен    Джон Майр   \n",
       "\n",
       "          composer frame_format media_format    color original_language  \\\n",
       "0      Джон Бонхэм          NaN          NaN  Цветной               NaN   \n",
       "1  Клифф Эйдельман          NaN          NaN  Цветной               NaN   \n",
       "2      Майкл Кэмен          ш/э          NaN  Цветной               NaN   \n",
       "3        Е.Птичкин          ш/э          NaN  Цветной               NaN   \n",
       "4    Дэнни Эльфман          ш/э          NaN  Цветной               NaN   \n",
       "\n",
       "          object_update_date       object_creation_date  \n",
       "0  2018-04-09T09:12:02+03:00  2017-07-05T14:10:11+03:00  \n",
       "1  2018-04-09T09:12:02+03:00  2017-07-05T14:10:11+03:00  \n",
       "2  2018-04-09T09:12:02+03:00  2017-07-05T14:10:11+03:00  \n",
       "3  2018-04-09T09:12:02+03:00  2017-07-05T14:10:11+03:00  \n",
       "4  2019-05-20T11:24:32+03:00  2017-07-05T14:10:11+03:00  \n",
       "\n",
       "[5 rows x 31 columns]"
      ]
     },
     "execution_count": 205,
     "metadata": {},
     "output_type": "execute_result"
    }
   ],
   "source": [
    "# create new dict_df with only renamed columns\n",
    "fc_reg_dict_new = {}\n",
    "for file_name in file_names:\n",
    "    print(f'Processing: {file_name}')\n",
    "    df_old = fc_reg_dict[file_name]\n",
    "    df_new = df_old.rename(columns=column_rename_map)\n",
    "    df_new = df_new.copy()[new_df_columns]\n",
    "    fc_reg_dict_new[file_name] = df_new  # Update the null dictionary with df has renamed columns only\n",
    "\n",
    "# create df with all df from dict\n",
    "fc_reg_df = pd.concat(fc_reg_dict_new.values(), ignore_index=True)\n",
    "fc_reg_df.head()"
   ]
  },
  {
   "cell_type": "code",
   "execution_count": 10,
   "id": "c13c6383",
   "metadata": {},
   "outputs": [
    {
     "name": "stdout",
     "output_type": "stream",
     "text": [
      "<class 'pandas.core.frame.DataFrame'>\n",
      "RangeIndex: 745664 entries, 0 to 745663\n",
      "Data columns (total 31 columns):\n",
      " #   Column                           Non-Null Count   Dtype  \n",
      "---  ------                           --------------   -----  \n",
      " 0   registry_record_id               745664 non-null  int64  \n",
      " 1   film_title                       745664 non-null  object \n",
      " 2   country_of_production            745141 non-null  object \n",
      " 3   production_studio                744662 non-null  object \n",
      " 4   year_of_production               743963 non-null  object \n",
      " 5   certificate_registration_date    745550 non-null  object \n",
      " 6   category                         745664 non-null  object \n",
      " 7   film_usage_rights                732182 non-null  object \n",
      " 8   certificate_number               745664 non-null  object \n",
      " 9   age_rating                       745446 non-null  object \n",
      " 10  demonstration_duration_hours     616376 non-null  float64\n",
      " 11  demonstration_duration_minutes   726036 non-null  object \n",
      " 12  unit_of_measurement              26810 non-null   object \n",
      " 13  synopsis                         687621 non-null  object \n",
      " 14  number_of_episodes               297966 non-null  object \n",
      " 15  media_size                       27089 non-null   object \n",
      " 16  amendment_extension_number       64 non-null      object \n",
      " 17  distribution_rights_transferred  2038 non-null    object \n",
      " 18  note                             232552 non-null  object \n",
      " 19  director                         724757 non-null  object \n",
      " 20  producer                         452262 non-null  object \n",
      " 21  screenwriter                     649532 non-null  object \n",
      " 22  cinematographer                  406484 non-null  object \n",
      " 23  art_director                     277294 non-null  object \n",
      " 24  composer                         474582 non-null  object \n",
      " 25  frame_format                     81508 non-null   object \n",
      " 26  media_format                     59907 non-null   object \n",
      " 27  color                            745587 non-null  object \n",
      " 28  original_language                29 non-null      float64\n",
      " 29  object_update_date               745664 non-null  object \n",
      " 30  object_creation_date             745664 non-null  object \n",
      "dtypes: float64(2), int64(1), object(28)\n",
      "memory usage: 176.4+ MB\n",
      "None\n"
     ]
    },
    {
     "data": {
      "text/plain": [
       "'First 5 rows in df'"
      ]
     },
     "metadata": {},
     "output_type": "display_data"
    },
    {
     "data": {
      "application/vnd.microsoft.datawrangler.viewer.v0+json": {
       "columns": [
        {
         "name": "index",
         "rawType": "int64",
         "type": "integer"
        },
        {
         "name": "registry_record_id",
         "rawType": "int64",
         "type": "integer"
        },
        {
         "name": "film_title",
         "rawType": "object",
         "type": "string"
        },
        {
         "name": "country_of_production",
         "rawType": "object",
         "type": "string"
        },
        {
         "name": "production_studio",
         "rawType": "object",
         "type": "string"
        },
        {
         "name": "year_of_production",
         "rawType": "object",
         "type": "string"
        },
        {
         "name": "certificate_registration_date",
         "rawType": "object",
         "type": "string"
        },
        {
         "name": "category",
         "rawType": "object",
         "type": "string"
        },
        {
         "name": "film_usage_rights",
         "rawType": "object",
         "type": "string"
        },
        {
         "name": "certificate_number",
         "rawType": "object",
         "type": "string"
        },
        {
         "name": "age_rating",
         "rawType": "object",
         "type": "string"
        },
        {
         "name": "demonstration_duration_hours",
         "rawType": "float64",
         "type": "float"
        },
        {
         "name": "demonstration_duration_minutes",
         "rawType": "object",
         "type": "unknown"
        },
        {
         "name": "unit_of_measurement",
         "rawType": "object",
         "type": "unknown"
        },
        {
         "name": "synopsis",
         "rawType": "object",
         "type": "string"
        },
        {
         "name": "number_of_episodes",
         "rawType": "object",
         "type": "unknown"
        },
        {
         "name": "media_size",
         "rawType": "object",
         "type": "unknown"
        },
        {
         "name": "amendment_extension_number",
         "rawType": "object",
         "type": "unknown"
        },
        {
         "name": "distribution_rights_transferred",
         "rawType": "object",
         "type": "unknown"
        },
        {
         "name": "note",
         "rawType": "object",
         "type": "unknown"
        },
        {
         "name": "director",
         "rawType": "object",
         "type": "string"
        },
        {
         "name": "producer",
         "rawType": "object",
         "type": "unknown"
        },
        {
         "name": "screenwriter",
         "rawType": "object",
         "type": "string"
        },
        {
         "name": "cinematographer",
         "rawType": "object",
         "type": "unknown"
        },
        {
         "name": "art_director",
         "rawType": "object",
         "type": "unknown"
        },
        {
         "name": "composer",
         "rawType": "object",
         "type": "string"
        },
        {
         "name": "frame_format",
         "rawType": "object",
         "type": "unknown"
        },
        {
         "name": "media_format",
         "rawType": "object",
         "type": "unknown"
        },
        {
         "name": "color",
         "rawType": "object",
         "type": "string"
        },
        {
         "name": "original_language",
         "rawType": "float64",
         "type": "float"
        },
        {
         "name": "object_update_date",
         "rawType": "object",
         "type": "string"
        },
        {
         "name": "object_creation_date",
         "rawType": "object",
         "type": "string"
        }
       ],
       "ref": "eba45a00-6a10-410f-8e4d-26c8f54dd73a",
       "rows": [
        [
         "0",
         "2157027",
         "Почти знаменит",
         "США",
         "Коламбиа Пикчерз",
         "2000",
         "2016-02-09T12:00:00.000Z",
         "Видео",
         "ЗАО \"ФЕЛИСТА\"",
         "221006316",
         "«18+» запрещено для детей",
         "2.0",
         "3.0",
         null,
         "В ролях: Фрэнсис МакДорманд, Кейт Хадсон. История американского мальчишки - корреспондента авторитетного музыкального журнала.",
         null,
         null,
         null,
         null,
         null,
         "Кемерон Кроу",
         null,
         "Кемерон Кроу",
         null,
         null,
         "Джон Бонхэм",
         null,
         null,
         "Цветной",
         null,
         "2018-04-09T09:12:02+03:00",
         "2017-07-05T14:10:11+03:00"
        ],
        [
         "1",
         "2157028",
         "Открытое окно.",
         "США",
         "Кард Интертейнмент, Имэйдж Интертейнмент",
         "2006",
         "2014-06-30T12:00:00.000Z",
         "Видео",
         "ООО \"Люксор Дистрибьюшн\"",
         "221027814",
         "«16+» для детей старше 16 лет",
         "1.0",
         "37.0",
         null,
         "В главных ролях: Робин Тюннин, Джоэль Эдгертон. Триллер",
         null,
         null,
         null,
         null,
         null,
         "Миа Голдмен",
         null,
         "Миа Голдмен",
         null,
         null,
         "Клифф Эйдельман",
         null,
         null,
         "Цветной",
         null,
         "2018-04-09T09:12:02+03:00",
         "2017-07-05T14:10:11+03:00"
        ],
        [
         "2",
         "2157029",
         "Открытый простор",
         "США",
         "Тачстоун Пикчерз, Кобальт Пикчерз, Бикон Пикчерз, Тиг Продакшнз",
         "2003",
         "2015-11-27T12:00:00.000Z",
         "Кино",
         "ООО \"Дистрибуционная кинокомпания \"Парадиз\"",
         "221048915",
         "«18+» запрещено для детей",
         "2.0",
         "23.0",
         null,
         "Драма-вестерн. В ролях: Роберт Дюволл, Кевин Костнер, Аннет Беннинг.",
         "1.0",
         null,
         null,
         null,
         null,
         "Кевин Костнер",
         "Дэвид Валдес, Кевин Костнер, Джейк Эбертс",
         "Лоран Пэйн, Крейг Сторпер",
         "Джеймс М.Муро",
         "Гэй С.Бакли",
         "Майкл Кэмен",
         "ш/э",
         null,
         "Цветной",
         null,
         "2018-04-09T09:12:02+03:00",
         "2017-07-05T14:10:11+03:00"
        ],
        [
         "3",
         "2157030",
         "Особо важное задание",
         "СССР",
         "Киностудия \"Мосфильм\"",
         "1980",
         "2016-09-13T12:00:00.000Z",
         "Кино",
         "ФГУП \"Киноконцерн \"Мосфильм\"",
         "111013716",
         "«6+» для детей старше шести лет",
         "2.0",
         "4.0",
         null,
         "В ролях - В.Заклунная, Н.Крючков, Е.Матвеев            Драма",
         "2.0",
         null,
         null,
         null,
         "Показ фильма в кинозале и прокат фильма на материальном носителе у ФГУП \"Киноконцерн \"Мосфильм\"",
         "Е.Матвеев",
         null,
         "Б.Добродеев, П.Попогребский",
         "И.Черных",
         "С.Валюшок",
         "Е.Птичкин",
         "ш/э",
         null,
         "Цветной",
         null,
         "2018-04-09T09:12:02+03:00",
         "2017-07-05T14:10:11+03:00"
        ],
        [
         "4",
         "2157031",
         "Особо опасен",
         "США",
         "Юниверсал Пикчерз, Кикстарт Продакшнз, Марк Платт Продакшнз, Рилейтивити Медиа, Спайгласс Интертейнмент, Стилкин Филмз, Топ Кау Продакшнз",
         "2008",
         "2016-10-10T12:00:00.000Z",
         "Кино",
         "ООО \"НД Плэй\"",
         "221038416",
         "«18+» запрещено для детей",
         "1.0",
         "50.0",
         null,
         "В ролях: Джеймс МакЭвой, Анджелина Джоли. Тайное общество.",
         "1.0",
         null,
         null,
         null,
         null,
         "Тимур Бекмамбетов",
         "Джим Лемли, Джейсон Нетер, Марк Е.Платт, Яйн Смит",
         "Майкл Брандт, Крис Морган, Дерек Хаас",
         "Митчелл Амундсен",
         "Джон Майр",
         "Дэнни Эльфман",
         "ш/э",
         null,
         "Цветной",
         null,
         "2019-05-20T11:24:32+03:00",
         "2017-07-05T14:10:11+03:00"
        ]
       ],
       "shape": {
        "columns": 31,
        "rows": 5
       }
      },
      "text/html": [
       "<div>\n",
       "<style scoped>\n",
       "    .dataframe tbody tr th:only-of-type {\n",
       "        vertical-align: middle;\n",
       "    }\n",
       "\n",
       "    .dataframe tbody tr th {\n",
       "        vertical-align: top;\n",
       "    }\n",
       "\n",
       "    .dataframe thead th {\n",
       "        text-align: right;\n",
       "    }\n",
       "</style>\n",
       "<table border=\"1\" class=\"dataframe\">\n",
       "  <thead>\n",
       "    <tr style=\"text-align: right;\">\n",
       "      <th></th>\n",
       "      <th>registry_record_id</th>\n",
       "      <th>film_title</th>\n",
       "      <th>country_of_production</th>\n",
       "      <th>production_studio</th>\n",
       "      <th>year_of_production</th>\n",
       "      <th>certificate_registration_date</th>\n",
       "      <th>category</th>\n",
       "      <th>film_usage_rights</th>\n",
       "      <th>certificate_number</th>\n",
       "      <th>age_rating</th>\n",
       "      <th>...</th>\n",
       "      <th>screenwriter</th>\n",
       "      <th>cinematographer</th>\n",
       "      <th>art_director</th>\n",
       "      <th>composer</th>\n",
       "      <th>frame_format</th>\n",
       "      <th>media_format</th>\n",
       "      <th>color</th>\n",
       "      <th>original_language</th>\n",
       "      <th>object_update_date</th>\n",
       "      <th>object_creation_date</th>\n",
       "    </tr>\n",
       "  </thead>\n",
       "  <tbody>\n",
       "    <tr>\n",
       "      <th>0</th>\n",
       "      <td>2157027</td>\n",
       "      <td>Почти знаменит</td>\n",
       "      <td>США</td>\n",
       "      <td>Коламбиа Пикчерз</td>\n",
       "      <td>2000</td>\n",
       "      <td>2016-02-09T12:00:00.000Z</td>\n",
       "      <td>Видео</td>\n",
       "      <td>ЗАО \"ФЕЛИСТА\"</td>\n",
       "      <td>221006316</td>\n",
       "      <td>«18+» запрещено для детей</td>\n",
       "      <td>...</td>\n",
       "      <td>Кемерон Кроу</td>\n",
       "      <td>NaN</td>\n",
       "      <td>NaN</td>\n",
       "      <td>Джон Бонхэм</td>\n",
       "      <td>NaN</td>\n",
       "      <td>NaN</td>\n",
       "      <td>Цветной</td>\n",
       "      <td>NaN</td>\n",
       "      <td>2018-04-09T09:12:02+03:00</td>\n",
       "      <td>2017-07-05T14:10:11+03:00</td>\n",
       "    </tr>\n",
       "    <tr>\n",
       "      <th>1</th>\n",
       "      <td>2157028</td>\n",
       "      <td>Открытое окно.</td>\n",
       "      <td>США</td>\n",
       "      <td>Кард Интертейнмент, Имэйдж Интертейнмент</td>\n",
       "      <td>2006</td>\n",
       "      <td>2014-06-30T12:00:00.000Z</td>\n",
       "      <td>Видео</td>\n",
       "      <td>ООО \"Люксор Дистрибьюшн\"</td>\n",
       "      <td>221027814</td>\n",
       "      <td>«16+» для детей старше 16 лет</td>\n",
       "      <td>...</td>\n",
       "      <td>Миа Голдмен</td>\n",
       "      <td>NaN</td>\n",
       "      <td>NaN</td>\n",
       "      <td>Клифф Эйдельман</td>\n",
       "      <td>NaN</td>\n",
       "      <td>NaN</td>\n",
       "      <td>Цветной</td>\n",
       "      <td>NaN</td>\n",
       "      <td>2018-04-09T09:12:02+03:00</td>\n",
       "      <td>2017-07-05T14:10:11+03:00</td>\n",
       "    </tr>\n",
       "    <tr>\n",
       "      <th>2</th>\n",
       "      <td>2157029</td>\n",
       "      <td>Открытый простор</td>\n",
       "      <td>США</td>\n",
       "      <td>Тачстоун Пикчерз, Кобальт Пикчерз, Бикон Пикче...</td>\n",
       "      <td>2003</td>\n",
       "      <td>2015-11-27T12:00:00.000Z</td>\n",
       "      <td>Кино</td>\n",
       "      <td>ООО \"Дистрибуционная кинокомпания \"Парадиз\"</td>\n",
       "      <td>221048915</td>\n",
       "      <td>«18+» запрещено для детей</td>\n",
       "      <td>...</td>\n",
       "      <td>Лоран Пэйн, Крейг Сторпер</td>\n",
       "      <td>Джеймс М.Муро</td>\n",
       "      <td>Гэй С.Бакли</td>\n",
       "      <td>Майкл Кэмен</td>\n",
       "      <td>ш/э</td>\n",
       "      <td>NaN</td>\n",
       "      <td>Цветной</td>\n",
       "      <td>NaN</td>\n",
       "      <td>2018-04-09T09:12:02+03:00</td>\n",
       "      <td>2017-07-05T14:10:11+03:00</td>\n",
       "    </tr>\n",
       "    <tr>\n",
       "      <th>3</th>\n",
       "      <td>2157030</td>\n",
       "      <td>Особо важное задание</td>\n",
       "      <td>СССР</td>\n",
       "      <td>Киностудия \"Мосфильм\"</td>\n",
       "      <td>1980</td>\n",
       "      <td>2016-09-13T12:00:00.000Z</td>\n",
       "      <td>Кино</td>\n",
       "      <td>ФГУП \"Киноконцерн \"Мосфильм\"</td>\n",
       "      <td>111013716</td>\n",
       "      <td>«6+» для детей старше шести лет</td>\n",
       "      <td>...</td>\n",
       "      <td>Б.Добродеев, П.Попогребский</td>\n",
       "      <td>И.Черных</td>\n",
       "      <td>С.Валюшок</td>\n",
       "      <td>Е.Птичкин</td>\n",
       "      <td>ш/э</td>\n",
       "      <td>NaN</td>\n",
       "      <td>Цветной</td>\n",
       "      <td>NaN</td>\n",
       "      <td>2018-04-09T09:12:02+03:00</td>\n",
       "      <td>2017-07-05T14:10:11+03:00</td>\n",
       "    </tr>\n",
       "    <tr>\n",
       "      <th>4</th>\n",
       "      <td>2157031</td>\n",
       "      <td>Особо опасен</td>\n",
       "      <td>США</td>\n",
       "      <td>Юниверсал Пикчерз, Кикстарт Продакшнз, Марк Пл...</td>\n",
       "      <td>2008</td>\n",
       "      <td>2016-10-10T12:00:00.000Z</td>\n",
       "      <td>Кино</td>\n",
       "      <td>ООО \"НД Плэй\"</td>\n",
       "      <td>221038416</td>\n",
       "      <td>«18+» запрещено для детей</td>\n",
       "      <td>...</td>\n",
       "      <td>Майкл Брандт, Крис Морган, Дерек Хаас</td>\n",
       "      <td>Митчелл Амундсен</td>\n",
       "      <td>Джон Майр</td>\n",
       "      <td>Дэнни Эльфман</td>\n",
       "      <td>ш/э</td>\n",
       "      <td>NaN</td>\n",
       "      <td>Цветной</td>\n",
       "      <td>NaN</td>\n",
       "      <td>2019-05-20T11:24:32+03:00</td>\n",
       "      <td>2017-07-05T14:10:11+03:00</td>\n",
       "    </tr>\n",
       "  </tbody>\n",
       "</table>\n",
       "<p>5 rows × 31 columns</p>\n",
       "</div>"
      ],
      "text/plain": [
       "   registry_record_id            film_title country_of_production  \\\n",
       "0             2157027        Почти знаменит                   США   \n",
       "1             2157028        Открытое окно.                   США   \n",
       "2             2157029      Открытый простор                   США   \n",
       "3             2157030  Особо важное задание                  СССР   \n",
       "4             2157031          Особо опасен                   США   \n",
       "\n",
       "                                   production_studio year_of_production  \\\n",
       "0                                   Коламбиа Пикчерз               2000   \n",
       "1           Кард Интертейнмент, Имэйдж Интертейнмент               2006   \n",
       "2  Тачстоун Пикчерз, Кобальт Пикчерз, Бикон Пикче...               2003   \n",
       "3                              Киностудия \"Мосфильм\"               1980   \n",
       "4  Юниверсал Пикчерз, Кикстарт Продакшнз, Марк Пл...               2008   \n",
       "\n",
       "  certificate_registration_date category  \\\n",
       "0      2016-02-09T12:00:00.000Z    Видео   \n",
       "1      2014-06-30T12:00:00.000Z    Видео   \n",
       "2      2015-11-27T12:00:00.000Z     Кино   \n",
       "3      2016-09-13T12:00:00.000Z     Кино   \n",
       "4      2016-10-10T12:00:00.000Z     Кино   \n",
       "\n",
       "                             film_usage_rights certificate_number  \\\n",
       "0                                ЗАО \"ФЕЛИСТА\"          221006316   \n",
       "1                     ООО \"Люксор Дистрибьюшн\"          221027814   \n",
       "2  ООО \"Дистрибуционная кинокомпания \"Парадиз\"          221048915   \n",
       "3                 ФГУП \"Киноконцерн \"Мосфильм\"          111013716   \n",
       "4                                ООО \"НД Плэй\"          221038416   \n",
       "\n",
       "                        age_rating  ...  \\\n",
       "0        «18+» запрещено для детей  ...   \n",
       "1    «16+» для детей старше 16 лет  ...   \n",
       "2        «18+» запрещено для детей  ...   \n",
       "3  «6+» для детей старше шести лет  ...   \n",
       "4        «18+» запрещено для детей  ...   \n",
       "\n",
       "                            screenwriter   cinematographer art_director  \\\n",
       "0                           Кемерон Кроу               NaN          NaN   \n",
       "1                            Миа Голдмен               NaN          NaN   \n",
       "2              Лоран Пэйн, Крейг Сторпер     Джеймс М.Муро  Гэй С.Бакли   \n",
       "3            Б.Добродеев, П.Попогребский          И.Черных    С.Валюшок   \n",
       "4  Майкл Брандт, Крис Морган, Дерек Хаас  Митчелл Амундсен    Джон Майр   \n",
       "\n",
       "          composer frame_format media_format    color original_language  \\\n",
       "0      Джон Бонхэм          NaN          NaN  Цветной               NaN   \n",
       "1  Клифф Эйдельман          NaN          NaN  Цветной               NaN   \n",
       "2      Майкл Кэмен          ш/э          NaN  Цветной               NaN   \n",
       "3        Е.Птичкин          ш/э          NaN  Цветной               NaN   \n",
       "4    Дэнни Эльфман          ш/э          NaN  Цветной               NaN   \n",
       "\n",
       "          object_update_date       object_creation_date  \n",
       "0  2018-04-09T09:12:02+03:00  2017-07-05T14:10:11+03:00  \n",
       "1  2018-04-09T09:12:02+03:00  2017-07-05T14:10:11+03:00  \n",
       "2  2018-04-09T09:12:02+03:00  2017-07-05T14:10:11+03:00  \n",
       "3  2018-04-09T09:12:02+03:00  2017-07-05T14:10:11+03:00  \n",
       "4  2019-05-20T11:24:32+03:00  2017-07-05T14:10:11+03:00  \n",
       "\n",
       "[5 rows x 31 columns]"
      ]
     },
     "metadata": {},
     "output_type": "display_data"
    },
    {
     "data": {
      "application/vnd.microsoft.datawrangler.viewer.v0+json": {
       "columns": [
        {
         "name": "index",
         "rawType": "object",
         "type": "string"
        },
        {
         "name": "duplicates_full",
         "rawType": "int64",
         "type": "integer"
        }
       ],
       "ref": "fc2d5dd9-928c-4eab-ba8c-99a1c0daa61a",
       "rows": [
        [
         "duplicates_full",
         "423895"
        ]
       ],
       "shape": {
        "columns": 1,
        "rows": 1
       }
      },
      "text/html": [
       "<div>\n",
       "<style scoped>\n",
       "    .dataframe tbody tr th:only-of-type {\n",
       "        vertical-align: middle;\n",
       "    }\n",
       "\n",
       "    .dataframe tbody tr th {\n",
       "        vertical-align: top;\n",
       "    }\n",
       "\n",
       "    .dataframe thead th {\n",
       "        text-align: right;\n",
       "    }\n",
       "</style>\n",
       "<table border=\"1\" class=\"dataframe\">\n",
       "  <thead>\n",
       "    <tr style=\"text-align: right;\">\n",
       "      <th></th>\n",
       "      <th>duplicates_full</th>\n",
       "    </tr>\n",
       "  </thead>\n",
       "  <tbody>\n",
       "    <tr>\n",
       "      <th>duplicates_full</th>\n",
       "      <td>423895</td>\n",
       "    </tr>\n",
       "  </tbody>\n",
       "</table>\n",
       "</div>"
      ],
      "text/plain": [
       "                 duplicates_full\n",
       "duplicates_full           423895"
      ]
     },
     "metadata": {},
     "output_type": "display_data"
    },
    {
     "data": {
      "application/vnd.microsoft.datawrangler.viewer.v0+json": {
       "columns": [
        {
         "name": "index",
         "rawType": "object",
         "type": "string"
        },
        {
         "name": "registry_record_id",
         "rawType": "int64",
         "type": "integer"
        },
        {
         "name": "film_title",
         "rawType": "int64",
         "type": "integer"
        },
        {
         "name": "country_of_production",
         "rawType": "int64",
         "type": "integer"
        },
        {
         "name": "production_studio",
         "rawType": "int64",
         "type": "integer"
        },
        {
         "name": "year_of_production",
         "rawType": "int64",
         "type": "integer"
        },
        {
         "name": "certificate_registration_date",
         "rawType": "int64",
         "type": "integer"
        },
        {
         "name": "category",
         "rawType": "int64",
         "type": "integer"
        },
        {
         "name": "film_usage_rights",
         "rawType": "int64",
         "type": "integer"
        },
        {
         "name": "certificate_number",
         "rawType": "int64",
         "type": "integer"
        },
        {
         "name": "age_rating",
         "rawType": "int64",
         "type": "integer"
        },
        {
         "name": "demonstration_duration_hours",
         "rawType": "int64",
         "type": "integer"
        },
        {
         "name": "demonstration_duration_minutes",
         "rawType": "int64",
         "type": "integer"
        },
        {
         "name": "unit_of_measurement",
         "rawType": "int64",
         "type": "integer"
        },
        {
         "name": "synopsis",
         "rawType": "int64",
         "type": "integer"
        },
        {
         "name": "number_of_episodes",
         "rawType": "int64",
         "type": "integer"
        },
        {
         "name": "media_size",
         "rawType": "int64",
         "type": "integer"
        },
        {
         "name": "amendment_extension_number",
         "rawType": "int64",
         "type": "integer"
        },
        {
         "name": "distribution_rights_transferred",
         "rawType": "int64",
         "type": "integer"
        },
        {
         "name": "note",
         "rawType": "int64",
         "type": "integer"
        },
        {
         "name": "director",
         "rawType": "int64",
         "type": "integer"
        },
        {
         "name": "producer",
         "rawType": "int64",
         "type": "integer"
        },
        {
         "name": "screenwriter",
         "rawType": "int64",
         "type": "integer"
        },
        {
         "name": "cinematographer",
         "rawType": "int64",
         "type": "integer"
        },
        {
         "name": "art_director",
         "rawType": "int64",
         "type": "integer"
        },
        {
         "name": "composer",
         "rawType": "int64",
         "type": "integer"
        },
        {
         "name": "frame_format",
         "rawType": "int64",
         "type": "integer"
        },
        {
         "name": "media_format",
         "rawType": "int64",
         "type": "integer"
        },
        {
         "name": "color",
         "rawType": "int64",
         "type": "integer"
        },
        {
         "name": "original_language",
         "rawType": "int64",
         "type": "integer"
        },
        {
         "name": "object_update_date",
         "rawType": "int64",
         "type": "integer"
        },
        {
         "name": "object_creation_date",
         "rawType": "int64",
         "type": "integer"
        }
       ],
       "ref": "a515f7bf-6605-4239-8916-b25129a1be16",
       "rows": [
        [
         "duplicates_by_cols",
         "641157",
         "658956",
         "741908",
         "703854",
         "742690",
         "733695",
         "745659",
         "719251",
         "603415",
         "745409",
         "616264",
         "725672",
         "26804",
         "634488",
         "297743",
         "25273",
         "56",
         "1655",
         "225280",
         "685486",
         "421304",
         "600139",
         "384331",
         "259158",
         "450996",
         "81121",
         "59822",
         "745560",
         "25",
         "715825",
         "724660"
        ]
       ],
       "shape": {
        "columns": 31,
        "rows": 1
       }
      },
      "text/html": [
       "<div>\n",
       "<style scoped>\n",
       "    .dataframe tbody tr th:only-of-type {\n",
       "        vertical-align: middle;\n",
       "    }\n",
       "\n",
       "    .dataframe tbody tr th {\n",
       "        vertical-align: top;\n",
       "    }\n",
       "\n",
       "    .dataframe thead th {\n",
       "        text-align: right;\n",
       "    }\n",
       "</style>\n",
       "<table border=\"1\" class=\"dataframe\">\n",
       "  <thead>\n",
       "    <tr style=\"text-align: right;\">\n",
       "      <th></th>\n",
       "      <th>registry_record_id</th>\n",
       "      <th>film_title</th>\n",
       "      <th>country_of_production</th>\n",
       "      <th>production_studio</th>\n",
       "      <th>year_of_production</th>\n",
       "      <th>certificate_registration_date</th>\n",
       "      <th>category</th>\n",
       "      <th>film_usage_rights</th>\n",
       "      <th>certificate_number</th>\n",
       "      <th>age_rating</th>\n",
       "      <th>...</th>\n",
       "      <th>screenwriter</th>\n",
       "      <th>cinematographer</th>\n",
       "      <th>art_director</th>\n",
       "      <th>composer</th>\n",
       "      <th>frame_format</th>\n",
       "      <th>media_format</th>\n",
       "      <th>color</th>\n",
       "      <th>original_language</th>\n",
       "      <th>object_update_date</th>\n",
       "      <th>object_creation_date</th>\n",
       "    </tr>\n",
       "  </thead>\n",
       "  <tbody>\n",
       "    <tr>\n",
       "      <th>duplicates_by_cols</th>\n",
       "      <td>641157</td>\n",
       "      <td>658956</td>\n",
       "      <td>741908</td>\n",
       "      <td>703854</td>\n",
       "      <td>742690</td>\n",
       "      <td>733695</td>\n",
       "      <td>745659</td>\n",
       "      <td>719251</td>\n",
       "      <td>603415</td>\n",
       "      <td>745409</td>\n",
       "      <td>...</td>\n",
       "      <td>600139</td>\n",
       "      <td>384331</td>\n",
       "      <td>259158</td>\n",
       "      <td>450996</td>\n",
       "      <td>81121</td>\n",
       "      <td>59822</td>\n",
       "      <td>745560</td>\n",
       "      <td>25</td>\n",
       "      <td>715825</td>\n",
       "      <td>724660</td>\n",
       "    </tr>\n",
       "  </tbody>\n",
       "</table>\n",
       "<p>1 rows × 31 columns</p>\n",
       "</div>"
      ],
      "text/plain": [
       "                    registry_record_id  film_title  country_of_production  \\\n",
       "duplicates_by_cols              641157      658956                 741908   \n",
       "\n",
       "                    production_studio  year_of_production  \\\n",
       "duplicates_by_cols             703854              742690   \n",
       "\n",
       "                    certificate_registration_date  category  \\\n",
       "duplicates_by_cols                         733695    745659   \n",
       "\n",
       "                    film_usage_rights  certificate_number  age_rating  ...  \\\n",
       "duplicates_by_cols             719251              603415      745409  ...   \n",
       "\n",
       "                    screenwriter  cinematographer  art_director  composer  \\\n",
       "duplicates_by_cols        600139           384331        259158    450996   \n",
       "\n",
       "                    frame_format  media_format   color  original_language  \\\n",
       "duplicates_by_cols         81121         59822  745560                 25   \n",
       "\n",
       "                    object_update_date  object_creation_date  \n",
       "duplicates_by_cols              715825                724660  \n",
       "\n",
       "[1 rows x 31 columns]"
      ]
     },
     "metadata": {},
     "output_type": "display_data"
    },
    {
     "data": {
      "application/vnd.microsoft.datawrangler.viewer.v0+json": {
       "columns": [
        {
         "name": "index",
         "rawType": "object",
         "type": "string"
        },
        {
         "name": "demonstration_duration_hours",
         "rawType": "int64",
         "type": "integer"
        }
       ],
       "ref": "24d1da02-f13f-4299-a942-f7fc232568f9",
       "rows": [
        [
         "zeroes",
         "77000"
        ]
       ],
       "shape": {
        "columns": 1,
        "rows": 1
       }
      },
      "text/html": [
       "<div>\n",
       "<style scoped>\n",
       "    .dataframe tbody tr th:only-of-type {\n",
       "        vertical-align: middle;\n",
       "    }\n",
       "\n",
       "    .dataframe tbody tr th {\n",
       "        vertical-align: top;\n",
       "    }\n",
       "\n",
       "    .dataframe thead th {\n",
       "        text-align: right;\n",
       "    }\n",
       "</style>\n",
       "<table border=\"1\" class=\"dataframe\">\n",
       "  <thead>\n",
       "    <tr style=\"text-align: right;\">\n",
       "      <th></th>\n",
       "      <th>demonstration_duration_hours</th>\n",
       "    </tr>\n",
       "  </thead>\n",
       "  <tbody>\n",
       "    <tr>\n",
       "      <th>zeroes</th>\n",
       "      <td>77000</td>\n",
       "    </tr>\n",
       "  </tbody>\n",
       "</table>\n",
       "</div>"
      ],
      "text/plain": [
       "        demonstration_duration_hours\n",
       "zeroes                         77000"
      ]
     },
     "metadata": {},
     "output_type": "display_data"
    },
    {
     "data": {
      "application/vnd.microsoft.datawrangler.viewer.v0+json": {
       "columns": [
        {
         "name": "index",
         "rawType": "object",
         "type": "string"
        }
       ],
       "ref": "645dbd80-5c4f-4180-b648-9e1b6ca0c022",
       "rows": [
        [
         "minus_ones"
        ]
       ],
       "shape": {
        "columns": 0,
        "rows": 1
       }
      },
      "text/html": [
       "<div>\n",
       "<style scoped>\n",
       "    .dataframe tbody tr th:only-of-type {\n",
       "        vertical-align: middle;\n",
       "    }\n",
       "\n",
       "    .dataframe tbody tr th {\n",
       "        vertical-align: top;\n",
       "    }\n",
       "\n",
       "    .dataframe thead th {\n",
       "        text-align: right;\n",
       "    }\n",
       "</style>\n",
       "<table border=\"1\" class=\"dataframe\">\n",
       "  <thead>\n",
       "    <tr style=\"text-align: right;\">\n",
       "      <th></th>\n",
       "    </tr>\n",
       "  </thead>\n",
       "  <tbody>\n",
       "    <tr>\n",
       "      <th>minus_ones</th>\n",
       "    </tr>\n",
       "  </tbody>\n",
       "</table>\n",
       "</div>"
      ],
      "text/plain": [
       "Empty DataFrame\n",
       "Columns: []\n",
       "Index: [minus_ones]"
      ]
     },
     "metadata": {},
     "output_type": "display_data"
    },
    {
     "data": {
      "application/vnd.microsoft.datawrangler.viewer.v0+json": {
       "columns": [
        {
         "name": "index",
         "rawType": "object",
         "type": "string"
        },
        {
         "name": "country_of_production",
         "rawType": "int64",
         "type": "integer"
        },
        {
         "name": "production_studio",
         "rawType": "int64",
         "type": "integer"
        },
        {
         "name": "year_of_production",
         "rawType": "int64",
         "type": "integer"
        },
        {
         "name": "certificate_registration_date",
         "rawType": "int64",
         "type": "integer"
        },
        {
         "name": "film_usage_rights",
         "rawType": "int64",
         "type": "integer"
        },
        {
         "name": "age_rating",
         "rawType": "int64",
         "type": "integer"
        },
        {
         "name": "demonstration_duration_hours",
         "rawType": "int64",
         "type": "integer"
        },
        {
         "name": "demonstration_duration_minutes",
         "rawType": "int64",
         "type": "integer"
        },
        {
         "name": "unit_of_measurement",
         "rawType": "int64",
         "type": "integer"
        },
        {
         "name": "synopsis",
         "rawType": "int64",
         "type": "integer"
        },
        {
         "name": "number_of_episodes",
         "rawType": "int64",
         "type": "integer"
        },
        {
         "name": "media_size",
         "rawType": "int64",
         "type": "integer"
        },
        {
         "name": "amendment_extension_number",
         "rawType": "int64",
         "type": "integer"
        },
        {
         "name": "distribution_rights_transferred",
         "rawType": "int64",
         "type": "integer"
        },
        {
         "name": "note",
         "rawType": "int64",
         "type": "integer"
        },
        {
         "name": "director",
         "rawType": "int64",
         "type": "integer"
        },
        {
         "name": "producer",
         "rawType": "int64",
         "type": "integer"
        },
        {
         "name": "screenwriter",
         "rawType": "int64",
         "type": "integer"
        },
        {
         "name": "cinematographer",
         "rawType": "int64",
         "type": "integer"
        },
        {
         "name": "art_director",
         "rawType": "int64",
         "type": "integer"
        },
        {
         "name": "composer",
         "rawType": "int64",
         "type": "integer"
        },
        {
         "name": "frame_format",
         "rawType": "int64",
         "type": "integer"
        },
        {
         "name": "media_format",
         "rawType": "int64",
         "type": "integer"
        },
        {
         "name": "color",
         "rawType": "int64",
         "type": "integer"
        },
        {
         "name": "original_language",
         "rawType": "int64",
         "type": "integer"
        }
       ],
       "ref": "cce06c3b-dc8c-4066-b33a-ccf114102bb3",
       "rows": [
        [
         "nulls",
         "523",
         "1002",
         "1701",
         "114",
         "13482",
         "218",
         "129288",
         "19628",
         "718854",
         "58043",
         "447698",
         "718575",
         "745600",
         "743626",
         "513112",
         "20907",
         "293402",
         "96132",
         "339180",
         "468370",
         "271082",
         "664156",
         "685757",
         "77",
         "745635"
        ]
       ],
       "shape": {
        "columns": 25,
        "rows": 1
       }
      },
      "text/html": [
       "<div>\n",
       "<style scoped>\n",
       "    .dataframe tbody tr th:only-of-type {\n",
       "        vertical-align: middle;\n",
       "    }\n",
       "\n",
       "    .dataframe tbody tr th {\n",
       "        vertical-align: top;\n",
       "    }\n",
       "\n",
       "    .dataframe thead th {\n",
       "        text-align: right;\n",
       "    }\n",
       "</style>\n",
       "<table border=\"1\" class=\"dataframe\">\n",
       "  <thead>\n",
       "    <tr style=\"text-align: right;\">\n",
       "      <th></th>\n",
       "      <th>country_of_production</th>\n",
       "      <th>production_studio</th>\n",
       "      <th>year_of_production</th>\n",
       "      <th>certificate_registration_date</th>\n",
       "      <th>film_usage_rights</th>\n",
       "      <th>age_rating</th>\n",
       "      <th>demonstration_duration_hours</th>\n",
       "      <th>demonstration_duration_minutes</th>\n",
       "      <th>unit_of_measurement</th>\n",
       "      <th>synopsis</th>\n",
       "      <th>...</th>\n",
       "      <th>director</th>\n",
       "      <th>producer</th>\n",
       "      <th>screenwriter</th>\n",
       "      <th>cinematographer</th>\n",
       "      <th>art_director</th>\n",
       "      <th>composer</th>\n",
       "      <th>frame_format</th>\n",
       "      <th>media_format</th>\n",
       "      <th>color</th>\n",
       "      <th>original_language</th>\n",
       "    </tr>\n",
       "  </thead>\n",
       "  <tbody>\n",
       "    <tr>\n",
       "      <th>nulls</th>\n",
       "      <td>523</td>\n",
       "      <td>1002</td>\n",
       "      <td>1701</td>\n",
       "      <td>114</td>\n",
       "      <td>13482</td>\n",
       "      <td>218</td>\n",
       "      <td>129288</td>\n",
       "      <td>19628</td>\n",
       "      <td>718854</td>\n",
       "      <td>58043</td>\n",
       "      <td>...</td>\n",
       "      <td>20907</td>\n",
       "      <td>293402</td>\n",
       "      <td>96132</td>\n",
       "      <td>339180</td>\n",
       "      <td>468370</td>\n",
       "      <td>271082</td>\n",
       "      <td>664156</td>\n",
       "      <td>685757</td>\n",
       "      <td>77</td>\n",
       "      <td>745635</td>\n",
       "    </tr>\n",
       "  </tbody>\n",
       "</table>\n",
       "<p>1 rows × 25 columns</p>\n",
       "</div>"
      ],
      "text/plain": [
       "       country_of_production  production_studio  year_of_production  \\\n",
       "nulls                    523               1002                1701   \n",
       "\n",
       "       certificate_registration_date  film_usage_rights  age_rating  \\\n",
       "nulls                            114              13482         218   \n",
       "\n",
       "       demonstration_duration_hours  demonstration_duration_minutes  \\\n",
       "nulls                        129288                           19628   \n",
       "\n",
       "       unit_of_measurement  synopsis  ...  director  producer  screenwriter  \\\n",
       "nulls               718854     58043  ...     20907    293402         96132   \n",
       "\n",
       "       cinematographer  art_director  composer  frame_format  media_format  \\\n",
       "nulls           339180        468370    271082        664156        685757   \n",
       "\n",
       "       color  original_language  \n",
       "nulls     77             745635  \n",
       "\n",
       "[1 rows x 25 columns]"
      ]
     },
     "metadata": {},
     "output_type": "display_data"
    },
    {
     "data": {
      "application/vnd.microsoft.datawrangler.viewer.v0+json": {
       "columns": [
        {
         "name": "index",
         "rawType": "object",
         "type": "string"
        },
        {
         "name": "country_of_production",
         "rawType": "int64",
         "type": "integer"
        },
        {
         "name": "production_studio",
         "rawType": "int64",
         "type": "integer"
        },
        {
         "name": "year_of_production",
         "rawType": "int64",
         "type": "integer"
        },
        {
         "name": "certificate_registration_date",
         "rawType": "int64",
         "type": "integer"
        },
        {
         "name": "film_usage_rights",
         "rawType": "int64",
         "type": "integer"
        },
        {
         "name": "age_rating",
         "rawType": "int64",
         "type": "integer"
        },
        {
         "name": "demonstration_duration_hours",
         "rawType": "int64",
         "type": "integer"
        },
        {
         "name": "demonstration_duration_minutes",
         "rawType": "int64",
         "type": "integer"
        },
        {
         "name": "unit_of_measurement",
         "rawType": "int64",
         "type": "integer"
        },
        {
         "name": "synopsis",
         "rawType": "int64",
         "type": "integer"
        },
        {
         "name": "number_of_episodes",
         "rawType": "int64",
         "type": "integer"
        },
        {
         "name": "media_size",
         "rawType": "int64",
         "type": "integer"
        },
        {
         "name": "amendment_extension_number",
         "rawType": "int64",
         "type": "integer"
        },
        {
         "name": "distribution_rights_transferred",
         "rawType": "int64",
         "type": "integer"
        },
        {
         "name": "note",
         "rawType": "int64",
         "type": "integer"
        },
        {
         "name": "director",
         "rawType": "int64",
         "type": "integer"
        },
        {
         "name": "producer",
         "rawType": "int64",
         "type": "integer"
        },
        {
         "name": "screenwriter",
         "rawType": "int64",
         "type": "integer"
        },
        {
         "name": "cinematographer",
         "rawType": "int64",
         "type": "integer"
        },
        {
         "name": "art_director",
         "rawType": "int64",
         "type": "integer"
        },
        {
         "name": "composer",
         "rawType": "int64",
         "type": "integer"
        },
        {
         "name": "frame_format",
         "rawType": "int64",
         "type": "integer"
        },
        {
         "name": "media_format",
         "rawType": "int64",
         "type": "integer"
        },
        {
         "name": "color",
         "rawType": "int64",
         "type": "integer"
        },
        {
         "name": "original_language",
         "rawType": "int64",
         "type": "integer"
        }
       ],
       "ref": "2b3229a5-0b9b-486b-8fc8-eb6cf5bc586c",
       "rows": [
        [
         "nans",
         "523",
         "1002",
         "1701",
         "114",
         "13482",
         "218",
         "129288",
         "19628",
         "718854",
         "58043",
         "447698",
         "718575",
         "745600",
         "743626",
         "513112",
         "20907",
         "293402",
         "96132",
         "339180",
         "468370",
         "271082",
         "664156",
         "685757",
         "77",
         "745635"
        ]
       ],
       "shape": {
        "columns": 25,
        "rows": 1
       }
      },
      "text/html": [
       "<div>\n",
       "<style scoped>\n",
       "    .dataframe tbody tr th:only-of-type {\n",
       "        vertical-align: middle;\n",
       "    }\n",
       "\n",
       "    .dataframe tbody tr th {\n",
       "        vertical-align: top;\n",
       "    }\n",
       "\n",
       "    .dataframe thead th {\n",
       "        text-align: right;\n",
       "    }\n",
       "</style>\n",
       "<table border=\"1\" class=\"dataframe\">\n",
       "  <thead>\n",
       "    <tr style=\"text-align: right;\">\n",
       "      <th></th>\n",
       "      <th>country_of_production</th>\n",
       "      <th>production_studio</th>\n",
       "      <th>year_of_production</th>\n",
       "      <th>certificate_registration_date</th>\n",
       "      <th>film_usage_rights</th>\n",
       "      <th>age_rating</th>\n",
       "      <th>demonstration_duration_hours</th>\n",
       "      <th>demonstration_duration_minutes</th>\n",
       "      <th>unit_of_measurement</th>\n",
       "      <th>synopsis</th>\n",
       "      <th>...</th>\n",
       "      <th>director</th>\n",
       "      <th>producer</th>\n",
       "      <th>screenwriter</th>\n",
       "      <th>cinematographer</th>\n",
       "      <th>art_director</th>\n",
       "      <th>composer</th>\n",
       "      <th>frame_format</th>\n",
       "      <th>media_format</th>\n",
       "      <th>color</th>\n",
       "      <th>original_language</th>\n",
       "    </tr>\n",
       "  </thead>\n",
       "  <tbody>\n",
       "    <tr>\n",
       "      <th>nans</th>\n",
       "      <td>523</td>\n",
       "      <td>1002</td>\n",
       "      <td>1701</td>\n",
       "      <td>114</td>\n",
       "      <td>13482</td>\n",
       "      <td>218</td>\n",
       "      <td>129288</td>\n",
       "      <td>19628</td>\n",
       "      <td>718854</td>\n",
       "      <td>58043</td>\n",
       "      <td>...</td>\n",
       "      <td>20907</td>\n",
       "      <td>293402</td>\n",
       "      <td>96132</td>\n",
       "      <td>339180</td>\n",
       "      <td>468370</td>\n",
       "      <td>271082</td>\n",
       "      <td>664156</td>\n",
       "      <td>685757</td>\n",
       "      <td>77</td>\n",
       "      <td>745635</td>\n",
       "    </tr>\n",
       "  </tbody>\n",
       "</table>\n",
       "<p>1 rows × 25 columns</p>\n",
       "</div>"
      ],
      "text/plain": [
       "      country_of_production  production_studio  year_of_production  \\\n",
       "nans                    523               1002                1701   \n",
       "\n",
       "      certificate_registration_date  film_usage_rights  age_rating  \\\n",
       "nans                            114              13482         218   \n",
       "\n",
       "      demonstration_duration_hours  demonstration_duration_minutes  \\\n",
       "nans                        129288                           19628   \n",
       "\n",
       "      unit_of_measurement  synopsis  ...  director  producer  screenwriter  \\\n",
       "nans               718854     58043  ...     20907    293402         96132   \n",
       "\n",
       "      cinematographer  art_director  composer  frame_format  media_format  \\\n",
       "nans           339180        468370    271082        664156        685757   \n",
       "\n",
       "      color  original_language  \n",
       "nans     77             745635  \n",
       "\n",
       "[1 rows x 25 columns]"
      ]
     },
     "metadata": {},
     "output_type": "display_data"
    },
    {
     "data": {
      "application/vnd.microsoft.datawrangler.viewer.v0+json": {
       "columns": [
        {
         "name": "index",
         "rawType": "object",
         "type": "string"
        }
       ],
       "ref": "95127569-8bcc-4bd7-aacb-dd4531c56fdd",
       "rows": [
        [
         "nones"
        ]
       ],
       "shape": {
        "columns": 0,
        "rows": 1
       }
      },
      "text/html": [
       "<div>\n",
       "<style scoped>\n",
       "    .dataframe tbody tr th:only-of-type {\n",
       "        vertical-align: middle;\n",
       "    }\n",
       "\n",
       "    .dataframe tbody tr th {\n",
       "        vertical-align: top;\n",
       "    }\n",
       "\n",
       "    .dataframe thead th {\n",
       "        text-align: right;\n",
       "    }\n",
       "</style>\n",
       "<table border=\"1\" class=\"dataframe\">\n",
       "  <thead>\n",
       "    <tr style=\"text-align: right;\">\n",
       "      <th></th>\n",
       "    </tr>\n",
       "  </thead>\n",
       "  <tbody>\n",
       "    <tr>\n",
       "      <th>nones</th>\n",
       "    </tr>\n",
       "  </tbody>\n",
       "</table>\n",
       "</div>"
      ],
      "text/plain": [
       "Empty DataFrame\n",
       "Columns: []\n",
       "Index: [nones]"
      ]
     },
     "metadata": {},
     "output_type": "display_data"
    },
    {
     "data": {
      "application/vnd.microsoft.datawrangler.viewer.v0+json": {
       "columns": [
        {
         "name": "index",
         "rawType": "object",
         "type": "string"
        }
       ],
       "ref": "92c5af59-8580-42b8-ae85-7a02dfb40914",
       "rows": [
        [
         "NA placeholder"
        ]
       ],
       "shape": {
        "columns": 0,
        "rows": 1
       }
      },
      "text/html": [
       "<div>\n",
       "<style scoped>\n",
       "    .dataframe tbody tr th:only-of-type {\n",
       "        vertical-align: middle;\n",
       "    }\n",
       "\n",
       "    .dataframe tbody tr th {\n",
       "        vertical-align: top;\n",
       "    }\n",
       "\n",
       "    .dataframe thead th {\n",
       "        text-align: right;\n",
       "    }\n",
       "</style>\n",
       "<table border=\"1\" class=\"dataframe\">\n",
       "  <thead>\n",
       "    <tr style=\"text-align: right;\">\n",
       "      <th></th>\n",
       "    </tr>\n",
       "  </thead>\n",
       "  <tbody>\n",
       "    <tr>\n",
       "      <th>NA placeholder</th>\n",
       "    </tr>\n",
       "  </tbody>\n",
       "</table>\n",
       "</div>"
      ],
      "text/plain": [
       "Empty DataFrame\n",
       "Columns: []\n",
       "Index: [NA placeholder]"
      ]
     },
     "metadata": {},
     "output_type": "display_data"
    },
    {
     "data": {
      "application/vnd.microsoft.datawrangler.viewer.v0+json": {
       "columns": [
        {
         "name": "index",
         "rawType": "object",
         "type": "string"
        }
       ],
       "ref": "9a4e2137-f3ce-4161-be00-f6e5d6c74f1a",
       "rows": [
        [
         "null placeholder"
        ]
       ],
       "shape": {
        "columns": 0,
        "rows": 1
       }
      },
      "text/html": [
       "<div>\n",
       "<style scoped>\n",
       "    .dataframe tbody tr th:only-of-type {\n",
       "        vertical-align: middle;\n",
       "    }\n",
       "\n",
       "    .dataframe tbody tr th {\n",
       "        vertical-align: top;\n",
       "    }\n",
       "\n",
       "    .dataframe thead th {\n",
       "        text-align: right;\n",
       "    }\n",
       "</style>\n",
       "<table border=\"1\" class=\"dataframe\">\n",
       "  <thead>\n",
       "    <tr style=\"text-align: right;\">\n",
       "      <th></th>\n",
       "    </tr>\n",
       "  </thead>\n",
       "  <tbody>\n",
       "    <tr>\n",
       "      <th>null placeholder</th>\n",
       "    </tr>\n",
       "  </tbody>\n",
       "</table>\n",
       "</div>"
      ],
      "text/plain": [
       "Empty DataFrame\n",
       "Columns: []\n",
       "Index: [null placeholder]"
      ]
     },
     "metadata": {},
     "output_type": "display_data"
    },
    {
     "data": {
      "application/vnd.microsoft.datawrangler.viewer.v0+json": {
       "columns": [
        {
         "name": "index",
         "rawType": "object",
         "type": "string"
        }
       ],
       "ref": "6e10b0e4-c964-47b4-b9b1-7861f4b39d60",
       "rows": [
        [
         "N/A placeholder"
        ]
       ],
       "shape": {
        "columns": 0,
        "rows": 1
       }
      },
      "text/html": [
       "<div>\n",
       "<style scoped>\n",
       "    .dataframe tbody tr th:only-of-type {\n",
       "        vertical-align: middle;\n",
       "    }\n",
       "\n",
       "    .dataframe tbody tr th {\n",
       "        vertical-align: top;\n",
       "    }\n",
       "\n",
       "    .dataframe thead th {\n",
       "        text-align: right;\n",
       "    }\n",
       "</style>\n",
       "<table border=\"1\" class=\"dataframe\">\n",
       "  <thead>\n",
       "    <tr style=\"text-align: right;\">\n",
       "      <th></th>\n",
       "    </tr>\n",
       "  </thead>\n",
       "  <tbody>\n",
       "    <tr>\n",
       "      <th>N/A placeholder</th>\n",
       "    </tr>\n",
       "  </tbody>\n",
       "</table>\n",
       "</div>"
      ],
      "text/plain": [
       "Empty DataFrame\n",
       "Columns: []\n",
       "Index: [N/A placeholder]"
      ]
     },
     "metadata": {},
     "output_type": "display_data"
    },
    {
     "data": {
      "application/vnd.microsoft.datawrangler.viewer.v0+json": {
       "columns": [
        {
         "name": "index",
         "rawType": "object",
         "type": "string"
        },
        {
         "name": "<class 'str'>",
         "rawType": "int64",
         "type": "integer"
        },
        {
         "name": "<class 'int'>",
         "rawType": "float64",
         "type": "float"
        },
        {
         "name": "<class 'float'>",
         "rawType": "float64",
         "type": "float"
        }
       ],
       "ref": "da756736-bf38-4a2b-a8b1-f67ec1e9a6ab",
       "rows": [
        [
         "certificate_number",
         "536071",
         "209593.0",
         null
        ],
        [
         "demonstration_duration_minutes",
         "29066",
         null,
         "696970.0"
        ],
        [
         "number_of_episodes",
         "19312",
         null,
         "278654.0"
        ],
        [
         "media_size",
         "27086",
         null,
         "3.0"
        ]
       ],
       "shape": {
        "columns": 3,
        "rows": 4
       }
      },
      "text/html": [
       "<div>\n",
       "<style scoped>\n",
       "    .dataframe tbody tr th:only-of-type {\n",
       "        vertical-align: middle;\n",
       "    }\n",
       "\n",
       "    .dataframe tbody tr th {\n",
       "        vertical-align: top;\n",
       "    }\n",
       "\n",
       "    .dataframe thead th {\n",
       "        text-align: right;\n",
       "    }\n",
       "</style>\n",
       "<table border=\"1\" class=\"dataframe\">\n",
       "  <thead>\n",
       "    <tr style=\"text-align: right;\">\n",
       "      <th></th>\n",
       "      <th>&lt;class 'str'&gt;</th>\n",
       "      <th>&lt;class 'int'&gt;</th>\n",
       "      <th>&lt;class 'float'&gt;</th>\n",
       "    </tr>\n",
       "  </thead>\n",
       "  <tbody>\n",
       "    <tr>\n",
       "      <th>certificate_number</th>\n",
       "      <td>536071</td>\n",
       "      <td>209593.0</td>\n",
       "      <td>NaN</td>\n",
       "    </tr>\n",
       "    <tr>\n",
       "      <th>demonstration_duration_minutes</th>\n",
       "      <td>29066</td>\n",
       "      <td>NaN</td>\n",
       "      <td>696970.0</td>\n",
       "    </tr>\n",
       "    <tr>\n",
       "      <th>number_of_episodes</th>\n",
       "      <td>19312</td>\n",
       "      <td>NaN</td>\n",
       "      <td>278654.0</td>\n",
       "    </tr>\n",
       "    <tr>\n",
       "      <th>media_size</th>\n",
       "      <td>27086</td>\n",
       "      <td>NaN</td>\n",
       "      <td>3.0</td>\n",
       "    </tr>\n",
       "  </tbody>\n",
       "</table>\n",
       "</div>"
      ],
      "text/plain": [
       "                                <class 'str'>  <class 'int'>  <class 'float'>\n",
       "certificate_number                     536071       209593.0              NaN\n",
       "demonstration_duration_minutes          29066            NaN         696970.0\n",
       "number_of_episodes                      19312            NaN         278654.0\n",
       "media_size                              27086            NaN              3.0"
      ]
     },
     "metadata": {},
     "output_type": "display_data"
    }
   ],
   "source": [
    "pd_tools.df_info(fc_reg_df)"
   ]
  },
  {
   "cell_type": "markdown",
   "id": "566f0f97",
   "metadata": {},
   "source": [
    "## Data transform"
   ]
  },
  {
   "cell_type": "code",
   "execution_count": 224,
   "id": "052542a3",
   "metadata": {},
   "outputs": [],
   "source": [
    "def not_same_types(df: pd.DataFrame, col_name: str) -> pd.Series | None:\n",
    "    \"\"\"\n",
    "    If there are multiple dtypes in col, return a col_name with counts of each dtype.\n",
    "    Null values are ignored in the check.\n",
    "    If all dtypes are the same, return None.    \n",
    "    \"\"\"\n",
    "    non_null_col = df[col_name][df[col_name].notnull()]\n",
    "    col_types = non_null_col.apply(type).value_counts()\n",
    "    if len(col_types) > 1:\n",
    "        return col_types\n",
    "    else:\n",
    "        print(f'Column {col_name} has only one type: {col_types.index[0]}')\n",
    "        return None  \n",
    "    \n",
    "def str_class(df: pd.DataFrame, col_name: str) -> pd.DataFrame:\n",
    "    '''\n",
    "    Classifies values in col_name as:\n",
    "    - is_digit: all digits\n",
    "    - is_alpha: all alphabetic (A-Z or Cyrillic)\n",
    "    - is_empty: empty string after strip\n",
    "    - has_special_symbols: any character excluding . , letters, digits, space\n",
    "    - has_letters: contains at least one letter\n",
    "    - has_dots: contains \".\"\n",
    "    - has_commas: contains \",\"\n",
    "    - has_spaces: contains space\n",
    "    - nans_nulls: null or NaN\n",
    "    - etc: does not match any above\n",
    "    '''\n",
    "    raw_series = df[col_name]\n",
    "    series = raw_series.astype(str).str.strip()\n",
    "\n",
    "    is_digit = series.apply(lambda x: x.isdigit())\n",
    "    # NaN becomes the string 'nan' when cast to str.\n",
    "    is_alpha = series.apply(lambda x: x.isalpha() if x and (x != 'nan') else False)\n",
    "    is_empty = series.apply(lambda x: x == '')\n",
    "\n",
    "    has_letters = series.apply(lambda x: any(c.isalpha() for c in x) if x and (x != 'nan') else False)\n",
    "    has_special_symbols = series.apply(\n",
    "        lambda x: bool(re.search(r'[^a-zA-Zа-яА-ЯёЁ0-9\\s.,]', x))\n",
    "    )\n",
    "    has_dots = series.apply(lambda x: '.' in x)\n",
    "    has_commas = series.apply(lambda x: ',' in x)\n",
    "    has_spaces = series.apply(lambda x: ' ' in x)\n",
    "\n",
    "    nans_nulls = raw_series.isnull()\n",
    "\n",
    "    # etc = does not match any of the above and is not null\n",
    "    etc = ~(is_digit | is_alpha | is_empty | has_special_symbols |\n",
    "            has_letters | has_dots | has_commas | has_spaces | nans_nulls)\n",
    "\n",
    "    results_df = pd.DataFrame({\n",
    "        'is_digit': is_digit,\n",
    "        'is_alpha': is_alpha,\n",
    "        'is_empty': is_empty,\n",
    "        'has_special_symbols': has_special_symbols,\n",
    "        'has_letters': has_letters,\n",
    "        'has_dots': has_dots,\n",
    "        'has_commas': has_commas,\n",
    "        'has_spaces': has_spaces,\n",
    "        'nans_nulls': nans_nulls,\n",
    "        'etc': etc\n",
    "    })\n",
    "\n",
    "    summary = results_df.sum().reset_index()\n",
    "    summary.columns = ['text_property', 'count']\n",
    "\n",
    "   \n",
    "\n",
    "    return summary\n"
   ]
  },
  {
   "cell_type": "code",
   "execution_count": 247,
   "id": "c99220d8",
   "metadata": {},
   "outputs": [
    {
     "data": {
      "application/vnd.microsoft.datawrangler.viewer.v0+json": {
       "columns": [
        {
         "name": "index",
         "rawType": "int64",
         "type": "integer"
        },
        {
         "name": "text_property",
         "rawType": "object",
         "type": "string"
        },
        {
         "name": "count",
         "rawType": "int64",
         "type": "integer"
        }
       ],
       "ref": "c2eebf8e-3430-4ab8-af22-5c04d6a74ccc",
       "rows": [
        [
         "0",
         "is_digit",
         "731344"
        ],
        [
         "1",
         "is_alpha",
         "12"
        ],
        [
         "2",
         "is_empty",
         "0"
        ],
        [
         "3",
         "has_special_symbols",
         "54"
        ],
        [
         "4",
         "has_letters",
         "14266"
        ],
        [
         "5",
         "has_dots",
         "0"
        ],
        [
         "6",
         "has_commas",
         "0"
        ],
        [
         "7",
         "has_spaces",
         "64"
        ],
        [
         "8",
         "nans_nulls",
         "0"
        ],
        [
         "9",
         "etc",
         "0"
        ]
       ],
       "shape": {
        "columns": 2,
        "rows": 10
       }
      },
      "text/html": [
       "<div>\n",
       "<style scoped>\n",
       "    .dataframe tbody tr th:only-of-type {\n",
       "        vertical-align: middle;\n",
       "    }\n",
       "\n",
       "    .dataframe tbody tr th {\n",
       "        vertical-align: top;\n",
       "    }\n",
       "\n",
       "    .dataframe thead th {\n",
       "        text-align: right;\n",
       "    }\n",
       "</style>\n",
       "<table border=\"1\" class=\"dataframe\">\n",
       "  <thead>\n",
       "    <tr style=\"text-align: right;\">\n",
       "      <th></th>\n",
       "      <th>text_property</th>\n",
       "      <th>count</th>\n",
       "    </tr>\n",
       "  </thead>\n",
       "  <tbody>\n",
       "    <tr>\n",
       "      <th>0</th>\n",
       "      <td>is_digit</td>\n",
       "      <td>731344</td>\n",
       "    </tr>\n",
       "    <tr>\n",
       "      <th>1</th>\n",
       "      <td>is_alpha</td>\n",
       "      <td>12</td>\n",
       "    </tr>\n",
       "    <tr>\n",
       "      <th>2</th>\n",
       "      <td>is_empty</td>\n",
       "      <td>0</td>\n",
       "    </tr>\n",
       "    <tr>\n",
       "      <th>3</th>\n",
       "      <td>has_special_symbols</td>\n",
       "      <td>54</td>\n",
       "    </tr>\n",
       "    <tr>\n",
       "      <th>4</th>\n",
       "      <td>has_letters</td>\n",
       "      <td>14266</td>\n",
       "    </tr>\n",
       "    <tr>\n",
       "      <th>5</th>\n",
       "      <td>has_dots</td>\n",
       "      <td>0</td>\n",
       "    </tr>\n",
       "    <tr>\n",
       "      <th>6</th>\n",
       "      <td>has_commas</td>\n",
       "      <td>0</td>\n",
       "    </tr>\n",
       "    <tr>\n",
       "      <th>7</th>\n",
       "      <td>has_spaces</td>\n",
       "      <td>64</td>\n",
       "    </tr>\n",
       "    <tr>\n",
       "      <th>8</th>\n",
       "      <td>nans_nulls</td>\n",
       "      <td>0</td>\n",
       "    </tr>\n",
       "    <tr>\n",
       "      <th>9</th>\n",
       "      <td>etc</td>\n",
       "      <td>0</td>\n",
       "    </tr>\n",
       "  </tbody>\n",
       "</table>\n",
       "</div>"
      ],
      "text/plain": [
       "         text_property   count\n",
       "0             is_digit  731344\n",
       "1             is_alpha      12\n",
       "2             is_empty       0\n",
       "3  has_special_symbols      54\n",
       "4          has_letters   14266\n",
       "5             has_dots       0\n",
       "6           has_commas       0\n",
       "7           has_spaces      64\n",
       "8           nans_nulls       0\n",
       "9                  etc       0"
      ]
     },
     "execution_count": 247,
     "metadata": {},
     "output_type": "execute_result"
    }
   ],
   "source": [
    "str_class(fc_reg_df, 'certificate_number')"
   ]
  },
  {
   "cell_type": "code",
   "execution_count": 248,
   "id": "7faffeba",
   "metadata": {},
   "outputs": [
    {
     "data": {
      "application/vnd.microsoft.datawrangler.viewer.v0+json": {
       "columns": [
        {
         "name": "index",
         "rawType": "int64",
         "type": "integer"
        },
        {
         "name": "certificate_number",
         "rawType": "object",
         "type": "string"
        }
       ],
       "ref": "ee0f98a2-6b7b-4c1b-aa01-41ab8363a941",
       "rows": [
        [
         "7936",
         "нет"
        ],
        [
         "16864",
         "121012208А"
        ],
        [
         "17641",
         "221113209_"
        ],
        [
         "25246",
         "2210-45210"
        ],
        [
         "27015",
         "213-11610"
        ],
        [
         "62544",
         "21111901Д"
        ],
        [
         "62560",
         "221009902Д"
        ],
        [
         "62561",
         "221094803Д"
        ],
        [
         "62669",
         "221236203Д"
        ],
        [
         "62677",
         "221236303Д"
        ],
        [
         "62685",
         "22140599Д"
        ],
        [
         "62698",
         "221222003Д"
        ],
        [
         "62702",
         "226004100Д"
        ],
        [
         "62738",
         "221103302Д"
        ],
        [
         "62739",
         "221089303Д"
        ],
        [
         "62829",
         "221136802Д"
        ],
        [
         "62833",
         "221221903Д"
        ],
        [
         "62839",
         "221236603Д"
        ],
        [
         "62854",
         "221026901Д"
        ],
        [
         "62879",
         "226104503Д"
        ],
        [
         "62900",
         "221222403Д"
        ],
        [
         "62904",
         "221288503Д"
        ],
        [
         "62909",
         "221221503Д"
        ],
        [
         "62917",
         "221048701Д"
        ],
        [
         "62918",
         "221094903Д"
        ],
        [
         "62919",
         "221114400Д"
        ],
        [
         "62928",
         "221053003Д"
        ],
        [
         "62940",
         "22633699Д"
        ],
        [
         "62949",
         "221025603Д"
        ],
        [
         "62960",
         "221221603Д"
        ],
        [
         "63006",
         "221034203Д"
        ],
        [
         "63010",
         "226091603Д"
        ],
        [
         "63013",
         "221047601Д"
        ],
        [
         "63014",
         "221092903Д"
        ],
        [
         "63015",
         "221120300Д"
        ],
        [
         "63024",
         "221231303Д"
        ],
        [
         "63025",
         "226003400Д"
        ],
        [
         "63026",
         "226006800Д"
        ],
        [
         "63040",
         "221221703Д"
        ],
        [
         "63066",
         "221047701Д"
        ],
        [
         "63067",
         "221093003Д"
        ],
        [
         "63068",
         "221110100Д"
        ],
        [
         "63075",
         "221231403Д"
        ],
        [
         "63095",
         "221045901Д"
        ],
        [
         "63096",
         "221089403Д"
        ],
        [
         "63097",
         "221111900Д"
        ],
        [
         "63100",
         "221086802Д"
        ],
        [
         "63101",
         "221089503Д"
        ],
        [
         "63108",
         "221236403Д"
        ],
        [
         "63127",
         "221222503Д"
        ]
       ],
       "shape": {
        "columns": 1,
        "rows": 14320
       }
      },
      "text/plain": [
       "7936             нет\n",
       "16864     121012208А\n",
       "17641     221113209_\n",
       "25246     2210-45210\n",
       "27015      213-11610\n",
       "             ...    \n",
       "730286    221123801Д\n",
       "730307    221008000Д\n",
       "730382    221050601Д\n",
       "730383    221098103Д\n",
       "730384    221104600Д\n",
       "Name: certificate_number, Length: 14320, dtype: object"
      ]
     },
     "execution_count": 248,
     "metadata": {},
     "output_type": "execute_result"
    }
   ],
   "source": [
    "# find rows where certificate_number is not only digits\n",
    "mask_not_digit = ~fc_reg_df['certificate_number'].astype(str).str.strip().str.isdigit()\n",
    "fc_reg_df.loc[mask_not_digit, 'certificate_number']\n"
   ]
  },
  {
   "cell_type": "code",
   "execution_count": 249,
   "id": "dbc6131f",
   "metadata": {},
   "outputs": [
    {
     "name": "stdout",
     "output_type": "stream",
     "text": [
      "Column certificate_number has only one type: <class 'str'>\n"
     ]
    }
   ],
   "source": [
    "# change to str and removes any leading and trailing whitespace characters from the string values.\n",
    "fc_reg_df['certificate_number'] = fc_reg_df['certificate_number'].astype(str).str.strip()\n",
    "not_same_types(fc_reg_df, 'certificate_number')"
   ]
  },
  {
   "cell_type": "code",
   "execution_count": 208,
   "id": "b8e55fcf",
   "metadata": {},
   "outputs": [
    {
     "data": {
      "application/vnd.microsoft.datawrangler.viewer.v0+json": {
       "columns": [
        {
         "name": "duration_minutes",
         "rawType": "object",
         "type": "unknown"
        },
        {
         "name": "count",
         "rawType": "int64",
         "type": "integer"
        }
       ],
       "ref": "ad9ec7ba-51cd-437f-af02-a0794194909d",
       "rows": [
        [
         "<class 'float'>",
         "696970"
        ],
        [
         "<class 'str'>",
         "29066"
        ]
       ],
       "shape": {
        "columns": 1,
        "rows": 2
       }
      },
      "text/plain": [
       "duration_minutes\n",
       "<class 'float'>    696970\n",
       "<class 'str'>       29066\n",
       "Name: count, dtype: int64"
      ]
     },
     "execution_count": 208,
     "metadata": {},
     "output_type": "execute_result"
    }
   ],
   "source": [
    "not_same_types(fc_reg_df, 'duration_minutes')"
   ]
  },
  {
   "cell_type": "code",
   "execution_count": 227,
   "id": "1f748ace",
   "metadata": {},
   "outputs": [
    {
     "data": {
      "application/vnd.microsoft.datawrangler.viewer.v0+json": {
       "columns": [
        {
         "name": "index",
         "rawType": "int64",
         "type": "integer"
        },
        {
         "name": "text_property",
         "rawType": "object",
         "type": "string"
        },
        {
         "name": "count",
         "rawType": "int64",
         "type": "integer"
        }
       ],
       "ref": "b0937e30-1d7f-4dcb-a9e6-3d19b0c03024",
       "rows": [
        [
         "0",
         "is_digit",
         "29057"
        ],
        [
         "1",
         "is_alpha",
         "0"
        ],
        [
         "2",
         "is_empty",
         "0"
        ],
        [
         "3",
         "has_special_symbols",
         "9"
        ],
        [
         "4",
         "has_letters",
         "0"
        ],
        [
         "5",
         "has_dots",
         "696970"
        ],
        [
         "6",
         "has_commas",
         "0"
        ],
        [
         "7",
         "has_spaces",
         "0"
        ],
        [
         "8",
         "nans_nulls",
         "19628"
        ],
        [
         "9",
         "etc",
         "0"
        ]
       ],
       "shape": {
        "columns": 2,
        "rows": 10
       }
      },
      "text/html": [
       "<div>\n",
       "<style scoped>\n",
       "    .dataframe tbody tr th:only-of-type {\n",
       "        vertical-align: middle;\n",
       "    }\n",
       "\n",
       "    .dataframe tbody tr th {\n",
       "        vertical-align: top;\n",
       "    }\n",
       "\n",
       "    .dataframe thead th {\n",
       "        text-align: right;\n",
       "    }\n",
       "</style>\n",
       "<table border=\"1\" class=\"dataframe\">\n",
       "  <thead>\n",
       "    <tr style=\"text-align: right;\">\n",
       "      <th></th>\n",
       "      <th>text_property</th>\n",
       "      <th>count</th>\n",
       "    </tr>\n",
       "  </thead>\n",
       "  <tbody>\n",
       "    <tr>\n",
       "      <th>0</th>\n",
       "      <td>is_digit</td>\n",
       "      <td>29057</td>\n",
       "    </tr>\n",
       "    <tr>\n",
       "      <th>1</th>\n",
       "      <td>is_alpha</td>\n",
       "      <td>0</td>\n",
       "    </tr>\n",
       "    <tr>\n",
       "      <th>2</th>\n",
       "      <td>is_empty</td>\n",
       "      <td>0</td>\n",
       "    </tr>\n",
       "    <tr>\n",
       "      <th>3</th>\n",
       "      <td>has_special_symbols</td>\n",
       "      <td>9</td>\n",
       "    </tr>\n",
       "    <tr>\n",
       "      <th>4</th>\n",
       "      <td>has_letters</td>\n",
       "      <td>0</td>\n",
       "    </tr>\n",
       "    <tr>\n",
       "      <th>5</th>\n",
       "      <td>has_dots</td>\n",
       "      <td>696970</td>\n",
       "    </tr>\n",
       "    <tr>\n",
       "      <th>6</th>\n",
       "      <td>has_commas</td>\n",
       "      <td>0</td>\n",
       "    </tr>\n",
       "    <tr>\n",
       "      <th>7</th>\n",
       "      <td>has_spaces</td>\n",
       "      <td>0</td>\n",
       "    </tr>\n",
       "    <tr>\n",
       "      <th>8</th>\n",
       "      <td>nans_nulls</td>\n",
       "      <td>19628</td>\n",
       "    </tr>\n",
       "    <tr>\n",
       "      <th>9</th>\n",
       "      <td>etc</td>\n",
       "      <td>0</td>\n",
       "    </tr>\n",
       "  </tbody>\n",
       "</table>\n",
       "</div>"
      ],
      "text/plain": [
       "         text_property   count\n",
       "0             is_digit   29057\n",
       "1             is_alpha       0\n",
       "2             is_empty       0\n",
       "3  has_special_symbols       9\n",
       "4          has_letters       0\n",
       "5             has_dots  696970\n",
       "6           has_commas       0\n",
       "7           has_spaces       0\n",
       "8           nans_nulls   19628\n",
       "9                  etc       0"
      ]
     },
     "execution_count": 227,
     "metadata": {},
     "output_type": "execute_result"
    }
   ],
   "source": [
    "str_class(fc_reg_df, 'duration_minutes')"
   ]
  },
  {
   "cell_type": "code",
   "execution_count": 210,
   "id": "52b50ea3",
   "metadata": {},
   "outputs": [
    {
     "data": {
      "application/vnd.microsoft.datawrangler.viewer.v0+json": {
       "columns": [
        {
         "name": "index",
         "rawType": "int64",
         "type": "integer"
        },
        {
         "name": "duration_minutes",
         "rawType": "object",
         "type": "string"
        }
       ],
       "ref": "f57b427f-50ce-4d45-8b22-5df024f9e48e",
       "rows": [
        [
         "188562",
         "58/59"
        ],
        [
         "190277",
         "7/8"
        ],
        [
         "191417",
         "28/25"
        ],
        [
         "638127",
         "58/59"
        ],
        [
         "639842",
         "7/8"
        ],
        [
         "640981",
         "28/25"
        ],
        [
         "741296",
         "58/59"
        ],
        [
         "743010",
         "7/8"
        ],
        [
         "744152",
         "28/25"
        ]
       ],
       "shape": {
        "columns": 1,
        "rows": 9
       }
      },
      "text/plain": [
       "188562    58/59\n",
       "190277      7/8\n",
       "191417    28/25\n",
       "638127    58/59\n",
       "639842      7/8\n",
       "640981    28/25\n",
       "741296    58/59\n",
       "743010      7/8\n",
       "744152    28/25\n",
       "Name: duration_minutes, dtype: object"
      ]
     },
     "execution_count": 210,
     "metadata": {},
     "output_type": "execute_result"
    }
   ],
   "source": [
    "# find rows with special characters in duration_minutes\n",
    "has_spec_sym = fc_reg_df['duration_minutes'].astype(str).apply(lambda x: bool(re.search(r'[^a-zA-Zа-яА-ЯёЁ0-9\\s.,]', x)))\n",
    "fc_reg_df[has_spec_sym]['duration_minutes']"
   ]
  },
  {
   "cell_type": "code",
   "execution_count": 230,
   "id": "f0ab9ff0",
   "metadata": {},
   "outputs": [],
   "source": [
    "fc_reg_df['duration_minutes'] = (fc_reg_df['duration_minutes']\n",
    "                .astype(str)                 # Convert to string (NaN -> 'nan')\n",
    "                .str.split('/')              # Split by '/'\n",
    "                .str[0]                     # Take first part\n",
    "                .str.strip()                # Strip whitespace\n",
    "                .replace('nan', '-1')       # Replace 'nan' string with '-1'\n",
    "                .astype(float)              # Convert to float\n",
    "                .astype(int)                # Convert to int\n",
    "            )"
   ]
  },
  {
   "cell_type": "code",
   "execution_count": 232,
   "id": "4a148610",
   "metadata": {},
   "outputs": [
    {
     "name": "stdout",
     "output_type": "stream",
     "text": [
      "Column duration_minutes has only one type: <class 'int'>\n"
     ]
    }
   ],
   "source": [
    "not_same_types(fc_reg_df, 'duration_minutes')"
   ]
  },
  {
   "cell_type": "code",
   "execution_count": null,
   "id": "e7793e9f",
   "metadata": {},
   "outputs": [
    {
     "data": {
      "application/vnd.microsoft.datawrangler.viewer.v0+json": {
       "columns": [
        {
         "name": "number_of_episodes",
         "rawType": "object",
         "type": "unknown"
        },
        {
         "name": "count",
         "rawType": "int64",
         "type": "integer"
        }
       ],
       "ref": "b396976a-5d64-4b2f-8cd4-9ab1f6fb7232",
       "rows": [
        [
         "<class 'float'>",
         "278654"
        ],
        [
         "<class 'str'>",
         "19312"
        ]
       ],
       "shape": {
        "columns": 1,
        "rows": 2
       }
      },
      "text/plain": [
       "number_of_episodes\n",
       "<class 'float'>    278654\n",
       "<class 'str'>       19312\n",
       "Name: count, dtype: int64"
      ]
     },
     "execution_count": 234,
     "metadata": {},
     "output_type": "execute_result"
    }
   ],
   "source": [
    "not_same_types(fc_reg_df, 'number_of_episodes')"
   ]
  },
  {
   "cell_type": "code",
   "execution_count": 236,
   "id": "9455776d",
   "metadata": {},
   "outputs": [
    {
     "data": {
      "application/vnd.microsoft.datawrangler.viewer.v0+json": {
       "columns": [
        {
         "name": "index",
         "rawType": "int64",
         "type": "integer"
        },
        {
         "name": "text_property",
         "rawType": "object",
         "type": "string"
        },
        {
         "name": "count",
         "rawType": "int64",
         "type": "integer"
        }
       ],
       "ref": "1db4288f-8ee5-4040-aba4-e67c3c9c5a91",
       "rows": [
        [
         "0",
         "is_digit",
         "19309"
        ],
        [
         "1",
         "is_alpha",
         "0"
        ],
        [
         "2",
         "is_empty",
         "0"
        ],
        [
         "3",
         "has_special_symbols",
         "3"
        ],
        [
         "4",
         "has_letters",
         "3"
        ],
        [
         "5",
         "has_dots",
         "278654"
        ],
        [
         "6",
         "has_commas",
         "0"
        ],
        [
         "7",
         "has_spaces",
         "3"
        ],
        [
         "8",
         "nans_nulls",
         "447698"
        ],
        [
         "9",
         "etc",
         "0"
        ]
       ],
       "shape": {
        "columns": 2,
        "rows": 10
       }
      },
      "text/html": [
       "<div>\n",
       "<style scoped>\n",
       "    .dataframe tbody tr th:only-of-type {\n",
       "        vertical-align: middle;\n",
       "    }\n",
       "\n",
       "    .dataframe tbody tr th {\n",
       "        vertical-align: top;\n",
       "    }\n",
       "\n",
       "    .dataframe thead th {\n",
       "        text-align: right;\n",
       "    }\n",
       "</style>\n",
       "<table border=\"1\" class=\"dataframe\">\n",
       "  <thead>\n",
       "    <tr style=\"text-align: right;\">\n",
       "      <th></th>\n",
       "      <th>text_property</th>\n",
       "      <th>count</th>\n",
       "    </tr>\n",
       "  </thead>\n",
       "  <tbody>\n",
       "    <tr>\n",
       "      <th>0</th>\n",
       "      <td>is_digit</td>\n",
       "      <td>19309</td>\n",
       "    </tr>\n",
       "    <tr>\n",
       "      <th>1</th>\n",
       "      <td>is_alpha</td>\n",
       "      <td>0</td>\n",
       "    </tr>\n",
       "    <tr>\n",
       "      <th>2</th>\n",
       "      <td>is_empty</td>\n",
       "      <td>0</td>\n",
       "    </tr>\n",
       "    <tr>\n",
       "      <th>3</th>\n",
       "      <td>has_special_symbols</td>\n",
       "      <td>3</td>\n",
       "    </tr>\n",
       "    <tr>\n",
       "      <th>4</th>\n",
       "      <td>has_letters</td>\n",
       "      <td>3</td>\n",
       "    </tr>\n",
       "    <tr>\n",
       "      <th>5</th>\n",
       "      <td>has_dots</td>\n",
       "      <td>278654</td>\n",
       "    </tr>\n",
       "    <tr>\n",
       "      <th>6</th>\n",
       "      <td>has_commas</td>\n",
       "      <td>0</td>\n",
       "    </tr>\n",
       "    <tr>\n",
       "      <th>7</th>\n",
       "      <td>has_spaces</td>\n",
       "      <td>3</td>\n",
       "    </tr>\n",
       "    <tr>\n",
       "      <th>8</th>\n",
       "      <td>nans_nulls</td>\n",
       "      <td>447698</td>\n",
       "    </tr>\n",
       "    <tr>\n",
       "      <th>9</th>\n",
       "      <td>etc</td>\n",
       "      <td>0</td>\n",
       "    </tr>\n",
       "  </tbody>\n",
       "</table>\n",
       "</div>"
      ],
      "text/plain": [
       "         text_property   count\n",
       "0             is_digit   19309\n",
       "1             is_alpha       0\n",
       "2             is_empty       0\n",
       "3  has_special_symbols       3\n",
       "4          has_letters       3\n",
       "5             has_dots  278654\n",
       "6           has_commas       0\n",
       "7           has_spaces       3\n",
       "8           nans_nulls  447698\n",
       "9                  etc       0"
      ]
     },
     "execution_count": 236,
     "metadata": {},
     "output_type": "execute_result"
    }
   ],
   "source": [
    "str_class(fc_reg_df, 'number_of_episodes')"
   ]
  },
  {
   "cell_type": "code",
   "execution_count": 237,
   "id": "c8096e6f",
   "metadata": {},
   "outputs": [
    {
     "data": {
      "application/vnd.microsoft.datawrangler.viewer.v0+json": {
       "columns": [
        {
         "name": "index",
         "rawType": "int64",
         "type": "integer"
        },
        {
         "name": "number_of_episodes",
         "rawType": "object",
         "type": "string"
        }
       ],
       "ref": "28f0144c-fa25-4d33-8f9b-40982fcc90b5",
       "rows": [
        [
         "190215",
         "5 (4-8 из 8)"
        ],
        [
         "639780",
         "5 (4-8 из 8)"
        ],
        [
         "742948",
         "5 (4-8 из 8)"
        ]
       ],
       "shape": {
        "columns": 1,
        "rows": 3
       }
      },
      "text/plain": [
       "190215    5 (4-8 из 8)\n",
       "639780    5 (4-8 из 8)\n",
       "742948    5 (4-8 из 8)\n",
       "Name: number_of_episodes, dtype: object"
      ]
     },
     "execution_count": 237,
     "metadata": {},
     "output_type": "execute_result"
    }
   ],
   "source": [
    "# find special characters in number_of_episodes\n",
    "has_spec_sym = fc_reg_df['number_of_episodes'].astype(str).apply(lambda x: bool(re.search(r'[^a-zA-Zа-яА-ЯёЁ0-9\\s.,]', x)))\n",
    "fc_reg_df[has_spec_sym]['number_of_episodes']"
   ]
  },
  {
   "cell_type": "code",
   "execution_count": 243,
   "id": "2ee61931",
   "metadata": {},
   "outputs": [
    {
     "data": {
      "application/vnd.microsoft.datawrangler.viewer.v0+json": {
       "columns": [
        {
         "name": "index",
         "rawType": "int64",
         "type": "integer"
        },
        {
         "name": "number_of_episodes",
         "rawType": "object",
         "type": "string"
        }
       ],
       "ref": "cf92c9df-b9f7-4a11-90ee-f0afba70cab9",
       "rows": [
        [
         "190215",
         "5 (4-8 из 8)"
        ],
        [
         "639780",
         "5 (4-8 из 8)"
        ],
        [
         "742948",
         "5 (4-8 из 8)"
        ]
       ],
       "shape": {
        "columns": 1,
        "rows": 3
       }
      },
      "text/plain": [
       "190215    5 (4-8 из 8)\n",
       "639780    5 (4-8 из 8)\n",
       "742948    5 (4-8 из 8)\n",
       "Name: number_of_episodes, dtype: object"
      ]
     },
     "execution_count": 243,
     "metadata": {},
     "output_type": "execute_result"
    }
   ],
   "source": [
    "# find space in number_of_episodes\n",
    "has_space = fc_reg_df['number_of_episodes'].astype(str).apply(lambda x: ' ' in x)\n",
    "fc_reg_df[has_space]['number_of_episodes']"
   ]
  },
  {
   "cell_type": "code",
   "execution_count": 246,
   "id": "9f4cc154",
   "metadata": {},
   "outputs": [
    {
     "data": {
      "application/vnd.microsoft.datawrangler.viewer.v0+json": {
       "columns": [
        {
         "name": "index",
         "rawType": "int64",
         "type": "integer"
        },
        {
         "name": "number_of_episodes",
         "rawType": "int64",
         "type": "integer"
        }
       ],
       "ref": "e161ce96-236a-4416-98f8-22d193614107",
       "rows": [
        [
         "0",
         "-1"
        ],
        [
         "1",
         "-1"
        ],
        [
         "2",
         "1"
        ],
        [
         "3",
         "2"
        ],
        [
         "4",
         "1"
        ]
       ],
       "shape": {
        "columns": 1,
        "rows": 5
       }
      },
      "text/plain": [
       "0   -1\n",
       "1   -1\n",
       "2    1\n",
       "3    2\n",
       "4    1\n",
       "Name: number_of_episodes, dtype: int64"
      ]
     },
     "execution_count": 246,
     "metadata": {},
     "output_type": "execute_result"
    }
   ],
   "source": [
    "# remove everything after '(' in number_of_episodes\n",
    "# and replace 'nan' with '-1', strip whitespace, convert to float and then to int\n",
    "fc_reg_df['number_of_episodes'] = fc_reg_df['number_of_episodes'].astype(str).str.split('(').str[0].replace('nan', '-1').str.strip().astype(float).astype(int)\n",
    "fc_reg_df['number_of_episodes'].head()"
   ]
  },
  {
   "cell_type": "code",
   "execution_count": 252,
   "id": "266e36ad",
   "metadata": {},
   "outputs": [
    {
     "data": {
      "application/vnd.microsoft.datawrangler.viewer.v0+json": {
       "columns": [
        {
         "name": "media_size",
         "rawType": "object",
         "type": "unknown"
        },
        {
         "name": "count",
         "rawType": "int64",
         "type": "integer"
        }
       ],
       "ref": "97e19077-ed75-472a-96eb-03c66161fedc",
       "rows": [
        [
         "<class 'str'>",
         "27086"
        ],
        [
         "<class 'float'>",
         "3"
        ]
       ],
       "shape": {
        "columns": 1,
        "rows": 2
       }
      },
      "text/plain": [
       "media_size\n",
       "<class 'str'>      27086\n",
       "<class 'float'>        3\n",
       "Name: count, dtype: int64"
      ]
     },
     "execution_count": 252,
     "metadata": {},
     "output_type": "execute_result"
    }
   ],
   "source": [
    "not_same_types(fc_reg_df,'media_size')\n"
   ]
  },
  {
   "cell_type": "code",
   "execution_count": 253,
   "id": "167430e5",
   "metadata": {},
   "outputs": [
    {
     "data": {
      "application/vnd.microsoft.datawrangler.viewer.v0+json": {
       "columns": [
        {
         "name": "index",
         "rawType": "int64",
         "type": "integer"
        },
        {
         "name": "text_property",
         "rawType": "object",
         "type": "string"
        },
        {
         "name": "count",
         "rawType": "int64",
         "type": "integer"
        }
       ],
       "ref": "24eb9714-3f62-467c-83f1-176316889719",
       "rows": [
        [
         "0",
         "is_digit",
         "16871"
        ],
        [
         "1",
         "is_alpha",
         "0"
        ],
        [
         "2",
         "is_empty",
         "0"
        ],
        [
         "3",
         "has_special_symbols",
         "8"
        ],
        [
         "4",
         "has_letters",
         "122"
        ],
        [
         "5",
         "has_dots",
         "2105"
        ],
        [
         "6",
         "has_commas",
         "8036"
        ],
        [
         "7",
         "has_spaces",
         "119"
        ],
        [
         "8",
         "nans_nulls",
         "718575"
        ],
        [
         "9",
         "etc",
         "0"
        ]
       ],
       "shape": {
        "columns": 2,
        "rows": 10
       }
      },
      "text/html": [
       "<div>\n",
       "<style scoped>\n",
       "    .dataframe tbody tr th:only-of-type {\n",
       "        vertical-align: middle;\n",
       "    }\n",
       "\n",
       "    .dataframe tbody tr th {\n",
       "        vertical-align: top;\n",
       "    }\n",
       "\n",
       "    .dataframe thead th {\n",
       "        text-align: right;\n",
       "    }\n",
       "</style>\n",
       "<table border=\"1\" class=\"dataframe\">\n",
       "  <thead>\n",
       "    <tr style=\"text-align: right;\">\n",
       "      <th></th>\n",
       "      <th>text_property</th>\n",
       "      <th>count</th>\n",
       "    </tr>\n",
       "  </thead>\n",
       "  <tbody>\n",
       "    <tr>\n",
       "      <th>0</th>\n",
       "      <td>is_digit</td>\n",
       "      <td>16871</td>\n",
       "    </tr>\n",
       "    <tr>\n",
       "      <th>1</th>\n",
       "      <td>is_alpha</td>\n",
       "      <td>0</td>\n",
       "    </tr>\n",
       "    <tr>\n",
       "      <th>2</th>\n",
       "      <td>is_empty</td>\n",
       "      <td>0</td>\n",
       "    </tr>\n",
       "    <tr>\n",
       "      <th>3</th>\n",
       "      <td>has_special_symbols</td>\n",
       "      <td>8</td>\n",
       "    </tr>\n",
       "    <tr>\n",
       "      <th>4</th>\n",
       "      <td>has_letters</td>\n",
       "      <td>122</td>\n",
       "    </tr>\n",
       "    <tr>\n",
       "      <th>5</th>\n",
       "      <td>has_dots</td>\n",
       "      <td>2105</td>\n",
       "    </tr>\n",
       "    <tr>\n",
       "      <th>6</th>\n",
       "      <td>has_commas</td>\n",
       "      <td>8036</td>\n",
       "    </tr>\n",
       "    <tr>\n",
       "      <th>7</th>\n",
       "      <td>has_spaces</td>\n",
       "      <td>119</td>\n",
       "    </tr>\n",
       "    <tr>\n",
       "      <th>8</th>\n",
       "      <td>nans_nulls</td>\n",
       "      <td>718575</td>\n",
       "    </tr>\n",
       "    <tr>\n",
       "      <th>9</th>\n",
       "      <td>etc</td>\n",
       "      <td>0</td>\n",
       "    </tr>\n",
       "  </tbody>\n",
       "</table>\n",
       "</div>"
      ],
      "text/plain": [
       "         text_property   count\n",
       "0             is_digit   16871\n",
       "1             is_alpha       0\n",
       "2             is_empty       0\n",
       "3  has_special_symbols       8\n",
       "4          has_letters     122\n",
       "5             has_dots    2105\n",
       "6           has_commas    8036\n",
       "7           has_spaces     119\n",
       "8           nans_nulls  718575\n",
       "9                  etc       0"
      ]
     },
     "execution_count": 253,
     "metadata": {},
     "output_type": "execute_result"
    }
   ],
   "source": [
    "str_class(fc_reg_df, 'media_size')"
   ]
  },
  {
   "cell_type": "code",
   "execution_count": 276,
   "id": "9f9d9959",
   "metadata": {},
   "outputs": [
    {
     "data": {
      "application/vnd.microsoft.datawrangler.viewer.v0+json": {
       "columns": [
        {
         "name": "index",
         "rawType": "int64",
         "type": "integer"
        },
        {
         "name": "media_size",
         "rawType": "object",
         "type": "string"
        }
       ],
       "ref": "0caf9ad4-ab24-4cc9-93a6-39e8a9d09767",
       "rows": [
        [
         "14472",
         "51.2"
        ],
        [
         "14846",
         "889Гб."
        ],
        [
         "14914",
         "104"
        ],
        [
         "15770",
         "46"
        ],
        [
         "15923",
         "1"
        ]
       ],
       "shape": {
        "columns": 1,
        "rows": 5
       }
      },
      "text/plain": [
       "14472      51.2\n",
       "14846    889Гб.\n",
       "14914       104\n",
       "15770        46\n",
       "15923         1\n",
       "Name: media_size, dtype: object"
      ]
     },
     "execution_count": 276,
     "metadata": {},
     "output_type": "execute_result"
    }
   ],
   "source": [
    "fc_reg_df['media_size'] = fc_reg_df['media_size'].astype(str).str.replace(',', '.')\n",
    "fc_reg_df[fc_reg_df['media_size'] != 'nan']['media_size'].head()"
   ]
  },
  {
   "cell_type": "code",
   "execution_count": 277,
   "id": "6063f076",
   "metadata": {},
   "outputs": [
    {
     "data": {
      "application/vnd.microsoft.datawrangler.viewer.v0+json": {
       "columns": [
        {
         "name": "index",
         "rawType": "int64",
         "type": "integer"
        },
        {
         "name": "media_size",
         "rawType": "object",
         "type": "string"
        }
       ],
       "ref": "57c255ee-c0e8-4bd4-98fc-7dfaf5def1ae",
       "rows": [
        [
         "86809",
         "100/170 "
        ],
        [
         "179729",
         "100/170 "
        ],
        [
         "190936",
         "3400/5585"
        ],
        [
         "451545",
         "100/170 "
        ],
        [
         "629293",
         "100/170 "
        ],
        [
         "640500",
         "3400/5585"
        ],
        [
         "732462",
         "100/170 "
        ],
        [
         "743668",
         "3400/5585"
        ]
       ],
       "shape": {
        "columns": 1,
        "rows": 8
       }
      },
      "text/plain": [
       "86809      100/170 \n",
       "179729     100/170 \n",
       "190936    3400/5585\n",
       "451545     100/170 \n",
       "629293     100/170 \n",
       "640500    3400/5585\n",
       "732462     100/170 \n",
       "743668    3400/5585\n",
       "Name: media_size, dtype: object"
      ]
     },
     "execution_count": 277,
     "metadata": {},
     "output_type": "execute_result"
    }
   ],
   "source": [
    "# find special characters in number_of_episodes\n",
    "has_spec_sym = fc_reg_df['media_size'].astype(str).apply(lambda x: bool(re.search(r'[^a-zA-Zа-яА-ЯёЁ0-9\\s.,]', x)))\n",
    "fc_reg_df[has_spec_sym]['media_size']"
   ]
  },
  {
   "cell_type": "code",
   "execution_count": 281,
   "id": "66d89b6b",
   "metadata": {},
   "outputs": [
    {
     "data": {
      "application/vnd.microsoft.datawrangler.viewer.v0+json": {
       "columns": [
        {
         "name": "index",
         "rawType": "int64",
         "type": "integer"
        },
        {
         "name": "media_size",
         "rawType": "object",
         "type": "string"
        },
        {
         "name": "unit_of_measurement",
         "rawType": "object",
         "type": "unknown"
        }
       ],
       "ref": "20866764-7e93-46ed-b725-3e0c056069bc",
       "rows": [
        [
         "14846",
         "889Гб.",
         null
        ],
        [
         "87602",
         "1.3 Тб",
         null
        ],
        [
         "89672",
         "664 Гб",
         null
        ],
        [
         "89738",
         "58 Гб",
         null
        ],
        [
         "89853",
         "119 Гб",
         null
        ],
        [
         "90811",
         "500 Гб ",
         null
        ],
        [
         "91055",
         "1.2 Тб",
         null
        ],
        [
         "91063",
         "85 Гб",
         null
        ],
        [
         "91125",
         "52 Гб",
         null
        ],
        [
         "91554",
         "1.1 Тб",
         null
        ],
        [
         "91584",
         "800 Гб",
         null
        ],
        [
         "92614",
         "1.2 Тб",
         null
        ],
        [
         "93216",
         "151 Гб",
         null
        ],
        [
         "108341",
         "889Гб.",
         null
        ],
        [
         "180524",
         "1.3 Тб",
         null
        ],
        [
         "182598",
         "664 Гб",
         null
        ],
        [
         "182664",
         "58 Гб",
         null
        ],
        [
         "182779",
         "119 Гб",
         null
        ],
        [
         "183728",
         "500 Гб ",
         null
        ],
        [
         "183972",
         "1.2 Тб",
         null
        ],
        [
         "183980",
         "85 Гб",
         null
        ],
        [
         "184042",
         "52 Гб",
         null
        ],
        [
         "184471",
         "1.1 Тб",
         null
        ],
        [
         "184502",
         "800 Гб",
         null
        ],
        [
         "185514",
         "50 Гб",
         null
        ],
        [
         "186131",
         "1.07 Тб",
         null
        ],
        [
         "186168",
         "1.1 Тб",
         null
        ],
        [
         "186490",
         "195 Гб",
         null
        ],
        [
         "186746",
         "935 Гб",
         null
        ],
        [
         "187944",
         "180 Гб",
         null
        ],
        [
         "188110",
         "175 Гб",
         null
        ],
        [
         "190787",
         "1 ТБ",
         null
        ],
        [
         "190798",
         "2 ТБ",
         null
        ],
        [
         "190816",
         "8 ТБ",
         null
        ],
        [
         "190823",
         "1 ТБ",
         null
        ],
        [
         "190829",
         "4 ТБ",
         null
        ],
        [
         "190854",
         "4 ТБ",
         null
        ],
        [
         "191273",
         "4 ТБ",
         null
        ],
        [
         "191573",
         "4.7 Гб",
         null
        ],
        [
         "192101",
         "1.1 Тб",
         null
        ],
        [
         "192345",
         "3.45 Гб",
         null
        ],
        [
         "192346",
         "3.55 ГБ",
         null
        ],
        [
         "192347",
         "4.3 Гб",
         null
        ],
        [
         "192349",
         "4.7 ГБ",
         null
        ],
        [
         "192350",
         "4.7 ГБ",
         null
        ],
        [
         "192460",
         "1.2 Тб",
         null
        ],
        [
         "379587",
         "889Гб.",
         null
        ],
        [
         "467251",
         "889Гб.",
         null
        ],
        [
         "539221",
         "1.2 Тб",
         null
        ],
        [
         "539858",
         "151 Гб",
         null
        ]
       ],
       "shape": {
        "columns": 2,
        "rows": 122
       }
      },
      "text/html": [
       "<div>\n",
       "<style scoped>\n",
       "    .dataframe tbody tr th:only-of-type {\n",
       "        vertical-align: middle;\n",
       "    }\n",
       "\n",
       "    .dataframe tbody tr th {\n",
       "        vertical-align: top;\n",
       "    }\n",
       "\n",
       "    .dataframe thead th {\n",
       "        text-align: right;\n",
       "    }\n",
       "</style>\n",
       "<table border=\"1\" class=\"dataframe\">\n",
       "  <thead>\n",
       "    <tr style=\"text-align: right;\">\n",
       "      <th></th>\n",
       "      <th>media_size</th>\n",
       "      <th>unit_of_measurement</th>\n",
       "    </tr>\n",
       "  </thead>\n",
       "  <tbody>\n",
       "    <tr>\n",
       "      <th>14846</th>\n",
       "      <td>889Гб.</td>\n",
       "      <td>NaN</td>\n",
       "    </tr>\n",
       "    <tr>\n",
       "      <th>87602</th>\n",
       "      <td>1.3 Тб</td>\n",
       "      <td>NaN</td>\n",
       "    </tr>\n",
       "    <tr>\n",
       "      <th>89672</th>\n",
       "      <td>664 Гб</td>\n",
       "      <td>NaN</td>\n",
       "    </tr>\n",
       "    <tr>\n",
       "      <th>89738</th>\n",
       "      <td>58 Гб</td>\n",
       "      <td>NaN</td>\n",
       "    </tr>\n",
       "    <tr>\n",
       "      <th>89853</th>\n",
       "      <td>119 Гб</td>\n",
       "      <td>NaN</td>\n",
       "    </tr>\n",
       "    <tr>\n",
       "      <th>...</th>\n",
       "      <td>...</td>\n",
       "      <td>...</td>\n",
       "    </tr>\n",
       "    <tr>\n",
       "      <th>745084</th>\n",
       "      <td>3.55 ГБ</td>\n",
       "      <td>NaN</td>\n",
       "    </tr>\n",
       "    <tr>\n",
       "      <th>745085</th>\n",
       "      <td>4.3 Гб</td>\n",
       "      <td>NaN</td>\n",
       "    </tr>\n",
       "    <tr>\n",
       "      <th>745087</th>\n",
       "      <td>4.7 ГБ</td>\n",
       "      <td>NaN</td>\n",
       "    </tr>\n",
       "    <tr>\n",
       "      <th>745088</th>\n",
       "      <td>4.7 ГБ</td>\n",
       "      <td>NaN</td>\n",
       "    </tr>\n",
       "    <tr>\n",
       "      <th>745198</th>\n",
       "      <td>1.2 Тб</td>\n",
       "      <td>NaN</td>\n",
       "    </tr>\n",
       "  </tbody>\n",
       "</table>\n",
       "<p>122 rows × 2 columns</p>\n",
       "</div>"
      ],
      "text/plain": [
       "       media_size unit_of_measurement\n",
       "14846      889Гб.                 NaN\n",
       "87602      1.3 Тб                 NaN\n",
       "89672      664 Гб                 NaN\n",
       "89738       58 Гб                 NaN\n",
       "89853      119 Гб                 NaN\n",
       "...           ...                 ...\n",
       "745084    3.55 ГБ                 NaN\n",
       "745085     4.3 Гб                 NaN\n",
       "745087     4.7 ГБ                 NaN\n",
       "745088     4.7 ГБ                 NaN\n",
       "745198     1.2 Тб                 NaN\n",
       "\n",
       "[122 rows x 2 columns]"
      ]
     },
     "execution_count": 281,
     "metadata": {},
     "output_type": "execute_result"
    }
   ],
   "source": [
    "# find letters in number_of_episodes\n",
    "has_letters = fc_reg_df['media_size'].astype(str).apply(lambda x: any(c.isalpha() for c in x) if x and (x != 'nan') else False)\n",
    "fc_reg_df[has_letters][['media_size', 'unit_of_measurement']]"
   ]
  },
  {
   "cell_type": "code",
   "execution_count": null,
   "id": "f6d11947",
   "metadata": {},
   "outputs": [
    {
     "data": {
      "application/vnd.microsoft.datawrangler.viewer.v0+json": {
       "columns": [
        {
         "name": "index",
         "rawType": "int64",
         "type": "integer"
        },
        {
         "name": "media_size",
         "rawType": "object",
         "type": "unknown"
        }
       ],
       "ref": "7edca530-72ed-4b27-bb96-0f6297cbdd30",
       "rows": [
        [
         "0",
         "['-1']"
        ],
        [
         "1",
         "['-1']"
        ],
        [
         "2",
         "['-1']"
        ],
        [
         "3",
         "['-1']"
        ],
        [
         "4",
         "['-1']"
        ],
        [
         "5",
         "['-1']"
        ],
        [
         "6",
         "['-1']"
        ],
        [
         "7",
         "['-1']"
        ],
        [
         "8",
         "['-1']"
        ],
        [
         "9",
         "['-1']"
        ],
        [
         "10",
         "['-1']"
        ],
        [
         "11",
         "['-1']"
        ],
        [
         "12",
         "['-1']"
        ],
        [
         "13",
         "['-1']"
        ],
        [
         "14",
         "['-1']"
        ],
        [
         "15",
         "['-1']"
        ],
        [
         "16",
         "['-1']"
        ],
        [
         "17",
         "['-1']"
        ],
        [
         "18",
         "['-1']"
        ],
        [
         "19",
         "['-1']"
        ],
        [
         "20",
         "['-1']"
        ],
        [
         "21",
         "['-1']"
        ],
        [
         "22",
         "['-1']"
        ],
        [
         "23",
         "['-1']"
        ],
        [
         "24",
         "['-1']"
        ],
        [
         "25",
         "['-1']"
        ],
        [
         "26",
         "['-1']"
        ],
        [
         "27",
         "['-1']"
        ],
        [
         "28",
         "['-1']"
        ],
        [
         "29",
         "['-1']"
        ],
        [
         "30",
         "['-1']"
        ],
        [
         "31",
         "['-1']"
        ],
        [
         "32",
         "['-1']"
        ],
        [
         "33",
         "['-1']"
        ],
        [
         "34",
         "['-1']"
        ],
        [
         "35",
         "['-1']"
        ],
        [
         "36",
         "['-1']"
        ],
        [
         "37",
         "['-1']"
        ],
        [
         "38",
         "['-1']"
        ],
        [
         "39",
         "['-1']"
        ],
        [
         "40",
         "['-1']"
        ],
        [
         "41",
         "['-1']"
        ],
        [
         "42",
         "['-1']"
        ],
        [
         "43",
         "['-1']"
        ],
        [
         "44",
         "['-1']"
        ],
        [
         "45",
         "['-1']"
        ],
        [
         "46",
         "['-1']"
        ],
        [
         "47",
         "['-1']"
        ],
        [
         "48",
         "['-1']"
        ],
        [
         "49",
         "['-1']"
        ]
       ],
       "shape": {
        "columns": 1,
        "rows": 745664
       }
      },
      "text/plain": [
       "0           [-1]\n",
       "1           [-1]\n",
       "2           [-1]\n",
       "3           [-1]\n",
       "4           [-1]\n",
       "           ...  \n",
       "745659      [-1]\n",
       "745660      [-1]\n",
       "745661      [-1]\n",
       "745662    [2.41]\n",
       "745663    [2.41]\n",
       "Name: media_size, Length: 745664, dtype: object"
      ]
     },
     "execution_count": 283,
     "metadata": {},
     "output_type": "execute_result"
    }
   ],
   "source": [
    "units_list = ['ГБ', 'ГБ.', 'ТБ', 'ТБ.','Гб', 'Гб.', 'Тб', 'Тб.']\n",
    "\n",
    "# find units from units_list in media_size and split by unit\n",
    "for unit in units_list:\n",
    "    mask = fc_reg_df['media_size'].astype(str).str.contains(unit, na=False)\n",
    "    if mask.any():\n",
    "        fc_reg_df.loc[mask, 'media_size'] = fc_reg_df.loc[mask, 'media_size'].str.split(unit).str[0].str.strip()\n",
    "        fc_reg_df.loc[mask, 'unit_of_measurement'] = unit\n",
    "\n",
    "\n"
   ]
  },
  {
   "cell_type": "code",
   "execution_count": 280,
   "id": "07785007",
   "metadata": {},
   "outputs": [
    {
     "data": {
      "application/vnd.microsoft.datawrangler.viewer.v0+json": {
       "columns": [
        {
         "name": "unit_of_measurement",
         "rawType": "object",
         "type": "string"
        },
        {
         "name": "count",
         "rawType": "int64",
         "type": "integer"
        }
       ],
       "ref": "d59e8ff1-2de4-4a24-9304-fd89f670ec7e",
       "rows": [
        [
         "Гб",
         "15200"
        ],
        [
         "Тб",
         "11480"
        ],
        [
         "Мб",
         "84"
        ],
        [
         "ГБ",
         "30"
        ],
        [
         "ТБ",
         "12"
        ],
        [
         "Gb",
         "4"
        ]
       ],
       "shape": {
        "columns": 1,
        "rows": 6
       }
      },
      "text/plain": [
       "unit_of_measurement\n",
       "Гб    15200\n",
       "Тб    11480\n",
       "Мб       84\n",
       "ГБ       30\n",
       "ТБ       12\n",
       "Gb        4\n",
       "Name: count, dtype: int64"
      ]
     },
     "execution_count": 280,
     "metadata": {},
     "output_type": "execute_result"
    }
   ],
   "source": [
    "fc_reg_df['unit_of_measurement'].value_counts()"
   ]
  },
  {
   "cell_type": "code",
   "execution_count": 284,
   "id": "0bfde832",
   "metadata": {},
   "outputs": [
    {
     "data": {
      "application/vnd.microsoft.datawrangler.viewer.v0+json": {
       "columns": [
        {
         "name": "index",
         "rawType": "int64",
         "type": "integer"
        },
        {
         "name": "media_size",
         "rawType": "object",
         "type": "string"
        }
       ],
       "ref": "f3b6a16b-9d1f-48b5-9a2a-91fae79a9786",
       "rows": [
        [
         "0",
         "-1"
        ],
        [
         "1",
         "-1"
        ],
        [
         "2",
         "-1"
        ],
        [
         "3",
         "-1"
        ],
        [
         "4",
         "-1"
        ],
        [
         "5",
         "-1"
        ],
        [
         "6",
         "-1"
        ],
        [
         "7",
         "-1"
        ],
        [
         "8",
         "-1"
        ],
        [
         "9",
         "-1"
        ],
        [
         "10",
         "-1"
        ],
        [
         "11",
         "-1"
        ],
        [
         "12",
         "-1"
        ],
        [
         "13",
         "-1"
        ],
        [
         "14",
         "-1"
        ],
        [
         "15",
         "-1"
        ],
        [
         "16",
         "-1"
        ],
        [
         "17",
         "-1"
        ],
        [
         "18",
         "-1"
        ],
        [
         "19",
         "-1"
        ],
        [
         "20",
         "-1"
        ],
        [
         "21",
         "-1"
        ],
        [
         "22",
         "-1"
        ],
        [
         "23",
         "-1"
        ],
        [
         "24",
         "-1"
        ],
        [
         "25",
         "-1"
        ],
        [
         "26",
         "-1"
        ],
        [
         "27",
         "-1"
        ],
        [
         "28",
         "-1"
        ],
        [
         "29",
         "-1"
        ],
        [
         "30",
         "-1"
        ],
        [
         "31",
         "-1"
        ],
        [
         "32",
         "-1"
        ],
        [
         "33",
         "-1"
        ],
        [
         "34",
         "-1"
        ],
        [
         "35",
         "-1"
        ],
        [
         "36",
         "-1"
        ],
        [
         "37",
         "-1"
        ],
        [
         "38",
         "-1"
        ],
        [
         "39",
         "-1"
        ],
        [
         "40",
         "-1"
        ],
        [
         "41",
         "-1"
        ],
        [
         "42",
         "-1"
        ],
        [
         "43",
         "-1"
        ],
        [
         "44",
         "-1"
        ],
        [
         "45",
         "-1"
        ],
        [
         "46",
         "-1"
        ],
        [
         "47",
         "-1"
        ],
        [
         "48",
         "-1"
        ],
        [
         "49",
         "-1"
        ]
       ],
       "shape": {
        "columns": 1,
        "rows": 745664
       }
      },
      "text/plain": [
       "0           -1\n",
       "1           -1\n",
       "2           -1\n",
       "3           -1\n",
       "4           -1\n",
       "          ... \n",
       "745659      -1\n",
       "745660      -1\n",
       "745661      -1\n",
       "745662    2.41\n",
       "745663    2.41\n",
       "Name: media_size, Length: 745664, dtype: object"
      ]
     },
     "execution_count": 284,
     "metadata": {},
     "output_type": "execute_result"
    }
   ],
   "source": [
    "(fc_reg_df['media_size']\n",
    "                .astype(str)                 # Convert to string (NaN -> 'nan')\n",
    "                .str.split('/')              # Split by '/'\n",
    "                .str[0]                     # Take first part\n",
    "                .str.strip()                # Strip whitespace\n",
    "                .replace('nan', '-1')       # Replace 'nan' string with '-1'\n",
    "                # .astype(float)              # Convert to float\n",
    "                # .astype(int)                # Convert to int\n",
    "            )"
   ]
  },
  {
   "cell_type": "markdown",
   "id": "9df3d57c",
   "metadata": {},
   "source": [
    "## PostgreSQL DDL"
   ]
  },
  {
   "cell_type": "code",
   "execution_count": 6,
   "id": "fe39d7a6",
   "metadata": {},
   "outputs": [
    {
     "name": "stdout",
     "output_type": "stream",
     "text": [
      "Table 'employees' created\n",
      "Data inserted into 'employees' table\n"
     ]
    }
   ],
   "source": [
    "# Создание курсора\n",
    "conn = conn_pg()\n",
    "\n",
    "cur = conn.cursor()\n",
    "\n",
    "# Создание таблицы\n",
    "cur.execute('''\n",
    "CREATE TABLE IF NOT EXISTS employees (\n",
    "    id SERIAL PRIMARY KEY,\n",
    "    name VARCHAR(100),\n",
    "    position VARCHAR(100),\n",
    "    salary NUMERIC\n",
    ");\n",
    "''')\n",
    "print(\"Table 'employees' created\")\n",
    "\n",
    "# Вставка данных в таблицу\n",
    "cur.execute('''\n",
    "INSERT INTO employees (name, position, salary)\n",
    "VALUES ('Alice', 'Manager', 70000),\n",
    "        ('Bob', 'Developer', 60000),\n",
    "        ('Charlie', 'Designer', 50000);\n",
    "''')\n",
    "print(\"Data inserted into 'employees' table\")\n",
    "\n",
    "# Сохранение изменений\n",
    "conn.commit()\n"
   ]
  },
  {
   "cell_type": "code",
   "execution_count": 7,
   "id": "a07270d0",
   "metadata": {},
   "outputs": [],
   "source": [
    "# Закрытие курсора и соединения\n",
    "conn_pg_close(conn)"
   ]
  },
  {
   "cell_type": "code",
   "execution_count": 9,
   "id": "53a38892",
   "metadata": {},
   "outputs": [
    {
     "name": "stdout",
     "output_type": "stream",
     "text": [
      "Table 'employees' created in ClickHouse\n"
     ]
    }
   ],
   "source": [
    "try:\n",
    "    # Создание таблицы\n",
    "    client.command('''\n",
    "    CREATE TABLE IF NOT EXISTS dbch.employees (\n",
    "        id UInt32,\n",
    "        name String,\n",
    "        position String,\n",
    "        salary Float32\n",
    "    ) ENGINE = MergeTree()\n",
    "    ORDER BY id;\n",
    "    ''')\n",
    "    print(\"Table 'employees' created in ClickHouse\")\n",
    "\n",
    "except Exception as e:\n",
    "    print(f\"Error connecting to ClickHouse: {e}\")\n"
   ]
  },
  {
   "cell_type": "code",
   "execution_count": 15,
   "id": "87fc3458",
   "metadata": {},
   "outputs": [
    {
     "data": {
      "text/plain": [
       "<clickhouse_connect.driver.query.QueryResult at 0x25cb2336810>"
      ]
     },
     "execution_count": 15,
     "metadata": {},
     "output_type": "execute_result"
    }
   ],
   "source": [
    "client.query('select * from dbch.employees')"
   ]
  },
  {
   "cell_type": "code",
   "execution_count": 16,
   "id": "c587c9de",
   "metadata": {},
   "outputs": [],
   "source": [
    "# # Correct way to insert rows\n",
    "# data = [\n",
    "#     (1, 'Alice', 'Manager', 70000.0),\n",
    "#     (2, 'Bob', 'Developer', 60000.0),\n",
    "#     (3, 'Charlie', 'Designer', 50000.0)\n",
    "# ]\n",
    "\n",
    "# client.insert('dbch.employees', data, column_names=['id', 'name', 'position', 'salary'])"
   ]
  },
  {
   "cell_type": "code",
   "execution_count": null,
   "id": "5d668bfa",
   "metadata": {},
   "outputs": [],
   "source": []
  }
 ],
 "metadata": {
  "kernelspec": {
   "display_name": "de",
   "language": "python",
   "name": "python3"
  },
  "language_info": {
   "codemirror_mode": {
    "name": "ipython",
    "version": 3
   },
   "file_extension": ".py",
   "mimetype": "text/x-python",
   "name": "python",
   "nbconvert_exporter": "python",
   "pygments_lexer": "ipython3",
   "version": "3.12.11"
  }
 },
 "nbformat": 4,
 "nbformat_minor": 5
}
